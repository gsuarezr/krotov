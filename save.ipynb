{
 "cells": [
  {
   "cell_type": "code",
   "execution_count": 1,
   "id": "e9297242",
   "metadata": {
    "id": "55eb7a00"
   },
   "outputs": [],
   "source": [
    "#import krotov\n",
    "#import qutip as qt# NBVAL_IGNORE_OUTPUT\n",
    "#import qutip\n",
    "#import numpy as np\n",
    "#import scipy\n",
    "#import matplotlib\n",
    "#import matplotlib.pylab as plt\n",
    "#import krotov\n",
    "import numpy as np\n",
    "import sympy as sp\n",
    "from sympy import Function,Symbol,symbols,zeros,Matrix,sqrt,simplify,solve,diff,dsolve,lambdify\n",
    "from scipy.integrate import odeint\n",
    "import matplotlib.pyplot as plt"
   ]
  },
  {
   "cell_type": "code",
   "execution_count": 2,
   "id": "783cee79",
   "metadata": {
    "id": "c348f286"
   },
   "outputs": [],
   "source": [
    "t=Symbol('t')\n",
    "x = Function('x')(t)\n",
    "c= Function('c')(t)\n",
    "x1 = Function('x1')(t)\n",
    "x2 = Function('x2')(t)\n",
    "p1= Function('p1')(t)\n",
    "p2 = Function('p2')(t)\n",
    "e=Function('e')(t)\n",
    "mu,g=symbols('mu g')\n",
    "x11,x12,p11,p12,e1,de1,c1=symbols('x1 x2 p1 p2 e de c')\n",
    "de=diff(e,t)\n",
    "F=zeros(2,2)\n",
    "F[0,1]=1\n",
    "F[1,0]=-1\n",
    "B=zeros(2,2)\n",
    "B[0,0]=1\n",
    "B[1,1]=-1\n",
    "#A=np.block([\n",
    " #       [g*B+F,             Matrix([[0,0],[0,0]])],\n",
    "  #      [Matrix([[0,0],[0,0]]), g*B  +F             ]\n",
    "   #     ])\n",
    "Omega=sp.Matrix([[0,0,0,0,0],[0,0,0,1,0],[0,0,0,0,1],[0,-1,0,0,0],[0,0,-1,0,0]])\n",
    "A=sp.Matrix([[0,0,0,0,0],[0,0,0,1,g],[0,0,0,g,1],[0,-1,-g,0,0],[0,-g,-1,0,0]])\n",
    "d=[]\n",
    "d.append(c)\n",
    "d.append(-sqrt(2)*mu*e*c)\n",
    "d.append(0)\n",
    "d.append(0)\n",
    "d.append(0)\n",
    "v=[]\n",
    "v.append(c)\n",
    "v.append(x1)\n",
    "v.append(x2)\n",
    "v.append(p1)\n",
    "v.append(p2)"
   ]
  },
  {
   "cell_type": "code",
   "execution_count": 3,
   "id": "4b73efdf",
   "metadata": {},
   "outputs": [],
   "source": [
    "def to_symbols(expr):\n",
    "    return expr.subs({x1:x11,x2:x12,p1:p11,p2:p12,e:e1,diff(e,t):de1,c:c1})"
   ]
  },
  {
   "cell_type": "code",
   "execution_count": 4,
   "id": "f3528fb5",
   "metadata": {
    "scrolled": true
   },
   "outputs": [
    {
     "data": {
      "text/latex": [
       "$\\displaystyle \\left[\\begin{matrix}0 & 0 & 0 & 0 & 0\\\\0 & 0 & 0 & 1 & g\\\\0 & 0 & 0 & g & 1\\\\0 & -1 & - g & 0 & 0\\\\0 & - g & -1 & 0 & 0\\end{matrix}\\right]$"
      ],
      "text/plain": [
       "Matrix([\n",
       "[0,  0,  0, 0, 0],\n",
       "[0,  0,  0, 1, g],\n",
       "[0,  0,  0, g, 1],\n",
       "[0, -1, -g, 0, 0],\n",
       "[0, -g, -1, 0, 0]])"
      ]
     },
     "execution_count": 4,
     "metadata": {},
     "output_type": "execute_result"
    }
   ],
   "source": [
    "Matrix(A)"
   ]
  },
  {
   "cell_type": "code",
   "execution_count": 5,
   "id": "b435e053",
   "metadata": {
    "colab": {
     "base_uri": "https://localhost:8080/",
     "height": 114
    },
    "id": "7b20d788",
    "outputId": "72c1af1c-2d1b-4722-9114-1759e34137c4"
   },
   "outputs": [
    {
     "data": {
      "text/latex": [
       "$\\displaystyle \\left[\\begin{matrix}c\\\\x_{1}\\\\x_{2}\\\\p_{1}\\\\p_{2}\\end{matrix}\\right]$"
      ],
      "text/plain": [
       "Matrix([\n",
       "[ c],\n",
       "[x1],\n",
       "[x2],\n",
       "[p1],\n",
       "[p2]])"
      ]
     },
     "execution_count": 5,
     "metadata": {},
     "output_type": "execute_result"
    }
   ],
   "source": [
    "v=Matrix(v)\n",
    "to_symbols(v)"
   ]
  },
  {
   "cell_type": "code",
   "execution_count": 6,
   "id": "78a8c05c",
   "metadata": {
    "colab": {
     "base_uri": "https://localhost:8080/",
     "height": 146
    },
    "id": "dc77285a",
    "outputId": "5bd0ebfd-048a-4cf1-cfb4-2938f0015ebf",
    "scrolled": true
   },
   "outputs": [
    {
     "data": {
      "text/latex": [
       "$\\displaystyle \\left[\\begin{matrix}\\frac{d}{d t} c{\\left(t \\right)}\\\\- g \\operatorname{p_{2}}{\\left(t \\right)} - \\operatorname{p_{1}}{\\left(t \\right)} + \\frac{d}{d t} \\operatorname{x_{1}}{\\left(t \\right)}\\\\- g \\operatorname{p_{1}}{\\left(t \\right)} - \\operatorname{p_{2}}{\\left(t \\right)} + \\frac{d}{d t} \\operatorname{x_{2}}{\\left(t \\right)}\\\\g \\operatorname{x_{2}}{\\left(t \\right)} - \\sqrt{2} \\mu c{\\left(t \\right)} e{\\left(t \\right)} + \\operatorname{x_{1}}{\\left(t \\right)} + \\frac{d}{d t} \\operatorname{p_{1}}{\\left(t \\right)}\\\\g \\operatorname{x_{1}}{\\left(t \\right)} + \\operatorname{x_{2}}{\\left(t \\right)} + \\frac{d}{d t} \\operatorname{p_{2}}{\\left(t \\right)}\\end{matrix}\\right]$"
      ],
      "text/plain": [
       "Matrix([\n",
       "[                                          Derivative(c(t), t)],\n",
       "[                      -g*p2(t) - p1(t) + Derivative(x1(t), t)],\n",
       "[                      -g*p1(t) - p2(t) + Derivative(x2(t), t)],\n",
       "[g*x2(t) - sqrt(2)*mu*c(t)*e(t) + x1(t) + Derivative(p1(t), t)],\n",
       "[                       g*x1(t) + x2(t) + Derivative(p2(t), t)]])"
      ]
     },
     "execution_count": 6,
     "metadata": {},
     "output_type": "execute_result"
    }
   ],
   "source": [
    "r=simplify(diff(v,t)-Matrix(A)*Matrix(v)-Matrix(Omega)*Matrix(d))\n",
    "r"
   ]
  },
  {
   "cell_type": "code",
   "execution_count": 7,
   "id": "42ba451f",
   "metadata": {},
   "outputs": [],
   "source": [
    "vector=diff(Matrix([c,x1,x2,p1,p2]),t)"
   ]
  },
  {
   "cell_type": "code",
   "execution_count": 16,
   "id": "e0293e07",
   "metadata": {},
   "outputs": [],
   "source": [
    "import sympy\n",
    "#eqs=list(to_symbols(Matrix(A)*Matrix(v)))\n",
    "#t=sympy.linear_eq_to_matrix(eqs, [x11,x12,p11,p12,c1])[0]\n"
   ]
  },
  {
   "cell_type": "code",
   "execution_count": 9,
   "id": "d4ef55de",
   "metadata": {},
   "outputs": [],
   "source": [
    "#t2=sympy.linear_eq_to_matrix(eqs, [x11,x12,p11,p12,c1])[1]"
   ]
  },
  {
   "cell_type": "code",
   "execution_count": 10,
   "id": "ee12aa60",
   "metadata": {},
   "outputs": [],
   "source": [
    "#t*Matrix([x11,x12,p11,p12,c1])"
   ]
  },
  {
   "cell_type": "code",
   "execution_count": 8,
   "id": "3d606ffb",
   "metadata": {},
   "outputs": [
    {
     "data": {
      "text/latex": [
       "$\\displaystyle \\left[\\begin{matrix}0\\\\- g \\operatorname{p_{2}}{\\left(t \\right)} - \\operatorname{p_{1}}{\\left(t \\right)}\\\\- g \\operatorname{p_{1}}{\\left(t \\right)} - \\operatorname{p_{2}}{\\left(t \\right)}\\\\g \\operatorname{x_{2}}{\\left(t \\right)} - \\sqrt{2} \\mu c{\\left(t \\right)} e{\\left(t \\right)} + \\operatorname{x_{1}}{\\left(t \\right)}\\\\g \\operatorname{x_{1}}{\\left(t \\right)} + \\operatorname{x_{2}}{\\left(t \\right)}\\end{matrix}\\right]$"
      ],
      "text/plain": [
       "Matrix([\n",
       "[                                     0],\n",
       "[                      -g*p2(t) - p1(t)],\n",
       "[                      -g*p1(t) - p2(t)],\n",
       "[g*x2(t) - sqrt(2)*mu*c(t)*e(t) + x1(t)],\n",
       "[                       g*x1(t) + x2(t)]])"
      ]
     },
     "execution_count": 8,
     "metadata": {},
     "output_type": "execute_result"
    }
   ],
   "source": [
    "sol=simplify(r-diff(Matrix([c,x1,x2,p1,p2]),t))\n",
    "sol"
   ]
  },
  {
   "cell_type": "code",
   "execution_count": 9,
   "id": "ce2a8ef9",
   "metadata": {},
   "outputs": [],
   "source": [
    "import sympy\n",
    "eqs=list(to_symbols(sol))\n",
    "t=sympy.linear_eq_to_matrix(eqs, [c1,x11,x12,p11,p12])[0]\n",
    "t2=sympy.linear_eq_to_matrix(eqs, [c1,x11,x12,p11,p12])[1]\n"
   ]
  },
  {
   "cell_type": "code",
   "execution_count": 10,
   "id": "b475b1a8",
   "metadata": {},
   "outputs": [
    {
     "data": {
      "text/latex": [
       "$\\displaystyle \\left[\\begin{matrix}\\frac{d}{d t} c{\\left(t \\right)}\\\\- g p_{2} - p_{1} + \\frac{d}{d t} \\operatorname{x_{1}}{\\left(t \\right)}\\\\- g p_{1} - p_{2} + \\frac{d}{d t} \\operatorname{x_{2}}{\\left(t \\right)}\\\\- \\sqrt{2} c e \\mu + g x_{2} + x_{1} + \\frac{d}{d t} \\operatorname{p_{1}}{\\left(t \\right)}\\\\g x_{1} + x_{2} + \\frac{d}{d t} \\operatorname{p_{2}}{\\left(t \\right)}\\end{matrix}\\right]$"
      ],
      "text/plain": [
       "Matrix([\n",
       "[                               Derivative(c(t), t)],\n",
       "[                 -g*p2 - p1 + Derivative(x1(t), t)],\n",
       "[                 -g*p1 - p2 + Derivative(x2(t), t)],\n",
       "[-sqrt(2)*c*e*mu + g*x2 + x1 + Derivative(p1(t), t)],\n",
       "[                  g*x1 + x2 + Derivative(p2(t), t)]])"
      ]
     },
     "execution_count": 10,
     "metadata": {},
     "output_type": "execute_result"
    }
   ],
   "source": [
    "t*Matrix([c1,x11,x12,p11,p12])+vector"
   ]
  },
  {
   "cell_type": "code",
   "execution_count": 11,
   "id": "a3bac00d",
   "metadata": {},
   "outputs": [],
   "source": [
    "def to_func(expr):\n",
    "    return expr.subs({x11:x1,x12:x2,p11:p1,p12:p2,e1:e,de1:de,c1:c})"
   ]
  },
  {
   "cell_type": "code",
   "execution_count": 12,
   "id": "17a1e3be",
   "metadata": {},
   "outputs": [
    {
     "data": {
      "text/latex": [
       "$\\displaystyle \\left[\\begin{matrix}\\frac{d}{d t} c{\\left(t \\right)}\\\\- g \\operatorname{p_{2}}{\\left(t \\right)} - \\operatorname{p_{1}}{\\left(t \\right)} + \\frac{d}{d t} \\operatorname{x_{1}}{\\left(t \\right)}\\\\- g \\operatorname{p_{1}}{\\left(t \\right)} - \\operatorname{p_{2}}{\\left(t \\right)} + \\frac{d}{d t} \\operatorname{x_{2}}{\\left(t \\right)}\\\\g \\operatorname{x_{2}}{\\left(t \\right)} - \\sqrt{2} \\mu c{\\left(t \\right)} e{\\left(t \\right)} + \\operatorname{x_{1}}{\\left(t \\right)} + \\frac{d}{d t} \\operatorname{p_{1}}{\\left(t \\right)}\\\\g \\operatorname{x_{1}}{\\left(t \\right)} + \\operatorname{x_{2}}{\\left(t \\right)} + \\frac{d}{d t} \\operatorname{p_{2}}{\\left(t \\right)}\\end{matrix}\\right]$"
      ],
      "text/plain": [
       "Matrix([\n",
       "[                                          Derivative(c(t), t)],\n",
       "[                      -g*p2(t) - p1(t) + Derivative(x1(t), t)],\n",
       "[                      -g*p1(t) - p2(t) + Derivative(x2(t), t)],\n",
       "[g*x2(t) - sqrt(2)*mu*c(t)*e(t) + x1(t) + Derivative(p1(t), t)],\n",
       "[                       g*x1(t) + x2(t) + Derivative(p2(t), t)]])"
      ]
     },
     "execution_count": 12,
     "metadata": {},
     "output_type": "execute_result"
    }
   ],
   "source": [
    "new_eqs=to_func(t*Matrix([c1,x11,x12,p11,p12])+vector)\n",
    "new_eqs"
   ]
  },
  {
   "cell_type": "code",
   "execution_count": 13,
   "id": "0d6ffa1f",
   "metadata": {},
   "outputs": [],
   "source": [
    "#field=np.linspace(0,100,1000)\n",
    "lista=np.random.rand(5)\n",
    "time,dt=np.linspace(1,10,5,retstep=True)\n",
    "def field_discrete(lista,t,dt):\n",
    "    return lista[int(t/dt)]\n",
    "\n",
    "def derivative(lista,t,dt):\n",
    "    return np.array([(lista[j]-lista[j-1])/(dt) if (j!=0)&(j!=len(lista)) else lista[j] for j in range(0,len(lista))])[int(t/dt)]"
   ]
  },
  {
   "cell_type": "code",
   "execution_count": 17,
   "id": "2f448085",
   "metadata": {},
   "outputs": [
    {
     "data": {
      "text/plain": [
       "array([0.91715327, 0.42174115, 0.42131624, 0.63855785, 0.8087509 ])"
      ]
     },
     "execution_count": 17,
     "metadata": {},
     "output_type": "execute_result"
    }
   ],
   "source": [
    "lista"
   ]
  },
  {
   "cell_type": "code",
   "execution_count": 18,
   "id": "ca92977d",
   "metadata": {},
   "outputs": [
    {
     "data": {
      "text/plain": [
       "-0.22018316183585732"
      ]
     },
     "execution_count": 18,
     "metadata": {},
     "output_type": "execute_result"
    }
   ],
   "source": [
    "derivative(lista,time[1],dt)"
   ]
  },
  {
   "cell_type": "code",
   "execution_count": 19,
   "id": "14a84ccd",
   "metadata": {},
   "outputs": [
    {
     "data": {
      "text/plain": [
       "-0.22018316183585732"
      ]
     },
     "execution_count": 19,
     "metadata": {},
     "output_type": "execute_result"
    }
   ],
   "source": [
    "(lista[1]-lista[0])/dt"
   ]
  },
  {
   "cell_type": "code",
   "execution_count": 20,
   "id": "52af8e35",
   "metadata": {},
   "outputs": [
    {
     "data": {
      "text/plain": [
       "0.8087508954459718"
      ]
     },
     "execution_count": 20,
     "metadata": {},
     "output_type": "execute_result"
    }
   ],
   "source": [
    "field_discrete(lista,10,dt)"
   ]
  },
  {
   "cell_type": "code",
   "execution_count": 21,
   "id": "1c4aa5f6",
   "metadata": {},
   "outputs": [],
   "source": [
    "#sol=solve([r[0],r[1],r[2],r[3]],diff(x1,t),diff(x2,t),diff(p1,t),diff(p2,t))\n",
    "#sol"
   ]
  },
  {
   "cell_type": "code",
   "execution_count": 22,
   "id": "c2a1ed46",
   "metadata": {},
   "outputs": [],
   "source": [
    "#d1=simplify(sol[diff(x1,t)])\n",
    "#d2=simplify(sol[diff(x2,t)])\n",
    "#d3=simplify(sol[diff(p1,t)])\n",
    "#d4=simplify(sol[diff(p2,t)])\n"
   ]
  },
  {
   "cell_type": "code",
   "execution_count": 23,
   "id": "910257ce",
   "metadata": {},
   "outputs": [],
   "source": [
    "#x1_diff(x1,x2,p1,p2,g,diff(e,t),e,mu)"
   ]
  },
  {
   "cell_type": "code",
   "execution_count": 24,
   "id": "38f65df2",
   "metadata": {},
   "outputs": [],
   "source": [
    "#p1_diff(x1,x2,p1,p2,g,diff(e,t),e,mu)"
   ]
  },
  {
   "cell_type": "code",
   "execution_count": 25,
   "id": "72dfaa33",
   "metadata": {},
   "outputs": [],
   "source": [
    "#p2_diff(x1,x2,p1,p2,g,diff(e,t),e,mu)"
   ]
  },
  {
   "cell_type": "code",
   "execution_count": 26,
   "id": "7c301e22",
   "metadata": {},
   "outputs": [],
   "source": [
    "#x2_diff(x1,x2,p1,p2,g,diff(e,t),e,mu)"
   ]
  },
  {
   "cell_type": "code",
   "execution_count": 27,
   "id": "3f8fdf11",
   "metadata": {
    "id": "M7V6DvoDB1N3"
   },
   "outputs": [],
   "source": [
    "#x1_diff=lambdify((x1,x2,p1,p2,g,diff(e,t),e,mu),d1)\n",
    "#x2_diff=lambdify((x1,x2,p1,p2,g,diff(e,t),e,mu),d2)\n",
    "#p1_diff=lambdify((x1,x2,p1,p2,g,diff(e,t),e,mu),d3)\n",
    "#p2_diff=lambdify((x1,x2,p1,p2,g,diff(e,t),e,mu),d4)"
   ]
  },
  {
   "cell_type": "code",
   "execution_count": 28,
   "id": "416ce1ca",
   "metadata": {},
   "outputs": [],
   "source": [
    "#x1_diff(x1,x2,g,diff(e,t),e,mu)\n",
    "##def x1_diff(x1,x2,g,rec,e,mu):\n",
    " #   return  x1**2 #x1*x2*g*rec*e*mu\n",
    "#def x2_diff(x1,x2,g,rec,e,mu):\n",
    " #   return  x2*g*rec**2 *e*mu#(x1)**2 + x2 *g*rec*e*mu"
   ]
  },
  {
   "cell_type": "code",
   "execution_count": 29,
   "id": "e006e7dd",
   "metadata": {
    "scrolled": true
   },
   "outputs": [],
   "source": [
    "#x2_diff(x1,x2,g,diff(e,t),e,mu)"
   ]
  },
  {
   "cell_type": "code",
   "execution_count": 30,
   "id": "ebc9c8ce",
   "metadata": {},
   "outputs": [],
   "source": [
    "def vectorfield( t,w, p):\n",
    "    \"\"\"\n",
    "    Defines the differential equations for  system.\n",
    "\n",
    "    Arguments:\n",
    "        w :  vector of the state variables:\n",
    "                  w = [x1,x2]\n",
    "        t :  time\n",
    "        p: vector of parameters\n",
    "            p=[g,field,dt,mu]\n",
    "    \"\"\"\n",
    "    x1, x2,p1,p2 = w\n",
    "    g,field,dt,mu=p\n",
    "    # Create f = (x1',y1',x2',y2'):\n",
    "    f = [x1_diff(x1,x2,p1,p2,g,derivative(field,t,dt),field_discrete(field,t,dt),mu),x2_diff(x1,x2,p1,p2,g,derivative(field,t,dt),field_discrete(field,t,dt),mu),\n",
    "        p1_diff(x1,x2,p1,p2,g,derivative(field,t,dt),field_discrete(field,t,dt),mu),p2_diff(x1,x2,p1,p2,g,derivative(field,t,dt),field_discrete(field,t,dt),mu)]\n",
    "    return f"
   ]
  },
  {
   "cell_type": "code",
   "execution_count": 31,
   "id": "87f759c2",
   "metadata": {},
   "outputs": [],
   "source": [
    "#from scipy.integrate import solve_ivp as ivp\n",
    "\n",
    "#ini=0\n",
    "#g=0.2\n",
    "#fin=np.pi/g\n",
    "#lt=1000\n",
    "#ini_x1=0.05\n",
    "#ini_x2=1\n",
    "#field=np.random.rand(lt)\n",
    "#np.loadtxt(\"EFieldValuesFINAL.txt\")\n",
    "#time=np.linspace(ini,fin,lt)\n",
    "#field=guess_field(time,ini,fin,lt)\n",
    "#dt=fin/(lt-1)\n",
    "#p=[g,field,dt,0.1]\n",
    "#wsol = ivp(vectorfield, [ini,fin],[ini_x1,ini_x1,10,10], args=(p,),t_eval=time)"
   ]
  },
  {
   "cell_type": "code",
   "execution_count": 32,
   "id": "39657a0b",
   "metadata": {},
   "outputs": [],
   "source": [
    "#wsol.message"
   ]
  },
  {
   "cell_type": "code",
   "execution_count": 33,
   "id": "c6104142",
   "metadata": {},
   "outputs": [],
   "source": [
    "#%timeit wsol = ivp(vectorfield, [ini,fin],[ini_x1,ini_x2], args=(p,),t_eval=time)"
   ]
  },
  {
   "cell_type": "code",
   "execution_count": 34,
   "id": "ca87a537",
   "metadata": {},
   "outputs": [],
   "source": [
    "#from edos import guess_field\n"
   ]
  },
  {
   "cell_type": "code",
   "execution_count": 35,
   "id": "ee1250d8",
   "metadata": {},
   "outputs": [],
   "source": [
    "#import matplotlib.pyplot as plt\n",
    "#plt.figure(figsize=(18, 6), dpi=80)\n",
    "#plt.plot(wsol.t,wsol.y[0],label=r'$x_{1}$')\n",
    "#plt.plot(wsol.t,wsol.y[1],'-.',label=r'$x_{2}$')\n",
    "#plt.plot(wsol.t,wsol.y[2],'-.',label=r'$p_{1}$')\n",
    "#plt.plot(wsol.t,wsol.y[3],'-.',label=r'$p_{2}$')\n",
    "\n",
    "#plt.legend()\n",
    "#plt.show()"
   ]
  },
  {
   "cell_type": "code",
   "execution_count": 36,
   "id": "4c7281c9",
   "metadata": {
    "id": "XtIH5bRcTE-E"
   },
   "outputs": [],
   "source": [
    "#Now with CM Matrix"
   ]
  },
  {
   "cell_type": "code",
   "execution_count": 14,
   "id": "5bf5d63c",
   "metadata": {},
   "outputs": [],
   "source": [
    "t=Symbol('t')\n",
    "v11 = Function('v11')(t)\n",
    "v12 = Function('v12')(t)\n",
    "v13= Function('v13')(t)\n",
    "v14 = Function('v14')(t)\n",
    "v22= Function('v22')(t)\n",
    "v23 = Function('v23')(t)\n",
    "v24= Function('v24')(t)\n",
    "v33 = Function('v33')(t)\n",
    "v34= Function('v34')(t)\n",
    "v44 = Function('v44')(t)\n",
    "x1 = Function('x1')(t)\n",
    "x2 = Function('x2')(t)\n",
    "p1= Function('p1')(t)\n",
    "p2 = Function('p2')(t)\n",
    "g= symbols('g')\n",
    "e=Function('e')(t)\n",
    "mu=symbols('mu')\n",
    "alpha=sqrt(2)*mu*c*e/(1-pow(g,2))\n",
    "beta=sqrt(2)*mu*c*e*g/(1-pow(g,2))\n",
    "F=zeros(2,2)\n",
    "F[0,1]=1\n",
    "F[1,0]=-1\n",
    "B=zeros(2,2)\n",
    "B[0,0]=1\n",
    "B[1,1]=-1\n",
    "\n",
    "#V=Matrix([[v11-2*x1+alpha**2,v12-alpha*x2+beta*x1-alpha*beta,v13-alpha*p1,v14-alpha*p2],[v12-alpha*x2+beta*x1-alpha*beta,v22+beta**2+2*x2,v23+beta*p1,v24+beta*p2],[v13-alpha*p1,v23+beta*p1,v33,v34],[v14-alpha*p2,v24+beta*p2,v34,v44]])\n",
    "V=Matrix([[v11,v12,v13,v14],[v12,v22,v23,v24],[v13,v23,v33,v34],[v14,v24,v34,v44]])\n"
   ]
  },
  {
   "cell_type": "code",
   "execution_count": 26,
   "id": "abd45d89",
   "metadata": {},
   "outputs": [
    {
     "data": {
      "text/latex": [
       "$\\displaystyle \\left[\\begin{matrix}0 & 0 & 1 & g\\\\0 & 0 & g & 1\\\\-1 & - g & 0 & 0\\\\- g & -1 & 0 & 0\\end{matrix}\\right]$"
      ],
      "text/plain": [
       "Matrix([\n",
       "[ 0,  0, 1, g],\n",
       "[ 0,  0, g, 1],\n",
       "[-1, -g, 0, 0],\n",
       "[-g, -1, 0, 0]])"
      ]
     },
     "execution_count": 26,
     "metadata": {},
     "output_type": "execute_result"
    }
   ],
   "source": [
    "A=sp.Matrix([[0,0,0,0,0],[0,0,0,1,g],[0,0,0,g,1],[0,-1,-g,0,0],[0,-g,-1,0,0]])\n",
    "A=A[1:5,1:5]\n",
    "A"
   ]
  },
  {
   "cell_type": "code",
   "execution_count": 27,
   "id": "8c8c61b6",
   "metadata": {},
   "outputs": [
    {
     "data": {
      "text/latex": [
       "$\\displaystyle \\left[\\begin{matrix}\\operatorname{v_{11}}{\\left(t \\right)} & \\operatorname{v_{12}}{\\left(t \\right)} & \\operatorname{v_{13}}{\\left(t \\right)} & \\operatorname{v_{14}}{\\left(t \\right)}\\\\\\operatorname{v_{12}}{\\left(t \\right)} & \\operatorname{v_{22}}{\\left(t \\right)} & \\operatorname{v_{23}}{\\left(t \\right)} & \\operatorname{v_{24}}{\\left(t \\right)}\\\\\\operatorname{v_{13}}{\\left(t \\right)} & \\operatorname{v_{23}}{\\left(t \\right)} & \\operatorname{v_{33}}{\\left(t \\right)} & \\operatorname{v_{34}}{\\left(t \\right)}\\\\\\operatorname{v_{14}}{\\left(t \\right)} & \\operatorname{v_{24}}{\\left(t \\right)} & \\operatorname{v_{34}}{\\left(t \\right)} & \\operatorname{v_{44}}{\\left(t \\right)}\\end{matrix}\\right]$"
      ],
      "text/plain": [
       "Matrix([\n",
       "[v11(t), v12(t), v13(t), v14(t)],\n",
       "[v12(t), v22(t), v23(t), v24(t)],\n",
       "[v13(t), v23(t), v33(t), v34(t)],\n",
       "[v14(t), v24(t), v34(t), v44(t)]])"
      ]
     },
     "execution_count": 27,
     "metadata": {},
     "output_type": "execute_result"
    }
   ],
   "source": [
    "V"
   ]
  },
  {
   "cell_type": "code",
   "execution_count": 28,
   "id": "34b7f263",
   "metadata": {
    "scrolled": true
   },
   "outputs": [
    {
     "data": {
      "text/latex": [
       "$\\displaystyle \\left[\\begin{matrix}- 2 g \\operatorname{v_{14}}{\\left(t \\right)} - 2 \\operatorname{v_{13}}{\\left(t \\right)} + \\frac{d}{d t} \\operatorname{v_{11}}{\\left(t \\right)} & - g \\operatorname{v_{13}}{\\left(t \\right)} - g \\operatorname{v_{24}}{\\left(t \\right)} - \\operatorname{v_{14}}{\\left(t \\right)} - \\operatorname{v_{23}}{\\left(t \\right)} + \\frac{d}{d t} \\operatorname{v_{12}}{\\left(t \\right)} & g \\operatorname{v_{12}}{\\left(t \\right)} - g \\operatorname{v_{34}}{\\left(t \\right)} + \\operatorname{v_{11}}{\\left(t \\right)} - \\operatorname{v_{33}}{\\left(t \\right)} + \\frac{d}{d t} \\operatorname{v_{13}}{\\left(t \\right)} & g \\operatorname{v_{11}}{\\left(t \\right)} - g \\operatorname{v_{44}}{\\left(t \\right)} + \\operatorname{v_{12}}{\\left(t \\right)} - \\operatorname{v_{34}}{\\left(t \\right)} + \\frac{d}{d t} \\operatorname{v_{14}}{\\left(t \\right)}\\\\- g \\operatorname{v_{13}}{\\left(t \\right)} - g \\operatorname{v_{24}}{\\left(t \\right)} - \\operatorname{v_{14}}{\\left(t \\right)} - \\operatorname{v_{23}}{\\left(t \\right)} + \\frac{d}{d t} \\operatorname{v_{12}}{\\left(t \\right)} & - 2 g \\operatorname{v_{23}}{\\left(t \\right)} - 2 \\operatorname{v_{24}}{\\left(t \\right)} + \\frac{d}{d t} \\operatorname{v_{22}}{\\left(t \\right)} & g \\operatorname{v_{22}}{\\left(t \\right)} - g \\operatorname{v_{33}}{\\left(t \\right)} + \\operatorname{v_{12}}{\\left(t \\right)} - \\operatorname{v_{34}}{\\left(t \\right)} + \\frac{d}{d t} \\operatorname{v_{23}}{\\left(t \\right)} & g \\operatorname{v_{12}}{\\left(t \\right)} - g \\operatorname{v_{34}}{\\left(t \\right)} + \\operatorname{v_{22}}{\\left(t \\right)} - \\operatorname{v_{44}}{\\left(t \\right)} + \\frac{d}{d t} \\operatorname{v_{24}}{\\left(t \\right)}\\\\g \\operatorname{v_{12}}{\\left(t \\right)} - g \\operatorname{v_{34}}{\\left(t \\right)} + \\operatorname{v_{11}}{\\left(t \\right)} - \\operatorname{v_{33}}{\\left(t \\right)} + \\frac{d}{d t} \\operatorname{v_{13}}{\\left(t \\right)} & g \\operatorname{v_{22}}{\\left(t \\right)} - g \\operatorname{v_{33}}{\\left(t \\right)} + \\operatorname{v_{12}}{\\left(t \\right)} - \\operatorname{v_{34}}{\\left(t \\right)} + \\frac{d}{d t} \\operatorname{v_{23}}{\\left(t \\right)} & 2 g \\operatorname{v_{23}}{\\left(t \\right)} + 2 \\operatorname{v_{13}}{\\left(t \\right)} + \\frac{d}{d t} \\operatorname{v_{33}}{\\left(t \\right)} & g \\operatorname{v_{13}}{\\left(t \\right)} + g \\operatorname{v_{24}}{\\left(t \\right)} + \\operatorname{v_{14}}{\\left(t \\right)} + \\operatorname{v_{23}}{\\left(t \\right)} + \\frac{d}{d t} \\operatorname{v_{34}}{\\left(t \\right)}\\\\g \\operatorname{v_{11}}{\\left(t \\right)} - g \\operatorname{v_{44}}{\\left(t \\right)} + \\operatorname{v_{12}}{\\left(t \\right)} - \\operatorname{v_{34}}{\\left(t \\right)} + \\frac{d}{d t} \\operatorname{v_{14}}{\\left(t \\right)} & g \\operatorname{v_{12}}{\\left(t \\right)} - g \\operatorname{v_{34}}{\\left(t \\right)} + \\operatorname{v_{22}}{\\left(t \\right)} - \\operatorname{v_{44}}{\\left(t \\right)} + \\frac{d}{d t} \\operatorname{v_{24}}{\\left(t \\right)} & g \\operatorname{v_{13}}{\\left(t \\right)} + g \\operatorname{v_{24}}{\\left(t \\right)} + \\operatorname{v_{14}}{\\left(t \\right)} + \\operatorname{v_{23}}{\\left(t \\right)} + \\frac{d}{d t} \\operatorname{v_{34}}{\\left(t \\right)} & 2 g \\operatorname{v_{14}}{\\left(t \\right)} + 2 \\operatorname{v_{24}}{\\left(t \\right)} + \\frac{d}{d t} \\operatorname{v_{44}}{\\left(t \\right)}\\end{matrix}\\right]$"
      ],
      "text/plain": [
       "Matrix([\n",
       "[                -2*g*v14(t) - 2*v13(t) + Derivative(v11(t), t), -g*v13(t) - g*v24(t) - v14(t) - v23(t) + Derivative(v12(t), t), g*v12(t) - g*v34(t) + v11(t) - v33(t) + Derivative(v13(t), t), g*v11(t) - g*v44(t) + v12(t) - v34(t) + Derivative(v14(t), t)],\n",
       "[-g*v13(t) - g*v24(t) - v14(t) - v23(t) + Derivative(v12(t), t),                 -2*g*v23(t) - 2*v24(t) + Derivative(v22(t), t), g*v22(t) - g*v33(t) + v12(t) - v34(t) + Derivative(v23(t), t), g*v12(t) - g*v34(t) + v22(t) - v44(t) + Derivative(v24(t), t)],\n",
       "[ g*v12(t) - g*v34(t) + v11(t) - v33(t) + Derivative(v13(t), t),  g*v22(t) - g*v33(t) + v12(t) - v34(t) + Derivative(v23(t), t),                 2*g*v23(t) + 2*v13(t) + Derivative(v33(t), t), g*v13(t) + g*v24(t) + v14(t) + v23(t) + Derivative(v34(t), t)],\n",
       "[ g*v11(t) - g*v44(t) + v12(t) - v34(t) + Derivative(v14(t), t),  g*v12(t) - g*v34(t) + v22(t) - v44(t) + Derivative(v24(t), t), g*v13(t) + g*v24(t) + v14(t) + v23(t) + Derivative(v34(t), t),                 2*g*v14(t) + 2*v24(t) + Derivative(v44(t), t)]])"
      ]
     },
     "execution_count": 28,
     "metadata": {},
     "output_type": "execute_result"
    }
   ],
   "source": [
    "r=simplify(diff(V,t)-Matrix(A)*Matrix(V)-Matrix(V)*Matrix(A).T)\n",
    "simplify(r)"
   ]
  },
  {
   "cell_type": "code",
   "execution_count": 29,
   "id": "315cef3f",
   "metadata": {},
   "outputs": [
    {
     "data": {
      "text/latex": [
       "$\\displaystyle \\left[\\begin{matrix}\\frac{d}{d t} c{\\left(t \\right)}\\\\- g \\operatorname{p_{2}}{\\left(t \\right)} - \\operatorname{p_{1}}{\\left(t \\right)} + \\frac{d}{d t} \\operatorname{x_{1}}{\\left(t \\right)}\\\\- g \\operatorname{p_{1}}{\\left(t \\right)} - \\operatorname{p_{2}}{\\left(t \\right)} + \\frac{d}{d t} \\operatorname{x_{2}}{\\left(t \\right)}\\\\g \\operatorname{x_{2}}{\\left(t \\right)} - \\sqrt{2} \\mu c{\\left(t \\right)} e{\\left(t \\right)} + \\operatorname{x_{1}}{\\left(t \\right)} + \\frac{d}{d t} \\operatorname{p_{1}}{\\left(t \\right)}\\\\g \\operatorname{x_{1}}{\\left(t \\right)} + \\operatorname{x_{2}}{\\left(t \\right)} + \\frac{d}{d t} \\operatorname{p_{2}}{\\left(t \\right)}\\end{matrix}\\right]$"
      ],
      "text/plain": [
       "Matrix([\n",
       "[                                          Derivative(c(t), t)],\n",
       "[                      -g*p2(t) - p1(t) + Derivative(x1(t), t)],\n",
       "[                      -g*p1(t) - p2(t) + Derivative(x2(t), t)],\n",
       "[g*x2(t) - sqrt(2)*mu*c(t)*e(t) + x1(t) + Derivative(p1(t), t)],\n",
       "[                       g*x1(t) + x2(t) + Derivative(p2(t), t)]])"
      ]
     },
     "execution_count": 29,
     "metadata": {},
     "output_type": "execute_result"
    }
   ],
   "source": [
    "new_eqs"
   ]
  },
  {
   "cell_type": "code",
   "execution_count": 30,
   "id": "ef581e12",
   "metadata": {},
   "outputs": [],
   "source": [
    "c_eqs=[r[0,0],r[0,1],r[0,2],r[0,3],r[1,1],r[1,2],r[1,3],r[2,2],r[2,3],r[3,3]]"
   ]
  },
  {
   "cell_type": "code",
   "execution_count": 31,
   "id": "53cdb1de",
   "metadata": {},
   "outputs": [
    {
     "data": {
      "text/latex": [
       "$\\displaystyle \\left[\\begin{matrix}0\\\\- g \\operatorname{p_{2}}{\\left(t \\right)} - \\operatorname{p_{1}}{\\left(t \\right)}\\\\- g \\operatorname{p_{1}}{\\left(t \\right)} - \\operatorname{p_{2}}{\\left(t \\right)}\\\\g \\operatorname{x_{2}}{\\left(t \\right)} - \\sqrt{2} \\mu c{\\left(t \\right)} e{\\left(t \\right)} + \\operatorname{x_{1}}{\\left(t \\right)}\\\\g \\operatorname{x_{1}}{\\left(t \\right)} + \\operatorname{x_{2}}{\\left(t \\right)}\\end{matrix}\\right]$"
      ],
      "text/plain": [
       "Matrix([\n",
       "[                                     0],\n",
       "[                      -g*p2(t) - p1(t)],\n",
       "[                      -g*p1(t) - p2(t)],\n",
       "[g*x2(t) - sqrt(2)*mu*c(t)*e(t) + x1(t)],\n",
       "[                       g*x1(t) + x2(t)]])"
      ]
     },
     "execution_count": 31,
     "metadata": {},
     "output_type": "execute_result"
    }
   ],
   "source": [
    "gaga=new_eqs-vector\n",
    "gaga"
   ]
  },
  {
   "cell_type": "code",
   "execution_count": 35,
   "id": "5dd66126",
   "metadata": {},
   "outputs": [],
   "source": [
    "dx1=diff(x1,t)\n",
    "dx2=diff(x2,t)\n",
    "dp1=diff(p1,t)\n",
    "dp2=diff(p2,t)\n",
    "dc=diff(c,t)\n"
   ]
  },
  {
   "cell_type": "code",
   "execution_count": 36,
   "id": "a6c94fe6",
   "metadata": {},
   "outputs": [],
   "source": [
    "despejadas=[(c_eqs[i]).subs({dc:gaga[0],dx1:gaga[1],dx2:gaga[2],dp1:gaga[3],dp2:gaga[4]}) for i in range(10)]"
   ]
  },
  {
   "cell_type": "code",
   "execution_count": 37,
   "id": "c3c6ab5a",
   "metadata": {},
   "outputs": [],
   "source": [
    "despejadas=[despejadas[i].simplify() for i in range(10)]"
   ]
  },
  {
   "cell_type": "code",
   "execution_count": 46,
   "id": "01802c50",
   "metadata": {},
   "outputs": [],
   "source": [
    "#eqs=list(to_symbols(sol.subs(diff(c,t),0)))\n",
    "#t=sympy.linear_eq_to_matrix(eqs, [c1,x11,x12,p11,p12])[0]\n",
    "#t2=sympy.linear_eq_to_matrix(eqs, [c1,x11,x12,p11,p12])[1]\n"
   ]
  },
  {
   "cell_type": "code",
   "execution_count": 38,
   "id": "bcfbd4d9",
   "metadata": {},
   "outputs": [
    {
     "data": {
      "text/plain": [
       "[1, 1, 1, 1, 1, 1, 1, 1, 1, 1]"
      ]
     },
     "execution_count": 38,
     "metadata": {},
     "output_type": "execute_result"
    }
   ],
   "source": [
    "covariance=[v11,v12,v13,v14,v22,v23,v24,v33,v34,v44]\n",
    "coeffs=[(Matrix(despejadas).expand()[i]).collect(diff(covariance[i],t)).coeff(diff(covariance[i],t)) for i in range(len(despejadas))]\n",
    "coeffs"
   ]
  },
  {
   "cell_type": "code",
   "execution_count": 39,
   "id": "2feb39d7",
   "metadata": {},
   "outputs": [],
   "source": [
    "despeje=[diff(covariance[i],t)*coeffs[i] for i in range(len(covariance))]"
   ]
  },
  {
   "cell_type": "code",
   "execution_count": 40,
   "id": "00844a69",
   "metadata": {},
   "outputs": [
    {
     "data": {
      "text/latex": [
       "$\\displaystyle \\left[\\begin{matrix}- 2 g \\operatorname{v_{14}}{\\left(t \\right)} - 2 \\operatorname{v_{13}}{\\left(t \\right)}\\\\- g \\operatorname{v_{13}}{\\left(t \\right)} - g \\operatorname{v_{24}}{\\left(t \\right)} - \\operatorname{v_{14}}{\\left(t \\right)} - \\operatorname{v_{23}}{\\left(t \\right)}\\\\g \\operatorname{v_{12}}{\\left(t \\right)} - g \\operatorname{v_{34}}{\\left(t \\right)} + \\operatorname{v_{11}}{\\left(t \\right)} - \\operatorname{v_{33}}{\\left(t \\right)}\\\\g \\operatorname{v_{11}}{\\left(t \\right)} - g \\operatorname{v_{44}}{\\left(t \\right)} + \\operatorname{v_{12}}{\\left(t \\right)} - \\operatorname{v_{34}}{\\left(t \\right)}\\\\- 2 g \\operatorname{v_{23}}{\\left(t \\right)} - 2 \\operatorname{v_{24}}{\\left(t \\right)}\\\\g \\operatorname{v_{22}}{\\left(t \\right)} - g \\operatorname{v_{33}}{\\left(t \\right)} + \\operatorname{v_{12}}{\\left(t \\right)} - \\operatorname{v_{34}}{\\left(t \\right)}\\\\g \\operatorname{v_{12}}{\\left(t \\right)} - g \\operatorname{v_{34}}{\\left(t \\right)} + \\operatorname{v_{22}}{\\left(t \\right)} - \\operatorname{v_{44}}{\\left(t \\right)}\\\\2 g \\operatorname{v_{23}}{\\left(t \\right)} + 2 \\operatorname{v_{13}}{\\left(t \\right)}\\\\g \\operatorname{v_{13}}{\\left(t \\right)} + g \\operatorname{v_{24}}{\\left(t \\right)} + \\operatorname{v_{14}}{\\left(t \\right)} + \\operatorname{v_{23}}{\\left(t \\right)}\\\\2 g \\operatorname{v_{14}}{\\left(t \\right)} + 2 \\operatorname{v_{24}}{\\left(t \\right)}\\end{matrix}\\right]$"
      ],
      "text/plain": [
       "Matrix([\n",
       "[                -2*g*v14(t) - 2*v13(t)],\n",
       "[-g*v13(t) - g*v24(t) - v14(t) - v23(t)],\n",
       "[ g*v12(t) - g*v34(t) + v11(t) - v33(t)],\n",
       "[ g*v11(t) - g*v44(t) + v12(t) - v34(t)],\n",
       "[                -2*g*v23(t) - 2*v24(t)],\n",
       "[ g*v22(t) - g*v33(t) + v12(t) - v34(t)],\n",
       "[ g*v12(t) - g*v34(t) + v22(t) - v44(t)],\n",
       "[                 2*g*v23(t) + 2*v13(t)],\n",
       "[ g*v13(t) + g*v24(t) + v14(t) + v23(t)],\n",
       "[                 2*g*v14(t) + 2*v24(t)]])"
      ]
     },
     "execution_count": 40,
     "metadata": {},
     "output_type": "execute_result"
    }
   ],
   "source": [
    "kara=simplify(Matrix(despejadas).expand()-Matrix(despeje))\n",
    "kara"
   ]
  },
  {
   "cell_type": "code",
   "execution_count": 41,
   "id": "304c52c6",
   "metadata": {},
   "outputs": [],
   "source": [
    "v111,v112,v113,v114 = symbols('v_11:15')\n",
    "v122,v123,v124 = symbols('v_22:25')\n",
    "v133,v134=symbols('v_33 v_34')\n",
    "v144=symbols('v_44')"
   ]
  },
  {
   "cell_type": "code",
   "execution_count": 42,
   "id": "db80bf4b",
   "metadata": {},
   "outputs": [],
   "source": [
    "subsss={v11:v111,v12:v112,v13:v113,v14:v114,v22:v122,v23:v123,v24:v124,v33:v133,v34:v134,v44:v144,diff(c1,t):0,(c1**2):c1}"
   ]
  },
  {
   "cell_type": "code",
   "execution_count": 45,
   "id": "57172fa4",
   "metadata": {},
   "outputs": [
    {
     "data": {
      "text/latex": [
       "$\\displaystyle \\left[\\begin{matrix}- 2 g v_{14} - 2 v_{13}\\\\- g v_{13} - g v_{24} - v_{14} - v_{23}\\\\g v_{12} - g v_{34} + v_{11} - v_{33}\\\\g v_{11} - g v_{44} + v_{12} - v_{34}\\\\- 2 g v_{23} - 2 v_{24}\\\\g v_{22} - g v_{33} + v_{12} - v_{34}\\\\g v_{12} - g v_{34} + v_{22} - v_{44}\\\\2 g v_{23} + 2 v_{13}\\\\g v_{13} + g v_{24} + v_{14} + v_{23}\\\\2 g v_{14} + 2 v_{24}\\end{matrix}\\right]$"
      ],
      "text/plain": [
       "Matrix([\n",
       "[            -2*g*v_14 - 2*v_13],\n",
       "[-g*v_13 - g*v_24 - v_14 - v_23],\n",
       "[ g*v_12 - g*v_34 + v_11 - v_33],\n",
       "[ g*v_11 - g*v_44 + v_12 - v_34],\n",
       "[            -2*g*v_23 - 2*v_24],\n",
       "[ g*v_22 - g*v_33 + v_12 - v_34],\n",
       "[ g*v_12 - g*v_34 + v_22 - v_44],\n",
       "[             2*g*v_23 + 2*v_13],\n",
       "[ g*v_13 + g*v_24 + v_14 + v_23],\n",
       "[             2*g*v_14 + 2*v_24]])"
      ]
     },
     "execution_count": 45,
     "metadata": {},
     "output_type": "execute_result"
    }
   ],
   "source": [
    "to_symbols(kara.subs(subsss))"
   ]
  },
  {
   "cell_type": "code",
   "execution_count": 46,
   "id": "39c6032e",
   "metadata": {},
   "outputs": [
    {
     "data": {
      "text/latex": [
       "$\\displaystyle \\left[\\begin{matrix}\\frac{d}{d t} c{\\left(t \\right)}\\\\\\frac{d}{d t} \\operatorname{x_{1}}{\\left(t \\right)}\\\\\\frac{d}{d t} \\operatorname{x_{2}}{\\left(t \\right)}\\\\\\frac{d}{d t} \\operatorname{p_{1}}{\\left(t \\right)}\\\\\\frac{d}{d t} \\operatorname{p_{2}}{\\left(t \\right)}\\\\\\frac{d}{d t} \\operatorname{v_{11}}{\\left(t \\right)}\\\\\\frac{d}{d t} \\operatorname{v_{12}}{\\left(t \\right)}\\\\\\frac{d}{d t} \\operatorname{v_{13}}{\\left(t \\right)}\\\\\\frac{d}{d t} \\operatorname{v_{14}}{\\left(t \\right)}\\\\\\frac{d}{d t} \\operatorname{v_{22}}{\\left(t \\right)}\\\\\\frac{d}{d t} \\operatorname{v_{23}}{\\left(t \\right)}\\\\\\frac{d}{d t} \\operatorname{v_{24}}{\\left(t \\right)}\\\\\\frac{d}{d t} \\operatorname{v_{33}}{\\left(t \\right)}\\\\\\frac{d}{d t} \\operatorname{v_{34}}{\\left(t \\right)}\\\\\\frac{d}{d t} \\operatorname{v_{44}}{\\left(t \\right)}\\end{matrix}\\right]$"
      ],
      "text/plain": [
       "Matrix([\n",
       "[  Derivative(c(t), t)],\n",
       "[ Derivative(x1(t), t)],\n",
       "[ Derivative(x2(t), t)],\n",
       "[ Derivative(p1(t), t)],\n",
       "[ Derivative(p2(t), t)],\n",
       "[Derivative(v11(t), t)],\n",
       "[Derivative(v12(t), t)],\n",
       "[Derivative(v13(t), t)],\n",
       "[Derivative(v14(t), t)],\n",
       "[Derivative(v22(t), t)],\n",
       "[Derivative(v23(t), t)],\n",
       "[Derivative(v24(t), t)],\n",
       "[Derivative(v33(t), t)],\n",
       "[Derivative(v34(t), t)],\n",
       "[Derivative(v44(t), t)]])"
      ]
     },
     "execution_count": 46,
     "metadata": {},
     "output_type": "execute_result"
    }
   ],
   "source": [
    "full_dvect=Matrix(list(vector)+list(diff(Matrix(covariance),t)))\n",
    "full_dvect"
   ]
  },
  {
   "cell_type": "code",
   "execution_count": 47,
   "id": "5fc8fc3c",
   "metadata": {},
   "outputs": [
    {
     "data": {
      "text/latex": [
       "$\\displaystyle \\left[\\begin{matrix}c\\\\x_{1}\\\\x_{2}\\\\p_{1}\\\\p_{2}\\\\v_{11}\\\\v_{12}\\\\v_{13}\\\\v_{14}\\\\v_{22}\\\\v_{23}\\\\v_{24}\\\\v_{33}\\\\v_{34}\\\\v_{44}\\end{matrix}\\right]$"
      ],
      "text/plain": [
       "Matrix([\n",
       "[   c],\n",
       "[  x1],\n",
       "[  x2],\n",
       "[  p1],\n",
       "[  p2],\n",
       "[v_11],\n",
       "[v_12],\n",
       "[v_13],\n",
       "[v_14],\n",
       "[v_22],\n",
       "[v_23],\n",
       "[v_24],\n",
       "[v_33],\n",
       "[v_34],\n",
       "[v_44]])"
      ]
     },
     "execution_count": 47,
     "metadata": {},
     "output_type": "execute_result"
    }
   ],
   "source": [
    "full_vect=Matrix([c1,x11,x12,p11,p12,v111,v112,v113,v114,v122,v123,v124,v133,v134,v144])\n",
    "full_vect"
   ]
  },
  {
   "cell_type": "code",
   "execution_count": 48,
   "id": "2624a98a",
   "metadata": {},
   "outputs": [],
   "source": [
    "full_eqs=Matrix(list(to_symbols(sol))+list(to_symbols(kara.subs(subsss))))"
   ]
  },
  {
   "cell_type": "code",
   "execution_count": 49,
   "id": "779d99a2",
   "metadata": {},
   "outputs": [
    {
     "data": {
      "text/latex": [
       "$\\displaystyle \\left[\\begin{matrix}0\\\\- g p_{2} - p_{1}\\\\- g p_{1} - p_{2}\\\\- \\sqrt{2} c e \\mu + g x_{2} + x_{1}\\\\g x_{1} + x_{2}\\\\- 2 g v_{14} - 2 v_{13}\\\\- g v_{13} - g v_{24} - v_{14} - v_{23}\\\\g v_{12} - g v_{34} + v_{11} - v_{33}\\\\g v_{11} - g v_{44} + v_{12} - v_{34}\\\\- 2 g v_{23} - 2 v_{24}\\\\g v_{22} - g v_{33} + v_{12} - v_{34}\\\\g v_{12} - g v_{34} + v_{22} - v_{44}\\\\2 g v_{23} + 2 v_{13}\\\\g v_{13} + g v_{24} + v_{14} + v_{23}\\\\2 g v_{14} + 2 v_{24}\\end{matrix}\\right]$"
      ],
      "text/plain": [
       "Matrix([\n",
       "[                             0],\n",
       "[                    -g*p2 - p1],\n",
       "[                    -g*p1 - p2],\n",
       "[   -sqrt(2)*c*e*mu + g*x2 + x1],\n",
       "[                     g*x1 + x2],\n",
       "[            -2*g*v_14 - 2*v_13],\n",
       "[-g*v_13 - g*v_24 - v_14 - v_23],\n",
       "[ g*v_12 - g*v_34 + v_11 - v_33],\n",
       "[ g*v_11 - g*v_44 + v_12 - v_34],\n",
       "[            -2*g*v_23 - 2*v_24],\n",
       "[ g*v_22 - g*v_33 + v_12 - v_34],\n",
       "[ g*v_12 - g*v_34 + v_22 - v_44],\n",
       "[             2*g*v_23 + 2*v_13],\n",
       "[ g*v_13 + g*v_24 + v_14 + v_23],\n",
       "[             2*g*v_14 + 2*v_24]])"
      ]
     },
     "execution_count": 49,
     "metadata": {},
     "output_type": "execute_result"
    }
   ],
   "source": [
    "tocheck=[full_eqs[i].expand().subs(c1**2,c1).subs(c1*x12,x12).subs(c1*x11,x11).subs(c1*p11,p11).subs(c1*p12,p12) for i in range(len(full_eqs))]\n",
    "Matrix(tocheck)"
   ]
  },
  {
   "cell_type": "code",
   "execution_count": 50,
   "id": "4540283b",
   "metadata": {},
   "outputs": [
    {
     "data": {
      "text/plain": [
       "15"
      ]
     },
     "execution_count": 50,
     "metadata": {},
     "output_type": "execute_result"
    }
   ],
   "source": [
    "len(tocheck)"
   ]
  },
  {
   "cell_type": "code",
   "execution_count": 51,
   "id": "e8fc7d3c",
   "metadata": {},
   "outputs": [],
   "source": [
    "t=sympy.linear_eq_to_matrix(tocheck, list(full_vect))[0]\n",
    "t2=sympy.linear_eq_to_matrix(tocheck, list(full_vect))[1]"
   ]
  },
  {
   "cell_type": "code",
   "execution_count": 52,
   "id": "cb4ca621",
   "metadata": {},
   "outputs": [
    {
     "data": {
      "text/latex": [
       "$\\displaystyle \\left[\\begin{matrix}\\frac{d}{d t} c{\\left(t \\right)}\\\\\\frac{d}{d t} \\operatorname{x_{1}}{\\left(t \\right)}\\\\\\frac{d}{d t} \\operatorname{x_{2}}{\\left(t \\right)}\\\\\\frac{d}{d t} \\operatorname{p_{1}}{\\left(t \\right)}\\\\\\frac{d}{d t} \\operatorname{p_{2}}{\\left(t \\right)}\\end{matrix}\\right]$"
      ],
      "text/plain": [
       "Matrix([\n",
       "[ Derivative(c(t), t)],\n",
       "[Derivative(x1(t), t)],\n",
       "[Derivative(x2(t), t)],\n",
       "[Derivative(p1(t), t)],\n",
       "[Derivative(p2(t), t)]])"
      ]
     },
     "execution_count": 52,
     "metadata": {},
     "output_type": "execute_result"
    }
   ],
   "source": [
    "vector"
   ]
  },
  {
   "cell_type": "code",
   "execution_count": 53,
   "id": "4e4bdb52",
   "metadata": {},
   "outputs": [
    {
     "data": {
      "text/latex": [
       "$\\displaystyle \\left[\\begin{matrix}0\\\\- g \\operatorname{p_{2}}{\\left(t \\right)} - \\operatorname{p_{1}}{\\left(t \\right)}\\\\- g \\operatorname{p_{1}}{\\left(t \\right)} - \\operatorname{p_{2}}{\\left(t \\right)}\\\\g \\operatorname{x_{2}}{\\left(t \\right)} - \\sqrt{2} \\mu c{\\left(t \\right)} e{\\left(t \\right)} + \\operatorname{x_{1}}{\\left(t \\right)}\\\\g \\operatorname{x_{1}}{\\left(t \\right)} + \\operatorname{x_{2}}{\\left(t \\right)}\\end{matrix}\\right]$"
      ],
      "text/plain": [
       "Matrix([\n",
       "[                                     0],\n",
       "[                      -g*p2(t) - p1(t)],\n",
       "[                      -g*p1(t) - p2(t)],\n",
       "[g*x2(t) - sqrt(2)*mu*c(t)*e(t) + x1(t)],\n",
       "[                       g*x1(t) + x2(t)]])"
      ]
     },
     "execution_count": 53,
     "metadata": {},
     "output_type": "execute_result"
    }
   ],
   "source": [
    "sol"
   ]
  },
  {
   "cell_type": "code",
   "execution_count": 54,
   "id": "4d652f67",
   "metadata": {},
   "outputs": [
    {
     "data": {
      "text/latex": [
       "$\\displaystyle v_{24}$"
      ],
      "text/plain": [
       "v_24"
      ]
     },
     "execution_count": 54,
     "metadata": {},
     "output_type": "execute_result"
    }
   ],
   "source": [
    "full_vect[11]"
   ]
  },
  {
   "cell_type": "code",
   "execution_count": 55,
   "id": "900a6304",
   "metadata": {},
   "outputs": [
    {
     "data": {
      "text/latex": [
       "$\\displaystyle g v_{12} - g v_{34} - v_{44}$"
      ],
      "text/plain": [
       "g*v_12 - g*v_34 - v_44"
      ]
     },
     "execution_count": 55,
     "metadata": {},
     "output_type": "execute_result"
    }
   ],
   "source": [
    "((t*full_vect)[11]).subs({p12:0,x11:0,p11:0,v122:0,x12:0,v114:0,v124:0}).subs({e1:e,de1:de}).factor()"
   ]
  },
  {
   "cell_type": "code",
   "execution_count": 56,
   "id": "1d3d2e20",
   "metadata": {},
   "outputs": [
    {
     "data": {
      "text/latex": [
       "$\\displaystyle g \\operatorname{v_{12}}{\\left(t \\right)} - g \\operatorname{v_{34}}{\\left(t \\right)} - \\operatorname{v_{44}}{\\left(t \\right)}$"
      ],
      "text/plain": [
       "g*v12(t) - g*v34(t) - v44(t)"
      ]
     },
     "execution_count": 56,
     "metadata": {},
     "output_type": "execute_result"
    }
   ],
   "source": [
    "ricard=r[1,3].subs(vector[4],sol[4]).expand().collect(covariance[4]).collect(p1).collect(p2).subs(c*x1,x1).collect(x1).subs(c*x2,x2).collect(x2).collect(v12).subs(vector[0],0).subs(c**2,c).collect(c)\n",
    "simplify(ricard.subs({p2:0,x1:0,p1:0,full_dvect[11]:0,v22:0,x2:0,v14:0,v24:0})).expand().factor()"
   ]
  },
  {
   "cell_type": "code",
   "execution_count": 57,
   "id": "e55d7b13",
   "metadata": {},
   "outputs": [],
   "source": [
    "lista=[]\n",
    "for i in range(15):\n",
    "    dummy=[simplify(t[i,j].subs({e1:e,de1:de})) for j in range(15)]\n",
    "    lista.append(dummy)"
   ]
  },
  {
   "cell_type": "code",
   "execution_count": 58,
   "id": "49b174ed",
   "metadata": {},
   "outputs": [
    {
     "data": {
      "text/latex": [
       "$\\displaystyle \\left[\\begin{array}{ccccccccccccccc}0 & 0 & 0 & 0 & 0 & 0 & 0 & 0 & 0 & 0 & 0 & 0 & 0 & 0 & 0\\\\0 & 0 & 0 & -1 & - g & 0 & 0 & 0 & 0 & 0 & 0 & 0 & 0 & 0 & 0\\\\0 & 0 & 0 & - g & -1 & 0 & 0 & 0 & 0 & 0 & 0 & 0 & 0 & 0 & 0\\\\- \\sqrt{2} \\mu e{\\left(t \\right)} & 1 & g & 0 & 0 & 0 & 0 & 0 & 0 & 0 & 0 & 0 & 0 & 0 & 0\\\\0 & g & 1 & 0 & 0 & 0 & 0 & 0 & 0 & 0 & 0 & 0 & 0 & 0 & 0\\\\0 & 0 & 0 & 0 & 0 & 0 & 0 & -2 & - 2 g & 0 & 0 & 0 & 0 & 0 & 0\\\\0 & 0 & 0 & 0 & 0 & 0 & 0 & - g & -1 & 0 & -1 & - g & 0 & 0 & 0\\\\0 & 0 & 0 & 0 & 0 & 1 & g & 0 & 0 & 0 & 0 & 0 & -1 & - g & 0\\\\0 & 0 & 0 & 0 & 0 & g & 1 & 0 & 0 & 0 & 0 & 0 & 0 & -1 & - g\\\\0 & 0 & 0 & 0 & 0 & 0 & 0 & 0 & 0 & 0 & - 2 g & -2 & 0 & 0 & 0\\\\0 & 0 & 0 & 0 & 0 & 0 & 1 & 0 & 0 & g & 0 & 0 & - g & -1 & 0\\\\0 & 0 & 0 & 0 & 0 & 0 & g & 0 & 0 & 1 & 0 & 0 & 0 & - g & -1\\\\0 & 0 & 0 & 0 & 0 & 0 & 0 & 2 & 0 & 0 & 2 g & 0 & 0 & 0 & 0\\\\0 & 0 & 0 & 0 & 0 & 0 & 0 & g & 1 & 0 & 1 & g & 0 & 0 & 0\\\\0 & 0 & 0 & 0 & 0 & 0 & 0 & 0 & 2 g & 0 & 0 & 2 & 0 & 0 & 0\\end{array}\\right]$"
      ],
      "text/plain": [
       "Matrix([\n",
       "[               0, 0, 0,  0,  0, 0, 0,  0,    0, 0,    0,  0,  0,  0,  0],\n",
       "[               0, 0, 0, -1, -g, 0, 0,  0,    0, 0,    0,  0,  0,  0,  0],\n",
       "[               0, 0, 0, -g, -1, 0, 0,  0,    0, 0,    0,  0,  0,  0,  0],\n",
       "[-sqrt(2)*mu*e(t), 1, g,  0,  0, 0, 0,  0,    0, 0,    0,  0,  0,  0,  0],\n",
       "[               0, g, 1,  0,  0, 0, 0,  0,    0, 0,    0,  0,  0,  0,  0],\n",
       "[               0, 0, 0,  0,  0, 0, 0, -2, -2*g, 0,    0,  0,  0,  0,  0],\n",
       "[               0, 0, 0,  0,  0, 0, 0, -g,   -1, 0,   -1, -g,  0,  0,  0],\n",
       "[               0, 0, 0,  0,  0, 1, g,  0,    0, 0,    0,  0, -1, -g,  0],\n",
       "[               0, 0, 0,  0,  0, g, 1,  0,    0, 0,    0,  0,  0, -1, -g],\n",
       "[               0, 0, 0,  0,  0, 0, 0,  0,    0, 0, -2*g, -2,  0,  0,  0],\n",
       "[               0, 0, 0,  0,  0, 0, 1,  0,    0, g,    0,  0, -g, -1,  0],\n",
       "[               0, 0, 0,  0,  0, 0, g,  0,    0, 1,    0,  0,  0, -g, -1],\n",
       "[               0, 0, 0,  0,  0, 0, 0,  2,    0, 0,  2*g,  0,  0,  0,  0],\n",
       "[               0, 0, 0,  0,  0, 0, 0,  g,    1, 0,    1,  g,  0,  0,  0],\n",
       "[               0, 0, 0,  0,  0, 0, 0,  0,  2*g, 0,    0,  2,  0,  0,  0]])"
      ]
     },
     "execution_count": 58,
     "metadata": {},
     "output_type": "execute_result"
    }
   ],
   "source": [
    "matriz=Matrix(lista)\n",
    "matriz"
   ]
  },
  {
   "cell_type": "code",
   "execution_count": 69,
   "id": "6539c956",
   "metadata": {},
   "outputs": [
    {
     "data": {
      "text/latex": [
       "$\\displaystyle \\left[\\begin{matrix}0 & 0 & -2 & - 2 g & 0 & 0 & 0 & 0 & 0 & 0\\\\0 & 0 & - g & -1 & 0 & -1 & - g & 0 & 0 & 0\\\\1 & g & 0 & 0 & 0 & 0 & 0 & -1 & - g & 0\\\\g & 1 & 0 & 0 & 0 & 0 & 0 & 0 & -1 & - g\\\\0 & 0 & 0 & 0 & 0 & - 2 g & -2 & 0 & 0 & 0\\\\0 & 1 & 0 & 0 & g & 0 & 0 & - g & -1 & 0\\\\0 & g & 0 & 0 & 1 & 0 & 0 & 0 & - g & -1\\\\0 & 0 & 2 & 0 & 0 & 2 g & 0 & 0 & 0 & 0\\\\0 & 0 & g & 1 & 0 & 1 & g & 0 & 0 & 0\\\\0 & 0 & 0 & 2 g & 0 & 0 & 2 & 0 & 0 & 0\\end{matrix}\\right]$"
      ],
      "text/plain": [
       "Matrix([\n",
       "[0, 0, -2, -2*g, 0,    0,  0,  0,  0,  0],\n",
       "[0, 0, -g,   -1, 0,   -1, -g,  0,  0,  0],\n",
       "[1, g,  0,    0, 0,    0,  0, -1, -g,  0],\n",
       "[g, 1,  0,    0, 0,    0,  0,  0, -1, -g],\n",
       "[0, 0,  0,    0, 0, -2*g, -2,  0,  0,  0],\n",
       "[0, 1,  0,    0, g,    0,  0, -g, -1,  0],\n",
       "[0, g,  0,    0, 1,    0,  0,  0, -g, -1],\n",
       "[0, 0,  2,    0, 0,  2*g,  0,  0,  0,  0],\n",
       "[0, 0,  g,    1, 0,    1,  g,  0,  0,  0],\n",
       "[0, 0,  0,  2*g, 0,    0,  2,  0,  0,  0]])"
      ]
     },
     "execution_count": 69,
     "metadata": {},
     "output_type": "execute_result"
    }
   ],
   "source": [
    "matriz[5:15,5:15]"
   ]
  },
  {
   "cell_type": "code",
   "execution_count": 59,
   "id": "308a0e67",
   "metadata": {},
   "outputs": [],
   "source": [
    "matriz=Matrix(lista)\n",
    "H0=simplify(matriz.subs({e:0}))\n",
    "He=simplify(matriz.subs({de:0})-H0)"
   ]
  },
  {
   "cell_type": "code",
   "execution_count": 60,
   "id": "db9fb7f2",
   "metadata": {},
   "outputs": [
    {
     "data": {
      "text/latex": [
       "$\\displaystyle \\left[\\begin{array}{ccccccccccccccc}0 & 0 & 0 & 0 & 0 & 0 & 0 & 0 & 0 & 0 & 0 & 0 & 0 & 0 & 0\\\\0 & 0 & 0 & 0 & 0 & 0 & 0 & 0 & 0 & 0 & 0 & 0 & 0 & 0 & 0\\\\0 & 0 & 0 & 0 & 0 & 0 & 0 & 0 & 0 & 0 & 0 & 0 & 0 & 0 & 0\\\\- \\sqrt{2} \\mu & 0 & 0 & 0 & 0 & 0 & 0 & 0 & 0 & 0 & 0 & 0 & 0 & 0 & 0\\\\0 & 0 & 0 & 0 & 0 & 0 & 0 & 0 & 0 & 0 & 0 & 0 & 0 & 0 & 0\\\\0 & 0 & 0 & 0 & 0 & 0 & 0 & 0 & 0 & 0 & 0 & 0 & 0 & 0 & 0\\\\0 & 0 & 0 & 0 & 0 & 0 & 0 & 0 & 0 & 0 & 0 & 0 & 0 & 0 & 0\\\\0 & 0 & 0 & 0 & 0 & 0 & 0 & 0 & 0 & 0 & 0 & 0 & 0 & 0 & 0\\\\0 & 0 & 0 & 0 & 0 & 0 & 0 & 0 & 0 & 0 & 0 & 0 & 0 & 0 & 0\\\\0 & 0 & 0 & 0 & 0 & 0 & 0 & 0 & 0 & 0 & 0 & 0 & 0 & 0 & 0\\\\0 & 0 & 0 & 0 & 0 & 0 & 0 & 0 & 0 & 0 & 0 & 0 & 0 & 0 & 0\\\\0 & 0 & 0 & 0 & 0 & 0 & 0 & 0 & 0 & 0 & 0 & 0 & 0 & 0 & 0\\\\0 & 0 & 0 & 0 & 0 & 0 & 0 & 0 & 0 & 0 & 0 & 0 & 0 & 0 & 0\\\\0 & 0 & 0 & 0 & 0 & 0 & 0 & 0 & 0 & 0 & 0 & 0 & 0 & 0 & 0\\\\0 & 0 & 0 & 0 & 0 & 0 & 0 & 0 & 0 & 0 & 0 & 0 & 0 & 0 & 0\\end{array}\\right]$"
      ],
      "text/plain": [
       "Matrix([\n",
       "[          0, 0, 0, 0, 0, 0, 0, 0, 0, 0, 0, 0, 0, 0, 0],\n",
       "[          0, 0, 0, 0, 0, 0, 0, 0, 0, 0, 0, 0, 0, 0, 0],\n",
       "[          0, 0, 0, 0, 0, 0, 0, 0, 0, 0, 0, 0, 0, 0, 0],\n",
       "[-sqrt(2)*mu, 0, 0, 0, 0, 0, 0, 0, 0, 0, 0, 0, 0, 0, 0],\n",
       "[          0, 0, 0, 0, 0, 0, 0, 0, 0, 0, 0, 0, 0, 0, 0],\n",
       "[          0, 0, 0, 0, 0, 0, 0, 0, 0, 0, 0, 0, 0, 0, 0],\n",
       "[          0, 0, 0, 0, 0, 0, 0, 0, 0, 0, 0, 0, 0, 0, 0],\n",
       "[          0, 0, 0, 0, 0, 0, 0, 0, 0, 0, 0, 0, 0, 0, 0],\n",
       "[          0, 0, 0, 0, 0, 0, 0, 0, 0, 0, 0, 0, 0, 0, 0],\n",
       "[          0, 0, 0, 0, 0, 0, 0, 0, 0, 0, 0, 0, 0, 0, 0],\n",
       "[          0, 0, 0, 0, 0, 0, 0, 0, 0, 0, 0, 0, 0, 0, 0],\n",
       "[          0, 0, 0, 0, 0, 0, 0, 0, 0, 0, 0, 0, 0, 0, 0],\n",
       "[          0, 0, 0, 0, 0, 0, 0, 0, 0, 0, 0, 0, 0, 0, 0],\n",
       "[          0, 0, 0, 0, 0, 0, 0, 0, 0, 0, 0, 0, 0, 0, 0],\n",
       "[          0, 0, 0, 0, 0, 0, 0, 0, 0, 0, 0, 0, 0, 0, 0]])"
      ]
     },
     "execution_count": 60,
     "metadata": {},
     "output_type": "execute_result"
    }
   ],
   "source": [
    "He/e"
   ]
  },
  {
   "cell_type": "code",
   "execution_count": 61,
   "id": "578967e4",
   "metadata": {},
   "outputs": [
    {
     "ename": "NameError",
     "evalue": "name 'Hde' is not defined",
     "output_type": "error",
     "traceback": [
      "\u001b[1;31m---------------------------------------------------------------------------\u001b[0m",
      "\u001b[1;31mNameError\u001b[0m                                 Traceback (most recent call last)",
      "\u001b[1;32m<ipython-input-61-575f4700dcd8>\u001b[0m in \u001b[0;36m<module>\u001b[1;34m\u001b[0m\n\u001b[1;32m----> 1\u001b[1;33m \u001b[0mHde\u001b[0m\u001b[1;33m=\u001b[0m\u001b[0mHde\u001b[0m\u001b[1;33m.\u001b[0m\u001b[0mexpand\u001b[0m\u001b[1;33m(\u001b[0m\u001b[1;33m)\u001b[0m\u001b[1;33m.\u001b[0m\u001b[0msubs\u001b[0m\u001b[1;33m(\u001b[0m\u001b[0mmu\u001b[0m\u001b[1;33m**\u001b[0m\u001b[1;36m2\u001b[0m\u001b[1;33m,\u001b[0m\u001b[1;36m0\u001b[0m\u001b[1;33m)\u001b[0m\u001b[1;33m\u001b[0m\u001b[1;33m\u001b[0m\u001b[0m\n\u001b[0m\u001b[0;32m      2\u001b[0m \u001b[0mHe\u001b[0m\u001b[1;33m=\u001b[0m\u001b[0mHe\u001b[0m\u001b[1;33m/\u001b[0m\u001b[0me\u001b[0m\u001b[1;33m\u001b[0m\u001b[1;33m\u001b[0m\u001b[0m\n",
      "\u001b[1;31mNameError\u001b[0m: name 'Hde' is not defined"
     ]
    }
   ],
   "source": [
    "Hde=Hde.expand().subs(mu**2,0)\n",
    "He=He/e"
   ]
  },
  {
   "cell_type": "code",
   "execution_count": 63,
   "id": "36df261a",
   "metadata": {},
   "outputs": [
    {
     "data": {
      "text/latex": [
       "$\\displaystyle \\left[\\begin{array}{ccccccccccccccc}0 & 0 & 0 & 0 & 0 & 0 & 0 & 0 & 0 & 0 & 0 & 0 & 0 & 0 & 0\\\\0 & 0 & 0 & 0 & 0 & 0 & 0 & 0 & 0 & 0 & 0 & 0 & 0 & 0 & 0\\\\0 & 0 & 0 & 0 & 0 & 0 & 0 & 0 & 0 & 0 & 0 & 0 & 0 & 0 & 0\\\\- \\sqrt{2} \\mu & 0 & 0 & 0 & 0 & 0 & 0 & 0 & 0 & 0 & 0 & 0 & 0 & 0 & 0\\\\0 & 0 & 0 & 0 & 0 & 0 & 0 & 0 & 0 & 0 & 0 & 0 & 0 & 0 & 0\\\\0 & 0 & 0 & 0 & 0 & 0 & 0 & 0 & 0 & 0 & 0 & 0 & 0 & 0 & 0\\\\0 & 0 & 0 & 0 & 0 & 0 & 0 & 0 & 0 & 0 & 0 & 0 & 0 & 0 & 0\\\\0 & 0 & 0 & 0 & 0 & 0 & 0 & 0 & 0 & 0 & 0 & 0 & 0 & 0 & 0\\\\0 & 0 & 0 & 0 & 0 & 0 & 0 & 0 & 0 & 0 & 0 & 0 & 0 & 0 & 0\\\\0 & 0 & 0 & 0 & 0 & 0 & 0 & 0 & 0 & 0 & 0 & 0 & 0 & 0 & 0\\\\0 & 0 & 0 & 0 & 0 & 0 & 0 & 0 & 0 & 0 & 0 & 0 & 0 & 0 & 0\\\\0 & 0 & 0 & 0 & 0 & 0 & 0 & 0 & 0 & 0 & 0 & 0 & 0 & 0 & 0\\\\0 & 0 & 0 & 0 & 0 & 0 & 0 & 0 & 0 & 0 & 0 & 0 & 0 & 0 & 0\\\\0 & 0 & 0 & 0 & 0 & 0 & 0 & 0 & 0 & 0 & 0 & 0 & 0 & 0 & 0\\\\0 & 0 & 0 & 0 & 0 & 0 & 0 & 0 & 0 & 0 & 0 & 0 & 0 & 0 & 0\\end{array}\\right]$"
      ],
      "text/plain": [
       "Matrix([\n",
       "[          0, 0, 0, 0, 0, 0, 0, 0, 0, 0, 0, 0, 0, 0, 0],\n",
       "[          0, 0, 0, 0, 0, 0, 0, 0, 0, 0, 0, 0, 0, 0, 0],\n",
       "[          0, 0, 0, 0, 0, 0, 0, 0, 0, 0, 0, 0, 0, 0, 0],\n",
       "[-sqrt(2)*mu, 0, 0, 0, 0, 0, 0, 0, 0, 0, 0, 0, 0, 0, 0],\n",
       "[          0, 0, 0, 0, 0, 0, 0, 0, 0, 0, 0, 0, 0, 0, 0],\n",
       "[          0, 0, 0, 0, 0, 0, 0, 0, 0, 0, 0, 0, 0, 0, 0],\n",
       "[          0, 0, 0, 0, 0, 0, 0, 0, 0, 0, 0, 0, 0, 0, 0],\n",
       "[          0, 0, 0, 0, 0, 0, 0, 0, 0, 0, 0, 0, 0, 0, 0],\n",
       "[          0, 0, 0, 0, 0, 0, 0, 0, 0, 0, 0, 0, 0, 0, 0],\n",
       "[          0, 0, 0, 0, 0, 0, 0, 0, 0, 0, 0, 0, 0, 0, 0],\n",
       "[          0, 0, 0, 0, 0, 0, 0, 0, 0, 0, 0, 0, 0, 0, 0],\n",
       "[          0, 0, 0, 0, 0, 0, 0, 0, 0, 0, 0, 0, 0, 0, 0],\n",
       "[          0, 0, 0, 0, 0, 0, 0, 0, 0, 0, 0, 0, 0, 0, 0],\n",
       "[          0, 0, 0, 0, 0, 0, 0, 0, 0, 0, 0, 0, 0, 0, 0],\n",
       "[          0, 0, 0, 0, 0, 0, 0, 0, 0, 0, 0, 0, 0, 0, 0]])"
      ]
     },
     "execution_count": 63,
     "metadata": {},
     "output_type": "execute_result"
    }
   ],
   "source": [
    "He"
   ]
  },
  {
   "cell_type": "code",
   "execution_count": 63,
   "id": "853c08d0",
   "metadata": {},
   "outputs": [],
   "source": [
    "hlineal=lambdify((mu),He)\n",
    "import dill\n",
    "dill.settings['recurse'] = True"
   ]
  },
  {
   "cell_type": "code",
   "execution_count": 67,
   "id": "878bd97e",
   "metadata": {},
   "outputs": [],
   "source": [
    "dill.dump(hlineal, open(\"H_campo\", \"wb\"))\n"
   ]
  },
  {
   "cell_type": "code",
   "execution_count": 47,
   "id": "86bdfa05",
   "metadata": {},
   "outputs": [],
   "source": [
    "Hde=Hde/de"
   ]
  },
  {
   "cell_type": "code",
   "execution_count": 48,
   "id": "886558db",
   "metadata": {},
   "outputs": [],
   "source": [
    "Hde=simplify(Hde)"
   ]
  },
  {
   "cell_type": "code",
   "execution_count": 49,
   "id": "72f80bf7",
   "metadata": {},
   "outputs": [
    {
     "data": {
      "text/latex": [
       "$\\displaystyle \\left[\\begin{array}{ccccccccccccccc}0 & 0 & 0 & 0 & 0 & 0 & 0 & 0 & 0 & 0 & 0 & 0 & 0 & 0 & 0\\\\- \\frac{\\sqrt{2} \\mu}{g^{2} - 1} & 0 & 0 & 0 & 0 & 0 & 0 & 0 & 0 & 0 & 0 & 0 & 0 & 0 & 0\\\\\\frac{\\sqrt{2} g \\mu}{g^{2} - 1} & 0 & 0 & 0 & 0 & 0 & 0 & 0 & 0 & 0 & 0 & 0 & 0 & 0 & 0\\\\0 & 0 & 0 & 0 & 0 & 0 & 0 & 0 & 0 & 0 & 0 & 0 & 0 & 0 & 0\\\\0 & 0 & 0 & 0 & 0 & 0 & 0 & 0 & 0 & 0 & 0 & 0 & 0 & 0 & 0\\\\0 & 0 & 0 & 0 & 0 & 0 & 0 & 0 & 0 & 0 & 0 & 0 & 0 & 0 & 0\\\\0 & 0 & 0 & 0 & 0 & 0 & 0 & 0 & 0 & 0 & 0 & 0 & 0 & 0 & 0\\\\0 & 0 & 0 & 0 & 0 & 0 & 0 & 0 & 0 & 0 & 0 & 0 & 0 & 0 & 0\\\\0 & 0 & 0 & 0 & 0 & 0 & 0 & 0 & 0 & 0 & 0 & 0 & 0 & 0 & 0\\\\0 & 0 & 0 & 0 & 0 & 0 & 0 & 0 & 0 & 0 & 0 & 0 & 0 & 0 & 0\\\\0 & 0 & 0 & 0 & 0 & 0 & 0 & 0 & 0 & 0 & 0 & 0 & 0 & 0 & 0\\\\0 & 0 & 0 & 0 & 0 & 0 & 0 & 0 & 0 & 0 & 0 & 0 & 0 & 0 & 0\\\\0 & 0 & 0 & 0 & 0 & 0 & 0 & 0 & 0 & 0 & 0 & 0 & 0 & 0 & 0\\\\0 & 0 & 0 & 0 & 0 & 0 & 0 & 0 & 0 & 0 & 0 & 0 & 0 & 0 & 0\\\\0 & 0 & 0 & 0 & 0 & 0 & 0 & 0 & 0 & 0 & 0 & 0 & 0 & 0 & 0\\end{array}\\right]$"
      ],
      "text/plain": [
       "Matrix([\n",
       "[                      0, 0, 0, 0, 0, 0, 0, 0, 0, 0, 0, 0, 0, 0, 0],\n",
       "[ -sqrt(2)*mu/(g**2 - 1), 0, 0, 0, 0, 0, 0, 0, 0, 0, 0, 0, 0, 0, 0],\n",
       "[sqrt(2)*g*mu/(g**2 - 1), 0, 0, 0, 0, 0, 0, 0, 0, 0, 0, 0, 0, 0, 0],\n",
       "[                      0, 0, 0, 0, 0, 0, 0, 0, 0, 0, 0, 0, 0, 0, 0],\n",
       "[                      0, 0, 0, 0, 0, 0, 0, 0, 0, 0, 0, 0, 0, 0, 0],\n",
       "[                      0, 0, 0, 0, 0, 0, 0, 0, 0, 0, 0, 0, 0, 0, 0],\n",
       "[                      0, 0, 0, 0, 0, 0, 0, 0, 0, 0, 0, 0, 0, 0, 0],\n",
       "[                      0, 0, 0, 0, 0, 0, 0, 0, 0, 0, 0, 0, 0, 0, 0],\n",
       "[                      0, 0, 0, 0, 0, 0, 0, 0, 0, 0, 0, 0, 0, 0, 0],\n",
       "[                      0, 0, 0, 0, 0, 0, 0, 0, 0, 0, 0, 0, 0, 0, 0],\n",
       "[                      0, 0, 0, 0, 0, 0, 0, 0, 0, 0, 0, 0, 0, 0, 0],\n",
       "[                      0, 0, 0, 0, 0, 0, 0, 0, 0, 0, 0, 0, 0, 0, 0],\n",
       "[                      0, 0, 0, 0, 0, 0, 0, 0, 0, 0, 0, 0, 0, 0, 0],\n",
       "[                      0, 0, 0, 0, 0, 0, 0, 0, 0, 0, 0, 0, 0, 0, 0],\n",
       "[                      0, 0, 0, 0, 0, 0, 0, 0, 0, 0, 0, 0, 0, 0, 0]])"
      ]
     },
     "execution_count": 49,
     "metadata": {},
     "output_type": "execute_result"
    }
   ],
   "source": [
    "Hde"
   ]
  },
  {
   "cell_type": "code",
   "execution_count": 50,
   "id": "765ad049",
   "metadata": {},
   "outputs": [],
   "source": [
    "func=lambdify((mu,g),Hde)"
   ]
  },
  {
   "cell_type": "code",
   "execution_count": 117,
   "id": "9ae140ba",
   "metadata": {},
   "outputs": [
    {
     "data": {
      "text/latex": [
       "$\\displaystyle \\left[\\begin{array}{ccccccccccccccc}0.0 & 0.0 & 0.0 & 0.0 & 0.0 & 0.0 & 0.0 & 0.0 & 0.0 & 0.0 & 0.0 & 0.0 & 0.0 & 0.0 & 0.0\\\\2.85699709570322 & 0.0 & 0.0 & 0.0 & 0.0 & 0.0 & 0.0 & 0.0 & 0.0 & 0.0 & 0.0 & 0.0 & 0.0 & 0.0 & 0.0\\\\-0.285699709570322 & 0.0 & 0.0 & 0.0 & 0.0 & 0.0 & 0.0 & 0.0 & 0.0 & 0.0 & 0.0 & 0.0 & 0.0 & 0.0 & 0.0\\\\0.0 & 0.0 & 0.0 & 0.0 & 0.0 & 0.0 & 0.0 & 0.0 & 0.0 & 0.0 & 0.0 & 0.0 & 0.0 & 0.0 & 0.0\\\\0.0 & 0.0 & 0.0 & 0.0 & 0.0 & 0.0 & 0.0 & 0.0 & 0.0 & 0.0 & 0.0 & 0.0 & 0.0 & 0.0 & 0.0\\\\-5.71399419140644 & 0.0 & 0.0 & 0.0 & 0.0 & 0.0 & 0.0 & 0.0 & 0.0 & 0.0 & 0.0 & 0.0 & 0.0 & 0.0 & 0.0\\\\0.0 & 0.285699709570322 & -2.85699709570322 & 0.0 & 0.0 & 0.0 & 0.0 & 0.0 & 0.0 & 0.0 & 0.0 & 0.0 & 0.0 & 0.0 & 0.0\\\\0.0 & 0.0 & 0.0 & -2.85699709570322 & 0.0 & 0.0 & 0.0 & 0.0 & 0.0 & 0.0 & 0.0 & 0.0 & 0.0 & 0.0 & 0.0\\\\0.0 & 0.0 & 0.0 & 0.0 & -2.85699709570322 & 0.0 & 0.0 & 0.0 & 0.0 & 0.0 & 0.0 & 0.0 & 0.0 & 0.0 & 0.0\\\\-0.571399419140645 & 0.0 & 0.0 & 0.0 & 0.0 & 0.0 & 0.0 & 0.0 & 0.0 & 0.0 & 0.0 & 0.0 & 0.0 & 0.0 & 0.0\\\\0.0 & 0.0 & 0.0 & 0.285699709570322 & 0.0 & 0.0 & 0.0 & 0.0 & 0.0 & 0.0 & 0.0 & 0.0 & 0.0 & 0.0 & 0.0\\\\0.0 & 0.0 & 0.0 & 0.0 & 0.285699709570322 & 0.0 & 0.0 & 0.0 & 0.0 & 0.0 & 0.0 & 0.0 & 0.0 & 0.0 & 0.0\\\\0.0 & 0.0 & 0.0 & 0.0 & 0.0 & 0.0 & 0.0 & 0.0 & 0.0 & 0.0 & 0.0 & 0.0 & 0.0 & 0.0 & 0.0\\\\0.0 & 0.0 & 0.0 & 0.0 & 0.0 & 0.0 & 0.0 & 0.0 & 0.0 & 0.0 & 0.0 & 0.0 & 0.0 & 0.0 & 0.0\\\\0.0 & 0.0 & 0.0 & 0.0 & 0.0 & 0.0 & 0.0 & 0.0 & 0.0 & 0.0 & 0.0 & 0.0 & 0.0 & 0.0 & 0.0\\end{array}\\right]$"
      ],
      "text/plain": [
       "Matrix([\n",
       "[               0.0,               0.0,               0.0,               0.0,               0.0, 0.0, 0.0, 0.0, 0.0, 0.0, 0.0, 0.0, 0.0, 0.0, 0.0],\n",
       "[  2.85699709570322,               0.0,               0.0,               0.0,               0.0, 0.0, 0.0, 0.0, 0.0, 0.0, 0.0, 0.0, 0.0, 0.0, 0.0],\n",
       "[-0.285699709570322,               0.0,               0.0,               0.0,               0.0, 0.0, 0.0, 0.0, 0.0, 0.0, 0.0, 0.0, 0.0, 0.0, 0.0],\n",
       "[               0.0,               0.0,               0.0,               0.0,               0.0, 0.0, 0.0, 0.0, 0.0, 0.0, 0.0, 0.0, 0.0, 0.0, 0.0],\n",
       "[               0.0,               0.0,               0.0,               0.0,               0.0, 0.0, 0.0, 0.0, 0.0, 0.0, 0.0, 0.0, 0.0, 0.0, 0.0],\n",
       "[ -5.71399419140644,               0.0,               0.0,               0.0,               0.0, 0.0, 0.0, 0.0, 0.0, 0.0, 0.0, 0.0, 0.0, 0.0, 0.0],\n",
       "[               0.0, 0.285699709570322, -2.85699709570322,               0.0,               0.0, 0.0, 0.0, 0.0, 0.0, 0.0, 0.0, 0.0, 0.0, 0.0, 0.0],\n",
       "[               0.0,               0.0,               0.0, -2.85699709570322,               0.0, 0.0, 0.0, 0.0, 0.0, 0.0, 0.0, 0.0, 0.0, 0.0, 0.0],\n",
       "[               0.0,               0.0,               0.0,               0.0, -2.85699709570322, 0.0, 0.0, 0.0, 0.0, 0.0, 0.0, 0.0, 0.0, 0.0, 0.0],\n",
       "[-0.571399419140645,               0.0,               0.0,               0.0,               0.0, 0.0, 0.0, 0.0, 0.0, 0.0, 0.0, 0.0, 0.0, 0.0, 0.0],\n",
       "[               0.0,               0.0,               0.0, 0.285699709570322,               0.0, 0.0, 0.0, 0.0, 0.0, 0.0, 0.0, 0.0, 0.0, 0.0, 0.0],\n",
       "[               0.0,               0.0,               0.0,               0.0, 0.285699709570322, 0.0, 0.0, 0.0, 0.0, 0.0, 0.0, 0.0, 0.0, 0.0, 0.0],\n",
       "[               0.0,               0.0,               0.0,               0.0,               0.0, 0.0, 0.0, 0.0, 0.0, 0.0, 0.0, 0.0, 0.0, 0.0, 0.0],\n",
       "[               0.0,               0.0,               0.0,               0.0,               0.0, 0.0, 0.0, 0.0, 0.0, 0.0, 0.0, 0.0, 0.0, 0.0, 0.0],\n",
       "[               0.0,               0.0,               0.0,               0.0,               0.0, 0.0, 0.0, 0.0, 0.0, 0.0, 0.0, 0.0, 0.0, 0.0, 0.0]])"
      ]
     },
     "execution_count": 117,
     "metadata": {},
     "output_type": "execute_result"
    }
   ],
   "source": [
    "Matrix(func(2,0.1))"
   ]
  },
  {
   "cell_type": "code",
   "execution_count": 65,
   "id": "5b48202d",
   "metadata": {},
   "outputs": [],
   "source": [
    "h0lineal=lambdify(g,H0)\n"
   ]
  },
  {
   "cell_type": "code",
   "execution_count": 66,
   "id": "69daedb0",
   "metadata": {},
   "outputs": [],
   "source": [
    "dill.dump(h0lineal, open(\"H_0\", \"wb\"))\n"
   ]
  },
  {
   "cell_type": "code",
   "execution_count": 56,
   "id": "8e83a074",
   "metadata": {},
   "outputs": [
    {
     "data": {
      "text/latex": [
       "$\\displaystyle \\left[\\begin{array}{ccccccccccccccc}0 & 0 & 0 & 0 & 0 & 0 & 0 & 0 & 0 & 0 & 0 & 0 & 0 & 0 & 0\\\\0 & 0 & 0 & -1 & - g & 0 & 0 & 0 & 0 & 0 & 0 & 0 & 0 & 0 & 0\\\\0 & 0 & 0 & - g & -1 & 0 & 0 & 0 & 0 & 0 & 0 & 0 & 0 & 0 & 0\\\\0 & 1 & g & 0 & 0 & 0 & 0 & 0 & 0 & 0 & 0 & 0 & 0 & 0 & 0\\\\0 & g & 1 & 0 & 0 & 0 & 0 & 0 & 0 & 0 & 0 & 0 & 0 & 0 & 0\\\\0 & 0 & 0 & 0 & 0 & - 2 g & -2 & 0 & 0 & 0 & 0 & 0 & 0 & 0 & 0\\\\0 & 0 & 0 & 0 & 0 & 1 & 0 & 0 & 0 & -1 & 0 & 0 & 0 & 0 & 0\\\\0 & 0 & 0 & 0 & 0 & 0 & 0 & - 2 g & -1 & 0 & -1 & 0 & 0 & 0 & 0\\\\0 & 0 & 0 & 0 & 0 & 0 & 0 & 1 & 0 & 0 & 0 & -1 & 0 & 0 & 0\\\\0 & 0 & 0 & 0 & 0 & 0 & 2 & 0 & 0 & 2 g & 0 & 0 & 0 & 0 & 0\\\\0 & 0 & 0 & 0 & 0 & 0 & 0 & 1 & 0 & 0 & 0 & -1 & 0 & 0 & 0\\\\0 & 0 & 0 & 0 & 0 & 0 & 0 & 0 & 1 & 0 & 1 & 2 g & 0 & 0 & 0\\\\0 & 0 & 0 & 0 & 0 & 0 & 0 & 0 & 0 & 0 & 0 & 0 & - 2 g & -2 & 0\\\\0 & 0 & 0 & 0 & 0 & 0 & 0 & 0 & 0 & 0 & 0 & 0 & 1 & 0 & -1\\\\0 & 0 & 0 & 0 & 0 & 0 & 0 & 0 & 0 & 0 & 0 & 0 & 0 & 2 & 2 g\\end{array}\\right]$"
      ],
      "text/plain": [
       "Matrix([\n",
       "[0, 0, 0,  0,  0,    0,  0,    0,  0,   0,  0,   0,    0,  0,   0],\n",
       "[0, 0, 0, -1, -g,    0,  0,    0,  0,   0,  0,   0,    0,  0,   0],\n",
       "[0, 0, 0, -g, -1,    0,  0,    0,  0,   0,  0,   0,    0,  0,   0],\n",
       "[0, 1, g,  0,  0,    0,  0,    0,  0,   0,  0,   0,    0,  0,   0],\n",
       "[0, g, 1,  0,  0,    0,  0,    0,  0,   0,  0,   0,    0,  0,   0],\n",
       "[0, 0, 0,  0,  0, -2*g, -2,    0,  0,   0,  0,   0,    0,  0,   0],\n",
       "[0, 0, 0,  0,  0,    1,  0,    0,  0,  -1,  0,   0,    0,  0,   0],\n",
       "[0, 0, 0,  0,  0,    0,  0, -2*g, -1,   0, -1,   0,    0,  0,   0],\n",
       "[0, 0, 0,  0,  0,    0,  0,    1,  0,   0,  0,  -1,    0,  0,   0],\n",
       "[0, 0, 0,  0,  0,    0,  2,    0,  0, 2*g,  0,   0,    0,  0,   0],\n",
       "[0, 0, 0,  0,  0,    0,  0,    1,  0,   0,  0,  -1,    0,  0,   0],\n",
       "[0, 0, 0,  0,  0,    0,  0,    0,  1,   0,  1, 2*g,    0,  0,   0],\n",
       "[0, 0, 0,  0,  0,    0,  0,    0,  0,   0,  0,   0, -2*g, -2,   0],\n",
       "[0, 0, 0,  0,  0,    0,  0,    0,  0,   0,  0,   0,    1,  0,  -1],\n",
       "[0, 0, 0,  0,  0,    0,  0,    0,  0,   0,  0,   0,    0,  2, 2*g]])"
      ]
     },
     "execution_count": 56,
     "metadata": {},
     "output_type": "execute_result"
    }
   ],
   "source": [
    "H0"
   ]
  },
  {
   "cell_type": "code",
   "execution_count": 69,
   "id": "cfa26d54",
   "metadata": {},
   "outputs": [],
   "source": [
    "from Integrals import overlap2"
   ]
  },
  {
   "cell_type": "code",
   "execution_count": 70,
   "id": "2bad0bb9",
   "metadata": {},
   "outputs": [],
   "source": [
    "vector1=[1,1,1,1,1,1,1,1,1,1,1,1,1,1,1]\n",
    "vector2=[1,1,1,1,1,1,1,1,1,1,1,1,1,1,1]\n"
   ]
  },
  {
   "cell_type": "code",
   "execution_count": 71,
   "id": "dde9158e",
   "metadata": {},
   "outputs": [],
   "source": [
    "V=[[vector1[5],vector1[6],vector1[7],vector1[8]],[1,vector1[9],vector1[10],vector1[11]],[1,1,vector1[12],vector1[13]],[1,1,1,vector1[14]]]\n",
    "R=[vector1[i] for i in range(1,5)]\n",
    "B=[[vector2[5],vector2[6],vector2[7],vector2[8]],[1,vector2[9],vector2[10],vector2[11]],[1,1,vector2[12],vector2[13]],[1,1,1,vector2[14]]]\n",
    "S=[vector2[i] for i in range(1,5)]"
   ]
  },
  {
   "cell_type": "code",
   "execution_count": 72,
   "id": "54a26559",
   "metadata": {},
   "outputs": [
    {
     "data": {
      "text/plain": [
       "[[1, 1, 1, 1], [1, 1, 1, 1], [1, 1, 1, 1], [1, 1, 1, 1]]"
      ]
     },
     "execution_count": 72,
     "metadata": {},
     "output_type": "execute_result"
    }
   ],
   "source": [
    "V"
   ]
  },
  {
   "cell_type": "code",
   "execution_count": 73,
   "id": "a3377a56",
   "metadata": {},
   "outputs": [
    {
     "data": {
      "text/plain": [
       "[1, 1, 1, 1]"
      ]
     },
     "execution_count": 73,
     "metadata": {},
     "output_type": "execute_result"
    }
   ],
   "source": [
    "R"
   ]
  },
  {
   "cell_type": "code",
   "execution_count": 74,
   "id": "e0ade5e6",
   "metadata": {},
   "outputs": [
    {
     "data": {
      "text/plain": [
       "[[1, 1, 1, 1], [1, 1, 1, 1], [1, 1, 1, 1], [1, 1, 1, 1]]"
      ]
     },
     "execution_count": 74,
     "metadata": {},
     "output_type": "execute_result"
    }
   ],
   "source": [
    "B"
   ]
  },
  {
   "cell_type": "code",
   "execution_count": 75,
   "id": "dfb55e9b",
   "metadata": {},
   "outputs": [
    {
     "data": {
      "text/plain": [
       "[1, 1, 1, 1]"
      ]
     },
     "execution_count": 75,
     "metadata": {},
     "output_type": "execute_result"
    }
   ],
   "source": [
    "S"
   ]
  },
  {
   "cell_type": "code",
   "execution_count": 76,
   "id": "0040d4b5",
   "metadata": {},
   "outputs": [
    {
     "data": {
      "text/plain": [
       "(1+0j)"
      ]
     },
     "execution_count": 76,
     "metadata": {},
     "output_type": "execute_result"
    }
   ],
   "source": [
    "overlap2(vector1,vector2)"
   ]
  },
  {
   "cell_type": "code",
   "execution_count": 102,
   "id": "2a76c929",
   "metadata": {
    "scrolled": true
   },
   "outputs": [
    {
     "data": {
      "text/latex": [
       "$\\displaystyle e{\\left(t \\right)} \\frac{d}{d t} e{\\left(t \\right)}$"
      ],
      "text/plain": [
       "e(t)*Derivative(e(t), t)"
      ]
     },
     "execution_count": 102,
     "metadata": {},
     "output_type": "execute_result"
    }
   ],
   "source": [
    "(e*de)"
   ]
  },
  {
   "cell_type": "code",
   "execution_count": 107,
   "id": "ca8e496a",
   "metadata": {},
   "outputs": [
    {
     "data": {
      "text/latex": [
       "$\\displaystyle \\sin{\\left(2 \\right)} \\cos{\\left(2 \\right)}$"
      ],
      "text/plain": [
       "sin(2)*cos(2)"
      ]
     },
     "execution_count": 107,
     "metadata": {},
     "output_type": "execute_result"
    }
   ],
   "source": [
    "sp.sin(2)*sp.cos(2)"
   ]
  },
  {
   "cell_type": "code",
   "execution_count": null,
   "id": "15eb8617",
   "metadata": {},
   "outputs": [],
   "source": []
  },
  {
   "cell_type": "code",
   "execution_count": null,
   "id": "2bfc04e5",
   "metadata": {},
   "outputs": [],
   "source": []
  },
  {
   "cell_type": "markdown",
   "id": "0971bf99",
   "metadata": {},
   "source": []
  }
 ],
 "metadata": {
  "@webio": {
   "lastCommId": null,
   "lastKernelId": null
  },
  "colab": {
   "collapsed_sections": [],
   "name": "EDO-sympy.ipynb",
   "provenance": []
  },
  "kernelspec": {
   "display_name": "Python 3 (ipykernel)",
   "language": "python",
   "name": "python3"
  },
  "language_info": {
   "codemirror_mode": {
    "name": "ipython",
    "version": 3
   },
   "file_extension": ".py",
   "mimetype": "text/x-python",
   "name": "python",
   "nbconvert_exporter": "python",
   "pygments_lexer": "ipython3",
   "version": "3.9.7"
  }
 },
 "nbformat": 4,
 "nbformat_minor": 5
}
