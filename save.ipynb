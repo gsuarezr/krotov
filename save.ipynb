{
 "cells": [
  {
   "cell_type": "code",
   "execution_count": 1,
   "id": "852f527a",
   "metadata": {
    "id": "55eb7a00"
   },
   "outputs": [],
   "source": [
    "#import krotov\n",
    "#import qutip as qt# NBVAL_IGNORE_OUTPUT\n",
    "#import qutip\n",
    "#import numpy as np\n",
    "#import scipy\n",
    "#import matplotlib\n",
    "#import matplotlib.pylab as plt\n",
    "#import krotov\n",
    "import numpy as np\n",
    "import sympy as sp\n",
    "from sympy import Function,Symbol,symbols,zeros,Matrix,sqrt,simplify,solve,diff,dsolve,lambdify\n",
    "from scipy.integrate import odeint\n",
    "import matplotlib.pyplot as plt"
   ]
  },
  {
   "cell_type": "code",
   "execution_count": 2,
   "id": "bf1f1467",
   "metadata": {
    "id": "c348f286"
   },
   "outputs": [],
   "source": [
    "t=Symbol('t')\n",
    "x = Function('x')(t)\n",
    "c= Function('c')(t)\n",
    "x1 = Function('x1')(t)\n",
    "x2 = Function('x2')(t)\n",
    "p1= Function('p1')(t)\n",
    "p2 = Function('p2')(t)\n",
    "e=Function('e')(t)\n",
    "mu,g=symbols('mu g')\n",
    "x11,x12,p11,p12,e1,de1,c1=symbols('x1 x2 p1 p2 e de c')\n",
    "de=diff(e,t)\n",
    "F=zeros(2,2)\n",
    "F[0,1]=1\n",
    "F[1,0]=-1\n",
    "B=zeros(2,2)\n",
    "B[0,0]=1\n",
    "B[1,1]=-1\n",
    "#A=np.block([\n",
    " #       [g*B+F,             Matrix([[0,0],[0,0]])],\n",
    "  #      [Matrix([[0,0],[0,0]]), g*B  +F             ]\n",
    "   #     ])\n",
    "A=sp.Matrix([[0,0,0,0,0],[0,0,0,1,g],[0,0,0,g,1],[0,-1,-g,0,0],[0,-g,-1,0,0]])\n",
    "v=[]\n",
    "v.append(c)\n",
    "v.append(x1+sqrt(2)*mu*e*c/(1-pow(g,2)))\n",
    "v.append(x2-sqrt(2)*mu*e*g*c/(1-pow(g,2)))\n",
    "v.append(p1)\n",
    "v.append(p2)"
   ]
  },
  {
   "cell_type": "code",
   "execution_count": 3,
   "id": "26ba8224",
   "metadata": {},
   "outputs": [],
   "source": [
    "def to_symbols(expr):\n",
    "    return expr.subs({x1:x11,x2:x12,p1:p11,p2:p12,e:e1,diff(e,t):de1,c:c1})"
   ]
  },
  {
   "cell_type": "code",
   "execution_count": null,
   "id": "f265aa61",
   "metadata": {
    "scrolled": true
   },
   "outputs": [],
   "source": []
  },
  {
   "cell_type": "code",
   "execution_count": 4,
   "id": "9014ee57",
   "metadata": {
    "colab": {
     "base_uri": "https://localhost:8080/",
     "height": 114
    },
    "id": "7b20d788",
    "outputId": "72c1af1c-2d1b-4722-9114-1759e34137c4"
   },
   "outputs": [
    {
     "data": {
      "text/latex": [
       "$\\displaystyle \\left[\\begin{matrix}c\\\\\\frac{\\sqrt{2} c e \\mu}{1 - g^{2}} + x_{1}\\\\- \\frac{\\sqrt{2} c e g \\mu}{1 - g^{2}} + x_{2}\\\\p_{1}\\\\p_{2}\\end{matrix}\\right]$"
      ],
      "text/plain": [
       "Matrix([\n",
       "[                                c],\n",
       "[   sqrt(2)*c*e*mu/(1 - g**2) + x1],\n",
       "[-sqrt(2)*c*e*g*mu/(1 - g**2) + x2],\n",
       "[                               p1],\n",
       "[                               p2]])"
      ]
     },
     "execution_count": 4,
     "metadata": {},
     "output_type": "execute_result"
    }
   ],
   "source": [
    "v=Matrix(v)\n",
    "to_symbols(v)"
   ]
  },
  {
   "cell_type": "code",
   "execution_count": 5,
   "id": "58b77232",
   "metadata": {
    "colab": {
     "base_uri": "https://localhost:8080/",
     "height": 146
    },
    "id": "dc77285a",
    "outputId": "5bd0ebfd-048a-4cf1-cfb4-2938f0015ebf",
    "scrolled": true
   },
   "outputs": [
    {
     "data": {
      "text/latex": [
       "$\\displaystyle \\left[\\begin{matrix}\\frac{d}{d t} c{\\left(t \\right)}\\\\\\frac{- \\sqrt{2} \\mu c{\\left(t \\right)} \\frac{d}{d t} e{\\left(t \\right)} - \\sqrt{2} \\mu e{\\left(t \\right)} \\frac{d}{d t} c{\\left(t \\right)} + \\left(g^{2} - 1\\right) \\left(- g \\operatorname{p_{2}}{\\left(t \\right)} - \\operatorname{p_{1}}{\\left(t \\right)} + \\frac{d}{d t} \\operatorname{x_{1}}{\\left(t \\right)}\\right)}{g^{2} - 1}\\\\\\frac{\\sqrt{2} g \\mu c{\\left(t \\right)} \\frac{d}{d t} e{\\left(t \\right)} + \\sqrt{2} g \\mu e{\\left(t \\right)} \\frac{d}{d t} c{\\left(t \\right)} + \\left(g^{2} - 1\\right) \\left(- g \\operatorname{p_{1}}{\\left(t \\right)} - \\operatorname{p_{2}}{\\left(t \\right)} + \\frac{d}{d t} \\operatorname{x_{2}}{\\left(t \\right)}\\right)}{g^{2} - 1}\\\\g \\operatorname{x_{2}}{\\left(t \\right)} + \\sqrt{2} \\mu c{\\left(t \\right)} e{\\left(t \\right)} + \\operatorname{x_{1}}{\\left(t \\right)} + \\frac{d}{d t} \\operatorname{p_{1}}{\\left(t \\right)}\\\\g \\operatorname{x_{1}}{\\left(t \\right)} + \\operatorname{x_{2}}{\\left(t \\right)} + \\frac{d}{d t} \\operatorname{p_{2}}{\\left(t \\right)}\\end{matrix}\\right]$"
      ],
      "text/plain": [
       "Matrix([\n",
       "[                                                                                                                              Derivative(c(t), t)],\n",
       "[   (-sqrt(2)*mu*c(t)*Derivative(e(t), t) - sqrt(2)*mu*e(t)*Derivative(c(t), t) + (g**2 - 1)*(-g*p2(t) - p1(t) + Derivative(x1(t), t)))/(g**2 - 1)],\n",
       "[(sqrt(2)*g*mu*c(t)*Derivative(e(t), t) + sqrt(2)*g*mu*e(t)*Derivative(c(t), t) + (g**2 - 1)*(-g*p1(t) - p2(t) + Derivative(x2(t), t)))/(g**2 - 1)],\n",
       "[                                                                                    g*x2(t) + sqrt(2)*mu*c(t)*e(t) + x1(t) + Derivative(p1(t), t)],\n",
       "[                                                                                                           g*x1(t) + x2(t) + Derivative(p2(t), t)]])"
      ]
     },
     "execution_count": 5,
     "metadata": {},
     "output_type": "execute_result"
    }
   ],
   "source": [
    "r=simplify(diff(v,t)-Matrix(A)*Matrix(v))\n",
    "r"
   ]
  },
  {
   "cell_type": "code",
   "execution_count": 8,
   "id": "1039effb",
   "metadata": {},
   "outputs": [],
   "source": [
    "vector=diff(Matrix([c,x1,x2,p1,p2]),t)"
   ]
  },
  {
   "cell_type": "code",
   "execution_count": 8,
   "id": "53b31b46",
   "metadata": {},
   "outputs": [],
   "source": [
    "import sympy\n",
    "#eqs=list(to_symbols(Matrix(A)*Matrix(v)))\n",
    "#t=sympy.linear_eq_to_matrix(eqs, [x11,x12,p11,p12,c1])[0]\n"
   ]
  },
  {
   "cell_type": "code",
   "execution_count": 9,
   "id": "305563b7",
   "metadata": {},
   "outputs": [],
   "source": [
    "#t2=sympy.linear_eq_to_matrix(eqs, [x11,x12,p11,p12,c1])[1]"
   ]
  },
  {
   "cell_type": "code",
   "execution_count": 10,
   "id": "5ad38ce3",
   "metadata": {},
   "outputs": [],
   "source": [
    "#t*Matrix([x11,x12,p11,p12,c1])"
   ]
  },
  {
   "cell_type": "code",
   "execution_count": 9,
   "id": "812b77e7",
   "metadata": {},
   "outputs": [
    {
     "data": {
      "text/latex": [
       "$\\displaystyle \\left[\\begin{matrix}0\\\\\\frac{- g^{3} \\operatorname{p_{2}}{\\left(t \\right)} - g^{2} \\operatorname{p_{1}}{\\left(t \\right)} + g \\operatorname{p_{2}}{\\left(t \\right)} - \\sqrt{2} \\mu c{\\left(t \\right)} \\frac{d}{d t} e{\\left(t \\right)} - \\sqrt{2} \\mu e{\\left(t \\right)} \\frac{d}{d t} c{\\left(t \\right)} + \\operatorname{p_{1}}{\\left(t \\right)}}{g^{2} - 1}\\\\\\frac{- g^{3} \\operatorname{p_{1}}{\\left(t \\right)} - g^{2} \\operatorname{p_{2}}{\\left(t \\right)} + \\sqrt{2} g \\mu c{\\left(t \\right)} \\frac{d}{d t} e{\\left(t \\right)} + \\sqrt{2} g \\mu e{\\left(t \\right)} \\frac{d}{d t} c{\\left(t \\right)} + g \\operatorname{p_{1}}{\\left(t \\right)} + \\operatorname{p_{2}}{\\left(t \\right)}}{g^{2} - 1}\\\\g \\operatorname{x_{2}}{\\left(t \\right)} + \\sqrt{2} \\mu c{\\left(t \\right)} e{\\left(t \\right)} + \\operatorname{x_{1}}{\\left(t \\right)}\\\\g \\operatorname{x_{1}}{\\left(t \\right)} + \\operatorname{x_{2}}{\\left(t \\right)}\\end{matrix}\\right]$"
      ],
      "text/plain": [
       "Matrix([\n",
       "[                                                                                                                                      0],\n",
       "[    (-g**3*p2(t) - g**2*p1(t) + g*p2(t) - sqrt(2)*mu*c(t)*Derivative(e(t), t) - sqrt(2)*mu*e(t)*Derivative(c(t), t) + p1(t))/(g**2 - 1)],\n",
       "[(-g**3*p1(t) - g**2*p2(t) + sqrt(2)*g*mu*c(t)*Derivative(e(t), t) + sqrt(2)*g*mu*e(t)*Derivative(c(t), t) + g*p1(t) + p2(t))/(g**2 - 1)],\n",
       "[                                                                                                 g*x2(t) + sqrt(2)*mu*c(t)*e(t) + x1(t)],\n",
       "[                                                                                                                        g*x1(t) + x2(t)]])"
      ]
     },
     "execution_count": 9,
     "metadata": {},
     "output_type": "execute_result"
    }
   ],
   "source": [
    "sol=simplify(r-diff(Matrix([c,x1,x2,p1,p2]),t))\n",
    "sol"
   ]
  },
  {
   "cell_type": "code",
   "execution_count": 10,
   "id": "02655271",
   "metadata": {},
   "outputs": [],
   "source": [
    "import sympy\n",
    "eqs=list(to_symbols(sol.subs(diff(c,t),0)))\n",
    "t=sympy.linear_eq_to_matrix(eqs, [c1,x11,x12,p11,p12])[0]\n",
    "t2=sympy.linear_eq_to_matrix(eqs, [c1,x11,x12,p11,p12])[1]\n"
   ]
  },
  {
   "cell_type": "code",
   "execution_count": 11,
   "id": "7ec6341e",
   "metadata": {},
   "outputs": [
    {
     "data": {
      "text/latex": [
       "$\\displaystyle \\left[\\begin{matrix}\\frac{d}{d t} c{\\left(t \\right)}\\\\- \\frac{\\sqrt{2} c de \\mu}{g^{2} - 1} + \\frac{p_{1} \\left(1 - g^{2}\\right)}{g^{2} - 1} + \\frac{p_{2} \\left(- g^{3} + g\\right)}{g^{2} - 1} + \\frac{d}{d t} \\operatorname{x_{1}}{\\left(t \\right)}\\\\\\frac{\\sqrt{2} c de g \\mu}{g^{2} - 1} + \\frac{p_{1} \\left(- g^{3} + g\\right)}{g^{2} - 1} + \\frac{p_{2} \\left(1 - g^{2}\\right)}{g^{2} - 1} + \\frac{d}{d t} \\operatorname{x_{2}}{\\left(t \\right)}\\\\\\sqrt{2} c e \\mu + g x_{2} + x_{1} + \\frac{d}{d t} \\operatorname{p_{1}}{\\left(t \\right)}\\\\g x_{1} + x_{2} + \\frac{d}{d t} \\operatorname{p_{2}}{\\left(t \\right)}\\end{matrix}\\right]$"
      ],
      "text/plain": [
       "Matrix([\n",
       "[                                                                                       Derivative(c(t), t)],\n",
       "[ -sqrt(2)*c*de*mu/(g**2 - 1) + p1*(1 - g**2)/(g**2 - 1) + p2*(-g**3 + g)/(g**2 - 1) + Derivative(x1(t), t)],\n",
       "[sqrt(2)*c*de*g*mu/(g**2 - 1) + p1*(-g**3 + g)/(g**2 - 1) + p2*(1 - g**2)/(g**2 - 1) + Derivative(x2(t), t)],\n",
       "[                                                         sqrt(2)*c*e*mu + g*x2 + x1 + Derivative(p1(t), t)],\n",
       "[                                                                          g*x1 + x2 + Derivative(p2(t), t)]])"
      ]
     },
     "execution_count": 11,
     "metadata": {},
     "output_type": "execute_result"
    }
   ],
   "source": [
    "t*Matrix([c1,x11,x12,p11,p12])+vector"
   ]
  },
  {
   "cell_type": "code",
   "execution_count": 12,
   "id": "1f457898",
   "metadata": {},
   "outputs": [],
   "source": [
    "def to_func(expr):\n",
    "    return expr.subs({x11:x1,x12:x2,p11:p1,p12:p2,e1:e,de1:de,c1:c})"
   ]
  },
  {
   "cell_type": "code",
   "execution_count": 13,
   "id": "2ba61d3c",
   "metadata": {},
   "outputs": [
    {
     "data": {
      "text/latex": [
       "$\\displaystyle \\left[\\begin{matrix}\\frac{d}{d t} c{\\left(t \\right)}\\\\- \\frac{\\sqrt{2} \\mu c{\\left(t \\right)} \\frac{d}{d t} e{\\left(t \\right)}}{g^{2} - 1} + \\frac{\\left(1 - g^{2}\\right) \\operatorname{p_{1}}{\\left(t \\right)}}{g^{2} - 1} + \\frac{d}{d t} \\operatorname{x_{1}}{\\left(t \\right)} + \\frac{\\left(- g^{3} + g\\right) \\operatorname{p_{2}}{\\left(t \\right)}}{g^{2} - 1}\\\\\\frac{\\sqrt{2} g \\mu c{\\left(t \\right)} \\frac{d}{d t} e{\\left(t \\right)}}{g^{2} - 1} + \\frac{\\left(1 - g^{2}\\right) \\operatorname{p_{2}}{\\left(t \\right)}}{g^{2} - 1} + \\frac{d}{d t} \\operatorname{x_{2}}{\\left(t \\right)} + \\frac{\\left(- g^{3} + g\\right) \\operatorname{p_{1}}{\\left(t \\right)}}{g^{2} - 1}\\\\g \\operatorname{x_{2}}{\\left(t \\right)} + \\sqrt{2} \\mu c{\\left(t \\right)} e{\\left(t \\right)} + \\operatorname{x_{1}}{\\left(t \\right)} + \\frac{d}{d t} \\operatorname{p_{1}}{\\left(t \\right)}\\\\g \\operatorname{x_{1}}{\\left(t \\right)} + \\operatorname{x_{2}}{\\left(t \\right)} + \\frac{d}{d t} \\operatorname{p_{2}}{\\left(t \\right)}\\end{matrix}\\right]$"
      ],
      "text/plain": [
       "Matrix([\n",
       "[                                                                                                                 Derivative(c(t), t)],\n",
       "[ -sqrt(2)*mu*c(t)*Derivative(e(t), t)/(g**2 - 1) + (1 - g**2)*p1(t)/(g**2 - 1) + Derivative(x1(t), t) + (-g**3 + g)*p2(t)/(g**2 - 1)],\n",
       "[sqrt(2)*g*mu*c(t)*Derivative(e(t), t)/(g**2 - 1) + (1 - g**2)*p2(t)/(g**2 - 1) + Derivative(x2(t), t) + (-g**3 + g)*p1(t)/(g**2 - 1)],\n",
       "[                                                                       g*x2(t) + sqrt(2)*mu*c(t)*e(t) + x1(t) + Derivative(p1(t), t)],\n",
       "[                                                                                              g*x1(t) + x2(t) + Derivative(p2(t), t)]])"
      ]
     },
     "execution_count": 13,
     "metadata": {},
     "output_type": "execute_result"
    }
   ],
   "source": [
    "new_eqs=to_func(t*Matrix([c1,x11,x12,p11,p12])+vector)\n",
    "new_eqs"
   ]
  },
  {
   "cell_type": "code",
   "execution_count": 14,
   "id": "402334c8",
   "metadata": {},
   "outputs": [],
   "source": [
    "#field=np.linspace(0,100,1000)\n",
    "lista=np.random.rand(5)\n",
    "time,dt=np.linspace(1,10,5,retstep=True)\n",
    "def field_discrete(lista,t,dt):\n",
    "    return lista[int(t/dt)]\n",
    "\n",
    "def derivative(lista,t,dt):\n",
    "    return np.array([(lista[j]-lista[j-1])/(dt) if (j!=0)&(j!=len(lista)) else lista[j] for j in range(0,len(lista))])[int(t/dt)]"
   ]
  },
  {
   "cell_type": "code",
   "execution_count": 17,
   "id": "681ccaea",
   "metadata": {},
   "outputs": [
    {
     "data": {
      "text/plain": [
       "array([0.91715327, 0.42174115, 0.42131624, 0.63855785, 0.8087509 ])"
      ]
     },
     "execution_count": 17,
     "metadata": {},
     "output_type": "execute_result"
    }
   ],
   "source": [
    "lista"
   ]
  },
  {
   "cell_type": "code",
   "execution_count": 18,
   "id": "e19e89d8",
   "metadata": {},
   "outputs": [
    {
     "data": {
      "text/plain": [
       "-0.22018316183585732"
      ]
     },
     "execution_count": 18,
     "metadata": {},
     "output_type": "execute_result"
    }
   ],
   "source": [
    "derivative(lista,time[1],dt)"
   ]
  },
  {
   "cell_type": "code",
   "execution_count": 19,
   "id": "e1b354d0",
   "metadata": {},
   "outputs": [
    {
     "data": {
      "text/plain": [
       "-0.22018316183585732"
      ]
     },
     "execution_count": 19,
     "metadata": {},
     "output_type": "execute_result"
    }
   ],
   "source": [
    "(lista[1]-lista[0])/dt"
   ]
  },
  {
   "cell_type": "code",
   "execution_count": 20,
   "id": "8483d0e1",
   "metadata": {},
   "outputs": [
    {
     "data": {
      "text/plain": [
       "0.8087508954459718"
      ]
     },
     "execution_count": 20,
     "metadata": {},
     "output_type": "execute_result"
    }
   ],
   "source": [
    "field_discrete(lista,10,dt)"
   ]
  },
  {
   "cell_type": "code",
   "execution_count": 21,
   "id": "1b59619b",
   "metadata": {},
   "outputs": [],
   "source": [
    "#sol=solve([r[0],r[1],r[2],r[3]],diff(x1,t),diff(x2,t),diff(p1,t),diff(p2,t))\n",
    "#sol"
   ]
  },
  {
   "cell_type": "code",
   "execution_count": 22,
   "id": "aa440c18",
   "metadata": {},
   "outputs": [],
   "source": [
    "#d1=simplify(sol[diff(x1,t)])\n",
    "#d2=simplify(sol[diff(x2,t)])\n",
    "#d3=simplify(sol[diff(p1,t)])\n",
    "#d4=simplify(sol[diff(p2,t)])\n"
   ]
  },
  {
   "cell_type": "code",
   "execution_count": 23,
   "id": "7078a39c",
   "metadata": {},
   "outputs": [],
   "source": [
    "#x1_diff(x1,x2,p1,p2,g,diff(e,t),e,mu)"
   ]
  },
  {
   "cell_type": "code",
   "execution_count": 24,
   "id": "a3abc250",
   "metadata": {},
   "outputs": [],
   "source": [
    "#p1_diff(x1,x2,p1,p2,g,diff(e,t),e,mu)"
   ]
  },
  {
   "cell_type": "code",
   "execution_count": 25,
   "id": "1f5f98a6",
   "metadata": {},
   "outputs": [],
   "source": [
    "#p2_diff(x1,x2,p1,p2,g,diff(e,t),e,mu)"
   ]
  },
  {
   "cell_type": "code",
   "execution_count": 26,
   "id": "14a47840",
   "metadata": {},
   "outputs": [],
   "source": [
    "#x2_diff(x1,x2,p1,p2,g,diff(e,t),e,mu)"
   ]
  },
  {
   "cell_type": "code",
   "execution_count": 27,
   "id": "b8941df0",
   "metadata": {
    "id": "M7V6DvoDB1N3"
   },
   "outputs": [],
   "source": [
    "#x1_diff=lambdify((x1,x2,p1,p2,g,diff(e,t),e,mu),d1)\n",
    "#x2_diff=lambdify((x1,x2,p1,p2,g,diff(e,t),e,mu),d2)\n",
    "#p1_diff=lambdify((x1,x2,p1,p2,g,diff(e,t),e,mu),d3)\n",
    "#p2_diff=lambdify((x1,x2,p1,p2,g,diff(e,t),e,mu),d4)"
   ]
  },
  {
   "cell_type": "code",
   "execution_count": 28,
   "id": "3db2bd2b",
   "metadata": {},
   "outputs": [],
   "source": [
    "#x1_diff(x1,x2,g,diff(e,t),e,mu)\n",
    "##def x1_diff(x1,x2,g,rec,e,mu):\n",
    " #   return  x1**2 #x1*x2*g*rec*e*mu\n",
    "#def x2_diff(x1,x2,g,rec,e,mu):\n",
    " #   return  x2*g*rec**2 *e*mu#(x1)**2 + x2 *g*rec*e*mu"
   ]
  },
  {
   "cell_type": "code",
   "execution_count": 29,
   "id": "f7301788",
   "metadata": {
    "scrolled": true
   },
   "outputs": [],
   "source": [
    "#x2_diff(x1,x2,g,diff(e,t),e,mu)"
   ]
  },
  {
   "cell_type": "code",
   "execution_count": 30,
   "id": "02daf8ed",
   "metadata": {},
   "outputs": [],
   "source": [
    "def vectorfield( t,w, p):\n",
    "    \"\"\"\n",
    "    Defines the differential equations for  system.\n",
    "\n",
    "    Arguments:\n",
    "        w :  vector of the state variables:\n",
    "                  w = [x1,x2]\n",
    "        t :  time\n",
    "        p: vector of parameters\n",
    "            p=[g,field,dt,mu]\n",
    "    \"\"\"\n",
    "    x1, x2,p1,p2 = w\n",
    "    g,field,dt,mu=p\n",
    "    # Create f = (x1',y1',x2',y2'):\n",
    "    f = [x1_diff(x1,x2,p1,p2,g,derivative(field,t,dt),field_discrete(field,t,dt),mu),x2_diff(x1,x2,p1,p2,g,derivative(field,t,dt),field_discrete(field,t,dt),mu),\n",
    "        p1_diff(x1,x2,p1,p2,g,derivative(field,t,dt),field_discrete(field,t,dt),mu),p2_diff(x1,x2,p1,p2,g,derivative(field,t,dt),field_discrete(field,t,dt),mu)]\n",
    "    return f"
   ]
  },
  {
   "cell_type": "code",
   "execution_count": 31,
   "id": "3e863fcf",
   "metadata": {},
   "outputs": [],
   "source": [
    "#from scipy.integrate import solve_ivp as ivp\n",
    "\n",
    "#ini=0\n",
    "#g=0.2\n",
    "#fin=np.pi/g\n",
    "#lt=1000\n",
    "#ini_x1=0.05\n",
    "#ini_x2=1\n",
    "#field=np.random.rand(lt)\n",
    "#np.loadtxt(\"EFieldValuesFINAL.txt\")\n",
    "#time=np.linspace(ini,fin,lt)\n",
    "#field=guess_field(time,ini,fin,lt)\n",
    "#dt=fin/(lt-1)\n",
    "#p=[g,field,dt,0.1]\n",
    "#wsol = ivp(vectorfield, [ini,fin],[ini_x1,ini_x1,10,10], args=(p,),t_eval=time)"
   ]
  },
  {
   "cell_type": "code",
   "execution_count": 32,
   "id": "13afe712",
   "metadata": {},
   "outputs": [],
   "source": [
    "#wsol.message"
   ]
  },
  {
   "cell_type": "code",
   "execution_count": 33,
   "id": "f1d5ea42",
   "metadata": {},
   "outputs": [],
   "source": [
    "#%timeit wsol = ivp(vectorfield, [ini,fin],[ini_x1,ini_x2], args=(p,),t_eval=time)"
   ]
  },
  {
   "cell_type": "code",
   "execution_count": 34,
   "id": "5bd8d26d",
   "metadata": {},
   "outputs": [],
   "source": [
    "#from edos import guess_field\n"
   ]
  },
  {
   "cell_type": "code",
   "execution_count": 35,
   "id": "8d9b5519",
   "metadata": {},
   "outputs": [],
   "source": [
    "#import matplotlib.pyplot as plt\n",
    "#plt.figure(figsize=(18, 6), dpi=80)\n",
    "#plt.plot(wsol.t,wsol.y[0],label=r'$x_{1}$')\n",
    "#plt.plot(wsol.t,wsol.y[1],'-.',label=r'$x_{2}$')\n",
    "#plt.plot(wsol.t,wsol.y[2],'-.',label=r'$p_{1}$')\n",
    "#plt.plot(wsol.t,wsol.y[3],'-.',label=r'$p_{2}$')\n",
    "\n",
    "#plt.legend()\n",
    "#plt.show()"
   ]
  },
  {
   "cell_type": "code",
   "execution_count": 36,
   "id": "53904514",
   "metadata": {
    "id": "XtIH5bRcTE-E"
   },
   "outputs": [],
   "source": [
    "#Now with CM Matrix"
   ]
  },
  {
   "cell_type": "code",
   "execution_count": 15,
   "id": "b0c76ba8",
   "metadata": {},
   "outputs": [],
   "source": [
    "t=Symbol('t')\n",
    "v11 = Function('v11')(t)\n",
    "v12 = Function('v12')(t)\n",
    "v13= Function('v13')(t)\n",
    "v14 = Function('v14')(t)\n",
    "v22= Function('v22')(t)\n",
    "v23 = Function('v23')(t)\n",
    "v24= Function('v24')(t)\n",
    "v33 = Function('v33')(t)\n",
    "v34= Function('v34')(t)\n",
    "v44 = Function('v44')(t)\n",
    "x1 = Function('x1')(t)\n",
    "x2 = Function('x2')(t)\n",
    "p1= Function('p1')(t)\n",
    "p2 = Function('p2')(t)\n",
    "g= symbols('g')\n",
    "e=Function('e')(t)\n",
    "mu=symbols('mu')\n",
    "alpha=sqrt(2)*mu*c*e/(1-pow(g,2))\n",
    "beta=sqrt(2)*mu*c*e*g/(1-pow(g,2))\n",
    "F=zeros(2,2)\n",
    "F[0,1]=1\n",
    "F[1,0]=-1\n",
    "B=zeros(2,2)\n",
    "B[0,0]=1\n",
    "B[1,1]=-1\n",
    "A=np.block([\n",
    "        [g*B+F,             Matrix([[0,0],[0,0]])],\n",
    "        [Matrix([[0,0],[0,0]]), g*B  +F             ]\n",
    "        ])\n",
    "#V=Matrix([[v11-2*x1+alpha**2,v12-alpha*x2+beta*x1-alpha*beta,v13-alpha*p1,v14-alpha*p2],[v12-alpha*x2+beta*x1-alpha*beta,v22+beta**2+2*x2,v23+beta*p1,v24+beta*p2],[v13-alpha*p1,v23+beta*p1,v33,v34],[v14-alpha*p2,v24+beta*p2,v34,v44]])\n",
    "V=Matrix([[v11,v12,v13,v14],[v12,v22,v23,v24],[v13,v23,v33,v34],[v14,v24,v34,v44]])\n"
   ]
  },
  {
   "cell_type": "code",
   "execution_count": null,
   "id": "2383fec8",
   "metadata": {},
   "outputs": [],
   "source": []
  },
  {
   "cell_type": "code",
   "execution_count": 16,
   "id": "7a497e2e",
   "metadata": {},
   "outputs": [
    {
     "data": {
      "text/latex": [
       "$\\displaystyle \\left[\\begin{matrix}\\operatorname{v_{11}}{\\left(t \\right)} & \\operatorname{v_{12}}{\\left(t \\right)} & \\operatorname{v_{13}}{\\left(t \\right)} & \\operatorname{v_{14}}{\\left(t \\right)}\\\\\\operatorname{v_{12}}{\\left(t \\right)} & \\operatorname{v_{22}}{\\left(t \\right)} & \\operatorname{v_{23}}{\\left(t \\right)} & \\operatorname{v_{24}}{\\left(t \\right)}\\\\\\operatorname{v_{13}}{\\left(t \\right)} & \\operatorname{v_{23}}{\\left(t \\right)} & \\operatorname{v_{33}}{\\left(t \\right)} & \\operatorname{v_{34}}{\\left(t \\right)}\\\\\\operatorname{v_{14}}{\\left(t \\right)} & \\operatorname{v_{24}}{\\left(t \\right)} & \\operatorname{v_{34}}{\\left(t \\right)} & \\operatorname{v_{44}}{\\left(t \\right)}\\end{matrix}\\right]$"
      ],
      "text/plain": [
       "Matrix([\n",
       "[v11(t), v12(t), v13(t), v14(t)],\n",
       "[v12(t), v22(t), v23(t), v24(t)],\n",
       "[v13(t), v23(t), v33(t), v34(t)],\n",
       "[v14(t), v24(t), v34(t), v44(t)]])"
      ]
     },
     "execution_count": 16,
     "metadata": {},
     "output_type": "execute_result"
    }
   ],
   "source": [
    "V"
   ]
  },
  {
   "cell_type": "code",
   "execution_count": 17,
   "id": "ef6fedca",
   "metadata": {},
   "outputs": [
    {
     "data": {
      "text/latex": [
       "$\\displaystyle \\left[\\begin{matrix}- 2 g \\operatorname{v_{11}}{\\left(t \\right)} - 2 \\operatorname{v_{12}}{\\left(t \\right)} + \\frac{d}{d t} \\operatorname{v_{11}}{\\left(t \\right)} & \\operatorname{v_{11}}{\\left(t \\right)} - \\operatorname{v_{22}}{\\left(t \\right)} + \\frac{d}{d t} \\operatorname{v_{12}}{\\left(t \\right)} & - 2 g \\operatorname{v_{13}}{\\left(t \\right)} - \\operatorname{v_{14}}{\\left(t \\right)} - \\operatorname{v_{23}}{\\left(t \\right)} + \\frac{d}{d t} \\operatorname{v_{13}}{\\left(t \\right)} & \\operatorname{v_{13}}{\\left(t \\right)} - \\operatorname{v_{24}}{\\left(t \\right)} + \\frac{d}{d t} \\operatorname{v_{14}}{\\left(t \\right)}\\\\\\operatorname{v_{11}}{\\left(t \\right)} - \\operatorname{v_{22}}{\\left(t \\right)} + \\frac{d}{d t} \\operatorname{v_{12}}{\\left(t \\right)} & 2 g \\operatorname{v_{22}}{\\left(t \\right)} + 2 \\operatorname{v_{12}}{\\left(t \\right)} + \\frac{d}{d t} \\operatorname{v_{22}}{\\left(t \\right)} & \\operatorname{v_{13}}{\\left(t \\right)} - \\operatorname{v_{24}}{\\left(t \\right)} + \\frac{d}{d t} \\operatorname{v_{23}}{\\left(t \\right)} & 2 g \\operatorname{v_{24}}{\\left(t \\right)} + \\operatorname{v_{14}}{\\left(t \\right)} + \\operatorname{v_{23}}{\\left(t \\right)} + \\frac{d}{d t} \\operatorname{v_{24}}{\\left(t \\right)}\\\\- 2 g \\operatorname{v_{13}}{\\left(t \\right)} - \\operatorname{v_{14}}{\\left(t \\right)} - \\operatorname{v_{23}}{\\left(t \\right)} + \\frac{d}{d t} \\operatorname{v_{13}}{\\left(t \\right)} & \\operatorname{v_{13}}{\\left(t \\right)} - \\operatorname{v_{24}}{\\left(t \\right)} + \\frac{d}{d t} \\operatorname{v_{23}}{\\left(t \\right)} & - 2 g \\operatorname{v_{33}}{\\left(t \\right)} - 2 \\operatorname{v_{34}}{\\left(t \\right)} + \\frac{d}{d t} \\operatorname{v_{33}}{\\left(t \\right)} & \\operatorname{v_{33}}{\\left(t \\right)} - \\operatorname{v_{44}}{\\left(t \\right)} + \\frac{d}{d t} \\operatorname{v_{34}}{\\left(t \\right)}\\\\\\operatorname{v_{13}}{\\left(t \\right)} - \\operatorname{v_{24}}{\\left(t \\right)} + \\frac{d}{d t} \\operatorname{v_{14}}{\\left(t \\right)} & 2 g \\operatorname{v_{24}}{\\left(t \\right)} + \\operatorname{v_{14}}{\\left(t \\right)} + \\operatorname{v_{23}}{\\left(t \\right)} + \\frac{d}{d t} \\operatorname{v_{24}}{\\left(t \\right)} & \\operatorname{v_{33}}{\\left(t \\right)} - \\operatorname{v_{44}}{\\left(t \\right)} + \\frac{d}{d t} \\operatorname{v_{34}}{\\left(t \\right)} & 2 g \\operatorname{v_{44}}{\\left(t \\right)} + 2 \\operatorname{v_{34}}{\\left(t \\right)} + \\frac{d}{d t} \\operatorname{v_{44}}{\\left(t \\right)}\\end{matrix}\\right]$"
      ],
      "text/plain": [
       "Matrix([\n",
       "[       -2*g*v11(t) - 2*v12(t) + Derivative(v11(t), t),              v11(t) - v22(t) + Derivative(v12(t), t), -2*g*v13(t) - v14(t) - v23(t) + Derivative(v13(t), t),              v13(t) - v24(t) + Derivative(v14(t), t)],\n",
       "[              v11(t) - v22(t) + Derivative(v12(t), t),        2*g*v22(t) + 2*v12(t) + Derivative(v22(t), t),               v13(t) - v24(t) + Derivative(v23(t), t), 2*g*v24(t) + v14(t) + v23(t) + Derivative(v24(t), t)],\n",
       "[-2*g*v13(t) - v14(t) - v23(t) + Derivative(v13(t), t),              v13(t) - v24(t) + Derivative(v23(t), t),        -2*g*v33(t) - 2*v34(t) + Derivative(v33(t), t),              v33(t) - v44(t) + Derivative(v34(t), t)],\n",
       "[              v13(t) - v24(t) + Derivative(v14(t), t), 2*g*v24(t) + v14(t) + v23(t) + Derivative(v24(t), t),               v33(t) - v44(t) + Derivative(v34(t), t),        2*g*v44(t) + 2*v34(t) + Derivative(v44(t), t)]])"
      ]
     },
     "execution_count": 17,
     "metadata": {},
     "output_type": "execute_result"
    }
   ],
   "source": [
    "r=simplify(diff(V,t)-Matrix(A)*Matrix(V)-Matrix(V)*Matrix(A).T)\n",
    "simplify(r)"
   ]
  },
  {
   "cell_type": "code",
   "execution_count": 18,
   "id": "4bc52a73",
   "metadata": {},
   "outputs": [
    {
     "data": {
      "text/latex": [
       "$\\displaystyle \\left[\\begin{matrix}\\frac{d}{d t} c{\\left(t \\right)}\\\\- \\frac{\\sqrt{2} \\mu c{\\left(t \\right)} \\frac{d}{d t} e{\\left(t \\right)}}{g^{2} - 1} + \\frac{\\left(1 - g^{2}\\right) \\operatorname{p_{1}}{\\left(t \\right)}}{g^{2} - 1} + \\frac{d}{d t} \\operatorname{x_{1}}{\\left(t \\right)} + \\frac{\\left(- g^{3} + g\\right) \\operatorname{p_{2}}{\\left(t \\right)}}{g^{2} - 1}\\\\\\frac{\\sqrt{2} g \\mu c{\\left(t \\right)} \\frac{d}{d t} e{\\left(t \\right)}}{g^{2} - 1} + \\frac{\\left(1 - g^{2}\\right) \\operatorname{p_{2}}{\\left(t \\right)}}{g^{2} - 1} + \\frac{d}{d t} \\operatorname{x_{2}}{\\left(t \\right)} + \\frac{\\left(- g^{3} + g\\right) \\operatorname{p_{1}}{\\left(t \\right)}}{g^{2} - 1}\\\\g \\operatorname{x_{2}}{\\left(t \\right)} + \\sqrt{2} \\mu c{\\left(t \\right)} e{\\left(t \\right)} + \\operatorname{x_{1}}{\\left(t \\right)} + \\frac{d}{d t} \\operatorname{p_{1}}{\\left(t \\right)}\\\\g \\operatorname{x_{1}}{\\left(t \\right)} + \\operatorname{x_{2}}{\\left(t \\right)} + \\frac{d}{d t} \\operatorname{p_{2}}{\\left(t \\right)}\\end{matrix}\\right]$"
      ],
      "text/plain": [
       "Matrix([\n",
       "[                                                                                                                 Derivative(c(t), t)],\n",
       "[ -sqrt(2)*mu*c(t)*Derivative(e(t), t)/(g**2 - 1) + (1 - g**2)*p1(t)/(g**2 - 1) + Derivative(x1(t), t) + (-g**3 + g)*p2(t)/(g**2 - 1)],\n",
       "[sqrt(2)*g*mu*c(t)*Derivative(e(t), t)/(g**2 - 1) + (1 - g**2)*p2(t)/(g**2 - 1) + Derivative(x2(t), t) + (-g**3 + g)*p1(t)/(g**2 - 1)],\n",
       "[                                                                       g*x2(t) + sqrt(2)*mu*c(t)*e(t) + x1(t) + Derivative(p1(t), t)],\n",
       "[                                                                                              g*x1(t) + x2(t) + Derivative(p2(t), t)]])"
      ]
     },
     "execution_count": 18,
     "metadata": {},
     "output_type": "execute_result"
    }
   ],
   "source": [
    "new_eqs"
   ]
  },
  {
   "cell_type": "code",
   "execution_count": 19,
   "id": "3b5244a9",
   "metadata": {},
   "outputs": [],
   "source": [
    "c_eqs=[r[0,0],r[0,1],r[0,2],r[0,3],r[1,1],r[1,2],r[1,3],r[2,2],r[2,3],r[3,3]]"
   ]
  },
  {
   "cell_type": "code",
   "execution_count": 20,
   "id": "66a90886",
   "metadata": {},
   "outputs": [],
   "source": [
    "gaga=new_eqs-vector"
   ]
  },
  {
   "cell_type": "code",
   "execution_count": 21,
   "id": "72d12946",
   "metadata": {},
   "outputs": [],
   "source": [
    "dx1=diff(x1,t)\n",
    "dx2=diff(x2,t)\n",
    "dp1=diff(p1,t)\n",
    "dp2=diff(p2,t)\n",
    "dc=diff(c,t)\n"
   ]
  },
  {
   "cell_type": "code",
   "execution_count": 22,
   "id": "69020c69",
   "metadata": {},
   "outputs": [],
   "source": [
    "despejadas=[(c_eqs[i]).subs({dc:gaga[0],dx1:gaga[1],dx2:gaga[2],dp1:gaga[3],dp2:gaga[4]}) for i in range(10)]"
   ]
  },
  {
   "cell_type": "code",
   "execution_count": 23,
   "id": "cde266fd",
   "metadata": {},
   "outputs": [],
   "source": [
    "despejadas=[despejadas[i].simplify() for i in range(10)]"
   ]
  },
  {
   "cell_type": "code",
   "execution_count": 46,
   "id": "d4f8558b",
   "metadata": {},
   "outputs": [],
   "source": [
    "#eqs=list(to_symbols(sol.subs(diff(c,t),0)))\n",
    "#t=sympy.linear_eq_to_matrix(eqs, [c1,x11,x12,p11,p12])[0]\n",
    "#t2=sympy.linear_eq_to_matrix(eqs, [c1,x11,x12,p11,p12])[1]\n"
   ]
  },
  {
   "cell_type": "code",
   "execution_count": 25,
   "id": "244b736f",
   "metadata": {},
   "outputs": [
    {
     "data": {
      "text/plain": [
       "[1, 1, 1, 1, 1, 1, 1, 1, 1, 1]"
      ]
     },
     "execution_count": 25,
     "metadata": {},
     "output_type": "execute_result"
    }
   ],
   "source": [
    "covariance=[v11,v12,v13,v14,v22,v23,v24,v33,v34,v44]\n",
    "coeffs=[(Matrix(despejadas).expand()[i]).collect(diff(covariance[i],t)).coeff(diff(covariance[i],t)) for i in range(len(despejadas))]\n",
    "coeffs"
   ]
  },
  {
   "cell_type": "code",
   "execution_count": 26,
   "id": "81248427",
   "metadata": {},
   "outputs": [],
   "source": [
    "despeje=[diff(covariance[i],t)*coeffs[i] for i in range(len(covariance))]"
   ]
  },
  {
   "cell_type": "code",
   "execution_count": 27,
   "id": "5e2951bb",
   "metadata": {},
   "outputs": [
    {
     "data": {
      "text/latex": [
       "$\\displaystyle \\left[\\begin{matrix}- 2 g \\operatorname{v_{11}}{\\left(t \\right)} - 2 \\operatorname{v_{12}}{\\left(t \\right)}\\\\\\operatorname{v_{11}}{\\left(t \\right)} - \\operatorname{v_{22}}{\\left(t \\right)}\\\\- 2 g \\operatorname{v_{13}}{\\left(t \\right)} - \\operatorname{v_{14}}{\\left(t \\right)} - \\operatorname{v_{23}}{\\left(t \\right)}\\\\\\operatorname{v_{13}}{\\left(t \\right)} - \\operatorname{v_{24}}{\\left(t \\right)}\\\\2 g \\operatorname{v_{22}}{\\left(t \\right)} + 2 \\operatorname{v_{12}}{\\left(t \\right)}\\\\\\operatorname{v_{13}}{\\left(t \\right)} - \\operatorname{v_{24}}{\\left(t \\right)}\\\\2 g \\operatorname{v_{24}}{\\left(t \\right)} + \\operatorname{v_{14}}{\\left(t \\right)} + \\operatorname{v_{23}}{\\left(t \\right)}\\\\- 2 g \\operatorname{v_{33}}{\\left(t \\right)} - 2 \\operatorname{v_{34}}{\\left(t \\right)}\\\\\\operatorname{v_{33}}{\\left(t \\right)} - \\operatorname{v_{44}}{\\left(t \\right)}\\\\2 g \\operatorname{v_{44}}{\\left(t \\right)} + 2 \\operatorname{v_{34}}{\\left(t \\right)}\\end{matrix}\\right]$"
      ],
      "text/plain": [
       "Matrix([\n",
       "[       -2*g*v11(t) - 2*v12(t)],\n",
       "[              v11(t) - v22(t)],\n",
       "[-2*g*v13(t) - v14(t) - v23(t)],\n",
       "[              v13(t) - v24(t)],\n",
       "[        2*g*v22(t) + 2*v12(t)],\n",
       "[              v13(t) - v24(t)],\n",
       "[ 2*g*v24(t) + v14(t) + v23(t)],\n",
       "[       -2*g*v33(t) - 2*v34(t)],\n",
       "[              v33(t) - v44(t)],\n",
       "[        2*g*v44(t) + 2*v34(t)]])"
      ]
     },
     "execution_count": 27,
     "metadata": {},
     "output_type": "execute_result"
    }
   ],
   "source": [
    "kara=simplify(Matrix(despejadas).expand()-Matrix(despeje))\n",
    "kara"
   ]
  },
  {
   "cell_type": "code",
   "execution_count": 28,
   "id": "a2396479",
   "metadata": {},
   "outputs": [],
   "source": [
    "v111,v112,v113,v114 = symbols('v_11:15')\n",
    "v122,v123,v124 = symbols('v_22:25')\n",
    "v133,v134=symbols('v_33 v_34')\n",
    "v144=symbols('v_44')"
   ]
  },
  {
   "cell_type": "code",
   "execution_count": 29,
   "id": "469da76c",
   "metadata": {},
   "outputs": [],
   "source": [
    "subsss={v11:v111,v12:v112,v13:v113,v14:v114,v22:v122,v23:v123,v24:v124,v33:v133,v34:v134,v44:v144,diff(c1,t):0,(c1**2):c1}"
   ]
  },
  {
   "cell_type": "code",
   "execution_count": 30,
   "id": "89639388",
   "metadata": {},
   "outputs": [
    {
     "data": {
      "text/latex": [
       "$\\displaystyle \\left[\\begin{matrix}- 2 g v_{11} - 2 v_{12}\\\\v_{11} - v_{22}\\\\- 2 g v_{13} - v_{14} - v_{23}\\\\v_{13} - v_{24}\\\\2 g v_{22} + 2 v_{12}\\\\v_{13} - v_{24}\\\\2 g v_{24} + v_{14} + v_{23}\\\\- 2 g v_{33} - 2 v_{34}\\\\v_{33} - v_{44}\\\\2 g v_{44} + 2 v_{34}\\end{matrix}\\right]$"
      ],
      "text/plain": [
       "Matrix([\n",
       "[     -2*g*v_11 - 2*v_12],\n",
       "[            v_11 - v_22],\n",
       "[-2*g*v_13 - v_14 - v_23],\n",
       "[            v_13 - v_24],\n",
       "[      2*g*v_22 + 2*v_12],\n",
       "[            v_13 - v_24],\n",
       "[ 2*g*v_24 + v_14 + v_23],\n",
       "[     -2*g*v_33 - 2*v_34],\n",
       "[            v_33 - v_44],\n",
       "[      2*g*v_44 + 2*v_34]])"
      ]
     },
     "execution_count": 30,
     "metadata": {},
     "output_type": "execute_result"
    }
   ],
   "source": [
    "to_symbols(kara.subs(subsss))"
   ]
  },
  {
   "cell_type": "code",
   "execution_count": 31,
   "id": "d3be7bf8",
   "metadata": {},
   "outputs": [
    {
     "data": {
      "text/latex": [
       "$\\displaystyle \\left[\\begin{matrix}\\frac{d}{d t} c{\\left(t \\right)}\\\\\\frac{d}{d t} \\operatorname{x_{1}}{\\left(t \\right)}\\\\\\frac{d}{d t} \\operatorname{x_{2}}{\\left(t \\right)}\\\\\\frac{d}{d t} \\operatorname{p_{1}}{\\left(t \\right)}\\\\\\frac{d}{d t} \\operatorname{p_{2}}{\\left(t \\right)}\\\\\\frac{d}{d t} \\operatorname{v_{11}}{\\left(t \\right)}\\\\\\frac{d}{d t} \\operatorname{v_{12}}{\\left(t \\right)}\\\\\\frac{d}{d t} \\operatorname{v_{13}}{\\left(t \\right)}\\\\\\frac{d}{d t} \\operatorname{v_{14}}{\\left(t \\right)}\\\\\\frac{d}{d t} \\operatorname{v_{22}}{\\left(t \\right)}\\\\\\frac{d}{d t} \\operatorname{v_{23}}{\\left(t \\right)}\\\\\\frac{d}{d t} \\operatorname{v_{24}}{\\left(t \\right)}\\\\\\frac{d}{d t} \\operatorname{v_{33}}{\\left(t \\right)}\\\\\\frac{d}{d t} \\operatorname{v_{34}}{\\left(t \\right)}\\\\\\frac{d}{d t} \\operatorname{v_{44}}{\\left(t \\right)}\\end{matrix}\\right]$"
      ],
      "text/plain": [
       "Matrix([\n",
       "[  Derivative(c(t), t)],\n",
       "[ Derivative(x1(t), t)],\n",
       "[ Derivative(x2(t), t)],\n",
       "[ Derivative(p1(t), t)],\n",
       "[ Derivative(p2(t), t)],\n",
       "[Derivative(v11(t), t)],\n",
       "[Derivative(v12(t), t)],\n",
       "[Derivative(v13(t), t)],\n",
       "[Derivative(v14(t), t)],\n",
       "[Derivative(v22(t), t)],\n",
       "[Derivative(v23(t), t)],\n",
       "[Derivative(v24(t), t)],\n",
       "[Derivative(v33(t), t)],\n",
       "[Derivative(v34(t), t)],\n",
       "[Derivative(v44(t), t)]])"
      ]
     },
     "execution_count": 31,
     "metadata": {},
     "output_type": "execute_result"
    }
   ],
   "source": [
    "full_dvect=Matrix(list(vector)+list(diff(Matrix(covariance),t)))\n",
    "full_dvect"
   ]
  },
  {
   "cell_type": "code",
   "execution_count": 32,
   "id": "a38b863d",
   "metadata": {},
   "outputs": [
    {
     "data": {
      "text/latex": [
       "$\\displaystyle \\left[\\begin{matrix}c\\\\x_{1}\\\\x_{2}\\\\p_{1}\\\\p_{2}\\\\v_{11}\\\\v_{12}\\\\v_{13}\\\\v_{14}\\\\v_{22}\\\\v_{23}\\\\v_{24}\\\\v_{33}\\\\v_{34}\\\\v_{44}\\end{matrix}\\right]$"
      ],
      "text/plain": [
       "Matrix([\n",
       "[   c],\n",
       "[  x1],\n",
       "[  x2],\n",
       "[  p1],\n",
       "[  p2],\n",
       "[v_11],\n",
       "[v_12],\n",
       "[v_13],\n",
       "[v_14],\n",
       "[v_22],\n",
       "[v_23],\n",
       "[v_24],\n",
       "[v_33],\n",
       "[v_34],\n",
       "[v_44]])"
      ]
     },
     "execution_count": 32,
     "metadata": {},
     "output_type": "execute_result"
    }
   ],
   "source": [
    "full_vect=Matrix([c1,x11,x12,p11,p12,v111,v112,v113,v114,v122,v123,v124,v133,v134,v144])\n",
    "full_vect"
   ]
  },
  {
   "cell_type": "code",
   "execution_count": 33,
   "id": "cc60ad65",
   "metadata": {},
   "outputs": [],
   "source": [
    "full_eqs=Matrix(list(to_symbols(sol.subs(diff(c,t),0)))+list(to_symbols(kara.subs(subsss))))"
   ]
  },
  {
   "cell_type": "code",
   "execution_count": 34,
   "id": "b96ba5c7",
   "metadata": {},
   "outputs": [
    {
     "data": {
      "text/latex": [
       "$\\displaystyle \\left[\\begin{matrix}0\\\\- \\frac{\\sqrt{2} c de \\mu}{g^{2} - 1} - \\frac{g^{3} p_{2}}{g^{2} - 1} - \\frac{g^{2} p_{1}}{g^{2} - 1} + \\frac{g p_{2}}{g^{2} - 1} + \\frac{p_{1}}{g^{2} - 1}\\\\\\frac{\\sqrt{2} c de g \\mu}{g^{2} - 1} - \\frac{g^{3} p_{1}}{g^{2} - 1} - \\frac{g^{2} p_{2}}{g^{2} - 1} + \\frac{g p_{1}}{g^{2} - 1} + \\frac{p_{2}}{g^{2} - 1}\\\\\\sqrt{2} c e \\mu + g x_{2} + x_{1}\\\\g x_{1} + x_{2}\\\\- 2 g v_{11} - 2 v_{12}\\\\v_{11} - v_{22}\\\\- 2 g v_{13} - v_{14} - v_{23}\\\\v_{13} - v_{24}\\\\2 g v_{22} + 2 v_{12}\\\\v_{13} - v_{24}\\\\2 g v_{24} + v_{14} + v_{23}\\\\- 2 g v_{33} - 2 v_{34}\\\\v_{33} - v_{44}\\\\2 g v_{44} + 2 v_{34}\\end{matrix}\\right]$"
      ],
      "text/plain": [
       "Matrix([\n",
       "[                                                                                                       0],\n",
       "[ -sqrt(2)*c*de*mu/(g**2 - 1) - g**3*p2/(g**2 - 1) - g**2*p1/(g**2 - 1) + g*p2/(g**2 - 1) + p1/(g**2 - 1)],\n",
       "[sqrt(2)*c*de*g*mu/(g**2 - 1) - g**3*p1/(g**2 - 1) - g**2*p2/(g**2 - 1) + g*p1/(g**2 - 1) + p2/(g**2 - 1)],\n",
       "[                                                                              sqrt(2)*c*e*mu + g*x2 + x1],\n",
       "[                                                                                               g*x1 + x2],\n",
       "[                                                                                      -2*g*v_11 - 2*v_12],\n",
       "[                                                                                             v_11 - v_22],\n",
       "[                                                                                 -2*g*v_13 - v_14 - v_23],\n",
       "[                                                                                             v_13 - v_24],\n",
       "[                                                                                       2*g*v_22 + 2*v_12],\n",
       "[                                                                                             v_13 - v_24],\n",
       "[                                                                                  2*g*v_24 + v_14 + v_23],\n",
       "[                                                                                      -2*g*v_33 - 2*v_34],\n",
       "[                                                                                             v_33 - v_44],\n",
       "[                                                                                       2*g*v_44 + 2*v_34]])"
      ]
     },
     "execution_count": 34,
     "metadata": {},
     "output_type": "execute_result"
    }
   ],
   "source": [
    "tocheck=[full_eqs[i].expand().subs(c1**2,c1).subs(c1*x12,x12).subs(c1*x11,x11).subs(c1*p11,p11).subs(c1*p12,p12) for i in range(len(full_eqs))]\n",
    "Matrix(tocheck)"
   ]
  },
  {
   "cell_type": "code",
   "execution_count": 57,
   "id": "1142c421",
   "metadata": {},
   "outputs": [
    {
     "data": {
      "text/plain": [
       "15"
      ]
     },
     "execution_count": 57,
     "metadata": {},
     "output_type": "execute_result"
    }
   ],
   "source": [
    "len(tocheck)"
   ]
  },
  {
   "cell_type": "code",
   "execution_count": 35,
   "id": "25a9edbc",
   "metadata": {},
   "outputs": [],
   "source": [
    "t=sympy.linear_eq_to_matrix(tocheck, list(full_vect))[0]\n",
    "t2=sympy.linear_eq_to_matrix(tocheck, list(full_vect))[1]"
   ]
  },
  {
   "cell_type": "code",
   "execution_count": 36,
   "id": "5443d2f9",
   "metadata": {},
   "outputs": [
    {
     "data": {
      "text/latex": [
       "$\\displaystyle \\left[\\begin{matrix}\\frac{d}{d t} c{\\left(t \\right)}\\\\\\frac{d}{d t} \\operatorname{x_{1}}{\\left(t \\right)}\\\\\\frac{d}{d t} \\operatorname{x_{2}}{\\left(t \\right)}\\\\\\frac{d}{d t} \\operatorname{p_{1}}{\\left(t \\right)}\\\\\\frac{d}{d t} \\operatorname{p_{2}}{\\left(t \\right)}\\end{matrix}\\right]$"
      ],
      "text/plain": [
       "Matrix([\n",
       "[ Derivative(c(t), t)],\n",
       "[Derivative(x1(t), t)],\n",
       "[Derivative(x2(t), t)],\n",
       "[Derivative(p1(t), t)],\n",
       "[Derivative(p2(t), t)]])"
      ]
     },
     "execution_count": 36,
     "metadata": {},
     "output_type": "execute_result"
    }
   ],
   "source": [
    "vector"
   ]
  },
  {
   "cell_type": "code",
   "execution_count": 37,
   "id": "4694680a",
   "metadata": {},
   "outputs": [
    {
     "data": {
      "text/latex": [
       "$\\displaystyle \\left[\\begin{matrix}0\\\\\\frac{- g^{3} \\operatorname{p_{2}}{\\left(t \\right)} - g^{2} \\operatorname{p_{1}}{\\left(t \\right)} + g \\operatorname{p_{2}}{\\left(t \\right)} - \\sqrt{2} \\mu c{\\left(t \\right)} \\frac{d}{d t} e{\\left(t \\right)} - \\sqrt{2} \\mu e{\\left(t \\right)} \\frac{d}{d t} c{\\left(t \\right)} + \\operatorname{p_{1}}{\\left(t \\right)}}{g^{2} - 1}\\\\\\frac{- g^{3} \\operatorname{p_{1}}{\\left(t \\right)} - g^{2} \\operatorname{p_{2}}{\\left(t \\right)} + \\sqrt{2} g \\mu c{\\left(t \\right)} \\frac{d}{d t} e{\\left(t \\right)} + \\sqrt{2} g \\mu e{\\left(t \\right)} \\frac{d}{d t} c{\\left(t \\right)} + g \\operatorname{p_{1}}{\\left(t \\right)} + \\operatorname{p_{2}}{\\left(t \\right)}}{g^{2} - 1}\\\\g \\operatorname{x_{2}}{\\left(t \\right)} + \\sqrt{2} \\mu c{\\left(t \\right)} e{\\left(t \\right)} + \\operatorname{x_{1}}{\\left(t \\right)}\\\\g \\operatorname{x_{1}}{\\left(t \\right)} + \\operatorname{x_{2}}{\\left(t \\right)}\\end{matrix}\\right]$"
      ],
      "text/plain": [
       "Matrix([\n",
       "[                                                                                                                                      0],\n",
       "[    (-g**3*p2(t) - g**2*p1(t) + g*p2(t) - sqrt(2)*mu*c(t)*Derivative(e(t), t) - sqrt(2)*mu*e(t)*Derivative(c(t), t) + p1(t))/(g**2 - 1)],\n",
       "[(-g**3*p1(t) - g**2*p2(t) + sqrt(2)*g*mu*c(t)*Derivative(e(t), t) + sqrt(2)*g*mu*e(t)*Derivative(c(t), t) + g*p1(t) + p2(t))/(g**2 - 1)],\n",
       "[                                                                                                 g*x2(t) + sqrt(2)*mu*c(t)*e(t) + x1(t)],\n",
       "[                                                                                                                        g*x1(t) + x2(t)]])"
      ]
     },
     "execution_count": 37,
     "metadata": {},
     "output_type": "execute_result"
    }
   ],
   "source": [
    "sol"
   ]
  },
  {
   "cell_type": "code",
   "execution_count": 61,
   "id": "1ec0adfd",
   "metadata": {},
   "outputs": [
    {
     "data": {
      "text/latex": [
       "$\\displaystyle v_{24}$"
      ],
      "text/plain": [
       "v_24"
      ]
     },
     "execution_count": 61,
     "metadata": {},
     "output_type": "execute_result"
    }
   ],
   "source": [
    "full_vect[11]"
   ]
  },
  {
   "cell_type": "code",
   "execution_count": 62,
   "id": "214b736f",
   "metadata": {},
   "outputs": [
    {
     "data": {
      "text/latex": [
       "$\\displaystyle v_{23}$"
      ],
      "text/plain": [
       "v_23"
      ]
     },
     "execution_count": 62,
     "metadata": {},
     "output_type": "execute_result"
    }
   ],
   "source": [
    "((t*full_vect)[11]).subs({p12:0,x11:0,p11:0,v122:0,x12:0,v114:0,v124:0}).subs({e1:e,de1:de}).factor()"
   ]
  },
  {
   "cell_type": "code",
   "execution_count": 38,
   "id": "f4bd3f04",
   "metadata": {},
   "outputs": [
    {
     "data": {
      "text/latex": [
       "$\\displaystyle \\operatorname{v_{23}}{\\left(t \\right)}$"
      ],
      "text/plain": [
       "v23(t)"
      ]
     },
     "execution_count": 38,
     "metadata": {},
     "output_type": "execute_result"
    }
   ],
   "source": [
    "ricard=r[1,3].subs(vector[4],sol[4]).expand().collect(covariance[4]).collect(p1).collect(p2).subs(c*x1,x1).collect(x1).subs(c*x2,x2).collect(x2).collect(v12).subs(vector[0],0).subs(c**2,c).collect(c)\n",
    "simplify(ricard.subs({p2:0,x1:0,p1:0,full_dvect[11]:0,v22:0,x2:0,v14:0,v24:0})).expand().factor()"
   ]
  },
  {
   "cell_type": "code",
   "execution_count": 39,
   "id": "8c29c508",
   "metadata": {},
   "outputs": [],
   "source": [
    "lista=[]\n",
    "for i in range(15):\n",
    "    dummy=[simplify(t[i,j].subs({e1:e,de1:de})) for j in range(15)]\n",
    "    lista.append(dummy)"
   ]
  },
  {
   "cell_type": "code",
   "execution_count": 40,
   "id": "52460af0",
   "metadata": {},
   "outputs": [
    {
     "data": {
      "text/latex": [
       "$\\displaystyle \\left[\\begin{array}{ccccccccccccccc}0 & 0 & 0 & 0 & 0 & 0 & 0 & 0 & 0 & 0 & 0 & 0 & 0 & 0 & 0\\\\- \\frac{\\sqrt{2} \\mu \\frac{d}{d t} e{\\left(t \\right)}}{g^{2} - 1} & 0 & 0 & -1 & - g & 0 & 0 & 0 & 0 & 0 & 0 & 0 & 0 & 0 & 0\\\\\\frac{\\sqrt{2} g \\mu \\frac{d}{d t} e{\\left(t \\right)}}{g^{2} - 1} & 0 & 0 & - g & -1 & 0 & 0 & 0 & 0 & 0 & 0 & 0 & 0 & 0 & 0\\\\\\sqrt{2} \\mu e{\\left(t \\right)} & 1 & g & 0 & 0 & 0 & 0 & 0 & 0 & 0 & 0 & 0 & 0 & 0 & 0\\\\0 & g & 1 & 0 & 0 & 0 & 0 & 0 & 0 & 0 & 0 & 0 & 0 & 0 & 0\\\\0 & 0 & 0 & 0 & 0 & - 2 g & -2 & 0 & 0 & 0 & 0 & 0 & 0 & 0 & 0\\\\0 & 0 & 0 & 0 & 0 & 1 & 0 & 0 & 0 & -1 & 0 & 0 & 0 & 0 & 0\\\\0 & 0 & 0 & 0 & 0 & 0 & 0 & - 2 g & -1 & 0 & -1 & 0 & 0 & 0 & 0\\\\0 & 0 & 0 & 0 & 0 & 0 & 0 & 1 & 0 & 0 & 0 & -1 & 0 & 0 & 0\\\\0 & 0 & 0 & 0 & 0 & 0 & 2 & 0 & 0 & 2 g & 0 & 0 & 0 & 0 & 0\\\\0 & 0 & 0 & 0 & 0 & 0 & 0 & 1 & 0 & 0 & 0 & -1 & 0 & 0 & 0\\\\0 & 0 & 0 & 0 & 0 & 0 & 0 & 0 & 1 & 0 & 1 & 2 g & 0 & 0 & 0\\\\0 & 0 & 0 & 0 & 0 & 0 & 0 & 0 & 0 & 0 & 0 & 0 & - 2 g & -2 & 0\\\\0 & 0 & 0 & 0 & 0 & 0 & 0 & 0 & 0 & 0 & 0 & 0 & 1 & 0 & -1\\\\0 & 0 & 0 & 0 & 0 & 0 & 0 & 0 & 0 & 0 & 0 & 0 & 0 & 2 & 2 g\\end{array}\\right]$"
      ],
      "text/plain": [
       "Matrix([\n",
       "[                                          0, 0, 0,  0,  0,    0,  0,    0,  0,   0,  0,   0,    0,  0,   0],\n",
       "[ -sqrt(2)*mu*Derivative(e(t), t)/(g**2 - 1), 0, 0, -1, -g,    0,  0,    0,  0,   0,  0,   0,    0,  0,   0],\n",
       "[sqrt(2)*g*mu*Derivative(e(t), t)/(g**2 - 1), 0, 0, -g, -1,    0,  0,    0,  0,   0,  0,   0,    0,  0,   0],\n",
       "[                            sqrt(2)*mu*e(t), 1, g,  0,  0,    0,  0,    0,  0,   0,  0,   0,    0,  0,   0],\n",
       "[                                          0, g, 1,  0,  0,    0,  0,    0,  0,   0,  0,   0,    0,  0,   0],\n",
       "[                                          0, 0, 0,  0,  0, -2*g, -2,    0,  0,   0,  0,   0,    0,  0,   0],\n",
       "[                                          0, 0, 0,  0,  0,    1,  0,    0,  0,  -1,  0,   0,    0,  0,   0],\n",
       "[                                          0, 0, 0,  0,  0,    0,  0, -2*g, -1,   0, -1,   0,    0,  0,   0],\n",
       "[                                          0, 0, 0,  0,  0,    0,  0,    1,  0,   0,  0,  -1,    0,  0,   0],\n",
       "[                                          0, 0, 0,  0,  0,    0,  2,    0,  0, 2*g,  0,   0,    0,  0,   0],\n",
       "[                                          0, 0, 0,  0,  0,    0,  0,    1,  0,   0,  0,  -1,    0,  0,   0],\n",
       "[                                          0, 0, 0,  0,  0,    0,  0,    0,  1,   0,  1, 2*g,    0,  0,   0],\n",
       "[                                          0, 0, 0,  0,  0,    0,  0,    0,  0,   0,  0,   0, -2*g, -2,   0],\n",
       "[                                          0, 0, 0,  0,  0,    0,  0,    0,  0,   0,  0,   0,    1,  0,  -1],\n",
       "[                                          0, 0, 0,  0,  0,    0,  0,    0,  0,   0,  0,   0,    0,  2, 2*g]])"
      ]
     },
     "execution_count": 40,
     "metadata": {},
     "output_type": "execute_result"
    }
   ],
   "source": [
    "matriz=Matrix(lista)\n",
    "matriz"
   ]
  },
  {
   "cell_type": "code",
   "execution_count": 41,
   "id": "72ede762",
   "metadata": {},
   "outputs": [],
   "source": [
    "matriz=Matrix(lista)\n",
    "H0=simplify(matriz.subs({e:0,de:0}))\n",
    "He=simplify(matriz.subs({de:0})-H0)\n",
    "Hde=simplify(simplify(matriz-H0)-He)"
   ]
  },
  {
   "cell_type": "code",
   "execution_count": 43,
   "id": "e7796639",
   "metadata": {},
   "outputs": [],
   "source": [
    "He=He.subs(mu**2,0)"
   ]
  },
  {
   "cell_type": "code",
   "execution_count": 44,
   "id": "95aa7d42",
   "metadata": {},
   "outputs": [],
   "source": [
    "Hde=Hde.expand().subs(mu**2,0)\n",
    "He=He/e"
   ]
  },
  {
   "cell_type": "code",
   "execution_count": 45,
   "id": "266a9ff2",
   "metadata": {},
   "outputs": [],
   "source": [
    "hlineal=lambdify((mu,g),He)\n",
    "hlineal(1,0.1)\n",
    "import dill\n",
    "dill.settings['recurse'] = True"
   ]
  },
  {
   "cell_type": "code",
   "execution_count": 46,
   "id": "9ee35ea9",
   "metadata": {},
   "outputs": [],
   "source": [
    "dill.dump(hlineal, open(\"H_campo\", \"wb\"))\n"
   ]
  },
  {
   "cell_type": "code",
   "execution_count": 47,
   "id": "1621de6f",
   "metadata": {},
   "outputs": [],
   "source": [
    "Hde=Hde/de"
   ]
  },
  {
   "cell_type": "code",
   "execution_count": 48,
   "id": "778737fd",
   "metadata": {},
   "outputs": [],
   "source": [
    "Hde=simplify(Hde)"
   ]
  },
  {
   "cell_type": "code",
   "execution_count": 49,
   "id": "c6eac890",
   "metadata": {},
   "outputs": [
    {
     "data": {
      "text/latex": [
       "$\\displaystyle \\left[\\begin{array}{ccccccccccccccc}0 & 0 & 0 & 0 & 0 & 0 & 0 & 0 & 0 & 0 & 0 & 0 & 0 & 0 & 0\\\\- \\frac{\\sqrt{2} \\mu}{g^{2} - 1} & 0 & 0 & 0 & 0 & 0 & 0 & 0 & 0 & 0 & 0 & 0 & 0 & 0 & 0\\\\\\frac{\\sqrt{2} g \\mu}{g^{2} - 1} & 0 & 0 & 0 & 0 & 0 & 0 & 0 & 0 & 0 & 0 & 0 & 0 & 0 & 0\\\\0 & 0 & 0 & 0 & 0 & 0 & 0 & 0 & 0 & 0 & 0 & 0 & 0 & 0 & 0\\\\0 & 0 & 0 & 0 & 0 & 0 & 0 & 0 & 0 & 0 & 0 & 0 & 0 & 0 & 0\\\\0 & 0 & 0 & 0 & 0 & 0 & 0 & 0 & 0 & 0 & 0 & 0 & 0 & 0 & 0\\\\0 & 0 & 0 & 0 & 0 & 0 & 0 & 0 & 0 & 0 & 0 & 0 & 0 & 0 & 0\\\\0 & 0 & 0 & 0 & 0 & 0 & 0 & 0 & 0 & 0 & 0 & 0 & 0 & 0 & 0\\\\0 & 0 & 0 & 0 & 0 & 0 & 0 & 0 & 0 & 0 & 0 & 0 & 0 & 0 & 0\\\\0 & 0 & 0 & 0 & 0 & 0 & 0 & 0 & 0 & 0 & 0 & 0 & 0 & 0 & 0\\\\0 & 0 & 0 & 0 & 0 & 0 & 0 & 0 & 0 & 0 & 0 & 0 & 0 & 0 & 0\\\\0 & 0 & 0 & 0 & 0 & 0 & 0 & 0 & 0 & 0 & 0 & 0 & 0 & 0 & 0\\\\0 & 0 & 0 & 0 & 0 & 0 & 0 & 0 & 0 & 0 & 0 & 0 & 0 & 0 & 0\\\\0 & 0 & 0 & 0 & 0 & 0 & 0 & 0 & 0 & 0 & 0 & 0 & 0 & 0 & 0\\\\0 & 0 & 0 & 0 & 0 & 0 & 0 & 0 & 0 & 0 & 0 & 0 & 0 & 0 & 0\\end{array}\\right]$"
      ],
      "text/plain": [
       "Matrix([\n",
       "[                      0, 0, 0, 0, 0, 0, 0, 0, 0, 0, 0, 0, 0, 0, 0],\n",
       "[ -sqrt(2)*mu/(g**2 - 1), 0, 0, 0, 0, 0, 0, 0, 0, 0, 0, 0, 0, 0, 0],\n",
       "[sqrt(2)*g*mu/(g**2 - 1), 0, 0, 0, 0, 0, 0, 0, 0, 0, 0, 0, 0, 0, 0],\n",
       "[                      0, 0, 0, 0, 0, 0, 0, 0, 0, 0, 0, 0, 0, 0, 0],\n",
       "[                      0, 0, 0, 0, 0, 0, 0, 0, 0, 0, 0, 0, 0, 0, 0],\n",
       "[                      0, 0, 0, 0, 0, 0, 0, 0, 0, 0, 0, 0, 0, 0, 0],\n",
       "[                      0, 0, 0, 0, 0, 0, 0, 0, 0, 0, 0, 0, 0, 0, 0],\n",
       "[                      0, 0, 0, 0, 0, 0, 0, 0, 0, 0, 0, 0, 0, 0, 0],\n",
       "[                      0, 0, 0, 0, 0, 0, 0, 0, 0, 0, 0, 0, 0, 0, 0],\n",
       "[                      0, 0, 0, 0, 0, 0, 0, 0, 0, 0, 0, 0, 0, 0, 0],\n",
       "[                      0, 0, 0, 0, 0, 0, 0, 0, 0, 0, 0, 0, 0, 0, 0],\n",
       "[                      0, 0, 0, 0, 0, 0, 0, 0, 0, 0, 0, 0, 0, 0, 0],\n",
       "[                      0, 0, 0, 0, 0, 0, 0, 0, 0, 0, 0, 0, 0, 0, 0],\n",
       "[                      0, 0, 0, 0, 0, 0, 0, 0, 0, 0, 0, 0, 0, 0, 0],\n",
       "[                      0, 0, 0, 0, 0, 0, 0, 0, 0, 0, 0, 0, 0, 0, 0]])"
      ]
     },
     "execution_count": 49,
     "metadata": {},
     "output_type": "execute_result"
    }
   ],
   "source": [
    "Hde"
   ]
  },
  {
   "cell_type": "code",
   "execution_count": 50,
   "id": "77689296",
   "metadata": {},
   "outputs": [],
   "source": [
    "func=lambdify((mu,g),Hde)"
   ]
  },
  {
   "cell_type": "code",
   "execution_count": 117,
   "id": "eeeb58e6",
   "metadata": {},
   "outputs": [
    {
     "data": {
      "text/latex": [
       "$\\displaystyle \\left[\\begin{array}{ccccccccccccccc}0.0 & 0.0 & 0.0 & 0.0 & 0.0 & 0.0 & 0.0 & 0.0 & 0.0 & 0.0 & 0.0 & 0.0 & 0.0 & 0.0 & 0.0\\\\2.85699709570322 & 0.0 & 0.0 & 0.0 & 0.0 & 0.0 & 0.0 & 0.0 & 0.0 & 0.0 & 0.0 & 0.0 & 0.0 & 0.0 & 0.0\\\\-0.285699709570322 & 0.0 & 0.0 & 0.0 & 0.0 & 0.0 & 0.0 & 0.0 & 0.0 & 0.0 & 0.0 & 0.0 & 0.0 & 0.0 & 0.0\\\\0.0 & 0.0 & 0.0 & 0.0 & 0.0 & 0.0 & 0.0 & 0.0 & 0.0 & 0.0 & 0.0 & 0.0 & 0.0 & 0.0 & 0.0\\\\0.0 & 0.0 & 0.0 & 0.0 & 0.0 & 0.0 & 0.0 & 0.0 & 0.0 & 0.0 & 0.0 & 0.0 & 0.0 & 0.0 & 0.0\\\\-5.71399419140644 & 0.0 & 0.0 & 0.0 & 0.0 & 0.0 & 0.0 & 0.0 & 0.0 & 0.0 & 0.0 & 0.0 & 0.0 & 0.0 & 0.0\\\\0.0 & 0.285699709570322 & -2.85699709570322 & 0.0 & 0.0 & 0.0 & 0.0 & 0.0 & 0.0 & 0.0 & 0.0 & 0.0 & 0.0 & 0.0 & 0.0\\\\0.0 & 0.0 & 0.0 & -2.85699709570322 & 0.0 & 0.0 & 0.0 & 0.0 & 0.0 & 0.0 & 0.0 & 0.0 & 0.0 & 0.0 & 0.0\\\\0.0 & 0.0 & 0.0 & 0.0 & -2.85699709570322 & 0.0 & 0.0 & 0.0 & 0.0 & 0.0 & 0.0 & 0.0 & 0.0 & 0.0 & 0.0\\\\-0.571399419140645 & 0.0 & 0.0 & 0.0 & 0.0 & 0.0 & 0.0 & 0.0 & 0.0 & 0.0 & 0.0 & 0.0 & 0.0 & 0.0 & 0.0\\\\0.0 & 0.0 & 0.0 & 0.285699709570322 & 0.0 & 0.0 & 0.0 & 0.0 & 0.0 & 0.0 & 0.0 & 0.0 & 0.0 & 0.0 & 0.0\\\\0.0 & 0.0 & 0.0 & 0.0 & 0.285699709570322 & 0.0 & 0.0 & 0.0 & 0.0 & 0.0 & 0.0 & 0.0 & 0.0 & 0.0 & 0.0\\\\0.0 & 0.0 & 0.0 & 0.0 & 0.0 & 0.0 & 0.0 & 0.0 & 0.0 & 0.0 & 0.0 & 0.0 & 0.0 & 0.0 & 0.0\\\\0.0 & 0.0 & 0.0 & 0.0 & 0.0 & 0.0 & 0.0 & 0.0 & 0.0 & 0.0 & 0.0 & 0.0 & 0.0 & 0.0 & 0.0\\\\0.0 & 0.0 & 0.0 & 0.0 & 0.0 & 0.0 & 0.0 & 0.0 & 0.0 & 0.0 & 0.0 & 0.0 & 0.0 & 0.0 & 0.0\\end{array}\\right]$"
      ],
      "text/plain": [
       "Matrix([\n",
       "[               0.0,               0.0,               0.0,               0.0,               0.0, 0.0, 0.0, 0.0, 0.0, 0.0, 0.0, 0.0, 0.0, 0.0, 0.0],\n",
       "[  2.85699709570322,               0.0,               0.0,               0.0,               0.0, 0.0, 0.0, 0.0, 0.0, 0.0, 0.0, 0.0, 0.0, 0.0, 0.0],\n",
       "[-0.285699709570322,               0.0,               0.0,               0.0,               0.0, 0.0, 0.0, 0.0, 0.0, 0.0, 0.0, 0.0, 0.0, 0.0, 0.0],\n",
       "[               0.0,               0.0,               0.0,               0.0,               0.0, 0.0, 0.0, 0.0, 0.0, 0.0, 0.0, 0.0, 0.0, 0.0, 0.0],\n",
       "[               0.0,               0.0,               0.0,               0.0,               0.0, 0.0, 0.0, 0.0, 0.0, 0.0, 0.0, 0.0, 0.0, 0.0, 0.0],\n",
       "[ -5.71399419140644,               0.0,               0.0,               0.0,               0.0, 0.0, 0.0, 0.0, 0.0, 0.0, 0.0, 0.0, 0.0, 0.0, 0.0],\n",
       "[               0.0, 0.285699709570322, -2.85699709570322,               0.0,               0.0, 0.0, 0.0, 0.0, 0.0, 0.0, 0.0, 0.0, 0.0, 0.0, 0.0],\n",
       "[               0.0,               0.0,               0.0, -2.85699709570322,               0.0, 0.0, 0.0, 0.0, 0.0, 0.0, 0.0, 0.0, 0.0, 0.0, 0.0],\n",
       "[               0.0,               0.0,               0.0,               0.0, -2.85699709570322, 0.0, 0.0, 0.0, 0.0, 0.0, 0.0, 0.0, 0.0, 0.0, 0.0],\n",
       "[-0.571399419140645,               0.0,               0.0,               0.0,               0.0, 0.0, 0.0, 0.0, 0.0, 0.0, 0.0, 0.0, 0.0, 0.0, 0.0],\n",
       "[               0.0,               0.0,               0.0, 0.285699709570322,               0.0, 0.0, 0.0, 0.0, 0.0, 0.0, 0.0, 0.0, 0.0, 0.0, 0.0],\n",
       "[               0.0,               0.0,               0.0,               0.0, 0.285699709570322, 0.0, 0.0, 0.0, 0.0, 0.0, 0.0, 0.0, 0.0, 0.0, 0.0],\n",
       "[               0.0,               0.0,               0.0,               0.0,               0.0, 0.0, 0.0, 0.0, 0.0, 0.0, 0.0, 0.0, 0.0, 0.0, 0.0],\n",
       "[               0.0,               0.0,               0.0,               0.0,               0.0, 0.0, 0.0, 0.0, 0.0, 0.0, 0.0, 0.0, 0.0, 0.0, 0.0],\n",
       "[               0.0,               0.0,               0.0,               0.0,               0.0, 0.0, 0.0, 0.0, 0.0, 0.0, 0.0, 0.0, 0.0, 0.0, 0.0]])"
      ]
     },
     "execution_count": 117,
     "metadata": {},
     "output_type": "execute_result"
    }
   ],
   "source": [
    "Matrix(func(2,0.1))"
   ]
  },
  {
   "cell_type": "code",
   "execution_count": 54,
   "id": "192b1d2e",
   "metadata": {},
   "outputs": [],
   "source": [
    "h0lineal=lambdify(g,H0)\n"
   ]
  },
  {
   "cell_type": "code",
   "execution_count": 55,
   "id": "b6d18ebf",
   "metadata": {},
   "outputs": [],
   "source": [
    "dill.dump(func, open(\"H_de\", \"wb\"))\n",
    "dill.dump(h0lineal, open(\"H_0\", \"wb\"))\n"
   ]
  },
  {
   "cell_type": "code",
   "execution_count": 56,
   "id": "e63fa676",
   "metadata": {},
   "outputs": [
    {
     "data": {
      "text/latex": [
       "$\\displaystyle \\left[\\begin{array}{ccccccccccccccc}0 & 0 & 0 & 0 & 0 & 0 & 0 & 0 & 0 & 0 & 0 & 0 & 0 & 0 & 0\\\\0 & 0 & 0 & -1 & - g & 0 & 0 & 0 & 0 & 0 & 0 & 0 & 0 & 0 & 0\\\\0 & 0 & 0 & - g & -1 & 0 & 0 & 0 & 0 & 0 & 0 & 0 & 0 & 0 & 0\\\\0 & 1 & g & 0 & 0 & 0 & 0 & 0 & 0 & 0 & 0 & 0 & 0 & 0 & 0\\\\0 & g & 1 & 0 & 0 & 0 & 0 & 0 & 0 & 0 & 0 & 0 & 0 & 0 & 0\\\\0 & 0 & 0 & 0 & 0 & - 2 g & -2 & 0 & 0 & 0 & 0 & 0 & 0 & 0 & 0\\\\0 & 0 & 0 & 0 & 0 & 1 & 0 & 0 & 0 & -1 & 0 & 0 & 0 & 0 & 0\\\\0 & 0 & 0 & 0 & 0 & 0 & 0 & - 2 g & -1 & 0 & -1 & 0 & 0 & 0 & 0\\\\0 & 0 & 0 & 0 & 0 & 0 & 0 & 1 & 0 & 0 & 0 & -1 & 0 & 0 & 0\\\\0 & 0 & 0 & 0 & 0 & 0 & 2 & 0 & 0 & 2 g & 0 & 0 & 0 & 0 & 0\\\\0 & 0 & 0 & 0 & 0 & 0 & 0 & 1 & 0 & 0 & 0 & -1 & 0 & 0 & 0\\\\0 & 0 & 0 & 0 & 0 & 0 & 0 & 0 & 1 & 0 & 1 & 2 g & 0 & 0 & 0\\\\0 & 0 & 0 & 0 & 0 & 0 & 0 & 0 & 0 & 0 & 0 & 0 & - 2 g & -2 & 0\\\\0 & 0 & 0 & 0 & 0 & 0 & 0 & 0 & 0 & 0 & 0 & 0 & 1 & 0 & -1\\\\0 & 0 & 0 & 0 & 0 & 0 & 0 & 0 & 0 & 0 & 0 & 0 & 0 & 2 & 2 g\\end{array}\\right]$"
      ],
      "text/plain": [
       "Matrix([\n",
       "[0, 0, 0,  0,  0,    0,  0,    0,  0,   0,  0,   0,    0,  0,   0],\n",
       "[0, 0, 0, -1, -g,    0,  0,    0,  0,   0,  0,   0,    0,  0,   0],\n",
       "[0, 0, 0, -g, -1,    0,  0,    0,  0,   0,  0,   0,    0,  0,   0],\n",
       "[0, 1, g,  0,  0,    0,  0,    0,  0,   0,  0,   0,    0,  0,   0],\n",
       "[0, g, 1,  0,  0,    0,  0,    0,  0,   0,  0,   0,    0,  0,   0],\n",
       "[0, 0, 0,  0,  0, -2*g, -2,    0,  0,   0,  0,   0,    0,  0,   0],\n",
       "[0, 0, 0,  0,  0,    1,  0,    0,  0,  -1,  0,   0,    0,  0,   0],\n",
       "[0, 0, 0,  0,  0,    0,  0, -2*g, -1,   0, -1,   0,    0,  0,   0],\n",
       "[0, 0, 0,  0,  0,    0,  0,    1,  0,   0,  0,  -1,    0,  0,   0],\n",
       "[0, 0, 0,  0,  0,    0,  2,    0,  0, 2*g,  0,   0,    0,  0,   0],\n",
       "[0, 0, 0,  0,  0,    0,  0,    1,  0,   0,  0,  -1,    0,  0,   0],\n",
       "[0, 0, 0,  0,  0,    0,  0,    0,  1,   0,  1, 2*g,    0,  0,   0],\n",
       "[0, 0, 0,  0,  0,    0,  0,    0,  0,   0,  0,   0, -2*g, -2,   0],\n",
       "[0, 0, 0,  0,  0,    0,  0,    0,  0,   0,  0,   0,    1,  0,  -1],\n",
       "[0, 0, 0,  0,  0,    0,  0,    0,  0,   0,  0,   0,    0,  2, 2*g]])"
      ]
     },
     "execution_count": 56,
     "metadata": {},
     "output_type": "execute_result"
    }
   ],
   "source": [
    "H0"
   ]
  },
  {
   "cell_type": "code",
   "execution_count": 69,
   "id": "7009c70f",
   "metadata": {},
   "outputs": [],
   "source": [
    "from Integrals import overlap2"
   ]
  },
  {
   "cell_type": "code",
   "execution_count": 70,
   "id": "635e7e27",
   "metadata": {},
   "outputs": [],
   "source": [
    "vector1=[1,1,1,1,1,1,1,1,1,1,1,1,1,1,1]\n",
    "vector2=[1,1,1,1,1,1,1,1,1,1,1,1,1,1,1]\n"
   ]
  },
  {
   "cell_type": "code",
   "execution_count": 71,
   "id": "19450b6f",
   "metadata": {},
   "outputs": [],
   "source": [
    "V=[[vector1[5],vector1[6],vector1[7],vector1[8]],[1,vector1[9],vector1[10],vector1[11]],[1,1,vector1[12],vector1[13]],[1,1,1,vector1[14]]]\n",
    "R=[vector1[i] for i in range(1,5)]\n",
    "B=[[vector2[5],vector2[6],vector2[7],vector2[8]],[1,vector2[9],vector2[10],vector2[11]],[1,1,vector2[12],vector2[13]],[1,1,1,vector2[14]]]\n",
    "S=[vector2[i] for i in range(1,5)]"
   ]
  },
  {
   "cell_type": "code",
   "execution_count": 72,
   "id": "db1d8c58",
   "metadata": {},
   "outputs": [
    {
     "data": {
      "text/plain": [
       "[[1, 1, 1, 1], [1, 1, 1, 1], [1, 1, 1, 1], [1, 1, 1, 1]]"
      ]
     },
     "execution_count": 72,
     "metadata": {},
     "output_type": "execute_result"
    }
   ],
   "source": [
    "V"
   ]
  },
  {
   "cell_type": "code",
   "execution_count": 73,
   "id": "fee289b8",
   "metadata": {},
   "outputs": [
    {
     "data": {
      "text/plain": [
       "[1, 1, 1, 1]"
      ]
     },
     "execution_count": 73,
     "metadata": {},
     "output_type": "execute_result"
    }
   ],
   "source": [
    "R"
   ]
  },
  {
   "cell_type": "code",
   "execution_count": 74,
   "id": "329514dc",
   "metadata": {},
   "outputs": [
    {
     "data": {
      "text/plain": [
       "[[1, 1, 1, 1], [1, 1, 1, 1], [1, 1, 1, 1], [1, 1, 1, 1]]"
      ]
     },
     "execution_count": 74,
     "metadata": {},
     "output_type": "execute_result"
    }
   ],
   "source": [
    "B"
   ]
  },
  {
   "cell_type": "code",
   "execution_count": 75,
   "id": "9de08a1c",
   "metadata": {},
   "outputs": [
    {
     "data": {
      "text/plain": [
       "[1, 1, 1, 1]"
      ]
     },
     "execution_count": 75,
     "metadata": {},
     "output_type": "execute_result"
    }
   ],
   "source": [
    "S"
   ]
  },
  {
   "cell_type": "code",
   "execution_count": 76,
   "id": "db7829ed",
   "metadata": {},
   "outputs": [
    {
     "data": {
      "text/plain": [
       "(1+0j)"
      ]
     },
     "execution_count": 76,
     "metadata": {},
     "output_type": "execute_result"
    }
   ],
   "source": [
    "overlap2(vector1,vector2)"
   ]
  },
  {
   "cell_type": "code",
   "execution_count": 102,
   "id": "6f1a3430",
   "metadata": {
    "scrolled": true
   },
   "outputs": [
    {
     "data": {
      "text/latex": [
       "$\\displaystyle e{\\left(t \\right)} \\frac{d}{d t} e{\\left(t \\right)}$"
      ],
      "text/plain": [
       "e(t)*Derivative(e(t), t)"
      ]
     },
     "execution_count": 102,
     "metadata": {},
     "output_type": "execute_result"
    }
   ],
   "source": [
    "(e*de)"
   ]
  },
  {
   "cell_type": "code",
   "execution_count": 107,
   "id": "982a9589",
   "metadata": {},
   "outputs": [
    {
     "data": {
      "text/latex": [
       "$\\displaystyle \\sin{\\left(2 \\right)} \\cos{\\left(2 \\right)}$"
      ],
      "text/plain": [
       "sin(2)*cos(2)"
      ]
     },
     "execution_count": 107,
     "metadata": {},
     "output_type": "execute_result"
    }
   ],
   "source": [
    "sp.sin(2)*sp.cos(2)"
   ]
  },
  {
   "cell_type": "code",
   "execution_count": null,
   "id": "506b724f",
   "metadata": {},
   "outputs": [],
   "source": []
  },
  {
   "cell_type": "code",
   "execution_count": null,
   "id": "c86ec5ff",
   "metadata": {},
   "outputs": [],
   "source": []
  },
  {
   "cell_type": "markdown",
   "id": "6e0d9281",
   "metadata": {},
   "source": []
  }
 ],
 "metadata": {
  "@webio": {
   "lastCommId": null,
   "lastKernelId": null
  },
  "colab": {
   "collapsed_sections": [],
   "name": "EDO-sympy.ipynb",
   "provenance": []
  },
  "kernelspec": {
   "display_name": "Python 3",
   "language": "python",
   "name": "python3"
  },
  "language_info": {
   "codemirror_mode": {
    "name": "ipython",
    "version": 3
   },
   "file_extension": ".py",
   "mimetype": "text/x-python",
   "name": "python",
   "nbconvert_exporter": "python",
   "pygments_lexer": "ipython3",
   "version": "3.8.8"
  }
 },
 "nbformat": 4,
 "nbformat_minor": 5
}
