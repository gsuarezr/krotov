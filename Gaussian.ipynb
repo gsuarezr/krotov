{
 "cells": [
  {
   "cell_type": "markdown",
   "metadata": {
    "id": "yDOMJ1RpdP8F"
   },
   "source": [
    "# Optimization of a State-to-State Transfer for a Quantum Charger-Battery Driven by Laser Field Using Krotov's Method"
   ]
  },
  {
   "cell_type": "markdown",
   "metadata": {
    "id": "tp3TsOLZlINM"
   },
   "source": []
  },
  {
   "cell_type": "code",
   "execution_count": null,
   "metadata": {},
   "outputs": [],
   "source": [
    "pip! install drill"
   ]
  },
  {
   "cell_type": "code",
   "execution_count": 1,
   "metadata": {
    "id": "YwFSPufgdP8T"
   },
   "outputs": [
    {
     "name": "stderr",
     "output_type": "stream",
     "text": [
      "D:\\ProgramData\\Anaconda3\\lib\\site-packages\\qutip\\__init__.py:93: UserWarning: Old version of Cython detected: needed 0.29.20, got 0.29.15.\n",
      "  .format(_cy_require, _Cython.__version__)\n"
     ]
    }
   ],
   "source": [
    "# NBVAL_IGNORE_OUTPUT\n",
    "import qutip\n",
    "import numpy as np\n",
    "import scipy\n",
    "import matplotlib\n",
    "import matplotlib.pylab as plt\n",
    "from src import krotov\n",
    "\n",
    "\n",
    "import math\n",
    "from src.krotov import Integrals as inte\n",
    "import scipy.integrate as integrate"
   ]
  },
  {
   "cell_type": "markdown",
   "metadata": {
    "id": "MO1oqm_IdP8V"
   },
   "source": [
    "$\\newcommand{tr}[0]{\\operatorname{tr}}\n",
    "\\newcommand{diag}[0]{\\operatorname{diag}}\n",
    "\\newcommand{abs}[0]{\\operatorname{abs}}\n",
    "\\newcommand{pop}[0]{\\operatorname{pop}}\n",
    "\\newcommand{aux}[0]{\\text{aux}}\n",
    "\\newcommand{opt}[0]{\\text{opt}}\n",
    "\\newcommand{tgt}[0]{\\text{tgt}}\n",
    "\\newcommand{init}[0]{\\text{init}}\n",
    "\\newcommand{lab}[0]{\\text{lab}}\n",
    "\\newcommand{rwa}[0]{\\text{rwa}}\n",
    "\\newcommand{bra}[1]{\\langle#1\\vert}\n",
    "\\newcommand{ket}[1]{\\vert#1\\rangle}\n",
    "\\newcommand{Bra}[1]{\\left\\langle#1\\right\\vert}\n",
    "\\newcommand{Ket}[1]{\\left\\vert#1\\right\\rangle}\n",
    "\\newcommand{Braket}[2]{\\left\\langle #1\\vphantom{#2}\\mid{#2}\\vphantom{#1}\\right\\rangle}\n",
    "\\newcommand{op}[1]{\\hat{#1}}\n",
    "\\newcommand{Op}[1]{\\hat{#1}}\n",
    "\\newcommand{dd}[0]{\\,\\text{d}}\n",
    "\\newcommand{Liouville}[0]{\\mathcal{L}}\n",
    "\\newcommand{DynMap}[0]{\\mathcal{E}}\n",
    "\\newcommand{identity}[0]{\\mathbf{1}}\n",
    "\\newcommand{Norm}[1]{\\lVert#1\\rVert}\n",
    "\\newcommand{Abs}[1]{\\left\\vert#1\\right\\vert}\n",
    "\\newcommand{avg}[1]{\\langle#1\\rangle}\n",
    "\\newcommand{Avg}[1]{\\left\\langle#1\\right\\rangle}\n",
    "\\newcommand{AbsSq}[1]{\\left\\vert#1\\right\\vert^2}\n",
    "\\newcommand{Re}[0]{\\operatorname{Re}}\n",
    "\\newcommand{Im}[0]{\\operatorname{Im}}$\n",
    "\n",
    "This first example illustrates the basic use of the `krotov` package by solving\n",
    "a simple canonical optimization problem: the transfer of population in a two\n",
    "level system."
   ]
  },
  {
   "cell_type": "markdown",
   "metadata": {
    "id": "jUiMagksdP8W"
   },
   "source": [
    "## Hamiltonian"
   ]
  },
  {
   "cell_type": "code",
   "execution_count": 2,
   "metadata": {},
   "outputs": [],
   "source": [
    "import dill \n",
    "dill.settings['recurse'] = True\n",
    "\n",
    "H0=dill.load(open(\"H_0\", \"rb\"))\n",
    "He=dill.load(open(\"H_e\",\"rb\"))\n",
    "Hde=dill.load(open(\"H_de\",\"rb\"))\n",
    "\n"
   ]
  },
  {
   "cell_type": "markdown",
   "metadata": {},
   "source": [
    "g=0.2, T=100,target= np.sqrt(2), np.sqrt(2),0,5 * np.sqrt(2), nt=100 it is good"
   ]
  },
  {
   "cell_type": "code",
   "execution_count": 3,
   "metadata": {},
   "outputs": [
    {
     "name": "stdout",
     "output_type": "stream",
     "text": [
      "iter.      J_T    ∫gₐ(t)dt          J       ΔJ_T         ΔJ  secs\n",
      "0     1.00e+00    0.00e+00   1.00e+00        n/a        n/a     3\n",
      "1     1.00e+00    6.56e+00   7.56e+00   3.35e-04   6.56e+00     7 **\n"
     ]
    },
    {
     "name": "stderr",
     "output_type": "stream",
     "text": [
      "WARNING:matplotlib.legend:No handles with labels found to put in legend.\n"
     ]
    },
    {
     "data": {
      "image/png": "[encoded data removed]",
      "text/plain": [
       "<Figure size 288x360 with 2 Axes>"
      ]
     },
     "metadata": {
      "needs_background": "light"
     },
     "output_type": "display_data"
    }
   ],
   "source": [
    "omega=1\n",
    "ampl0=0.00001\n",
    "#T=8\n",
    "mu=0.5\n",
    "g=0.2*omega\n",
    "#ampl0=1\n",
    "T=20\n",
    "nt=100\n",
    "tlist = np.linspace(0,T, nt)\n",
    "def hamiltonian(omega, ampl0, mu,g):\n",
    "      \"\"\"Two-level-system Hamiltonian\n",
    "\n",
    "      Args:\n",
    "          omega (float): energy separation of the qubit levels\n",
    "          ampl0 (float): constant amplitude of the driving field\n",
    "      \"\"\"\n",
    "      HA = -1j*qutip.Qobj(H0(g))\n",
    "      H1 =-1j*qutip.Qobj(Hde(mu,g))\n",
    "      H2= -1j*qutip.Qobj(He(mu))\n",
    "      def guess_control(t, args):\n",
    "          return ampl0*krotov.shapes.flattop(\n",
    "              t, t_start=0, t_stop=T, t_rise=0.005, func=\"blackman\"\n",
    "          )\n",
    "      def guess_control2(t, args):\n",
    "          return ampl0*krotov.shapes.flattop(\n",
    "              t, t_start=0, t_stop=T, t_rise=0.005, func=\"blackman\"\n",
    "          )\n",
    "      \n",
    "      return [HA, [H1, guess_control], [H2, guess_control]]\n",
    "def S(t):\n",
    "    \"\"\"Shape function for the field update\"\"\"\n",
    "    return krotov.shapes.flattop(\n",
    "        t, t_start=0, t_stop=T, t_rise=0.05 * T, t_fall=0.05 * T, func='sinsq'\n",
    "    )\n",
    "def plot_iterations(opt_result):\n",
    "    \"\"\"Plot the control fields in population dynamics over all iterations.\n",
    "\n",
    "    This depends on ``store_all_pulses=True`` in the call to\n",
    "    `optimize_pulses`.\n",
    "    \"\"\"\n",
    "\n",
    "    fig, [ax_ctr,ax] = plt.subplots(nrows=2, figsize=(4, 5))\n",
    "    n_iters = len(opt_result.iters)\n",
    "    EEnergy=np.zeros(nt)\n",
    "    for (iteration, pulses) in zip(opt_result.iters, opt_result.all_pulses):\n",
    "        controls = [\n",
    "            krotov.conversions.pulse_onto_tlist(pulse)\n",
    "            for pulse in pulses\n",
    "        ]\n",
    "        objectives = opt_result.objectives_with_controls(controls)\n",
    "        dynamics = objectives[0].mesolve(\n",
    "            opt_result.tlist, e_ops=[]\n",
    "        )\n",
    "        if iteration == 0:\n",
    "            ls = '--'  # dashed\n",
    "            alpha = 1  # full opacity\n",
    "            ctr_label = 'guess'\n",
    "            pop_labels = ['0 (guess)', '1 (guess)']\n",
    "        elif iteration == opt_result.iters[-1]:\n",
    "            ls = '-'  # solid\n",
    "            alpha = 1  # full opacity\n",
    "            ctr_label = 'optimized'\n",
    "            pop_labels = ['0 (optimized)', '1 (optimized)']\n",
    "        else:\n",
    "            ls = '-'  # solid\n",
    "            alpha = 0.5 * float(iteration) / float(n_iters)  # max 50%\n",
    "            ctr_label = None\n",
    "            pop_labels = [None, None]\n",
    "        ax_ctr.plot(\n",
    "            dynamics.times,\n",
    "            controls[0],\n",
    "            label=ctr_label,\n",
    "            color='black',\n",
    "            ls=ls,\n",
    "            alpha=alpha,\n",
    "        )\n",
    "    EField=np.transpose(np.array(opt_result.optimized_controls))\n",
    "    EEnergy[0]=(np.square(EField[0]))*(T/nt)\n",
    "    a=0\n",
    "    for i in range (1,nt):\n",
    "      a+=np.square(EField[i-1])\n",
    "      EEnergy[i]=(np.square(EField[i])+a)*(T/nt)\n",
    "      \n",
    "    \n",
    "    ax.plot(tlist,np.transpose(EEnergy))\n",
    "    plt.legend()\n",
    "    plt.show(fig)\n",
    "    \n",
    "    \n",
    "    \n",
    "\n",
    "\n",
    "\n",
    "H = hamiltonian(omega,ampl0,mu,g)\n",
    "pulse_options = {\n",
    "    H[1][1]: dict(lambda_a=0.1, update_shape=S), \n",
    "\n",
    "    \n",
    "}\n",
    "target=np.array([1,0, 2*np.sqrt(2),0,2*np.sqrt(2),1/2,0,0,0,1/2,0,0,1/2,0,1/2])\n",
    "#target=np.array([1,np.sqrt(2), 2*np.sqrt(2),np.sqrt(2),2*np.sqrt(2),1/2,0,0,0,1/2,0,0,1/2,0,1/2])\n",
    "r=np.pi/4\n",
    "r2=np.pi/8\n",
    "theta=np.pi/4\n",
    "objectives = [\n",
    "    krotov.Objective(\n",
    "        #initial_state=qutip.Qobj(np.array([1,0,0,0,0,1/2*np.cosh(2*r2),0,-1/2*np.sinh(2*r2)*np.cos(theta),-1/2*np.sinh(2*r2)*np.sin(theta),1/2*np.cosh(2*r2),-1/2*np.sinh(2*r2)*np.sin(theta),1/2*np.sinh(2*r2)*np.cos(theta),1/2*np.cosh(2*r2),0,1/2*np.cosh(2*r2)])), target=qutip.Qobj(qutip.Qobj(np.array([1,0,0,0,0,1/2*np.cosh(2*r),0,-1/2*np.sinh(2*r)*np.cos(theta),-1/2*np.sinh(2*r)*np.sin(theta),1/2*np.cosh(2*r),-1/2*np.sinh(2*r)*np.sin(theta),1/2*np.sinh(2*r)*np.cos(theta),1/2*np.cosh(2*r),0,1/2*np.cosh(2*r)]))), H=H\n",
    "        initial_state=qutip.Qobj(np.array([1,0,0,0,0,1/2,0,0,0,1/2,0,0,1/2,0,1/2])), target=qutip.Qobj(target), H=H\n",
    "      )\n",
    "  ]\n",
    "\n",
    "opt_result = krotov.optimize_pulses(\n",
    "  objectives,\n",
    "  pulse_options=pulse_options,\n",
    "  tlist=tlist,\n",
    "  fieldcoupling=mu,\n",
    "  propagator=krotov.propagators.expm,\n",
    "  chi_constructor=krotov.functionals.chis_ss,\n",
    "  info_hook=krotov.info_hooks.print_table(J_T=krotov.functionals.J_T_ss),\n",
    "  check_convergence=krotov.convergence.Or(\n",
    "      krotov.convergence.value_below('9e-3', name='J_T'),\n",
    "      krotov.convergence.check_monotonic_error,\n",
    "      #krotov.convergence.check_monotonic_fidelity,\n",
    "\n",
    "  ),\n",
    "    store_all_pulses=True,\n",
    "    overlap=inte.coherent_overlap,norm='gaussiano'\n",
    ")\n",
    "plot_iterations(opt_result)\n",
    "\n",
    "\n"
   ]
  },
  {
   "cell_type": "markdown",
   "metadata": {},
   "source": [
    "target=np.array([1,0.6*np.sqrt(2), 2*np.sqrt(2),-0.6*np.sqrt(2),np.sqrt(2),1/2,0,0,0,1/2,0,0,1/2,0,1/2]) for T=30 good\n",
    "target=np.array([1,0.6*np.sqrt(2), 2*np.sqrt(2),-0.6*np.sqrt(2),np.sqrt(2),1/2,0,0,0,1/2,0,0,1/2,0,1/2]) for T=30 good\n"
   ]
  },
  {
   "cell_type": "markdown",
   "metadata": {},
   "source": [
    "Plot in phase space the last state and the target for the battery"
   ]
  },
  {
   "cell_type": "code",
   "execution_count": 23,
   "metadata": {},
   "outputs": [
    {
     "data": {
      "image/png": "[encoded data removed]",
      "text/plain": [
       "<Figure size 720x720 with 2 Axes>"
      ]
     },
     "metadata": {
      "needs_background": "light"
     },
     "output_type": "display_data"
    },
    {
     "name": "stdout",
     "output_type": "stream",
     "text": [
      "[[1.]]\n"
     ]
    }
   ],
   "source": [
    "psi=opt_result.states[0]\n",
    "circle1=plt.Circle((1/np.sqrt(2)*np.real(psi[nt-1][2]), 1/np.sqrt(2)*np.real(psi[nt-1][4])), 0.25, color='r')\n",
    "circle2=plt.Circle((1/np.sqrt(2)*target[2], 1/np.sqrt(2)*target[4]), 0.25, color='b')\n",
    "\n",
    "fig, ax = plt.subplots(2,figsize=(10,10)) \n",
    "\n",
    "x=[1/np.sqrt(2)*np.real(psi[nt-1][2]),1/np.sqrt(2)*target[2]]\n",
    "y=[1/np.sqrt(2)*np.real(psi[nt-1][4]),1/np.sqrt(2)*target[4]]\n",
    "\n",
    "overlap1=np.exp(-np.abs(1/np.sqrt(2)*target[2]+1j*1/np.sqrt(2)*target[4]-(1/np.sqrt(2)*np.real(psi[nt-1][2])+1j*1/np.sqrt(2)*np.real(psi[nt-1][4])))**2)\n",
    "\n",
    "ax[0].scatter(x,y)\n",
    "ax[0].add_patch(circle1)\n",
    "ax[0].add_patch(circle2)\n",
    "#ax[0].set_ylim([-0.4, 0.3])\n",
    "#ax[0].set_xlim([0.6, 2.3])\n",
    "\n",
    "\n",
    "x=[1/np.sqrt(2)*np.real(psi[nt-1][1]),1/np.sqrt(2)*target[1]]\n",
    "y=[1/np.sqrt(2)*np.real(psi[nt-1][3]),1/np.sqrt(2)*target[3]]\n",
    "\n",
    "\n",
    "overlap2=np.exp(-np.abs(1/np.sqrt(2)*target[1]+1j*1/np.sqrt(2)*target[3]-(1/np.sqrt(2)*np.real(psi[nt-1][1])+1j*1/np.sqrt(2)*np.real(psi[nt-1][3])))**2)\n",
    "\n",
    "circle3=plt.Circle((1/np.sqrt(2)*np.real(psi[nt-1][1]), 1/np.sqrt(2)*np.real(psi[nt-1][3])), 0.25, color='r')\n",
    "circle4=plt.Circle((1/np.sqrt(2)*target[1], 1/np.sqrt(2)*target[3]), 0.25, color='b')\n",
    "\n",
    "ax[1].scatter(x,y)\n",
    "ax[1].add_patch(circle3)\n",
    "ax[1].add_patch(circle4)\n",
    "#ax[1].set_ylim([-1, 1])\n",
    "#ax[1].set_xlim([-1, 1])\n",
    "\n",
    "plt.show()\n",
    "print(1-overlap1*overlap2)"
   ]
  },
  {
   "cell_type": "markdown",
   "metadata": {},
   "source": [
    "Energy vs time"
   ]
  },
  {
   "cell_type": "code",
   "execution_count": 4,
   "metadata": {
    "scrolled": true
   },
   "outputs": [
    {
     "data": {
      "text/plain": [
       "[<matplotlib.lines.Line2D at 0x1f3fa4c04c8>]"
      ]
     },
     "execution_count": 4,
     "metadata": {},
     "output_type": "execute_result"
    },
    {
     "data": {
      "image/png": "[encoded data removed]",
      "text/plain": [
       "<Figure size 432x288 with 1 Axes>"
      ]
     },
     "metadata": {
      "needs_background": "light"
     },
     "output_type": "display_data"
    }
   ],
   "source": [
    "psi=opt_result.states[0]\n",
    "Energy=np.zeros(nt)\n",
    "for i in range (0,np.shape(psi)[0]):\n",
    "    Energy[i]=1/2*(np.real(psi[i][9])+(np.real(psi[i][2]))**2+np.real(psi[i][14])+(np.real(psi[i][4]))**2)-1/2\n",
    "    #Energy[i]=1/2*(np.real(psi[i][5])+(np.real(psi[i][1]))**2+np.real(psi[i][12])+(np.real(psi[i][3]))**2)-1/2\n",
    "plt.plot(opt_result.tlist,Energy)\n",
    "\n"
   ]
  },
  {
   "cell_type": "code",
   "execution_count": 5,
   "metadata": {},
   "outputs": [
    {
     "data": {
      "text/latex": [
       "Quantum object: dims = [[15], [1]], shape = (15, 1), type = ket\\begin{equation*}\\left(\\begin{array}{*{11}c}1.0\\\\0.072\\\\0.045\\\\0.025\\\\0.025\\\\\\vdots\\\\0.0\\\\0.0\\\\0.500\\\\0.0\\\\0.500\\\\\\end{array}\\right)\\end{equation*}"
      ],
      "text/plain": [
       "Quantum object: dims = [[15], [1]], shape = (15, 1), type = ket\n",
       "Qobj data =\n",
       "[[1.        ]\n",
       " [0.07199861]\n",
       " [0.04486285]\n",
       " [0.02484165]\n",
       " [0.02543346]\n",
       " [0.5       ]\n",
       " [0.        ]\n",
       " [0.        ]\n",
       " [0.        ]\n",
       " [0.5       ]\n",
       " [0.        ]\n",
       " [0.        ]\n",
       " [0.5       ]\n",
       " [0.        ]\n",
       " [0.5       ]]"
      ]
     },
     "execution_count": 5,
     "metadata": {},
     "output_type": "execute_result"
    }
   ],
   "source": [
    "inte.opt_result.states[0][nt-1]"
   ]
  },
  {
   "cell_type": "markdown",
   "metadata": {},
   "source": [
    "Function to get the states at each t for optimized field"
   ]
  },
  {
   "cell_type": "code",
   "execution_count": 5,
   "metadata": {},
   "outputs": [],
   "source": [
    "from scipy.integrate import simpson\n",
    "\n",
    "\n",
    "def field_discrete(lista,t,dt):\n",
    "    return lista[int(t/dt)]\n",
    "\n",
    "def states(psi0,g,mu):\n",
    "    HA = qutip.Qobj(H0(g))\n",
    "    H1 =qutip.Qobj(Hde(mu,g))\n",
    "    H2=qutip.Qobj(He(mu))\n",
    "    states=np.zeros((len(opt_result.tlist),15),dtype=complex)\n",
    "    integral=np.zeros(nt)\n",
    "\n",
    "    for time_index in range(len(opt_result.tlist)-1):\n",
    "        if time_index==0:\n",
    "            integral[time_index]=0\n",
    "        else:    \n",
    "            integral[time_index]=simpson(np.array(opt_result.optimized_controls[0])[:time_index], np.array(opt_result.tlist)[:time_index])\n",
    "    \n",
    "    dt=opt_result.tlist[1]-opt_result.tlist[0]\n",
    "    for i in range (0,len(opt_result.tlist)):\n",
    "        #A=HA+H1*field_discrete(opt_result.optimized_controls[0],opt_result.tlist[i],dt)+H2*field_discrete(integral,opt_result.tlist[i],dt)\n",
    "        A=HA+H1*opt_result.optimized_controls[0][i]+H2*integral[i]\n",
    "        '''if i==len(opt_result.tlist)-1:\n",
    "            A=HA+H2*opt_result.optimized_controls[0][i]+H1*(opt_result.optimized_controls[0][i]-opt_result.optimized_controls[0][i-1])/dt\n",
    "        else:\n",
    "            \n",
    "            A=HA+H2*opt_result.optimized_controls[0][i]+H1*(opt_result.optimized_controls[0][i+1]-opt_result.optimized_controls[0][i])/dt'''\n",
    "\n",
    "        if i==0:\n",
    "            states[i,:]=psi0.trans()\n",
    "        else:\n",
    "            states[i][:]=((-A * dt).expm())(qutip.Qobj(states[i-1][:])).trans()\n",
    "\n",
    "    return states"
   ]
  },
  {
   "cell_type": "code",
   "execution_count": 94,
   "metadata": {},
   "outputs": [
    {
     "data": {
      "text/plain": [
       "0.9706997877916896"
      ]
     },
     "execution_count": 94,
     "metadata": {},
     "output_type": "execute_result"
    }
   ],
   "source": [
    "1-np.abs(inte.coherent_overlap(opt_result.states[0],qutip.Qobj(target)))**2"
   ]
  },
  {
   "cell_type": "code",
   "execution_count": 118,
   "metadata": {},
   "outputs": [
    {
     "data": {
      "text/plain": [
       "Krotov Optimization Result\n",
       "--------------------------\n",
       "- Started at 2022-01-24 17:18:42\n",
       "- Number of objectives: 1\n",
       "- Number of iterations: 3\n",
       "- Reason for termination: Reached convergence: Loss of monotonic convergence; error decrease < 0\n",
       "- Ended at 2022-01-24 17:18:51 (0:00:09)"
      ]
     },
     "execution_count": 118,
     "metadata": {},
     "output_type": "execute_result"
    }
   ],
   "source": [
    "opt_result"
   ]
  },
  {
   "cell_type": "markdown",
   "metadata": {},
   "source": [
    "Function to get the real field"
   ]
  },
  {
   "cell_type": "code",
   "execution_count": 6,
   "metadata": {},
   "outputs": [],
   "source": [
    "def field():\n",
    "    integral=np.zeros(nt)\n",
    "    for time_index in range(len(opt_result.tlist)):\n",
    "        if time_index==0:\n",
    "            integral[time_index]=0\n",
    "        else:    \n",
    "            integral[time_index]=simpson(np.array(opt_result.optimized_controls[0])[:time_index], np.array(opt_result.tlist)[:time_index])\n",
    "        \n",
    "    return integral"
   ]
  },
  {
   "cell_type": "markdown",
   "metadata": {},
   "source": [
    "Energy vs time"
   ]
  },
  {
   "cell_type": "markdown",
   "metadata": {},
   "source": [
    "Electric field"
   ]
  },
  {
   "cell_type": "code",
   "execution_count": 7,
   "metadata": {},
   "outputs": [
    {
     "name": "stdout",
     "output_type": "stream",
     "text": [
      "-30.65462645179146\n"
     ]
    },
    {
     "data": {
      "image/png": "[encoded data removed]",
      "text/plain": [
       "<Figure size 432x288 with 1 Axes>"
      ]
     },
     "metadata": {
      "needs_background": "light"
     },
     "output_type": "display_data"
    }
   ],
   "source": [
    "Efield=field()\n",
    "plt.plot(opt_result.tlist,Efield,label=\"Real\")\n",
    "plt.plot(opt_result.tlist,opt_result.optimized_controls[0],label=\"Diff\")\n",
    "plt.legend()\n",
    "print(Efield[nt-1])"
   ]
  },
  {
   "cell_type": "code",
   "execution_count": 146,
   "metadata": {},
   "outputs": [
    {
     "name": "stdout",
     "output_type": "stream",
     "text": [
      "[[0.+0.j]]\n",
      "[[-0.09224555+0.j]]\n",
      "[[0.02034789+0.j]]\n",
      "[[-0.18902043+0.j]]\n",
      "[[0.17992509+0.j]]\n",
      "[[-1.77635684e-15+0.j]]\n",
      "[[0.+0.j]]\n",
      "[[0.+0.j]]\n",
      "[[0.+0.j]]\n",
      "[[6.10622664e-15+0.j]]\n",
      "[[0.+0.j]]\n",
      "[[0.+0.j]]\n",
      "[[-1.88737914e-15+0.j]]\n",
      "[[0.+0.j]]\n",
      "[[5.55111512e-15+0.j]]\n"
     ]
    }
   ],
   "source": [
    "for i in range(0,15):\n",
    "    print(opt_result.states[0][i]-psi[nt-1][i])"
   ]
  },
  {
   "cell_type": "code",
   "execution_count": 147,
   "metadata": {},
   "outputs": [
    {
     "name": "stdout",
     "output_type": "stream",
     "text": [
      "8\n",
      "7\n",
      "6\n",
      "5\n",
      "4\n",
      "3\n",
      "2\n",
      "1\n",
      "0\n"
     ]
    }
   ],
   "source": [
    "tlist=np.linspace(0,1,10)\n",
    "for time_index in range(len(tlist) - 2, -1, -1):\n",
    "    print(time_index)"
   ]
  },
  {
   "cell_type": "code",
   "execution_count": null,
   "metadata": {},
   "outputs": [],
   "source": []
  }
 ],
 "metadata": {
  "@webio": {
   "lastCommId": null,
   "lastKernelId": null
  },
  "colab": {
   "collapsed_sections": [],
   "name": "Non-dissipative, Time=pi/g, g=0.2*omega.ipynb",
   "provenance": []
  },
  "kernelspec": {
   "display_name": "Python 3",
   "language": "python",
   "name": "python3"
  },
  "language_info": {
   "codemirror_mode": {
    "name": "ipython",
    "version": 3
   },
   "file_extension": ".py",
   "mimetype": "text/x-python",
   "name": "python",
   "nbconvert_exporter": "python",
   "pygments_lexer": "ipython3",
   "version": "3.9.1"
  }
 },
 "nbformat": 4,
 "nbformat_minor": 1
}
