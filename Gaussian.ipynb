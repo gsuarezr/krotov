{
 "cells": [
  {
   "cell_type": "markdown",
   "metadata": {
    "id": "yDOMJ1RpdP8F"
   },
   "source": [
    "# Optimization of a State-to-State Transfer for a Quantum Charger-Battery Driven by Laser Field Using Krotov's Method"
   ]
  },
  {
   "cell_type": "markdown",
   "metadata": {
    "id": "tp3TsOLZlINM"
   },
   "source": []
  },
  {
   "cell_type": "code",
   "execution_count": 2,
   "metadata": {},
   "outputs": [
    {
     "name": "stdout",
     "output_type": "stream",
     "text": [
      "Note: you may need to restart the kernel to use updated packages.\n"
     ]
    },
    {
     "name": "stderr",
     "output_type": "stream",
     "text": [
      "ERROR: unknown command \"!\"\n",
      "\n"
     ]
    }
   ],
   "source": [
    "pip! install drill"
   ]
  },
  {
   "cell_type": "code",
   "execution_count": 1,
   "metadata": {
    "id": "YwFSPufgdP8T"
   },
   "outputs": [
    {
     "name": "stderr",
     "output_type": "stream",
     "text": [
      "D:\\ProgramData\\Anaconda3\\lib\\site-packages\\qutip\\__init__.py:93: UserWarning: Old version of Cython detected: needed 0.29.20, got 0.29.15.\n",
      "  .format(_cy_require, _Cython.__version__)\n"
     ]
    }
   ],
   "source": [
    "# NBVAL_IGNORE_OUTPUT\n",
    "import qutip\n",
    "import numpy as np\n",
    "import scipy\n",
    "import matplotlib\n",
    "import matplotlib.pylab as plt\n",
    "from src import krotov\n",
    "\n",
    "\n",
    "import math\n",
    "from src.krotov import Integrals as inte\n",
    "import scipy.integrate as integrate"
   ]
  },
  {
   "cell_type": "markdown",
   "metadata": {
    "id": "MO1oqm_IdP8V"
   },
   "source": [
    "$\\newcommand{tr}[0]{\\operatorname{tr}}\n",
    "\\newcommand{diag}[0]{\\operatorname{diag}}\n",
    "\\newcommand{abs}[0]{\\operatorname{abs}}\n",
    "\\newcommand{pop}[0]{\\operatorname{pop}}\n",
    "\\newcommand{aux}[0]{\\text{aux}}\n",
    "\\newcommand{opt}[0]{\\text{opt}}\n",
    "\\newcommand{tgt}[0]{\\text{tgt}}\n",
    "\\newcommand{init}[0]{\\text{init}}\n",
    "\\newcommand{lab}[0]{\\text{lab}}\n",
    "\\newcommand{rwa}[0]{\\text{rwa}}\n",
    "\\newcommand{bra}[1]{\\langle#1\\vert}\n",
    "\\newcommand{ket}[1]{\\vert#1\\rangle}\n",
    "\\newcommand{Bra}[1]{\\left\\langle#1\\right\\vert}\n",
    "\\newcommand{Ket}[1]{\\left\\vert#1\\right\\rangle}\n",
    "\\newcommand{Braket}[2]{\\left\\langle #1\\vphantom{#2}\\mid{#2}\\vphantom{#1}\\right\\rangle}\n",
    "\\newcommand{op}[1]{\\hat{#1}}\n",
    "\\newcommand{Op}[1]{\\hat{#1}}\n",
    "\\newcommand{dd}[0]{\\,\\text{d}}\n",
    "\\newcommand{Liouville}[0]{\\mathcal{L}}\n",
    "\\newcommand{DynMap}[0]{\\mathcal{E}}\n",
    "\\newcommand{identity}[0]{\\mathbf{1}}\n",
    "\\newcommand{Norm}[1]{\\lVert#1\\rVert}\n",
    "\\newcommand{Abs}[1]{\\left\\vert#1\\right\\vert}\n",
    "\\newcommand{avg}[1]{\\langle#1\\rangle}\n",
    "\\newcommand{Avg}[1]{\\left\\langle#1\\right\\rangle}\n",
    "\\newcommand{AbsSq}[1]{\\left\\vert#1\\right\\vert^2}\n",
    "\\newcommand{Re}[0]{\\operatorname{Re}}\n",
    "\\newcommand{Im}[0]{\\operatorname{Im}}$\n",
    "\n",
    "This first example illustrates the basic use of the `krotov` package by solving\n",
    "a simple canonical optimization problem: the transfer of population in a two\n",
    "level system."
   ]
  },
  {
   "cell_type": "markdown",
   "metadata": {
    "id": "jUiMagksdP8W"
   },
   "source": [
    "## Hamiltonian"
   ]
  },
  {
   "cell_type": "code",
   "execution_count": 2,
   "metadata": {},
   "outputs": [],
   "source": [
    "import dill \n",
    "dill.settings['recurse'] = True\n",
    "\n",
    "H0=dill.load(open(\"H_0\", \"rb\"))\n",
    "He=dill.load(open(\"H_campo\",\"rb\"))\n",
    "Hde=dill.load(open(\"H_de\",\"rb\"))\n",
    "\n"
   ]
  },
  {
   "cell_type": "code",
   "execution_count": null,
   "metadata": {
    "colab": {
     "base_uri": "https://localhost:8080/",
     "height": 1000
    },
    "id": "tNdW-WuZ31oO",
    "outputId": "fbc662db-64ae-402c-8294-c098440888c7",
    "scrolled": false
   },
   "outputs": [
    {
     "name": "stdout",
     "output_type": "stream",
     "text": [
      "iter.      J_T    ∫gₐ(t)dt          J       ΔJ_T         ΔJ  secs\n",
      "0     6.30e-01    0.00e+00   6.30e-01        n/a        n/a     0\n",
      "1     6.29e-01    1.78e-03   6.31e-01  -4.32e-04   1.35e-03    11 *\n",
      "2     6.29e-01    1.78e-03   6.31e-01  -4.33e-04   1.35e-03    11 *\n",
      "3     6.29e-01    1.78e-03   6.30e-01  -4.34e-04   1.35e-03    11 *\n",
      "4     6.28e-01    1.78e-03   6.30e-01  -4.35e-04   1.35e-03    11 *\n",
      "5     6.28e-01    1.78e-03   6.29e-01  -4.36e-04   1.35e-03    11 *\n",
      "6     6.27e-01    1.78e-03   6.29e-01  -4.37e-04   1.35e-03    11 *\n",
      "7     6.27e-01    1.78e-03   6.29e-01  -4.38e-04   1.35e-03    11 *\n",
      "8     6.26e-01    1.78e-03   6.28e-01  -4.39e-04   1.35e-03    11 *\n",
      "9     6.26e-01    1.78e-03   6.28e-01  -4.40e-04   1.34e-03    11 *\n",
      "10    6.25e-01    1.78e-03   6.27e-01  -4.41e-04   1.34e-03    11 *\n",
      "11    6.25e-01    1.78e-03   6.27e-01  -4.42e-04   1.34e-03    11 *\n",
      "12    6.25e-01    1.78e-03   6.26e-01  -4.43e-04   1.34e-03    11 *\n",
      "13    6.24e-01    1.78e-03   6.26e-01  -4.44e-04   1.34e-03    11 *\n",
      "14    6.24e-01    1.78e-03   6.25e-01  -4.45e-04   1.34e-03    12 *\n",
      "15    6.23e-01    1.78e-03   6.25e-01  -4.46e-04   1.34e-03    11 *\n",
      "16    6.23e-01    1.78e-03   6.25e-01  -4.47e-04   1.34e-03    11 *\n",
      "17    6.22e-01    1.78e-03   6.24e-01  -4.48e-04   1.34e-03    11 *\n",
      "18    6.22e-01    1.78e-03   6.24e-01  -4.49e-04   1.34e-03    11 *\n",
      "19    6.21e-01    1.78e-03   6.23e-01  -4.50e-04   1.33e-03    11 *\n",
      "20    6.21e-01    1.78e-03   6.23e-01  -4.51e-04   1.33e-03    11 *\n",
      "21    6.21e-01    1.78e-03   6.22e-01  -4.52e-04   1.33e-03    12 *\n",
      "22    6.20e-01    1.78e-03   6.22e-01  -4.53e-04   1.33e-03    11 *\n",
      "23    6.20e-01    1.78e-03   6.21e-01  -4.54e-04   1.33e-03    12 *\n",
      "24    6.19e-01    1.78e-03   6.21e-01  -4.55e-04   1.33e-03    11 *\n",
      "25    6.19e-01    1.78e-03   6.21e-01  -4.56e-04   1.33e-03    11 *\n",
      "26    6.18e-01    1.78e-03   6.20e-01  -4.57e-04   1.33e-03    11 *\n",
      "27    6.18e-01    1.78e-03   6.20e-01  -4.58e-04   1.33e-03    11 *\n",
      "28    6.17e-01    1.78e-03   6.19e-01  -4.59e-04   1.32e-03    11 *\n",
      "29    6.17e-01    1.78e-03   6.19e-01  -4.60e-04   1.32e-03    12 *\n"
     ]
    }
   ],
   "source": [
    "omega=1\n",
    "g=0.2*omega\n",
    "mu=0.05\n",
    "ampl0=1\n",
    "#T=8\n",
    "#ampl0=1\n",
    "T=1.5\n",
    "nt=20\n",
    "tlist = np.linspace(0,T, nt)\n",
    "def hamiltonian(omega, ampl0, g,mu):\n",
    "      \"\"\"Two-level-system Hamiltonian\n",
    "\n",
    "      Args:\n",
    "          omega (float): energy separation of the qubit levels\n",
    "          ampl0 (float): constant amplitude of the driving field\n",
    "      \"\"\"\n",
    "      HA =-1j* qutip.Qobj(H0(g))\n",
    "      H1 =-1j*qutip.Qobj(Hde(mu,g))\n",
    "      H2= -1j*qutip.Qobj(He(mu,g))\n",
    "      def guess_control(t, args):\n",
    "          return ampl0*krotov.shapes.flattop(\n",
    "              t, t_start=0, t_stop=T, t_rise=0.005, func=\"sinsq\"\n",
    "          )\n",
    "      def guess_control2(t, args):\n",
    "          return ampl0*krotov.shapes.flattop(\n",
    "              t, t_start=0, t_stop=T, t_rise=0.005, func=\"blackman\"\n",
    "          )\n",
    "      \n",
    "      return [HA, [H1, guess_control], [H2, guess_control]]\n",
    "def S(t):\n",
    "    \"\"\"Shape function for the field update\"\"\"\n",
    "    return krotov.shapes.flattop(\n",
    "        t, t_start=0, t_stop=T, t_rise=0.05 * T, t_fall=0.05 * T, func='sinsq'\n",
    "    )\n",
    "def plot_iterations(opt_result):\n",
    "    \"\"\"Plot the control fields in population dynamics over all iterations.\n",
    "\n",
    "    This depends on ``store_all_pulses=True`` in the call to\n",
    "    `optimize_pulses`.\n",
    "    \"\"\"\n",
    "\n",
    "    fig, [ax_ctr,ax] = plt.subplots(nrows=2, figsize=(4, 5))\n",
    "    n_iters = len(opt_result.iters)\n",
    "    EEnergy=np.zeros(nt)\n",
    "    for (iteration, pulses) in zip(opt_result.iters, opt_result.all_pulses):\n",
    "        controls = [\n",
    "            krotov.conversions.pulse_onto_tlist(pulse)\n",
    "            for pulse in pulses\n",
    "        ]\n",
    "        objectives = opt_result.objectives_with_controls(controls)\n",
    "        dynamics = objectives[0].mesolve(\n",
    "            opt_result.tlist, e_ops=[]\n",
    "        )\n",
    "        if iteration == 0:\n",
    "            ls = '--'  # dashed\n",
    "            alpha = 1  # full opacity\n",
    "            ctr_label = 'guess'\n",
    "            pop_labels = ['0 (guess)', '1 (guess)']\n",
    "        elif iteration == opt_result.iters[-1]:\n",
    "            ls = '-'  # solid\n",
    "            alpha = 1  # full opacity\n",
    "            ctr_label = 'optimized'\n",
    "            pop_labels = ['0 (optimized)', '1 (optimized)']\n",
    "        else:\n",
    "            ls = '-'  # solid\n",
    "            alpha = 0.5 * float(iteration) / float(n_iters)  # max 50%\n",
    "            ctr_label = None\n",
    "            pop_labels = [None, None]\n",
    "        ax_ctr.plot(\n",
    "            dynamics.times,\n",
    "            controls[0],\n",
    "            label=ctr_label,\n",
    "            color='black',\n",
    "            ls=ls,\n",
    "            alpha=alpha,\n",
    "        )\n",
    "    EField=np.transpose(np.array(opt_result.optimized_controls))\n",
    "    EEnergy[0]=(np.square(EField[0]))*(T/nt)\n",
    "    a=0\n",
    "    for i in range (1,nt):\n",
    "      a+=np.square(EField[i-1])\n",
    "      EEnergy[i]=(np.square(EField[i])+a)*(T/nt)\n",
    "      \n",
    "    \n",
    "    ax.plot(tlist,np.transpose(EEnergy))\n",
    "    plt.legend()\n",
    "    plt.show(fig)\n",
    "    \n",
    "    \n",
    "    \n",
    "\n",
    "\n",
    "\n",
    "H = hamiltonian(omega,ampl0,g,mu)\n",
    "pulse_options = {\n",
    "    H[1][1]: dict(lambda_a=10, update_shape=S), \n",
    "    \n",
    "    \n",
    "}\n",
    "r=1\n",
    "theta=np.pi\n",
    "objectives = [\n",
    "    krotov.Objective(\n",
    "        initial_state=qutip.Qobj(np.array([1,0,0,0,0,1/2,0,0,0,1/2,0,0,1/2,0,1/2])), target=qutip.Qobj(qutip.Qobj(np.array([1,0,0,0,0,1/2*np.cosh(2*r),-1/2*np.sinh(2*r)*np.cos(theta),0,-1/2*np.sinh(2*r)*np.sin(theta),1/2*np.cosh(2*r),-1/2*np.sinh(2*r)*np.sin(theta),0,1/2*np.cosh(2*r),1/2*np.sinh(2*r)*np.cos(theta),1/2*np.cosh(2*r)]))), H=H\n",
    "      )\n",
    "  ]\n",
    "\n",
    "opt_result = krotov.optimize_pulses(\n",
    "  objectives,\n",
    "  pulse_options=pulse_options,\n",
    "  tlist=tlist,\n",
    "  propagator=krotov.propagators.expm,\n",
    "  chi_constructor=krotov.functionals.chis_ss,\n",
    "  info_hook=krotov.info_hooks.print_table(J_T=krotov.functionals.J_T_ss),\n",
    "  check_convergence=krotov.convergence.Or(\n",
    "      krotov.convergence.value_below('5e-5', name='J_T'),\n",
    "      krotov.convergence.check_monotonic_error,\n",
    "\n",
    "  ),\n",
    "    store_all_pulses=True,\n",
    "    overlap=inte.overlap2,norm=\"gaussiano\"\n",
    ")\n",
    "plot_iterations(opt_result)\n",
    "\n",
    "\n"
   ]
  },
  {
   "cell_type": "code",
   "execution_count": 4,
   "metadata": {},
   "outputs": [
    {
     "name": "stdout",
     "output_type": "stream",
     "text": [
      "1\n",
      "0\n"
     ]
    }
   ],
   "source": [
    "tlist=[0,1,2]\n",
    "for time_index in range(len(tlist) - 2, -1, -1):\n",
    "    print(tlist[time_index])"
   ]
  },
  {
   "cell_type": "code",
   "execution_count": 11,
   "metadata": {},
   "outputs": [
    {
     "data": {
      "text/markdown": [
       "Integral in $\\alpha_{4}$  is divergent, integrand does not fulfill $Re(C_{44})<0$"
      ],
      "text/plain": [
       "<IPython.core.display.Markdown object>"
      ]
     },
     "metadata": {},
     "output_type": "display_data"
    },
    {
     "name": "stdout",
     "output_type": "stream",
     "text": [
      "None\n"
     ]
    },
    {
     "ename": "NameError",
     "evalue": "Divergencia en la integral 1",
     "output_type": "error",
     "traceback": [
      "\u001b[1;31m---------------------------------------------------------------------------\u001b[0m",
      "\u001b[1;31mNameError\u001b[0m                                 Traceback (most recent call last)",
      "\u001b[1;32m<ipython-input-11-d826d1bc635a>\u001b[0m in \u001b[0;36m<module>\u001b[1;34m\u001b[0m\n\u001b[0;32m     19\u001b[0m \u001b[0mvector1\u001b[0m\u001b[1;33m=\u001b[0m\u001b[0mqutip\u001b[0m\u001b[1;33m.\u001b[0m\u001b[0mQobj\u001b[0m\u001b[1;33m(\u001b[0m\u001b[0mqutip\u001b[0m\u001b[1;33m.\u001b[0m\u001b[0mQobj\u001b[0m\u001b[1;33m(\u001b[0m\u001b[0mnp\u001b[0m\u001b[1;33m.\u001b[0m\u001b[0marray\u001b[0m\u001b[1;33m(\u001b[0m\u001b[1;33m[\u001b[0m\u001b[1;36m1\u001b[0m\u001b[1;33m,\u001b[0m\u001b[1;36m0\u001b[0m\u001b[1;33m,\u001b[0m\u001b[1;36m0\u001b[0m\u001b[1;33m,\u001b[0m\u001b[1;36m0\u001b[0m\u001b[1;33m,\u001b[0m\u001b[1;36m0\u001b[0m\u001b[1;33m,\u001b[0m\u001b[1;36m1\u001b[0m\u001b[1;33m/\u001b[0m\u001b[1;36m2\u001b[0m\u001b[1;33m*\u001b[0m\u001b[0mnp\u001b[0m\u001b[1;33m.\u001b[0m\u001b[0mcosh\u001b[0m\u001b[1;33m(\u001b[0m\u001b[1;36m2\u001b[0m\u001b[1;33m*\u001b[0m\u001b[0mr\u001b[0m\u001b[1;33m)\u001b[0m\u001b[1;33m,\u001b[0m\u001b[1;33m-\u001b[0m\u001b[1;36m1\u001b[0m\u001b[1;33m/\u001b[0m\u001b[1;36m2\u001b[0m\u001b[1;33m*\u001b[0m\u001b[0mnp\u001b[0m\u001b[1;33m.\u001b[0m\u001b[0msinh\u001b[0m\u001b[1;33m(\u001b[0m\u001b[1;36m2\u001b[0m\u001b[1;33m*\u001b[0m\u001b[0mr\u001b[0m\u001b[1;33m)\u001b[0m\u001b[1;33m*\u001b[0m\u001b[0mnp\u001b[0m\u001b[1;33m.\u001b[0m\u001b[0mcos\u001b[0m\u001b[1;33m(\u001b[0m\u001b[0mtheta\u001b[0m\u001b[1;33m)\u001b[0m\u001b[1;33m,\u001b[0m\u001b[1;36m0\u001b[0m\u001b[1;33m,\u001b[0m\u001b[1;33m-\u001b[0m\u001b[1;36m1\u001b[0m\u001b[1;33m/\u001b[0m\u001b[1;36m2\u001b[0m\u001b[1;33m*\u001b[0m\u001b[0mnp\u001b[0m\u001b[1;33m.\u001b[0m\u001b[0msinh\u001b[0m\u001b[1;33m(\u001b[0m\u001b[1;36m2\u001b[0m\u001b[1;33m*\u001b[0m\u001b[0mr\u001b[0m\u001b[1;33m)\u001b[0m\u001b[1;33m*\u001b[0m\u001b[0mnp\u001b[0m\u001b[1;33m.\u001b[0m\u001b[0msin\u001b[0m\u001b[1;33m(\u001b[0m\u001b[0mtheta\u001b[0m\u001b[1;33m)\u001b[0m\u001b[1;33m,\u001b[0m\u001b[1;36m1\u001b[0m\u001b[1;33m/\u001b[0m\u001b[1;36m2\u001b[0m\u001b[1;33m*\u001b[0m\u001b[0mnp\u001b[0m\u001b[1;33m.\u001b[0m\u001b[0mcosh\u001b[0m\u001b[1;33m(\u001b[0m\u001b[1;36m2\u001b[0m\u001b[1;33m*\u001b[0m\u001b[0mr\u001b[0m\u001b[1;33m)\u001b[0m\u001b[1;33m,\u001b[0m\u001b[1;33m-\u001b[0m\u001b[1;36m1\u001b[0m\u001b[1;33m/\u001b[0m\u001b[1;36m2\u001b[0m\u001b[1;33m*\u001b[0m\u001b[0mnp\u001b[0m\u001b[1;33m.\u001b[0m\u001b[0msinh\u001b[0m\u001b[1;33m(\u001b[0m\u001b[1;36m2\u001b[0m\u001b[1;33m*\u001b[0m\u001b[0mr\u001b[0m\u001b[1;33m)\u001b[0m\u001b[1;33m*\u001b[0m\u001b[0mnp\u001b[0m\u001b[1;33m.\u001b[0m\u001b[0msin\u001b[0m\u001b[1;33m(\u001b[0m\u001b[0mtheta\u001b[0m\u001b[1;33m)\u001b[0m\u001b[1;33m,\u001b[0m\u001b[1;36m0\u001b[0m\u001b[1;33m,\u001b[0m\u001b[1;36m1\u001b[0m\u001b[1;33m/\u001b[0m\u001b[1;36m2\u001b[0m\u001b[1;33m*\u001b[0m\u001b[0mnp\u001b[0m\u001b[1;33m.\u001b[0m\u001b[0mcosh\u001b[0m\u001b[1;33m(\u001b[0m\u001b[1;36m2\u001b[0m\u001b[1;33m*\u001b[0m\u001b[0mr\u001b[0m\u001b[1;33m)\u001b[0m\u001b[1;33m,\u001b[0m\u001b[1;36m1\u001b[0m\u001b[1;33m/\u001b[0m\u001b[1;36m2\u001b[0m\u001b[1;33m*\u001b[0m\u001b[0mnp\u001b[0m\u001b[1;33m.\u001b[0m\u001b[0msinh\u001b[0m\u001b[1;33m(\u001b[0m\u001b[1;36m2\u001b[0m\u001b[1;33m*\u001b[0m\u001b[0mr\u001b[0m\u001b[1;33m)\u001b[0m\u001b[1;33m*\u001b[0m\u001b[0mnp\u001b[0m\u001b[1;33m.\u001b[0m\u001b[0mcos\u001b[0m\u001b[1;33m(\u001b[0m\u001b[0mtheta\u001b[0m\u001b[1;33m)\u001b[0m\u001b[1;33m,\u001b[0m\u001b[1;36m1\u001b[0m\u001b[1;33m/\u001b[0m\u001b[1;36m2\u001b[0m\u001b[1;33m*\u001b[0m\u001b[0mnp\u001b[0m\u001b[1;33m.\u001b[0m\u001b[0mcosh\u001b[0m\u001b[1;33m(\u001b[0m\u001b[1;36m2\u001b[0m\u001b[1;33m*\u001b[0m\u001b[0mr\u001b[0m\u001b[1;33m)\u001b[0m\u001b[1;33m]\u001b[0m\u001b[1;33m)\u001b[0m\u001b[1;33m)\u001b[0m\u001b[1;33m)\u001b[0m\u001b[1;33m\u001b[0m\u001b[1;33m\u001b[0m\u001b[0m\n\u001b[0;32m     20\u001b[0m \u001b[0minte\u001b[0m\u001b[1;33m.\u001b[0m\u001b[0moverlap2\u001b[0m\u001b[1;33m(\u001b[0m\u001b[0mvector1\u001b[0m\u001b[1;33m,\u001b[0m\u001b[0mvector2\u001b[0m\u001b[1;33m)\u001b[0m\u001b[1;33m\u001b[0m\u001b[1;33m\u001b[0m\u001b[0m\n\u001b[1;32m---> 21\u001b[1;33m \u001b[0minte\u001b[0m\u001b[1;33m.\u001b[0m\u001b[0moverlap2\u001b[0m\u001b[1;33m(\u001b[0m\u001b[1;33m-\u001b[0m\u001b[1;36m1j\u001b[0m\u001b[1;33m*\u001b[0m\u001b[0mqutip\u001b[0m\u001b[1;33m.\u001b[0m\u001b[0mQobj\u001b[0m\u001b[1;33m(\u001b[0m\u001b[0mHde\u001b[0m\u001b[1;33m(\u001b[0m\u001b[0mmu\u001b[0m\u001b[1;33m,\u001b[0m\u001b[0mg\u001b[0m\u001b[1;33m)\u001b[0m\u001b[1;33m)\u001b[0m\u001b[1;33m(\u001b[0m\u001b[0mvector2\u001b[0m\u001b[1;33m)\u001b[0m\u001b[1;33m,\u001b[0m\u001b[0md\u001b[0m\u001b[1;33m)\u001b[0m\u001b[1;33m\u001b[0m\u001b[1;33m\u001b[0m\u001b[0m\n\u001b[0m",
      "\u001b[1;32m~\\Desktop\\Github\\gerardo\\src\\krotov\\Integrals.py\u001b[0m in \u001b[0;36moverlap2\u001b[1;34m(vector1, vector2)\u001b[0m\n\u001b[0;32m   3028\u001b[0m     \u001b[0mB\u001b[0m\u001b[1;33m=\u001b[0m\u001b[1;33m[\u001b[0m\u001b[1;33m[\u001b[0m\u001b[0mvector2\u001b[0m\u001b[1;33m[\u001b[0m\u001b[1;36m5\u001b[0m\u001b[1;33m,\u001b[0m\u001b[1;36m0\u001b[0m\u001b[1;33m]\u001b[0m\u001b[1;33m,\u001b[0m\u001b[0mvector2\u001b[0m\u001b[1;33m[\u001b[0m\u001b[1;36m6\u001b[0m\u001b[1;33m,\u001b[0m\u001b[1;36m0\u001b[0m\u001b[1;33m]\u001b[0m\u001b[1;33m,\u001b[0m\u001b[0mvector2\u001b[0m\u001b[1;33m[\u001b[0m\u001b[1;36m7\u001b[0m\u001b[1;33m,\u001b[0m\u001b[1;36m0\u001b[0m\u001b[1;33m]\u001b[0m\u001b[1;33m,\u001b[0m\u001b[0mvector2\u001b[0m\u001b[1;33m[\u001b[0m\u001b[1;36m8\u001b[0m\u001b[1;33m,\u001b[0m\u001b[1;36m0\u001b[0m\u001b[1;33m]\u001b[0m\u001b[1;33m]\u001b[0m\u001b[1;33m,\u001b[0m\u001b[1;33m[\u001b[0m\u001b[0mvector2\u001b[0m\u001b[1;33m[\u001b[0m\u001b[1;36m6\u001b[0m\u001b[1;33m,\u001b[0m\u001b[1;36m0\u001b[0m\u001b[1;33m]\u001b[0m\u001b[1;33m,\u001b[0m\u001b[0mvector2\u001b[0m\u001b[1;33m[\u001b[0m\u001b[1;36m9\u001b[0m\u001b[1;33m,\u001b[0m\u001b[1;36m0\u001b[0m\u001b[1;33m]\u001b[0m\u001b[1;33m,\u001b[0m\u001b[0mvector2\u001b[0m\u001b[1;33m[\u001b[0m\u001b[1;36m10\u001b[0m\u001b[1;33m,\u001b[0m\u001b[1;36m0\u001b[0m\u001b[1;33m]\u001b[0m\u001b[1;33m,\u001b[0m\u001b[0mvector2\u001b[0m\u001b[1;33m[\u001b[0m\u001b[1;36m11\u001b[0m\u001b[1;33m,\u001b[0m\u001b[1;36m0\u001b[0m\u001b[1;33m]\u001b[0m\u001b[1;33m]\u001b[0m\u001b[1;33m,\u001b[0m\u001b[1;33m[\u001b[0m\u001b[0mvector2\u001b[0m\u001b[1;33m[\u001b[0m\u001b[1;36m7\u001b[0m\u001b[1;33m,\u001b[0m\u001b[1;36m0\u001b[0m\u001b[1;33m]\u001b[0m\u001b[1;33m,\u001b[0m\u001b[0mvector2\u001b[0m\u001b[1;33m[\u001b[0m\u001b[1;36m10\u001b[0m\u001b[1;33m,\u001b[0m\u001b[1;36m0\u001b[0m\u001b[1;33m]\u001b[0m\u001b[1;33m,\u001b[0m\u001b[0mvector2\u001b[0m\u001b[1;33m[\u001b[0m\u001b[1;36m12\u001b[0m\u001b[1;33m,\u001b[0m\u001b[1;36m0\u001b[0m\u001b[1;33m]\u001b[0m\u001b[1;33m,\u001b[0m\u001b[0mvector2\u001b[0m\u001b[1;33m[\u001b[0m\u001b[1;36m13\u001b[0m\u001b[1;33m,\u001b[0m\u001b[1;36m0\u001b[0m\u001b[1;33m]\u001b[0m\u001b[1;33m]\u001b[0m\u001b[1;33m,\u001b[0m\u001b[1;33m[\u001b[0m\u001b[0mvector2\u001b[0m\u001b[1;33m[\u001b[0m\u001b[1;36m8\u001b[0m\u001b[1;33m,\u001b[0m\u001b[1;36m0\u001b[0m\u001b[1;33m]\u001b[0m\u001b[1;33m,\u001b[0m\u001b[0mvector2\u001b[0m\u001b[1;33m[\u001b[0m\u001b[1;36m11\u001b[0m\u001b[1;33m,\u001b[0m\u001b[1;36m0\u001b[0m\u001b[1;33m]\u001b[0m\u001b[1;33m,\u001b[0m\u001b[0mvector2\u001b[0m\u001b[1;33m[\u001b[0m\u001b[1;36m13\u001b[0m\u001b[1;33m,\u001b[0m\u001b[1;36m0\u001b[0m\u001b[1;33m]\u001b[0m\u001b[1;33m,\u001b[0m\u001b[0mvector2\u001b[0m\u001b[1;33m[\u001b[0m\u001b[1;36m14\u001b[0m\u001b[1;33m,\u001b[0m\u001b[1;36m0\u001b[0m\u001b[1;33m]\u001b[0m\u001b[1;33m]\u001b[0m\u001b[1;33m]\u001b[0m\u001b[1;33m\u001b[0m\u001b[1;33m\u001b[0m\u001b[0m\n\u001b[0;32m   3029\u001b[0m     \u001b[0mS\u001b[0m\u001b[1;33m=\u001b[0m\u001b[1;33m[\u001b[0m\u001b[0mvector2\u001b[0m\u001b[1;33m[\u001b[0m\u001b[0mi\u001b[0m\u001b[1;33m,\u001b[0m\u001b[1;36m0\u001b[0m\u001b[1;33m]\u001b[0m \u001b[1;32mfor\u001b[0m \u001b[0mi\u001b[0m \u001b[1;32min\u001b[0m \u001b[0mrange\u001b[0m\u001b[1;33m(\u001b[0m\u001b[1;36m1\u001b[0m\u001b[1;33m,\u001b[0m\u001b[1;36m5\u001b[0m\u001b[1;33m)\u001b[0m\u001b[1;33m]\u001b[0m\u001b[1;33m\u001b[0m\u001b[1;33m\u001b[0m\u001b[0m\n\u001b[1;32m-> 3030\u001b[1;33m     \u001b[0mcondiciones\u001b[0m\u001b[1;33m(\u001b[0m\u001b[0mV\u001b[0m\u001b[1;33m,\u001b[0m\u001b[0mB\u001b[0m\u001b[1;33m,\u001b[0m\u001b[0mR\u001b[0m\u001b[1;33m,\u001b[0m\u001b[0mS\u001b[0m\u001b[1;33m)\u001b[0m\u001b[1;33m\u001b[0m\u001b[1;33m\u001b[0m\u001b[0m\n\u001b[0m\u001b[0;32m   3031\u001b[0m     \u001b[0ma\u001b[0m\u001b[1;33m=\u001b[0m\u001b[0ma1\u001b[0m\u001b[1;33m(\u001b[0m\u001b[0mV\u001b[0m\u001b[1;33m,\u001b[0m\u001b[0mB\u001b[0m\u001b[1;33m,\u001b[0m\u001b[0mR\u001b[0m\u001b[1;33m,\u001b[0m\u001b[0mS\u001b[0m\u001b[1;33m)\u001b[0m\u001b[1;33m\u001b[0m\u001b[1;33m\u001b[0m\u001b[0m\n\u001b[0;32m   3032\u001b[0m     \u001b[0mb\u001b[0m\u001b[1;33m=\u001b[0m\u001b[0ma2\u001b[0m\u001b[1;33m(\u001b[0m\u001b[0mV\u001b[0m\u001b[1;33m,\u001b[0m\u001b[0mB\u001b[0m\u001b[1;33m,\u001b[0m\u001b[0mR\u001b[0m\u001b[1;33m,\u001b[0m\u001b[0mS\u001b[0m\u001b[1;33m)\u001b[0m\u001b[1;33m\u001b[0m\u001b[1;33m\u001b[0m\u001b[0m\n",
      "\u001b[1;32m~\\Desktop\\Github\\gerardo\\src\\krotov\\Integrals.py\u001b[0m in \u001b[0;36mcondiciones\u001b[1;34m(V, B, R, S)\u001b[0m\n\u001b[0;32m   2992\u001b[0m         \u001b[0mprint\u001b[0m\u001b[1;33m(\u001b[0m\u001b[0mdisplay\u001b[0m\u001b[1;33m(\u001b[0m\u001b[0mMarkdown\u001b[0m\u001b[1;33m(\u001b[0m\u001b[1;34m'Integral in $\\\\alpha_{4}$  is divergent, integrand does not fulfill $Re(C_{44})<0$'\u001b[0m\u001b[1;33m)\u001b[0m\u001b[1;33m)\u001b[0m\u001b[1;33m)\u001b[0m\u001b[1;33m\u001b[0m\u001b[1;33m\u001b[0m\u001b[0m\n\u001b[0;32m   2993\u001b[0m         \u001b[1;31m#print(R,V,S,B)\u001b[0m\u001b[1;33m\u001b[0m\u001b[1;33m\u001b[0m\u001b[1;33m\u001b[0m\u001b[0m\n\u001b[1;32m-> 2994\u001b[1;33m         \u001b[1;32mraise\u001b[0m \u001b[0mNameError\u001b[0m\u001b[1;33m(\u001b[0m\u001b[1;34m\"Divergencia en la integral 1\"\u001b[0m\u001b[1;33m)\u001b[0m\u001b[1;33m\u001b[0m\u001b[1;33m\u001b[0m\u001b[0m\n\u001b[0m\u001b[0;32m   2995\u001b[0m \u001b[1;33m\u001b[0m\u001b[0m\n\u001b[0;32m   2996\u001b[0m \u001b[1;32mdef\u001b[0m \u001b[0mintegral\u001b[0m\u001b[1;33m(\u001b[0m\u001b[0mV\u001b[0m\u001b[1;33m,\u001b[0m\u001b[0mB\u001b[0m\u001b[1;33m,\u001b[0m\u001b[0mR\u001b[0m\u001b[1;33m,\u001b[0m\u001b[0mS\u001b[0m\u001b[1;33m)\u001b[0m\u001b[1;33m:\u001b[0m\u001b[1;33m\u001b[0m\u001b[1;33m\u001b[0m\u001b[0m\n",
      "\u001b[1;31mNameError\u001b[0m: Divergencia en la integral 1"
     ]
    }
   ],
   "source": [
    "d=qutip.Qobj(np.array([ 0.77353123-0.0005736j, \n",
    " 0.63644487-0.00047195j,\n",
    " -2.49157269+0.00184759j,\n",
    " -0.88336755+0.00065505j,\n",
    "  2.89134406-0.00214403j,\n",
    "  0.94520816-0.0007009j ,\n",
    " -0.22781918+0.00016894j,\n",
    "  0.        +0.j        ,\n",
    "  0.        +0.j        ,\n",
    "  1.07752041-0.00079902j,\n",
    "  0.        +0.j        ,\n",
    "  0.        +0.j        ,\n",
    "  1.62638264-0.00120602j,\n",
    "  2.11584956-0.00156897j,\n",
    "  1.30640262-0.00096874j]))\n",
    "r=1\n",
    "theta=np.pi\n",
    "vector2=qutip.Qobj(np.array([1,0,0,0,0,1/2,0,0,0,1/2,0,0,1/2,0,1/2]))\n",
    "vector1=qutip.Qobj(qutip.Qobj(np.array([1,0,0,0,0,1/2*np.cosh(2*r),-1/2*np.sinh(2*r)*np.cos(theta),0,-1/2*np.sinh(2*r)*np.sin(theta),1/2*np.cosh(2*r),-1/2*np.sinh(2*r)*np.sin(theta),0,1/2*np.cosh(2*r),1/2*np.sinh(2*r)*np.cos(theta),1/2*np.cosh(2*r)])))\n",
    "inte.overlap2(vector1,vector2)\n",
    "inte.overlap2(-1j*qutip.Qobj(Hde(mu,g))(vector2),d)"
   ]
  },
  {
   "cell_type": "code",
   "execution_count": 7,
   "metadata": {},
   "outputs": [
    {
     "data": {
      "text/plain": [
       "(0.5800256583859746+0j)"
      ]
     },
     "execution_count": 7,
     "metadata": {},
     "output_type": "execute_result"
    }
   ],
   "source": [
    "vector1=qutip.Qobj(np.array([1,0,0,0,0,1/2,0,0,0,1/2,0,0,1/2,0,1/2]))\n",
    "vector2=qutip.Qobj(np.array([1,0,0,0,0,1/2*np.cosh(2*r),-1/2*np.sinh(2*r)*np.cos(theta),0,-1/2*np.sinh(2*r)*np.sin(theta),1/2*np.cosh(2*r),-1/2*np.sinh(2*r)*np.sin(theta),0,1/2*np.cosh(2*r),1/2*np.sinh(2*r)*np.cos(theta),1/2*np.cosh(2*r)]))\n",
    "\n",
    "V=[[vector1[5,0],vector1[6,0],vector1[7,0],vector1[8,0]],[vector1[6,0],vector1[9,0],vector1[10,0],vector1[11,0]],[vector1[7,0],vector1[10,0],vector1[12,0],vector1[13,0]],[vector1[8,0],vector1[11,0],vector1[13,0],vector1[14,0]]]\n",
    "R=[vector1[i,0] for i in range(1,5)]\n",
    "B=[[vector2[5,0],vector2[6,0],vector2[7,0],vector2[8,0]],[vector2[6,0],vector2[9,0],vector2[10,0],vector2[11,0]],[vector2[7,0],vector2[10,0],vector2[12,0],vector2[13,0]],[vector2[8,0],vector2[11,0],vector2[13,0],vector2[14,0]]]\n",
    "S=[vector2[i,0] for i in range(1,5)]\n",
    "inte.coeffscuadraticos44(V,B)\n",
    "\n",
    "1-inte.fidelity(V,B,R,S)"
   ]
  },
  {
   "cell_type": "code",
   "execution_count": 4,
   "metadata": {},
   "outputs": [
    {
     "ename": "NameError",
     "evalue": "name 'storage' is not defined",
     "output_type": "error",
     "traceback": [
      "\u001b[1;31m---------------------------------------------------------------------------\u001b[0m",
      "\u001b[1;31mNameError\u001b[0m                                 Traceback (most recent call last)",
      "\u001b[1;32m<ipython-input-4-c84da121ffe5>\u001b[0m in \u001b[0;36m<module>\u001b[1;34m\u001b[0m\n\u001b[0;32m      1\u001b[0m \u001b[0mobjectives\u001b[0m\u001b[1;33m=\u001b[0m\u001b[1;33m[\u001b[0m\u001b[1;36m0\u001b[0m\u001b[1;33m,\u001b[0m\u001b[1;36m0\u001b[0m\u001b[1;33m]\u001b[0m\u001b[1;33m\u001b[0m\u001b[1;33m\u001b[0m\u001b[0m\n\u001b[0;32m      2\u001b[0m dummy = [\n\u001b[1;32m----> 3\u001b[1;33m                 \u001b[0mstorage\u001b[0m\u001b[1;33m(\u001b[0m\u001b[0mlen\u001b[0m\u001b[1;33m(\u001b[0m\u001b[0mtlist\u001b[0m\u001b[1;33m)\u001b[0m\u001b[1;33m)\u001b[0m \u001b[1;32mfor\u001b[0m \u001b[0m_\u001b[0m \u001b[1;32min\u001b[0m \u001b[0mrange\u001b[0m\u001b[1;33m(\u001b[0m\u001b[0mlen\u001b[0m\u001b[1;33m(\u001b[0m\u001b[0mobjectives\u001b[0m\u001b[1;33m)\u001b[0m\u001b[1;33m)\u001b[0m\u001b[1;33m\u001b[0m\u001b[1;33m\u001b[0m\u001b[0m\n\u001b[0m\u001b[0;32m      4\u001b[0m             ]\n",
      "\u001b[1;32m<ipython-input-4-c84da121ffe5>\u001b[0m in \u001b[0;36m<listcomp>\u001b[1;34m(.0)\u001b[0m\n\u001b[0;32m      1\u001b[0m \u001b[0mobjectives\u001b[0m\u001b[1;33m=\u001b[0m\u001b[1;33m[\u001b[0m\u001b[1;36m0\u001b[0m\u001b[1;33m,\u001b[0m\u001b[1;36m0\u001b[0m\u001b[1;33m]\u001b[0m\u001b[1;33m\u001b[0m\u001b[1;33m\u001b[0m\u001b[0m\n\u001b[0;32m      2\u001b[0m dummy = [\n\u001b[1;32m----> 3\u001b[1;33m                 \u001b[0mstorage\u001b[0m\u001b[1;33m(\u001b[0m\u001b[0mlen\u001b[0m\u001b[1;33m(\u001b[0m\u001b[0mtlist\u001b[0m\u001b[1;33m)\u001b[0m\u001b[1;33m)\u001b[0m \u001b[1;32mfor\u001b[0m \u001b[0m_\u001b[0m \u001b[1;32min\u001b[0m \u001b[0mrange\u001b[0m\u001b[1;33m(\u001b[0m\u001b[0mlen\u001b[0m\u001b[1;33m(\u001b[0m\u001b[0mobjectives\u001b[0m\u001b[1;33m)\u001b[0m\u001b[1;33m)\u001b[0m\u001b[1;33m\u001b[0m\u001b[1;33m\u001b[0m\u001b[0m\n\u001b[0m\u001b[0;32m      4\u001b[0m             ]\n",
      "\u001b[1;31mNameError\u001b[0m: name 'storage' is not defined"
     ]
    }
   ],
   "source": [
    "from \n",
    "objectives=[0,0]\n",
    "dummy = [\n",
    "                storage(len(tlist)) for _ in range(len(objectives))\n",
    "            ]"
   ]
  },
  {
   "cell_type": "markdown",
   "metadata": {},
   "source": [
    "Function to get the states and the real field at each t for the optimized field"
   ]
  },
  {
   "cell_type": "code",
   "execution_count": 7,
   "metadata": {},
   "outputs": [],
   "source": [
    "from scipy.integrate import simpson\n",
    "\n",
    "\n",
    "def field_discrete(lista,t,dt):\n",
    "    return lista[int(t/dt)]\n",
    "\n",
    "def states(psi0):\n",
    "    HA =-1j* qutip.Qobj(H0(g))\n",
    "    H1 =-1j*qutip.Qobj(Hde(mu,g))\n",
    "    H2= -1j*qutip.Qobj(He(mu,g))\n",
    "    states=np.zeros((len(opt_result.tlist),15),dtype=complex)\n",
    "    integral=np.zeros(nt)\n",
    "\n",
    "    for time_index in range(len(opt_result.tlist)):\n",
    "        if time_index==0:\n",
    "            integral[time_index]=0\n",
    "        else:    \n",
    "            integral[time_index]=simpson(np.array(opt_result.optimized_controls[0])[:time_index], np.array(opt_result.tlist)[:time_index])\n",
    "    \n",
    "    dt=opt_result.tlist[1]-opt_result.tlist[0]\n",
    "    for i in range (0,len(opt_result.tlist)):\n",
    "        A=HA+H1*field_discrete(opt_result.optimized_controls[0],opt_result.tlist[i],dt)+H2*field_discrete(integral,opt_result.tlist[i],dt)\n",
    "        if i==1:\n",
    "            states[i,:]=(((-1j*A * dt).expm())(psi0)).trans()\n",
    "        elif i==0:\n",
    "            states[i,:]=psi0.trans()\n",
    "        else:\n",
    "            states[i][:]=((-1j*A * dt).expm())(qutip.Qobj(states[i-1][:])).trans()\n",
    "\n",
    "    return states,integral"
   ]
  },
  {
   "cell_type": "code",
   "execution_count": 8,
   "metadata": {},
   "outputs": [
    {
     "data": {
      "text/plain": [
       "array([ 1.00000000e+00+0.j, -5.08437596e-02+0.j,  1.05009618e-02+0.j,\n",
       "        2.06264170e-03+0.j, -8.65965462e-05+0.j,  7.23458547e-01+0.j,\n",
       "       -1.69730791e-01+0.j, -6.47360041e-04+0.j,  1.43287642e-04+0.j,\n",
       "        4.67337384e-01+0.j,  2.73304304e-04+0.j, -7.25188031e-05+0.j,\n",
       "        6.22829848e-01+0.j, -1.03841366e-01+0.j,  4.18706698e-01+0.j])"
      ]
     },
     "execution_count": 8,
     "metadata": {},
     "output_type": "execute_result"
    }
   ],
   "source": [
    "psi0=qutip.Qobj(np.array([1,0,0,0,0,1/2,0,0,0,1/2,0,0,1/2,0,1/2]))\n",
    "psi,field=states(psi0)\n",
    "psi[nt-1]"
   ]
  },
  {
   "cell_type": "code",
   "execution_count": 9,
   "metadata": {},
   "outputs": [
    {
     "name": "stdout",
     "output_type": "stream",
     "text": [
      "[[0.+0.j]]\n",
      "[[-0.00015476+0.j]]\n",
      "[[-4.40384914e-05+0.j]]\n",
      "[[-0.00040208+0.j]]\n",
      "[[2.01958144e-05+0.j]]\n",
      "[[0.00140911+0.j]]\n",
      "[[0.00267039+0.j]]\n",
      "[[2.5017138e-05+0.j]]\n",
      "[[-1.33946355e-05+0.j]]\n",
      "[[-0.00225625+0.j]]\n",
      "[[-1.82048127e-05+0.j]]\n",
      "[[7.82647404e-06+0.j]]\n",
      "[[0.+0.j]]\n",
      "[[0.+0.j]]\n",
      "[[0.+0.j]]\n"
     ]
    }
   ],
   "source": [
    "for i in range(0,15):\n",
    "    print(opt_result.states[0][i]-psi[nt-1][i])"
   ]
  },
  {
   "cell_type": "code",
   "execution_count": 10,
   "metadata": {
    "scrolled": true
   },
   "outputs": [
    {
     "data": {
      "text/plain": [
       "[<matplotlib.lines.Line2D at 0x1934d4b3220>]"
      ]
     },
     "execution_count": 10,
     "metadata": {},
     "output_type": "execute_result"
    },
    {
     "data": {
      "image/png": "[encoded data removed]",
      "text/plain": [
       "<Figure size 432x288 with 1 Axes>"
      ]
     },
     "metadata": {
      "needs_background": "light"
     },
     "output_type": "display_data"
    }
   ],
   "source": [
    "plt.plot(tlist,field)"
   ]
  },
  {
   "cell_type": "code",
   "execution_count": 11,
   "metadata": {},
   "outputs": [
    {
     "ename": "AttributeError",
     "evalue": "'Objective' object has no attribute 'essolve'",
     "output_type": "error",
     "traceback": [
      "\u001b[1;31m---------------------------------------------------------------------------\u001b[0m",
      "\u001b[1;31mAttributeError\u001b[0m                            Traceback (most recent call last)",
      "\u001b[1;32m~\\AppData\\Local\\Temp/ipykernel_2984/4269890401.py\u001b[0m in \u001b[0;36m<module>\u001b[1;34m\u001b[0m\n\u001b[1;32m----> 1\u001b[1;33m optimized_dynamics = opt_result.optimized_objectives[0].essolve(\n\u001b[0m\u001b[0;32m      2\u001b[0m       \u001b[0mtlist\u001b[0m\u001b[1;33m,\u001b[0m \u001b[0me_ops\u001b[0m\u001b[1;33m=\u001b[0m\u001b[1;33m[\u001b[0m\u001b[1;33m]\u001b[0m\u001b[1;33m\u001b[0m\u001b[1;33m\u001b[0m\u001b[0m\n\u001b[0;32m      3\u001b[0m   )\n\u001b[0;32m      4\u001b[0m \u001b[0moptimized_dynamics\u001b[0m\u001b[1;33m.\u001b[0m\u001b[0mstates\u001b[0m\u001b[1;33m[\u001b[0m\u001b[1;36m0\u001b[0m\u001b[1;33m]\u001b[0m\u001b[1;33m\u001b[0m\u001b[1;33m\u001b[0m\u001b[0m\n",
      "\u001b[1;31mAttributeError\u001b[0m: 'Objective' object has no attribute 'essolve'"
     ]
    }
   ],
   "source": [
    "optimized_dynamics = opt_result.optimized_objectives[0].essolve(\n",
    "      tlist, e_ops=[]\n",
    "  )\n",
    "optimized_dynamics.states[0]"
   ]
  },
  {
   "cell_type": "code",
   "execution_count": null,
   "metadata": {},
   "outputs": [],
   "source": [
    "opt_result.optimized_controls"
   ]
  },
  {
   "cell_type": "code",
   "execution_count": null,
   "metadata": {},
   "outputs": [],
   "source": [
    "from scipy.integrate import simpson\n",
    "integral=np.zeros(nt)\n",
    "\n",
    "for time_index in range(len(opt_result.tlist) - 1):\n",
    "    if time_index==0:\n",
    "        integral[time_index]=0\n",
    "    else:    \n",
    "        integral[time_index]=simpson(np.array(opt_result.optimized_controls[0])[:time_index], np.array(opt_result.tlist)[:time_index])"
   ]
  },
  {
   "cell_type": "code",
   "execution_count": null,
   "metadata": {},
   "outputs": [],
   "source": [
    "def field_discrete2(t,args):\n",
    "    return integral[int(t/dt)]\n",
    "\n",
    "def field_discrete(t,args):\n",
    "    return opt_result.optimized_controls[0][int(t/dt)]\n",
    "T=4\n",
    "nt=20\n",
    "dt=opt_result.tlist[1]-opt_result.tlist[0]\n",
    "HA =-1j* qutip.Qobj(H0(0.2))\n",
    "H1 =-1j*qutip.Qobj(Hde(0.05,0.2))\n",
    "H2= -1j*qutip.Qobj(He(0.05,0.2))\n",
    "H=[HA,[H1,field_discrete],[H2,field_discrete2]]\n",
    "psi0=qutip.Qobj(np.array([1,0,0,0,0,1/2,0,0,0,1/2,0,0,1/2,0,1/2]))\n"
   ]
  },
  {
   "cell_type": "code",
   "execution_count": null,
   "metadata": {},
   "outputs": [],
   "source": [
    "output = qutip.mesolve(H, psi0, opt_result.tlist)"
   ]
  },
  {
   "cell_type": "code",
   "execution_count": null,
   "metadata": {},
   "outputs": [],
   "source": [
    "print((((-1j*H * dt).expm())(psi0)).trans())"
   ]
  },
  {
   "cell_type": "code",
   "execution_count": null,
   "metadata": {},
   "outputs": [],
   "source": [
    "output.states[0]"
   ]
  },
  {
   "cell_type": "code",
   "execution_count": null,
   "metadata": {},
   "outputs": [],
   "source": [
    "psi0"
   ]
  },
  {
   "cell_type": "code",
   "execution_count": null,
   "metadata": {},
   "outputs": [],
   "source": [
    "from src.krotov.second_order import _overlap"
   ]
  },
  {
   "cell_type": "code",
   "execution_count": null,
   "metadata": {
    "id": "o7DorqGSiKJc"
   },
   "outputs": [],
   "source": [
    "def plot_pulse(pulse, tlist):\n",
    "    fig, ax = plt.subplots()\n",
    "    if callable(pulse):\n",
    "        pulse = np.array([pulse(t, args=None) for t in tlist])\n",
    "    ax.plot(tlist, pulse)\n",
    "    ax.set_xlabel('Time')\n",
    "    ax.set_ylabel('Pulse Amplitude')\n",
    "    plt.show(fig)"
   ]
  },
  {
   "cell_type": "code",
   "execution_count": null,
   "metadata": {
    "colab": {
     "base_uri": "https://localhost:8080/",
     "height": 279
    },
    "id": "OCXCQCQpZtkB",
    "outputId": "67b210d4-cc9f-401e-9cab-06874ad40d4d"
   },
   "outputs": [],
   "source": [
    "plot_pulse(opt_result.optimized_controls[0], tlist)"
   ]
  },
  {
   "cell_type": "code",
   "execution_count": null,
   "metadata": {
    "colab": {
     "base_uri": "https://localhost:8080/",
     "height": 279
    },
    "id": "PA9s9rbQRDpE",
    "outputId": "031f7745-d0cc-4381-af35-94678c953fb3"
   },
   "outputs": [],
   "source": [
    "plot_pulse(opt_result.optimized_controls[0], tlist)"
   ]
  },
  {
   "cell_type": "code",
   "execution_count": null,
   "metadata": {
    "colab": {
     "base_uri": "https://localhost:8080/",
     "height": 283
    },
    "id": "ZsMwquwf4Lpk",
    "outputId": "50ec167d-cff1-48b6-b87b-300671bbeb66"
   },
   "outputs": [],
   "source": [
    "Energy=np.zeros(nt)\n",
    "optimized_dynamics = opt_result.optimized_objectives[0].mesolve(\n",
    "      tlist, e_ops=[]\n",
    "  )\n",
    "for i in range(0,nt):\n",
    "  H = hamiltonian(omega,ampl0,g)[0]+hamiltonian(omega,ampl0,g)[1][0]*opt_result.optimized_controls[0][i]\n",
    "  rho=optimized_dynamics.states[i]*optimized_dynamics.states[i].dag()\n",
    "  Energy[i]=np.real(np.matrix.trace(np.array(rho*H)))\n",
    "\n",
    "plt.plot(tlist,Energy)\n",
    "plt.xlabel(\"time\")\n",
    "plt.ylabel(\"Energy\")\n",
    "plt.show()"
   ]
  },
  {
   "cell_type": "code",
   "execution_count": null,
   "metadata": {
    "colab": {
     "base_uri": "https://localhost:8080/",
     "height": 312
    },
    "id": "1O2canlRD1fS",
    "outputId": "25282a25-2caa-4891-c519-41ff6eebd24c"
   },
   "outputs": [],
   "source": [
    "optimized_dynamics = opt_result.optimized_objectives[0].mesolve(\n",
    "      tlist, e_ops=[]\n",
    "  )\n",
    "\n",
    "figen, ent = plt.subplots()\n",
    "Negativity=np.zeros(nt)\n",
    "\n",
    "for i in range(0,nt):\n",
    "  PartialTranspose=qutip.partial_transpose(optimized_dynamics.states[i]*optimized_dynamics.states[i].dag(),[1,0])\n",
    "  P=np.real(np.trace(np.sqrt(np.array(PartialTranspose.dag()*PartialTranspose))))\n",
    "  Negativity[i]=(P-1)/2\n",
    "\n",
    "ent.plot(tlist,Negativity)\n",
    "ent.set_xlabel(\"Time\")\n",
    "ent.set_ylabel(\"Negativity\")\n",
    "ent.set_title(\"Entanglement between charger and battery\")\n",
    "plt.show(figen)\n",
    "print(\"Negativity at final time T: \", Negativity[nt-1])\n"
   ]
  },
  {
   "cell_type": "code",
   "execution_count": null,
   "metadata": {
    "id": "UYAhIXOEtcKP"
   },
   "outputs": [],
   "source": [
    "def trace_A(rho):\n",
    "    \"\"\"Partial trace over the A degrees of freedom\"\"\"\n",
    "    rho_q = np.zeros(shape=(2, 2), dtype=np.complex_)\n",
    "    rho_q[0, 0] = rho[0, 0] + rho[2, 2]\n",
    "    rho_q[0, 1] = rho[0, 1] + rho[2, 3]\n",
    "    rho_q[1, 0] = rho[1, 0] + rho[3, 2]\n",
    "    rho_q[1, 1] = rho[1, 1] + rho[3, 3]\n",
    "    return qutip.Qobj(rho_q)"
   ]
  },
  {
   "cell_type": "code",
   "execution_count": null,
   "metadata": {
    "colab": {
     "base_uri": "https://localhost:8080/",
     "height": 901
    },
    "id": "AdsnHFfGrf4P",
    "outputId": "fc0da6c8-c2f2-4cf3-bac2-c9f884b663b4"
   },
   "outputs": [],
   "source": [
    "from numpy import linalg as npla\n",
    "\n",
    "def eigenvalues(A):\n",
    "    eigenValues, eigenVectors = npla.eig(A)\n",
    "    idx = np.argsort(eigenValues)\n",
    "    eigenValues = eigenValues[idx]\n",
    "    eigenVectors = eigenVectors[:,idx]\n",
    "    return (eigenValues)\n",
    "\n",
    "optimized_dynamics = opt_result.optimized_objectives[0].mesolve(\n",
    "      tlist, e_ops=[]\n",
    "  )\n",
    "Ergotropy=np.zeros(nt)\n",
    "Energy=np.zeros(nt)\n",
    "matrix=np.zeros(nt)\n",
    "\n",
    "b = qutip.Bloch()\n",
    "\n",
    "for i in range(0,nt):\n",
    "  FinalRho=trace_A(np.array(optimized_dynamics.states[i]*optimized_dynamics.states[i].dag()))\n",
    "  matrix[i]=np.real(FinalRho[0,0])\n",
    "  point1=[2*np.real(FinalRho[0,1]), -2*np.imag(FinalRho[0,1]), FinalRho[0,0] -FinalRho[1,1]]\n",
    "  b.add_points(point1)\n",
    "  Rho_f=eigenvalues(FinalRho)[1]*np.array([[1, 0], [0, 0]])+eigenvalues(FinalRho)[0]*np.array([[0, 0], [0, 1]])\n",
    "  Energy[i]=np.real(np.matrix.trace(omega*np.dot(np.array([[0, 0], [0, 1]]),FinalRho)))\n",
    "  Ergotropy[i]=-np.real(np.matrix.trace(omega*np.dot(np.array([[0, 0], [0, 1]]),(Rho_f-FinalRho))))\n",
    " \n",
    "\n",
    "\n",
    "plt.plot(tlist,Energy,label='Energy')\n",
    "plt.plot(tlist,Ergotropy,label='Ergotropy')\n",
    "plt.xlabel(\"time\")\n",
    "plt.ylabel(\"Energy, Ergotropy\")\n",
    "plt.legend() \n",
    "plt.figure()\n",
    "plt.plot(tlist,matrix,label=\"0\")\n",
    "plt.plot(tlist,Energy,label=\"1\")\n",
    "plt.legend() \n",
    "plt.show()\n",
    "b.render()"
   ]
  },
  {
   "cell_type": "code",
   "execution_count": null,
   "metadata": {
    "colab": {
     "base_uri": "https://localhost:8080/"
    },
    "id": "wbaTK2NcC3Wm",
    "outputId": "2c0e1eeb-176d-4153-c125-5a47429c1fba"
   },
   "outputs": [],
   "source": [
    "optimized_dynamics = opt_result.optimized_objectives[0].mesolve(\n",
    "      tlist, e_ops=[]\n",
    "  )\n",
    "\n",
    "\n",
    "HA =  omega * qutip.tensor(0.5*(-qutip.operators.sigmaz()),qutip.qeye(2))\n",
    "HB =  omega* qutip.tensor(qutip.qeye(2),0.5*(-qutip.operators.sigmaz()))\n",
    "HAB = g*(qutip.tensor(qutip.destroy(2),qutip.create(2))+qutip.tensor(qutip.create(2),qutip.destroy(2)))\n",
    "H0 = HA+HB+HAB\n",
    "H=np.array(H0)\n",
    "print(H)\n",
    "Uncert=np.dot(np.dot(np.array(optimized_dynamics.states[0].dag()),H**2),np.array(optimized_dynamics.states[0]))-(np.dot(np.dot(np.array(optimized_dynamics.states[0].dag()),H),np.array(optimized_dynamics.states[0])))**2\n",
    "F=np.dot(np.array(optimized_dynamics.states[0].dag()),np.array(optimized_dynamics.states[nt-1]))\n",
    "print(Uncert)\n",
    "TQSL=1/Uncert*np.arccos(np.abs(F))\n",
    "print(TQSL)\n",
    "\n",
    "print(T-TQSL)"
   ]
  },
  {
   "cell_type": "code",
   "execution_count": null,
   "metadata": {
    "colab": {
     "base_uri": "https://localhost:8080/"
    },
    "id": "sPu0FyhPOhyM",
    "outputId": "af2113fd-9653-4b78-f958-62b99848fa88"
   },
   "outputs": [],
   "source": [
    "optimized_dynamics = opt_result.optimized_objectives[0].mesolve(\n",
    "      tlist, e_ops=[]\n",
    "  )\n",
    "\n",
    "Q=0\n",
    "Q2=0\n",
    "HA =  omega * qutip.tensor(0.5*(-qutip.operators.sigmaz()+qutip.qeye(2)),qutip.qeye(2))\n",
    "HB =  omega* qutip.tensor(qutip.qeye(2),0.5*(-qutip.operators.sigmaz()+qutip.qeye(2)))\n",
    "HAB = g*(qutip.tensor(qutip.destroy(2),qutip.create(2))+qutip.tensor(qutip.create(2),qutip.destroy(2)))\n",
    "H0 = HA+HB+HAB\n",
    "\n",
    "for i in range (0,nt):\n",
    "  H1 = -qutip.tensor(0.5*qutip.operators.sigmax(),qutip.qeye(2))*opt_result.optimized_controls[0][i]\n",
    "  H=H0+H1\n",
    "  L=qutip.liouvillian(H)\n",
    "  rho=optimized_dynamics.states[i]*optimized_dynamics.states[i].dag()\n",
    "  ket=optimized_dynamics.states[i]\n",
    "  Q += 1/(nt-1)*np.sqrt((2*np.trace(np.array(rho**2*H**2-(rho*H)**2)))/((np.trace(np.array(rho*rho-(qutip.tensor(qutip.qeye(2),qutip.qeye(2)))/16)))))\n",
    "  Q2 += 1/(nt-1)*np.sqrt(np.trace(np.array(L(rho).dag()*L(rho))))\n",
    "\n",
    "rho0=optimized_dynamics.states[0]*optimized_dynamics.states[0].dag()\n",
    "rhoi=np.array(rho0)\n",
    "vrho0=[2*np.real(rhoi[0][1]),-2*np.imag(rhoi[0][1]),np.real(rhoi[0][0]-rhoi[1][1])]\n",
    "rhof=optimized_dynamics.states[nt-1]*optimized_dynamics.states[nt-1].dag()\n",
    "rhof=np.array(rhof)\n",
    "vrhof=[2*np.real(rhof[0][1]),-2*np.imag(rhof[0][1]),np.real(rhof[0][0]-rhof[1][1])]\n",
    "#Phi=np.arccos(np.sqrt((np.array(np.trace(rho0*rhof)))/(np.trace(np.array(rho0*rho0)))))\n",
    "Phi=np.arccos(np.dot(vrho0,vrhof))\n",
    "#Fid=np.sqrt(np.trace(np.array((rho0-rhof)**2)))\n",
    "Tf=Phi/Q \n",
    "#Tf2=Fid/Q2\n",
    "print(T)\n",
    "print(Tf)\n",
    "print(T-Tf)\n"
   ]
  },
  {
   "cell_type": "code",
   "execution_count": null,
   "metadata": {
    "colab": {
     "base_uri": "https://localhost:8080/"
    },
    "id": "aH4JPVn1I2LR",
    "outputId": "44b5cf76-2482-4d2e-d268-7e59bda9c84c"
   },
   "outputs": [],
   "source": [
    "print(rho)\n",
    "print(qutip.qeye(4))"
   ]
  },
  {
   "cell_type": "code",
   "execution_count": null,
   "metadata": {
    "colab": {
     "base_uri": "https://localhost:8080/"
    },
    "id": "hKMv7WivVni3",
    "outputId": "2c5236c9-5f61-4db8-d333-00ea388a6661"
   },
   "outputs": [],
   "source": [
    "    \"\"\"Two-level-system Hamiltonian\n",
    "\n",
    "      Args:\n",
    "          omega (float): energy separation of the qubit levels\n",
    "          ampl0 (float): constant amplitude of the driving field\n",
    "      \"\"\"\n",
    "optimized_dynamics = opt_result.optimized_objectives[0].mesolve(\n",
    "      tlist, e_ops=[]\n",
    "  )\n",
    "\n",
    "L0 = qutip.liouvillian(H=H0)\n",
    "rhof=optimized_dynamics.states[nt-1]*optimized_dynamics.states[nt-1].dag()\n",
    "rhoi=optimized_dynamics.states[0]*optimized_dynamics.states[0].dag()\n",
    "rhodif= np.array(rhoi-rhof)\n",
    "fid= np.sqrt(np.trace(np.dot(rhodif,rhodif)))\n",
    "integral=0\n",
    "for i in range(0,nt):\n",
    "  H1 = -qutip.tensor(0.5*qutip.operators.sigmax(),qutip.qeye(2))*opt_result.optimized_controls[0][i]\n",
    "  L1 = qutip.liouvillian(H=H1)\n",
    "  L = L0 + L1\n",
    "  rhot= L(optimized_dynamics.states[i]*optimized_dynamics.states[i].dag())\n",
    "  integral += (1/(nt-1))*np.sqrt(np.trace(np.array(rhot.dag()*rhot)))\n",
    "\n",
    "\n",
    "print(\"T = \", T)\n",
    "print(\"T_QSL = \", np.real(fid/integral))\n",
    "print(\"T - T_QSL = \", T-np.real(fid/integral))"
   ]
  },
  {
   "cell_type": "code",
   "execution_count": null,
   "metadata": {
    "colab": {
     "base_uri": "https://localhost:8080/"
    },
    "id": "mO0EgilbR7hG",
    "outputId": "89c5ee82-3de0-47c2-ef58-51a067ca84a2"
   },
   "outputs": [],
   "source": [
    "for i in range (0,nt):\n",
    "  rho=np.array(optimized_dynamics.states[i]*optimized_dynamics.states[i].dag())\n",
    "  print(rho[0][1])"
   ]
  },
  {
   "cell_type": "code",
   "execution_count": null,
   "metadata": {
    "id": "dcHGI8WNSCkV"
   },
   "outputs": [],
   "source": [
    "from abc import ABC, abstractmethod\n",
    "\n",
    "import numpy as np\n",
    "import qutip\n",
    "import scipy\n",
    "from qutip.cy.spconvert import dense2D_to_fastcsr_fmode\n",
    "from qutip.cy.spmatfuncs import spmvpy_csr\n",
    "from qutip.superoperator import mat2vec, vec2mat\n",
    "\n",
    "\n",
    "__all__ = ['expm', 'Propagator', 'DensityMatrixODEPropagator']\n",
    "\n",
    "\n",
    "def expm(H, state, dt, c_ops=None, backwards=False, initialize=False):\n",
    "    \"\"\"Propagate using matrix exponentiation\n",
    "\n",
    "    This supports `H` being a Hamiltonian (for a Hilbert space `state`) or a\n",
    "    Liouvillian (for `state` being a density matrix) in nested-list format.\n",
    "    Collapse operators `c_ops` are not supported. The propagator is not\n",
    "    stateful, thus `initialize` is ignored.\n",
    "    \"\"\"\n",
    "    if c_ops is None:\n",
    "        c_ops = []\n",
    "    if len(c_ops) > 0:\n",
    "        raise NotImplementedError(\"Liouville exponentiation not implemented\")\n",
    "    assert isinstance(H, list) and len(H) > 0\n",
    "    eqm_factor = -1j  # factor in front of H on rhs of the equation of motion\n",
    "    if isinstance(H[0], list):\n",
    "        if H[0][1].type == 'super':\n",
    "            eqm_factor = 1\n",
    "        if backwards:\n",
    "            eqm_factor = eqm_factor.conjugate()\n",
    "        A = (eqm_factor * H[0][1]) * H[0][0]\n",
    "    else:\n",
    "        if H[0].type == 'super':\n",
    "            eqm_factor = 1\n",
    "        if backwards:\n",
    "            eqm_factor = eqm_factor.conjugate()\n",
    "        A = eqm_factor * H[0]\n",
    "    for part in H[1:]:\n",
    "        if isinstance(part, list):\n",
    "            A += (eqm_factor * part[1]) * part[0]\n",
    "        else:\n",
    "            A += eqm_factor * part\n",
    "    ok_types = (state.type == 'oper' and A.type == 'super') or (\n",
    "        state.type in ['ket', 'bra'] and A.type == 'oper'\n",
    "    )\n",
    "    if ok_types:\n",
    "        return ((A * dt).expm())(state)\n",
    "    else:\n",
    "        raise NotImplementedError(\n",
    "            \"Cannot handle argument types A:%s, state:%s\"\n",
    "            % (A.type, state.type)\n",
    "        )\n",
    "\n",
    "omega=1\n",
    "g=0.2*omega\n",
    "ampl0=0.0000001+0j\n",
    "#T=8\n",
    "#ampl0=1\n",
    "T=np.pi/g\n",
    "nt=1000\n",
    "tlist = np.linspace(0,T, nt)\n",
    "def hamiltonian(omega, ampl0, g):\n",
    "      \"\"\"Two-level-system Hamiltonian\n",
    "\n",
    "      Args:\n",
    "          omega (float): energy separation of the qubit levels\n",
    "          ampl0 (float): constant amplitude of the driving field\n",
    "      \"\"\"\n",
    "      HA =  omega * qutip.tensor(0.5*(-qutip.operators.sigmaz()),qutip.qeye(2))\n",
    "      HB =  omega* qutip.tensor(qutip.qeye(2),0.5*(-qutip.operators.sigmaz()))\n",
    "      HAB = g*(qutip.tensor(qutip.destroy(2),qutip.create(2))+qutip.tensor(qutip.create(2),qutip.destroy(2)))\n",
    "      H0 = HA+HB+HAB\n",
    "      H1 = -qutip.tensor(0.5*qutip.operators.sigmax(),qutip.qeye(2))\n",
    "\n",
    "      def guess_control(t, args):\n",
    "          return ampl0 *krotov.shapes.flattop(\n",
    "              t, t_start=0, t_stop=T, t_rise=0.005, func=\"blackman\"\n",
    "          )\n",
    "\n",
    "      return [H0, [H1, 5]]\n"
   ]
  },
  {
   "cell_type": "code",
   "execution_count": null,
   "metadata": {
    "id": "_tA2511TJPHO"
   },
   "outputs": [],
   "source": [
    "expm(hamiltonian(omega,ampl0,g), qutip.tensor(qutip.ket(\"0\"),qutip.ket(\"0\")), T/(nt-1), c_ops=None, backwards=False, initialize=False)"
   ]
  },
  {
   "cell_type": "code",
   "execution_count": null,
   "metadata": {
    "id": "k1lGd3VhJdjn"
   },
   "outputs": [],
   "source": [
    "hamiltonian(omega,ampl0,g)[0]"
   ]
  },
  {
   "cell_type": "code",
   "execution_count": null,
   "metadata": {
    "id": "pIZl968bKQSt"
   },
   "outputs": [],
   "source": [
    "print(qutip.Qobj(np.eye(4)))"
   ]
  },
  {
   "cell_type": "code",
   "execution_count": null,
   "metadata": {
    "id": "Itl4eeZzLH0u"
   },
   "outputs": [],
   "source": [
    "hamiltonian(2,5,2)"
   ]
  },
  {
   "cell_type": "code",
   "execution_count": null,
   "metadata": {},
   "outputs": [],
   "source": [
    "qutip.Qobj(np.array([0]+[5]*2))"
   ]
  },
  {
   "cell_type": "code",
   "execution_count": null,
   "metadata": {},
   "outputs": [],
   "source": [
    "[0]*5 <2"
   ]
  },
  {
   "cell_type": "code",
   "execution_count": null,
   "metadata": {},
   "outputs": [],
   "source": [
    "qutip.Qobj(np.array([1]*15))[3,0]"
   ]
  },
  {
   "cell_type": "code",
   "execution_count": null,
   "metadata": {},
   "outputs": [],
   "source": [
    "F=qutip.Qobj(np.array([ 1.-1.56765159e-06j,-1.41421356+2.21699413e-06, 0.+0.00000000e+00j, 0.+0.00000000e+00j, 0.+0.00000000e+00j,-0.5+7.83825799e-07j,\n",
    " 0.+0.00000000e+00j,0.+0.00000000e+00j,0.+0.00000000e+00j,-0.5+7.83825794e-07j,0.+0.00000000e+00j,0.+0.00000000e+00j,0.5-7.83825766e-07j,0.+0.00000000e+00j,\n",
    " 0.5-7.83825801e-07j]))"
   ]
  },
  {
   "cell_type": "code",
   "execution_count": null,
   "metadata": {},
   "outputs": [],
   "source": [
    "F"
   ]
  },
  {
   "cell_type": "code",
   "execution_count": null,
   "metadata": {},
   "outputs": [],
   "source": [
    "W=qutip.Qobj(np.array([1,np.sqrt(2),0,0,0,1/2,0,0,0,1/2,0,0,1/2,0,1/2]))"
   ]
  },
  {
   "cell_type": "code",
   "execution_count": null,
   "metadata": {},
   "outputs": [],
   "source": [
    "inte.overlap2(F,W)"
   ]
  },
  {
   "cell_type": "code",
   "execution_count": null,
   "metadata": {},
   "outputs": [],
   "source": [
    "start=0\n",
    "step=0.5\n",
    "num=5\n",
    "\n",
    "result=np.arange(0,num)*step+start\n",
    "\n",
    "result"
   ]
  },
  {
   "cell_type": "code",
   "execution_count": null,
   "metadata": {},
   "outputs": [],
   "source": []
  },
  {
   "cell_type": "code",
   "execution_count": null,
   "metadata": {},
   "outputs": [],
   "source": [
    "suma=0\n",
    "for time_index in range(len(result) - 1):\n",
    "    for i in result:\n",
    "        if result[time_index]>=i:\n",
    "            suma+=0.5\n",
    "            print(suma,i,time_index)\n",
    "suma"
   ]
  },
  {
   "cell_type": "code",
   "execution_count": null,
   "metadata": {},
   "outputs": [],
   "source": [
    "_nested_list_shallow_copy(['Ha',['Hb']])"
   ]
  },
  {
   "cell_type": "code",
   "execution_count": null,
   "metadata": {},
   "outputs": [],
   "source": [
    "def suma(a,b,c=12):\n",
    "    return a+b+c"
   ]
  },
  {
   "cell_type": "code",
   "execution_count": null,
   "metadata": {},
   "outputs": [],
   "source": [
    "suma(1,2,1)"
   ]
  },
  {
   "cell_type": "code",
   "execution_count": null,
   "metadata": {},
   "outputs": [],
   "source": [
    "def f1(x):\n",
    "   return x**2\n",
    "\n",
    "def f2(x):\n",
    "   return x**3\n",
    "\n",
    "x = np.array([1,3,4])\n",
    "y1 = f1(x)\n",
    "from scipy.integrate import simpson\n",
    "I1 = simpson(y1[:2], x[:2])\n",
    "print(I1)"
   ]
  },
  {
   "cell_type": "code",
   "execution_count": null,
   "metadata": {},
   "outputs": [],
   "source": [
    "x"
   ]
  },
  {
   "cell_type": "code",
   "execution_count": null,
   "metadata": {},
   "outputs": [],
   "source": [
    "y1"
   ]
  },
  {
   "cell_type": "code",
   "execution_count": null,
   "metadata": {},
   "outputs": [],
   "source": [
    "z=[np.array([-1.38777878e-25,  1.00000000e-08,  1.00000000e-08,  1.00000000e-08,\n",
    "        1.00000000e-08,  1.00000000e-08,  1.00000000e-08,  1.00000000e-08,\n",
    "        1.00000000e-08,  1.00000000e-08,  1.00000000e-08,  1.00000000e-08,\n",
    "        1.00000000e-08,  1.00000000e-08,  1.00000000e-08,  1.00000000e-08,\n",
    "        1.00000000e-08,  1.00000000e-08,  1.00000000e-08,  1.00000000e-08,\n",
    "        1.00000000e-08,  1.00000000e-08,  1.00000000e-08,  1.00000000e-08,\n",
    "        1.00000000e-08,  1.00000000e-08,  1.00000000e-08,  1.00000000e-08,\n",
    "        1.00000000e-08,  1.00000000e-08,  1.00000000e-08,  1.00000000e-08,\n",
    "        1.00000000e-08,  1.00000000e-08,  1.00000000e-08,  1.00000000e-08,\n",
    "        1.00000000e-08,  1.00000000e-08,  1.00000000e-08,  1.00000000e-08,\n",
    "        1.00000000e-08,  1.00000000e-08,  1.00000000e-08,  1.00000000e-08,\n",
    "        1.00000000e-08,  1.00000000e-08,  1.00000000e-08,  1.00000000e-08,\n",
    "       -1.38777878e-25])]"
   ]
  },
  {
   "cell_type": "code",
   "execution_count": null,
   "metadata": {},
   "outputs": [],
   "source": [
    "z[0]"
   ]
  },
  {
   "cell_type": "code",
   "execution_count": null,
   "metadata": {},
   "outputs": [],
   "source": [
    "x=[-1.38777878e-25,  1.00000000e-08 , 1.00000000e-08 , 1.00000000e-08,\n",
    "  1.00000000e-08 , 1.00000000e-08,  1.00000000e-08,  1.00000000e-08,\n",
    "  1.00000000e-08 , 1.00000000e-08,  1.00000000e-08 , 1.00000000e-08,\n",
    "  1.00000000e-08 , 1.00000000e-08 , 1.00000000e-08, 1.00000000e-08,\n",
    "  1.00000000e-08,  1.00000000e-08 , 1.00000000e-08 , 1.00000000e-08,\n",
    "  1.00000000e-08 , 1.00000000e-08 , 1.00000000e-08 , 1.00000000e-08,\n",
    "  1.00000000e-08 , 1.00000000e-08 , 1.00000000e-08 , 1.00000000e-08,\n",
    "  1.00000000e-08 , 1.00000000e-08 , 1.00000000e-08 , 1.00000000e-08,\n",
    "  1.00000000e-08 , 1.00000000e-08  ,1.00000000e-08 , 1.00000000e-08,\n",
    "  1.00000000e-08,  1.00000000e-08 , 1.00000000e-08 , 1.00000000e-08,\n",
    "  1.00000000e-08 , 1.00000000e-08 , 1.00000000e-08 , 1.00000000e-08,\n",
    "  1.00000000e-08 , 1.00000000e-08  ,1.00000000e-08 , 1.00000000e-08,\n",
    " -1.38777878e-25]\n",
    "y=[0.      ,   0.20408163, 0.40816327, 0.6122449 , 0.81632653, 1.02040816,\n",
    " 1.2244898 , 1.42857143, 1.63265306, 1.83673469, 2.04081633, 2.24489796,\n",
    " 2.44897959, 2.65306122, 2.85714286, 3.06122449, 3.26530612, 3.46938776,\n",
    " 3.67346939 ,3.87755102, 4.08163265, 4.28571429, 4.48979592, 4.69387755,\n",
    " 4.89795918 ,5.10204082, 5.30612245, 5.51020408, 5.71428571, 5.91836735,\n",
    " 6.12244898, 6.32653061, 6.53061224, 6.73469388, 6.93877551, 7.14285714,\n",
    " 7.34693878, 7.55102041, 7.75510204, 7.95918367, 8.16326531, 8.36734694,\n",
    " 8.57142857,8.7755102,  8.97959184, 9.18367347 ,9.3877551 , 9.59183673,\n",
    " 9.79591837]"
   ]
  },
  {
   "cell_type": "code",
   "execution_count": null,
   "metadata": {},
   "outputs": [],
   "source": [
    "x=np.array(x)\n",
    "y=np.array(y)"
   ]
  },
  {
   "cell_type": "code",
   "execution_count": null,
   "metadata": {},
   "outputs": [],
   "source": [
    "simpson(x[:1],y[:1])"
   ]
  },
  {
   "cell_type": "code",
   "execution_count": null,
   "metadata": {},
   "outputs": [],
   "source": []
  },
  {
   "cell_type": "code",
   "execution_count": null,
   "metadata": {},
   "outputs": [],
   "source": []
  }
 ],
 "metadata": {
  "@webio": {
   "lastCommId": null,
   "lastKernelId": null
  },
  "colab": {
   "collapsed_sections": [],
   "name": "Non-dissipative, Time=pi/g, g=0.2*omega.ipynb",
   "provenance": []
  },
  "kernelspec": {
   "display_name": "Python 3",
   "language": "python",
   "name": "python3"
  },
  "language_info": {
   "codemirror_mode": {
    "name": "ipython",
    "version": 3
   },
   "file_extension": ".py",
   "mimetype": "text/x-python",
   "name": "python",
   "nbconvert_exporter": "python",
   "pygments_lexer": "ipython3",
   "version": "3.7.6"
  }
 },
 "nbformat": 4,
 "nbformat_minor": 1
}
