{
 "cells": [
  {
   "cell_type": "code",
   "execution_count": 70,
   "id": "18a9ea3e",
   "metadata": {},
   "outputs": [],
   "source": [
    "import sympy\n",
    "\n",
    "def Commutator(opr,opr2):\n",
    "    return opr*opr2-opr2*opr\n",
    "\n",
    "def Z(opr):\n",
    "    return -sympy.I*Commutator(opr,H)+gamma*(n+1)*(ad*opr*a-(opr*ad*a+ad*a*opr)/2)+ gamma*n*(a*opr*ad-(a*ad*opr+opr*a*ad)/2)\n",
    "def commsi(it,n):\n",
    "    for i in range(n):\n",
    "        it=it.expand().subs(a*ad,ad*a+1).subs(b*bd,bd*b+1).subs(a*b,b*a).subs(ad*b,b*ad).subs(a*bd,bd*a).subs(ad*bd,bd*ad).expand()\n",
    "    return it.collect(-sympy.I).collect(sympy.I*g)\n",
    "\n",
    "a= sympy.Symbol('a', commutative=False)\n",
    "ad = sympy.Symbol('a^{\\dagger}', commutative=False)\n",
    "b= sympy.Symbol('b', commutative=False)\n",
    "bd = sympy.Symbol('b^{\\dagger}', commutative=False)"
   ]
  },
  {
   "cell_type": "code",
   "execution_count": 71,
   "id": "c4eea7ae",
   "metadata": {},
   "outputs": [],
   "source": [
    "w0,F,g,gamma,n=sympy.symbols('w_0 F g gamma n')"
   ]
  },
  {
   "cell_type": "code",
   "execution_count": 72,
   "id": "344f0e53",
   "metadata": {},
   "outputs": [],
   "source": [
    "H=g*(a*bd+ad*b)+F*(ad+a)"
   ]
  },
  {
   "cell_type": "code",
   "execution_count": 73,
   "id": "a45e8e2a",
   "metadata": {},
   "outputs": [
    {
     "data": {
      "text/latex": [
       "$\\displaystyle - F + g a b^{\\dagger} a - g a^{2} b^{\\dagger} - g a^{\\dagger} a b + g a^{\\dagger} b a - g b$"
      ],
      "text/plain": [
       "-F + g*a*b^{\\dagger}*a - g*a**2*b^{\\dagger} - g*a^{\\dagger}*a*b + g*a^{\\dagger}*b*a - g*b"
      ]
     },
     "execution_count": 73,
     "metadata": {},
     "output_type": "execute_result"
    }
   ],
   "source": [
    "Commutator(H,a).expand().subs(a*ad,ad*a+1).expand().expand().subs(a*ad,ad*a+1).expand().expand().subs(a*ad,ad*a+1).expand()"
   ]
  },
  {
   "cell_type": "code",
   "execution_count": 74,
   "id": "5b34b05d",
   "metadata": {},
   "outputs": [
    {
     "data": {
      "text/latex": [
       "$\\displaystyle - \\frac{\\gamma a}{2} - i \\left(F + g b\\right)$"
      ],
      "text/plain": [
       "-gamma*a/2 - I*(F + g*b)"
      ]
     },
     "execution_count": 74,
     "metadata": {},
     "output_type": "execute_result"
    }
   ],
   "source": [
    "commsi(Z(a),4)"
   ]
  },
  {
   "cell_type": "code",
   "execution_count": 75,
   "id": "a0aa8a44",
   "metadata": {},
   "outputs": [
    {
     "data": {
      "text/latex": [
       "$\\displaystyle - i g a$"
      ],
      "text/plain": [
       "-I*g*a"
      ]
     },
     "execution_count": 75,
     "metadata": {},
     "output_type": "execute_result"
    }
   ],
   "source": [
    "commsi(Z(b),4)"
   ]
  },
  {
   "cell_type": "code",
   "execution_count": 83,
   "id": "c66086cc",
   "metadata": {},
   "outputs": [],
   "source": [
    "xa=(a+ad)/sympy.sqrt(2* w0 )\n",
    "pa=sympy.I*(ad-a)*sympy.sqrt(w0/2)\n",
    "xb=(b+bd)/sympy.sqrt(2* w0 )\n",
    "pb=sympy.I*(bd-b)*sympy.sqrt(w0/2)"
   ]
  },
  {
   "cell_type": "code",
   "execution_count": 101,
   "id": "3d72c2a0",
   "metadata": {},
   "outputs": [
    {
     "data": {
      "text/latex": [
       "$\\displaystyle i g \\left(- \\frac{\\sqrt{2} b}{2 \\sqrt{w_{0}}} + \\frac{\\sqrt{2} b^{\\dagger}}{2 \\sqrt{w_{0}}}\\right) - \\frac{\\sqrt{2} \\gamma a}{4 \\sqrt{w_{0}}} - \\frac{\\sqrt{2} \\gamma a^{\\dagger}}{4 \\sqrt{w_{0}}}$"
      ],
      "text/plain": [
       "I*g*(-sqrt(2)*b/(2*sqrt(w_0)) + sqrt(2)*b^{\\dagger}/(2*sqrt(w_0))) - sqrt(2)*gamma*a/(4*sqrt(w_0)) - sqrt(2)*gamma*a^{\\dagger}/(4*sqrt(w_0))"
      ]
     },
     "execution_count": 101,
     "metadata": {},
     "output_type": "execute_result"
    }
   ],
   "source": [
    "xa_dot=commsi(Z(xa),4)\n",
    "xa_dot"
   ]
  },
  {
   "cell_type": "code",
   "execution_count": 110,
   "id": "e89609e6",
   "metadata": {},
   "outputs": [
    {
     "data": {
      "text/latex": [
       "$\\displaystyle \\frac{\\sqrt{2} i g \\left(- b + b^{\\dagger}\\right)}{2 \\sqrt{w_{0}}} - \\frac{\\sqrt{2} \\gamma \\left(a + a^{\\dagger}\\right)}{4 \\sqrt{w_{0}}}$"
      ],
      "text/plain": [
       "sqrt(2)*I*g*(-b + b^{\\dagger})/(2*sqrt(w_0)) - sqrt(2)*gamma*(a + a^{\\dagger})/(4*sqrt(w_0))"
      ]
     },
     "execution_count": 110,
     "metadata": {},
     "output_type": "execute_result"
    }
   ],
   "source": [
    "xa_dot=g*Pb/w0-gamma*Xa/2\n",
    "xa_dot.subs(Pb,pb).subs(Xa,xa)"
   ]
  },
  {
   "cell_type": "code",
   "execution_count": 156,
   "id": "033a77ca",
   "metadata": {},
   "outputs": [],
   "source": [
    "Xa,Pa,Xb,Pb=sympy.symbols('X_a P_a X_b P_b',commutative=False)"
   ]
  },
  {
   "cell_type": "code",
   "execution_count": 111,
   "id": "c4136ad6",
   "metadata": {},
   "outputs": [
    {
     "data": {
      "text/latex": [
       "$\\displaystyle i g \\left(- \\frac{\\sqrt{2} a}{2 \\sqrt{w_{0}}} + \\frac{\\sqrt{2} a^{\\dagger}}{2 \\sqrt{w_{0}}}\\right)$"
      ],
      "text/plain": [
       "I*g*(-sqrt(2)*a/(2*sqrt(w_0)) + sqrt(2)*a^{\\dagger}/(2*sqrt(w_0)))"
      ]
     },
     "execution_count": 111,
     "metadata": {},
     "output_type": "execute_result"
    }
   ],
   "source": [
    "xb_dot=commsi(Z(xb),4)\n",
    "xb_dot"
   ]
  },
  {
   "cell_type": "code",
   "execution_count": 114,
   "id": "836811a9",
   "metadata": {},
   "outputs": [
    {
     "data": {
      "text/latex": [
       "$\\displaystyle \\frac{\\sqrt{2} i g \\left(- a + a^{\\dagger}\\right)}{2 \\sqrt{w_{0}}}$"
      ],
      "text/plain": [
       "sqrt(2)*I*g*(-a + a^{\\dagger})/(2*sqrt(w_0))"
      ]
     },
     "execution_count": 114,
     "metadata": {},
     "output_type": "execute_result"
    }
   ],
   "source": [
    "xb_dot=g*Pa/w0\n",
    "xb_dot.subs(Pa,pa)"
   ]
  },
  {
   "cell_type": "code",
   "execution_count": 115,
   "id": "91977c83",
   "metadata": {},
   "outputs": [
    {
     "data": {
      "text/latex": [
       "$\\displaystyle - \\frac{\\sqrt{2} g \\sqrt{w_{0}} a}{2} - \\frac{\\sqrt{2} g \\sqrt{w_{0}} a^{\\dagger}}{2}$"
      ],
      "text/plain": [
       "-sqrt(2)*g*sqrt(w_0)*a/2 - sqrt(2)*g*sqrt(w_0)*a^{\\dagger}/2"
      ]
     },
     "execution_count": 115,
     "metadata": {},
     "output_type": "execute_result"
    }
   ],
   "source": [
    "pb_dot=commsi(Z(pb),4)\n",
    "pb_dot"
   ]
  },
  {
   "cell_type": "code",
   "execution_count": 118,
   "id": "63143bea",
   "metadata": {},
   "outputs": [],
   "source": [
    "pb_dot=-g*w0*Xa"
   ]
  },
  {
   "cell_type": "code",
   "execution_count": 119,
   "id": "80fff558",
   "metadata": {},
   "outputs": [
    {
     "data": {
      "text/latex": [
       "$\\displaystyle - \\frac{\\sqrt{2} g \\sqrt{w_{0}} \\left(a + a^{\\dagger}\\right)}{2}$"
      ],
      "text/plain": [
       "-sqrt(2)*g*sqrt(w_0)*(a + a^{\\dagger})/2"
      ]
     },
     "execution_count": 119,
     "metadata": {},
     "output_type": "execute_result"
    }
   ],
   "source": [
    "pb_dot.subs(Xa,xa)"
   ]
  },
  {
   "cell_type": "code",
   "execution_count": 141,
   "id": "72554bac",
   "metadata": {},
   "outputs": [
    {
     "data": {
      "text/latex": [
       "$\\displaystyle - \\sqrt{2} F \\sqrt{w_{0}} - \\frac{\\sqrt{2} g \\sqrt{w_{0}} b}{2} - \\frac{\\sqrt{2} g \\sqrt{w_{0}} b^{\\dagger}}{2} + \\frac{\\sqrt{2} i \\gamma \\sqrt{w_{0}} a}{4} - \\frac{\\sqrt{2} i \\gamma \\sqrt{w_{0}} a^{\\dagger}}{4}$"
      ],
      "text/plain": [
       "-sqrt(2)*F*sqrt(w_0) - sqrt(2)*g*sqrt(w_0)*b/2 - sqrt(2)*g*sqrt(w_0)*b^{\\dagger}/2 + sqrt(2)*I*gamma*sqrt(w_0)*a/4 - sqrt(2)*I*gamma*sqrt(w_0)*a^{\\dagger}/4"
      ]
     },
     "execution_count": 141,
     "metadata": {},
     "output_type": "execute_result"
    }
   ],
   "source": [
    "pa_dot=commsi(Z(pa),4)\n",
    "pa_dot"
   ]
  },
  {
   "cell_type": "code",
   "execution_count": 161,
   "id": "ffa0c6e2",
   "metadata": {},
   "outputs": [],
   "source": [
    "pa_dot=-g*w0*Xb-gamma*Pa/2-sympy.sqrt(2)*F*w0"
   ]
  },
  {
   "cell_type": "code",
   "execution_count": 162,
   "id": "037e9dad",
   "metadata": {},
   "outputs": [
    {
     "data": {
      "text/latex": [
       "$\\displaystyle - \\sqrt{2} F w_{0} - g w_{0} X_{b} - \\frac{\\gamma P_{a}}{2}$"
      ],
      "text/plain": [
       "-sqrt(2)*F*w_0 - g*w_0*X_b - gamma*P_a/2"
      ]
     },
     "execution_count": 162,
     "metadata": {},
     "output_type": "execute_result"
    }
   ],
   "source": [
    "pa_dot"
   ]
  },
  {
   "cell_type": "code",
   "execution_count": 165,
   "id": "b37f00e8",
   "metadata": {},
   "outputs": [
    {
     "data": {
      "text/latex": [
       "$\\displaystyle - 2 \\sqrt{2} F \\sqrt{w_{0}} P_{a} - 2 g w_{0} X_{b} P_{a} + \\gamma n w_{0} + \\frac{\\gamma w_{0}}{2} - \\gamma P_{a}^{2}$"
      ],
      "text/plain": [
       "-2*sqrt(2)*F*sqrt(w_0)*P_a - 2*g*w_0*X_b*P_a + gamma*n*w_0 + gamma*w_0/2 - gamma*P_a**2"
      ]
     },
     "execution_count": 165,
     "metadata": {},
     "output_type": "execute_result"
    }
   ],
   "source": [
    "pa2_dot=commsi(Z((pa**2).expand()),4)\n",
    "pa2_dot=pa2_dot.subs(a,sympy.sqrt(w0/2)*(Xa+((sympy.I)*Pa/w0))).subs(ad,sympy.sqrt(w0/2)*(Xa-((sympy.I)*Pa/w0)))\n",
    "pa2_dot=pa2_dot.subs(b,sympy.sqrt(w0/2)*(Xb+((sympy.I)*Pb/w0))).subs(bd,sympy.sqrt(w0/2)*(Xb-((sympy.I)*Pb/w0))).expand()\n",
    "pa2_dot.subs(Xa*Pa,Pa*Xa+sympy.I).expand()"
   ]
  },
  {
   "cell_type": "code",
   "execution_count": 166,
   "id": "478bc803",
   "metadata": {},
   "outputs": [
    {
     "data": {
      "text/latex": [
       "$\\displaystyle - 2 g w_{0} P_{b} X_{a}$"
      ],
      "text/plain": [
       "-2*g*w_0*P_b*X_a"
      ]
     },
     "execution_count": 166,
     "metadata": {},
     "output_type": "execute_result"
    }
   ],
   "source": [
    "pb2_dot=commsi(Z((pb**2).expand()),4)\n",
    "pb2_dot=pb2_dot.subs(a,sympy.sqrt(w0/2)*(Xa+((sympy.I)*Pa/w0))).subs(ad,sympy.sqrt(w0/2)*(Xa-((sympy.I)*Pa/w0)))\n",
    "pb2_dot=pb2_dot.subs(b,sympy.sqrt(w0/2)*(Xb+((sympy.I)*Pb/w0))).subs(bd,sympy.sqrt(w0/2)*(Xb-((sympy.I)*Pb/w0))).expand()\n",
    "pb2_dot"
   ]
  },
  {
   "cell_type": "code",
   "execution_count": 167,
   "id": "c28770de",
   "metadata": {},
   "outputs": [
    {
     "data": {
      "text/latex": [
       "$\\displaystyle \\frac{2 g X_{b} P_{a}}{w_{0}}$"
      ],
      "text/plain": [
       "2*g*X_b*P_a/w_0"
      ]
     },
     "execution_count": 167,
     "metadata": {},
     "output_type": "execute_result"
    }
   ],
   "source": [
    "Xb2_dot=commsi(Z((xb**2).expand()),4)\n",
    "Xb2_dot=Xb2_dot.subs(a,sympy.sqrt(w0/2)*(Xa+((sympy.I)*Pa/w0))).subs(ad,sympy.sqrt(w0/2)*(Xa-((sympy.I)*Pa/w0)))\n",
    "Xb2_dot=Xb2_dot.subs(b,sympy.sqrt(w0/2)*(Xb+((sympy.I)*Pb/w0))).subs(bd,sympy.sqrt(w0/2)*(Xb-((sympy.I)*Pb/w0))).expand()\n",
    "Xb2_dot"
   ]
  },
  {
   "cell_type": "code",
   "execution_count": 169,
   "id": "1c4e65fe",
   "metadata": {},
   "outputs": [
    {
     "data": {
      "text/latex": [
       "$\\displaystyle \\frac{2 g P_{b} X_{a}}{w_{0}} + \\frac{\\gamma n}{w_{0}} - \\gamma X_{a}^{2} + \\frac{\\gamma}{2 w_{0}}$"
      ],
      "text/plain": [
       "2*g*P_b*X_a/w_0 + gamma*n/w_0 - gamma*X_a**2 + gamma/(2*w_0)"
      ]
     },
     "execution_count": 169,
     "metadata": {},
     "output_type": "execute_result"
    }
   ],
   "source": [
    "xa2_dot=commsi(Z((xa**2).expand()),4)\n",
    "xa2_dot=xa2_dot.subs(a,sympy.sqrt(w0/2)*(Xa+((sympy.I)*Pa/w0))).subs(ad,sympy.sqrt(w0/2)*(Xa-((sympy.I)*Pa/w0)))\n",
    "xa2_dot=xa2_dot.subs(b,sympy.sqrt(w0/2)*(Xb+((sympy.I)*Pb/w0))).subs(bd,sympy.sqrt(w0/2)*(Xb-((sympy.I)*Pb/w0))).expand()\n",
    "xa2_dot.subs(Xa*Pa,Pa*Xa+sympy.I).expand()"
   ]
  },
  {
   "cell_type": "code",
   "execution_count": 170,
   "id": "65ee19c6",
   "metadata": {},
   "outputs": [
    {
     "data": {
      "text/latex": [
       "$\\displaystyle - \\sqrt{2} F \\sqrt{w_{0}} X_{a} - g w_{0} X_{b} X_{a} + \\frac{g P_{b} P_{a}}{w_{0}} - \\frac{i \\gamma}{2} - \\gamma P_{a} X_{a}$"
      ],
      "text/plain": [
       "-sqrt(2)*F*sqrt(w_0)*X_a - g*w_0*X_b*X_a + g*P_b*P_a/w_0 - I*gamma/2 - gamma*P_a*X_a"
      ]
     },
     "execution_count": 170,
     "metadata": {},
     "output_type": "execute_result"
    }
   ],
   "source": [
    "xapa_dot=commsi(Z((xa*pa).expand()),4)\n",
    "xapa_dot=xapa_dot.subs(a,sympy.sqrt(w0/2)*(Xa+((sympy.I)*Pa/w0))).subs(ad,sympy.sqrt(w0/2)*(Xa-((sympy.I)*Pa/w0)))\n",
    "xapa_dot=xapa_dot.subs(b,sympy.sqrt(w0/2)*(Xb+((sympy.I)*Pb/w0))).subs(bd,sympy.sqrt(w0/2)*(Xb-((sympy.I)*Pb/w0))).expand()\n",
    "xapa_dot.subs(Xa*Pa,Pa*Xa+sympy.I).expand()"
   ]
  },
  {
   "cell_type": "code",
   "execution_count": 171,
   "id": "034cb97d",
   "metadata": {},
   "outputs": [
    {
     "data": {
      "text/latex": [
       "$\\displaystyle - \\sqrt{2} F \\sqrt{w_{0}} X_{a} - g w_{0} X_{b} X_{a} + \\frac{g P_{b} P_{a}}{w_{0}} - \\frac{i \\gamma}{2} - \\gamma P_{a} X_{a}$"
      ],
      "text/plain": [
       "-sqrt(2)*F*sqrt(w_0)*X_a - g*w_0*X_b*X_a + g*P_b*P_a/w_0 - I*gamma/2 - gamma*P_a*X_a"
      ]
     },
     "execution_count": 171,
     "metadata": {},
     "output_type": "execute_result"
    }
   ],
   "source": [
    "xapb_dot=commsi(Z((xa*pb).expand()),4)\n",
    "xapb_dot=xapa_dot.subs(a,sympy.sqrt(w0/2)*(Xa+((sympy.I)*Pa/w0))).subs(ad,sympy.sqrt(w0/2)*(Xa-((sympy.I)*Pa/w0)))\n",
    "xapb_dot=xapa_dot.subs(b,sympy.sqrt(w0/2)*(Xb+((sympy.I)*Pb/w0))).subs(bd,sympy.sqrt(w0/2)*(Xb-((sympy.I)*Pb/w0))).expand()\n",
    "xapb_dot.subs(Xa*Pa,Pa*Xa+sympy.I).expand()"
   ]
  },
  {
   "cell_type": "code",
   "execution_count": 172,
   "id": "e0b2d344",
   "metadata": {},
   "outputs": [
    {
     "data": {
      "text/latex": [
       "$\\displaystyle - g w_{0} X_{b} X_{a} + \\frac{g P_{b} P_{a}}{w_{0}}$"
      ],
      "text/plain": [
       "-g*w_0*X_b*X_a + g*P_b*P_a/w_0"
      ]
     },
     "execution_count": 172,
     "metadata": {},
     "output_type": "execute_result"
    }
   ],
   "source": [
    "xbpb_dot=commsi(Z((xb*pb).expand()),4)\n",
    "xbpb_dot=xbpb_dot.subs(a,sympy.sqrt(w0/2)*(Xa+((sympy.I)*Pa/w0))).subs(ad,sympy.sqrt(w0/2)*(Xa-((sympy.I)*Pa/w0)))\n",
    "xbpb_dot=xbpb_dot.subs(b,sympy.sqrt(w0/2)*(Xb+((sympy.I)*Pb/w0))).subs(bd,sympy.sqrt(w0/2)*(Xb-((sympy.I)*Pb/w0))).expand()\n",
    "xbpb_dot.subs(Xa*Pa,Pa*Xa+sympy.I).expand()"
   ]
  },
  {
   "cell_type": "code",
   "execution_count": 174,
   "id": "3bbd8d33",
   "metadata": {},
   "outputs": [
    {
     "data": {
      "text/latex": [
       "$\\displaystyle - \\sqrt{2} F \\sqrt{w_{0}} X_{b} - g w_{0} X_{b}^{2} + \\frac{g P_{a}^{2}}{w_{0}} - \\frac{\\gamma X_{b} P_{a}}{2}$"
      ],
      "text/plain": [
       "-sqrt(2)*F*sqrt(w_0)*X_b - g*w_0*X_b**2 + g*P_a**2/w_0 - gamma*X_b*P_a/2"
      ]
     },
     "execution_count": 174,
     "metadata": {},
     "output_type": "execute_result"
    }
   ],
   "source": [
    "xbpa_dot=commsi(Z((xb*pa).expand()),4)\n",
    "xbpa_dot=xbpa_dot.subs(a,sympy.sqrt(w0/2)*(Xa+((sympy.I)*Pa/w0))).subs(ad,sympy.sqrt(w0/2)*(Xa-((sympy.I)*Pa/w0)))\n",
    "xbpa_dot=xbpa_dot.subs(b,sympy.sqrt(w0/2)*(Xb+((sympy.I)*Pb/w0))).subs(bd,sympy.sqrt(w0/2)*(Xb-((sympy.I)*Pb/w0))).expand()\n",
    "xbpa_dot.subs(Xa*Pa,Pa*Xa+sympy.I).expand().subs(Xb*Pb,Pb*Xb+sympy.I).expand()"
   ]
  },
  {
   "cell_type": "code",
   "execution_count": 175,
   "id": "5d648ffe",
   "metadata": {},
   "outputs": [
    {
     "data": {
      "text/latex": [
       "$\\displaystyle - \\sqrt{2} F \\sqrt{w_{0}} P_{b} - i g w_{0} - g w_{0} P_{a} X_{a} - g w_{0} P_{b} X_{b} - \\frac{\\gamma P_{b} P_{a}}{2}$"
      ],
      "text/plain": [
       "-sqrt(2)*F*sqrt(w_0)*P_b - I*g*w_0 - g*w_0*P_a*X_a - g*w_0*P_b*X_b - gamma*P_b*P_a/2"
      ]
     },
     "execution_count": 175,
     "metadata": {},
     "output_type": "execute_result"
    }
   ],
   "source": [
    "pbpa_dot=commsi(Z((pb*pa).expand()),4)\n",
    "pbpa_dot=pbpa_dot.subs(a,sympy.sqrt(w0/2)*(Xa+((sympy.I)*Pa/w0))).subs(ad,sympy.sqrt(w0/2)*(Xa-((sympy.I)*Pa/w0)))\n",
    "pbpa_dot=pbpa_dot.subs(b,sympy.sqrt(w0/2)*(Xb+((sympy.I)*Pb/w0))).subs(bd,sympy.sqrt(w0/2)*(Xb-((sympy.I)*Pb/w0))).expand()\n",
    "pbpa_dot.subs(Xa*Pa,Pa*Xa+sympy.I).expand().subs(Xb*Pb,Pb*Xb+sympy.I).expand()"
   ]
  },
  {
   "cell_type": "code",
   "execution_count": 181,
   "id": "0b762c7b",
   "metadata": {},
   "outputs": [
    {
     "data": {
      "text/latex": [
       "$\\displaystyle \\frac{P_{b}^{2} g^{2}}{w_{0}^{2}} - \\frac{P_{b} X_{a} g \\gamma}{w_{0}} + \\frac{X_{a}^{2} \\gamma^{2}}{4}$"
      ],
      "text/plain": [
       "P_b**2*g**2/w_0**2 - P_b*X_a*g*gamma/w_0 + X_a**2*gamma**2/4"
      ]
     },
     "execution_count": 181,
     "metadata": {},
     "output_type": "execute_result"
    }
   ],
   "source": [
    "((xa_dot)*(xa_dot)).expand()"
   ]
  },
  {
   "cell_type": "code",
   "execution_count": 182,
   "id": "dd6106eb",
   "metadata": {},
   "outputs": [
    {
     "data": {
      "text/latex": [
       "$\\displaystyle \\frac{2 g P_{b} X_{a}}{w_{0}} + \\frac{\\gamma n}{w_{0}} - \\gamma X_{a}^{2} + \\frac{i \\gamma P_{a} X_{a}}{2 w_{0}} - \\frac{i \\gamma X_{a} P_{a}}{2 w_{0}}$"
      ],
      "text/plain": [
       "2*g*P_b*X_a/w_0 + gamma*n/w_0 - gamma*X_a**2 + I*gamma*P_a*X_a/(2*w_0) - I*gamma*X_a*P_a/(2*w_0)"
      ]
     },
     "execution_count": 182,
     "metadata": {},
     "output_type": "execute_result"
    }
   ],
   "source": [
    "xa2_dot"
   ]
  },
  {
   "cell_type": "code",
   "execution_count": 186,
   "id": "4b2753ae",
   "metadata": {},
   "outputs": [
    {
     "data": {
      "text/latex": [
       "$\\displaystyle \\frac{P_{a} g}{w_{0}}$"
      ],
      "text/plain": [
       "P_a*g/w_0"
      ]
     },
     "execution_count": 186,
     "metadata": {},
     "output_type": "execute_result"
    }
   ],
   "source": [
    "xb_dot"
   ]
  },
  {
   "cell_type": "code",
   "execution_count": 187,
   "id": "7f457d53",
   "metadata": {},
   "outputs": [
    {
     "data": {
      "text/latex": [
       "$\\displaystyle \\frac{P_{b} g}{w_{0}} - \\frac{X_{a} \\gamma}{2}$"
      ],
      "text/plain": [
       "P_b*g/w_0 - X_a*gamma/2"
      ]
     },
     "execution_count": 187,
     "metadata": {},
     "output_type": "execute_result"
    }
   ],
   "source": [
    "xa_dot"
   ]
  },
  {
   "cell_type": "code",
   "execution_count": 188,
   "id": "704c8979",
   "metadata": {},
   "outputs": [
    {
     "data": {
      "text/latex": [
       "$\\displaystyle - \\sqrt{2} F w_{0} - g w_{0} X_{b} - \\frac{\\gamma P_{a}}{2}$"
      ],
      "text/plain": [
       "-sqrt(2)*F*w_0 - g*w_0*X_b - gamma*P_a/2"
      ]
     },
     "execution_count": 188,
     "metadata": {},
     "output_type": "execute_result"
    }
   ],
   "source": [
    "pa_dot"
   ]
  },
  {
   "cell_type": "code",
   "execution_count": 190,
   "id": "3a193870",
   "metadata": {},
   "outputs": [
    {
     "data": {
      "text/latex": [
       "$\\displaystyle - X_{a} g w_{0}$"
      ],
      "text/plain": [
       "-X_a*g*w_0"
      ]
     },
     "execution_count": 190,
     "metadata": {},
     "output_type": "execute_result"
    }
   ],
   "source": [
    "pb_dot"
   ]
  },
  {
   "cell_type": "code",
   "execution_count": null,
   "id": "5597a550",
   "metadata": {},
   "outputs": [],
   "source": []
  }
 ],
 "metadata": {
  "kernelspec": {
   "display_name": "Python 3",
   "language": "python",
   "name": "python3"
  },
  "language_info": {
   "codemirror_mode": {
    "name": "ipython",
    "version": 3
   },
   "file_extension": ".py",
   "mimetype": "text/x-python",
   "name": "python",
   "nbconvert_exporter": "python",
   "pygments_lexer": "ipython3",
   "version": "3.8.8"
  }
 },
 "nbformat": 4,
 "nbformat_minor": 5
}
