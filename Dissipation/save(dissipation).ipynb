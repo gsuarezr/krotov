{
 "cells": [
  {
   "cell_type": "code",
   "execution_count": 1,
   "id": "c38903a8",
   "metadata": {
    "id": "55eb7a00"
   },
   "outputs": [],
   "source": [
    "#import krotov\n",
    "#import qutip as qt# NBVAL_IGNORE_OUTPUT\n",
    "#import qutip\n",
    "#import numpy as np\n",
    "#import scipy\n",
    "#import matplotlib\n",
    "#import matplotlib.pylab as plt\n",
    "#import krotov\n",
    "import numpy as np\n",
    "import sympy as sp\n",
    "from sympy import Function,Symbol,symbols,zeros,Matrix,sqrt,simplify,solve,diff,dsolve,lambdify\n",
    "from scipy.integrate import odeint\n",
    "import matplotlib.pyplot as plt\n",
    "from sympy.physics.quantum.dagger import Dagger"
   ]
  },
  {
   "cell_type": "code",
   "execution_count": 2,
   "id": "edbec0f2",
   "metadata": {
    "id": "c348f286"
   },
   "outputs": [],
   "source": [
    "t=Symbol('t')\n",
    "gamma=Symbol('gamma',Real=True,positive=True)\n",
    "Nb=Symbol('N_b',Real=True,positive=True)\n",
    "x = Function('x')(t)\n",
    "c= Function('c')(t)\n",
    "x1 = Function('x1')(t)\n",
    "x2 = Function('x2')(t)\n",
    "p1= Function('p1')(t)\n",
    "p2 = Function('p2')(t)\n",
    "e=Function('e')(t)\n",
    "mu,g=symbols('mu g')\n",
    "x11,x12,p11,p12,e1,de1,c1=symbols('x1 x2 p1 p2 e de c')\n",
    "de=diff(e,t)\n",
    "F=zeros(2,2)\n",
    "F[0,1]=1\n",
    "F[1,0]=-1\n",
    "B=zeros(2,2)\n",
    "B[0,0]=1\n",
    "B[1,1]=-1\n",
    "#A=np.block([\n",
    " #       [g*B+F,             Matrix([[0,0],[0,0]])],\n",
    "  #      [Matrix([[0,0],[0,0]]), g*B  +F             ]\n",
    "   #     ])\n",
    "Omega=sp.Matrix([[0,0,0,0,0],[0,0,0,1,0],[0,0,0,0,1],[0,-1,0,0,0],[0,0,-1,0,0]])\n",
    "\n",
    "C=sp.Matrix([[0,0,0,0,0],[0,sp.sqrt(gamma*(Nb+1)/2),0,1j*sp.sqrt(gamma*(Nb+1)/2),0],[0,sp.sqrt(gamma*(Nb)/2),0,-1j*sp.sqrt(gamma*(Nb)/2),0],[0,0,0,0,0],[0,0,0,0,0]])\n",
    "A=sp.Matrix([[0,0,0,0,0],[0,0,0,1,g],[0,0,0,g,1],[0,-1,-g,0,0],[0,-g,-1,0,0]])+Omega*((Dagger(C)*C).as_real_imag()[1])\n",
    "D=Omega*((Dagger(C)*C).as_real_imag()[0])*Omega.T\n",
    "d=[]\n",
    "d.append(c)\n",
    "d.append(-sqrt(2)*mu*e*c)\n",
    "d.append(0)\n",
    "d.append(0)\n",
    "d.append(0)\n",
    "v=[]\n",
    "v.append(c)\n",
    "v.append(x1)\n",
    "v.append(x2)\n",
    "v.append(p1)\n",
    "v.append(p2)"
   ]
  },
  {
   "cell_type": "code",
   "execution_count": 3,
   "id": "089a4281",
   "metadata": {},
   "outputs": [],
   "source": [
    "def to_symbols(expr):\n",
    "    return expr.subs({x1:x11,x2:x12,p1:p11,p2:p12,e:e1,diff(e,t):de1,c:c1})"
   ]
  },
  {
   "cell_type": "code",
   "execution_count": 4,
   "id": "bba60a92",
   "metadata": {
    "colab": {
     "base_uri": "https://localhost:8080/",
     "height": 114
    },
    "id": "7b20d788",
    "outputId": "72c1af1c-2d1b-4722-9114-1759e34137c4"
   },
   "outputs": [
    {
     "data": {
      "text/latex": [
       "$\\displaystyle \\left[\\begin{matrix}c\\\\x_{1}\\\\x_{2}\\\\p_{1}\\\\p_{2}\\end{matrix}\\right]$"
      ],
      "text/plain": [
       "Matrix([\n",
       "[ c],\n",
       "[x1],\n",
       "[x2],\n",
       "[p1],\n",
       "[p2]])"
      ]
     },
     "execution_count": 4,
     "metadata": {},
     "output_type": "execute_result"
    }
   ],
   "source": [
    "v=Matrix(v)\n",
    "to_symbols(v)"
   ]
  },
  {
   "cell_type": "code",
   "execution_count": 5,
   "id": "61022d60",
   "metadata": {
    "colab": {
     "base_uri": "https://localhost:8080/",
     "height": 146
    },
    "id": "dc77285a",
    "outputId": "5bd0ebfd-048a-4cf1-cfb4-2938f0015ebf",
    "scrolled": true
   },
   "outputs": [
    {
     "data": {
      "text/latex": [
       "$\\displaystyle \\left[\\begin{matrix}\\frac{d}{d t} c{\\left(t \\right)}\\\\- g \\operatorname{p_{2}}{\\left(t \\right)} + 0.5 \\gamma \\operatorname{x_{1}}{\\left(t \\right)} - \\operatorname{p_{1}}{\\left(t \\right)} + \\frac{d}{d t} \\operatorname{x_{1}}{\\left(t \\right)}\\\\- g \\operatorname{p_{1}}{\\left(t \\right)} - \\operatorname{p_{2}}{\\left(t \\right)} + \\frac{d}{d t} \\operatorname{x_{2}}{\\left(t \\right)}\\\\g \\operatorname{x_{2}}{\\left(t \\right)} + 0.5 \\gamma \\operatorname{p_{1}}{\\left(t \\right)} - \\sqrt{2} \\mu c{\\left(t \\right)} e{\\left(t \\right)} + \\operatorname{x_{1}}{\\left(t \\right)} + \\frac{d}{d t} \\operatorname{p_{1}}{\\left(t \\right)}\\\\g \\operatorname{x_{1}}{\\left(t \\right)} + \\operatorname{x_{2}}{\\left(t \\right)} + \\frac{d}{d t} \\operatorname{p_{2}}{\\left(t \\right)}\\end{matrix}\\right]$"
      ],
      "text/plain": [
       "Matrix([\n",
       "[                                                            Derivative(c(t), t)],\n",
       "[                      -g*p2(t) + 0.5*gamma*x1(t) - p1(t) + Derivative(x1(t), t)],\n",
       "[                                        -g*p1(t) - p2(t) + Derivative(x2(t), t)],\n",
       "[g*x2(t) + 0.5*gamma*p1(t) - sqrt(2)*mu*c(t)*e(t) + x1(t) + Derivative(p1(t), t)],\n",
       "[                                         g*x1(t) + x2(t) + Derivative(p2(t), t)]])"
      ]
     },
     "execution_count": 5,
     "metadata": {},
     "output_type": "execute_result"
    }
   ],
   "source": [
    "r=simplify(diff(v,t)-Matrix(A)*Matrix(v)-Matrix(Omega)*Matrix(d))\n",
    "r"
   ]
  },
  {
   "cell_type": "code",
   "execution_count": 6,
   "id": "aa9a93b1",
   "metadata": {},
   "outputs": [],
   "source": [
    "vector=diff(Matrix([c,x1,x2,p1,p2]),t)"
   ]
  },
  {
   "cell_type": "code",
   "execution_count": 7,
   "id": "a9dc5ea0",
   "metadata": {},
   "outputs": [],
   "source": [
    "import sympy\n",
    "#eqs=list(to_symbols(Matrix(A)*Matrix(v)))\n",
    "#t=sympy.linear_eq_to_matrix(eqs, [x11,x12,p11,p12,c1])[0]\n"
   ]
  },
  {
   "cell_type": "code",
   "execution_count": 8,
   "id": "15033d4d",
   "metadata": {},
   "outputs": [],
   "source": [
    "#t2=sympy.linear_eq_to_matrix(eqs, [x11,x12,p11,p12,c1])[1]"
   ]
  },
  {
   "cell_type": "code",
   "execution_count": 9,
   "id": "6bc5c87f",
   "metadata": {},
   "outputs": [],
   "source": [
    "#t*Matrix([x11,x12,p11,p12,c1])"
   ]
  },
  {
   "cell_type": "code",
   "execution_count": 10,
   "id": "da9bed5a",
   "metadata": {},
   "outputs": [
    {
     "data": {
      "text/latex": [
       "$\\displaystyle \\left[\\begin{matrix}0\\\\- g \\operatorname{p_{2}}{\\left(t \\right)} + 0.5 \\gamma \\operatorname{x_{1}}{\\left(t \\right)} - \\operatorname{p_{1}}{\\left(t \\right)}\\\\- g \\operatorname{p_{1}}{\\left(t \\right)} - \\operatorname{p_{2}}{\\left(t \\right)}\\\\g \\operatorname{x_{2}}{\\left(t \\right)} + 0.5 \\gamma \\operatorname{p_{1}}{\\left(t \\right)} - \\sqrt{2} \\mu c{\\left(t \\right)} e{\\left(t \\right)} + \\operatorname{x_{1}}{\\left(t \\right)}\\\\g \\operatorname{x_{1}}{\\left(t \\right)} + \\operatorname{x_{2}}{\\left(t \\right)}\\end{matrix}\\right]$"
      ],
      "text/plain": [
       "Matrix([\n",
       "[                                                       0],\n",
       "[                      -g*p2(t) + 0.5*gamma*x1(t) - p1(t)],\n",
       "[                                        -g*p1(t) - p2(t)],\n",
       "[g*x2(t) + 0.5*gamma*p1(t) - sqrt(2)*mu*c(t)*e(t) + x1(t)],\n",
       "[                                         g*x1(t) + x2(t)]])"
      ]
     },
     "execution_count": 10,
     "metadata": {},
     "output_type": "execute_result"
    }
   ],
   "source": [
    "sol=simplify(r-diff(Matrix([c,x1,x2,p1,p2]),t))\n",
    "sol"
   ]
  },
  {
   "cell_type": "code",
   "execution_count": 11,
   "id": "f08954ce",
   "metadata": {},
   "outputs": [],
   "source": [
    "import sympy\n",
    "eqs=list(to_symbols(sol))\n",
    "t=sympy.linear_eq_to_matrix(eqs, [c1,x11,x12,p11,p12])[0]\n",
    "t2=sympy.linear_eq_to_matrix(eqs, [c1,x11,x12,p11,p12])[1]\n"
   ]
  },
  {
   "cell_type": "code",
   "execution_count": 12,
   "id": "7d66edc5",
   "metadata": {},
   "outputs": [
    {
     "data": {
      "text/latex": [
       "$\\displaystyle \\left[\\begin{matrix}\\frac{d}{d t} c{\\left(t \\right)}\\\\- g p_{2} + 0.5 \\gamma x_{1} - p_{1} + \\frac{d}{d t} \\operatorname{x_{1}}{\\left(t \\right)}\\\\- g p_{1} - p_{2} + \\frac{d}{d t} \\operatorname{x_{2}}{\\left(t \\right)}\\\\- \\sqrt{2} c e \\mu + g x_{2} + 0.5 \\gamma p_{1} + x_{1} + \\frac{d}{d t} \\operatorname{p_{1}}{\\left(t \\right)}\\\\g x_{1} + x_{2} + \\frac{d}{d t} \\operatorname{p_{2}}{\\left(t \\right)}\\end{matrix}\\right]$"
      ],
      "text/plain": [
       "Matrix([\n",
       "[                                              Derivative(c(t), t)],\n",
       "[                 -g*p2 + 0.5*gamma*x1 - p1 + Derivative(x1(t), t)],\n",
       "[                                -g*p1 - p2 + Derivative(x2(t), t)],\n",
       "[-sqrt(2)*c*e*mu + g*x2 + 0.5*gamma*p1 + x1 + Derivative(p1(t), t)],\n",
       "[                                 g*x1 + x2 + Derivative(p2(t), t)]])"
      ]
     },
     "execution_count": 12,
     "metadata": {},
     "output_type": "execute_result"
    }
   ],
   "source": [
    "t*Matrix([c1,x11,x12,p11,p12])+vector"
   ]
  },
  {
   "cell_type": "code",
   "execution_count": 13,
   "id": "12e82871",
   "metadata": {},
   "outputs": [],
   "source": [
    "def to_func(expr):\n",
    "    return expr.subs({x11:x1,x12:x2,p11:p1,p12:p2,e1:e,de1:de,c1:c})"
   ]
  },
  {
   "cell_type": "code",
   "execution_count": 14,
   "id": "fe26cf30",
   "metadata": {},
   "outputs": [
    {
     "data": {
      "text/latex": [
       "$\\displaystyle \\left[\\begin{matrix}\\frac{d}{d t} c{\\left(t \\right)}\\\\- g \\operatorname{p_{2}}{\\left(t \\right)} + 0.5 \\gamma \\operatorname{x_{1}}{\\left(t \\right)} - \\operatorname{p_{1}}{\\left(t \\right)} + \\frac{d}{d t} \\operatorname{x_{1}}{\\left(t \\right)}\\\\- g \\operatorname{p_{1}}{\\left(t \\right)} - \\operatorname{p_{2}}{\\left(t \\right)} + \\frac{d}{d t} \\operatorname{x_{2}}{\\left(t \\right)}\\\\g \\operatorname{x_{2}}{\\left(t \\right)} + 0.5 \\gamma \\operatorname{p_{1}}{\\left(t \\right)} - \\sqrt{2} \\mu c{\\left(t \\right)} e{\\left(t \\right)} + \\operatorname{x_{1}}{\\left(t \\right)} + \\frac{d}{d t} \\operatorname{p_{1}}{\\left(t \\right)}\\\\g \\operatorname{x_{1}}{\\left(t \\right)} + \\operatorname{x_{2}}{\\left(t \\right)} + \\frac{d}{d t} \\operatorname{p_{2}}{\\left(t \\right)}\\end{matrix}\\right]$"
      ],
      "text/plain": [
       "Matrix([\n",
       "[                                                            Derivative(c(t), t)],\n",
       "[                      -g*p2(t) + 0.5*gamma*x1(t) - p1(t) + Derivative(x1(t), t)],\n",
       "[                                        -g*p1(t) - p2(t) + Derivative(x2(t), t)],\n",
       "[g*x2(t) + 0.5*gamma*p1(t) - sqrt(2)*mu*c(t)*e(t) + x1(t) + Derivative(p1(t), t)],\n",
       "[                                         g*x1(t) + x2(t) + Derivative(p2(t), t)]])"
      ]
     },
     "execution_count": 14,
     "metadata": {},
     "output_type": "execute_result"
    }
   ],
   "source": [
    "new_eqs=to_func(t*Matrix([c1,x11,x12,p11,p12])+vector)\n",
    "new_eqs"
   ]
  },
  {
   "cell_type": "code",
   "execution_count": 15,
   "id": "8a406e3f",
   "metadata": {},
   "outputs": [],
   "source": [
    "#field=np.linspace(0,100,1000)\n",
    "lista=np.random.rand(5)\n",
    "time,dt=np.linspace(1,10,5,retstep=True)\n",
    "def field_discrete(lista,t,dt):\n",
    "    return lista[int(t/dt)]\n",
    "\n",
    "def derivative(lista,t,dt):\n",
    "    return np.array([(lista[j]-lista[j-1])/(dt) if (j!=0)&(j!=len(lista)) else lista[j] for j in range(0,len(lista))])[int(t/dt)]"
   ]
  },
  {
   "cell_type": "code",
   "execution_count": 16,
   "id": "63365dc1",
   "metadata": {},
   "outputs": [
    {
     "data": {
      "text/plain": [
       "array([0.17899788, 0.90684042, 0.10912275, 0.20034611, 0.59992524])"
      ]
     },
     "execution_count": 16,
     "metadata": {},
     "output_type": "execute_result"
    }
   ],
   "source": [
    "lista"
   ]
  },
  {
   "cell_type": "code",
   "execution_count": 17,
   "id": "7f0b866e",
   "metadata": {},
   "outputs": [
    {
     "data": {
      "text/plain": [
       "0.32348557080732193"
      ]
     },
     "execution_count": 17,
     "metadata": {},
     "output_type": "execute_result"
    }
   ],
   "source": [
    "derivative(lista,time[1],dt)"
   ]
  },
  {
   "cell_type": "code",
   "execution_count": 18,
   "id": "80c61a58",
   "metadata": {},
   "outputs": [
    {
     "data": {
      "text/plain": [
       "0.32348557080732193"
      ]
     },
     "execution_count": 18,
     "metadata": {},
     "output_type": "execute_result"
    }
   ],
   "source": [
    "(lista[1]-lista[0])/dt"
   ]
  },
  {
   "cell_type": "code",
   "execution_count": 19,
   "id": "32dd6aa2",
   "metadata": {},
   "outputs": [
    {
     "data": {
      "text/plain": [
       "0.5999252365457427"
      ]
     },
     "execution_count": 19,
     "metadata": {},
     "output_type": "execute_result"
    }
   ],
   "source": [
    "field_discrete(lista,10,dt)"
   ]
  },
  {
   "cell_type": "code",
   "execution_count": 20,
   "id": "26cfd57d",
   "metadata": {},
   "outputs": [],
   "source": [
    "#sol=solve([r[0],r[1],r[2],r[3]],diff(x1,t),diff(x2,t),diff(p1,t),diff(p2,t))\n",
    "#sol"
   ]
  },
  {
   "cell_type": "code",
   "execution_count": 21,
   "id": "af9895f4",
   "metadata": {},
   "outputs": [],
   "source": [
    "#d1=simplify(sol[diff(x1,t)])\n",
    "#d2=simplify(sol[diff(x2,t)])\n",
    "#d3=simplify(sol[diff(p1,t)])\n",
    "#d4=simplify(sol[diff(p2,t)])\n"
   ]
  },
  {
   "cell_type": "code",
   "execution_count": 22,
   "id": "a42dcb79",
   "metadata": {},
   "outputs": [],
   "source": [
    "#x1_diff(x1,x2,p1,p2,g,diff(e,t),e,mu)"
   ]
  },
  {
   "cell_type": "code",
   "execution_count": 23,
   "id": "54074222",
   "metadata": {},
   "outputs": [],
   "source": [
    "#p1_diff(x1,x2,p1,p2,g,diff(e,t),e,mu)"
   ]
  },
  {
   "cell_type": "code",
   "execution_count": 24,
   "id": "b5cc179a",
   "metadata": {},
   "outputs": [],
   "source": [
    "#p2_diff(x1,x2,p1,p2,g,diff(e,t),e,mu)"
   ]
  },
  {
   "cell_type": "code",
   "execution_count": 25,
   "id": "47a40c27",
   "metadata": {},
   "outputs": [],
   "source": [
    "#x2_diff(x1,x2,p1,p2,g,diff(e,t),e,mu)"
   ]
  },
  {
   "cell_type": "code",
   "execution_count": 26,
   "id": "f4dc8ca6",
   "metadata": {
    "id": "M7V6DvoDB1N3"
   },
   "outputs": [],
   "source": [
    "#x1_diff=lambdify((x1,x2,p1,p2,g,diff(e,t),e,mu),d1)\n",
    "#x2_diff=lambdify((x1,x2,p1,p2,g,diff(e,t),e,mu),d2)\n",
    "#p1_diff=lambdify((x1,x2,p1,p2,g,diff(e,t),e,mu),d3)\n",
    "#p2_diff=lambdify((x1,x2,p1,p2,g,diff(e,t),e,mu),d4)"
   ]
  },
  {
   "cell_type": "code",
   "execution_count": 27,
   "id": "de4435fd",
   "metadata": {},
   "outputs": [],
   "source": [
    "#x1_diff(x1,x2,g,diff(e,t),e,mu)\n",
    "##def x1_diff(x1,x2,g,rec,e,mu):\n",
    " #   return  x1**2 #x1*x2*g*rec*e*mu\n",
    "#def x2_diff(x1,x2,g,rec,e,mu):\n",
    " #   return  x2*g*rec**2 *e*mu#(x1)**2 + x2 *g*rec*e*mu"
   ]
  },
  {
   "cell_type": "code",
   "execution_count": 28,
   "id": "7bcda875",
   "metadata": {
    "scrolled": true
   },
   "outputs": [],
   "source": [
    "#x2_diff(x1,x2,g,diff(e,t),e,mu)"
   ]
  },
  {
   "cell_type": "code",
   "execution_count": 29,
   "id": "52268e46",
   "metadata": {},
   "outputs": [],
   "source": [
    "def vectorfield( t,w, p):\n",
    "    \"\"\"\n",
    "    Defines the differential equations for  system.\n",
    "\n",
    "    Arguments:\n",
    "        w :  vector of the state variables:\n",
    "                  w = [x1,x2]\n",
    "        t :  time\n",
    "        p: vector of parameters\n",
    "            p=[g,field,dt,mu]\n",
    "    \"\"\"\n",
    "    x1, x2,p1,p2 = w\n",
    "    g,field,dt,mu=p\n",
    "    # Create f = (x1',y1',x2',y2'):\n",
    "    f = [x1_diff(x1,x2,p1,p2,g,derivative(field,t,dt),field_discrete(field,t,dt),mu),x2_diff(x1,x2,p1,p2,g,derivative(field,t,dt),field_discrete(field,t,dt),mu),\n",
    "        p1_diff(x1,x2,p1,p2,g,derivative(field,t,dt),field_discrete(field,t,dt),mu),p2_diff(x1,x2,p1,p2,g,derivative(field,t,dt),field_discrete(field,t,dt),mu)]\n",
    "    return f"
   ]
  },
  {
   "cell_type": "code",
   "execution_count": 30,
   "id": "932648b3",
   "metadata": {},
   "outputs": [],
   "source": [
    "#from scipy.integrate import solve_ivp as ivp\n",
    "\n",
    "#ini=0\n",
    "#g=0.2\n",
    "#fin=np.pi/g\n",
    "#lt=1000\n",
    "#ini_x1=0.05\n",
    "#ini_x2=1\n",
    "#field=np.random.rand(lt)\n",
    "#np.loadtxt(\"EFieldValuesFINAL.txt\")\n",
    "#time=np.linspace(ini,fin,lt)\n",
    "#field=guess_field(time,ini,fin,lt)\n",
    "#dt=fin/(lt-1)\n",
    "#p=[g,field,dt,0.1]\n",
    "#wsol = ivp(vectorfield, [ini,fin],[ini_x1,ini_x1,10,10], args=(p,),t_eval=time)"
   ]
  },
  {
   "cell_type": "code",
   "execution_count": 31,
   "id": "db609c9e",
   "metadata": {},
   "outputs": [],
   "source": [
    "#wsol.message"
   ]
  },
  {
   "cell_type": "code",
   "execution_count": 32,
   "id": "48cc5e9b",
   "metadata": {},
   "outputs": [],
   "source": [
    "#%timeit wsol = ivp(vectorfield, [ini,fin],[ini_x1,ini_x2], args=(p,),t_eval=time)"
   ]
  },
  {
   "cell_type": "code",
   "execution_count": 33,
   "id": "dd117aee",
   "metadata": {},
   "outputs": [],
   "source": [
    "#from edos import guess_field\n"
   ]
  },
  {
   "cell_type": "code",
   "execution_count": 34,
   "id": "50c08b35",
   "metadata": {},
   "outputs": [],
   "source": [
    "#import matplotlib.pyplot as plt\n",
    "#plt.figure(figsize=(18, 6), dpi=80)\n",
    "#plt.plot(wsol.t,wsol.y[0],label=r'$x_{1}$')\n",
    "#plt.plot(wsol.t,wsol.y[1],'-.',label=r'$x_{2}$')\n",
    "#plt.plot(wsol.t,wsol.y[2],'-.',label=r'$p_{1}$')\n",
    "#plt.plot(wsol.t,wsol.y[3],'-.',label=r'$p_{2}$')\n",
    "\n",
    "#plt.legend()\n",
    "#plt.show()"
   ]
  },
  {
   "cell_type": "code",
   "execution_count": 35,
   "id": "d12289d3",
   "metadata": {
    "id": "XtIH5bRcTE-E"
   },
   "outputs": [],
   "source": [
    "#Now with CM Matrix"
   ]
  },
  {
   "cell_type": "code",
   "execution_count": 36,
   "id": "966fe6e0",
   "metadata": {},
   "outputs": [],
   "source": [
    "t=Symbol('t')\n",
    "v11 = Function('v11')(t)\n",
    "v12 = Function('v12')(t)\n",
    "v13= Function('v13')(t)\n",
    "v14 = Function('v14')(t)\n",
    "v22= Function('v22')(t)\n",
    "v23 = Function('v23')(t)\n",
    "v24= Function('v24')(t)\n",
    "v33 = Function('v33')(t)\n",
    "v34= Function('v34')(t)\n",
    "v44 = Function('v44')(t)\n",
    "x1 = Function('x1')(t)\n",
    "x2 = Function('x2')(t)\n",
    "p1= Function('p1')(t)\n",
    "p2 = Function('p2')(t)\n",
    "g= symbols('g')\n",
    "e=Function('e')(t)\n",
    "mu=symbols('mu')\n",
    "Omega=sp.Matrix([[0,0,1,0],[0,0,0,1],[-1,0,0,0],[0,-1,0,0]])\n",
    "C=sp.Matrix([[sp.sqrt(gamma*(Nb+1)/2),0,1j*sp.sqrt(gamma*(Nb+1)/2),0],[sp.sqrt(gamma*(Nb)/2),0,-1j*sp.sqrt(gamma*(Nb)/2),0],[0,0,0,0],[0,0,0,0]])\n",
    "A=sp.Matrix([[0,0,1,g],[0,0,g,1],[-1,-g,0,0],[-g,-1,0,0]])+Omega*((Dagger(C)*C).as_real_imag()[1])\n",
    "D=Omega*((Dagger(C)*C).as_real_imag()[0])*Omega.T\n",
    "#V=Matrix([[v11-2*x1+alpha**2,v12-alpha*x2+beta*x1-alpha*beta,v13-alpha*p1,v14-alpha*p2],[v12-alpha*x2+beta*x1-alpha*beta,v22+beta**2+2*x2,v23+beta*p1,v24+beta*p2],[v13-alpha*p1,v23+beta*p1,v33,v34],[v14-alpha*p2,v24+beta*p2,v34,v44]])\n",
    "V=Matrix([[v11,v12,v13,v14],[v12,v22,v23,v24],[v13,v23,v33,v34],[v14,v24,v34,v44]])\n"
   ]
  },
  {
   "cell_type": "code",
   "execution_count": 37,
   "id": "074c0a3d",
   "metadata": {},
   "outputs": [
    {
     "data": {
      "text/latex": [
       "$\\displaystyle \\left[\\begin{matrix}\\operatorname{v_{11}}{\\left(t \\right)} & \\operatorname{v_{12}}{\\left(t \\right)} & \\operatorname{v_{13}}{\\left(t \\right)} & \\operatorname{v_{14}}{\\left(t \\right)}\\\\\\operatorname{v_{12}}{\\left(t \\right)} & \\operatorname{v_{22}}{\\left(t \\right)} & \\operatorname{v_{23}}{\\left(t \\right)} & \\operatorname{v_{24}}{\\left(t \\right)}\\\\\\operatorname{v_{13}}{\\left(t \\right)} & \\operatorname{v_{23}}{\\left(t \\right)} & \\operatorname{v_{33}}{\\left(t \\right)} & \\operatorname{v_{34}}{\\left(t \\right)}\\\\\\operatorname{v_{14}}{\\left(t \\right)} & \\operatorname{v_{24}}{\\left(t \\right)} & \\operatorname{v_{34}}{\\left(t \\right)} & \\operatorname{v_{44}}{\\left(t \\right)}\\end{matrix}\\right]$"
      ],
      "text/plain": [
       "Matrix([\n",
       "[v11(t), v12(t), v13(t), v14(t)],\n",
       "[v12(t), v22(t), v23(t), v24(t)],\n",
       "[v13(t), v23(t), v33(t), v34(t)],\n",
       "[v14(t), v24(t), v34(t), v44(t)]])"
      ]
     },
     "execution_count": 37,
     "metadata": {},
     "output_type": "execute_result"
    }
   ],
   "source": [
    "V"
   ]
  },
  {
   "cell_type": "code",
   "execution_count": 38,
   "id": "17721fcf",
   "metadata": {
    "scrolled": true
   },
   "outputs": [
    {
     "data": {
      "text/latex": [
       "$\\displaystyle \\left[\\begin{matrix}- 1.0 N_{b} \\gamma - 2.0 g \\operatorname{v_{14}}{\\left(t \\right)} + 1.0 \\gamma \\operatorname{v_{11}}{\\left(t \\right)} - 0.5 \\gamma - 2.0 \\operatorname{v_{13}}{\\left(t \\right)} + 1.0 \\frac{d}{d t} \\operatorname{v_{11}}{\\left(t \\right)} & - g \\operatorname{v_{13}}{\\left(t \\right)} - g \\operatorname{v_{24}}{\\left(t \\right)} + 0.5 \\gamma \\operatorname{v_{12}}{\\left(t \\right)} - \\operatorname{v_{14}}{\\left(t \\right)} - \\operatorname{v_{23}}{\\left(t \\right)} + \\frac{d}{d t} \\operatorname{v_{12}}{\\left(t \\right)} & g \\operatorname{v_{12}}{\\left(t \\right)} - g \\operatorname{v_{34}}{\\left(t \\right)} + \\gamma \\operatorname{v_{13}}{\\left(t \\right)} + \\operatorname{v_{11}}{\\left(t \\right)} - \\operatorname{v_{33}}{\\left(t \\right)} + \\frac{d}{d t} \\operatorname{v_{13}}{\\left(t \\right)} & g \\operatorname{v_{11}}{\\left(t \\right)} - g \\operatorname{v_{44}}{\\left(t \\right)} + 0.5 \\gamma \\operatorname{v_{14}}{\\left(t \\right)} + \\operatorname{v_{12}}{\\left(t \\right)} - \\operatorname{v_{34}}{\\left(t \\right)} + \\frac{d}{d t} \\operatorname{v_{14}}{\\left(t \\right)}\\\\- g \\operatorname{v_{13}}{\\left(t \\right)} - g \\operatorname{v_{24}}{\\left(t \\right)} + 0.5 \\gamma \\operatorname{v_{12}}{\\left(t \\right)} - \\operatorname{v_{14}}{\\left(t \\right)} - \\operatorname{v_{23}}{\\left(t \\right)} + \\frac{d}{d t} \\operatorname{v_{12}}{\\left(t \\right)} & - 2 g \\operatorname{v_{23}}{\\left(t \\right)} - 2 \\operatorname{v_{24}}{\\left(t \\right)} + \\frac{d}{d t} \\operatorname{v_{22}}{\\left(t \\right)} & g \\operatorname{v_{22}}{\\left(t \\right)} - g \\operatorname{v_{33}}{\\left(t \\right)} + 0.5 \\gamma \\operatorname{v_{23}}{\\left(t \\right)} + \\operatorname{v_{12}}{\\left(t \\right)} - \\operatorname{v_{34}}{\\left(t \\right)} + \\frac{d}{d t} \\operatorname{v_{23}}{\\left(t \\right)} & g \\operatorname{v_{12}}{\\left(t \\right)} - g \\operatorname{v_{34}}{\\left(t \\right)} + \\operatorname{v_{22}}{\\left(t \\right)} - \\operatorname{v_{44}}{\\left(t \\right)} + \\frac{d}{d t} \\operatorname{v_{24}}{\\left(t \\right)}\\\\g \\operatorname{v_{12}}{\\left(t \\right)} - g \\operatorname{v_{34}}{\\left(t \\right)} + \\gamma \\operatorname{v_{13}}{\\left(t \\right)} + \\operatorname{v_{11}}{\\left(t \\right)} - \\operatorname{v_{33}}{\\left(t \\right)} + \\frac{d}{d t} \\operatorname{v_{13}}{\\left(t \\right)} & g \\operatorname{v_{22}}{\\left(t \\right)} - g \\operatorname{v_{33}}{\\left(t \\right)} + 0.5 \\gamma \\operatorname{v_{23}}{\\left(t \\right)} + \\operatorname{v_{12}}{\\left(t \\right)} - \\operatorname{v_{34}}{\\left(t \\right)} + \\frac{d}{d t} \\operatorname{v_{23}}{\\left(t \\right)} & - N_{b} \\gamma + 2 g \\operatorname{v_{23}}{\\left(t \\right)} + \\gamma \\operatorname{v_{33}}{\\left(t \\right)} - \\frac{\\gamma}{2} + 2 \\operatorname{v_{13}}{\\left(t \\right)} + \\frac{d}{d t} \\operatorname{v_{33}}{\\left(t \\right)} & g \\operatorname{v_{13}}{\\left(t \\right)} + g \\operatorname{v_{24}}{\\left(t \\right)} + 0.5 \\gamma \\operatorname{v_{34}}{\\left(t \\right)} + \\operatorname{v_{14}}{\\left(t \\right)} + \\operatorname{v_{23}}{\\left(t \\right)} + \\frac{d}{d t} \\operatorname{v_{34}}{\\left(t \\right)}\\\\g \\operatorname{v_{11}}{\\left(t \\right)} - g \\operatorname{v_{44}}{\\left(t \\right)} + 0.5 \\gamma \\operatorname{v_{14}}{\\left(t \\right)} + \\operatorname{v_{12}}{\\left(t \\right)} - \\operatorname{v_{34}}{\\left(t \\right)} + \\frac{d}{d t} \\operatorname{v_{14}}{\\left(t \\right)} & g \\operatorname{v_{12}}{\\left(t \\right)} - g \\operatorname{v_{34}}{\\left(t \\right)} + \\operatorname{v_{22}}{\\left(t \\right)} - \\operatorname{v_{44}}{\\left(t \\right)} + \\frac{d}{d t} \\operatorname{v_{24}}{\\left(t \\right)} & g \\operatorname{v_{13}}{\\left(t \\right)} + g \\operatorname{v_{24}}{\\left(t \\right)} + 0.5 \\gamma \\operatorname{v_{34}}{\\left(t \\right)} + \\operatorname{v_{14}}{\\left(t \\right)} + \\operatorname{v_{23}}{\\left(t \\right)} + \\frac{d}{d t} \\operatorname{v_{34}}{\\left(t \\right)} & 2 g \\operatorname{v_{14}}{\\left(t \\right)} + 2 \\operatorname{v_{24}}{\\left(t \\right)} + \\frac{d}{d t} \\operatorname{v_{44}}{\\left(t \\right)}\\end{matrix}\\right]$"
      ],
      "text/plain": [
       "Matrix([\n",
       "[-1.0*N_b*gamma - 2.0*g*v14(t) + 1.0*gamma*v11(t) - 0.5*gamma - 2.0*v13(t) + 1.0*Derivative(v11(t), t), -g*v13(t) - g*v24(t) + 0.5*gamma*v12(t) - v14(t) - v23(t) + Derivative(v12(t), t),        g*v12(t) - g*v34(t) + gamma*v13(t) + v11(t) - v33(t) + Derivative(v13(t), t), g*v11(t) - g*v44(t) + 0.5*gamma*v14(t) + v12(t) - v34(t) + Derivative(v14(t), t)],\n",
       "[                    -g*v13(t) - g*v24(t) + 0.5*gamma*v12(t) - v14(t) - v23(t) + Derivative(v12(t), t),                                    -2*g*v23(t) - 2*v24(t) + Derivative(v22(t), t),    g*v22(t) - g*v33(t) + 0.5*gamma*v23(t) + v12(t) - v34(t) + Derivative(v23(t), t),                    g*v12(t) - g*v34(t) + v22(t) - v44(t) + Derivative(v24(t), t)],\n",
       "[                         g*v12(t) - g*v34(t) + gamma*v13(t) + v11(t) - v33(t) + Derivative(v13(t), t),  g*v22(t) - g*v33(t) + 0.5*gamma*v23(t) + v12(t) - v34(t) + Derivative(v23(t), t), -N_b*gamma + 2*g*v23(t) + gamma*v33(t) - gamma/2 + 2*v13(t) + Derivative(v33(t), t), g*v13(t) + g*v24(t) + 0.5*gamma*v34(t) + v14(t) + v23(t) + Derivative(v34(t), t)],\n",
       "[                     g*v11(t) - g*v44(t) + 0.5*gamma*v14(t) + v12(t) - v34(t) + Derivative(v14(t), t),                     g*v12(t) - g*v34(t) + v22(t) - v44(t) + Derivative(v24(t), t),    g*v13(t) + g*v24(t) + 0.5*gamma*v34(t) + v14(t) + v23(t) + Derivative(v34(t), t),                                    2*g*v14(t) + 2*v24(t) + Derivative(v44(t), t)]])"
      ]
     },
     "execution_count": 38,
     "metadata": {},
     "output_type": "execute_result"
    }
   ],
   "source": [
    "r=simplify(diff(V,t)-Matrix(A)*Matrix(V)-Matrix(V)*Matrix(A).T-D)\n",
    "simplify(r)"
   ]
  },
  {
   "cell_type": "code",
   "execution_count": 39,
   "id": "af04fdbf",
   "metadata": {},
   "outputs": [
    {
     "data": {
      "text/latex": [
       "$\\displaystyle \\left[\\begin{matrix}\\frac{d}{d t} c{\\left(t \\right)}\\\\- g \\operatorname{p_{2}}{\\left(t \\right)} + 0.5 \\gamma \\operatorname{x_{1}}{\\left(t \\right)} - \\operatorname{p_{1}}{\\left(t \\right)} + \\frac{d}{d t} \\operatorname{x_{1}}{\\left(t \\right)}\\\\- g \\operatorname{p_{1}}{\\left(t \\right)} - \\operatorname{p_{2}}{\\left(t \\right)} + \\frac{d}{d t} \\operatorname{x_{2}}{\\left(t \\right)}\\\\g \\operatorname{x_{2}}{\\left(t \\right)} + 0.5 \\gamma \\operatorname{p_{1}}{\\left(t \\right)} - \\sqrt{2} \\mu c{\\left(t \\right)} e{\\left(t \\right)} + \\operatorname{x_{1}}{\\left(t \\right)} + \\frac{d}{d t} \\operatorname{p_{1}}{\\left(t \\right)}\\\\g \\operatorname{x_{1}}{\\left(t \\right)} + \\operatorname{x_{2}}{\\left(t \\right)} + \\frac{d}{d t} \\operatorname{p_{2}}{\\left(t \\right)}\\end{matrix}\\right]$"
      ],
      "text/plain": [
       "Matrix([\n",
       "[                                                            Derivative(c(t), t)],\n",
       "[                      -g*p2(t) + 0.5*gamma*x1(t) - p1(t) + Derivative(x1(t), t)],\n",
       "[                                        -g*p1(t) - p2(t) + Derivative(x2(t), t)],\n",
       "[g*x2(t) + 0.5*gamma*p1(t) - sqrt(2)*mu*c(t)*e(t) + x1(t) + Derivative(p1(t), t)],\n",
       "[                                         g*x1(t) + x2(t) + Derivative(p2(t), t)]])"
      ]
     },
     "execution_count": 39,
     "metadata": {},
     "output_type": "execute_result"
    }
   ],
   "source": [
    "new_eqs"
   ]
  },
  {
   "cell_type": "code",
   "execution_count": 40,
   "id": "ac1d8450",
   "metadata": {},
   "outputs": [],
   "source": [
    "c_eqs=[r[0,0],r[0,1],r[0,2],r[0,3],r[1,1],r[1,2],r[1,3],r[2,2],r[2,3],r[3,3]]"
   ]
  },
  {
   "cell_type": "code",
   "execution_count": 41,
   "id": "4e53669b",
   "metadata": {},
   "outputs": [
    {
     "data": {
      "text/latex": [
       "$\\displaystyle \\left[\\begin{matrix}0\\\\- g \\operatorname{p_{2}}{\\left(t \\right)} + 0.5 \\gamma \\operatorname{x_{1}}{\\left(t \\right)} - \\operatorname{p_{1}}{\\left(t \\right)}\\\\- g \\operatorname{p_{1}}{\\left(t \\right)} - \\operatorname{p_{2}}{\\left(t \\right)}\\\\g \\operatorname{x_{2}}{\\left(t \\right)} + 0.5 \\gamma \\operatorname{p_{1}}{\\left(t \\right)} - \\sqrt{2} \\mu c{\\left(t \\right)} e{\\left(t \\right)} + \\operatorname{x_{1}}{\\left(t \\right)}\\\\g \\operatorname{x_{1}}{\\left(t \\right)} + \\operatorname{x_{2}}{\\left(t \\right)}\\end{matrix}\\right]$"
      ],
      "text/plain": [
       "Matrix([\n",
       "[                                                       0],\n",
       "[                      -g*p2(t) + 0.5*gamma*x1(t) - p1(t)],\n",
       "[                                        -g*p1(t) - p2(t)],\n",
       "[g*x2(t) + 0.5*gamma*p1(t) - sqrt(2)*mu*c(t)*e(t) + x1(t)],\n",
       "[                                         g*x1(t) + x2(t)]])"
      ]
     },
     "execution_count": 41,
     "metadata": {},
     "output_type": "execute_result"
    }
   ],
   "source": [
    "gaga=new_eqs-vector\n",
    "gaga"
   ]
  },
  {
   "cell_type": "code",
   "execution_count": 42,
   "id": "06cf5500",
   "metadata": {},
   "outputs": [],
   "source": [
    "dx1=diff(x1,t)\n",
    "dx2=diff(x2,t)\n",
    "dp1=diff(p1,t)\n",
    "dp2=diff(p2,t)\n",
    "dc=diff(c,t)\n"
   ]
  },
  {
   "cell_type": "code",
   "execution_count": 43,
   "id": "8b6cf72d",
   "metadata": {},
   "outputs": [],
   "source": [
    "despejadas=[(c_eqs[i]).subs({dc:gaga[0],dx1:gaga[1],dx2:gaga[2],dp1:gaga[3],dp2:gaga[4]}) for i in range(10)]"
   ]
  },
  {
   "cell_type": "code",
   "execution_count": 44,
   "id": "025e7218",
   "metadata": {},
   "outputs": [],
   "source": [
    "despejadas=[despejadas[i].simplify() for i in range(10)]"
   ]
  },
  {
   "cell_type": "code",
   "execution_count": 45,
   "id": "6dae939d",
   "metadata": {},
   "outputs": [],
   "source": [
    "#eqs=list(to_symbols(sol.subs(diff(c,t),0)))\n",
    "#t=sympy.linear_eq_to_matrix(eqs, [c1,x11,x12,p11,p12])[0]\n",
    "#t2=sympy.linear_eq_to_matrix(eqs, [c1,x11,x12,p11,p12])[1]\n"
   ]
  },
  {
   "cell_type": "code",
   "execution_count": 46,
   "id": "5c8e52af",
   "metadata": {},
   "outputs": [
    {
     "data": {
      "text/plain": [
       "[1.00000000000000, 1, 1, 1, 1, 1, 1, 1, 1, 1]"
      ]
     },
     "execution_count": 46,
     "metadata": {},
     "output_type": "execute_result"
    }
   ],
   "source": [
    "covariance=[v11,v12,v13,v14,v22,v23,v24,v33,v34,v44]\n",
    "coeffs=[(Matrix(despejadas).expand()[i]).collect(diff(covariance[i],t)).coeff(diff(covariance[i],t)) for i in range(len(despejadas))]\n",
    "coeffs"
   ]
  },
  {
   "cell_type": "code",
   "execution_count": 47,
   "id": "37648175",
   "metadata": {},
   "outputs": [],
   "source": [
    "despeje=[diff(covariance[i],t)*coeffs[i] for i in range(len(covariance))]"
   ]
  },
  {
   "cell_type": "code",
   "execution_count": 48,
   "id": "a48eb340",
   "metadata": {},
   "outputs": [
    {
     "data": {
      "text/latex": [
       "$\\displaystyle \\left[\\begin{matrix}- 1.0 N_{b} \\gamma - 2.0 g \\operatorname{v_{14}}{\\left(t \\right)} + 1.0 \\gamma \\operatorname{v_{11}}{\\left(t \\right)} - 0.5 \\gamma - 2.0 \\operatorname{v_{13}}{\\left(t \\right)}\\\\- g \\operatorname{v_{13}}{\\left(t \\right)} - g \\operatorname{v_{24}}{\\left(t \\right)} + 0.5 \\gamma \\operatorname{v_{12}}{\\left(t \\right)} - \\operatorname{v_{14}}{\\left(t \\right)} - \\operatorname{v_{23}}{\\left(t \\right)}\\\\g \\operatorname{v_{12}}{\\left(t \\right)} - g \\operatorname{v_{34}}{\\left(t \\right)} + \\gamma \\operatorname{v_{13}}{\\left(t \\right)} + \\operatorname{v_{11}}{\\left(t \\right)} - \\operatorname{v_{33}}{\\left(t \\right)}\\\\g \\operatorname{v_{11}}{\\left(t \\right)} - g \\operatorname{v_{44}}{\\left(t \\right)} + 0.5 \\gamma \\operatorname{v_{14}}{\\left(t \\right)} + \\operatorname{v_{12}}{\\left(t \\right)} - \\operatorname{v_{34}}{\\left(t \\right)}\\\\- 2 g \\operatorname{v_{23}}{\\left(t \\right)} - 2 \\operatorname{v_{24}}{\\left(t \\right)}\\\\g \\operatorname{v_{22}}{\\left(t \\right)} - g \\operatorname{v_{33}}{\\left(t \\right)} + 0.5 \\gamma \\operatorname{v_{23}}{\\left(t \\right)} + \\operatorname{v_{12}}{\\left(t \\right)} - \\operatorname{v_{34}}{\\left(t \\right)}\\\\g \\operatorname{v_{12}}{\\left(t \\right)} - g \\operatorname{v_{34}}{\\left(t \\right)} + \\operatorname{v_{22}}{\\left(t \\right)} - \\operatorname{v_{44}}{\\left(t \\right)}\\\\- N_{b} \\gamma + 2 g \\operatorname{v_{23}}{\\left(t \\right)} + \\gamma \\operatorname{v_{33}}{\\left(t \\right)} - \\frac{\\gamma}{2} + 2 \\operatorname{v_{13}}{\\left(t \\right)}\\\\g \\operatorname{v_{13}}{\\left(t \\right)} + g \\operatorname{v_{24}}{\\left(t \\right)} + 0.5 \\gamma \\operatorname{v_{34}}{\\left(t \\right)} + \\operatorname{v_{14}}{\\left(t \\right)} + \\operatorname{v_{23}}{\\left(t \\right)}\\\\2 g \\operatorname{v_{14}}{\\left(t \\right)} + 2 \\operatorname{v_{24}}{\\left(t \\right)}\\end{matrix}\\right]$"
      ],
      "text/plain": [
       "Matrix([\n",
       "[-1.0*N_b*gamma - 2.0*g*v14(t) + 1.0*gamma*v11(t) - 0.5*gamma - 2.0*v13(t)],\n",
       "[                -g*v13(t) - g*v24(t) + 0.5*gamma*v12(t) - v14(t) - v23(t)],\n",
       "[                     g*v12(t) - g*v34(t) + gamma*v13(t) + v11(t) - v33(t)],\n",
       "[                 g*v11(t) - g*v44(t) + 0.5*gamma*v14(t) + v12(t) - v34(t)],\n",
       "[                                                   -2*g*v23(t) - 2*v24(t)],\n",
       "[                 g*v22(t) - g*v33(t) + 0.5*gamma*v23(t) + v12(t) - v34(t)],\n",
       "[                                    g*v12(t) - g*v34(t) + v22(t) - v44(t)],\n",
       "[              -N_b*gamma + 2*g*v23(t) + gamma*v33(t) - gamma/2 + 2*v13(t)],\n",
       "[                 g*v13(t) + g*v24(t) + 0.5*gamma*v34(t) + v14(t) + v23(t)],\n",
       "[                                                    2*g*v14(t) + 2*v24(t)]])"
      ]
     },
     "execution_count": 48,
     "metadata": {},
     "output_type": "execute_result"
    }
   ],
   "source": [
    "kara=simplify(Matrix(despejadas).expand()-Matrix(despeje))\n",
    "kara"
   ]
  },
  {
   "cell_type": "code",
   "execution_count": 49,
   "id": "0c7ac9fd",
   "metadata": {},
   "outputs": [],
   "source": [
    "v111,v112,v113,v114 = symbols('v_11:15')\n",
    "v122,v123,v124 = symbols('v_22:25')\n",
    "v133,v134=symbols('v_33 v_34')\n",
    "v144=symbols('v_44')"
   ]
  },
  {
   "cell_type": "code",
   "execution_count": 50,
   "id": "18ac268c",
   "metadata": {},
   "outputs": [],
   "source": [
    "subsss={v11:v111,v12:v112,v13:v113,v14:v114,v22:v122,v23:v123,v24:v124,v33:v133,v34:v134,v44:v144,diff(c1,t):0,(c1**2):c1}"
   ]
  },
  {
   "cell_type": "code",
   "execution_count": 51,
   "id": "2a0c8902",
   "metadata": {},
   "outputs": [
    {
     "data": {
      "text/latex": [
       "$\\displaystyle \\left[\\begin{matrix}- 1.0 N_{b} \\gamma - 2.0 g v_{14} + 1.0 \\gamma v_{11} - 0.5 \\gamma - 2.0 v_{13}\\\\- g v_{13} - g v_{24} + 0.5 \\gamma v_{12} - v_{14} - v_{23}\\\\g v_{12} - g v_{34} + \\gamma v_{13} + v_{11} - v_{33}\\\\g v_{11} - g v_{44} + 0.5 \\gamma v_{14} + v_{12} - v_{34}\\\\- 2 g v_{23} - 2 v_{24}\\\\g v_{22} - g v_{33} + 0.5 \\gamma v_{23} + v_{12} - v_{34}\\\\g v_{12} - g v_{34} + v_{22} - v_{44}\\\\- N_{b} \\gamma + 2 g v_{23} + \\gamma v_{33} - \\frac{\\gamma}{2} + 2 v_{13}\\\\g v_{13} + g v_{24} + 0.5 \\gamma v_{34} + v_{14} + v_{23}\\\\2 g v_{14} + 2 v_{24}\\end{matrix}\\right]$"
      ],
      "text/plain": [
       "Matrix([\n",
       "[-1.0*N_b*gamma - 2.0*g*v_14 + 1.0*gamma*v_11 - 0.5*gamma - 2.0*v_13],\n",
       "[                    -g*v_13 - g*v_24 + 0.5*gamma*v_12 - v_14 - v_23],\n",
       "[                         g*v_12 - g*v_34 + gamma*v_13 + v_11 - v_33],\n",
       "[                     g*v_11 - g*v_44 + 0.5*gamma*v_14 + v_12 - v_34],\n",
       "[                                                 -2*g*v_23 - 2*v_24],\n",
       "[                     g*v_22 - g*v_33 + 0.5*gamma*v_23 + v_12 - v_34],\n",
       "[                                      g*v_12 - g*v_34 + v_22 - v_44],\n",
       "[              -N_b*gamma + 2*g*v_23 + gamma*v_33 - gamma/2 + 2*v_13],\n",
       "[                     g*v_13 + g*v_24 + 0.5*gamma*v_34 + v_14 + v_23],\n",
       "[                                                  2*g*v_14 + 2*v_24]])"
      ]
     },
     "execution_count": 51,
     "metadata": {},
     "output_type": "execute_result"
    }
   ],
   "source": [
    "to_symbols(kara.subs(subsss))"
   ]
  },
  {
   "cell_type": "code",
   "execution_count": 52,
   "id": "5d4f9ffb",
   "metadata": {},
   "outputs": [
    {
     "data": {
      "text/latex": [
       "$\\displaystyle \\left[\\begin{matrix}\\frac{d}{d t} c{\\left(t \\right)}\\\\\\frac{d}{d t} \\operatorname{x_{1}}{\\left(t \\right)}\\\\\\frac{d}{d t} \\operatorname{x_{2}}{\\left(t \\right)}\\\\\\frac{d}{d t} \\operatorname{p_{1}}{\\left(t \\right)}\\\\\\frac{d}{d t} \\operatorname{p_{2}}{\\left(t \\right)}\\\\\\frac{d}{d t} \\operatorname{v_{11}}{\\left(t \\right)}\\\\\\frac{d}{d t} \\operatorname{v_{12}}{\\left(t \\right)}\\\\\\frac{d}{d t} \\operatorname{v_{13}}{\\left(t \\right)}\\\\\\frac{d}{d t} \\operatorname{v_{14}}{\\left(t \\right)}\\\\\\frac{d}{d t} \\operatorname{v_{22}}{\\left(t \\right)}\\\\\\frac{d}{d t} \\operatorname{v_{23}}{\\left(t \\right)}\\\\\\frac{d}{d t} \\operatorname{v_{24}}{\\left(t \\right)}\\\\\\frac{d}{d t} \\operatorname{v_{33}}{\\left(t \\right)}\\\\\\frac{d}{d t} \\operatorname{v_{34}}{\\left(t \\right)}\\\\\\frac{d}{d t} \\operatorname{v_{44}}{\\left(t \\right)}\\end{matrix}\\right]$"
      ],
      "text/plain": [
       "Matrix([\n",
       "[  Derivative(c(t), t)],\n",
       "[ Derivative(x1(t), t)],\n",
       "[ Derivative(x2(t), t)],\n",
       "[ Derivative(p1(t), t)],\n",
       "[ Derivative(p2(t), t)],\n",
       "[Derivative(v11(t), t)],\n",
       "[Derivative(v12(t), t)],\n",
       "[Derivative(v13(t), t)],\n",
       "[Derivative(v14(t), t)],\n",
       "[Derivative(v22(t), t)],\n",
       "[Derivative(v23(t), t)],\n",
       "[Derivative(v24(t), t)],\n",
       "[Derivative(v33(t), t)],\n",
       "[Derivative(v34(t), t)],\n",
       "[Derivative(v44(t), t)]])"
      ]
     },
     "execution_count": 52,
     "metadata": {},
     "output_type": "execute_result"
    }
   ],
   "source": [
    "full_dvect=Matrix(list(vector)+list(diff(Matrix(covariance),t)))\n",
    "full_dvect"
   ]
  },
  {
   "cell_type": "code",
   "execution_count": 53,
   "id": "515b8f65",
   "metadata": {},
   "outputs": [
    {
     "data": {
      "text/latex": [
       "$\\displaystyle \\left[\\begin{matrix}c\\\\x_{1}\\\\x_{2}\\\\p_{1}\\\\p_{2}\\\\v_{11}\\\\v_{12}\\\\v_{13}\\\\v_{14}\\\\v_{22}\\\\v_{23}\\\\v_{24}\\\\v_{33}\\\\v_{34}\\\\v_{44}\\end{matrix}\\right]$"
      ],
      "text/plain": [
       "Matrix([\n",
       "[   c],\n",
       "[  x1],\n",
       "[  x2],\n",
       "[  p1],\n",
       "[  p2],\n",
       "[v_11],\n",
       "[v_12],\n",
       "[v_13],\n",
       "[v_14],\n",
       "[v_22],\n",
       "[v_23],\n",
       "[v_24],\n",
       "[v_33],\n",
       "[v_34],\n",
       "[v_44]])"
      ]
     },
     "execution_count": 53,
     "metadata": {},
     "output_type": "execute_result"
    }
   ],
   "source": [
    "full_vect=Matrix([c1,x11,x12,p11,p12,v111,v112,v113,v114,v122,v123,v124,v133,v134,v144])\n",
    "full_vect"
   ]
  },
  {
   "cell_type": "code",
   "execution_count": 54,
   "id": "46502dff",
   "metadata": {},
   "outputs": [],
   "source": [
    "full_eqs=Matrix(list(to_symbols(sol))+list(to_symbols(kara.subs(subsss))))"
   ]
  },
  {
   "cell_type": "code",
   "execution_count": 55,
   "id": "2960e1f7",
   "metadata": {},
   "outputs": [
    {
     "data": {
      "text/latex": [
       "$\\displaystyle \\left[\\begin{matrix}0\\\\- g p_{2} + 0.5 \\gamma x_{1} - p_{1}\\\\- g p_{1} - p_{2}\\\\- \\sqrt{2} c e \\mu + g x_{2} + 0.5 \\gamma p_{1} + x_{1}\\\\g x_{1} + x_{2}\\\\- 1.0 N_{b} c \\gamma - 2.0 g v_{14} + 1.0 \\gamma v_{11} - 0.5 \\gamma - 2.0 v_{13}\\\\- g v_{13} - g v_{24} + 0.5 \\gamma v_{12} - v_{14} - v_{23}\\\\g v_{12} - g v_{34} + \\gamma v_{13} + v_{11} - v_{33}\\\\g v_{11} - g v_{44} + 0.5 \\gamma v_{14} + v_{12} - v_{34}\\\\- 2 g v_{23} - 2 v_{24}\\\\g v_{22} - g v_{33} + 0.5 \\gamma v_{23} + v_{12} - v_{34}\\\\g v_{12} - g v_{34} + v_{22} - v_{44}\\\\- N_{b} c \\gamma + 2 g v_{23} + \\gamma v_{33} - \\frac{\\gamma}{2} + 2 v_{13}\\\\g v_{13} + g v_{24} + 0.5 \\gamma v_{34} + v_{14} + v_{23}\\\\2 g v_{14} + 2 v_{24}\\end{matrix}\\right]$"
      ],
      "text/plain": [
       "Matrix([\n",
       "[                                                                    0],\n",
       "[                                            -g*p2 + 0.5*gamma*x1 - p1],\n",
       "[                                                           -g*p1 - p2],\n",
       "[                           -sqrt(2)*c*e*mu + g*x2 + 0.5*gamma*p1 + x1],\n",
       "[                                                            g*x1 + x2],\n",
       "[-1.0*N_b*c*gamma - 2.0*g*v_14 + 1.0*gamma*v_11 - 0.5*gamma - 2.0*v_13],\n",
       "[                      -g*v_13 - g*v_24 + 0.5*gamma*v_12 - v_14 - v_23],\n",
       "[                           g*v_12 - g*v_34 + gamma*v_13 + v_11 - v_33],\n",
       "[                       g*v_11 - g*v_44 + 0.5*gamma*v_14 + v_12 - v_34],\n",
       "[                                                   -2*g*v_23 - 2*v_24],\n",
       "[                       g*v_22 - g*v_33 + 0.5*gamma*v_23 + v_12 - v_34],\n",
       "[                                        g*v_12 - g*v_34 + v_22 - v_44],\n",
       "[              -N_b*c*gamma + 2*g*v_23 + gamma*v_33 - gamma/2 + 2*v_13],\n",
       "[                       g*v_13 + g*v_24 + 0.5*gamma*v_34 + v_14 + v_23],\n",
       "[                                                    2*g*v_14 + 2*v_24]])"
      ]
     },
     "execution_count": 55,
     "metadata": {},
     "output_type": "execute_result"
    }
   ],
   "source": [
    "tocheck=[full_eqs[i].expand().subs(Nb,Nb*c1).subs(c1**2,c1).subs(c1*x12,x12).subs(c1*x11,x11).subs(c1*p11,p11).subs(c1*p12,p12) for i in range(len(full_eqs))]\n",
    "Matrix(tocheck)"
   ]
  },
  {
   "cell_type": "code",
   "execution_count": 56,
   "id": "20eb86f5",
   "metadata": {},
   "outputs": [
    {
     "data": {
      "text/plain": [
       "15"
      ]
     },
     "execution_count": 56,
     "metadata": {},
     "output_type": "execute_result"
    }
   ],
   "source": [
    "len(tocheck)"
   ]
  },
  {
   "cell_type": "code",
   "execution_count": 57,
   "id": "78901307",
   "metadata": {},
   "outputs": [],
   "source": [
    "t=sympy.linear_eq_to_matrix(tocheck, list(full_vect))[0]\n",
    "t2=sympy.linear_eq_to_matrix(tocheck, list(full_vect))[1]"
   ]
  },
  {
   "cell_type": "code",
   "execution_count": 58,
   "id": "abdec6a3",
   "metadata": {},
   "outputs": [
    {
     "data": {
      "text/latex": [
       "$\\displaystyle \\left[\\begin{matrix}\\frac{d}{d t} c{\\left(t \\right)}\\\\\\frac{d}{d t} \\operatorname{x_{1}}{\\left(t \\right)}\\\\\\frac{d}{d t} \\operatorname{x_{2}}{\\left(t \\right)}\\\\\\frac{d}{d t} \\operatorname{p_{1}}{\\left(t \\right)}\\\\\\frac{d}{d t} \\operatorname{p_{2}}{\\left(t \\right)}\\end{matrix}\\right]$"
      ],
      "text/plain": [
       "Matrix([\n",
       "[ Derivative(c(t), t)],\n",
       "[Derivative(x1(t), t)],\n",
       "[Derivative(x2(t), t)],\n",
       "[Derivative(p1(t), t)],\n",
       "[Derivative(p2(t), t)]])"
      ]
     },
     "execution_count": 58,
     "metadata": {},
     "output_type": "execute_result"
    }
   ],
   "source": [
    "vector\n"
   ]
  },
  {
   "cell_type": "code",
   "execution_count": 59,
   "id": "4ff0a2b2",
   "metadata": {},
   "outputs": [
    {
     "data": {
      "text/latex": [
       "$\\displaystyle \\left[\\begin{matrix}0\\\\- g \\operatorname{p_{2}}{\\left(t \\right)} + 0.5 \\gamma \\operatorname{x_{1}}{\\left(t \\right)} - \\operatorname{p_{1}}{\\left(t \\right)}\\\\- g \\operatorname{p_{1}}{\\left(t \\right)} - \\operatorname{p_{2}}{\\left(t \\right)}\\\\g \\operatorname{x_{2}}{\\left(t \\right)} + 0.5 \\gamma \\operatorname{p_{1}}{\\left(t \\right)} - \\sqrt{2} \\mu c{\\left(t \\right)} e{\\left(t \\right)} + \\operatorname{x_{1}}{\\left(t \\right)}\\\\g \\operatorname{x_{1}}{\\left(t \\right)} + \\operatorname{x_{2}}{\\left(t \\right)}\\end{matrix}\\right]$"
      ],
      "text/plain": [
       "Matrix([\n",
       "[                                                       0],\n",
       "[                      -g*p2(t) + 0.5*gamma*x1(t) - p1(t)],\n",
       "[                                        -g*p1(t) - p2(t)],\n",
       "[g*x2(t) + 0.5*gamma*p1(t) - sqrt(2)*mu*c(t)*e(t) + x1(t)],\n",
       "[                                         g*x1(t) + x2(t)]])"
      ]
     },
     "execution_count": 59,
     "metadata": {},
     "output_type": "execute_result"
    }
   ],
   "source": [
    "sol"
   ]
  },
  {
   "cell_type": "code",
   "execution_count": 60,
   "id": "2a1faf4c",
   "metadata": {},
   "outputs": [
    {
     "data": {
      "text/latex": [
       "$\\displaystyle v_{24}$"
      ],
      "text/plain": [
       "v_24"
      ]
     },
     "execution_count": 60,
     "metadata": {},
     "output_type": "execute_result"
    }
   ],
   "source": [
    "full_vect[11]"
   ]
  },
  {
   "cell_type": "code",
   "execution_count": 61,
   "id": "772e6861",
   "metadata": {},
   "outputs": [
    {
     "data": {
      "text/latex": [
       "$\\displaystyle g v_{12} - g v_{34} - v_{44}$"
      ],
      "text/plain": [
       "g*v_12 - g*v_34 - v_44"
      ]
     },
     "execution_count": 61,
     "metadata": {},
     "output_type": "execute_result"
    }
   ],
   "source": [
    "((t*full_vect)[11]).subs({p12:0,x11:0,p11:0,v122:0,x12:0,v114:0,v124:0}).subs({e1:e,de1:de}).factor()"
   ]
  },
  {
   "cell_type": "code",
   "execution_count": 62,
   "id": "f466b8fd",
   "metadata": {},
   "outputs": [
    {
     "data": {
      "text/latex": [
       "$\\displaystyle g \\operatorname{v_{12}}{\\left(t \\right)} - g \\operatorname{v_{34}}{\\left(t \\right)} - \\operatorname{v_{44}}{\\left(t \\right)}$"
      ],
      "text/plain": [
       "g*v12(t) - g*v34(t) - v44(t)"
      ]
     },
     "execution_count": 62,
     "metadata": {},
     "output_type": "execute_result"
    }
   ],
   "source": [
    "ricard=r[1,3].subs(vector[4],sol[4]).expand().collect(covariance[4]).collect(p1).collect(p2).subs(c*x1,x1).collect(x1).subs(c*x2,x2).collect(x2).collect(v12).subs(vector[0],0).subs(c**2,c).collect(c)\n",
    "simplify(ricard.subs({p2:0,x1:0,p1:0,full_dvect[11]:0,v22:0,x2:0,v14:0,v24:0})).expand().factor()"
   ]
  },
  {
   "cell_type": "code",
   "execution_count": 63,
   "id": "424d89da",
   "metadata": {},
   "outputs": [],
   "source": [
    "lista=[]\n",
    "for i in range(15):\n",
    "    dummy=[simplify(t[i,j].subs({e1:e,de1:de})) for j in range(15)]\n",
    "    lista.append(dummy)"
   ]
  },
  {
   "cell_type": "code",
   "execution_count": 64,
   "id": "c9a0da8c",
   "metadata": {},
   "outputs": [
    {
     "data": {
      "text/latex": [
       "$\\displaystyle \\left[\\begin{array}{ccccccccccccccc}0 & 0 & 0 & 0 & 0 & 0 & 0 & 0 & 0 & 0 & 0 & 0 & 0 & 0 & 0\\\\0 & 0.5 \\gamma & 0 & -1 & - g & 0 & 0 & 0 & 0 & 0 & 0 & 0 & 0 & 0 & 0\\\\0 & 0 & 0 & - g & -1 & 0 & 0 & 0 & 0 & 0 & 0 & 0 & 0 & 0 & 0\\\\- \\sqrt{2} \\mu e{\\left(t \\right)} & 1 & g & 0.5 \\gamma & 0 & 0 & 0 & 0 & 0 & 0 & 0 & 0 & 0 & 0 & 0\\\\0 & g & 1 & 0 & 0 & 0 & 0 & 0 & 0 & 0 & 0 & 0 & 0 & 0 & 0\\\\- 1.0 N_{b} \\gamma & 0 & 0 & 0 & 0 & 1.0 \\gamma & 0 & -2.0 & - 2.0 g & 0 & 0 & 0 & 0 & 0 & 0\\\\0 & 0 & 0 & 0 & 0 & 0 & 0.5 \\gamma & - g & -1 & 0 & -1 & - g & 0 & 0 & 0\\\\0 & 0 & 0 & 0 & 0 & 1 & g & \\gamma & 0 & 0 & 0 & 0 & -1 & - g & 0\\\\0 & 0 & 0 & 0 & 0 & g & 1 & 0 & 0.5 \\gamma & 0 & 0 & 0 & 0 & -1 & - g\\\\0 & 0 & 0 & 0 & 0 & 0 & 0 & 0 & 0 & 0 & - 2 g & -2 & 0 & 0 & 0\\\\0 & 0 & 0 & 0 & 0 & 0 & 1 & 0 & 0 & g & 0.5 \\gamma & 0 & - g & -1 & 0\\\\0 & 0 & 0 & 0 & 0 & 0 & g & 0 & 0 & 1 & 0 & 0 & 0 & - g & -1\\\\- N_{b} \\gamma & 0 & 0 & 0 & 0 & 0 & 0 & 2 & 0 & 0 & 2 g & 0 & \\gamma & 0 & 0\\\\0 & 0 & 0 & 0 & 0 & 0 & 0 & g & 1 & 0 & 1 & g & 0 & 0.5 \\gamma & 0\\\\0 & 0 & 0 & 0 & 0 & 0 & 0 & 0 & 2 g & 0 & 0 & 2 & 0 & 0 & 0\\end{array}\\right]$"
      ],
      "text/plain": [
       "Matrix([\n",
       "[               0,         0, 0,         0,  0,         0,         0,     0,         0, 0,         0,  0,     0,         0,  0],\n",
       "[               0, 0.5*gamma, 0,        -1, -g,         0,         0,     0,         0, 0,         0,  0,     0,         0,  0],\n",
       "[               0,         0, 0,        -g, -1,         0,         0,     0,         0, 0,         0,  0,     0,         0,  0],\n",
       "[-sqrt(2)*mu*e(t),         1, g, 0.5*gamma,  0,         0,         0,     0,         0, 0,         0,  0,     0,         0,  0],\n",
       "[               0,         g, 1,         0,  0,         0,         0,     0,         0, 0,         0,  0,     0,         0,  0],\n",
       "[  -1.0*N_b*gamma,         0, 0,         0,  0, 1.0*gamma,         0,  -2.0,    -2.0*g, 0,         0,  0,     0,         0,  0],\n",
       "[               0,         0, 0,         0,  0,         0, 0.5*gamma,    -g,        -1, 0,        -1, -g,     0,         0,  0],\n",
       "[               0,         0, 0,         0,  0,         1,         g, gamma,         0, 0,         0,  0,    -1,        -g,  0],\n",
       "[               0,         0, 0,         0,  0,         g,         1,     0, 0.5*gamma, 0,         0,  0,     0,        -1, -g],\n",
       "[               0,         0, 0,         0,  0,         0,         0,     0,         0, 0,      -2*g, -2,     0,         0,  0],\n",
       "[               0,         0, 0,         0,  0,         0,         1,     0,         0, g, 0.5*gamma,  0,    -g,        -1,  0],\n",
       "[               0,         0, 0,         0,  0,         0,         g,     0,         0, 1,         0,  0,     0,        -g, -1],\n",
       "[      -N_b*gamma,         0, 0,         0,  0,         0,         0,     2,         0, 0,       2*g,  0, gamma,         0,  0],\n",
       "[               0,         0, 0,         0,  0,         0,         0,     g,         1, 0,         1,  g,     0, 0.5*gamma,  0],\n",
       "[               0,         0, 0,         0,  0,         0,         0,     0,       2*g, 0,         0,  2,     0,         0,  0]])"
      ]
     },
     "execution_count": 64,
     "metadata": {},
     "output_type": "execute_result"
    }
   ],
   "source": [
    "matriz=Matrix(lista)\n",
    "matriz"
   ]
  },
  {
   "cell_type": "code",
   "execution_count": 65,
   "id": "1d8bfa11",
   "metadata": {},
   "outputs": [
    {
     "data": {
      "text/latex": [
       "$\\displaystyle \\left[\\begin{array}{ccccccccccccccc}0 & 0 & 0 & 0 & 0 & 0 & 0 & 0 & 0 & 0 & 0 & 0 & 0 & 0 & 0\\\\0 & 0.5 \\gamma & 0 & -1 & - g & 0 & 0 & 0 & 0 & 0 & 0 & 0 & 0 & 0 & 0\\\\0 & 0 & 0 & - g & -1 & 0 & 0 & 0 & 0 & 0 & 0 & 0 & 0 & 0 & 0\\\\- \\sqrt{2} \\mu e{\\left(t \\right)} & 1 & g & 0.5 \\gamma & 0 & 0 & 0 & 0 & 0 & 0 & 0 & 0 & 0 & 0 & 0\\\\0 & g & 1 & 0 & 0 & 0 & 0 & 0 & 0 & 0 & 0 & 0 & 0 & 0 & 0\\\\- 1.0 N_{b} \\gamma - \\frac{\\gamma}{2} & 0 & 0 & 0 & 0 & 1.0 \\gamma & 0 & -2.0 & - 2.0 g & 0 & 0 & 0 & 0 & 0 & 0\\\\0 & 0 & 0 & 0 & 0 & 0 & 0.5 \\gamma & - g & -1 & 0 & -1 & - g & 0 & 0 & 0\\\\0 & 0 & 0 & 0 & 0 & 1 & g & \\gamma & 0 & 0 & 0 & 0 & -1 & - g & 0\\\\0 & 0 & 0 & 0 & 0 & g & 1 & 0 & 0.5 \\gamma & 0 & 0 & 0 & 0 & -1 & - g\\\\0 & 0 & 0 & 0 & 0 & 0 & 0 & 0 & 0 & 0 & - 2 g & -2 & 0 & 0 & 0\\\\0 & 0 & 0 & 0 & 0 & 0 & 1 & 0 & 0 & g & 0.5 \\gamma & 0 & - g & -1 & 0\\\\0 & 0 & 0 & 0 & 0 & 0 & g & 0 & 0 & 1 & 0 & 0 & 0 & - g & -1\\\\- N_{b} \\gamma - \\frac{\\gamma}{2} & 0 & 0 & 0 & 0 & 0 & 0 & 2 & 0 & 0 & 2 g & 0 & \\gamma & 0 & 0\\\\0 & 0 & 0 & 0 & 0 & 0 & 0 & g & 1 & 0 & 1 & g & 0 & 0.5 \\gamma & 0\\\\0 & 0 & 0 & 0 & 0 & 0 & 0 & 0 & 2 g & 0 & 0 & 2 & 0 & 0 & 0\\end{array}\\right]$"
      ],
      "text/plain": [
       "Matrix([\n",
       "[                       0,         0, 0,         0,  0,         0,         0,     0,         0, 0,         0,  0,     0,         0,  0],\n",
       "[                       0, 0.5*gamma, 0,        -1, -g,         0,         0,     0,         0, 0,         0,  0,     0,         0,  0],\n",
       "[                       0,         0, 0,        -g, -1,         0,         0,     0,         0, 0,         0,  0,     0,         0,  0],\n",
       "[        -sqrt(2)*mu*e(t),         1, g, 0.5*gamma,  0,         0,         0,     0,         0, 0,         0,  0,     0,         0,  0],\n",
       "[                       0,         g, 1,         0,  0,         0,         0,     0,         0, 0,         0,  0,     0,         0,  0],\n",
       "[-1.0*N_b*gamma - gamma/2,         0, 0,         0,  0, 1.0*gamma,         0,  -2.0,    -2.0*g, 0,         0,  0,     0,         0,  0],\n",
       "[                       0,         0, 0,         0,  0,         0, 0.5*gamma,    -g,        -1, 0,        -1, -g,     0,         0,  0],\n",
       "[                       0,         0, 0,         0,  0,         1,         g, gamma,         0, 0,         0,  0,    -1,        -g,  0],\n",
       "[                       0,         0, 0,         0,  0,         g,         1,     0, 0.5*gamma, 0,         0,  0,     0,        -1, -g],\n",
       "[                       0,         0, 0,         0,  0,         0,         0,     0,         0, 0,      -2*g, -2,     0,         0,  0],\n",
       "[                       0,         0, 0,         0,  0,         0,         1,     0,         0, g, 0.5*gamma,  0,    -g,        -1,  0],\n",
       "[                       0,         0, 0,         0,  0,         0,         g,     0,         0, 1,         0,  0,     0,        -g, -1],\n",
       "[    -N_b*gamma - gamma/2,         0, 0,         0,  0,         0,         0,     2,         0, 0,       2*g,  0, gamma,         0,  0],\n",
       "[                       0,         0, 0,         0,  0,         0,         0,     g,         1, 0,         1,  g,     0, 0.5*gamma,  0],\n",
       "[                       0,         0, 0,         0,  0,         0,         0,     0,       2*g, 0,         0,  2,     0,         0,  0]])"
      ]
     },
     "execution_count": 65,
     "metadata": {},
     "output_type": "execute_result"
    }
   ],
   "source": [
    "matriz[5,0]+=-gamma/2\n",
    "matriz[12,0]+=-gamma/2\n",
    "matriz"
   ]
  },
  {
   "cell_type": "code",
   "execution_count": 66,
   "id": "7c60ae08",
   "metadata": {},
   "outputs": [
    {
     "data": {
      "text/latex": [
       "$\\displaystyle \\left[\\begin{matrix}1.0 \\gamma & 0 & -2.0 & - 2.0 g & 0 & 0 & 0 & 0 & 0 & 0\\\\0 & 0.5 \\gamma & - g & -1 & 0 & -1 & - g & 0 & 0 & 0\\\\1 & g & \\gamma & 0 & 0 & 0 & 0 & -1 & - g & 0\\\\g & 1 & 0 & 0.5 \\gamma & 0 & 0 & 0 & 0 & -1 & - g\\\\0 & 0 & 0 & 0 & 0 & - 2 g & -2 & 0 & 0 & 0\\\\0 & 1 & 0 & 0 & g & 0.5 \\gamma & 0 & - g & -1 & 0\\\\0 & g & 0 & 0 & 1 & 0 & 0 & 0 & - g & -1\\\\0 & 0 & 2 & 0 & 0 & 2 g & 0 & \\gamma & 0 & 0\\\\0 & 0 & g & 1 & 0 & 1 & g & 0 & 0.5 \\gamma & 0\\\\0 & 0 & 0 & 2 g & 0 & 0 & 2 & 0 & 0 & 0\\end{matrix}\\right]$"
      ],
      "text/plain": [
       "Matrix([\n",
       "[1.0*gamma,         0,  -2.0,    -2.0*g, 0,         0,  0,     0,         0,  0],\n",
       "[        0, 0.5*gamma,    -g,        -1, 0,        -1, -g,     0,         0,  0],\n",
       "[        1,         g, gamma,         0, 0,         0,  0,    -1,        -g,  0],\n",
       "[        g,         1,     0, 0.5*gamma, 0,         0,  0,     0,        -1, -g],\n",
       "[        0,         0,     0,         0, 0,      -2*g, -2,     0,         0,  0],\n",
       "[        0,         1,     0,         0, g, 0.5*gamma,  0,    -g,        -1,  0],\n",
       "[        0,         g,     0,         0, 1,         0,  0,     0,        -g, -1],\n",
       "[        0,         0,     2,         0, 0,       2*g,  0, gamma,         0,  0],\n",
       "[        0,         0,     g,         1, 0,         1,  g,     0, 0.5*gamma,  0],\n",
       "[        0,         0,     0,       2*g, 0,         0,  2,     0,         0,  0]])"
      ]
     },
     "execution_count": 66,
     "metadata": {},
     "output_type": "execute_result"
    }
   ],
   "source": [
    "t0=Symbol(\"t0\")\n",
    "A=matriz[5:,5:]\n",
    "A"
   ]
  },
  {
   "cell_type": "code",
   "execution_count": 67,
   "id": "0c6d6086",
   "metadata": {},
   "outputs": [
    {
     "data": {
      "text/latex": [
       "$\\displaystyle \\left[\\begin{matrix}0\\\\- g p_{2} + 0.5 \\gamma x_{1} - p_{1}\\\\- g p_{1} - p_{2}\\\\- \\sqrt{2} c \\mu e{\\left(t \\right)} + g x_{2} + 0.5 \\gamma p_{1} + x_{1}\\\\g x_{1} + x_{2}\\\\c \\left(- 1.0 N_{b} \\gamma - \\frac{\\gamma}{2}\\right) - 2.0 g v_{14} + 1.0 \\gamma v_{11} - 2.0 v_{13}\\\\- g v_{13} - g v_{24} + 0.5 \\gamma v_{12} - v_{14} - v_{23}\\\\g v_{12} - g v_{34} + \\gamma v_{13} + v_{11} - v_{33}\\\\g v_{11} - g v_{44} + 0.5 \\gamma v_{14} + v_{12} - v_{34}\\\\- 2 g v_{23} - 2 v_{24}\\\\g v_{22} - g v_{33} + 0.5 \\gamma v_{23} + v_{12} - v_{34}\\\\g v_{12} - g v_{34} + v_{22} - v_{44}\\\\c \\left(- N_{b} \\gamma - \\frac{\\gamma}{2}\\right) + 2 g v_{23} + \\gamma v_{33} + 2 v_{13}\\\\g v_{13} + g v_{24} + 0.5 \\gamma v_{34} + v_{14} + v_{23}\\\\2 g v_{14} + 2 v_{24}\\end{matrix}\\right]$"
      ],
      "text/plain": [
       "Matrix([\n",
       "[                                                                    0],\n",
       "[                                            -g*p2 + 0.5*gamma*x1 - p1],\n",
       "[                                                           -g*p1 - p2],\n",
       "[                        -sqrt(2)*c*mu*e(t) + g*x2 + 0.5*gamma*p1 + x1],\n",
       "[                                                            g*x1 + x2],\n",
       "[c*(-1.0*N_b*gamma - gamma/2) - 2.0*g*v_14 + 1.0*gamma*v_11 - 2.0*v_13],\n",
       "[                      -g*v_13 - g*v_24 + 0.5*gamma*v_12 - v_14 - v_23],\n",
       "[                           g*v_12 - g*v_34 + gamma*v_13 + v_11 - v_33],\n",
       "[                       g*v_11 - g*v_44 + 0.5*gamma*v_14 + v_12 - v_34],\n",
       "[                                                   -2*g*v_23 - 2*v_24],\n",
       "[                       g*v_22 - g*v_33 + 0.5*gamma*v_23 + v_12 - v_34],\n",
       "[                                        g*v_12 - g*v_34 + v_22 - v_44],\n",
       "[            c*(-N_b*gamma - gamma/2) + 2*g*v_23 + gamma*v_33 + 2*v_13],\n",
       "[                       g*v_13 + g*v_24 + 0.5*gamma*v_34 + v_14 + v_23],\n",
       "[                                                    2*g*v_14 + 2*v_24]])"
      ]
     },
     "execution_count": 67,
     "metadata": {},
     "output_type": "execute_result"
    }
   ],
   "source": [
    "matriz*full_vect"
   ]
  },
  {
   "cell_type": "code",
   "execution_count": 68,
   "id": "6f96ceb3",
   "metadata": {},
   "outputs": [
    {
     "data": {
      "text/latex": [
       "$\\displaystyle \\left[\\begin{matrix}0\\\\- g p_{2} + 0.5 \\gamma x_{1} - p_{1}\\\\- g p_{1} - p_{2}\\\\- \\sqrt{2} c e \\mu + g x_{2} + 0.5 \\gamma p_{1} + x_{1}\\\\g x_{1} + x_{2}\\\\- 1.0 N_{b} c \\gamma - 2.0 g v_{14} + 1.0 \\gamma v_{11} - 0.5 \\gamma - 2.0 v_{13}\\\\- g v_{13} - g v_{24} + 0.5 \\gamma v_{12} - v_{14} - v_{23}\\\\g v_{12} - g v_{34} + \\gamma v_{13} + v_{11} - v_{33}\\\\g v_{11} - g v_{44} + 0.5 \\gamma v_{14} + v_{12} - v_{34}\\\\- 2 g v_{23} - 2 v_{24}\\\\g v_{22} - g v_{33} + 0.5 \\gamma v_{23} + v_{12} - v_{34}\\\\g v_{12} - g v_{34} + v_{22} - v_{44}\\\\- N_{b} c \\gamma + 2 g v_{23} + \\gamma v_{33} - \\frac{\\gamma}{2} + 2 v_{13}\\\\g v_{13} + g v_{24} + 0.5 \\gamma v_{34} + v_{14} + v_{23}\\\\2 g v_{14} + 2 v_{24}\\end{matrix}\\right]$"
      ],
      "text/plain": [
       "Matrix([\n",
       "[                                                                    0],\n",
       "[                                            -g*p2 + 0.5*gamma*x1 - p1],\n",
       "[                                                           -g*p1 - p2],\n",
       "[                           -sqrt(2)*c*e*mu + g*x2 + 0.5*gamma*p1 + x1],\n",
       "[                                                            g*x1 + x2],\n",
       "[-1.0*N_b*c*gamma - 2.0*g*v_14 + 1.0*gamma*v_11 - 0.5*gamma - 2.0*v_13],\n",
       "[                      -g*v_13 - g*v_24 + 0.5*gamma*v_12 - v_14 - v_23],\n",
       "[                           g*v_12 - g*v_34 + gamma*v_13 + v_11 - v_33],\n",
       "[                       g*v_11 - g*v_44 + 0.5*gamma*v_14 + v_12 - v_34],\n",
       "[                                                   -2*g*v_23 - 2*v_24],\n",
       "[                       g*v_22 - g*v_33 + 0.5*gamma*v_23 + v_12 - v_34],\n",
       "[                                        g*v_12 - g*v_34 + v_22 - v_44],\n",
       "[              -N_b*c*gamma + 2*g*v_23 + gamma*v_33 - gamma/2 + 2*v_13],\n",
       "[                       g*v_13 + g*v_24 + 0.5*gamma*v_34 + v_14 + v_23],\n",
       "[                                                    2*g*v_14 + 2*v_24]])"
      ]
     },
     "execution_count": 68,
     "metadata": {},
     "output_type": "execute_result"
    }
   ],
   "source": [
    "Matrix(tocheck)"
   ]
  },
  {
   "cell_type": "code",
   "execution_count": 69,
   "id": "ac6f5771",
   "metadata": {},
   "outputs": [],
   "source": [
    "H0=simplify(matriz.subs({e:0}))\n",
    "He=simplify(matriz.subs({de:0})-H0)"
   ]
  },
  {
   "cell_type": "code",
   "execution_count": 70,
   "id": "08d64818",
   "metadata": {},
   "outputs": [],
   "source": [
    "He=He/e"
   ]
  },
  {
   "cell_type": "code",
   "execution_count": 71,
   "id": "1d747487",
   "metadata": {},
   "outputs": [
    {
     "data": {
      "text/latex": [
       "$\\displaystyle \\left[\\begin{array}{ccccccccccccccc}0 & 0 & 0 & 0 & 0 & 0 & 0 & 0 & 0 & 0 & 0 & 0 & 0 & 0 & 0\\\\0 & 0.5 \\gamma & 0 & -1 & - g & 0 & 0 & 0 & 0 & 0 & 0 & 0 & 0 & 0 & 0\\\\0 & 0 & 0 & - g & -1 & 0 & 0 & 0 & 0 & 0 & 0 & 0 & 0 & 0 & 0\\\\0 & 1 & g & 0.5 \\gamma & 0 & 0 & 0 & 0 & 0 & 0 & 0 & 0 & 0 & 0 & 0\\\\0 & g & 1 & 0 & 0 & 0 & 0 & 0 & 0 & 0 & 0 & 0 & 0 & 0 & 0\\\\- \\gamma \\left(1.0 N_{b} + 0.5\\right) & 0 & 0 & 0 & 0 & 1.0 \\gamma & 0 & -2.0 & - 2.0 g & 0 & 0 & 0 & 0 & 0 & 0\\\\0 & 0 & 0 & 0 & 0 & 0 & 0.5 \\gamma & - g & -1 & 0 & -1 & - g & 0 & 0 & 0\\\\0 & 0 & 0 & 0 & 0 & 1 & g & \\gamma & 0 & 0 & 0 & 0 & -1 & - g & 0\\\\0 & 0 & 0 & 0 & 0 & g & 1 & 0 & 0.5 \\gamma & 0 & 0 & 0 & 0 & -1 & - g\\\\0 & 0 & 0 & 0 & 0 & 0 & 0 & 0 & 0 & 0 & - 2 g & -2 & 0 & 0 & 0\\\\0 & 0 & 0 & 0 & 0 & 0 & 1 & 0 & 0 & g & 0.5 \\gamma & 0 & - g & -1 & 0\\\\0 & 0 & 0 & 0 & 0 & 0 & g & 0 & 0 & 1 & 0 & 0 & 0 & - g & -1\\\\- \\gamma \\left(N_{b} + \\frac{1}{2}\\right) & 0 & 0 & 0 & 0 & 0 & 0 & 2 & 0 & 0 & 2 g & 0 & \\gamma & 0 & 0\\\\0 & 0 & 0 & 0 & 0 & 0 & 0 & g & 1 & 0 & 1 & g & 0 & 0.5 \\gamma & 0\\\\0 & 0 & 0 & 0 & 0 & 0 & 0 & 0 & 2 g & 0 & 0 & 2 & 0 & 0 & 0\\end{array}\\right]$"
      ],
      "text/plain": [
       "Matrix([\n",
       "[                     0,         0, 0,         0,  0,         0,         0,     0,         0, 0,         0,  0,     0,         0,  0],\n",
       "[                     0, 0.5*gamma, 0,        -1, -g,         0,         0,     0,         0, 0,         0,  0,     0,         0,  0],\n",
       "[                     0,         0, 0,        -g, -1,         0,         0,     0,         0, 0,         0,  0,     0,         0,  0],\n",
       "[                     0,         1, g, 0.5*gamma,  0,         0,         0,     0,         0, 0,         0,  0,     0,         0,  0],\n",
       "[                     0,         g, 1,         0,  0,         0,         0,     0,         0, 0,         0,  0,     0,         0,  0],\n",
       "[-gamma*(1.0*N_b + 0.5),         0, 0,         0,  0, 1.0*gamma,         0,  -2.0,    -2.0*g, 0,         0,  0,     0,         0,  0],\n",
       "[                     0,         0, 0,         0,  0,         0, 0.5*gamma,    -g,        -1, 0,        -1, -g,     0,         0,  0],\n",
       "[                     0,         0, 0,         0,  0,         1,         g, gamma,         0, 0,         0,  0,    -1,        -g,  0],\n",
       "[                     0,         0, 0,         0,  0,         g,         1,     0, 0.5*gamma, 0,         0,  0,     0,        -1, -g],\n",
       "[                     0,         0, 0,         0,  0,         0,         0,     0,         0, 0,      -2*g, -2,     0,         0,  0],\n",
       "[                     0,         0, 0,         0,  0,         0,         1,     0,         0, g, 0.5*gamma,  0,    -g,        -1,  0],\n",
       "[                     0,         0, 0,         0,  0,         0,         g,     0,         0, 1,         0,  0,     0,        -g, -1],\n",
       "[    -gamma*(N_b + 1/2),         0, 0,         0,  0,         0,         0,     2,         0, 0,       2*g,  0, gamma,         0,  0],\n",
       "[                     0,         0, 0,         0,  0,         0,         0,     g,         1, 0,         1,  g,     0, 0.5*gamma,  0],\n",
       "[                     0,         0, 0,         0,  0,         0,         0,     0,       2*g, 0,         0,  2,     0,         0,  0]])"
      ]
     },
     "execution_count": 71,
     "metadata": {},
     "output_type": "execute_result"
    }
   ],
   "source": [
    "H0"
   ]
  },
  {
   "cell_type": "code",
   "execution_count": 83,
   "id": "fa11cf20",
   "metadata": {},
   "outputs": [
    {
     "data": {
      "text/latex": [
       "$\\displaystyle \\left[\\begin{array}{ccccccccccccccc}0 & 0 & 0 & 0 & 0 & 0 & 0 & 0 & 0 & 0 & 0 & 0 & 0 & 0 & 0\\\\0 & 0 & 0 & 0 & 0 & 0 & 0 & 0 & 0 & 0 & 0 & 0 & 0 & 0 & 0\\\\0 & 0 & 0 & 0 & 0 & 0 & 0 & 0 & 0 & 0 & 0 & 0 & 0 & 0 & 0\\\\- \\sqrt{2} \\mu & 0 & 0 & 0 & 0 & 0 & 0 & 0 & 0 & 0 & 0 & 0 & 0 & 0 & 0\\\\0 & 0 & 0 & 0 & 0 & 0 & 0 & 0 & 0 & 0 & 0 & 0 & 0 & 0 & 0\\\\0 & 0 & 0 & 0 & 0 & 0 & 0 & 0 & 0 & 0 & 0 & 0 & 0 & 0 & 0\\\\0 & 0 & 0 & 0 & 0 & 0 & 0 & 0 & 0 & 0 & 0 & 0 & 0 & 0 & 0\\\\0 & 0 & 0 & 0 & 0 & 0 & 0 & 0 & 0 & 0 & 0 & 0 & 0 & 0 & 0\\\\0 & 0 & 0 & 0 & 0 & 0 & 0 & 0 & 0 & 0 & 0 & 0 & 0 & 0 & 0\\\\0 & 0 & 0 & 0 & 0 & 0 & 0 & 0 & 0 & 0 & 0 & 0 & 0 & 0 & 0\\\\0 & 0 & 0 & 0 & 0 & 0 & 0 & 0 & 0 & 0 & 0 & 0 & 0 & 0 & 0\\\\0 & 0 & 0 & 0 & 0 & 0 & 0 & 0 & 0 & 0 & 0 & 0 & 0 & 0 & 0\\\\0 & 0 & 0 & 0 & 0 & 0 & 0 & 0 & 0 & 0 & 0 & 0 & 0 & 0 & 0\\\\0 & 0 & 0 & 0 & 0 & 0 & 0 & 0 & 0 & 0 & 0 & 0 & 0 & 0 & 0\\\\0 & 0 & 0 & 0 & 0 & 0 & 0 & 0 & 0 & 0 & 0 & 0 & 0 & 0 & 0\\end{array}\\right]$"
      ],
      "text/plain": [
       "Matrix([\n",
       "[          0, 0, 0, 0, 0, 0, 0, 0, 0, 0, 0, 0, 0, 0, 0],\n",
       "[          0, 0, 0, 0, 0, 0, 0, 0, 0, 0, 0, 0, 0, 0, 0],\n",
       "[          0, 0, 0, 0, 0, 0, 0, 0, 0, 0, 0, 0, 0, 0, 0],\n",
       "[-sqrt(2)*mu, 0, 0, 0, 0, 0, 0, 0, 0, 0, 0, 0, 0, 0, 0],\n",
       "[          0, 0, 0, 0, 0, 0, 0, 0, 0, 0, 0, 0, 0, 0, 0],\n",
       "[          0, 0, 0, 0, 0, 0, 0, 0, 0, 0, 0, 0, 0, 0, 0],\n",
       "[          0, 0, 0, 0, 0, 0, 0, 0, 0, 0, 0, 0, 0, 0, 0],\n",
       "[          0, 0, 0, 0, 0, 0, 0, 0, 0, 0, 0, 0, 0, 0, 0],\n",
       "[          0, 0, 0, 0, 0, 0, 0, 0, 0, 0, 0, 0, 0, 0, 0],\n",
       "[          0, 0, 0, 0, 0, 0, 0, 0, 0, 0, 0, 0, 0, 0, 0],\n",
       "[          0, 0, 0, 0, 0, 0, 0, 0, 0, 0, 0, 0, 0, 0, 0],\n",
       "[          0, 0, 0, 0, 0, 0, 0, 0, 0, 0, 0, 0, 0, 0, 0],\n",
       "[          0, 0, 0, 0, 0, 0, 0, 0, 0, 0, 0, 0, 0, 0, 0],\n",
       "[          0, 0, 0, 0, 0, 0, 0, 0, 0, 0, 0, 0, 0, 0, 0],\n",
       "[          0, 0, 0, 0, 0, 0, 0, 0, 0, 0, 0, 0, 0, 0, 0]])"
      ]
     },
     "execution_count": 83,
     "metadata": {},
     "output_type": "execute_result"
    }
   ],
   "source": [
    "He"
   ]
  },
  {
   "cell_type": "code",
   "execution_count": 84,
   "id": "2bdf2285",
   "metadata": {},
   "outputs": [],
   "source": [
    "hlineal=lambdify((mu),He)\n",
    "import dill\n",
    "dill.settings['recurse'] = True"
   ]
  },
  {
   "cell_type": "code",
   "execution_count": 85,
   "id": "1fb0293f",
   "metadata": {},
   "outputs": [],
   "source": [
    "dill.dump(hlineal, open(\"H_campo\", \"wb\"))\n"
   ]
  },
  {
   "cell_type": "code",
   "execution_count": 75,
   "id": "e5effc84",
   "metadata": {},
   "outputs": [
    {
     "ename": "NameError",
     "evalue": "name 'Hde' is not defined",
     "output_type": "error",
     "traceback": [
      "\u001b[1;31m---------------------------------------------------------------------------\u001b[0m",
      "\u001b[1;31mNameError\u001b[0m                                 Traceback (most recent call last)",
      "\u001b[1;32m<ipython-input-75-3b9b7a372cce>\u001b[0m in \u001b[0;36m<module>\u001b[1;34m\u001b[0m\n\u001b[1;32m----> 1\u001b[1;33m \u001b[0mHde\u001b[0m\u001b[1;33m=\u001b[0m\u001b[0mHde\u001b[0m\u001b[1;33m/\u001b[0m\u001b[0mde\u001b[0m\u001b[1;33m\u001b[0m\u001b[1;33m\u001b[0m\u001b[0m\n\u001b[0m",
      "\u001b[1;31mNameError\u001b[0m: name 'Hde' is not defined"
     ]
    }
   ],
   "source": [
    "Hde=Hde/de"
   ]
  },
  {
   "cell_type": "code",
   "execution_count": null,
   "id": "7e23d080",
   "metadata": {},
   "outputs": [],
   "source": [
    "Hde=simplify(Hde)"
   ]
  },
  {
   "cell_type": "code",
   "execution_count": null,
   "id": "186fefd2",
   "metadata": {},
   "outputs": [],
   "source": [
    "Hde"
   ]
  },
  {
   "cell_type": "code",
   "execution_count": null,
   "id": "aa2e8a3f",
   "metadata": {},
   "outputs": [],
   "source": [
    "func=lambdify((mu,g),Hde)"
   ]
  },
  {
   "cell_type": "code",
   "execution_count": null,
   "id": "1b29e4c3",
   "metadata": {},
   "outputs": [],
   "source": [
    "Matrix(func(2,0.1))"
   ]
  },
  {
   "cell_type": "code",
   "execution_count": null,
   "id": "915e7c4d",
   "metadata": {},
   "outputs": [],
   "source": [
    "H0"
   ]
  },
  {
   "cell_type": "code",
   "execution_count": 97,
   "id": "5ae69453",
   "metadata": {},
   "outputs": [
    {
     "data": {
      "text/plain": [
       "array([[ 0. ,  0. ,  0. ,  0. ,  0. ,  0. ,  0. ,  0. ,  0. ,  0. ,  0. ,\n",
       "         0. ,  0. ,  0. ,  0. ],\n",
       "       [ 0. ,  0.5,  0. , -1. , -0.2,  0. ,  0. ,  0. ,  0. ,  0. ,  0. ,\n",
       "         0. ,  0. ,  0. ,  0. ],\n",
       "       [ 0. ,  0. ,  0. , -0.2, -1. ,  0. ,  0. ,  0. ,  0. ,  0. ,  0. ,\n",
       "         0. ,  0. ,  0. ,  0. ],\n",
       "       [ 0. ,  1. ,  0.2,  0.5,  0. ,  0. ,  0. ,  0. ,  0. ,  0. ,  0. ,\n",
       "         0. ,  0. ,  0. ,  0. ],\n",
       "       [ 0. ,  0.2,  1. ,  0. ,  0. ,  0. ,  0. ,  0. ,  0. ,  0. ,  0. ,\n",
       "         0. ,  0. ,  0. ,  0. ],\n",
       "       [-1. ,  0. ,  0. ,  0. ,  0. ,  1. ,  0. , -2. , -0.4,  0. ,  0. ,\n",
       "         0. ,  0. ,  0. ,  0. ],\n",
       "       [ 0. ,  0. ,  0. ,  0. ,  0. ,  0. ,  0.5, -0.2, -1. ,  0. , -1. ,\n",
       "        -0.2,  0. ,  0. ,  0. ],\n",
       "       [ 0. ,  0. ,  0. ,  0. ,  0. ,  1. ,  0.2,  1. ,  0. ,  0. ,  0. ,\n",
       "         0. , -1. , -0.2,  0. ],\n",
       "       [ 0. ,  0. ,  0. ,  0. ,  0. ,  0.2,  1. ,  0. ,  0.5,  0. ,  0. ,\n",
       "         0. ,  0. , -1. , -0.2],\n",
       "       [ 0. ,  0. ,  0. ,  0. ,  0. ,  0. ,  0. ,  0. ,  0. ,  0. , -0.4,\n",
       "        -2. ,  0. ,  0. ,  0. ],\n",
       "       [ 0. ,  0. ,  0. ,  0. ,  0. ,  0. ,  1. ,  0. ,  0. ,  0.2,  0.5,\n",
       "         0. , -0.2, -1. ,  0. ],\n",
       "       [ 0. ,  0. ,  0. ,  0. ,  0. ,  0. ,  0.2,  0. ,  0. ,  1. ,  0. ,\n",
       "         0. ,  0. , -0.2, -1. ],\n",
       "       [-1. ,  0. ,  0. ,  0. ,  0. ,  0. ,  0. ,  2. ,  0. ,  0. ,  0.4,\n",
       "         0. ,  1. ,  0. ,  0. ],\n",
       "       [ 0. ,  0. ,  0. ,  0. ,  0. ,  0. ,  0. ,  0.2,  1. ,  0. ,  1. ,\n",
       "         0.2,  0. ,  0.5,  0. ],\n",
       "       [ 0. ,  0. ,  0. ,  0. ,  0. ,  0. ,  0. ,  0. ,  0.4,  0. ,  0. ,\n",
       "         2. ,  0. ,  0. ,  0. ]])"
      ]
     },
     "execution_count": 97,
     "metadata": {},
     "output_type": "execute_result"
    }
   ],
   "source": [
    "h0lineal=lambdify((g,gamma,Nb),H0)\n",
    "h0lineal(0.2,1,0.5)"
   ]
  },
  {
   "cell_type": "code",
   "execution_count": 98,
   "id": "691e6844",
   "metadata": {},
   "outputs": [],
   "source": [
    "dill.dump(h0lineal, open(\"H_0\", \"wb\"))\n"
   ]
  },
  {
   "cell_type": "code",
   "execution_count": null,
   "id": "5acd8a9a",
   "metadata": {},
   "outputs": [],
   "source": [
    "H0"
   ]
  },
  {
   "cell_type": "code",
   "execution_count": null,
   "id": "79322e62",
   "metadata": {},
   "outputs": [],
   "source": [
    "from Integrals import overlap2"
   ]
  },
  {
   "cell_type": "code",
   "execution_count": null,
   "id": "128d2c9a",
   "metadata": {},
   "outputs": [],
   "source": [
    "vector1=[1,1,1,1,1,1,1,1,1,1,1,1,1,1,1]\n",
    "vector2=[1,1,1,1,1,1,1,1,1,1,1,1,1,1,1]\n"
   ]
  },
  {
   "cell_type": "code",
   "execution_count": null,
   "id": "83730033",
   "metadata": {},
   "outputs": [],
   "source": [
    "V=[[vector1[5],vector1[6],vector1[7],vector1[8]],[1,vector1[9],vector1[10],vector1[11]],[1,1,vector1[12],vector1[13]],[1,1,1,vector1[14]]]\n",
    "R=[vector1[i] for i in range(1,5)]\n",
    "B=[[vector2[5],vector2[6],vector2[7],vector2[8]],[1,vector2[9],vector2[10],vector2[11]],[1,1,vector2[12],vector2[13]],[1,1,1,vector2[14]]]\n",
    "S=[vector2[i] for i in range(1,5)]"
   ]
  },
  {
   "cell_type": "code",
   "execution_count": null,
   "id": "9407daa8",
   "metadata": {},
   "outputs": [],
   "source": [
    "V"
   ]
  },
  {
   "cell_type": "code",
   "execution_count": null,
   "id": "381397a4",
   "metadata": {},
   "outputs": [],
   "source": [
    "R"
   ]
  },
  {
   "cell_type": "code",
   "execution_count": null,
   "id": "e96ec619",
   "metadata": {},
   "outputs": [],
   "source": [
    "B"
   ]
  },
  {
   "cell_type": "code",
   "execution_count": null,
   "id": "1f740150",
   "metadata": {},
   "outputs": [],
   "source": [
    "S"
   ]
  },
  {
   "cell_type": "code",
   "execution_count": null,
   "id": "4b64662a",
   "metadata": {},
   "outputs": [],
   "source": [
    "overlap2(vector1,vector2)"
   ]
  },
  {
   "cell_type": "code",
   "execution_count": null,
   "id": "61d1930b",
   "metadata": {
    "scrolled": true
   },
   "outputs": [],
   "source": [
    "(e*de)"
   ]
  },
  {
   "cell_type": "code",
   "execution_count": null,
   "id": "dc8e5ed1",
   "metadata": {},
   "outputs": [],
   "source": [
    "sp.sin(2)*sp.cos(2)"
   ]
  },
  {
   "cell_type": "code",
   "execution_count": 72,
   "id": "d2573534",
   "metadata": {},
   "outputs": [
    {
     "data": {
      "text/latex": [
       "$\\displaystyle \\left[\\begin{array}{ccccccccccccccc}0 & 0 & 0 & 0 & 0 & 0 & 0 & 0 & 0 & 0 & 0 & 0 & 0 & 0 & 0\\\\0 & 0.5 \\gamma & 0 & -1 & - g & 0 & 0 & 0 & 0 & 0 & 0 & 0 & 0 & 0 & 0\\\\0 & 0 & 0 & - g & -1 & 0 & 0 & 0 & 0 & 0 & 0 & 0 & 0 & 0 & 0\\\\- \\sqrt{2} \\mu e{\\left(t \\right)} & 1 & g & 0.5 \\gamma & 0 & 0 & 0 & 0 & 0 & 0 & 0 & 0 & 0 & 0 & 0\\\\0 & g & 1 & 0 & 0 & 0 & 0 & 0 & 0 & 0 & 0 & 0 & 0 & 0 & 0\\\\- 1.0 N_{b} \\gamma - \\frac{\\gamma}{2} & 0 & 0 & 0 & 0 & 1.0 \\gamma & 0 & -2.0 & - 2.0 g & 0 & 0 & 0 & 0 & 0 & 0\\\\0 & 0 & 0 & 0 & 0 & 0 & 0.5 \\gamma & - g & -1 & 0 & -1 & - g & 0 & 0 & 0\\\\0 & 0 & 0 & 0 & 0 & 1 & g & \\gamma & 0 & 0 & 0 & 0 & -1 & - g & 0\\\\0 & 0 & 0 & 0 & 0 & g & 1 & 0 & 0.5 \\gamma & 0 & 0 & 0 & 0 & -1 & - g\\\\0 & 0 & 0 & 0 & 0 & 0 & 0 & 0 & 0 & 0 & - 2 g & -2 & 0 & 0 & 0\\\\0 & 0 & 0 & 0 & 0 & 0 & 1 & 0 & 0 & g & 0.5 \\gamma & 0 & - g & -1 & 0\\\\0 & 0 & 0 & 0 & 0 & 0 & g & 0 & 0 & 1 & 0 & 0 & 0 & - g & -1\\\\- N_{b} \\gamma - \\frac{\\gamma}{2} & 0 & 0 & 0 & 0 & 0 & 0 & 2 & 0 & 0 & 2 g & 0 & \\gamma & 0 & 0\\\\0 & 0 & 0 & 0 & 0 & 0 & 0 & g & 1 & 0 & 1 & g & 0 & 0.5 \\gamma & 0\\\\0 & 0 & 0 & 0 & 0 & 0 & 0 & 0 & 2 g & 0 & 0 & 2 & 0 & 0 & 0\\end{array}\\right]$"
      ],
      "text/plain": [
       "Matrix([\n",
       "[                       0,         0, 0,         0,  0,         0,         0,     0,         0, 0,         0,  0,     0,         0,  0],\n",
       "[                       0, 0.5*gamma, 0,        -1, -g,         0,         0,     0,         0, 0,         0,  0,     0,         0,  0],\n",
       "[                       0,         0, 0,        -g, -1,         0,         0,     0,         0, 0,         0,  0,     0,         0,  0],\n",
       "[        -sqrt(2)*mu*e(t),         1, g, 0.5*gamma,  0,         0,         0,     0,         0, 0,         0,  0,     0,         0,  0],\n",
       "[                       0,         g, 1,         0,  0,         0,         0,     0,         0, 0,         0,  0,     0,         0,  0],\n",
       "[-1.0*N_b*gamma - gamma/2,         0, 0,         0,  0, 1.0*gamma,         0,  -2.0,    -2.0*g, 0,         0,  0,     0,         0,  0],\n",
       "[                       0,         0, 0,         0,  0,         0, 0.5*gamma,    -g,        -1, 0,        -1, -g,     0,         0,  0],\n",
       "[                       0,         0, 0,         0,  0,         1,         g, gamma,         0, 0,         0,  0,    -1,        -g,  0],\n",
       "[                       0,         0, 0,         0,  0,         g,         1,     0, 0.5*gamma, 0,         0,  0,     0,        -1, -g],\n",
       "[                       0,         0, 0,         0,  0,         0,         0,     0,         0, 0,      -2*g, -2,     0,         0,  0],\n",
       "[                       0,         0, 0,         0,  0,         0,         1,     0,         0, g, 0.5*gamma,  0,    -g,        -1,  0],\n",
       "[                       0,         0, 0,         0,  0,         0,         g,     0,         0, 1,         0,  0,     0,        -g, -1],\n",
       "[    -N_b*gamma - gamma/2,         0, 0,         0,  0,         0,         0,     2,         0, 0,       2*g,  0, gamma,         0,  0],\n",
       "[                       0,         0, 0,         0,  0,         0,         0,     g,         1, 0,         1,  g,     0, 0.5*gamma,  0],\n",
       "[                       0,         0, 0,         0,  0,         0,         0,     0,       2*g, 0,         0,  2,     0,         0,  0]])"
      ]
     },
     "execution_count": 72,
     "metadata": {},
     "output_type": "execute_result"
    }
   ],
   "source": [
    "matriz"
   ]
  },
  {
   "cell_type": "code",
   "execution_count": 73,
   "id": "a6c1d231",
   "metadata": {},
   "outputs": [],
   "source": [
    "from sympy import mathematica_code as mcode, symbols, sin"
   ]
  },
  {
   "cell_type": "code",
   "execution_count": 74,
   "id": "83fa3792",
   "metadata": {},
   "outputs": [
    {
     "data": {
      "text/plain": [
       "'{{0, 0, 0, 0, 0, 0, 0, 0, 0, 0, 0, 0, 0, 0, 0}, {0, 0.5*gamma, 0, -1, -g, 0, 0, 0, 0, 0, 0, 0, 0, 0, 0}, {0, 0, 0, -g, -1, 0, 0, 0, 0, 0, 0, 0, 0, 0, 0}, {-2^(1/2)*mu*e[t], 1, g, 0.5*gamma, 0, 0, 0, 0, 0, 0, 0, 0, 0, 0, 0}, {0, g, 1, 0, 0, 0, 0, 0, 0, 0, 0, 0, 0, 0, 0}, {-1.0*N_b*gamma - 1/2*gamma, 0, 0, 0, 0, 1.0*gamma, 0, -2.0, -2.0*g, 0, 0, 0, 0, 0, 0}, {0, 0, 0, 0, 0, 0, 0.5*gamma, -g, -1, 0, -1, -g, 0, 0, 0}, {0, 0, 0, 0, 0, 1, g, gamma, 0, 0, 0, 0, -1, -g, 0}, {0, 0, 0, 0, 0, g, 1, 0, 0.5*gamma, 0, 0, 0, 0, -1, -g}, {0, 0, 0, 0, 0, 0, 0, 0, 0, 0, -2*g, -2, 0, 0, 0}, {0, 0, 0, 0, 0, 0, 1, 0, 0, g, 0.5*gamma, 0, -g, -1, 0}, {0, 0, 0, 0, 0, 0, g, 0, 0, 1, 0, 0, 0, -g, -1}, {-N_b*gamma - 1/2*gamma, 0, 0, 0, 0, 0, 0, 2, 0, 0, 2*g, 0, gamma, 0, 0}, {0, 0, 0, 0, 0, 0, 0, g, 1, 0, 1, g, 0, 0.5*gamma, 0}, {0, 0, 0, 0, 0, 0, 0, 0, 2*g, 0, 0, 2, 0, 0, 0}}'"
      ]
     },
     "execution_count": 74,
     "metadata": {},
     "output_type": "execute_result"
    }
   ],
   "source": [
    "mcode(matriz)"
   ]
  },
  {
   "cell_type": "markdown",
   "id": "8b9f7914",
   "metadata": {},
   "source": []
  }
 ],
 "metadata": {
  "@webio": {
   "lastCommId": null,
   "lastKernelId": null
  },
  "colab": {
   "collapsed_sections": [],
   "name": "EDO-sympy.ipynb",
   "provenance": []
  },
  "kernelspec": {
   "display_name": "Python 3 (ipykernel)",
   "language": "python",
   "name": "python3"
  },
  "language_info": {
   "codemirror_mode": {
    "name": "ipython",
    "version": 3
   },
   "file_extension": ".py",
   "mimetype": "text/x-python",
   "name": "python",
   "nbconvert_exporter": "python",
   "pygments_lexer": "ipython3",
   "version": "3.9.7"
  }
 },
 "nbformat": 4,
 "nbformat_minor": 5
}
