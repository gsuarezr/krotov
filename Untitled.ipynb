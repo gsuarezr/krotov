{
 "cells": [
  {
   "cell_type": "code",
   "execution_count": 6,
   "metadata": {},
   "outputs": [
    {
     "name": "stdout",
     "output_type": "stream",
     "text": [
      "Collecting krotov\n",
      "  Downloading krotov-1.2.1-py2.py3-none-any.whl (81 kB)\n",
      "\u001b[K     |████████████████████████████████| 81 kB 1.7 MB/s eta 0:00:01\n",
      "\u001b[?25hRequirement already satisfied: qutip>=4.3.1 in /home/mcditoos/anaconda3/lib/python3.8/site-packages (from krotov) (4.6.2)\n",
      "Collecting loky\n",
      "  Downloading loky-3.0.0-py2.py3-none-any.whl (69 kB)\n",
      "\u001b[K     |████████████████████████████████| 69 kB 5.4 MB/s eta 0:00:011\n",
      "\u001b[?25hRequirement already satisfied: grapheme in /home/mcditoos/anaconda3/lib/python3.8/site-packages (from krotov) (0.6.0)\n",
      "Requirement already satisfied: threadpoolctl in /home/mcditoos/anaconda3/lib/python3.8/site-packages (from krotov) (2.1.0)\n",
      "Requirement already satisfied: scipy in /home/mcditoos/anaconda3/lib/python3.8/site-packages (from krotov) (1.6.2)\n",
      "Requirement already satisfied: numpy in /home/mcditoos/anaconda3/lib/python3.8/site-packages (from krotov) (1.20.1)\n",
      "Requirement already satisfied: glom in /home/mcditoos/anaconda3/lib/python3.8/site-packages (from krotov) (20.11.0)\n",
      "Requirement already satisfied: packaging in /home/mcditoos/anaconda3/lib/python3.8/site-packages (from qutip>=4.3.1->krotov) (20.9)\n",
      "Requirement already satisfied: boltons>=19.3.0 in /home/mcditoos/anaconda3/lib/python3.8/site-packages (from glom->krotov) (21.0.0)\n",
      "Requirement already satisfied: attrs in /home/mcditoos/anaconda3/lib/python3.8/site-packages (from glom->krotov) (20.3.0)\n",
      "Requirement already satisfied: face>=20.1.0 in /home/mcditoos/anaconda3/lib/python3.8/site-packages (from glom->krotov) (20.1.1)\n",
      "Requirement already satisfied: cloudpickle in /home/mcditoos/anaconda3/lib/python3.8/site-packages (from loky->krotov) (1.6.0)\n",
      "Requirement already satisfied: pyparsing>=2.0.2 in /home/mcditoos/anaconda3/lib/python3.8/site-packages (from packaging->qutip>=4.3.1->krotov) (2.4.7)\n",
      "Installing collected packages: loky, krotov\n",
      "Successfully installed krotov-1.2.1 loky-3.0.0\n"
     ]
    }
   ],
   "source": [
    "!pip install krotov\n",
    "import qutip\n",
    "import numpy as np\n",
    "import scipy\n",
    "import matplotlib\n",
    "import matplotlib.pylab as plt\n",
    "import krotov\n",
    "import math\n"
   ]
  },
  {
   "cell_type": "code",
   "execution_count": 7,
   "metadata": {},
   "outputs": [],
   "source": [
    "import dill \n",
    "dill.settings['recurse'] = True\n",
    "\n",
    "H0=dill.load(open(\"H_0\", \"rb\"))\n",
    "He=dill.load(open(\"H_campo\",\"rb\"))\n",
    "Hde=dill.load(open(\"H_de\",\"rb\"))\n"
   ]
  },
  {
   "cell_type": "code",
   "execution_count": 8,
   "metadata": {},
   "outputs": [
    {
     "name": "stdout",
     "output_type": "stream",
     "text": [
      "iter.      J_T    ∫gₐ(t)dt          J       ΔJ_T         ΔJ  secs\n",
      "0    -3.03e+00    0.00e+00  -3.03e+00        n/a        n/a     0\n",
      "1    -1.17e+04    2.12e+04   9.50e+03  -1.17e+04   9.50e+03     0 *\n"
     ]
    },
    {
     "name": "stderr",
     "output_type": "stream",
     "text": [
      "WARNING:matplotlib.legend:No handles with labels found to put in legend.\n"
     ]
    },
    {
     "data": {
      "image/png": "[encoded data removed]",
      "text/plain": [
       "<Figure size 288x360 with 2 Axes>"
      ]
     },
     "metadata": {
      "needs_background": "light"
     },
     "output_type": "display_data"
    }
   ],
   "source": [
    "\n",
    "proj0 = qutip.ket2dm(qutip.tensor(qutip.ket(\"0\"),qutip.ket(\"0\")))\n",
    "proj1 = qutip.ket2dm(qutip.tensor(qutip.ket(\"0\"),qutip.ket(\"1\")))\n",
    "proj2 = qutip.ket2dm(qutip.tensor(qutip.ket(\"1\"),qutip.ket(\"0\")))\n",
    "proj3 = qutip.ket2dm(qutip.tensor(qutip.ket(\"1\"),qutip.ket(\"1\")))\n",
    "omega=1\n",
    "g=0.2*omega\n",
    "ampl0=0.00001\n",
    "#T=8\n",
    "#ampl0=1\n",
    "T=math.pi/g\n",
    "nt=20\n",
    "tlist = np.linspace(0,T, nt)\n",
    "def hamiltonian(omega, ampl0, g):\n",
    "      \"\"\"Two-level-system Hamiltonian\n",
    "\n",
    "      Args:\n",
    "          omega (float): energy separation of the qubit levels\n",
    "          ampl0 (float): constant amplitude of the driving field\n",
    "      \"\"\"\n",
    "      HA = -1j*qutip.Qobj(H0(0.2))\n",
    "      H1 =-1j*qutip.Qobj(Hde(0.05,0.2))\n",
    "      H2= -1j*qutip.Qobj(He(0.05,0.2))\n",
    "      def guess_control(t, args):\n",
    "          return ampl0*krotov.shapes.flattop(\n",
    "              t, t_start=0, t_stop=T, t_rise=0.005, func=\"blackman\"\n",
    "          )\n",
    "      def guess_control2(t, args):\n",
    "          return ampl0*krotov.shapes.flattop(\n",
    "              t, t_start=0, t_stop=T, t_rise=0.005, func=\"blackman\"\n",
    "          )\n",
    "      \n",
    "      return [HA, [H1, guess_control]]\n",
    "\n",
    "def S(t):\n",
    "    \"\"\"Shape function for the field update\"\"\"\n",
    "    return krotov.shapes.flattop(\n",
    "        t, t_start=0, t_stop=T, t_rise=0.05 * T, t_fall=0.05 * T, func='sinsq'\n",
    "    )\n",
    "def plot_iterations(opt_result):\n",
    "    \"\"\"Plot the control fields in population dynamics over all iterations.\n",
    "\n",
    "    This depends on ``store_all_pulses=True`` in the call to\n",
    "    `optimize_pulses`.\n",
    "    \"\"\"\n",
    "\n",
    "    fig, [ax_ctr,ax] = plt.subplots(nrows=2, figsize=(4, 5))\n",
    "    n_iters = len(opt_result.iters)\n",
    "    EEnergy=np.zeros(nt)\n",
    "    for (iteration, pulses) in zip(opt_result.iters, opt_result.all_pulses):\n",
    "        controls = [\n",
    "            krotov.conversions.pulse_onto_tlist(pulse)\n",
    "            for pulse in pulses\n",
    "        ]\n",
    "        objectives = opt_result.objectives_with_controls(controls)\n",
    "        dynamics = objectives[0].mesolve(\n",
    "            opt_result.tlist, e_ops=[]\n",
    "        )\n",
    "        if iteration == 0:\n",
    "            ls = '--'  # dashed\n",
    "            alpha = 1  # full opacity\n",
    "            ctr_label = 'guess'\n",
    "            pop_labels = ['0 (guess)', '1 (guess)']\n",
    "        elif iteration == opt_result.iters[-1]:\n",
    "            ls = '-'  # solid\n",
    "            alpha = 1  # full opacity\n",
    "            ctr_label = 'optimized'\n",
    "            pop_labels = ['0 (optimized)', '1 (optimized)']\n",
    "        else:\n",
    "            ls = '-'  # solid\n",
    "            alpha = 0.5 * float(iteration) / float(n_iters)  # max 50%\n",
    "            ctr_label = None\n",
    "            pop_labels = [None, None]\n",
    "        ax_ctr.plot(\n",
    "            dynamics.times,\n",
    "            controls[0],\n",
    "            label=ctr_label,\n",
    "            color='black',\n",
    "            ls=ls,\n",
    "            alpha=alpha,\n",
    "        )\n",
    "    EField=np.transpose(np.array(opt_result.optimized_controls))\n",
    "    EEnergy[0]=(np.square(EField[0]))*(T/nt)\n",
    "    a=0\n",
    "    for i in range (1,nt):\n",
    "      a+=np.square(EField[i-1])\n",
    "      EEnergy[i]=(np.square(EField[i])+a)*(T/nt)\n",
    "      \n",
    "    \n",
    "    ax.plot(tlist,np.transpose(EEnergy))\n",
    "    plt.legend()\n",
    "    plt.show(fig)\n",
    "    \n",
    "    \n",
    "    \n",
    "\n",
    "\n",
    "\n",
    "H = hamiltonian(omega,ampl0,g)\n",
    "pulse_options = {\n",
    "    H[1][1]: dict(lambda_a=0.01, update_shape=S),   \n",
    "}\n",
    "objectives = [\n",
    "    krotov.Objective(\n",
    "        initial_state=qutip.Qobj(np.array([1,0,0,0,0,1/2,0,0,0,1/2,0,0,1/2,0,1/2])), target=qutip.Qobj(qutip.Qobj(np.array([1,0,0,2*np.sqrt(2),0,1/2,0,0,0,1/2,0,0,1/2,0,1/2]))), H=H\n",
    "      )\n",
    "  ]\n",
    "\n",
    "opt_result = krotov.optimize_pulses(\n",
    "  objectives,\n",
    "  pulse_options=pulse_options,\n",
    "  tlist=tlist,\n",
    "  propagator=krotov.propagators.expm,\n",
    "  chi_constructor=krotov.functionals.chis_ss,\n",
    "  info_hook=krotov.info_hooks.print_table(J_T=krotov.functionals.J_T_ss),\n",
    "  check_convergence=krotov.convergence.Or(\n",
    "      krotov.convergence.value_below('5e-3', name='J_T'),\n",
    "      krotov.convergence.check_monotonic_error,\n",
    "\n",
    "  ),\n",
    "    store_all_pulses=True,\n",
    ")\n",
    "plot_iterations(opt_result)\n",
    "\n"
   ]
  },
  {
   "cell_type": "code",
   "execution_count": 9,
   "metadata": {},
   "outputs": [
    {
     "data": {
      "text/plain": [
       "[Quantum object: dims = [[15], [1]], shape = (15, 1), type = ket\n",
       " Qobj data =\n",
       " [[ 1.00000000e+00]\n",
       "  [-1.09546587e+01]\n",
       "  [ 1.40097459e+01]\n",
       "  [ 1.11161768e+01]\n",
       "  [-2.47189390e+00]\n",
       "  [ 1.51497706e+02]\n",
       "  [-6.70922040e+01]\n",
       "  [ 5.68433539e+01]\n",
       "  [-3.44036440e+01]\n",
       "  [-1.35201769e+00]\n",
       "  [-6.17848523e+01]\n",
       "  [ 3.51302356e+01]\n",
       "  [ 4.43538888e-01]\n",
       "  [-2.02883894e-02]\n",
       "  [ 5.64576467e-01]]]"
      ]
     },
     "execution_count": 9,
     "metadata": {},
     "output_type": "execute_result"
    }
   ],
   "source": [
    "opt_result.states"
   ]
  },
  {
   "cell_type": "code",
   "execution_count": null,
   "metadata": {},
   "outputs": [],
   "source": []
  }
 ],
 "metadata": {
  "kernelspec": {
   "display_name": "Python 3",
   "language": "python",
   "name": "python3"
  },
  "language_info": {
   "codemirror_mode": {
    "name": "ipython",
    "version": 3
   },
   "file_extension": ".py",
   "mimetype": "text/x-python",
   "name": "python",
   "nbconvert_exporter": "python",
   "pygments_lexer": "ipython3",
   "version": "3.8.8"
  }
 },
 "nbformat": 4,
 "nbformat_minor": 4
}
