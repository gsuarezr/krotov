{
 "cells": [
  {
   "cell_type": "markdown",
   "metadata": {
    "id": "XXP2GFwzLUCb"
   },
   "source": [
    "# Optimization of Dissipative Qubit Reset"
   ]
  },
  {
   "cell_type": "code",
   "execution_count": 4,
   "metadata": {
    "id": "J5dBjqD2LUCp"
   },
   "outputs": [],
   "source": [
    "# NBVAL_IGNORE_OUTPUT\n",
    "import qutip\n",
    "import numpy as np\n",
    "import scipy\n",
    "import matplotlib\n",
    "import matplotlib.pylab as plt\n",
    "import krotov\n",
    "import math"
   ]
  },
  {
   "cell_type": "markdown",
   "metadata": {
    "id": "-TIe2tnrLUCt"
   },
   "source": [
    "$\\newcommand{tr}[0]{\\operatorname{tr}}\n",
    "\\newcommand{diag}[0]{\\operatorname{diag}}\n",
    "\\newcommand{abs}[0]{\\operatorname{abs}}\n",
    "\\newcommand{pop}[0]{\\operatorname{pop}}\n",
    "\\newcommand{aux}[0]{\\text{aux}}\n",
    "\\newcommand{int}[0]{\\text{int}}\n",
    "\\newcommand{opt}[0]{\\text{opt}}\n",
    "\\newcommand{tgt}[0]{\\text{tgt}}\n",
    "\\newcommand{init}[0]{\\text{init}}\n",
    "\\newcommand{lab}[0]{\\text{lab}}\n",
    "\\newcommand{rwa}[0]{\\text{rwa}}\n",
    "\\newcommand{bra}[1]{\\langle #1 \\vert}\n",
    "\\newcommand{ket}[1]{\\vert #1\\rangle}\n",
    "\\newcommand{Bra}[1]{\\left\\langle #1\\right\\vert}\n",
    "\\newcommand{Ket}[1]{\\left\\vert #1 \\right\\rangle}\n",
    "\\newcommand{Braket}[2]{\\left\\langle #1\\vphantom{#2} \\mid\n",
    "#2\\vphantom{#1}\\right\\rangle}\n",
    "\\newcommand{op}[1]{\\hat{#1}}\n",
    "\\newcommand{Op}[1]{\\hat{#1}}\n",
    "\\newcommand{dd}[0]{\\,\\text{d}}\n",
    "\\newcommand{Liouville}[0]{\\mathcal{L}}\n",
    "\\newcommand{DynMap}[0]{\\mathcal{E}}\n",
    "\\newcommand{identity}[0]{\\mathbf{1}}\n",
    "\\newcommand{Norm}[1]{\\lVert#1\\rVert}\n",
    "\\newcommand{Abs}[1]{\\left\\vert#1\\right\\vert}\n",
    "\\newcommand{avg}[1]{\\langle#1\\rangle}\n",
    "\\newcommand{Avg}[1]{\\left\\langle#1\\right\\rangle}\n",
    "\\newcommand{AbsSq}[1]{\\left\\vert#1\\right\\vert^2}\n",
    "\\newcommand{Re}[0]{\\operatorname{Re}}\n",
    "\\newcommand{Im}[0]{\\operatorname{Im}}$\n",
    "\n",
    "This example illustrates an optimization in an *open* quantum system,\n",
    "where the dynamics is governed by the Liouville-von Neumann equation. Hence,\n",
    "states are represented by density matrices $\\op{\\rho}(t)$ and the time-evolution\n",
    "operator is given by a general dynamical map $\\DynMap$."
   ]
  },
  {
   "cell_type": "markdown",
   "metadata": {
    "id": "D3wNS64dLUCu"
   },
   "source": [
    "## Define parameters\n",
    "\n",
    "The system consists of a qubit with Hamiltonian\n",
    "$\\op{H}_{q}(t) = - \\frac{\\omega_{q}}{2} \\op{\\sigma}_{z} - \\frac{\\epsilon(t)}{2} \\op{\\sigma}_{z}$,\n",
    "where $\\omega_{q}$ is an energy level splitting that can be dynamically adjusted\n",
    "by the control $\\epsilon(t)$. This qubit couples strongly to another two-level\n",
    "system (TLS) with Hamiltonian $\\op{H}_{t} = - \\frac{\\omega_{t}}{2} \\op{\\sigma}_{z}$ with\n",
    "static energy level splitting $\\omega_{t}$. The coupling strength between both\n",
    "systems is given by $J$ with the interaction Hamiltonian given by $\\op{H}_{\\int}\n",
    "= J \\op{\\sigma}_{x} \\otimes \\op{\\sigma}_{x}$."
   ]
  },
  {
   "cell_type": "markdown",
   "metadata": {
    "id": "__SGdkUlLUCv"
   },
   "source": [
    "The Hamiltonian for the system of qubit and TLS is\n",
    "\n",
    "$$\n",
    "  \\op{H}(t)\n",
    "    = \\op{H}_{q}(t) \\otimes \\identity_{t}\n",
    "      + \\identity_{q} \\otimes \\op{H}_{t} + \\op{H}_{\\int}.\n",
    "$$\n",
    "\n",
    "In addition, the TLS is embedded in a heat bath with inverse temperature\n",
    "$\\beta$. The TLS couples to the bath with rate $\\kappa$. In order to simulate\n",
    "the dissipation arising from this coupling, we consider the two Lindblad\n",
    "operators\n",
    "\n",
    "$$\n",
    "\\begin{split}\n",
    "\\op{L}_{1} &= \\sqrt{\\kappa (N_{th}+1)} \\identity_{q} \\otimes \\ket{0}\\bra{1} \\\\\n",
    "\\op{L}_{2} &= \\sqrt{\\kappa N_{th}} \\identity_{q} \\otimes \\ket{1}\\bra{0}\n",
    "\\end{split}\n",
    "$$\n",
    "\n",
    "with $N_{th} = 1/(e^{\\beta \\omega_{t}} - 1)$."
   ]
  },
  {
   "cell_type": "code",
   "execution_count": 5,
   "metadata": {
    "id": "YeNDY9njLUCw"
   },
   "outputs": [],
   "source": [
    "omega = 1  # qubit level splitting\n",
    "g = 0.2*omega  # qubit-TLS coupling\n",
    "gamma = 0.05*omega  # TLS decay rate\n",
    "N=0 # inverse bath temperature\n",
    "T = 15 # final time\n",
    "nt = 1000  # number of time steps"
   ]
  },
  {
   "cell_type": "markdown",
   "metadata": {
    "id": "QK-39FU9LUCx"
   },
   "source": [
    "## Define the Liouvillian\n",
    "\n",
    "The dynamics of the qubit-TLS system state $\\op{\\rho}(t)$ is governed by the\n",
    "Liouville-von Neumann equation\n",
    "\n",
    "$$\n",
    "\\begin{split}\n",
    "  \\frac{\\partial}{\\partial t} \\op{\\rho}(t)\n",
    "    &= \\Liouville(t) \\op{\\rho}(t) \\\\\n",
    "    &= - i \\left[\\op{H}(t), \\op{\\rho}(t)\\right]\n",
    "      + \\sum_{k=1,2} \\left(\n",
    "            \\op{L}_{k} \\op{\\rho}(t) \\op{L}_{k}^\\dagger\n",
    "            - \\frac{1}{2}\n",
    "            \\op{L}_{k}^\\dagger\n",
    "            \\op{L}_{k} \\op{\\rho}(t)\n",
    "            - \\frac{1}{2} \\op{\\rho}(t)\n",
    "            \\op{L}_{k}^\\dagger\n",
    "            \\op{L}_{k}\n",
    "        \\right)\\,.\n",
    "\\end{split}\n",
    "$$"
   ]
  },
  {
   "cell_type": "code",
   "execution_count": 6,
   "metadata": {
    "colab": {
     "base_uri": "https://localhost:8080/"
    },
    "id": "A9eGevRTLUCx",
    "outputId": "c0c3a94e-acbf-4c50-9e88-8c167b56336a"
   },
   "outputs": [],
   "source": [
    "def liouvillian(omega, g, gamma, N):\n",
    "    \"\"\"Liouvillian for the coupled system of qubit and TLS\"\"\"\n",
    "\n",
    "    H0_q = omega*0.5*(-qutip.operators.sigmaz()+qutip.qeye(2))\n",
    "    # drive qubit Hamiltonian\n",
    "    H1_q = -0.2*qutip.operators.sigmax()\n",
    "\n",
    "    # drift TLS Hamiltonian\n",
    "    H0_T = omega*0.5*(-qutip.operators.sigmaz()+qutip.qeye(2))\n",
    "\n",
    "    # Lift Hamiltonians to joint system operators\n",
    "    H0 = qutip.tensor(H0_q, qutip.qeye(2)) + qutip.tensor(qutip.qeye(2), H0_T)\n",
    "    H1 = qutip.tensor(H1_q, qutip.qeye(2))\n",
    "\n",
    "    # qubit-TLS interaction\n",
    "    H_int =  g*(qutip.tensor(qutip.Qobj(np.array([[0, 0], [1, 0]])),qutip.Qobj(np.array([[0, 1], [0, 0]])))+qutip.tensor(qutip.Qobj(np.array([[0, 1], [0, 0]])),qutip.Qobj(np.array([[0, 0], [1, 0]]))))\n",
    "\n",
    "    # convert Hamiltonians to QuTiP objects\n",
    "    H0 = qutip.Qobj(H0 + H_int)\n",
    "    H1 = qutip.Qobj(H1)\n",
    "\n",
    "    # Define Lindblad operators\n",
    "    # Cooling on TLS\n",
    "    L1 = np.sqrt(gamma * (N + 1)) * qutip.tensor(qutip.Qobj(np.array([[0, 1], [0, 0]])),qutip.qeye(2))\n",
    "    # Heating on TLS\n",
    "    L2 = np.sqrt(gamma * N) * qutip.tensor(qutip.Qobj([[0, 0], [1, 0]]),qutip.qeye(2))\n",
    "    \n",
    "\n",
    "    # convert Lindblad operators to QuTiP objects\n",
    "    L1 = qutip.Qobj(L1)\n",
    "    L2 = qutip.Qobj(L2)\n",
    "\n",
    "    # generate the Liouvillian\n",
    "    L0 = qutip.liouvillian(H=H0, c_ops=[L1, L2])\n",
    "    L1 = qutip.liouvillian(H=H1)\n",
    "\n",
    "    # Shift the qubit and TLS into resonance by default\n",
    "    eps0 = lambda t, args: 0.000000000001\n",
    "    return [L0, [L1, eps0]], H1\n",
    "\n",
    "\n",
    "L, H1 = liouvillian(omega, g, gamma, N)\n"
   ]
  },
  {
   "cell_type": "markdown",
   "metadata": {
    "id": "W0RnqXOgLUCy"
   },
   "source": [
    "## Define the optimization target"
   ]
  },
  {
   "cell_type": "markdown",
   "metadata": {
    "id": "FTHCzb1eLUCz"
   },
   "source": [
    "The initial state of qubit and TLS are assumed to be in thermal equilibrium with\n",
    "the heat bath (although only the TLS is directly interacting with the bath).\n",
    "Both states are given by\n",
    "\n",
    "$$\n",
    "  \\op{\\rho}_{\\alpha}^{th} =\n",
    "\\frac{e^{x_{\\alpha}} \\ket{0}\\bra{0} + e^{-x_{\\alpha}} \\ket{1}\\bra{1}}{2\n",
    "\\cosh(x_{\\alpha})},\n",
    "  \\qquad\n",
    "  x_{\\alpha} = \\frac{\\omega_{\\alpha} \\beta}{2},\n",
    "$$\n",
    "\n",
    "with $\\alpha = q,t$. The initial state of the bipartite system\n",
    "of qubit and TLS is given by the thermal state\n",
    "$\\op{\\rho}_{th} = \\op{\\rho}_{q}^{th} \\otimes \\op{\\rho}_{t}^{th}$."
   ]
  },
  {
   "cell_type": "code",
   "execution_count": 7,
   "metadata": {
    "id": "DB2hnuK4LUCz"
   },
   "outputs": [],
   "source": [
    "rho_th = qutip.Qobj(qutip.tensor(qutip.Qobj(np.diag([1,0])), qutip.Qobj(np.diag([1,0]))))"
   ]
  },
  {
   "cell_type": "markdown",
   "metadata": {
    "id": "7Fqe3IpQLUC1"
   },
   "source": [
    "Since we are ultimately only interested in the state of the qubit, we define\n",
    "`trace_A`. It returns the reduced state of the qubit\n",
    "$\\op{\\rho}_{q} = \\tr_{t}\\{\\op{\\rho}\\}$ when passed\n",
    "the state $\\op{\\rho}$ of the bipartite system."
   ]
  },
  {
   "cell_type": "code",
   "execution_count": 8,
   "metadata": {
    "id": "AZtQ0WCfLUC1"
   },
   "outputs": [],
   "source": [
    "def trace_A(rho):\n",
    "    \"\"\"Partial trace over the A degrees of freedom\"\"\"\n",
    "    rho_q = np.zeros(shape=(2, 2), dtype=np.complex_)\n",
    "    rho_q[0, 0] = rho[0, 0] + rho[2, 2]\n",
    "    rho_q[0, 1] = rho[0, 1] + rho[2, 3]\n",
    "    rho_q[1, 0] = rho[1, 0] + rho[3, 2]\n",
    "    rho_q[1, 1] = rho[1, 1] + rho[3, 3]\n",
    "    return qutip.Qobj(rho_q)"
   ]
  },
  {
   "cell_type": "markdown",
   "metadata": {
    "id": "6WfG1poFLUC2"
   },
   "source": [
    "The target state is (temporarily) the ground state of the bipartite system,\n",
    "i.e., $\\op{\\rho}_{\\tgt} = \\ket{00}\\bra{00}$. Note that in the end we will only\n",
    "optimize the reduced state of the qubit."
   ]
  },
  {
   "cell_type": "code",
   "execution_count": 9,
   "metadata": {
    "id": "JDsXrlfpLUC2"
   },
   "outputs": [],
   "source": [
    "rho_q_trg = qutip.Qobj(np.diag([1, 0]))\n",
    "rho_T_trg = qutip.Qobj(np.diag([0, 1]))\n",
    "rho_trg = qutip.tensor(rho_q_trg, rho_T_trg)\n",
    "rho_trg = qutip.Qobj(rho_trg)"
   ]
  },
  {
   "cell_type": "markdown",
   "metadata": {
    "id": "aztU5oDDLUC2"
   },
   "source": [
    "Next, the list of `objectives` is defined, which contains the initial and target\n",
    "state and the Liouvillian $\\Liouville(t)$ that determines the system dynamics."
   ]
  },
  {
   "cell_type": "code",
   "execution_count": 10,
   "metadata": {
    "id": "_WBb3oDvLUC3"
   },
   "outputs": [],
   "source": [
    "objectives = [krotov.Objective(initial_state=rho_th, target=rho_trg, H=L)]"
   ]
  },
  {
   "cell_type": "markdown",
   "metadata": {
    "id": "2CdXVQStLUC4"
   },
   "source": [
    "In the following, we define the shape function $S(t)$, which we use in order to\n",
    "ensure a smooth switch on and off in the beginning and end. Note that at times\n",
    "$t$ where $S(t)$ vanishes, the updates of the field is suppressed."
   ]
  },
  {
   "cell_type": "code",
   "execution_count": 11,
   "metadata": {
    "id": "Uvymg3ZMLUC4"
   },
   "outputs": [],
   "source": [
    "def S(t):\n",
    "    \"\"\"Shape function for the field update\"\"\"\n",
    "    return krotov.shapes.flattop(\n",
    "        t, t_start=0, t_stop=T, t_rise=0.005 * T, t_fall=0.005 * T, func='sinsq'\n",
    "    )"
   ]
  },
  {
   "cell_type": "markdown",
   "metadata": {
    "id": "Q0fPkWBeLUC5"
   },
   "source": [
    "We re-use this function to also shape the guess control $\\epsilon_{0}(t)$ to be\n",
    "zero at $t=0$ and $t=T$. This is on top of the originally defined constant\n",
    "value shifting the qubit and TLS into resonance."
   ]
  },
  {
   "cell_type": "code",
   "execution_count": 12,
   "metadata": {
    "id": "ooltH_g9LUC5"
   },
   "outputs": [],
   "source": [
    "def shape_field(eps0):\n",
    "    \"\"\"Applies the shape function S(t) to the guess field\"\"\"\n",
    "    eps0_shaped = lambda t, args: eps0(t, args) * S(t)\n",
    "    return eps0_shaped\n",
    "\n",
    "\n",
    "L[1][1] = shape_field(L[1][1])"
   ]
  },
  {
   "cell_type": "markdown",
   "metadata": {
    "id": "SSF7kxlHLUC5"
   },
   "source": [
    "At last, before heading to the actual optimization below, we assign the shape\n",
    "function $S(t)$ to the OCT parameters of the control and choose `lambda_a`, a\n",
    "numerical parameter that controls the field update magnitude in each iteration."
   ]
  },
  {
   "cell_type": "code",
   "execution_count": 13,
   "metadata": {
    "id": "cprYGwMrLUC6"
   },
   "outputs": [],
   "source": [
    "pulse_options = {L[1][1]: dict(lambda_a=1, update_shape=S)}"
   ]
  },
  {
   "cell_type": "markdown",
   "metadata": {
    "id": "TXUKgCIULUC6"
   },
   "source": [
    "## Simulate the dynamics of the guess field\n"
   ]
  },
  {
   "cell_type": "code",
   "execution_count": 14,
   "metadata": {
    "id": "X2xBWRq1LUC6"
   },
   "outputs": [],
   "source": [
    "tlist = np.linspace(0, T, nt)"
   ]
  },
  {
   "cell_type": "code",
   "execution_count": 15,
   "metadata": {
    "id": "yyEI5UdwLUC7"
   },
   "outputs": [],
   "source": [
    "def plot_pulse(pulse, tlist):\n",
    "    fig, ax = plt.subplots()\n",
    "    if callable(pulse):\n",
    "        pulse = np.array([pulse(t, args=None) for t in tlist])\n",
    "    ax.plot(tlist, pulse)\n",
    "    ax.set_xlabel('time')\n",
    "    ax.set_ylabel('pulse amplitude')\n",
    "    plt.show(fig)"
   ]
  },
  {
   "cell_type": "markdown",
   "metadata": {
    "id": "9BvGr2lhLUC7"
   },
   "source": [
    "The following plot shows the guess field $\\epsilon_{0}(t)$ as a constant that\n",
    "puts qubit and TLS into resonance, but with a smooth switch-on and switch-off."
   ]
  },
  {
   "cell_type": "code",
   "execution_count": 16,
   "metadata": {
    "colab": {
     "base_uri": "https://localhost:8080/",
     "height": 290
    },
    "id": "jlcwh2y5LUC7",
    "outputId": "75123ec0-4185-451e-960a-ca444bc1d4fb"
   },
   "outputs": [
    {
     "data": {
      "image/png": "[encoded data removed]",
      "text/plain": [
       "<Figure size 640x480 with 1 Axes>"
      ]
     },
     "metadata": {},
     "output_type": "display_data"
    }
   ],
   "source": [
    "plot_pulse(L[1][1], tlist)"
   ]
  },
  {
   "cell_type": "markdown",
   "metadata": {
    "id": "yAb5JMYRLUC8"
   },
   "source": [
    "We solve the equation of motion for this guess field, storing the expectation\n",
    "values for the population in the bipartite levels:\n"
   ]
  },
  {
   "cell_type": "code",
   "execution_count": 17,
   "metadata": {
    "id": "wfwqkj76LUC9"
   },
   "outputs": [],
   "source": [
    "psi00 = qutip.Qobj(np.kron(np.array([1,0]), np.array([1,0])))\n",
    "psi01 = qutip.Qobj(np.kron(np.array([1,0]), np.array([0,1])))\n",
    "psi10 = qutip.Qobj(np.kron(np.array([0,1]), np.array([1,0])))\n",
    "psi11 = qutip.Qobj(np.kron(np.array([0,1]), np.array([0,1])))\n",
    "proj_00 = qutip.ket2dm(psi00)\n",
    "proj_01 = qutip.ket2dm(psi01)\n",
    "proj_10 = qutip.ket2dm(psi10)\n",
    "proj_11 = qutip.ket2dm(psi11)"
   ]
  },
  {
   "cell_type": "markdown",
   "metadata": {
    "id": "rd0o-vZyLUC-"
   },
   "source": [
    "The population dynamics of qubit and TLS ground state show that\n",
    "both are oscillating and especially the qubit's ground state population reaches\n",
    "a maximal value at intermediate times $t < T$. This maximum is indeed the\n",
    "maximum that is physically possible. It corresponds to a perfect swap of\n",
    "the initial qubit and TLS purities. However, we want to reach this maximum at\n",
    "final time $T$ (not before), so the guess control is not yet working as desired."
   ]
  },
  {
   "cell_type": "markdown",
   "metadata": {
    "id": "LGUDPBcuLUC-"
   },
   "source": [
    "## Optimize"
   ]
  },
  {
   "cell_type": "markdown",
   "metadata": {
    "id": "Tx0aWEZXLUC_"
   },
   "source": [
    "Our optimization target is the ground state $\\ket{\\Psi_{q}^{\\tgt}}\n",
    "= \\ket{0}$ of the qubit, irrespective of the state of the TLS. Thus, our\n",
    "optimization functional reads\n",
    "\n",
    "$$\n",
    "  J_T = 1 -\n",
    "\\Braket{\\Psi_{q}^{\\tgt}}{\\tr_{t}\\{\\op{\\rho}(T)\\} \\,|\\; \\Psi_{q}^{\\tgt}}\\,,\n",
    "$$\n",
    "\n",
    "and we first define `print_qubit_error`, which prints out the\n",
    "above functional after each iteration.\n"
   ]
  },
  {
   "cell_type": "code",
   "execution_count": 18,
   "metadata": {
    "id": "qBejSN2aLUC_"
   },
   "outputs": [],
   "source": [
    "def print_qubit_error(**args):\n",
    "    \"\"\"Utility function writing the qubit error to screen\"\"\"\n",
    "    taus = []\n",
    "    for state_T in args['fw_states_T']:\n",
    "        state_q_T = trace_A(state_T)\n",
    "        taus.append(state_q_T[1, 1].real)\n",
    "    J_T = 1 - np.average(taus)\n",
    "    print(\"    qubit error: %.1e\" % J_T)\n",
    "    return J_T"
   ]
  },
  {
   "cell_type": "markdown",
   "metadata": {
    "id": "8wR7TUXcLUC_"
   },
   "source": [
    "In order to minimize the above functional, we need to provide the correct\n",
    "`chi_constructor` for the Krotov optimization. This is the only place where the\n",
    "functional (implicitly) enters the optimization.\n",
    "Given our bipartite system and choice of $J_T$, the equation for\n",
    "$\\op{\\chi}(T)$ reads\n",
    "\n",
    "$$\n",
    "  \\op{\\chi}(T)\n",
    "  =\n",
    "  \\frac{1}{2} \\ket{\\Psi_{q}^{\\tgt}} \\bra{\\Psi_{q}^{\\tgt}} \\otimes \\op{1}_{2}\n",
    "  =\n",
    "  \\frac{1}{2} \\ket{00}\\bra{00} + \\frac{1}{2} \\ket{01}\\bra{01}.\n",
    "$$"
   ]
  },
  {
   "cell_type": "code",
   "execution_count": 19,
   "metadata": {
    "id": "4-iRleb5LUDA"
   },
   "outputs": [],
   "source": [
    "def chis_qubit(fw_states_T, objectives, tau_vals):\n",
    "    \"\"\"Calculate chis for the chosen functional\"\"\"\n",
    "    chis = []\n",
    "    for state_i_T in fw_states_T:\n",
    "        chi_i = qutip.Qobj(qutip.tensor(qutip.Qobj(np.diag([1, 1])),rho_T_trg))\n",
    "        chis.append(chi_i)\n",
    "    return chis"
   ]
  },
  {
   "cell_type": "markdown",
   "metadata": {
    "id": "OWnyQxiILUDA"
   },
   "source": [
    "We now carry out the optimization for five iterations."
   ]
  },
  {
   "cell_type": "code",
   "execution_count": 20,
   "metadata": {
    "id": "TTbSXlvhOM4b"
   },
   "outputs": [],
   "source": [
    "def plot_iterations(opt_result):\n",
    "    \"\"\"Plot the control fields in population dynamics over all iterations.\n",
    "\n",
    "    This depends on ``store_all_pulses=True`` in the call to\n",
    "    `optimize_pulses`.\n",
    "    \"\"\"\n",
    "    \n",
    "    H0_q = omega*0.5*(-qutip.operators.sigmaz()+qutip.qeye(2))\n",
    "    # drive qubit Hamiltonian\n",
    "    H1_q = -0.2*qutip.operators.sigmax()\n",
    "\n",
    "    # drift TLS Hamiltonian\n",
    "    H0_T = omega*0.5*(-qutip.operators.sigmaz()+qutip.qeye(2))\n",
    "\n",
    "    # Lift Hamiltonians to joint system operators\n",
    "    H0 = qutip.tensor(H0_q, qutip.qeye(2)) + qutip.tensor(qutip.qeye(2), H0_T)\n",
    "    H1 = qutip.tensor(H1_q, qutip.qeye(2))\n",
    "\n",
    "    # qubit-TLS interaction\n",
    "    H_int =  g*(qutip.tensor(qutip.Qobj(np.array([[0, 0], [1, 0]])),qutip.Qobj(np.array([[0, 1], [0, 0]])))+qutip.tensor(qutip.Qobj(np.array([[0, 1], [0, 0]])),qutip.Qobj(np.array([[0, 0], [1, 0]]))))\n",
    "\n",
    "    # convert Hamiltonians to QuTiP objects\n",
    "    H0 = qutip.Qobj(H0 + H_int)\n",
    "    H1 = qutip.Qobj(H1)\n",
    "    \n",
    "    optimized_dynamics = opt_result.optimized_objectives[0].mesolve(\n",
    "      tlist, e_ops=[]\n",
    "    )\n",
    "    fig, [ax_ctr,ax,ay] = plt.subplots(nrows=3, figsize=(4, 5))\n",
    "    n_iters = len(opt_result.iters)\n",
    "    EEnergy=np.zeros(nt)\n",
    "    W=np.zeros(nt)\n",
    "    Q=np.zeros(nt)\n",
    "    for (iteration, pulses) in zip(opt_result.iters, opt_result.all_pulses):\n",
    "        controls = [\n",
    "            krotov.conversions.pulse_onto_tlist(pulse)\n",
    "            for pulse in pulses\n",
    "        ]\n",
    "        objectives = opt_result.objectives_with_controls(controls)\n",
    "        dynamics = objectives[0].mesolve(\n",
    "            opt_result.tlist, e_ops=[]\n",
    "        )\n",
    "        if iteration == 0:\n",
    "            ls = '--'  # dashed\n",
    "            alpha = 1  # full opacity\n",
    "            ctr_label = 'guess'\n",
    "            pop_labels = ['0 (guess)', '1 (guess)']\n",
    "        elif iteration == opt_result.iters[-1]:\n",
    "            ls = '-'  # solid\n",
    "            alpha = 1  # full opacity\n",
    "            ctr_label = 'optimized'\n",
    "            pop_labels = ['0 (optimized)', '1 (optimized)']\n",
    "        else:\n",
    "            ls = '-'  # solid\n",
    "            alpha = 0.5 * float(iteration) / float(n_iters)  # max 50%\n",
    "            ctr_label = None\n",
    "            pop_labels = [None, None]\n",
    "        ax_ctr.plot(\n",
    "            dynamics.times,\n",
    "            controls[0],\n",
    "            label=ctr_label,\n",
    "            color='black',\n",
    "            ls=ls,\n",
    "            alpha=alpha,\n",
    "        )\n",
    "    EField=np.transpose(np.array(opt_result.optimized_controls))\n",
    "    EEnergy[0]=(np.square(EField[0]))*(T/nt)\n",
    "    W[0]=np.real((EField[1]-EField[0])*np.trace(np.array(H1*optimized_dynamics.states[0])))\n",
    "    Q[0]=np.real(np.trace(np.array((H0+H1*qutip.Qobj(EField[0]))*(optimized_dynamics.states[1]-optimized_dynamics.states[0]))))\n",
    "    a=0\n",
    "    b=0\n",
    "    c=0\n",
    "    print(qutip.Qobj(EField[0]))\n",
    "    for i in range (1,nt):\n",
    "      a+=np.square(EField[i-1])\n",
    "      b+=np.real((EField[i]-EField[i-1])*np.trace(np.array(H1*optimized_dynamics.states[i-1])))\n",
    "      c+=np.real(np.trace(np.array((H0+H1*qutip.Qobj(EField[i-1]))*(optimized_dynamics.states[i]-optimized_dynamics.states[i-1]))))\n",
    "      EEnergy[i]=(np.square(EField[i])+a)*(T/nt)\n",
    "      if i==nt-1:\n",
    "        W[i]= np.real((EField[i]-EField[i-1])*np.trace(np.array(H1*optimized_dynamics.states[i])))+b\n",
    "        Q[i]=np.real(np.trace(np.array((H0+H1*qutip.Qobj(EField[i]))*(optimized_dynamics.states[i]-optimized_dynamics.states[i-1]))))+c\n",
    "      else:\n",
    "        W[i]= np.real((EField[i+1]-EField[i])*np.trace(np.array(H1*optimized_dynamics.states[i])))+b\n",
    "        Q[i]=np.real(np.trace(np.array((H0+H1*qutip.Qobj(EField[i]))*(optimized_dynamics.states[i+1]-optimized_dynamics.states[i]))))+c\n",
    "      \n",
    "    \n",
    "    ay.plot(tlist,np.transpose(EEnergy-W))\n",
    "    ay.set_title('Difference')\n",
    "    ax.plot(tlist,np.transpose(EEnergy))\n",
    "    ax.set_title('Energy of the field')\n",
    "    plt.legend()\n",
    "    fig3, az =plt.subplots()\n",
    "    az.plot(tlist,np.transpose(Q))\n",
    "    az.set_title(\"Heat\")\n",
    "    plt.show(fig)\n",
    "    plt.show(fig3)"
   ]
  },
  {
   "cell_type": "code",
   "execution_count": 62,
   "metadata": {
    "colab": {
     "base_uri": "https://localhost:8080/",
     "height": 1000
    },
    "id": "UKhheDK_LUDA",
    "outputId": "ac5c99ab-e4d9-4bd2-8adc-55175523ad08"
   },
   "outputs": [
    {
     "name": "stdout",
     "output_type": "stream",
     "text": [
      "Iteration 0\n",
      "    objectives:\n",
      "        1:ρ₀[2⊗2,2⊗2] to ρ₁[2⊗2,2⊗2] via [𝓛₁₆[[2⊗2,2⊗2],[2⊗2,2⊗2]], [𝓛₁₇[[2⊗2,2⊗2],[2⊗2,2⊗2]], u₅(t)]]\n",
      "    adjoint objectives:\n",
      "        1:ρ₁₀[2⊗2,2⊗2] to ρ₁₁[2⊗2,2⊗2] via [𝓛₁₈[[2⊗2,2⊗2],[2⊗2,2⊗2]], [𝓛₁₉[[2⊗2,2⊗2],[2⊗2,2⊗2]], u₅(t)]]\n",
      "    chi_constructor: chis_qubit\n",
      "    mu: derivative_wrt_pulse\n",
      "    S(t) (ranges): [0.000000, 1.000000]\n",
      "    iter_start: 0\n",
      "    iter_stop: 20000\n",
      "    duration: 0.0 secs (started at 2023-07-28 17:28:24)\n",
      "    optimized pulses (ranges): [0.00, 0.00]\n",
      "    ∫gₐ(t)dt: 0.00e+00\n",
      "    λₐ: 5.00e-03\n",
      "    storage (bw, fw, fw0): None, None, None\n",
      "    fw_states_T norm: 1.000000\n",
      "    τ: (0.00e+00:0.00π)\n"
     ]
    },
    {
     "name": "stdout",
     "output_type": "stream",
     "text": [
      "    qubit error: 1.0e+00\n",
      "Iteration 1\n",
      "    duration: 0.5 secs (started at 2023-07-28 17:28:24)\n",
      "    optimized pulses (ranges): [-0.00, 0.00]\n",
      "    ∫gₐ(t)dt: 2.31e-14\n",
      "    λₐ: 5.00e-03\n",
      "    storage (bw, fw, fw0): [1 * ndarray(1000)] (0.7 MB), None, None\n",
      "    fw_states_T norm: 1.000000\n",
      "    τ: (0.00e+00:0.00π)\n",
      "    qubit error: 1.0e+00\n",
      "Iteration 2\n",
      "    duration: 0.9 secs (started at 2023-07-28 17:28:25)\n",
      "    optimized pulses (ranges): [-1.75, 26.03]\n",
      "    ∫gₐ(t)dt: 1.43e+02\n",
      "    λₐ: 5.00e-03\n",
      "    storage (bw, fw, fw0): [1 * ndarray(1000)] (0.7 MB), None, None\n",
      "    fw_states_T norm: 1.000000\n",
      "    τ: (3.53e-01:0.00π)\n",
      "    qubit error: 2.9e-01\n",
      "Iteration 3\n",
      "    duration: 1.2 secs (started at 2023-07-28 17:28:25)\n",
      "    optimized pulses (ranges): [-2.01, 26.48]\n",
      "    ∫gₐ(t)dt: 2.84e+01\n",
      "    λₐ: 5.00e-03\n",
      "    storage (bw, fw, fw0): [1 * ndarray(1000)] (0.7 MB), None, None\n",
      "    fw_states_T norm: 1.000000\n",
      "    τ: (2.74e-01:0.00π)\n",
      "    qubit error: 1.6e-01\n",
      "Iteration 4\n",
      "    duration: 1.3 secs (started at 2023-07-28 17:28:27)\n",
      "    optimized pulses (ranges): [-2.65, 26.97]\n",
      "    ∫gₐ(t)dt: 3.50e+00\n",
      "    λₐ: 5.00e-03\n",
      "    storage (bw, fw, fw0): [1 * ndarray(1000)] (0.7 MB), None, None\n",
      "    fw_states_T norm: 1.000000\n",
      "    τ: (3.85e-01:0.00π)\n",
      "    qubit error: 1.4e-01\n",
      "Iteration 5\n",
      "    duration: 1.1 secs (started at 2023-07-28 17:28:28)\n",
      "    optimized pulses (ranges): [-3.14, 27.53]\n",
      "    ∫gₐ(t)dt: 2.55e+00\n",
      "    λₐ: 5.00e-03\n",
      "    storage (bw, fw, fw0): [1 * ndarray(1000)] (0.7 MB), None, None\n",
      "    fw_states_T norm: 1.000000\n",
      "    τ: (4.09e-01:0.00π)\n",
      "    qubit error: 1.3e-01\n",
      "Iteration 6\n",
      "    duration: 1.0 secs (started at 2023-07-28 17:28:29)\n",
      "    optimized pulses (ranges): [-3.52, 27.97]\n",
      "    ∫gₐ(t)dt: 1.62e+00\n",
      "    λₐ: 5.00e-03\n",
      "    storage (bw, fw, fw0): [1 * ndarray(1000)] (0.7 MB), None, None\n",
      "    fw_states_T norm: 1.000000\n",
      "    τ: (3.87e-01:0.00π)\n",
      "    qubit error: 1.2e-01\n",
      "Iteration 7\n",
      "    duration: 0.5 secs (started at 2023-07-28 17:28:30)\n",
      "    optimized pulses (ranges): [-3.80, 28.32]\n",
      "    ∫gₐ(t)dt: 1.10e+00\n",
      "    λₐ: 5.00e-03\n",
      "    storage (bw, fw, fw0): [1 * ndarray(1000)] (0.7 MB), None, None\n",
      "    fw_states_T norm: 1.000000\n",
      "    τ: (3.62e-01:0.00π)\n",
      "    qubit error: 1.1e-01\n",
      "Iteration 8\n",
      "    duration: 0.5 secs (started at 2023-07-28 17:28:30)\n",
      "    optimized pulses (ranges): [-3.99, 28.76]\n",
      "    ∫gₐ(t)dt: 8.90e-01\n",
      "    λₐ: 5.00e-03\n",
      "    storage (bw, fw, fw0): [1 * ndarray(1000)] (0.7 MB), None, None\n",
      "    fw_states_T norm: 1.000000\n",
      "    τ: (3.37e-01:0.00π)\n",
      "    qubit error: 1.1e-01\n",
      "Iteration 9\n",
      "    duration: 0.5 secs (started at 2023-07-28 17:28:31)\n",
      "    optimized pulses (ranges): [-4.12, 29.18]\n",
      "    ∫gₐ(t)dt: 6.52e-01\n",
      "    λₐ: 5.00e-03\n",
      "    storage (bw, fw, fw0): [1 * ndarray(1000)] (0.7 MB), None, None\n",
      "    fw_states_T norm: 1.000000\n",
      "    τ: (3.14e-01:0.00π)\n",
      "    qubit error: 1.1e-01\n",
      "Iteration 10\n",
      "    duration: 0.5 secs (started at 2023-07-28 17:28:31)\n",
      "    optimized pulses (ranges): [-4.35, 29.63]\n",
      "    ∫gₐ(t)dt: 5.08e-01\n",
      "    λₐ: 5.00e-03\n",
      "    storage (bw, fw, fw0): [1 * ndarray(1000)] (0.7 MB), None, None\n",
      "    fw_states_T norm: 1.000000\n",
      "    τ: (2.95e-01:0.00π)\n",
      "    qubit error: 1.1e-01\n",
      "Iteration 11\n",
      "    duration: 0.5 secs (started at 2023-07-28 17:28:32)\n",
      "    optimized pulses (ranges): [-4.68, 30.06]\n",
      "    ∫gₐ(t)dt: 4.04e-01\n",
      "    λₐ: 5.00e-03\n",
      "    storage (bw, fw, fw0): [1 * ndarray(1000)] (0.7 MB), None, None\n",
      "    fw_states_T norm: 1.000000\n",
      "    τ: (2.79e-01:0.00π)\n",
      "    qubit error: 1.0e-01\n",
      "Iteration 12\n",
      "    duration: 0.5 secs (started at 2023-07-28 17:28:32)\n",
      "    optimized pulses (ranges): [-4.88, 30.54]\n",
      "    ∫gₐ(t)dt: 3.27e-01\n",
      "    λₐ: 5.00e-03\n",
      "    storage (bw, fw, fw0): [1 * ndarray(1000)] (0.7 MB), None, None\n",
      "    fw_states_T norm: 1.000000\n",
      "    τ: (2.70e-01:0.00π)\n",
      "    qubit error: 1.0e-01\n",
      "Iteration 13\n",
      "    duration: 0.5 secs (started at 2023-07-28 17:28:33)\n",
      "    optimized pulses (ranges): [-5.04, 30.99]\n",
      "    ∫gₐ(t)dt: 2.74e-01\n",
      "    λₐ: 5.00e-03\n",
      "    storage (bw, fw, fw0): [1 * ndarray(1000)] (0.7 MB), None, None\n",
      "    fw_states_T norm: 1.000000\n",
      "    τ: (2.61e-01:0.00π)\n",
      "    qubit error: 1.0e-01\n",
      "Iteration 14\n",
      "    duration: 0.5 secs (started at 2023-07-28 17:28:33)\n",
      "    optimized pulses (ranges): [-5.16, 31.41]\n",
      "    ∫gₐ(t)dt: 2.26e-01\n",
      "    λₐ: 5.00e-03\n",
      "    storage (bw, fw, fw0): [1 * ndarray(1000)] (0.7 MB), None, None\n",
      "    fw_states_T norm: 1.000000\n",
      "    τ: (2.55e-01:0.00π)\n",
      "    qubit error: 1.0e-01\n",
      "Iteration 15\n",
      "    duration: 0.5 secs (started at 2023-07-28 17:28:34)\n",
      "    optimized pulses (ranges): [-5.24, 31.84]\n",
      "    ∫gₐ(t)dt: 2.02e-01\n",
      "    λₐ: 5.00e-03\n",
      "    storage (bw, fw, fw0): [1 * ndarray(1000)] (0.7 MB), None, None\n",
      "    fw_states_T norm: 1.000000\n",
      "    τ: (2.51e-01:0.00π)\n",
      "    qubit error: 1.0e-01\n",
      "Iteration 16\n",
      "    duration: 0.5 secs (started at 2023-07-28 17:28:34)\n",
      "    optimized pulses (ranges): [-5.29, 32.26]\n",
      "    ∫gₐ(t)dt: 1.82e-01\n",
      "    λₐ: 5.00e-03\n",
      "    storage (bw, fw, fw0): [1 * ndarray(1000)] (0.7 MB), None, None\n",
      "    fw_states_T norm: 1.000000\n",
      "    τ: (2.49e-01:0.00π)\n",
      "    qubit error: 1.0e-01\n",
      "Iteration 17\n",
      "    duration: 0.5 secs (started at 2023-07-28 17:28:35)\n",
      "    optimized pulses (ranges): [-5.32, 32.67]\n",
      "    ∫gₐ(t)dt: 1.81e-01\n",
      "    λₐ: 5.00e-03\n",
      "    storage (bw, fw, fw0): [1 * ndarray(1000)] (0.7 MB), None, None\n",
      "    fw_states_T norm: 1.000000\n",
      "    τ: (2.49e-01:0.00π)\n",
      "    qubit error: 1.0e-01\n",
      "Iteration 18\n",
      "    duration: 0.5 secs (started at 2023-07-28 17:28:35)\n",
      "    optimized pulses (ranges): [-5.35, 33.12]\n",
      "    ∫gₐ(t)dt: 1.97e-01\n",
      "    λₐ: 5.00e-03\n",
      "    storage (bw, fw, fw0): [1 * ndarray(1000)] (0.7 MB), None, None\n",
      "    fw_states_T norm: 1.000000\n",
      "    τ: (2.51e-01:0.00π)\n",
      "    qubit error: 1.0e-01\n",
      "Iteration 19\n",
      "    duration: 0.5 secs (started at 2023-07-28 17:28:36)\n",
      "    optimized pulses (ranges): [-5.39, 33.51]\n",
      "    ∫gₐ(t)dt: 1.94e-01\n",
      "    λₐ: 5.00e-03\n",
      "    storage (bw, fw, fw0): [1 * ndarray(1000)] (0.7 MB), None, None\n",
      "    fw_states_T norm: 1.000000\n",
      "    τ: (2.52e-01:0.00π)\n",
      "    qubit error: 9.9e-02\n",
      "Iteration 20\n",
      "    duration: 0.5 secs (started at 2023-07-28 17:28:36)\n",
      "    optimized pulses (ranges): [-5.41, 33.94]\n",
      "    ∫gₐ(t)dt: 2.24e-01\n",
      "    λₐ: 5.00e-03\n",
      "    storage (bw, fw, fw0): [1 * ndarray(1000)] (0.7 MB), None, None\n",
      "    fw_states_T norm: 1.000000\n",
      "    τ: (2.57e-01:0.00π)\n",
      "    qubit error: 9.9e-02\n",
      "Iteration 21\n",
      "    duration: 0.5 secs (started at 2023-07-28 17:28:37)\n",
      "    optimized pulses (ranges): [-5.45, 34.35]\n",
      "    ∫gₐ(t)dt: 2.29e-01\n",
      "    λₐ: 5.00e-03\n",
      "    storage (bw, fw, fw0): [1 * ndarray(1000)] (0.7 MB), None, None\n",
      "    fw_states_T norm: 1.000000\n",
      "    τ: (2.64e-01:0.00π)\n",
      "    qubit error: 9.8e-02\n",
      "Iteration 22\n",
      "    duration: 0.5 secs (started at 2023-07-28 17:28:37)\n",
      "    optimized pulses (ranges): [-5.50, 34.80]\n",
      "    ∫gₐ(t)dt: 2.69e-01\n",
      "    λₐ: 5.00e-03\n",
      "    storage (bw, fw, fw0): [1 * ndarray(1000)] (0.7 MB), None, None\n",
      "    fw_states_T norm: 1.000000\n",
      "    τ: (2.74e-01:0.00π)\n",
      "    qubit error: 9.7e-02\n",
      "Iteration 23\n",
      "    duration: 0.5 secs (started at 2023-07-28 17:28:38)\n",
      "    optimized pulses (ranges): [-5.53, 35.32]\n",
      "    ∫gₐ(t)dt: 2.86e-01\n",
      "    λₐ: 5.00e-03\n",
      "    storage (bw, fw, fw0): [1 * ndarray(1000)] (0.7 MB), None, None\n",
      "    fw_states_T norm: 1.000000\n",
      "    τ: (2.87e-01:0.00π)\n",
      "    qubit error: 9.6e-02\n",
      "Iteration 24\n",
      "    duration: 0.5 secs (started at 2023-07-28 17:28:38)\n",
      "    optimized pulses (ranges): [-5.56, 35.84]\n",
      "    ∫gₐ(t)dt: 2.87e-01\n",
      "    λₐ: 5.00e-03\n",
      "    storage (bw, fw, fw0): [1 * ndarray(1000)] (0.7 MB), None, None\n",
      "    fw_states_T norm: 1.000000\n",
      "    τ: (3.00e-01:0.00π)\n",
      "    qubit error: 9.5e-02\n",
      "Iteration 25\n",
      "    duration: 0.5 secs (started at 2023-07-28 17:28:39)\n",
      "    optimized pulses (ranges): [-5.58, 36.39]\n",
      "    ∫gₐ(t)dt: 2.50e-01\n",
      "    λₐ: 5.00e-03\n",
      "    storage (bw, fw, fw0): [1 * ndarray(1000)] (0.7 MB), None, None\n",
      "    fw_states_T norm: 1.000000\n",
      "    τ: (3.12e-01:0.00π)\n",
      "    qubit error: 9.4e-02\n",
      "Iteration 26\n",
      "    duration: 0.5 secs (started at 2023-07-28 17:28:39)\n",
      "    optimized pulses (ranges): [-5.59, 36.93]\n",
      "    ∫gₐ(t)dt: 2.41e-01\n",
      "    λₐ: 5.00e-03\n",
      "    storage (bw, fw, fw0): [1 * ndarray(1000)] (0.7 MB), None, None\n",
      "    fw_states_T norm: 1.000000\n",
      "    τ: (3.22e-01:0.00π)\n",
      "    qubit error: 9.4e-02\n",
      "Iteration 27\n",
      "    duration: 0.5 secs (started at 2023-07-28 17:28:40)\n",
      "    optimized pulses (ranges): [-5.60, 37.44]\n",
      "    ∫gₐ(t)dt: 2.18e-01\n",
      "    λₐ: 5.00e-03\n",
      "    storage (bw, fw, fw0): [1 * ndarray(1000)] (0.7 MB), None, None\n",
      "    fw_states_T norm: 1.000000\n",
      "    τ: (3.29e-01:0.00π)\n",
      "    qubit error: 9.3e-02\n",
      "Iteration 28\n",
      "    duration: 0.5 secs (started at 2023-07-28 17:28:40)\n",
      "    optimized pulses (ranges): [-5.63, 37.89]\n",
      "    ∫gₐ(t)dt: 2.27e-01\n",
      "    λₐ: 5.00e-03\n",
      "    storage (bw, fw, fw0): [1 * ndarray(1000)] (0.7 MB), None, None\n",
      "    fw_states_T norm: 1.000000\n",
      "    τ: (3.36e-01:0.00π)\n",
      "    qubit error: 9.3e-02\n",
      "Iteration 29\n",
      "    duration: 0.5 secs (started at 2023-07-28 17:28:41)\n",
      "    optimized pulses (ranges): [-5.65, 38.32]\n",
      "    ∫gₐ(t)dt: 2.17e-01\n",
      "    λₐ: 5.00e-03\n",
      "    storage (bw, fw, fw0): [1 * ndarray(1000)] (0.7 MB), None, None\n",
      "    fw_states_T norm: 1.000000\n",
      "    τ: (3.44e-01:0.00π)\n",
      "    qubit error: 9.2e-02\n",
      "Iteration 30\n",
      "    duration: 0.5 secs (started at 2023-07-28 17:28:41)\n",
      "    optimized pulses (ranges): [-5.66, 38.76]\n",
      "    ∫gₐ(t)dt: 1.65e-01\n",
      "    λₐ: 5.00e-03\n",
      "    storage (bw, fw, fw0): [1 * ndarray(1000)] (0.7 MB), None, None\n",
      "    fw_states_T norm: 1.000000\n",
      "    τ: (3.53e-01:0.00π)\n",
      "    qubit error: 9.2e-02\n",
      "Iteration 31\n",
      "    duration: 0.5 secs (started at 2023-07-28 17:28:42)\n",
      "    optimized pulses (ranges): [-5.67, 39.19]\n",
      "    ∫gₐ(t)dt: 2.50e-01\n",
      "    λₐ: 5.00e-03\n",
      "    storage (bw, fw, fw0): [1 * ndarray(1000)] (0.7 MB), None, None\n",
      "    fw_states_T norm: 1.000000\n",
      "    τ: (3.61e-01:0.00π)\n",
      "    qubit error: 9.1e-02\n",
      "Iteration 32\n",
      "    duration: 0.6 secs (started at 2023-07-28 17:28:42)\n",
      "    optimized pulses (ranges): [-5.71, 39.61]\n",
      "    ∫gₐ(t)dt: 2.40e-01\n",
      "    λₐ: 5.00e-03\n",
      "    storage (bw, fw, fw0): [1 * ndarray(1000)] (0.7 MB), None, None\n",
      "    fw_states_T norm: 1.000000\n",
      "    τ: (3.68e-01:0.00π)\n",
      "    qubit error: 9.1e-02\n",
      "Iteration 33\n",
      "    duration: 0.5 secs (started at 2023-07-28 17:28:43)\n",
      "    optimized pulses (ranges): [-5.84, 40.03]\n",
      "    ∫gₐ(t)dt: 1.67e-01\n",
      "    λₐ: 5.00e-03\n",
      "    storage (bw, fw, fw0): [1 * ndarray(1000)] (0.7 MB), None, None\n",
      "    fw_states_T norm: 1.000000\n",
      "    τ: (3.74e-01:0.00π)\n",
      "    qubit error: 9.0e-02\n",
      "Iteration 34\n",
      "    duration: 0.6 secs (started at 2023-07-28 17:28:43)\n",
      "    optimized pulses (ranges): [-5.96, 40.45]\n",
      "    ∫gₐ(t)dt: 2.22e-01\n",
      "    λₐ: 5.00e-03\n",
      "    storage (bw, fw, fw0): [1 * ndarray(1000)] (0.7 MB), None, None\n",
      "    fw_states_T norm: 1.000000\n",
      "    τ: (3.80e-01:0.00π)\n",
      "    qubit error: 9.0e-02\n",
      "Iteration 35\n",
      "    duration: 0.5 secs (started at 2023-07-28 17:28:44)\n",
      "    optimized pulses (ranges): [-6.07, 40.85]\n",
      "    ∫gₐ(t)dt: 2.19e-01\n",
      "    λₐ: 5.00e-03\n",
      "    storage (bw, fw, fw0): [1 * ndarray(1000)] (0.7 MB), None, None\n",
      "    fw_states_T norm: 1.000000\n",
      "    τ: (3.88e-01:0.00π)\n",
      "    qubit error: 9.0e-02\n",
      "Iteration 36\n",
      "    duration: 0.5 secs (started at 2023-07-28 17:28:45)\n",
      "    optimized pulses (ranges): [-6.18, 41.25]\n",
      "    ∫gₐ(t)dt: 2.58e-01\n",
      "    λₐ: 5.00e-03\n",
      "    storage (bw, fw, fw0): [1 * ndarray(1000)] (0.7 MB), None, None\n",
      "    fw_states_T norm: 1.000000\n",
      "    τ: (3.94e-01:0.00π)\n",
      "    qubit error: 8.9e-02\n",
      "Iteration 37\n",
      "    duration: 0.5 secs (started at 2023-07-28 17:28:45)\n",
      "    optimized pulses (ranges): [-6.28, 41.65]\n",
      "    ∫gₐ(t)dt: 1.72e-01\n",
      "    λₐ: 5.00e-03\n",
      "    storage (bw, fw, fw0): [1 * ndarray(1000)] (0.7 MB), None, None\n",
      "    fw_states_T norm: 1.000000\n",
      "    τ: (4.00e-01:0.00π)\n",
      "    qubit error: 8.9e-02\n",
      "Iteration 38\n",
      "    duration: 0.5 secs (started at 2023-07-28 17:28:46)\n",
      "    optimized pulses (ranges): [-6.37, 42.04]\n",
      "    ∫gₐ(t)dt: 2.13e-01\n",
      "    λₐ: 5.00e-03\n",
      "    storage (bw, fw, fw0): [1 * ndarray(1000)] (0.7 MB), None, None\n",
      "    fw_states_T norm: 1.000000\n",
      "    τ: (4.07e-01:0.00π)\n",
      "    qubit error: 8.9e-02\n",
      "Iteration 39\n",
      "    duration: 0.5 secs (started at 2023-07-28 17:28:46)\n",
      "    optimized pulses (ranges): [-6.46, 42.43]\n",
      "    ∫gₐ(t)dt: 2.00e-01\n",
      "    λₐ: 5.00e-03\n",
      "    storage (bw, fw, fw0): [1 * ndarray(1000)] (0.7 MB), None, None\n",
      "    fw_states_T norm: 1.000000\n",
      "    τ: (4.11e-01:0.00π)\n",
      "    qubit error: 8.8e-02\n",
      "Iteration 40\n",
      "    duration: 0.6 secs (started at 2023-07-28 17:28:47)\n",
      "    optimized pulses (ranges): [-6.57, 42.81]\n",
      "    ∫gₐ(t)dt: 2.20e-01\n",
      "    λₐ: 5.00e-03\n",
      "    storage (bw, fw, fw0): [1 * ndarray(1000)] (0.7 MB), None, None\n",
      "    fw_states_T norm: 1.000000\n",
      "    τ: (4.19e-01:0.00π)\n",
      "    qubit error: 8.8e-02\n",
      "Iteration 41\n",
      "    duration: 0.6 secs (started at 2023-07-28 17:28:47)\n",
      "    optimized pulses (ranges): [-6.66, 43.19]\n",
      "    ∫gₐ(t)dt: 2.20e-01\n",
      "    λₐ: 5.00e-03\n",
      "    storage (bw, fw, fw0): [1 * ndarray(1000)] (0.7 MB), None, None\n",
      "    fw_states_T norm: 1.000000\n",
      "    τ: (4.25e-01:0.00π)\n",
      "    qubit error: 8.8e-02\n",
      "Iteration 42\n",
      "    duration: 0.6 secs (started at 2023-07-28 17:28:48)\n",
      "    optimized pulses (ranges): [-6.75, 43.56]\n",
      "    ∫gₐ(t)dt: 2.48e-01\n",
      "    λₐ: 5.00e-03\n",
      "    storage (bw, fw, fw0): [1 * ndarray(1000)] (0.7 MB), None, None\n",
      "    fw_states_T norm: 1.000000\n",
      "    τ: (4.30e-01:0.00π)\n",
      "    qubit error: 8.8e-02\n",
      "Iteration 43\n",
      "    duration: 0.5 secs (started at 2023-07-28 17:28:48)\n",
      "    optimized pulses (ranges): [-6.82, 43.97]\n",
      "    ∫gₐ(t)dt: 3.74e-01\n",
      "    λₐ: 5.00e-03\n",
      "    storage (bw, fw, fw0): [1 * ndarray(1000)] (0.7 MB), None, None\n",
      "    fw_states_T norm: 1.000000\n",
      "    τ: (4.36e-01:0.00π)\n",
      "    qubit error: 8.7e-02\n",
      "Iteration 44\n",
      "    duration: 0.5 secs (started at 2023-07-28 17:28:49)\n",
      "    optimized pulses (ranges): [-7.20, 44.35]\n",
      "    ∫gₐ(t)dt: 2.16e-01\n",
      "    λₐ: 5.00e-03\n",
      "    storage (bw, fw, fw0): [1 * ndarray(1000)] (0.7 MB), None, None\n",
      "    fw_states_T norm: 1.000000\n",
      "    τ: (4.44e-01:0.00π)\n",
      "    qubit error: 8.7e-02\n",
      "Iteration 45\n",
      "    duration: 0.5 secs (started at 2023-07-28 17:28:49)\n",
      "    optimized pulses (ranges): [-7.65, 45.26]\n",
      "    ∫gₐ(t)dt: 4.05e-01\n",
      "    λₐ: 5.00e-03\n",
      "    storage (bw, fw, fw0): [1 * ndarray(1000)] (0.7 MB), None, None\n",
      "    fw_states_T norm: 1.000000\n",
      "    τ: (4.50e-01:0.00π)\n",
      "    qubit error: 8.7e-02\n",
      "Iteration 46\n",
      "    duration: 0.5 secs (started at 2023-07-28 17:28:50)\n",
      "    optimized pulses (ranges): [-8.16, 47.04]\n",
      "    ∫gₐ(t)dt: 3.73e-01\n",
      "    λₐ: 5.00e-03\n",
      "    storage (bw, fw, fw0): [1 * ndarray(1000)] (0.7 MB), None, None\n",
      "    fw_states_T norm: 1.000000\n",
      "    τ: (4.55e-01:0.00π)\n",
      "    qubit error: 8.7e-02\n",
      "Iteration 47\n",
      "    duration: 0.5 secs (started at 2023-07-28 17:28:50)\n",
      "    optimized pulses (ranges): [-8.63, 48.46]\n",
      "    ∫gₐ(t)dt: 2.86e-01\n",
      "    λₐ: 5.00e-03\n",
      "    storage (bw, fw, fw0): [1 * ndarray(1000)] (0.7 MB), None, None\n",
      "    fw_states_T norm: 1.000000\n",
      "    τ: (4.61e-01:0.00π)\n",
      "    qubit error: 8.6e-02\n",
      "Iteration 48\n",
      "    duration: 0.5 secs (started at 2023-07-28 17:28:51)\n",
      "    optimized pulses (ranges): [-9.12, 50.65]\n",
      "    ∫gₐ(t)dt: 3.59e-01\n",
      "    λₐ: 5.00e-03\n",
      "    storage (bw, fw, fw0): [1 * ndarray(1000)] (0.7 MB), None, None\n",
      "    fw_states_T norm: 1.000000\n",
      "    τ: (4.69e-01:0.00π)\n",
      "    qubit error: 8.6e-02\n",
      "Iteration 49\n",
      "    duration: 0.5 secs (started at 2023-07-28 17:28:51)\n",
      "    optimized pulses (ranges): [-9.59, 52.74]\n",
      "    ∫gₐ(t)dt: 3.58e-01\n",
      "    λₐ: 5.00e-03\n",
      "    storage (bw, fw, fw0): [1 * ndarray(1000)] (0.7 MB), None, None\n",
      "    fw_states_T norm: 1.000000\n",
      "    τ: (4.74e-01:0.00π)\n",
      "    qubit error: 8.6e-02\n",
      "Iteration 50\n",
      "    duration: 0.6 secs (started at 2023-07-28 17:28:52)\n",
      "    optimized pulses (ranges): [-10.15, 53.95]\n",
      "    ∫gₐ(t)dt: 3.09e-01\n",
      "    λₐ: 5.00e-03\n",
      "    storage (bw, fw, fw0): [1 * ndarray(1000)] (0.7 MB), None, None\n",
      "    fw_states_T norm: 1.000000\n",
      "    τ: (4.82e-01:0.00π)\n",
      "    qubit error: 8.6e-02\n",
      "Iteration 51\n",
      "    duration: 0.5 secs (started at 2023-07-28 17:28:52)\n",
      "    optimized pulses (ranges): [-10.82, 56.45]\n",
      "    ∫gₐ(t)dt: 5.29e-01\n",
      "    λₐ: 5.00e-03\n",
      "    storage (bw, fw, fw0): [1 * ndarray(1000)] (0.7 MB), None, None\n",
      "    fw_states_T norm: 1.000000\n",
      "    τ: (4.88e-01:0.00π)\n",
      "    qubit error: 8.6e-02\n",
      "Iteration 52\n",
      "    duration: 0.5 secs (started at 2023-07-28 17:28:53)\n",
      "    optimized pulses (ranges): [-11.27, 58.72]\n",
      "    ∫gₐ(t)dt: 4.50e-01\n",
      "    λₐ: 5.00e-03\n",
      "    storage (bw, fw, fw0): [1 * ndarray(1000)] (0.7 MB), None, None\n",
      "    fw_states_T norm: 1.000000\n",
      "    τ: (4.93e-01:0.00π)\n",
      "    qubit error: 8.5e-02\n",
      "Iteration 53\n",
      "    duration: 0.5 secs (started at 2023-07-28 17:28:54)\n",
      "    optimized pulses (ranges): [-11.74, 61.92]\n",
      "    ∫gₐ(t)dt: 6.06e-01\n",
      "    λₐ: 5.00e-03\n",
      "    storage (bw, fw, fw0): [1 * ndarray(1000)] (0.7 MB), None, None\n",
      "    fw_states_T norm: 1.000000\n",
      "    τ: (5.00e-01:0.00π)\n",
      "    qubit error: 8.5e-02\n",
      "Iteration 54\n",
      "    duration: 0.5 secs (started at 2023-07-28 17:28:54)\n",
      "    optimized pulses (ranges): [-12.37, 65.05]\n",
      "    ∫gₐ(t)dt: 6.50e-01\n",
      "    λₐ: 5.00e-03\n",
      "    storage (bw, fw, fw0): [1 * ndarray(1000)] (0.7 MB), None, None\n",
      "    fw_states_T norm: 1.000000\n",
      "    τ: (5.04e-01:0.00π)\n",
      "    qubit error: 8.5e-02\n",
      "Iteration 55\n",
      "    duration: 0.5 secs (started at 2023-07-28 17:28:55)\n",
      "    optimized pulses (ranges): [-13.05, 68.44]\n",
      "    ∫gₐ(t)dt: 7.73e-01\n",
      "    λₐ: 5.00e-03\n",
      "    storage (bw, fw, fw0): [1 * ndarray(1000)] (0.7 MB), None, None\n",
      "    fw_states_T norm: 1.000000\n",
      "    τ: (5.09e-01:0.00π)\n",
      "    qubit error: 8.5e-02\n",
      "Iteration 56\n",
      "    duration: 0.5 secs (started at 2023-07-28 17:28:55)\n",
      "    optimized pulses (ranges): [-13.80, 71.95]\n",
      "    ∫gₐ(t)dt: 8.25e-01\n",
      "    λₐ: 5.00e-03\n",
      "    storage (bw, fw, fw0): [1 * ndarray(1000)] (0.7 MB), None, None\n",
      "    fw_states_T norm: 1.000000\n",
      "    τ: (5.17e-01:0.00π)\n",
      "    qubit error: 8.5e-02\n",
      "Iteration 57\n",
      "    duration: 0.5 secs (started at 2023-07-28 17:28:56)\n",
      "    optimized pulses (ranges): [-14.08, 75.27]\n",
      "    ∫gₐ(t)dt: 6.16e-01\n",
      "    λₐ: 5.00e-03\n",
      "    storage (bw, fw, fw0): [1 * ndarray(1000)] (0.7 MB), None, None\n",
      "    fw_states_T norm: 1.000000\n",
      "    τ: (5.23e-01:0.00π)\n",
      "    qubit error: 8.5e-02\n",
      "Iteration 58\n",
      "    duration: 0.5 secs (started at 2023-07-28 17:28:56)\n",
      "    optimized pulses (ranges): [-14.81, 78.35]\n",
      "    ∫gₐ(t)dt: 7.10e-01\n",
      "    λₐ: 5.00e-03\n",
      "    storage (bw, fw, fw0): [1 * ndarray(1000)] (0.7 MB), None, None\n",
      "    fw_states_T norm: 1.000000\n",
      "    τ: (5.28e-01:0.00π)\n",
      "    qubit error: 8.5e-02\n",
      "Iteration 59\n",
      "    duration: 0.5 secs (started at 2023-07-28 17:28:57)\n",
      "    optimized pulses (ranges): [-15.23, 81.51]\n",
      "    ∫gₐ(t)dt: 5.59e-01\n",
      "    λₐ: 5.00e-03\n",
      "    storage (bw, fw, fw0): [1 * ndarray(1000)] (0.7 MB), None, None\n",
      "    fw_states_T norm: 1.000000\n",
      "    τ: (5.35e-01:0.00π)\n",
      "    qubit error: 8.5e-02\n",
      "Iteration 60\n",
      "    duration: 0.5 secs (started at 2023-07-28 17:28:57)\n",
      "    optimized pulses (ranges): [-15.83, 84.37]\n",
      "    ∫gₐ(t)dt: 6.35e-01\n",
      "    λₐ: 5.00e-03\n",
      "    storage (bw, fw, fw0): [1 * ndarray(1000)] (0.7 MB), None, None\n",
      "    fw_states_T norm: 1.000000\n",
      "    τ: (5.41e-01:0.00π)\n",
      "    qubit error: 8.5e-02\n",
      "Iteration 61\n",
      "    duration: 0.5 secs (started at 2023-07-28 17:28:58)\n",
      "    optimized pulses (ranges): [-16.45, 87.44]\n",
      "    ∫gₐ(t)dt: 7.03e-01\n",
      "    λₐ: 5.00e-03\n",
      "    storage (bw, fw, fw0): [1 * ndarray(1000)] (0.7 MB), None, None\n",
      "    fw_states_T norm: 1.000000\n",
      "    τ: (5.46e-01:0.00π)\n",
      "    qubit error: 8.4e-02\n",
      "Iteration 62\n",
      "    duration: 0.5 secs (started at 2023-07-28 17:28:58)\n",
      "    optimized pulses (ranges): [-16.99, 91.09]\n",
      "    ∫gₐ(t)dt: 9.86e-01\n",
      "    λₐ: 5.00e-03\n",
      "    storage (bw, fw, fw0): [1 * ndarray(1000)] (0.7 MB), None, None\n",
      "    fw_states_T norm: 1.000000\n",
      "    τ: (5.51e-01:0.00π)\n",
      "    qubit error: 8.4e-02\n",
      "Iteration 63\n",
      "    duration: 0.5 secs (started at 2023-07-28 17:28:59)\n",
      "    optimized pulses (ranges): [-17.46, 94.30]\n",
      "    ∫gₐ(t)dt: 7.64e-01\n",
      "    λₐ: 5.00e-03\n",
      "    storage (bw, fw, fw0): [1 * ndarray(1000)] (0.7 MB), None, None\n",
      "    fw_states_T norm: 1.000000\n",
      "    τ: (5.56e-01:0.00π)\n",
      "    qubit error: 8.4e-02\n",
      "Iteration 64\n",
      "    duration: 0.5 secs (started at 2023-07-28 17:28:59)\n",
      "    optimized pulses (ranges): [-18.35, 97.22]\n",
      "    ∫gₐ(t)dt: 6.48e-01\n",
      "    λₐ: 5.00e-03\n",
      "    storage (bw, fw, fw0): [1 * ndarray(1000)] (0.7 MB), None, None\n",
      "    fw_states_T norm: 1.000000\n",
      "    τ: (5.63e-01:0.00π)\n",
      "    qubit error: 8.4e-02\n",
      "Iteration 65\n",
      "    duration: 0.5 secs (started at 2023-07-28 17:29:00)\n",
      "    optimized pulses (ranges): [-19.92, 100.32]\n",
      "    ∫gₐ(t)dt: 7.90e-01\n",
      "    λₐ: 5.00e-03\n",
      "    storage (bw, fw, fw0): [1 * ndarray(1000)] (0.7 MB), None, None\n",
      "    fw_states_T norm: 1.000000\n",
      "    τ: (5.67e-01:0.00π)\n",
      "    qubit error: 8.4e-02\n",
      "Iteration 66\n",
      "    duration: 0.5 secs (started at 2023-07-28 17:29:00)\n",
      "    optimized pulses (ranges): [-21.53, 103.38]\n",
      "    ∫gₐ(t)dt: 7.32e-01\n",
      "    λₐ: 5.00e-03\n",
      "    storage (bw, fw, fw0): [1 * ndarray(1000)] (0.7 MB), None, None\n",
      "    fw_states_T norm: 1.000000\n",
      "    τ: (5.72e-01:0.00π)\n",
      "    qubit error: 8.4e-02\n",
      "Iteration 67\n",
      "    duration: 0.5 secs (started at 2023-07-28 17:29:01)\n",
      "    optimized pulses (ranges): [-22.87, 107.04]\n",
      "    ∫gₐ(t)dt: 9.50e-01\n",
      "    λₐ: 5.00e-03\n",
      "    storage (bw, fw, fw0): [1 * ndarray(1000)] (0.7 MB), None, None\n",
      "    fw_states_T norm: 1.000000\n",
      "    τ: (5.77e-01:0.00π)\n",
      "    qubit error: 8.4e-02\n",
      "Iteration 68\n",
      "    duration: 0.5 secs (started at 2023-07-28 17:29:01)\n",
      "    optimized pulses (ranges): [-24.70, 110.51]\n",
      "    ∫gₐ(t)dt: 1.21e+00\n",
      "    λₐ: 5.00e-03\n",
      "    storage (bw, fw, fw0): [1 * ndarray(1000)] (0.7 MB), None, None\n",
      "    fw_states_T norm: 1.000000\n",
      "    τ: (5.83e-01:0.00π)\n",
      "    qubit error: 8.4e-02\n",
      "Iteration 69\n",
      "    duration: 0.5 secs (started at 2023-07-28 17:29:02)\n",
      "    optimized pulses (ranges): [-25.75, 113.23]\n",
      "    ∫gₐ(t)dt: 6.08e-01\n",
      "    λₐ: 5.00e-03\n",
      "    storage (bw, fw, fw0): [1 * ndarray(1000)] (0.7 MB), None, None\n",
      "    fw_states_T norm: 1.000000\n",
      "    τ: (5.88e-01:0.00π)\n",
      "    qubit error: 8.4e-02\n",
      "Iteration 70\n",
      "    duration: 0.5 secs (started at 2023-07-28 17:29:02)\n",
      "    optimized pulses (ranges): [-27.67, 116.57]\n",
      "    ∫gₐ(t)dt: 1.07e+00\n",
      "    λₐ: 5.00e-03\n",
      "    storage (bw, fw, fw0): [1 * ndarray(1000)] (0.7 MB), None, None\n",
      "    fw_states_T norm: 1.000000\n",
      "    τ: (5.92e-01:0.00π)\n",
      "    qubit error: 8.4e-02\n"
     ]
    }
   ],
   "source": [
    "\n",
    "# NBVAL_IGNORE_OUTPUT\n",
    "# the DensityMatrixODEPropagator is not sufficiently exact to guarantee that\n",
    "# you won't get slightly different results in the optimization when\n",
    "# running this on different systems\n",
    "L, H1 = liouvillian(omega, g, gamma, 0)\n",
    "objectives = [krotov.Objective(initial_state=rho_th, target=rho_trg, H=L)]\n",
    "pulse_options = {L[1][1]: dict(lambda_a=0.005, update_shape=S)}\n",
    "opt_result = krotov.optimize_pulses(\n",
    "    objectives,\n",
    "    pulse_options,\n",
    "    tlist,\n",
    "    iter_stop=20000,\n",
    "    propagator=krotov.propagators.DensityMatrixODEPropagator(\n",
    "        atol=1e-10, rtol=1e-8\n",
    "    ),\n",
    "    chi_constructor=chis_qubit,\n",
    "    info_hook=krotov.info_hooks.chain(\n",
    "        krotov.info_hooks.print_debug_information, print_qubit_error\n",
    "    ),\n",
    "    check_convergence=krotov.convergence.Or(\n",
    "        krotov.convergence.value_below('5e-3', name='J_T'),\n",
    "        krotov.convergence.check_monotonic_error,\n",
    "     ),\n",
    "      store_all_pulses=True,\n",
    ")\n",
    "\n",
    "#plot_iterations(opt_result)\n"
   ]
  },
  {
   "cell_type": "code",
   "execution_count": 68,
   "metadata": {},
   "outputs": [],
   "source": [
    "import qutip as qt"
   ]
  },
  {
   "cell_type": "code",
   "execution_count": 84,
   "metadata": {
    "colab": {
     "base_uri": "https://localhost:8080/"
    },
    "id": "7DXUZ25pLUDB",
    "outputId": "08abc685-bd48-4464-9e8f-a9ef69fee37c"
   },
   "outputs": [],
   "source": [
    "def get_by_iter(opt_result,iter):\n",
    "    for (iteration, pulses) in zip(opt_result.iters, opt_result.all_pulses):\n",
    "        controls = [\n",
    "            krotov.conversions.pulse_onto_tlist(pulse)\n",
    "            for pulse in pulses\n",
    "        ]\n",
    "        objectives = opt_result.objectives_with_controls(controls)\n",
    "        if iteration==iter:\n",
    "            dynamics = objectives[0].mesolve(\n",
    "                opt_result.tlist,options=qt.Options(atol=1e-10, rtol=1e-8))\n",
    "            return dynamics.states[-1]"
   ]
  },
  {
   "cell_type": "code",
   "execution_count": 87,
   "metadata": {},
   "outputs": [
    {
     "data": {
      "text/latex": [
       "Quantum object: dims = [[2, 2], [2, 2]], shape = (4, 4), type = oper, isherm = True $ \\\\ \\left(\\begin{matrix}0.039 & (-0.014+6.908\\times10^{-04}j) & (0.012-0.011j) & (0.003-0.016j)\\\\(-0.014-6.908\\times10^{-04}j) & 0.595 & (0.005-0.021j) & (0.176+0.307j)\\\\(0.012+0.011j) & (0.005+0.021j) & 0.045 & (-0.023+0.007j)\\\\(0.003+0.016j) & (0.176-0.307j) & (-0.023-0.007j) & 0.321\\\\\\end{matrix}\\right)$"
      ],
      "text/plain": [
       "Quantum object: dims = [[2, 2], [2, 2]], shape = (4, 4), type = oper, isherm = True\n",
       "Qobj data =\n",
       "[[ 0.03902063+0.j         -0.01424676+0.00069077j  0.01229947-0.01076413j\n",
       "   0.00293711-0.01624221j]\n",
       " [-0.01424676-0.00069077j  0.59537414+0.j          0.00532458-0.02094737j\n",
       "   0.17581507+0.30714858j]\n",
       " [ 0.01229947+0.01076413j  0.00532458+0.02094737j  0.04470743+0.j\n",
       "  -0.02329199+0.00718219j]\n",
       " [ 0.00293711+0.01624221j  0.17581507-0.30714858j -0.02329199-0.00718219j\n",
       "   0.32089781+0.j        ]]"
      ]
     },
     "execution_count": 87,
     "metadata": {},
     "output_type": "execute_result"
    }
   ],
   "source": [
    "get_by_iter(opt_result,70)"
   ]
  },
  {
   "cell_type": "code",
   "execution_count": 81,
   "metadata": {},
   "outputs": [],
   "source": [
    "from scipy import linalg"
   ]
  },
  {
   "cell_type": "code",
   "execution_count": 82,
   "metadata": {
    "id": "NrxYzKj1Iw7y"
   },
   "outputs": [],
   "source": [
    "def trace_A(rho):\n",
    "    \"\"\"Partial trace over the TLS degrees of freedom\"\"\"\n",
    "    rho_q = np.zeros(shape=(2, 2), dtype=np.complex_)\n",
    "    rho_q[0, 0] = rho[0, 0] + rho[2, 2]\n",
    "    rho_q[0, 1] = rho[0, 1] + rho[2, 3]\n",
    "    rho_q[1, 0] = rho[1, 0] + rho[3, 2]\n",
    "    rho_q[1, 1] = rho[1, 1] + rho[3, 3]\n",
    "    return qt.Qobj(rho_q)"
   ]
  },
  {
   "cell_type": "markdown",
   "metadata": {
    "id": "d_Q2f9x6QY76"
   },
   "source": [
    "Giovannetti"
   ]
  },
  {
   "cell_type": "code",
   "execution_count": null,
   "metadata": {
    "id": "G5JrFUcQF0oE"
   },
   "outputs": [],
   "source": [
    "def HA_coeff(t, args):\n",
    "      return  np.exp(-(t*1j*omega))\n",
    "\n",
    "def HB_coeff(t, args):\n",
    "      return  np.exp((t*1j*omega))\n",
    "\n",
    "\n",
    "def hamiltonian(omega, g,F):\n",
    "    \"\"\"Liouvillian for the coupled system of qubit and TLS\"\"\"\n",
    "    sminus=qt.Qobj(np.array([[0,1],[0,0]]))\n",
    "    splus=qt.Qobj(np.array([[0,0],[1,0]]))\n",
    "    H0_q = omega*0.5*(-qutip.operators.sigmaz()+qutip.qeye(2))\n",
    "    # drive qubit Hamiltonian\n",
    "    H1_A = F*splus\n",
    "    H1_B = F*sminus\n",
    "\n",
    "    # drift TLS Hamiltonian\n",
    "    H0_T = omega*0.5*(-qutip.operators.sigmaz()+qutip.qeye(2))\n",
    "\n",
    "    # Lift Hamiltonians to joint system operators\n",
    "    H0 = qutip.tensor(H0_q, qutip.qeye(2)) + qutip.tensor(qutip.qeye(2), H0_T)\n",
    "    H1A = qutip.tensor(H1_A, qutip.qeye(2))\n",
    "    H1B = qutip.tensor(H1_B, qutip.qeye(2))\n",
    "    # qubit-TLS interaction\n",
    "    H_int =  g*(qutip.tensor(qutip.Qobj(np.array([[0, 0], [1, 0]])),qutip.Qobj(np.array([[0, 1], [0, 0]])))+qutip.tensor(qutip.Qobj(np.array([[0, 1], [0, 0]])),qutip.Qobj(np.array([[0, 0], [1, 0]]))))\n",
    "\n",
    "    # convert Hamiltonians to QuTiP objects\n",
    "    H0 = qutip.Qobj(H0 + H_int)\n",
    "    H1A = qutip.Qobj(H1A)\n",
    "    H1B = qutip.Qobj(H1B)\n",
    "    return [H0,[H1A,HA_coeff],[H1B,HB_coeff]]"
   ]
  },
  {
   "cell_type": "code",
   "execution_count": null,
   "metadata": {
    "id": "z2zeRcRnh6Ew"
   },
   "outputs": [],
   "source": [
    "def eigenvalues(A):\n",
    "    eigenValues, eigenVectors = npla.eig(A)\n",
    "    idx = np.argsort(eigenValues)\n",
    "    eigenValues = eigenValues[idx]\n",
    "    eigenVectors = eigenVectors[:,idx]\n",
    "    return eigenValues\n",
    "    \n",
    "def eigenvectors(A):\n",
    "    eigenValues, eigenVectors = npla.eig(A)\n",
    "    idx = np.argsort(eigenValues)\n",
    "    eigenValues = eigenValues[idx]\n",
    "    eigenVectors = eigenVectors[:,idx]\n",
    "    return eigenVectors"
   ]
  },
  {
   "cell_type": "code",
   "execution_count": null,
   "metadata": {
    "colab": {
     "base_uri": "https://localhost:8080/",
     "height": 620
    },
    "id": "hQvIW4yzDtFe",
    "outputId": "f8a5a3e2-dd86-4690-84c4-2364fc735f21"
   },
   "outputs": [
    {
     "name": "stderr",
     "output_type": "stream",
     "text": [
      "/tmp/ipykernel_772/3532739376.py:32: RuntimeWarning: invalid value encountered in double_scalars\n",
      "  ratio[i]=ergotropy[i]/energy[i]\n"
     ]
    },
    {
     "data": {
      "text/plain": [
       "[<matplotlib.lines.Line2D at 0x7f0e3805bf70>]"
      ]
     },
     "execution_count": 40,
     "metadata": {},
     "output_type": "execute_result"
    },
    {
     "data": {
      "image/png": "[encoded data removed]",
      "text/plain": [
       "<Figure size 640x480 with 1 Axes>"
      ]
     },
     "metadata": {},
     "output_type": "display_data"
    },
    {
     "data": {
      "image/png": "[encoded data removed]",
      "text/plain": [
       "<Figure size 640x480 with 1 Axes>"
      ]
     },
     "metadata": {},
     "output_type": "display_data"
    }
   ],
   "source": [
    "import qutip as qt\n",
    "import numpy as np\n",
    "from numpy import linalg as npla\n",
    "sminus=qt.Qobj(np.array([[0,1],[0,0]]))\n",
    "splus=qt.Qobj(np.array([[0,0],[1,0]]))\n",
    "F=0.5\n",
    "g=0.2\n",
    "gamma=0.05\n",
    "omega=1\n",
    "H=hamiltonian(omega,g,F)\n",
    "psi0=qt.tensor(qt.basis(2,0),qt.basis(2,0))\n",
    "T = 15  # final time\n",
    "nt = 1000\n",
    "t=np.linspace(0,T,nt)\n",
    "N=0\n",
    "H0=omega*0.5*(-qutip.operators.sigmaz()+qutip.qeye(2))\n",
    "output = qt.mesolve(H, psi0, t, [qt.tensor(np.sqrt(gamma*(N+1))*sminus,qt.qeye(2)),qt.tensor(np.sqrt(gamma*N)*splus,qt.qeye(2))], [])\n",
    "energy=np.zeros(len(t))\n",
    "ergotropy=np.zeros(len(t))\n",
    "ratio=np.zeros(len(t))\n",
    "for i in range (0,len(t)):\n",
    "  rho_A=output.states[i].ptrace(1)\n",
    "\n",
    "\n",
    "  rho_f=qt.Qobj(eigenvalues(rho_A)[1]*qt.basis(2,0)*qt.basis(2,0).dag()+eigenvalues(rho_A)[0]*qt.basis(2,1)*qt.basis(2,1).dag())\n",
    "  #r=np.sqrt(((rho_A*qt.sigmax()).tr())**2+((rho_A*qt.sigmay()).tr())**2+((rho_A*qt.sigmaz()).tr())**2)\n",
    "  #sminusexp=(rho_A*sminus).tr()\n",
    "  #splusexp=(rho_A*splus).tr()\n",
    "  #zexp=(rho_A*qt.sigmaz()).tr()\n",
    "  energy[i]=np.real((rho_A*H0).tr())\n",
    "  ergotropy[i]=np.real(((rho_A-rho_f)*H0).tr())\n",
    "  ratio[i]=ergotropy[i]/energy[i]\n",
    "plt.plot(t,energy)\n",
    "plt.plot(t,ergotropy)\n",
    "plt.figure()\n",
    "plt.plot(t,ratio)\n"
   ]
  },
  {
   "cell_type": "code",
   "execution_count": null,
   "metadata": {
    "colab": {
     "base_uri": "https://localhost:8080/",
     "height": 595
    },
    "id": "ii_zTzT-qdbT",
    "outputId": "be1c93de-62ec-4e59-ed89-779c1028819a"
   },
   "outputs": [
    {
     "name": "stderr",
     "output_type": "stream",
     "text": [
      "/tmp/ipykernel_772/1839839500.py:22: RuntimeWarning: invalid value encountered in double_scalars\n",
      "  ratio[i]=Ergotropy[i]/Energy[i]\n"
     ]
    },
    {
     "name": "stdout",
     "output_type": "stream",
     "text": [
      "Quantum object: dims = [[2], [2]], shape = (2, 2), type = oper, isherm = True\n",
      "Qobj data =\n",
      "[[ 7.67333726e-01+0.00000000e+00j -1.64677958e-10-2.37452975e-11j]\n",
      " [-1.64677958e-10+2.37452975e-11j  2.32666274e-01+0.00000000e+00j]]\n",
      "Quantum object: dims = [[2], [2]], shape = (2, 2), type = oper, isherm = True\n",
      "Qobj data =\n",
      "[[ 7.67333726e-01+0.00000000e+00j -1.64677958e-10-2.37452975e-11j]\n",
      " [-1.64677958e-10+2.37452975e-11j  2.32666274e-01+0.00000000e+00j]]\n"
     ]
    },
    {
     "name": "stderr",
     "output_type": "stream",
     "text": [
      "/tmp/ipykernel_772/1839839500.py:40: RuntimeWarning: invalid value encountered in true_divide\n",
      "  plt.plot(t,ergotropy/energy,label=\"Gio\")\n"
     ]
    },
    {
     "data": {
      "image/png": "[encoded data removed]",
      "text/plain": [
       "<Figure size 640x480 with 1 Axes>"
      ]
     },
     "metadata": {},
     "output_type": "display_data"
    },
    {
     "data": {
      "image/png": "[encoded data removed]",
      "text/plain": [
       "<Figure size 640x480 with 1 Axes>"
      ]
     },
     "metadata": {},
     "output_type": "display_data"
    }
   ],
   "source": [
    "from numpy import linalg as npla\n",
    "\n",
    "def eigenvalues(A):\n",
    "    eigenValues, eigenVectors = npla.eig(A)\n",
    "    idx = np.argsort(eigenValues)\n",
    "    eigenValues = eigenValues[idx]\n",
    "    eigenVectors = eigenVectors[:,idx]\n",
    "    return (eigenValues)\n",
    "\n",
    "optimized_dynamics = opt_result.optimized_objectives[0].mesolve(\n",
    "      tlist, e_ops=[]\n",
    "  )\n",
    "Ergotropy=np.zeros(nt)\n",
    "Energy=np.zeros(nt)\n",
    "ratio=np.zeros(nt)\n",
    "\n",
    "for i in range(0,nt):\n",
    "  FinalRho=trace_A(np.array(optimized_dynamics.states[i]))\n",
    "  Rho_f=eigenvalues(FinalRho)[1]*np.array([[1, 0], [0, 0]])+eigenvalues(FinalRho)[0]*np.array([[0, 0], [0, 1]])\n",
    "  Energy[i]=np.real(np.matrix.trace(omega*np.dot(np.array([[0, 0], [0, 1]]),FinalRho)))\n",
    "  Ergotropy[i]=-np.real(np.matrix.trace(omega*np.dot(np.array([[0, 0], [0, 1]]),(Rho_f-FinalRho))))\n",
    "  ratio[i]=Ergotropy[i]/Energy[i]\n",
    "\n",
    "\n",
    "\n",
    "plt.plot(g*tlist,Energy,label='Energy-krotov')\n",
    "plt.plot(g*tlist,Ergotropy,label='Ergotropy-krotov')\n",
    "plt.plot(g*t,energy,label=\"Energy-Gio\")\n",
    "plt.plot(g*t,ergotropy,label=\"Ergotropy-Gio\")\n",
    "\n",
    "\n",
    "\n",
    "plt.xlabel(\"gt\")\n",
    "plt.ylabel(\"Energy, Ergotropy\")\n",
    "plt.legend()  \n",
    "\n",
    "\n",
    "plt.figure()\n",
    "plt.plot(tlist,ratio,label=\"Krotov\")\n",
    "plt.plot(t,ergotropy/energy,label=\"Gio\")\n",
    "plt.xlabel(\"time\")\n",
    "plt.ylabel(\"ratio\")\n",
    "\n",
    "plt.legend()\n",
    "\n",
    "print(trace_A(opt_result.states[0]))\n",
    "print(opt_result.states[0].ptrace(1))"
   ]
  },
  {
   "cell_type": "code",
   "execution_count": null,
   "metadata": {
    "colab": {
     "base_uri": "https://localhost:8080/"
    },
    "id": "1Niq3H5yqKM0",
    "outputId": "3a26ded5-b238-43c8-b180-6cb9d594afbe"
   },
   "outputs": [
    {
     "name": "stdout",
     "output_type": "stream",
     "text": [
      "5.911862846593246e-23\n"
     ]
    }
   ],
   "source": [
    "T=15\n",
    "EField=np.transpose(np.array(opt_result.optimized_controls))\n",
    "EEnergy=np.zeros(len(tlist))\n",
    "EEnergy[0]=(np.square(EField[0]))*(T/nt)\n",
    "a=0\n",
    "for i in range (1,nt):\n",
    "    a+=np.square(EField[i-1])\n",
    "    EEnergy[i]=(np.square(EField[i])+a)*(T/nt)\n",
    "\n",
    "print(EEnergy[nt-1])"
   ]
  },
  {
   "cell_type": "markdown",
   "metadata": {},
   "source": [
    "Giovanneti is 29.012"
   ]
  },
  {
   "cell_type": "markdown",
   "metadata": {
    "id": "9kQbkdkMLUDB"
   },
   "source": [
    "## Simulate the dynamics of the optimized field"
   ]
  },
  {
   "cell_type": "markdown",
   "metadata": {
    "id": "7U66hUBpLUDC"
   },
   "source": [
    "The plot of the optimized field shows that the optimization slightly shifts\n",
    "the field such that qubit and TLS are no longer perfectly in resonance."
   ]
  },
  {
   "cell_type": "code",
   "execution_count": null,
   "metadata": {
    "id": "NbUR45chLUDC"
   },
   "outputs": [
    {
     "data": {
      "image/png": "[encoded data removed]",
      "text/plain": [
       "<Figure size 640x480 with 1 Axes>"
      ]
     },
     "metadata": {},
     "output_type": "display_data"
    }
   ],
   "source": [
    "plot_pulse(opt_result.optimized_controls[0], tlist)"
   ]
  },
  {
   "cell_type": "markdown",
   "metadata": {
    "id": "0AMk0DIILUDC"
   },
   "source": [
    "This slight shift of qubit and TLS out of resonance delays the population\n",
    "oscillations between qubit and TLS ground state such that the qubit ground\n",
    "state is maximally populated at final time $T$."
   ]
  },
  {
   "cell_type": "code",
   "execution_count": null,
   "metadata": {
    "id": "La3SEj_FHJjD"
   },
   "outputs": [
    {
     "name": "stdout",
     "output_type": "stream",
     "text": [
      "0.23266617728962868\n",
      "-0.0\n",
      "-0.0\n"
     ]
    }
   ],
   "source": [
    "print(Energy[nt-1])\n",
    "print(Ergotropy[nt-1])\n",
    "print(Ergotropy[nt-1]/Energy[nt-1])"
   ]
  },
  {
   "cell_type": "code",
   "execution_count": null,
   "metadata": {
    "id": "EenUbnEmbVca"
   },
   "outputs": [
    {
     "ename": "NameError",
     "evalue": "name 'beta' is not defined",
     "output_type": "error",
     "traceback": [
      "\u001b[0;31m---------------------------------------------------------------------------\u001b[0m",
      "\u001b[0;31mNameError\u001b[0m                                 Traceback (most recent call last)",
      "Cell \u001b[0;32mIn [33], line 20\u001b[0m\n\u001b[1;32m     16\u001b[0m H0 \u001b[38;5;241m=\u001b[39m qutip\u001b[38;5;241m.\u001b[39mQobj(H0 \u001b[38;5;241m+\u001b[39m H_int)\n\u001b[1;32m     19\u001b[0m    \u001b[38;5;66;03m# Define Lindblad operators\u001b[39;00m\n\u001b[0;32m---> 20\u001b[0m N \u001b[38;5;241m=\u001b[39m \u001b[38;5;241m1.0\u001b[39m \u001b[38;5;241m/\u001b[39m (np\u001b[38;5;241m.\u001b[39mexp(beta \u001b[38;5;241m*\u001b[39m omega) \u001b[38;5;241m-\u001b[39m \u001b[38;5;241m1.0\u001b[39m)\n\u001b[1;32m     21\u001b[0m    \u001b[38;5;66;03m# Cooling on TLS\u001b[39;00m\n\u001b[1;32m     22\u001b[0m L1 \u001b[38;5;241m=\u001b[39m np\u001b[38;5;241m.\u001b[39msqrt(gamma \u001b[38;5;241m*\u001b[39m (N \u001b[38;5;241m+\u001b[39m \u001b[38;5;241m1\u001b[39m)) \u001b[38;5;241m*\u001b[39m np\u001b[38;5;241m.\u001b[39mkron(np\u001b[38;5;241m.\u001b[39marray([[\u001b[38;5;241m0\u001b[39m, \u001b[38;5;241m1\u001b[39m], [\u001b[38;5;241m0\u001b[39m, \u001b[38;5;241m0\u001b[39m]]),np\u001b[38;5;241m.\u001b[39midentity(\u001b[38;5;241m2\u001b[39m))\n",
      "\u001b[0;31mNameError\u001b[0m: name 'beta' is not defined"
     ]
    }
   ],
   "source": [
    " H0_q = omega*0.5*(-qutip.operators.sigmaz()+qutip.qeye(2))\n",
    "    # drive qubit Hamiltonian\n",
    "\n",
    "\n",
    "    # drift TLS Hamiltonian\n",
    "H0_T = omega*0.5*(-qutip.operators.sigmaz()+qutip.qeye(2))\n",
    "\n",
    "    # Lift Hamiltonians to joint system operators\n",
    "H0 = np.kron(H0_q, np.identity(2)) + np.kron(np.identity(2), H0_T)\n",
    "\n",
    "\n",
    "    # qubit-TLS interaction\n",
    "H_int =  g*(np.kron(np.array([[0, 0], [1, 0]]),np.array([[0, 1], [0, 0]]))+np.kron(np.array([[0, 1], [0, 0]]),np.array([[0, 0], [1, 0]])))\n",
    "\n",
    "    # convert Hamiltonians to QuTiP objects\n",
    "H0 = qutip.Qobj(H0 + H_int)\n",
    "\n",
    "\n",
    "    # Define Lindblad operators\n",
    "N = 1.0 / (np.exp(beta * omega) - 1.0)\n",
    "    # Cooling on TLS\n",
    "L1 = np.sqrt(gamma * (N + 1)) * np.kron(np.array([[0, 1], [0, 0]]),np.identity(2))\n",
    "    # Heating on TLS\n",
    "L2 = np.sqrt(gamma * N) * np.kron(np.array([[0, 0], [1, 0]]),np.identity(2))\n",
    "    \n",
    "\n",
    "    # convert Lindblad operators to QuTiP objects\n",
    "L1 = qutip.Qobj(L1)\n",
    "L2 = qutip.Qobj(L2)\n",
    "\n",
    "    # generate the Liouvillian\n",
    "\n",
    "\n",
    "\n",
    "\n",
    "Int1=0\n",
    "Int2=0\n",
    "DeltaT=T/nt\n",
    "for i in range (0,nt):\n",
    "  rho=np.array(optimized_dynamics.states[i])\n",
    "  EField=np.transpose(np.array(opt_result.optimized_controls))\n",
    "  H1_q = -0.5*qutip.operators.sigmax()*EField[i,0]\n",
    "  H1 = qutip.Qobj(np.kron(H1_q, qutip.qeye(2)))\n",
    "  L0 = (qutip.superoperator.liouvillian(H0+H1, c_ops=[L1, L2])).dag()\n",
    "  L = qutip.superoperator.liouvillian(H0+H1, c_ops=[L1, L2])(optimized_dynamics.states[i])\n",
    "  HS=np.real(np.sqrt(np.trace(np.array(L.dag()*L))))\n",
    "  Int1+=1/T*(T/nt)*HS\n",
    "  Int2+=1/T*(T/nt)*np.sqrt(np.trace(np.array(L0(optimized_dynamics.states[0])**2)))\n",
    "\n",
    "F=np.real(np.sqrt(np.trace(np.dot(np.array(optimized_dynamics.states[nt-1]),np.array(optimized_dynamics.states[0])))))\n",
    "L=np.arccos(F)\n",
    "numerator=4*(L**2)\n",
    "denominator=Int2*(math.pi)*(math.pi)\n",
    "Tau2=np.real(numerator/denominator)\n",
    "Tau1=np.sin(L)**2/Int1\n",
    "print(Tau1)\n",
    "print(Tau2)\n",
    "print(T)\n",
    "print(T-Tau2)"
   ]
  },
  {
   "cell_type": "code",
   "execution_count": 1,
   "metadata": {
    "id": "XIgcAJ9HXV_S"
   },
   "outputs": [
    {
     "ename": "NameError",
     "evalue": "name 'opt' is not defined",
     "output_type": "error",
     "traceback": [
      "\u001b[0;31m---------------------------------------------------------------------------\u001b[0m",
      "\u001b[0;31mNameError\u001b[0m                                 Traceback (most recent call last)",
      "Cell \u001b[0;32mIn[1], line 1\u001b[0m\n\u001b[0;32m----> 1\u001b[0m opt\u001b[39m.\u001b[39mresult\n",
      "\u001b[0;31mNameError\u001b[0m: name 'opt' is not defined"
     ]
    }
   ],
   "source": [
    "opt.result"
   ]
  },
  {
   "cell_type": "code",
   "execution_count": null,
   "metadata": {},
   "outputs": [],
   "source": []
  },
  {
   "cell_type": "code",
   "execution_count": null,
   "metadata": {},
   "outputs": [],
   "source": []
  }
 ],
 "metadata": {
  "colab": {
   "collapsed_sections": [],
   "name": "Dissipative-Time=4pi/g, Target=|1><1|.ipynb",
   "provenance": []
  },
  "hide_input": false,
  "jupytext": {
   "formats": ""
  },
  "kernelspec": {
   "display_name": "Python 3 (ipykernel)",
   "language": "python",
   "name": "python3"
  },
  "language_info": {
   "codemirror_mode": {
    "name": "ipython",
    "version": 3
   },
   "file_extension": ".py",
   "mimetype": "text/x-python",
   "name": "python",
   "nbconvert_exporter": "python",
   "pygments_lexer": "ipython3",
   "version": "3.11.3"
  },
  "toc": {
   "base_numbering": 1,
   "nav_menu": {},
   "number_sections": true,
   "sideBar": true,
   "skip_h1_title": false,
   "title_cell": "Table of Contents",
   "title_sidebar": "Contents",
   "toc_cell": false,
   "toc_position": {},
   "toc_section_display": true,
   "toc_window_display": false
  },
  "varInspector": {
   "cols": {
    "lenName": 16,
    "lenType": 16,
    "lenVar": 40
   },
   "kernels_config": {
    "python": {
     "delete_cmd_postfix": "",
     "delete_cmd_prefix": "del ",
     "library": "var_list.py",
     "varRefreshCmd": "print(var_dic_list())"
    },
    "r": {
     "delete_cmd_postfix": ") ",
     "delete_cmd_prefix": "rm(",
     "library": "var_list.r",
     "varRefreshCmd": "cat(var_dic_list()) "
    }
   },
   "types_to_exclude": [
    "module",
    "function",
    "builtin_function_or_method",
    "instance",
    "_Feature"
   ],
   "window_display": false
  }
 },
 "nbformat": 4,
 "nbformat_minor": 4
}
