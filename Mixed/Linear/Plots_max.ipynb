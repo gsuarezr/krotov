{
 "cells": [
  {
   "cell_type": "code",
   "execution_count": 1,
   "id": "9ab2acd1",
   "metadata": {},
   "outputs": [],
   "source": [
    "import pruebas\n",
    "import matplotlib.pyplot as plt\n",
    "import numpy as np\n",
    "import warnings"
   ]
  },
  {
   "cell_type": "code",
   "execution_count": null,
   "id": "6c38cd51",
   "metadata": {},
   "outputs": [
    {
     "name": "stdout",
     "output_type": "stream",
     "text": [
      "iter.       J_T    ∫gₐ(t)dt          J       ΔJ_T         ΔJ  secs\n",
      "0      8.65e-01    0.00e+00   8.65e-01        n/a        n/a     0\n",
      "1      8.40e-01    1.60e-02   8.56e-01  -2.49e-02  -8.88e-03     0\n",
      "2      8.04e-01    2.44e-02   8.28e-01  -3.61e-02  -1.17e-02     0\n",
      "3      7.47e-01    4.12e-02   7.89e-01  -5.66e-02  -1.54e-02     0\n",
      "4      6.49e-01    8.03e-02   7.29e-01  -9.83e-02  -1.80e-02     0\n",
      "5      4.62e-01    1.86e-01   6.48e-01  -1.87e-01  -7.86e-04     0\n"
     ]
    }
   ],
   "source": [
    "with warnings.catch_warnings():\n",
    "    warnings.simplefilter('error')\n",
    "omega=1\n",
    "ampl0=0.000001\n",
    "mu=0.1*omega\n",
    "g=0.2*omega\n",
    "T=np.pi/g\n",
    "nt=100\n",
    "tlist = np.linspace(0,T, nt)\n",
    "gamma=0.01*omega\n",
    "Nbs=np.linspace(0.01,2,10)\n",
    "x=2\n",
    "y=0.1\n",
    "barrier=0.9755\n",
    "with warnings.catch_warnings():\n",
    "    warnings.simplefilter('error')\n",
    "    for Nb in Nbs:\n",
    "        value=True\n",
    "        while value==True:\n",
    "            try:\n",
    "                ratio,power,opt_result,energy,ergotropy=pruebas.get_result(omega,ampl0,mu,g,gamma,Nb,tlist,100,rate=y,energy=x,stop=10000)\n",
    "                if (ratio>barrier) and (power<500):\n",
    "                    value=False\n",
    "                    with open(f'T={T}_Nb={Nb}_target={x}_lambda={y}_barrier_{barrier}.npy', 'wb') as f:\n",
    "                        np.save(f, ratio)\n",
    "                        np.save(f, power)\n",
    "                        np.save(f,np.transpose(np.array(opt_result.optimized_controls)))\n",
    "                        np.save(f,energy)\n",
    "                        np.save(f,ergotropy)\n",
    "                else:\n",
    "                    x+=0.05\n",
    "                    print(ratio,x)\n",
    "                    if x<=0:\n",
    "                        value=False\n",
    "            except:\n",
    "                x-=0.05\n",
    "                if x<=0:\n",
    "                    value=False"
   ]
  },
  {
   "cell_type": "code",
   "execution_count": 2,
   "id": "1d641fff",
   "metadata": {},
   "outputs": [],
   "source": [
    "import os"
   ]
  },
  {
   "cell_type": "code",
   "execution_count": 3,
   "id": "7bc1eea5",
   "metadata": {},
   "outputs": [],
   "source": [
    "cwd = os.getcwd()"
   ]
  },
  {
   "cell_type": "code",
   "execution_count": 4,
   "id": "dcef1685",
   "metadata": {},
   "outputs": [],
   "source": [
    "import pathlib\n",
    "\n",
    "z=list(pathlib.Path(cwd).glob('*.npy'))"
   ]
  },
  {
   "cell_type": "code",
   "execution_count": 5,
   "id": "2cd01cf5",
   "metadata": {},
   "outputs": [
    {
     "data": {
      "text/plain": [
       "365"
      ]
     },
     "execution_count": 5,
     "metadata": {},
     "output_type": "execute_result"
    }
   ],
   "source": [
    "len(z)"
   ]
  },
  {
   "cell_type": "code",
   "execution_count": 6,
   "id": "5db86a0a",
   "metadata": {},
   "outputs": [],
   "source": [
    "Nbs=np.linspace(0.01,2,50)\n"
   ]
  },
  {
   "cell_type": "code",
   "execution_count": 7,
   "id": "9e93bc9a",
   "metadata": {},
   "outputs": [
    {
     "data": {
      "text/plain": [
       "50"
      ]
     },
     "execution_count": 7,
     "metadata": {},
     "output_type": "execute_result"
    }
   ],
   "source": [
    "len(Nbs)"
   ]
  },
  {
   "cell_type": "code",
   "execution_count": 8,
   "id": "6c40cdb5",
   "metadata": {},
   "outputs": [],
   "source": [
    "c=0\n",
    "k={}\n",
    "for j in range(0,len(Nbs)):    \n",
    "    z2=[i  for i in z if str(Nbs[j]) in str(i)]\n",
    "    k[str(Nbs[j])]=z2\n",
    "    c+=len(z2)"
   ]
  },
  {
   "cell_type": "code",
   "execution_count": 9,
   "id": "e14fee52",
   "metadata": {},
   "outputs": [
    {
     "data": {
      "text/plain": [
       "[PosixPath('/mnt/c/Users/gsuarez/Documents/PhD notebooks/krotov/Mixed/Linear/T=15.707963267948966_Nb=0.01_target=1.3999999999999986_lambda=100.npy'),\n",
       " PosixPath('/mnt/c/Users/gsuarez/Documents/PhD notebooks/krotov/Mixed/Linear/T=15.707963267948966_Nb=0.01_target=1.399999999999999_lambda=100_barrier_0.96.npy'),\n",
       " PosixPath('/mnt/c/Users/gsuarez/Documents/PhD notebooks/krotov/Mixed/Linear/T=15.707963267948966_Nb=0.01_target=2.2_lambda=1_barrier_0.956243.npy'),\n",
       " PosixPath('/mnt/c/Users/gsuarez/Documents/PhD notebooks/krotov/Mixed/Linear/T=15.707963267948966_Nb=0.01_target=2.3_lambda=0.1_barrier_0.97.npy'),\n",
       " PosixPath('/mnt/c/Users/gsuarez/Documents/PhD notebooks/krotov/Mixed/Linear/T=15.707963267948966_Nb=0.01_target=2.5999999999999996_lambda=1_barrier_0.937243.npy'),\n",
       " PosixPath('/mnt/c/Users/gsuarez/Documents/PhD notebooks/krotov/Mixed/Linear/T=15.707963267948966_Nb=0.01_target=2.6000000000000005_lambda=1_barrier_0.947243.npy'),\n",
       " PosixPath('/mnt/c/Users/gsuarez/Documents/PhD notebooks/krotov/Mixed/Linear/T=15.707963267948966_Nb=0.01_target=2.6000000000000005_lambda=1_barrier_0.957243.npy'),\n",
       " PosixPath('/mnt/c/Users/gsuarez/Documents/PhD notebooks/krotov/Mixed/Linear/T=15.707963267948966_Nb=0.01_target=2.6999999999999997_lambda=0.01.npy'),\n",
       " PosixPath('/mnt/c/Users/gsuarez/Documents/PhD notebooks/krotov/Mixed/Linear/T=15.707963267948966_Nb=0.01_target=2.6999999999999997_lambda=0.1_barrier_0.95.npy'),\n",
       " PosixPath('/mnt/c/Users/gsuarez/Documents/PhD notebooks/krotov/Mixed/Linear/T=15.707963267948966_Nb=0.01_target=2.6999999999999997_lambda=1.npy'),\n",
       " PosixPath('/mnt/c/Users/gsuarez/Documents/PhD notebooks/krotov/Mixed/Linear/T=15.707963267948966_Nb=0.01_target=2.6999999999999997_lambda=10.npy'),\n",
       " PosixPath('/mnt/c/Users/gsuarez/Documents/PhD notebooks/krotov/Mixed/Linear/T=15.707963267948966_Nb=0.01_target=2.6999999999999997_lambda=100.npy'),\n",
       " PosixPath('/mnt/c/Users/gsuarez/Documents/PhD notebooks/krotov/Mixed/Linear/T=15.707963267948966_Nb=0.01_target=2.6999999999999997_lambda=10_barrier_0.95.npy'),\n",
       " PosixPath('/mnt/c/Users/gsuarez/Documents/PhD notebooks/krotov/Mixed/Linear/T=15.707963267948966_Nb=0.01_target=2.7300000000000058_lambda=10_barrier_0.95.npy'),\n",
       " PosixPath('/mnt/c/Users/gsuarez/Documents/PhD notebooks/krotov/Mixed/Linear/T=15.707963267948966_Nb=0.01_target=2.7300000000000058_lambda=1_barrier_0.96.npy'),\n",
       " PosixPath('/mnt/c/Users/gsuarez/Documents/PhD notebooks/krotov/Mixed/Linear/T=15.707963267948966_Nb=0.01_target=2.7_lambda=0.1_barrier_0.94.npy'),\n",
       " PosixPath('/mnt/c/Users/gsuarez/Documents/PhD notebooks/krotov/Mixed/Linear/T=15.707963267948966_Nb=0.01_target=2.7_lambda=0.1_barrier_0.95.npy'),\n",
       " PosixPath('/mnt/c/Users/gsuarez/Documents/PhD notebooks/krotov/Mixed/Linear/T=15.707963267948966_Nb=0.01_target=2.7_lambda=0.1_barrier_0.97.npy'),\n",
       " PosixPath('/mnt/c/Users/gsuarez/Documents/PhD notebooks/krotov/Mixed/Linear/T=15.707963267948966_Nb=0.01_target=2.7_lambda=10_barrier_0.955.npy'),\n",
       " PosixPath('/mnt/c/Users/gsuarez/Documents/PhD notebooks/krotov/Mixed/Linear/T=15.707963267948966_Nb=0.01_target=2.7_lambda=1_barrier_0.95.npy'),\n",
       " PosixPath('/mnt/c/Users/gsuarez/Documents/PhD notebooks/krotov/Mixed/Linear/T=15.707963267948966_Nb=0.01_target=2.7_lambda=1_barrier_0.97.npy'),\n",
       " PosixPath('/mnt/c/Users/gsuarez/Documents/PhD notebooks/krotov/Mixed/Linear/T=15.707963267948966_Nb=0.01_target=2_lambda=0.01_barrier_0.9.npy'),\n",
       " PosixPath('/mnt/c/Users/gsuarez/Documents/PhD notebooks/krotov/Mixed/Linear/T=15.707963267948966_Nb=0.01_target=2_lambda=0.01_barrier_0.95623.npy'),\n",
       " PosixPath('/mnt/c/Users/gsuarez/Documents/PhD notebooks/krotov/Mixed/Linear/T=15.707963267948966_Nb=0.01_target=2_lambda=0.1_barrier_0.9755.npy'),\n",
       " PosixPath('/mnt/c/Users/gsuarez/Documents/PhD notebooks/krotov/Mixed/Linear/T=15.707963267948966_Nb=0.05061224489795919_target=2_lambda=0.01_barrier_0.9.npy'),\n",
       " PosixPath('/mnt/c/Users/gsuarez/Documents/PhD notebooks/krotov/Mixed/Linear/T=15.707963267948966_Nb=0.09122448979591836_target=2_lambda=0.01_barrier_0.9.npy'),\n",
       " PosixPath('/mnt/c/Users/gsuarez/Documents/PhD notebooks/krotov/Mixed/Linear/T=15.707963267948966_Nb=0.13183673469387755_target=2_lambda=0.01_barrier_0.9.npy'),\n",
       " PosixPath('/mnt/c/Users/gsuarez/Documents/PhD notebooks/krotov/Mixed/Linear/T=15.707963267948966_Nb=0.17244897959183675_target=1.9_lambda=0.01_barrier_0.9.npy'),\n",
       " PosixPath('/mnt/c/Users/gsuarez/Documents/PhD notebooks/krotov/Mixed/Linear/T=15.707963267948966_Nb=0.23111111111111113_target=2_lambda=0.01_barrier_0.95623.npy'),\n",
       " PosixPath('/mnt/c/Users/gsuarez/Documents/PhD notebooks/krotov/Mixed/Linear/T=15.707963267948966_Nb=0.45222222222222225_target=2_lambda=0.01_barrier_0.95623.npy'),\n",
       " PosixPath('/mnt/c/Users/gsuarez/Documents/PhD notebooks/krotov/Mixed/Linear/T=15.707963267948966_Nb=0.6733333333333333_target=2_lambda=0.01_barrier_0.95623.npy'),\n",
       " PosixPath('/mnt/c/Users/gsuarez/Documents/PhD notebooks/krotov/Mixed/Linear/T=15.707963267948966_Nb=0.8944444444444445_target=2_lambda=0.01_barrier_0.95623.npy'),\n",
       " PosixPath('/mnt/c/Users/gsuarez/Documents/PhD notebooks/krotov/Mixed/Linear/T=15.707963267948966_Nb=1.1155555555555556_target=2_lambda=0.01_barrier_0.95623.npy'),\n",
       " PosixPath('/mnt/c/Users/gsuarez/Documents/PhD notebooks/krotov/Mixed/Linear/T=15.707963267948966_Nb=1.3366666666666667_target=2_lambda=0.01_barrier_0.95623.npy'),\n",
       " PosixPath('/mnt/c/Users/gsuarez/Documents/PhD notebooks/krotov/Mixed/Linear/T=15.707963267948966_Nb=1.557777777777778_target=2_lambda=0.01_barrier_0.95623.npy'),\n",
       " PosixPath('/mnt/c/Users/gsuarez/Documents/PhD notebooks/krotov/Mixed/Linear/T=15.707963267948966_Nb=1.778888888888889_target=2.5_lambda=0.01_barrier_0.95623.npy'),\n",
       " PosixPath('/mnt/c/Users/gsuarez/Documents/PhD notebooks/krotov/Mixed/Linear/T=15.707963267948966_Nb=2.0_target=2.7_lambda=0.01_barrier_0.95623.npy'),\n",
       " PosixPath('/mnt/c/Users/gsuarez/Documents/PhD notebooks/krotov/Mixed/Linear/T=7.853981633974483_Nb=0.01_target=2.7_lambda=0.1_barrier_0.95.npy'),\n",
       " PosixPath('/mnt/c/Users/gsuarez/Documents/PhD notebooks/krotov/Mixed/Linear/T=7.853981633974483_Nb=0.01_target=2_lambda=0.1_barrier_0.95.npy')]"
      ]
     },
     "execution_count": 9,
     "metadata": {},
     "output_type": "execute_result"
    }
   ],
   "source": [
    "k['0.01']"
   ]
  },
  {
   "cell_type": "code",
   "execution_count": 10,
   "id": "5f42c5f6",
   "metadata": {},
   "outputs": [],
   "source": [
    "def field_energy(field,tlist,T,nt):\n",
    "    EField=field\n",
    "    EEnergy=np.zeros(len(tlist))\n",
    "    EEnergy[0]=(np.square(EField[0]))*(T/nt)\n",
    "    a=0\n",
    "    for i in range (1,nt):\n",
    "        a+=np.square(EField[i-1])\n",
    "        EEnergy[i]=(np.square(EField[i])+a)*(T/nt)\n",
    "    return EEnergy[nt-1]"
   ]
  },
  {
   "cell_type": "code",
   "execution_count": 16,
   "id": "47635564",
   "metadata": {},
   "outputs": [],
   "source": [
    "ratio=[]\n",
    "power=[]\n",
    "energy=[]\n",
    "ergotropy=[]\n",
    "max_ratio,max_power=[],[]\n",
    "max_energy,max_ergotropy=[],[]\n",
    "field=[]\n",
    "opt=[]\n",
    "omega=1\n",
    "ampl0=0.000001\n",
    "mu=0.1*omega\n",
    "g=0.2*omega\n",
    "T=np.pi/g\n",
    "nt=100\n",
    "tlist = np.linspace(0,T, nt)\n",
    "for key in k:\n",
    "    ratio=[]\n",
    "    power=[]\n",
    "    energy=[]\n",
    "    ergotropy=[]\n",
    "    opt=[]\n",
    "    for i in range(len(k[key])):\n",
    "        with open(k[key][i],'rb') as f:\n",
    "            ratio.append(np.load(f,allow_pickle=True)[()])\n",
    "            power.append(np.load(f,allow_pickle=True)[()])\n",
    "            nn=np.load(f,allow_pickle=True)\n",
    "            opt.append(field_energy(nn,tlist,T,nt))\n",
    "            energy.append(np.load(f,allow_pickle=True)[-1])\n",
    "            ergotropy.append(np.load(f,allow_pickle=True)[-1])\n",
    "    options=[np.argmax(opt),np.argmin(opt),np.argmax(ratio),np.argmax(ergotropy)]\n",
    "    max_ratio.append(ratio[options[0]])\n",
    "    max_power.append(power[options[0]])\n",
    "    max_energy.append(energy[options[0]])\n",
    "    max_ergotropy.append(ergotropy[options[0]])\n",
    "    field.append(opt[options[0]])"
   ]
  },
  {
   "cell_type": "code",
   "execution_count": 17,
   "id": "176a29ed",
   "metadata": {},
   "outputs": [
    {
     "data": {
      "image/png": "[encoded data removed]",
      "text/plain": [
       "<Figure size 432x288 with 1 Axes>"
      ]
     },
     "metadata": {
      "needs_background": "light"
     },
     "output_type": "display_data"
    }
   ],
   "source": [
    "plt.scatter(Nbs[1:-1],np.array(max_ratio)[1:-1],color='darkcyan')\n",
    "plt.xlabel(r'$N_b$',fontsize=14)\n",
    "plt.ylabel(r'$\\frac{\\mathcal{E}_{B}}{E_{B}}$',fontsize=20)\n",
    "plt.show()"
   ]
  },
  {
   "cell_type": "code",
   "execution_count": 22,
   "id": "715746ce",
   "metadata": {},
   "outputs": [
    {
     "data": {
      "image/png": "[encoded data removed]",
      "text/plain": [
       "<Figure size 432x288 with 1 Axes>"
      ]
     },
     "metadata": {
      "needs_background": "light"
     },
     "output_type": "display_data"
    }
   ],
   "source": [
    "plt.plot(Nbs[1:-1],np.array(max_ergotropy)[1:-1],color='darkcyan')\n",
    "plt.xlabel(r'$N_b$',fontsize=14)\n",
    "plt.ylabel(r'$\\mathcal{E}_{B}$',fontsize=20)\n",
    "plt.show()"
   ]
  },
  {
   "cell_type": "code",
   "execution_count": 19,
   "id": "d8169d9f",
   "metadata": {},
   "outputs": [
    {
     "data": {
      "image/png": "[encoded data removed]",
      "text/plain": [
       "<Figure size 432x288 with 1 Axes>"
      ]
     },
     "metadata": {
      "needs_background": "light"
     },
     "output_type": "display_data"
    }
   ],
   "source": [
    "plt.plot(Nbs[1:-1],np.array(max_power)[1:-1],color='darkcyan')\n",
    "plt.xlabel(r'$N_b$',fontsize=14)\n",
    "plt.ylabel(r'$\\frac{\\mathcal{E}_{B}}{T}$',fontsize=20)\n",
    "plt.show()"
   ]
  },
  {
   "cell_type": "code",
   "execution_count": 20,
   "id": "0a549769",
   "metadata": {},
   "outputs": [
    {
     "data": {
      "image/png": "[encoded data removed]",
      "text/plain": [
       "<Figure size 432x288 with 1 Axes>"
      ]
     },
     "metadata": {
      "needs_background": "light"
     },
     "output_type": "display_data"
    }
   ],
   "source": [
    "plt.plot(Nbs[1:-1],np.array(max_energy)[1:-1],color='darkcyan')\n",
    "plt.xlabel(r'$N_b$',fontsize=14)\n",
    "plt.ylabel(r'$\\frac{E_{B}}{T}$',fontsize=20)\n",
    "plt.show()"
   ]
  },
  {
   "cell_type": "code",
   "execution_count": 21,
   "id": "a85dcc9a",
   "metadata": {},
   "outputs": [
    {
     "data": {
      "image/png": "[encoded data removed]",
      "text/plain": [
       "<Figure size 432x288 with 1 Axes>"
      ]
     },
     "metadata": {
      "needs_background": "light"
     },
     "output_type": "display_data"
    }
   ],
   "source": [
    "plt.plot(Nbs[1:-1],np.array(field)[1:-1],color='darkcyan')\n",
    "plt.xlabel(r'$N_b$',fontsize=14)\n",
    "plt.ylabel(r'$E_{field}$',fontsize=20)\n",
    "plt.show()"
   ]
  },
  {
   "cell_type": "code",
   "execution_count": null,
   "id": "f04c99ab",
   "metadata": {},
   "outputs": [],
   "source": []
  }
 ],
 "metadata": {
  "kernelspec": {
   "display_name": "Python 3 (ipykernel)",
   "language": "python",
   "name": "python3"
  },
  "language_info": {
   "codemirror_mode": {
    "name": "ipython",
    "version": 3
   },
   "file_extension": ".py",
   "mimetype": "text/x-python",
   "name": "python",
   "nbconvert_exporter": "python",
   "pygments_lexer": "ipython3",
   "version": "3.9.1"
  }
 },
 "nbformat": 4,
 "nbformat_minor": 5
}
