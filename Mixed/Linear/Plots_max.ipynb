{
 "cells": [
  {
   "cell_type": "code",
   "execution_count": null,
   "id": "9ab2acd1",
   "metadata": {},
   "outputs": [],
   "source": [
    "import pruebas\n",
    "import matplotlib.pyplot as plt\n",
    "import numpy as np\n",
    "import warnings"
   ]
  },
  {
   "cell_type": "code",
   "execution_count": null,
   "id": "6c38cd51",
   "metadata": {},
   "outputs": [],
   "source": [
    "with warnings.catch_warnings():\n",
    "    warnings.simplefilter('error')\n",
    "omega=1\n",
    "ampl0=0.000001\n",
    "mu=0.1*omega\n",
    "g=0.2*omega\n",
    "T=np.pi/g\n",
    "nt=100\n",
    "tlist = np.linspace(0,T, nt)\n",
    "gamma=0.01*omega\n",
    "Nbs=np.linspace(0.01,2,10)\n",
    "x=2\n",
    "y=0.1\n",
    "barrier=0.9755\n",
    "with warnings.catch_warnings():\n",
    "    warnings.simplefilter('error')\n",
    "    for Nb in Nbs:\n",
    "        value=True\n",
    "        while value==True:\n",
    "            try:\n",
    "                ratio,power,opt_result,energy,ergotropy=pruebas.get_result(omega,ampl0,mu,g,gamma,Nb,tlist,100,rate=y,energy=x,stop=10000)\n",
    "                if (ratio>barrier) and (power<500):\n",
    "                    value=False\n",
    "                    with open(f'T={T}_Nb={Nb}_target={x}_lambda={y}_barrier_{barrier}.npy', 'wb') as f:\n",
    "                        np.save(f, ratio)\n",
    "                        np.save(f, power)\n",
    "                        np.save(f,np.transpose(np.array(opt_result.optimized_controls)))\n",
    "                        np.save(f,energy)\n",
    "                        np.save(f,ergotropy)\n",
    "                else:\n",
    "                    x+=0.05\n",
    "                    print(ratio,x)\n",
    "                    if x<=0:\n",
    "                        value=False\n",
    "            except:\n",
    "                x-=0.05\n",
    "                if x<=0:\n",
    "                    value=False"
   ]
  },
  {
   "cell_type": "code",
   "execution_count": null,
   "id": "1d641fff",
   "metadata": {},
   "outputs": [],
   "source": [
    "import os"
   ]
  },
  {
   "cell_type": "code",
   "execution_count": null,
   "id": "7bc1eea5",
   "metadata": {},
   "outputs": [],
   "source": [
    "cwd = os.getcwd()"
   ]
  },
  {
   "cell_type": "code",
   "execution_count": null,
   "id": "dcef1685",
   "metadata": {},
   "outputs": [],
   "source": [
    "import pathlib\n",
    "\n",
    "z=list(pathlib.Path(cwd).glob('*.npy'))"
   ]
  },
  {
   "cell_type": "code",
   "execution_count": null,
   "id": "2cd01cf5",
   "metadata": {},
   "outputs": [],
   "source": [
    "len(z)"
   ]
  },
  {
   "cell_type": "code",
   "execution_count": null,
   "id": "5db86a0a",
   "metadata": {},
   "outputs": [],
   "source": [
    "Nbs=np.linspace(0.01,2,50)\n"
   ]
  },
  {
   "cell_type": "code",
   "execution_count": null,
   "id": "9e93bc9a",
   "metadata": {},
   "outputs": [],
   "source": [
    "len(Nbs)"
   ]
  },
  {
   "cell_type": "code",
   "execution_count": null,
   "id": "6c40cdb5",
   "metadata": {},
   "outputs": [],
   "source": [
    "c=0\n",
    "k={}\n",
    "for j in range(0,len(Nbs)):    \n",
    "    z2=[i  for i in z if str(Nbs[j]) in str(i)]\n",
    "    k[str(Nbs[j])]=z2\n",
    "    c+=len(z2)"
   ]
  },
  {
   "cell_type": "code",
   "execution_count": null,
   "id": "e14fee52",
   "metadata": {},
   "outputs": [],
   "source": [
    "k['0.01']"
   ]
  },
  {
   "cell_type": "code",
   "execution_count": null,
   "id": "5f42c5f6",
   "metadata": {},
   "outputs": [],
   "source": [
    "def field_energy(field,tlist,T,nt):\n",
    "    EField=field\n",
    "    EEnergy=np.zeros(len(tlist))\n",
    "    EEnergy[0]=(np.square(EField[0]))*(T/nt)\n",
    "    a=0\n",
    "    for i in range (1,nt):\n",
    "        a+=np.square(EField[i-1])\n",
    "        EEnergy[i]=(np.square(EField[i])+a)*(T/nt)\n",
    "    return EEnergy[nt-1]"
   ]
  },
  {
   "cell_type": "code",
   "execution_count": null,
   "id": "47635564",
   "metadata": {},
   "outputs": [],
   "source": [
    "ratio=[]\n",
    "power=[]\n",
    "energy=[]\n",
    "ergotropy=[]\n",
    "max_ratio,max_power=[],[]\n",
    "max_energy,max_ergotropy=[],[]\n",
    "field=[]\n",
    "opt=[]\n",
    "omega=1\n",
    "ampl0=0.000001\n",
    "mu=0.1*omega\n",
    "g=0.2*omega\n",
    "T=np.pi/g\n",
    "nt=100\n",
    "tlist = np.linspace(0,T, nt)\n",
    "for key in k:\n",
    "    ratio=[]\n",
    "    power=[]\n",
    "    energy=[]\n",
    "    ergotropy=[]\n",
    "    opt=[]\n",
    "    for i in range(len(k[key])):\n",
    "        with open(k[key][i],'rb') as f:\n",
    "            ratio.append(np.load(f,allow_pickle=True)[()])\n",
    "            power.append(np.load(f,allow_pickle=True)[()])\n",
    "            nn=np.load(f,allow_pickle=True)\n",
    "            opt.append(field_energy(nn,tlist,T,nt))\n",
    "            energy.append(np.load(f,allow_pickle=True)[-1])\n",
    "            ergotropy.append(np.load(f,allow_pickle=True)[-1])\n",
    "    options=[np.argmax(opt),np.argmin(opt),np.argmax(ratio),np.argmax(ergotropy)]\n",
    "    max_ratio.append(ratio[options[1]])\n",
    "    max_power.append(power[options[1]])\n",
    "    max_energy.append(energy[options[1]])\n",
    "    max_ergotropy.append(ergotropy[options[1]])\n",
    "    field.append(opt[options[1]])"
   ]
  },
  {
   "cell_type": "code",
   "execution_count": null,
   "id": "176a29ed",
   "metadata": {},
   "outputs": [],
   "source": [
    "plt.scatter(Nbs[1:-1],np.array(max_ratio)[1:-1],color='darkcyan')\n",
    "plt.xlabel(r'$N_b$',fontsize=14)\n",
    "plt.ylabel(r'$\\frac{\\mathcal{E}_{B}}{E_{B}}$',fontsize=20)\n",
    "plt.show()"
   ]
  },
  {
   "cell_type": "code",
   "execution_count": null,
   "id": "715746ce",
   "metadata": {},
   "outputs": [],
   "source": [
    "plt.scatter(Nbs[1:-1],np.array(max_ergotropy)[1:-1],color='darkcyan')\n",
    "plt.xlabel(r'$N_b$',fontsize=14)\n",
    "plt.ylabel(r'$\\mathcal{E}_{B}$',fontsize=20)\n",
    "plt.show()"
   ]
  },
  {
   "cell_type": "code",
   "execution_count": null,
   "id": "d8169d9f",
   "metadata": {},
   "outputs": [],
   "source": [
    "plt.plot(Nbs[1:-1],np.array(max_power)[1:-1],color='darkcyan')\n",
    "plt.xlabel(r'$N_b$',fontsize=14)\n",
    "plt.ylabel(r'$\\frac{\\mathcal{E}_{B}}{T}$',fontsize=20)\n",
    "plt.show()"
   ]
  },
  {
   "cell_type": "code",
   "execution_count": null,
   "id": "0a549769",
   "metadata": {},
   "outputs": [],
   "source": [
    "plt.plot(Nbs[1:-1],np.array(max_energy)[1:-1],color='darkcyan')\n",
    "plt.xlabel(r'$N_b$',fontsize=14)\n",
    "plt.ylabel(r'$\\frac{E_{B}}{T}$',fontsize=20)\n",
    "plt.show()"
   ]
  },
  {
   "cell_type": "code",
   "execution_count": null,
   "id": "a85dcc9a",
   "metadata": {},
   "outputs": [],
   "source": [
    "plt.plot(Nbs[1:-1],np.array(field)[1:-1],color='darkcyan')\n",
    "plt.xlabel(r'$N_b$',fontsize=14)\n",
    "plt.ylabel(r'$E_{field}$',fontsize=20)\n",
    "plt.show()"
   ]
  }
 ],
 "metadata": {
  "kernelspec": {
   "display_name": "Python 3",
   "language": "python",
   "name": "python3"
  },
  "language_info": {
   "codemirror_mode": {
    "name": "ipython",
    "version": 3
   },
   "file_extension": ".py",
   "mimetype": "text/x-python",
   "name": "python",
   "nbconvert_exporter": "python",
   "pygments_lexer": "ipython3",
   "version": "3.9.1"
  }
 },
 "nbformat": 4,
 "nbformat_minor": 5
}
