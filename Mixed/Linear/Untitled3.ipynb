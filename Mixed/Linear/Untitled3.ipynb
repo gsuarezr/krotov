{
 "cells": [
  {
   "cell_type": "code",
   "execution_count": 2,
   "id": "04b25d9a",
   "metadata": {},
   "outputs": [],
   "source": [
    "import pruebas\n",
    "import matplotlib.pyplot as plt\n",
    "import numpy as np"
   ]
  },
  {
   "cell_type": "code",
   "execution_count": 32,
   "id": "c8831057",
   "metadata": {},
   "outputs": [
    {
     "name": "stdout",
     "output_type": "stream",
     "text": [
      "iter.       J_T    ∫gₐ(t)dt          J       ΔJ_T         ΔJ  secs\n",
      "0      9.39e-01    0.00e+00   9.39e-01        n/a        n/a     0\n",
      "1      9.39e-01    2.82e-04   9.39e-01  -3.29e-04  -4.61e-05     0\n",
      "2      9.39e-01    2.86e-04   9.39e-01  -3.32e-04  -4.68e-05     0\n",
      "3      9.38e-01    2.89e-04   9.39e-01  -3.36e-04  -4.74e-05     0\n",
      "4      9.38e-01    2.92e-04   9.38e-01  -3.40e-04  -4.81e-05     0\n",
      "5      9.38e-01    2.95e-04   9.38e-01  -3.44e-04  -4.87e-05     0\n",
      "6      9.37e-01    2.99e-04   9.38e-01  -3.48e-04  -4.94e-05     0\n",
      "7      9.37e-01    3.02e-04   9.37e-01  -3.53e-04  -5.01e-05     0\n",
      "8      9.37e-01    3.06e-04   9.37e-01  -3.57e-04  -5.08e-05     0\n",
      "9      9.36e-01    3.10e-04   9.36e-01  -3.61e-04  -5.15e-05     0\n",
      "10     9.36e-01    3.13e-04   9.36e-01  -3.66e-04  -5.22e-05     0\n",
      "11     9.35e-01    3.17e-04   9.36e-01  -3.70e-04  -5.29e-05     0\n",
      "12     9.35e-01    3.21e-04   9.35e-01  -3.75e-04  -5.36e-05     0\n",
      "13     9.35e-01    3.25e-04   9.35e-01  -3.79e-04  -5.43e-05     0\n",
      "14     9.34e-01    3.29e-04   9.35e-01  -3.84e-04  -5.51e-05     0\n",
      "15     9.34e-01    3.33e-04   9.34e-01  -3.89e-04  -5.58e-05     0\n",
      "16     9.34e-01    3.38e-04   9.34e-01  -3.94e-04  -5.66e-05     0\n",
      "17     9.33e-01    3.42e-04   9.33e-01  -3.99e-04  -5.73e-05     0\n",
      "18     9.33e-01    3.46e-04   9.33e-01  -4.04e-04  -5.81e-05     0\n",
      "19     9.32e-01    3.51e-04   9.33e-01  -4.10e-04  -5.88e-05     0\n",
      "20     9.32e-01    3.55e-04   9.32e-01  -4.15e-04  -5.96e-05     0\n",
      "21     9.31e-01    3.60e-04   9.32e-01  -4.21e-04  -6.04e-05     0\n",
      "22     9.31e-01    3.65e-04   9.31e-01  -4.26e-04  -6.12e-05     0\n",
      "23     9.31e-01    3.70e-04   9.31e-01  -4.32e-04  -6.20e-05     0\n",
      "24     9.30e-01    3.75e-04   9.31e-01  -4.38e-04  -6.28e-05     0\n",
      "25     9.30e-01    3.80e-04   9.30e-01  -4.44e-04  -6.36e-05     0\n",
      "26     9.29e-01    3.85e-04   9.30e-01  -4.50e-04  -6.45e-05     0\n",
      "27     9.29e-01    3.91e-04   9.29e-01  -4.56e-04  -6.53e-05     0\n",
      "28     9.28e-01    3.96e-04   9.29e-01  -4.62e-04  -6.62e-05     0\n",
      "29     9.28e-01    4.02e-04   9.28e-01  -4.69e-04  -6.70e-05     0\n",
      "30     9.27e-01    4.08e-04   9.28e-01  -4.76e-04  -6.79e-05     0\n",
      "31     9.27e-01    4.14e-04   9.27e-01  -4.82e-04  -6.87e-05     0\n",
      "32     9.26e-01    4.20e-04   9.27e-01  -4.89e-04  -6.96e-05     0\n",
      "33     9.26e-01    4.26e-04   9.26e-01  -4.96e-04  -7.05e-05     0\n",
      "34     9.25e-01    4.32e-04   9.26e-01  -5.04e-04  -7.14e-05     0\n",
      "35     9.25e-01    4.39e-04   9.25e-01  -5.11e-04  -7.23e-05     0\n",
      "36     9.24e-01    4.45e-04   9.25e-01  -5.19e-04  -7.32e-05     0\n",
      "37     9.24e-01    4.52e-04   9.24e-01  -5.26e-04  -7.42e-05     0\n",
      "38     9.23e-01    4.59e-04   9.24e-01  -5.34e-04  -7.51e-05     0\n",
      "39     9.23e-01    4.66e-04   9.23e-01  -5.42e-04  -7.60e-05     0\n",
      "40     9.22e-01    4.74e-04   9.23e-01  -5.51e-04  -7.70e-05     0\n",
      "41     9.22e-01    4.81e-04   9.22e-01  -5.59e-04  -7.79e-05     0\n",
      "42     9.21e-01    4.89e-04   9.22e-01  -5.68e-04  -7.89e-05     0\n",
      "43     9.21e-01    4.97e-04   9.21e-01  -5.77e-04  -7.99e-05     0\n",
      "44     9.20e-01    5.05e-04   9.20e-01  -5.86e-04  -8.09e-05     0\n",
      "45     9.19e-01    5.14e-04   9.20e-01  -5.96e-04  -8.19e-05     0\n",
      "46     9.19e-01    5.22e-04   9.19e-01  -6.05e-04  -8.29e-05     1\n",
      "47     9.18e-01    5.31e-04   9.19e-01  -6.15e-04  -8.39e-05     0\n",
      "48     9.18e-01    5.40e-04   9.18e-01  -6.25e-04  -8.49e-05     1\n",
      "49     9.17e-01    5.50e-04   9.17e-01  -6.36e-04  -8.59e-05     1\n",
      "50     9.16e-01    5.59e-04   9.17e-01  -6.46e-04  -8.69e-05     0\n",
      "51     9.16e-01    5.69e-04   9.16e-01  -6.57e-04  -8.80e-05     0\n",
      "52     9.15e-01    5.79e-04   9.16e-01  -6.68e-04  -8.90e-05     0\n",
      "53     9.14e-01    5.90e-04   9.15e-01  -6.80e-04  -9.01e-05     0\n",
      "54     9.14e-01    6.00e-04   9.14e-01  -6.92e-04  -9.11e-05     0\n",
      "55     9.13e-01    6.12e-04   9.13e-01  -7.04e-04  -9.22e-05     0\n",
      "56     9.12e-01    6.23e-04   9.13e-01  -7.16e-04  -9.33e-05     0\n",
      "57     9.11e-01    6.35e-04   9.12e-01  -7.29e-04  -9.43e-05     0\n",
      "58     9.11e-01    6.47e-04   9.11e-01  -7.42e-04  -9.54e-05     0\n",
      "59     9.10e-01    6.59e-04   9.11e-01  -7.56e-04  -9.65e-05     0\n",
      "60     9.09e-01    6.72e-04   9.10e-01  -7.70e-04  -9.76e-05     0\n",
      "61     9.08e-01    6.85e-04   9.09e-01  -7.84e-04  -9.87e-05     0\n",
      "62     9.08e-01    6.99e-04   9.08e-01  -7.99e-04  -9.97e-05     0\n",
      "63     9.07e-01    7.13e-04   9.07e-01  -8.14e-04  -1.01e-04     0\n",
      "64     9.06e-01    7.28e-04   9.07e-01  -8.29e-04  -1.02e-04     0\n",
      "65     9.05e-01    7.43e-04   9.06e-01  -8.46e-04  -1.03e-04     0\n",
      "66     9.04e-01    7.58e-04   9.05e-01  -8.62e-04  -1.04e-04     0\n",
      "67     9.03e-01    7.74e-04   9.04e-01  -8.79e-04  -1.05e-04     0\n",
      "68     9.02e-01    7.91e-04   9.03e-01  -8.97e-04  -1.06e-04     0\n",
      "69     9.02e-01    8.08e-04   9.02e-01  -9.15e-04  -1.07e-04     0\n",
      "70     9.01e-01    8.25e-04   9.01e-01  -9.34e-04  -1.08e-04     0\n",
      "71     9.00e-01    8.44e-04   9.00e-01  -9.53e-04  -1.09e-04     0\n",
      "72     8.99e-01    8.63e-04   9.00e-01  -9.73e-04  -1.10e-04     0\n",
      "73     8.98e-01    8.82e-04   8.99e-01  -9.94e-04  -1.11e-04     0\n",
      "74     8.97e-01    9.02e-04   8.98e-01  -1.01e-03  -1.12e-04     0\n",
      "75     8.96e-01    9.24e-04   8.97e-01  -1.04e-03  -1.13e-04     0\n",
      "76     8.95e-01    9.45e-04   8.96e-01  -1.06e-03  -1.14e-04     0\n",
      "77     8.93e-01    9.68e-04   8.94e-01  -1.08e-03  -1.15e-04     0\n",
      "78     8.92e-01    9.91e-04   8.93e-01  -1.11e-03  -1.16e-04     0\n",
      "79     8.91e-01    1.02e-03   8.92e-01  -1.13e-03  -1.17e-04     0\n",
      "80     8.90e-01    1.04e-03   8.91e-01  -1.16e-03  -1.18e-04     0\n",
      "81     8.89e-01    1.07e-03   8.90e-01  -1.19e-03  -1.19e-04     0\n",
      "82     8.88e-01    1.09e-03   8.89e-01  -1.21e-03  -1.20e-04     0\n",
      "83     8.86e-01    1.12e-03   8.88e-01  -1.24e-03  -1.20e-04     0\n",
      "84     8.85e-01    1.15e-03   8.86e-01  -1.27e-03  -1.21e-04     0\n",
      "85     8.84e-01    1.18e-03   8.85e-01  -1.31e-03  -1.22e-04     0\n",
      "86     8.83e-01    1.22e-03   8.84e-01  -1.34e-03  -1.22e-04     0\n",
      "87     8.81e-01    1.25e-03   8.82e-01  -1.37e-03  -1.23e-04     0\n",
      "88     8.80e-01    1.28e-03   8.81e-01  -1.41e-03  -1.23e-04     0\n",
      "89     8.78e-01    1.32e-03   8.80e-01  -1.44e-03  -1.23e-04     0\n",
      "90     8.77e-01    1.36e-03   8.78e-01  -1.48e-03  -1.23e-04     0\n",
      "91     8.75e-01    1.40e-03   8.77e-01  -1.52e-03  -1.23e-04     0\n",
      "92     8.74e-01    1.44e-03   8.75e-01  -1.56e-03  -1.23e-04     0\n",
      "93     8.72e-01    1.48e-03   8.74e-01  -1.61e-03  -1.23e-04     0\n",
      "94     8.70e-01    1.53e-03   8.72e-01  -1.65e-03  -1.23e-04     0\n",
      "95     8.69e-01    1.58e-03   8.70e-01  -1.70e-03  -1.22e-04     0\n",
      "96     8.67e-01    1.63e-03   8.69e-01  -1.75e-03  -1.21e-04     0\n",
      "97     8.65e-01    1.68e-03   8.67e-01  -1.80e-03  -1.20e-04     0\n",
      "98     8.63e-01    1.73e-03   8.65e-01  -1.85e-03  -1.19e-04     0\n",
      "99     8.61e-01    1.79e-03   8.63e-01  -1.91e-03  -1.17e-04     0\n",
      "100    8.59e-01    1.85e-03   8.61e-01  -1.97e-03  -1.15e-04     0\n",
      "101    8.57e-01    1.92e-03   8.59e-01  -2.03e-03  -1.13e-04     0\n",
      "102    8.55e-01    1.99e-03   8.57e-01  -2.10e-03  -1.10e-04     0\n",
      "103    8.53e-01    2.06e-03   8.55e-01  -2.16e-03  -1.07e-04     0\n",
      "104    8.51e-01    2.13e-03   8.53e-01  -2.24e-03  -1.03e-04     0\n",
      "105    8.49e-01    2.21e-03   8.51e-01  -2.31e-03  -9.91e-05     0\n",
      "106    8.46e-01    2.30e-03   8.49e-01  -2.39e-03  -9.41e-05     0\n",
      "107    8.44e-01    2.39e-03   8.46e-01  -2.47e-03  -8.84e-05     0\n",
      "108    8.41e-01    2.48e-03   8.44e-01  -2.56e-03  -8.19e-05     0\n",
      "109    8.39e-01    2.58e-03   8.41e-01  -2.66e-03  -7.43e-05     0\n",
      "110    8.36e-01    2.69e-03   8.39e-01  -2.75e-03  -6.57e-05     0\n",
      "111    8.33e-01    2.80e-03   8.36e-01  -2.86e-03  -5.59e-05     0\n",
      "112    8.30e-01    2.93e-03   8.33e-01  -2.97e-03  -4.46e-05     0\n",
      "113    8.27e-01    3.06e-03   8.30e-01  -3.09e-03  -3.18e-05     0\n",
      "114    8.24e-01    3.19e-03   8.27e-01  -3.21e-03  -1.71e-05     0\n",
      "115    8.20e-01    3.34e-03   8.24e-01  -3.34e-03  -2.78e-07     0\n",
      "116    8.17e-01    3.50e-03   8.20e-01  -3.48e-03   1.89e-05     0 *\n",
      "117    8.13e-01    3.67e-03   8.17e-01  -3.63e-03   4.09e-05     0 *\n",
      "118    8.09e-01    3.86e-03   8.13e-01  -3.79e-03   6.60e-05     0 *\n",
      "119    8.05e-01    4.06e-03   8.10e-01  -3.96e-03   9.48e-05     0 *\n",
      "120    8.01e-01    4.27e-03   8.06e-01  -4.14e-03   1.28e-04     0 *\n",
      "121    7.97e-01    4.50e-03   8.01e-01  -4.34e-03   1.66e-04     0 *\n"
     ]
    },
    {
     "name": "stdout",
     "output_type": "stream",
     "text": [
      "122    7.92e-01    4.75e-03   7.97e-01  -4.55e-03   2.09e-04     0 *\n",
      "123    7.88e-01    5.03e-03   7.93e-01  -4.77e-03   2.59e-04     0 *\n",
      "124    7.83e-01    5.32e-03   7.88e-01  -5.01e-03   3.17e-04     0 *\n",
      "125    7.77e-01    5.65e-03   7.83e-01  -5.26e-03   3.84e-04     0 *\n",
      "126    7.72e-01    6.00e-03   7.78e-01  -5.54e-03   4.61e-04     0 *\n",
      "127    7.66e-01    6.39e-03   7.72e-01  -5.84e-03   5.50e-04     0 *\n",
      "128    7.60e-01    6.81e-03   7.67e-01  -6.16e-03   6.53e-04     0 *\n",
      "129    7.53e-01    7.27e-03   7.61e-01  -6.50e-03   7.73e-04     0 *\n",
      "130    7.47e-01    7.79e-03   7.54e-01  -6.87e-03   9.13e-04     0 *\n",
      "131    7.39e-01    8.35e-03   7.48e-01  -7.27e-03   1.08e-03     0 *\n",
      "132    7.32e-01    8.97e-03   7.40e-01  -7.71e-03   1.27e-03     0 *\n",
      "133    7.23e-01    9.66e-03   7.33e-01  -8.18e-03   1.49e-03     0 *\n",
      "134    7.15e-01    1.04e-02   7.25e-01  -8.68e-03   1.75e-03     0 *\n",
      "135    7.05e-01    1.13e-02   7.17e-01  -9.23e-03   2.05e-03     0 *\n",
      "136    6.96e-01    1.22e-02   7.08e-01  -9.82e-03   2.41e-03     0 *\n",
      "137    6.85e-01    1.33e-02   6.98e-01  -1.04e-02   2.83e-03     0 *\n",
      "138    6.74e-01    1.44e-02   6.88e-01  -1.11e-02   3.32e-03     0 *\n",
      "139    6.62e-01    1.58e-02   6.78e-01  -1.19e-02   3.89e-03     0 *\n",
      "140    6.50e-01    1.72e-02   6.67e-01  -1.26e-02   4.57e-03     0 *\n",
      "141    6.36e-01    1.88e-02   6.55e-01  -1.35e-02   5.35e-03     0 *\n",
      "142    6.22e-01    2.06e-02   6.42e-01  -1.43e-02   6.27e-03     0 *\n",
      "143    6.07e-01    2.26e-02   6.29e-01  -1.52e-02   7.33e-03     0 *\n",
      "144    5.90e-01    2.47e-02   6.15e-01  -1.61e-02   8.56e-03     0 *\n",
      "145    5.73e-01    2.70e-02   6.00e-01  -1.71e-02   9.96e-03     0 *\n",
      "146    5.55e-01    2.96e-02   5.85e-01  -1.80e-02   1.16e-02     0 *\n",
      "147    5.36e-01    3.22e-02   5.69e-01  -1.89e-02   1.33e-02     0 *\n",
      "148    5.17e-01    3.50e-02   5.52e-01  -1.97e-02   1.53e-02     0 *\n",
      "149    4.96e-01    3.78e-02   5.34e-01  -2.04e-02   1.75e-02     0 *\n",
      "150    4.76e-01    4.06e-02   5.16e-01  -2.09e-02   1.97e-02     0 *\n",
      "151    4.54e-01    4.33e-02   4.98e-01  -2.12e-02   2.21e-02     0 *\n",
      "152    4.33e-01    4.57e-02   4.79e-01  -2.13e-02   2.44e-02     0 *\n",
      "153    4.12e-01    4.77e-02   4.60e-01  -2.11e-02   2.67e-02     0 *\n",
      "154    3.91e-01    4.92e-02   4.41e-01  -2.05e-02   2.87e-02     0 *\n",
      "155    3.72e-01    5.01e-02   4.22e-01  -1.96e-02   3.05e-02     0 *\n",
      "156    3.53e-01    5.03e-02   4.04e-01  -1.84e-02   3.18e-02     0 *\n",
      "157    3.36e-01    4.97e-02   3.86e-01  -1.70e-02   3.27e-02     0 *\n",
      "158    3.21e-01    4.85e-02   3.70e-01  -1.53e-02   3.32e-02     0 *\n",
      "159    3.07e-01    4.66e-02   3.54e-01  -1.35e-02   3.31e-02     0 *\n",
      "160    2.96e-01    4.43e-02   3.40e-01  -1.17e-02   3.26e-02     0 *\n",
      "161    2.86e-01    4.16e-02   3.27e-01  -9.87e-03   3.17e-02     0 *\n",
      "162    2.78e-01    3.86e-02   3.16e-01  -8.12e-03   3.05e-02     0 *\n",
      "163    2.71e-01    3.56e-02   3.07e-01  -6.50e-03   2.91e-02     0 *\n",
      "164    2.66e-01    3.26e-02   2.99e-01  -5.04e-03   2.76e-02     0 *\n",
      "165    2.63e-01    2.98e-02   2.92e-01  -3.75e-03   2.60e-02     0 *\n",
      "166    2.60e-01    2.71e-02   2.87e-01  -2.66e-03   2.45e-02     0 *\n",
      "167    2.58e-01    2.47e-02   2.83e-01  -1.73e-03   2.29e-02     0 *\n",
      "168    2.57e-01    2.25e-02   2.80e-01  -9.74e-04   2.15e-02     0 *\n",
      "169    2.57e-01    2.05e-02   2.77e-01  -3.61e-04   2.01e-02     0 *\n",
      "170    2.57e-01    1.88e-02   2.76e-01   1.23e-04   1.89e-02     0 **\n"
     ]
    },
    {
     "name": "stderr",
     "output_type": "stream",
     "text": [
      "WARNING:matplotlib.legend:No handles with labels found to put in legend.\n"
     ]
    },
    {
     "data": {
      "image/png": "[encoded data removed]",
      "text/plain": [
       "<Figure size 288x360 with 2 Axes>"
      ]
     },
     "metadata": {
      "needs_background": "light"
     },
     "output_type": "display_data"
    }
   ],
   "source": [
    "omega=1\n",
    "ampl0=0.000001\n",
    "mu=0.1*omega\n",
    "g=0.2*omega\n",
    "T=np.pi/g\n",
    "nt=100\n",
    "tlist = np.linspace(0,T, nt)\n",
    "gamma=0.01*omega\n",
    "Nb=np.linspace(0.01,2,12)\n",
    "ratio,power,opt_result,energy,ergotropy=pruebas.get_result(omega,ampl0,mu,g,gamma,1,tlist,100,rate=1,energy=2.7)"
   ]
  },
  {
   "cell_type": "code",
   "execution_count": 9,
   "id": "fe830d17",
   "metadata": {},
   "outputs": [
    {
     "data": {
      "text/plain": [
       "31.41592653589793"
      ]
     },
     "execution_count": 9,
     "metadata": {},
     "output_type": "execute_result"
    }
   ],
   "source": [
    "2*np.pi/g"
   ]
  },
  {
   "cell_type": "code",
   "execution_count": 10,
   "id": "be1e9e78",
   "metadata": {},
   "outputs": [],
   "source": [
    "t,energy2,ergotropy2=pruebas.giovanetti(omega,g,gamma,mu,1,T=500)"
   ]
  },
  {
   "cell_type": "code",
   "execution_count": 31,
   "id": "2cf39e4c",
   "metadata": {},
   "outputs": [
    {
     "data": {
      "image/png": "[encoded data removed]",
      "text/plain": [
       "<Figure size 432x288 with 1 Axes>"
      ]
     },
     "metadata": {
      "needs_background": "light"
     },
     "output_type": "display_data"
    }
   ],
   "source": [
    "plt.plot(tlist*g,np.real(energy),color='darkcyan')\n",
    "plt.plot(tlist*g,np.real(ergotropy),ls='dashdot',color='darkcyan')\n",
    "plt.plot(t*g,np.real(energy2),color='black')\n",
    "plt.plot(t*g,np.real(ergotropy2),ls='dashdot',color='black')\n",
    "plt.xlabel(r'g$\\tau$',fontsize=14)\n",
    "plt.ylabel(r'$\\frac{E_{B}}{\\omega}$,$\\frac{\\mathcal{E}_{B}}{\\omega}$',fontsize=20)\n",
    "plt.xlim(0,2*np.pi)\n",
    "#plt.xticks(np.arange(0, 2*np.pi+0.001, np.pi/4),['0',r'$\\frac{\\pi}{4}$',r'$\\frac{\\pi}{2}$',r'$\\frac{3 \\pi}{4}$',r'$\\pi$',r'$\\frac{5\\pi}{4}$',r'$\\frac{3 \\pi}{2}$',r'$\\frac{7 \\pi}{4}$',r'$2 \\pi$'])\n",
    "plt.show()"
   ]
  },
  {
   "cell_type": "code",
   "execution_count": null,
   "id": "5838442e",
   "metadata": {},
   "outputs": [],
   "source": []
  },
  {
   "cell_type": "code",
   "execution_count": 16,
   "id": "9a10f308",
   "metadata": {},
   "outputs": [],
   "source": [
    "remaining_amount  = .1 + .1 + .1 - .3"
   ]
  },
  {
   "cell_type": "code",
   "execution_count": 18,
   "id": "158f518e",
   "metadata": {},
   "outputs": [
    {
     "data": {
      "text/plain": [
       "1.0"
      ]
     },
     "execution_count": 18,
     "metadata": {},
     "output_type": "execute_result"
    }
   ],
   "source": [
    "np.exp(remaining_amount)"
   ]
  },
  {
   "cell_type": "code",
   "execution_count": 29,
   "id": "f7e57bef",
   "metadata": {},
   "outputs": [
    {
     "name": "stderr",
     "output_type": "stream",
     "text": [
      "<ipython-input-29-db5a4b6d890c>:1: RuntimeWarning: overflow encountered in exp\n",
      "  1/(1+np.exp(1234.1))\n"
     ]
    },
    {
     "data": {
      "text/plain": [
       "0.0"
      ]
     },
     "execution_count": 29,
     "metadata": {},
     "output_type": "execute_result"
    }
   ],
   "source": [
    "1/(1+np.exp(1234.1))"
   ]
  },
  {
   "cell_type": "code",
   "execution_count": null,
   "id": "63223f6d",
   "metadata": {},
   "outputs": [],
   "source": []
  }
 ],
 "metadata": {
  "kernelspec": {
   "display_name": "Python 3",
   "language": "python",
   "name": "python3"
  },
  "language_info": {
   "codemirror_mode": {
    "name": "ipython",
    "version": 3
   },
   "file_extension": ".py",
   "mimetype": "text/x-python",
   "name": "python",
   "nbconvert_exporter": "python",
   "pygments_lexer": "ipython3",
   "version": "3.9.1"
  }
 },
 "nbformat": 4,
 "nbformat_minor": 5
}
