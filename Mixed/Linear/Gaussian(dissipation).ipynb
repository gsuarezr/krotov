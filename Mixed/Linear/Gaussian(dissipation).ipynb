{
 "cells": [
  {
   "cell_type": "markdown",
   "metadata": {
    "id": "yDOMJ1RpdP8F"
   },
   "source": [
    "# Optimization of a State-to-State Transfer for a Quantum Charger-Battery Driven by Laser Field Using Krotov's Method"
   ]
  },
  {
   "cell_type": "markdown",
   "metadata": {
    "id": "tp3TsOLZlINM"
   },
   "source": []
  },
  {
   "cell_type": "code",
   "execution_count": 1,
   "metadata": {},
   "outputs": [
    {
     "name": "stdout",
     "output_type": "stream",
     "text": [
      "Requirement already satisfied: dill in /home/gsuarez/miniconda3/lib/python3.9/site-packages (0.3.4)\r\n"
     ]
    }
   ],
   "source": [
    "!pip install dill"
   ]
  },
  {
   "cell_type": "code",
   "execution_count": 1,
   "metadata": {
    "id": "YwFSPufgdP8T"
   },
   "outputs": [],
   "source": [
    "# NBVAL_IGNORE_OUTPUT\n",
    "import qutip\n",
    "import numpy as np\n",
    "import scipy\n",
    "import matplotlib\n",
    "import matplotlib.pylab as plt\n",
    "from src import krotov\n",
    "from src.krotov import overlap2a as inte\n",
    "\n",
    "\n"
   ]
  },
  {
   "cell_type": "markdown",
   "metadata": {
    "id": "MO1oqm_IdP8V"
   },
   "source": [
    "$\\newcommand{tr}[0]{\\operatorname{tr}}\n",
    "\\newcommand{diag}[0]{\\operatorname{diag}}\n",
    "\\newcommand{abs}[0]{\\operatorname{abs}}\n",
    "\\newcommand{pop}[0]{\\operatorname{pop}}\n",
    "\\newcommand{aux}[0]{\\text{aux}}\n",
    "\\newcommand{opt}[0]{\\text{opt}}\n",
    "\\newcommand{tgt}[0]{\\text{tgt}}\n",
    "\\newcommand{init}[0]{\\text{init}}\n",
    "\\newcommand{lab}[0]{\\text{lab}}\n",
    "\\newcommand{rwa}[0]{\\text{rwa}}\n",
    "\\newcommand{bra}[1]{\\langle#1\\vert}\n",
    "\\newcommand{ket}[1]{\\vert#1\\rangle}\n",
    "\\newcommand{Bra}[1]{\\left\\langle#1\\right\\vert}\n",
    "\\newcommand{Ket}[1]{\\left\\vert#1\\right\\rangle}\n",
    "\\newcommand{Braket}[2]{\\left\\langle #1\\vphantom{#2}\\mid{#2}\\vphantom{#1}\\right\\rangle}\n",
    "\\newcommand{op}[1]{\\hat{#1}}\n",
    "\\newcommand{Op}[1]{\\hat{#1}}\n",
    "\\newcommand{dd}[0]{\\,\\text{d}}\n",
    "\\newcommand{Liouville}[0]{\\mathcal{L}}\n",
    "\\newcommand{DynMap}[0]{\\mathcal{E}}\n",
    "\\newcommand{identity}[0]{\\mathbf{1}}\n",
    "\\newcommand{Norm}[1]{\\lVert#1\\rVert}\n",
    "\\newcommand{Abs}[1]{\\left\\vert#1\\right\\vert}\n",
    "\\newcommand{avg}[1]{\\langle#1\\rangle}\n",
    "\\newcommand{Avg}[1]{\\left\\langle#1\\right\\rangle}\n",
    "\\newcommand{AbsSq}[1]{\\left\\vert#1\\right\\vert^2}\n",
    "\\newcommand{Re}[0]{\\operatorname{Re}}\n",
    "\\newcommand{Im}[0]{\\operatorname{Im}}$\n",
    "\n",
    "This first example illustrates the basic use of the `krotov` package by solving\n",
    "a simple canonical optimization problem: the transfer of population in a two\n",
    "level system."
   ]
  },
  {
   "cell_type": "markdown",
   "metadata": {
    "id": "jUiMagksdP8W"
   },
   "source": [
    "## Hamiltonian"
   ]
  },
  {
   "cell_type": "code",
   "execution_count": 2,
   "metadata": {},
   "outputs": [],
   "source": [
    "import dill \n",
    "dill.settings['recurse'] = True\n",
    "\n",
    "H0=dill.load(open(\"H0_2\", \"rb\"))\n",
    "He=dill.load(open(\"H_campo_2\",\"rb\"))"
   ]
  },
  {
   "cell_type": "code",
   "execution_count": 3,
   "metadata": {},
   "outputs": [],
   "source": [
    "H02=dill.load(open(\"normal\", \"rb\"))\n",
    "He2=dill.load(open(\"campo\",\"rb\"))"
   ]
  },
  {
   "cell_type": "code",
   "execution_count": 5,
   "metadata": {},
   "outputs": [
    {
     "data": {
      "text/plain": [
       "array([[0., 0., 0., 0., 0., 0., 0., 0., 0., 0., 0., 0., 0., 0., 0.],\n",
       "       [0., 0., 0., 0., 0., 0., 0., 0., 0., 0., 0., 0., 0., 0., 0.],\n",
       "       [0., 0., 0., 0., 0., 0., 0., 0., 0., 0., 0., 0., 0., 0., 0.],\n",
       "       [0., 0., 0., 0., 0., 0., 0., 0., 0., 0., 0., 0., 0., 0., 0.],\n",
       "       [0., 0., 0., 0., 0., 0., 0., 0., 0., 0., 0., 0., 0., 0., 0.],\n",
       "       [0., 0., 0., 0., 0., 0., 0., 0., 0., 0., 0., 0., 0., 0., 0.],\n",
       "       [0., 0., 0., 0., 0., 0., 0., 0., 0., 0., 0., 0., 0., 0., 0.],\n",
       "       [0., 0., 0., 0., 0., 0., 0., 0., 0., 0., 0., 0., 0., 0., 0.],\n",
       "       [0., 0., 0., 0., 0., 0., 0., 0., 0., 0., 0., 0., 0., 0., 0.],\n",
       "       [0., 0., 0., 0., 0., 0., 0., 0., 0., 0., 0., 0., 0., 0., 0.],\n",
       "       [0., 0., 0., 0., 0., 0., 0., 0., 0., 0., 0., 0., 0., 0., 0.],\n",
       "       [0., 0., 0., 0., 0., 0., 0., 0., 0., 0., 0., 0., 0., 0., 0.],\n",
       "       [0., 0., 0., 0., 0., 0., 0., 0., 0., 0., 0., 0., 0., 0., 0.],\n",
       "       [0., 0., 0., 0., 0., 0., 0., 0., 0., 0., 0., 0., 0., 0., 0.],\n",
       "       [0., 0., 0., 0., 0., 0., 0., 0., 0., 0., 0., 0., 0., 0., 0.]])"
      ]
     },
     "execution_count": 5,
     "metadata": {},
     "output_type": "execute_result"
    }
   ],
   "source": [
    "H0(1,2,3)-H02(2,1,3,1)"
   ]
  },
  {
   "cell_type": "code",
   "execution_count": 6,
   "metadata": {},
   "outputs": [
    {
     "data": {
      "text/plain": [
       "array([[ 0.        ,  0.        ,  0.        ,  0.        ,  0.        ,\n",
       "         0.        ,  0.        ,  0.        ,  0.        ,  0.        ,\n",
       "         0.        ,  0.        ,  0.        ,  0.        ,  0.        ],\n",
       "       [ 0.        ,  0.        ,  0.        ,  0.        ,  0.        ,\n",
       "         0.        ,  0.        ,  0.        ,  0.        ,  0.        ,\n",
       "         0.        ,  0.        ,  0.        ,  0.        ,  0.        ],\n",
       "       [ 0.        ,  0.        ,  0.        ,  0.        ,  0.        ,\n",
       "         0.        ,  0.        ,  0.        ,  0.        ,  0.        ,\n",
       "         0.        ,  0.        ,  0.        ,  0.        ,  0.        ],\n",
       "       [-2.82842712,  0.        ,  0.        ,  0.        ,  0.        ,\n",
       "         0.        ,  0.        ,  0.        ,  0.        ,  0.        ,\n",
       "         0.        ,  0.        ,  0.        ,  0.        ,  0.        ],\n",
       "       [ 0.        ,  0.        ,  0.        ,  0.        ,  0.        ,\n",
       "         0.        ,  0.        ,  0.        ,  0.        ,  0.        ,\n",
       "         0.        ,  0.        ,  0.        ,  0.        ,  0.        ],\n",
       "       [ 0.        ,  0.        ,  0.        ,  0.        ,  0.        ,\n",
       "         0.        ,  0.        ,  0.        ,  0.        ,  0.        ,\n",
       "         0.        ,  0.        ,  0.        ,  0.        ,  0.        ],\n",
       "       [ 0.        ,  0.        ,  0.        ,  0.        ,  0.        ,\n",
       "         0.        ,  0.        ,  0.        ,  0.        ,  0.        ,\n",
       "         0.        ,  0.        ,  0.        ,  0.        ,  0.        ],\n",
       "       [ 0.        , -2.82842712,  0.        ,  0.        ,  0.        ,\n",
       "         0.        ,  0.        ,  0.        ,  0.        ,  0.        ,\n",
       "         0.        ,  0.        ,  0.        ,  0.        ,  0.        ],\n",
       "       [ 0.        ,  0.        ,  0.        ,  0.        ,  0.        ,\n",
       "         0.        ,  0.        ,  0.        ,  0.        ,  0.        ,\n",
       "         0.        ,  0.        ,  0.        ,  0.        ,  0.        ],\n",
       "       [ 0.        ,  0.        ,  0.        ,  0.        ,  0.        ,\n",
       "         0.        ,  0.        ,  0.        ,  0.        ,  0.        ,\n",
       "         0.        ,  0.        ,  0.        ,  0.        ,  0.        ],\n",
       "       [ 0.        ,  0.        , -2.82842712,  0.        ,  0.        ,\n",
       "         0.        ,  0.        ,  0.        ,  0.        ,  0.        ,\n",
       "         0.        ,  0.        ,  0.        ,  0.        ,  0.        ],\n",
       "       [ 0.        ,  0.        ,  0.        ,  0.        ,  0.        ,\n",
       "         0.        ,  0.        ,  0.        ,  0.        ,  0.        ,\n",
       "         0.        ,  0.        ,  0.        ,  0.        ,  0.        ],\n",
       "       [ 0.        ,  0.        ,  0.        , -5.65685425,  0.        ,\n",
       "         0.        ,  0.        ,  0.        ,  0.        ,  0.        ,\n",
       "         0.        ,  0.        ,  0.        ,  0.        ,  0.        ],\n",
       "       [ 0.        ,  0.        ,  0.        ,  0.        , -2.82842712,\n",
       "         0.        ,  0.        ,  0.        ,  0.        ,  0.        ,\n",
       "         0.        ,  0.        ,  0.        ,  0.        ,  0.        ],\n",
       "       [ 0.        ,  0.        ,  0.        ,  0.        ,  0.        ,\n",
       "         0.        ,  0.        ,  0.        ,  0.        ,  0.        ,\n",
       "         0.        ,  0.        ,  0.        ,  0.        ,  0.        ]])"
      ]
     },
     "execution_count": 6,
     "metadata": {},
     "output_type": "execute_result"
    }
   ],
   "source": [
    "He2(2,1)"
   ]
  },
  {
   "cell_type": "code",
   "execution_count": 3,
   "metadata": {},
   "outputs": [],
   "source": [
    "def a(vector1,vector2):\n",
    "    V=[[vector1[5],vector1[7],vector1[6],vector1[8]],[vector1[7],vector1[12],vector1[10],vector1[13]],[vector1[6],vector1[10],vector1[9],vector1[11]],[vector1[8],vector1[13],vector1[11],vector1[14]]]\n",
    "    R=[vector1[i] for i in range(1,5)]\n",
    "    B=[[vector2[5],vector2[7],vector2[6],vector2[8]],[vector2[7],vector2[12],vector2[10],vector2[13]],[vector2[6],vector2[10],vector2[9],vector2[13]],[vector2[8],vector2[11],vector2[13],vector2[14]]]\n",
    "    S=[vector2[i] for i in range(1,5)]\n",
    "    S[1],S[2]=S[2],S[1]\n",
    "    R[1],R[2]=R[2],R[1]\n",
    "    m=[[V[0][0]+'-'+R[0]+R[0],V[0][1]+'-'+R[0]+R[1],V[0][2]+'-'+R[0]+R[2],V[0][3]+'-'+R[0]+R[3]]]\n",
    "    m.append([[V[0][1]+'-'+R[0]+R[1],V[1][1]+'-'+R[1]+R[1],V[1][2]+'-'+R[1]+R[2],V[1][3]+'-'+R[1]+R[3]]])\n",
    "    m.append([[V[2][0]+'-'+R[2]+R[0],V[2][1]+'-'+R[2]+R[1],V[2][2]+'-'+R[2]+R[2],V[2][3]+'-'+R[2]+R[3]]])\n",
    "    m.append([[V[3][0]+'-'+R[3]+R[0],V[3][1]+'-'+R[3]+R[1],V[3][2]+'-'+R[3]+R[2],V[3][3]+'-'+R[3]+R[3]]])\n",
    "    return V#m"
   ]
  },
  {
   "cell_type": "code",
   "execution_count": 4,
   "metadata": {
    "scrolled": true
   },
   "outputs": [
    {
     "data": {
      "text/plain": [
       "[['x1**2', 'x1p1', 'x1x2', 'x1p2'],\n",
       " ['x1p1', 'p1**2', 'x2p1', 'p1p2'],\n",
       " ['x1x2', 'x2p1', 'x2**2', 'x2p2'],\n",
       " ['x1p2', 'p1p2', 'x2p2', 'p2**2']]"
      ]
     },
     "execution_count": 4,
     "metadata": {},
     "output_type": "execute_result"
    }
   ],
   "source": [
    "#initial_state=np.array([1,0,0,0,0,1/2,0,0,0,1/2,0,0,1/2,0,1/2])\n",
    "#target=np.array([1,0, np.sqrt(2),0,np.sqrt(2),1/2,0,0,0,1/2,0,0,1/2+2,0,1/2+2])\n",
    "initial_state=np.array(['c','x1','x2','p1','p2','x1**2','x1x2','x1p1','x1p2','x2**2','x2p1','x2p2','p1**2','p1p2','p2**2'])\n",
    "target=initial_state\n",
    "\n",
    "a(initial_state,target)"
   ]
  },
  {
   "cell_type": "code",
   "execution_count": 5,
   "metadata": {},
   "outputs": [],
   "source": [
    "def b(vector1,vector2):\n",
    "    V=[[vector1[5],vector1[7],vector1[6],vector1[8]],[vector1[7],vector1[12],vector1[10],vector1[13]],[vector1[6],vector1[10],vector1[9],vector1[11]],[vector1[8],vector1[13],vector1[11],vector1[14]]]\n",
    "    R=[vector1[i] for i in range(1,5)]\n",
    "    B=[[vector2[5],vector2[7],vector2[6],vector2[8]],[vector2[7],vector2[12],vector2[10],vector2[13]],[vector2[6],vector2[10],vector2[9],vector2[13]],[vector2[8],vector2[11],vector2[13],vector2[14]]]\n",
    "    S=[vector2[i] for i in range(1,5)]\n",
    "    S[1],S[2]=S[2],S[1]\n",
    "    R[1],R[2]=R[2],R[1]\n",
    "    m=[[V[0][0]-R[0]*R[0],V[0][1]-R[0]*R[1],V[0][2]-R[0]*R[2],V[0][3]-R[0]*R[3]]]\n",
    "    m.append([[V[0][1]+'-'+R[0]+R[1],V[1][1]-R[1]*R[1],V[1][2]-R[1]*R[2],V[1][3]-R[1]*R[3]]])\n",
    "    m.append([[V[2][0]+'-'+R[2]+R[0],V[2][1]-R[2]*R[1],V[2][2]-R[2]*R[2],V[2][3]-R[2]*R[3]]])\n",
    "    m.append([[V[3][0]+'-'+R[3]+R[0],V[3][1]-R[3]*R[1],V[3][2]-R[3]*R[2],V[3][3]-R[3]*R[3]]])\n",
    "    return m"
   ]
  },
  {
   "cell_type": "code",
   "execution_count": null,
   "metadata": {},
   "outputs": [],
   "source": []
  },
  {
   "cell_type": "code",
   "execution_count": 6,
   "metadata": {},
   "outputs": [],
   "source": [
    "def fidelity_sq(vector1,vector2):\n",
    "    V=[[vector1[5,0],vector1[7,0],vector1[6,0],vector1[8,0]],[vector1[7,0],vector1[12,0],vector1[10,0],vector1[13,0]],[vector1[6,0],vector1[10,0],vector1[9,0],vector1[11,0]],[vector1[8,0],vector1[13,0],vector1[11,0],vector1[14,0]]]\n",
    "    R=[vector1[i,0] for i in range(1,5)]\n",
    "    B=[[vector2[5,0],vector2[7,0],vector2[6,0],vector2[8,0]],[vector2[7,0],vector2[12,0],vector2[10,0],vector2[13,0]],[vector2[6,0],vector2[10,0],vector2[9,0],vector2[11,0]],[vector2[8,0],vector2[13,0],vector2[11,0],vector2[14,0]]]\n",
    "    S=[vector2[i,0] for i in range(1,5)]\n",
    "    S[1], S[2] = S[2], S[1]\n",
    "    R[1], R[2] = R[2], R[1]\n",
    "    V2 = V - np.outer(R, R)\n",
    "    B2 = B - np.outer(S, S)\n",
    "    V,R,B,S=np.array(V2),np.array(R),np.array(B2),np.array(S)\n",
    "    delta=np.linalg.det(V+B)\n",
    "    J=np.array([[0,1,0,0],[-1,0,0,0],[0,0,0,1],[0,0,-1,0]])\n",
    "    gamma=(2**4)*np.linalg.det(np.dot(np.dot(J,B),np.dot(J,V))- np.eye(4)/4 )\n",
    "    Lambda=(2**4)*np.linalg.det(V + 1j*J/2 )*np.linalg.det(B + 1j*J/2 )\n",
    "    a=(np.sqrt(gamma)+np.sqrt(Lambda))-np.sqrt(((np.sqrt(gamma)+np.sqrt(Lambda))**2 - delta))\n",
    "    d=np.array(S)-np.array(R)\n",
    "    b=np.exp(-(1/2)*np.dot(np.dot(d.T,np.linalg.inv(B+V)),d))\n",
    "    return np.sqrt(b/a)\n"
   ]
  },
  {
   "cell_type": "code",
   "execution_count": null,
   "metadata": {},
   "outputs": [],
   "source": []
  },
  {
   "cell_type": "code",
   "execution_count": 4,
   "metadata": {},
   "outputs": [],
   "source": [
    "def conversion(vector1):\n",
    "    V=[[vector1[5,0],vector1[7,0],vector1[6,0],vector1[8,0]],[vector1[7,0],vector1[12,0],vector1[10,0],vector1[13,0]],[vector1[6,0],vector1[10,0],vector1[9,0],vector1[11,0]],[vector1[8,0],vector1[13,0],vector1[11,0],vector1[14,0]]]\n",
    "    R=[vector1[i,0] for i in range(1,5)]\n",
    "    R[1],R[2]=R[2],R[1]\n",
    "    V2=V-np.outer(R,R)\n",
    "    return [v for v in R],V2"
   ]
  },
  {
   "cell_type": "code",
   "execution_count": 8,
   "metadata": {},
   "outputs": [
    {
     "data": {
      "text/plain": [
       "([0j, 0j, 0j, 0j],\n",
       " array([[0.5+0.j, 0. +0.j, 0. +0.j, 0. +0.j],\n",
       "        [0. +0.j, 0.5+0.j, 0. +0.j, 0. +0.j],\n",
       "        [0. +0.j, 0. +0.j, 0.5+0.j, 0. +0.j],\n",
       "        [0. +0.j, 0. +0.j, 0. +0.j, 0.5+0.j]]))"
      ]
     },
     "execution_count": 8,
     "metadata": {},
     "output_type": "execute_result"
    }
   ],
   "source": [
    "initial_state=qutip.Qobj(np.array([1,0,0,0,0,1/2,0,0,0,1/2,0,0,1/2,0,1/2]))\n",
    "#target=qutip.Qobj(np.array([1,0, np.sqrt(2),0,np.sqrt(2),1/2,0,0,0,1/2+2,0,2,1/2,0,1/2+2]))\n",
    "conversion(initial_state)"
   ]
  },
  {
   "cell_type": "markdown",
   "metadata": {},
   "source": [
    "g=0.2, T=100,target= np.sqrt(2), np.sqrt(2),0,5 * np.sqrt(2), nt=100 it is good"
   ]
  },
  {
   "cell_type": "code",
   "execution_count": 55,
   "metadata": {
    "scrolled": false
   },
   "outputs": [
    {
     "name": "stdout",
     "output_type": "stream",
     "text": [
      "iter.       J_T    ∫gₐ(t)dt          J       ΔJ_T         ΔJ  secs\n",
      "0      8.65e-01    0.00e+00   8.65e-01        n/a        n/a     2\n",
      "1      8.62e-01    1.35e-03   8.64e-01  -2.21e-03  -8.62e-04     8\n",
      "2      8.60e-01    1.40e-03   8.62e-01  -2.28e-03  -8.86e-04     8\n",
      "3      8.58e-01    1.45e-03   8.59e-01  -2.36e-03  -9.11e-04     8\n",
      "4      8.55e-01    1.51e-03   8.57e-01  -2.45e-03  -9.36e-04     8\n",
      "5      8.53e-01    1.57e-03   8.54e-01  -2.53e-03  -9.63e-04     8\n",
      "6      8.50e-01    1.63e-03   8.52e-01  -2.63e-03  -9.91e-04     8\n",
      "7      8.47e-01    1.70e-03   8.49e-01  -2.72e-03  -1.02e-03     8\n",
      "8      8.45e-01    1.77e-03   8.46e-01  -2.83e-03  -1.05e-03     8\n",
      "9      8.42e-01    1.85e-03   8.44e-01  -2.93e-03  -1.08e-03     8\n",
      "10     8.39e-01    1.93e-03   8.41e-01  -3.05e-03  -1.12e-03     8\n",
      "11     8.35e-01    2.02e-03   8.38e-01  -3.17e-03  -1.15e-03     8\n",
      "12     8.32e-01    2.11e-03   8.34e-01  -3.30e-03  -1.19e-03     8\n",
      "13     8.29e-01    2.21e-03   8.31e-01  -3.44e-03  -1.22e-03     8\n",
      "14     8.25e-01    2.32e-03   8.27e-01  -3.58e-03  -1.26e-03     8\n",
      "15     8.21e-01    2.44e-03   8.24e-01  -3.74e-03  -1.30e-03     8\n",
      "16     8.18e-01    2.56e-03   8.20e-01  -3.90e-03  -1.35e-03     8\n",
      "17     8.13e-01    2.69e-03   8.16e-01  -4.08e-03  -1.39e-03     8\n",
      "18     8.09e-01    2.83e-03   8.12e-01  -4.27e-03  -1.44e-03     8\n",
      "19     8.05e-01    2.99e-03   8.08e-01  -4.47e-03  -1.48e-03     8\n",
      "20     8.00e-01    3.15e-03   8.03e-01  -4.69e-03  -1.53e-03     8\n",
      "21     7.95e-01    3.33e-03   7.98e-01  -4.92e-03  -1.59e-03     8\n",
      "22     7.90e-01    3.53e-03   7.93e-01  -5.17e-03  -1.64e-03     9\n",
      "23     7.85e-01    3.74e-03   7.88e-01  -5.43e-03  -1.69e-03     8\n",
      "24     7.79e-01    3.97e-03   7.83e-01  -5.72e-03  -1.75e-03     8\n",
      "25     7.73e-01    4.22e-03   7.77e-01  -6.03e-03  -1.81e-03     8\n",
      "26     7.66e-01    4.49e-03   7.71e-01  -6.36e-03  -1.87e-03     8\n",
      "27     7.60e-01    4.80e-03   7.64e-01  -6.72e-03  -1.93e-03     9\n",
      "28     7.53e-01    5.13e-03   7.58e-01  -7.11e-03  -1.98e-03     8\n",
      "29     7.45e-01    5.49e-03   7.51e-01  -7.53e-03  -2.04e-03     8\n",
      "30     7.37e-01    5.89e-03   7.43e-01  -7.99e-03  -2.10e-03     9\n",
      "31     7.29e-01    6.33e-03   7.35e-01  -8.49e-03  -2.15e-03     8\n",
      "32     7.20e-01    6.82e-03   7.26e-01  -9.03e-03  -2.20e-03     8\n",
      "33     7.10e-01    7.37e-03   7.17e-01  -9.61e-03  -2.24e-03     8\n",
      "34     7.00e-01    7.97e-03   7.08e-01  -1.03e-02  -2.28e-03     8\n",
      "35     6.89e-01    8.65e-03   6.97e-01  -1.09e-02  -2.30e-03     9\n",
      "36     6.77e-01    9.40e-03   6.86e-01  -1.17e-02  -2.30e-03     9\n",
      "37     6.64e-01    1.02e-02   6.75e-01  -1.25e-02  -2.29e-03     8\n",
      "38     6.51e-01    1.12e-02   6.62e-01  -1.34e-02  -2.24e-03     8\n",
      "39     6.37e-01    1.22e-02   6.49e-01  -1.44e-02  -2.16e-03     8\n",
      "40     6.21e-01    1.34e-02   6.35e-01  -1.55e-02  -2.04e-03     8\n",
      "41     6.05e-01    1.47e-02   6.19e-01  -1.66e-02  -1.86e-03     9\n",
      "42     5.87e-01    1.62e-02   6.03e-01  -1.78e-02  -1.61e-03     8\n",
      "43     5.68e-01    1.79e-02   5.85e-01  -1.92e-02  -1.28e-03     8\n",
      "44     5.47e-01    1.97e-02   5.67e-01  -2.06e-02  -8.42e-04     9\n",
      "45     5.25e-01    2.18e-02   5.47e-01  -2.21e-02  -2.84e-04     8\n",
      "46     5.01e-01    2.40e-02   5.25e-01  -2.36e-02   4.17e-04     8 *\n",
      "47     4.76e-01    2.64e-02   5.03e-01  -2.52e-02   1.28e-03     8 *\n",
      "48     4.49e-01    2.91e-02   4.79e-01  -2.67e-02   2.33e-03     8 *\n",
      "49     4.21e-01    3.18e-02   4.53e-01  -2.83e-02   3.58e-03     9 *\n",
      "50     3.92e-01    3.47e-02   4.26e-01  -2.97e-02   5.02e-03     8 *\n",
      "51     3.61e-01    3.75e-02   3.98e-01  -3.09e-02   6.66e-03     9 *\n",
      "52     3.29e-01    4.03e-02   3.69e-01  -3.18e-02   8.47e-03     9 *\n",
      "53     2.96e-01    4.28e-02   3.39e-01  -3.24e-02   1.04e-02     8 *\n",
      "54     2.64e-01    4.50e-02   3.09e-01  -3.26e-02   1.24e-02     8 *\n",
      "55     2.32e-01    4.66e-02   2.78e-01  -3.22e-02   1.43e-02     8 *\n",
      "56     2.00e-01    4.75e-02   2.48e-01  -3.13e-02   1.62e-02     8 *\n",
      "57     1.70e-01    4.76e-02   2.18e-01  -2.99e-02   1.78e-02     9 *\n",
      "58     1.43e-01    4.69e-02   1.90e-01  -2.79e-02   1.91e-02     8 *\n",
      "59     1.17e-01    4.55e-02   1.63e-01  -2.55e-02   2.00e-02     8 *\n",
      "60     9.42e-02    4.33e-02   1.37e-01  -2.28e-02   2.05e-02     9 *\n",
      "61     7.42e-02    4.05e-02   1.15e-01  -2.00e-02   2.05e-02     9 *\n",
      "62     5.71e-02    3.74e-02   9.45e-02  -1.71e-02   2.03e-02     9 *\n",
      "63     4.28e-02    3.40e-02   7.68e-02  -1.43e-02   1.97e-02     8 *\n",
      "64     3.11e-02    3.06e-02   6.17e-02  -1.17e-02   1.89e-02    14 *\n",
      "65     2.18e-02    2.72e-02   4.90e-02  -9.31e-03   1.79e-02     9 *\n",
      "66     1.46e-02    2.41e-02   3.86e-02  -7.21e-03   1.69e-02     8 *\n",
      "67     9.17e-03    2.12e-02   3.03e-02  -5.40e-03   1.58e-02    11 *\n",
      "68     5.30e-03    1.85e-02   2.38e-02  -3.87e-03   1.47e-02    11 *\n"
     ]
    },
    {
     "name": "stderr",
     "output_type": "stream",
     "text": [
      "WARNING:matplotlib.legend:No handles with labels found to put in legend.\n"
     ]
    },
    {
     "data": {
      "image/png": "[encoded data removed]",
      "text/plain": [
       "<Figure size 288x360 with 2 Axes>"
      ]
     },
     "metadata": {
      "needs_background": "light"
     },
     "output_type": "display_data"
    },
    {
     "data": {
      "image/png": "[encoded data removed]",
      "text/plain": [
       "<Figure size 432x288 with 1 Axes>"
      ]
     },
     "metadata": {
      "needs_background": "light"
     },
     "output_type": "display_data"
    },
    {
     "data": {
      "image/png": "[encoded data removed]",
      "text/plain": [
       "<Figure size 432x288 with 1 Axes>"
      ]
     },
     "metadata": {
      "needs_background": "light"
     },
     "output_type": "display_data"
    }
   ],
   "source": [
    "omega=1\n",
    "ampl0=0.000001\n",
    "#T=8\n",
    "mu=0.1*omega\n",
    "g=0.2*omega\n",
    "#ampl0=1\n",
    "T=15.71\n",
    "nt=1000\n",
    "tlist = np.linspace(0,T, nt)\n",
    "gamma=0.01*omega\n",
    "Temp=np.linspace(0.01,2,12)\n",
    "\n",
    "#Nb=0\n",
    "def hamiltonian(omega, ampl0, mu,g,gamma,Nb):\n",
    "      \"\"\"Two-level-system Hamiltonian\n",
    "\n",
    "      Args:\n",
    "          omega (float): energy separation of the qubit levels\n",
    "          ampl0 (float): constant amplitude of the driving field\n",
    "      \"\"\"\n",
    "      HA = qutip.Qobj(H02(gamma,g,Nb,omega))\n",
    "      H1= - qutip.Qobj(He2(mu,omega))\n",
    "      def guess_control(t, args):\n",
    "          return ampl0*krotov.shapes.flattop(\n",
    "              t, t_start=0, t_stop=T, t_rise=0.005, func=\"blackman\"\n",
    "          )\n",
    "      def guess_control2(t, args):\n",
    "          return ampl0*krotov.shapes.flattop(\n",
    "              t, t_start=0, t_stop=T, t_rise=0.005, func=\"blackman\"\n",
    "          )\n",
    "      \n",
    "      return [HA, [H1, guess_control]]\n",
    "def S(t):\n",
    "    \"\"\"Shape function for the field update\"\"\"\n",
    "    return krotov.shapes.flattop(\n",
    "        t, t_start=0, t_stop=T, t_rise=0.05 * T, t_fall=0.05 * T, func='sinsq'\n",
    "    )\n",
    "def plot_iterations(opt_result):\n",
    "    \"\"\"Plot the control fields in population dynamics over all iterations.\n",
    "\n",
    "    This depends on ``store_all_pulses=True`` in the call to\n",
    "    `optimize_pulses`.\n",
    "    \"\"\"\n",
    "\n",
    "    fig, [ax_ctr,ax] = plt.subplots(nrows=2, figsize=(4, 5))\n",
    "    n_iters = len(opt_result.iters)\n",
    "    EEnergy=np.zeros(nt)\n",
    "    for (iteration, pulses) in zip(opt_result.iters, opt_result.all_pulses):\n",
    "        controls = [\n",
    "            krotov.conversions.pulse_onto_tlist(pulse)\n",
    "            for pulse in pulses\n",
    "        ]\n",
    "        objectives = opt_result.objectives_with_controls(controls)\n",
    "        dynamics = objectives[0].mesolve(\n",
    "            opt_result.tlist, e_ops=[]\n",
    "        )\n",
    "        if iteration == 0:\n",
    "            ls = '--'  # dashed\n",
    "            alpha = 1  # full opacity\n",
    "            ctr_label = 'guess'\n",
    "            pop_labels = ['0 (guess)', '1 (guess)']\n",
    "        elif iteration == opt_result.iters[-1]:\n",
    "            ls = '-'  # solid\n",
    "            alpha = 1  # full opacity\n",
    "            ctr_label = 'optimized'\n",
    "            pop_labels = ['0 (optimized)', '1 (optimized)']\n",
    "        else:\n",
    "            ls = '-'  # solid\n",
    "            alpha = 0.5 * float(iteration) / float(n_iters)  # max 50%\n",
    "            ctr_label = None\n",
    "            pop_labels = [None, None]\n",
    "        ax_ctr.plot(\n",
    "            dynamics.times,\n",
    "            controls[0],\n",
    "            label=ctr_label,\n",
    "            color='black',\n",
    "            ls=ls,\n",
    "            alpha=alpha,\n",
    "        )\n",
    "    EField=np.transpose(np.array(opt_result.optimized_controls))\n",
    "    EEnergy[0]=(np.square(EField[0]))*(T/nt)\n",
    "    a=0\n",
    "    for i in range (1,nt):\n",
    "      a+=np.square(EField[i-1])\n",
    "      EEnergy[i]=(np.square(EField[i])+a)*(T/nt)\n",
    "      \n",
    "    \n",
    "    ax.plot(tlist,np.transpose(EEnergy))\n",
    "    plt.legend()\n",
    "    plt.show(fig)\n",
    "    \n",
    "def Power(vector,omega,T):\n",
    "    w0=omega\n",
    "    psi=vector[0]\n",
    "    Energy=np.zeros(nt)\n",
    "    Ergotropy=np.zeros(nt)\n",
    "    for i in range (0,nt):\n",
    "        vec,covar=conversion(psi[i])\n",
    "        Energy[i]=1/2*(w0**2*np.real(covar[2,2])+np.real(covar[3,3])+w0**2*(np.real(vec[2]))**2+(np.real(vec[3]))**2)-w0/2\n",
    "        D=np.real((1+2/w0*np.real(Energy[i])-w0*np.abs(np.real(vec[2])+1j*np.real(vec[3]))**2)**2-4*np.abs(w0*1/2*(np.real(covar[2,2])+np.real(vec[2])**2-1/(w0**2)*(np.real(covar[3,3])+np.real(vec[3])**2))+1j*(np.real(covar[2,3])+np.real(vec[2])*np.real(vec[3]))-w0/2*(np.real(vec[2])+1j/w0*np.real(vec[3]))**2)**2)\n",
    "        Ergotropy[i]=np.real(Energy[i]-(np.sqrt(D)-1)/2)\n",
    "    return Ergotropy[nt-1]/T\n",
    "\n",
    "def Ratio(vector,omega):\n",
    "    w0=omega\n",
    "    psi=vector[0]\n",
    "    Energy=np.zeros(nt)\n",
    "    Ergotropy=np.zeros(nt)\n",
    "    for i in range (0,nt):\n",
    "        vec,covar=conversion(psi[i])\n",
    "        Energy[i]=1/2*(w0**2*np.real(covar[2,2])+np.real(covar[3,3])+w0**2*(np.real(vec[2]))**2+(np.real(vec[3]))**2)-w0/2\n",
    "        D=np.real((1+2/w0*np.real(Energy[i])-w0*np.abs(np.real(vec[2])+1j*np.real(vec[3]))**2)**2-4*np.abs(w0*1/2*(np.real(covar[2,2])+np.real(vec[2])**2-1/(w0**2)*(np.real(covar[3,3])+np.real(vec[3])**2))+1j*(np.real(covar[2,3])+np.real(vec[2])*np.real(vec[3]))-w0/2*(np.real(vec[2])+1j/w0*np.real(vec[3]))**2)**2)\n",
    "        Ergotropy[i]=np.real(Energy[i]-(np.sqrt(D)-1)/2)\n",
    "    return Ergotropy[nt-1]/Energy[nt-1]\n",
    "    \n",
    "power=np.zeros(len(Temp))\n",
    "ratio=np.zeros(len(Temp))\n",
    "for j in range (0,1):\n",
    "    Nb=1/(np.exp(omega/Temp[0])-1)\n",
    "    H = hamiltonian(omega,ampl0,mu,g,gamma,Nb)\n",
    "    pulse_options = {\n",
    "        H[1][1]: dict(lambda_a=1, update_shape=S), \n",
    "\n",
    "\n",
    "    }\n",
    "    x=2\n",
    "    target=qutip.Qobj(np.array([1,0, np.sqrt(x)/np.sqrt(omega),0,np.sqrt(x)*np.sqrt(omega),1/2,0,0,0,1/2+x/omega,0,x,1/2,0,1/2+x*omega]))\n",
    "\n",
    "    #target=np.array([1,0,0,0,0,1/2,0,0,0,1/2,0,0,1/2,0,1/2])\n",
    "\n",
    "    r=np.pi/4\n",
    "    r2=np.pi/8\n",
    "    theta=np.pi/4\n",
    "    objectives = [\n",
    "        krotov.Objective(\n",
    "            #initial_state=qutip.Qobj(np.array([1,0,0,0,0,1/2*np.cosh(2*r2),0,-1/2*np.sinh(2*r2)*np.cos(theta),-1/2*np.sinh(2*r2)*np.sin(theta),1/2*np.cosh(2*r2),-1/2*np.sinh(2*r2)*np.sin(theta),1/2*np.sinh(2*r2)*np.cos(theta),1/2*np.cosh(2*r2),0,1/2*np.cosh(2*r2)])), target=qutip.Qobj(qutip.Qobj(np.array([1,0,0,0,0,1/2*np.cosh(2*r),0,-1/2*np.sinh(2*r)*np.cos(theta),-1/2*np.sinh(2*r)*np.sin(theta),1/2*np.cosh(2*r),-1/2*np.sinh(2*r)*np.sin(theta),1/2*np.sinh(2*r)*np.cos(theta),1/2*np.cosh(2*r),0,1/2*np.cosh(2*r)]))), H=H\n",
    "            initial_state=qutip.Qobj(np.array([1,0,0,0,0,1/2,0,0,0,1/2,0,0,1/2,0,1/2])), target=target, H=H\n",
    "          )\n",
    "      ]\n",
    "\n",
    "    opt_result = krotov.optimize_pulses(\n",
    "      objectives,\n",
    "      pulse_options=pulse_options,\n",
    "      tlist=tlist,\n",
    "      gamma=(gamma,omega,Nb),\n",
    "      fieldcoupling=mu,\n",
    "      propagator=krotov.propagators.expm,\n",
    "      chi_constructor=krotov.functionals.chis_ss,\n",
    "      info_hook=krotov.info_hooks.print_table(J_T=krotov.functionals.J_T_ss),\n",
    "      check_convergence=krotov.convergence.Or(\n",
    "          krotov.convergence.value_below('9e-3', name='J_T'),\n",
    "          krotov.convergence.check_monotonic_error,\n",
    "          #krotov.convergence.check_monotonic_fidelity,\n",
    "\n",
    "      ),\n",
    "        iter_stop=10000,\n",
    "        store_all_pulses=True,\n",
    "        overlap=inte,norm=lambda x: 1\n",
    "    )\n",
    "    plot_iterations(opt_result)    \n",
    "    power[j]=Power(opt_result.states,omega,T)\n",
    "    ratio[j]=Ratio(opt_result.states,omega)\n",
    "plt.figure()\n",
    "plt.plot(Temp,power)\n",
    "plt.figure()\n",
    "plt.plot(Temp,ratio)\n",
    "plt.show()"
   ]
  },
  {
   "cell_type": "code",
   "execution_count": 58,
   "metadata": {},
   "outputs": [
    {
     "data": {
      "text/plain": [
       "1.0000000000000655"
      ]
     },
     "execution_count": 58,
     "metadata": {},
     "output_type": "execute_result"
    }
   ],
   "source": [
    "ratio[0]"
   ]
  },
  {
   "cell_type": "code",
   "execution_count": 56,
   "metadata": {},
   "outputs": [
    {
     "data": {
      "text/plain": [
       "Text(0, 0.5, 'Ratio')"
      ]
     },
     "execution_count": 56,
     "metadata": {},
     "output_type": "execute_result"
    },
    {
     "data": {
      "image/png": "[encoded data removed]",
      "text/plain": [
       "<Figure size 432x288 with 1 Axes>"
      ]
     },
     "metadata": {
      "needs_background": "light"
     },
     "output_type": "display_data"
    }
   ],
   "source": [
    "plt.plot(Temp,ratio)\n",
    "plt.xlabel('Temperature',fontsize=14)\n",
    "plt.ylabel('Ratio',fontsize=14)"
   ]
  },
  {
   "cell_type": "code",
   "execution_count": 53,
   "metadata": {},
   "outputs": [],
   "source": [
    "with open('T15.71_temperature_same_target_lambda1.npy', 'wb') as f:\n",
    "    np.save(f, ratio)\n",
    "    np.save(f,Temp)\n",
    "    np.save(f,power)"
   ]
  },
  {
   "cell_type": "code",
   "execution_count": 18,
   "metadata": {},
   "outputs": [
    {
     "data": {
      "text/plain": [
       "15.707963267948966"
      ]
     },
     "execution_count": 18,
     "metadata": {},
     "output_type": "execute_result"
    }
   ],
   "source": [
    "a(np.pi)/(g)"
   ]
  },
  {
   "cell_type": "code",
   "execution_count": 39,
   "metadata": {},
   "outputs": [
    {
     "name": "stdout",
     "output_type": "stream",
     "text": [
      "[1.79254375 2.21636769 2.38697796 2.38474392 2.38087993 2.37520105\n",
      " 2.36757525 2.3579054  2.34612113 2.33217608 2.31604735 2.29773585] [1.         0.99981804 0.99769407 0.99379576 0.98909012 0.98397407\n",
      " 0.97860717 0.97305697 0.96735079 0.96149614 0.95548972 0.9493218 ]\n"
     ]
    }
   ],
   "source": [
    "print(power*T/ratio,ratio)\n"
   ]
  },
  {
   "cell_type": "code",
   "execution_count": 31,
   "metadata": {},
   "outputs": [
    {
     "name": "stdout",
     "output_type": "stream",
     "text": [
      "0.9638262357556676\n"
     ]
    },
    {
     "data": {
      "text/plain": [
       "[<matplotlib.lines.Line2D at 0x7f69d3e02100>]"
      ]
     },
     "execution_count": 31,
     "metadata": {},
     "output_type": "execute_result"
    },
    {
     "data": {
      "image/png": "[encoded data removed]",
      "text/plain": [
       "<Figure size 432x288 with 1 Axes>"
      ]
     },
     "metadata": {
      "needs_background": "light"
     },
     "output_type": "display_data"
    }
   ],
   "source": [
    "w0=omega\n",
    "Energy=np.zeros(nt)\n",
    "Ergotropy=np.zeros(nt)\n",
    "for i in range (0,nt):\n",
    "    vec,covar=conversion(opt_result.states[0][i])\n",
    "    Energy[i]=1/2*(w0**2*np.real(covar[2,2])+np.real(covar[3,3])+w0**2*(np.real(vec[2]))**2+(np.real(vec[3]))**2)-w0/2\n",
    "    D=np.real((1+2/w0*np.real(Energy[i])-w0*np.abs(np.real(vec[2])+1j*np.real(vec[3]))**2)**2-4*np.abs(w0*1/2*(np.real(covar[2,2])+np.real(vec[2])**2-1/(w0**2)*(np.real(covar[3,3])+np.real(vec[3])**2))+1j*(np.real(covar[2,3])+np.real(vec[2])*np.real(vec[3]))-w0/2*(np.real(vec[2])+1j/w0*np.real(vec[3]))**2)**2)\n",
    "    Ergotropy[i]=np.real(Energy[i]-(np.sqrt(D)-1)/2)    \n",
    "print(Ergotropy[nt-1]/Energy[nt-1])\n",
    "plt.plot(tlist,Energy)\n",
    "plt.plot(tlist,Ergotropy)\n"
   ]
  },
  {
   "cell_type": "code",
   "execution_count": 18,
   "metadata": {},
   "outputs": [],
   "source": [
    "from scipy.integrate import odeint\n",
    "import numpy as np\n",
    "import matplotlib\n",
    "import math\n",
    "import matplotlib.pylab as plt"
   ]
  },
  {
   "cell_type": "code",
   "execution_count": 32,
   "metadata": {},
   "outputs": [],
   "source": [
    "w0=1\n",
    "F=0.1\n",
    "gamma=0.01\n",
    "T=50"
   ]
  },
  {
   "cell_type": "code",
   "execution_count": 33,
   "metadata": {},
   "outputs": [
    {
     "ename": "ComplexWarning",
     "evalue": "Casting complex values to real discards the imaginary part",
     "output_type": "error",
     "traceback": [
      "\u001b[0;31m---------------------------------------------------------------------------\u001b[0m",
      "\u001b[0;31mComplexWarning\u001b[0m                            Traceback (most recent call last)",
      "\u001b[0;32m<ipython-input-33-b17d66c073cf>\u001b[0m in \u001b[0;36m<module>\u001b[0;34m\u001b[0m\n\u001b[1;32m     54\u001b[0m   \u001b[0mErgotropy2\u001b[0m\u001b[0;34m=\u001b[0m\u001b[0mw0\u001b[0m\u001b[0;34m*\u001b[0m\u001b[0;34m(\u001b[0m\u001b[0msol\u001b[0m\u001b[0;34m[\u001b[0m\u001b[0;34m:\u001b[0m\u001b[0;34m,\u001b[0m\u001b[0;36m3\u001b[0m\u001b[0;34m]\u001b[0m\u001b[0;34m-\u001b[0m\u001b[0;36m1\u001b[0m\u001b[0;34m/\u001b[0m\u001b[0;36m2\u001b[0m\u001b[0;34m*\u001b[0m\u001b[0;34m(\u001b[0m\u001b[0mnp\u001b[0m\u001b[0;34m.\u001b[0m\u001b[0msqrt\u001b[0m\u001b[0;34m(\u001b[0m\u001b[0mD\u001b[0m\u001b[0;34m)\u001b[0m\u001b[0;34m-\u001b[0m\u001b[0;36m1\u001b[0m\u001b[0;34m)\u001b[0m\u001b[0;34m)\u001b[0m\u001b[0;34m\u001b[0m\u001b[0;34m\u001b[0m\u001b[0m\n\u001b[1;32m     55\u001b[0m \u001b[0;34m\u001b[0m\u001b[0m\n\u001b[0;32m---> 56\u001b[0;31m   \u001b[0max\u001b[0m\u001b[0;34m.\u001b[0m\u001b[0mplot\u001b[0m\u001b[0;34m(\u001b[0m\u001b[0mt\u001b[0m\u001b[0;34m,\u001b[0m\u001b[0mEnergy2\u001b[0m\u001b[0;34m,\u001b[0m\u001b[0mlabel\u001b[0m\u001b[0;34m=\u001b[0m \u001b[0;34m\"g = \"\u001b[0m \u001b[0;34m+\u001b[0m \u001b[0mstr\u001b[0m\u001b[0;34m(\u001b[0m\u001b[0mg\u001b[0m\u001b[0;34m[\u001b[0m\u001b[0mi\u001b[0m\u001b[0;34m]\u001b[0m\u001b[0;34m)\u001b[0m\u001b[0;34m)\u001b[0m\u001b[0;34m\u001b[0m\u001b[0;34m\u001b[0m\u001b[0m\n\u001b[0m\u001b[1;32m     57\u001b[0m   \u001b[0max\u001b[0m\u001b[0;34m.\u001b[0m\u001b[0mset_xlabel\u001b[0m\u001b[0;34m(\u001b[0m\u001b[0;34m\"Time\"\u001b[0m\u001b[0;34m)\u001b[0m\u001b[0;34m\u001b[0m\u001b[0;34m\u001b[0m\u001b[0m\n\u001b[1;32m     58\u001b[0m   \u001b[0max\u001b[0m\u001b[0;34m.\u001b[0m\u001b[0mset_ylabel\u001b[0m\u001b[0;34m(\u001b[0m\u001b[0;34m\"Energy/omega\"\u001b[0m\u001b[0;34m)\u001b[0m\u001b[0;34m\u001b[0m\u001b[0;34m\u001b[0m\u001b[0m\n",
      "\u001b[0;32m~/miniconda3/lib/python3.9/site-packages/matplotlib/axes/_axes.py\u001b[0m in \u001b[0;36mplot\u001b[0;34m(self, scalex, scaley, data, *args, **kwargs)\u001b[0m\n\u001b[1;32m   1605\u001b[0m         \u001b[0mlines\u001b[0m \u001b[0;34m=\u001b[0m \u001b[0;34m[\u001b[0m\u001b[0;34m*\u001b[0m\u001b[0mself\u001b[0m\u001b[0;34m.\u001b[0m\u001b[0m_get_lines\u001b[0m\u001b[0;34m(\u001b[0m\u001b[0;34m*\u001b[0m\u001b[0margs\u001b[0m\u001b[0;34m,\u001b[0m \u001b[0mdata\u001b[0m\u001b[0;34m=\u001b[0m\u001b[0mdata\u001b[0m\u001b[0;34m,\u001b[0m \u001b[0;34m**\u001b[0m\u001b[0mkwargs\u001b[0m\u001b[0;34m)\u001b[0m\u001b[0;34m]\u001b[0m\u001b[0;34m\u001b[0m\u001b[0;34m\u001b[0m\u001b[0m\n\u001b[1;32m   1606\u001b[0m         \u001b[0;32mfor\u001b[0m \u001b[0mline\u001b[0m \u001b[0;32min\u001b[0m \u001b[0mlines\u001b[0m\u001b[0;34m:\u001b[0m\u001b[0;34m\u001b[0m\u001b[0;34m\u001b[0m\u001b[0m\n\u001b[0;32m-> 1607\u001b[0;31m             \u001b[0mself\u001b[0m\u001b[0;34m.\u001b[0m\u001b[0madd_line\u001b[0m\u001b[0;34m(\u001b[0m\u001b[0mline\u001b[0m\u001b[0;34m)\u001b[0m\u001b[0;34m\u001b[0m\u001b[0;34m\u001b[0m\u001b[0m\n\u001b[0m\u001b[1;32m   1608\u001b[0m         \u001b[0mself\u001b[0m\u001b[0;34m.\u001b[0m\u001b[0m_request_autoscale_view\u001b[0m\u001b[0;34m(\u001b[0m\u001b[0mscalex\u001b[0m\u001b[0;34m=\u001b[0m\u001b[0mscalex\u001b[0m\u001b[0;34m,\u001b[0m \u001b[0mscaley\u001b[0m\u001b[0;34m=\u001b[0m\u001b[0mscaley\u001b[0m\u001b[0;34m)\u001b[0m\u001b[0;34m\u001b[0m\u001b[0;34m\u001b[0m\u001b[0m\n\u001b[1;32m   1609\u001b[0m         \u001b[0;32mreturn\u001b[0m \u001b[0mlines\u001b[0m\u001b[0;34m\u001b[0m\u001b[0;34m\u001b[0m\u001b[0m\n",
      "\u001b[0;32m~/miniconda3/lib/python3.9/site-packages/matplotlib/axes/_base.py\u001b[0m in \u001b[0;36madd_line\u001b[0;34m(self, line)\u001b[0m\n\u001b[1;32m   2099\u001b[0m             \u001b[0mline\u001b[0m\u001b[0;34m.\u001b[0m\u001b[0mset_clip_path\u001b[0m\u001b[0;34m(\u001b[0m\u001b[0mself\u001b[0m\u001b[0;34m.\u001b[0m\u001b[0mpatch\u001b[0m\u001b[0;34m)\u001b[0m\u001b[0;34m\u001b[0m\u001b[0;34m\u001b[0m\u001b[0m\n\u001b[1;32m   2100\u001b[0m \u001b[0;34m\u001b[0m\u001b[0m\n\u001b[0;32m-> 2101\u001b[0;31m         \u001b[0mself\u001b[0m\u001b[0;34m.\u001b[0m\u001b[0m_update_line_limits\u001b[0m\u001b[0;34m(\u001b[0m\u001b[0mline\u001b[0m\u001b[0;34m)\u001b[0m\u001b[0;34m\u001b[0m\u001b[0;34m\u001b[0m\u001b[0m\n\u001b[0m\u001b[1;32m   2102\u001b[0m         \u001b[0;32mif\u001b[0m \u001b[0;32mnot\u001b[0m \u001b[0mline\u001b[0m\u001b[0;34m.\u001b[0m\u001b[0mget_label\u001b[0m\u001b[0;34m(\u001b[0m\u001b[0;34m)\u001b[0m\u001b[0;34m:\u001b[0m\u001b[0;34m\u001b[0m\u001b[0;34m\u001b[0m\u001b[0m\n\u001b[1;32m   2103\u001b[0m             \u001b[0mline\u001b[0m\u001b[0;34m.\u001b[0m\u001b[0mset_label\u001b[0m\u001b[0;34m(\u001b[0m\u001b[0;34m'_line%d'\u001b[0m \u001b[0;34m%\u001b[0m \u001b[0mlen\u001b[0m\u001b[0;34m(\u001b[0m\u001b[0mself\u001b[0m\u001b[0;34m.\u001b[0m\u001b[0mlines\u001b[0m\u001b[0;34m)\u001b[0m\u001b[0;34m)\u001b[0m\u001b[0;34m\u001b[0m\u001b[0;34m\u001b[0m\u001b[0m\n",
      "\u001b[0;32m~/miniconda3/lib/python3.9/site-packages/matplotlib/axes/_base.py\u001b[0m in \u001b[0;36m_update_line_limits\u001b[0;34m(self, line)\u001b[0m\n\u001b[1;32m   2121\u001b[0m         \u001b[0mFigures\u001b[0m \u001b[0mout\u001b[0m \u001b[0mthe\u001b[0m \u001b[0mdata\u001b[0m \u001b[0mlimit\u001b[0m \u001b[0mof\u001b[0m \u001b[0mthe\u001b[0m \u001b[0mgiven\u001b[0m \u001b[0mline\u001b[0m\u001b[0;34m,\u001b[0m \u001b[0mupdating\u001b[0m \u001b[0mself\u001b[0m\u001b[0;34m.\u001b[0m\u001b[0mdataLim\u001b[0m\u001b[0;34m.\u001b[0m\u001b[0;34m\u001b[0m\u001b[0;34m\u001b[0m\u001b[0m\n\u001b[1;32m   2122\u001b[0m         \"\"\"\n\u001b[0;32m-> 2123\u001b[0;31m         \u001b[0mpath\u001b[0m \u001b[0;34m=\u001b[0m \u001b[0mline\u001b[0m\u001b[0;34m.\u001b[0m\u001b[0mget_path\u001b[0m\u001b[0;34m(\u001b[0m\u001b[0;34m)\u001b[0m\u001b[0;34m\u001b[0m\u001b[0;34m\u001b[0m\u001b[0m\n\u001b[0m\u001b[1;32m   2124\u001b[0m         \u001b[0;32mif\u001b[0m \u001b[0mpath\u001b[0m\u001b[0;34m.\u001b[0m\u001b[0mvertices\u001b[0m\u001b[0;34m.\u001b[0m\u001b[0msize\u001b[0m \u001b[0;34m==\u001b[0m \u001b[0;36m0\u001b[0m\u001b[0;34m:\u001b[0m\u001b[0;34m\u001b[0m\u001b[0;34m\u001b[0m\u001b[0m\n\u001b[1;32m   2125\u001b[0m             \u001b[0;32mreturn\u001b[0m\u001b[0;34m\u001b[0m\u001b[0;34m\u001b[0m\u001b[0m\n",
      "\u001b[0;32m~/miniconda3/lib/python3.9/site-packages/matplotlib/lines.py\u001b[0m in \u001b[0;36mget_path\u001b[0;34m(self)\u001b[0m\n\u001b[1;32m   1020\u001b[0m         \"\"\"\n\u001b[1;32m   1021\u001b[0m         \u001b[0;32mif\u001b[0m \u001b[0mself\u001b[0m\u001b[0;34m.\u001b[0m\u001b[0m_invalidy\u001b[0m \u001b[0;32mor\u001b[0m \u001b[0mself\u001b[0m\u001b[0;34m.\u001b[0m\u001b[0m_invalidx\u001b[0m\u001b[0;34m:\u001b[0m\u001b[0;34m\u001b[0m\u001b[0;34m\u001b[0m\u001b[0m\n\u001b[0;32m-> 1022\u001b[0;31m             \u001b[0mself\u001b[0m\u001b[0;34m.\u001b[0m\u001b[0mrecache\u001b[0m\u001b[0;34m(\u001b[0m\u001b[0;34m)\u001b[0m\u001b[0;34m\u001b[0m\u001b[0;34m\u001b[0m\u001b[0m\n\u001b[0m\u001b[1;32m   1023\u001b[0m         \u001b[0;32mreturn\u001b[0m \u001b[0mself\u001b[0m\u001b[0;34m.\u001b[0m\u001b[0m_path\u001b[0m\u001b[0;34m\u001b[0m\u001b[0;34m\u001b[0m\u001b[0m\n\u001b[1;32m   1024\u001b[0m \u001b[0;34m\u001b[0m\u001b[0m\n",
      "\u001b[0;32m~/miniconda3/lib/python3.9/site-packages/matplotlib/lines.py\u001b[0m in \u001b[0;36mrecache\u001b[0;34m(self, always)\u001b[0m\n\u001b[1;32m    666\u001b[0m         \u001b[0;32mif\u001b[0m \u001b[0malways\u001b[0m \u001b[0;32mor\u001b[0m \u001b[0mself\u001b[0m\u001b[0;34m.\u001b[0m\u001b[0m_invalidy\u001b[0m\u001b[0;34m:\u001b[0m\u001b[0;34m\u001b[0m\u001b[0;34m\u001b[0m\u001b[0m\n\u001b[1;32m    667\u001b[0m             \u001b[0myconv\u001b[0m \u001b[0;34m=\u001b[0m \u001b[0mself\u001b[0m\u001b[0;34m.\u001b[0m\u001b[0mconvert_yunits\u001b[0m\u001b[0;34m(\u001b[0m\u001b[0mself\u001b[0m\u001b[0;34m.\u001b[0m\u001b[0m_yorig\u001b[0m\u001b[0;34m)\u001b[0m\u001b[0;34m\u001b[0m\u001b[0;34m\u001b[0m\u001b[0m\n\u001b[0;32m--> 668\u001b[0;31m             \u001b[0my\u001b[0m \u001b[0;34m=\u001b[0m \u001b[0m_to_unmasked_float_array\u001b[0m\u001b[0;34m(\u001b[0m\u001b[0myconv\u001b[0m\u001b[0;34m)\u001b[0m\u001b[0;34m.\u001b[0m\u001b[0mravel\u001b[0m\u001b[0;34m(\u001b[0m\u001b[0;34m)\u001b[0m\u001b[0;34m\u001b[0m\u001b[0;34m\u001b[0m\u001b[0m\n\u001b[0m\u001b[1;32m    669\u001b[0m         \u001b[0;32melse\u001b[0m\u001b[0;34m:\u001b[0m\u001b[0;34m\u001b[0m\u001b[0;34m\u001b[0m\u001b[0m\n\u001b[1;32m    670\u001b[0m             \u001b[0my\u001b[0m \u001b[0;34m=\u001b[0m \u001b[0mself\u001b[0m\u001b[0;34m.\u001b[0m\u001b[0m_y\u001b[0m\u001b[0;34m\u001b[0m\u001b[0;34m\u001b[0m\u001b[0m\n",
      "\u001b[0;32m~/miniconda3/lib/python3.9/site-packages/matplotlib/cbook/__init__.py\u001b[0m in \u001b[0;36m_to_unmasked_float_array\u001b[0;34m(x)\u001b[0m\n\u001b[1;32m   1331\u001b[0m         \u001b[0;32mreturn\u001b[0m \u001b[0mnp\u001b[0m\u001b[0;34m.\u001b[0m\u001b[0mma\u001b[0m\u001b[0;34m.\u001b[0m\u001b[0masarray\u001b[0m\u001b[0;34m(\u001b[0m\u001b[0mx\u001b[0m\u001b[0;34m,\u001b[0m \u001b[0mfloat\u001b[0m\u001b[0;34m)\u001b[0m\u001b[0;34m.\u001b[0m\u001b[0mfilled\u001b[0m\u001b[0;34m(\u001b[0m\u001b[0mnp\u001b[0m\u001b[0;34m.\u001b[0m\u001b[0mnan\u001b[0m\u001b[0;34m)\u001b[0m\u001b[0;34m\u001b[0m\u001b[0;34m\u001b[0m\u001b[0m\n\u001b[1;32m   1332\u001b[0m     \u001b[0;32melse\u001b[0m\u001b[0;34m:\u001b[0m\u001b[0;34m\u001b[0m\u001b[0;34m\u001b[0m\u001b[0m\n\u001b[0;32m-> 1333\u001b[0;31m         \u001b[0;32mreturn\u001b[0m \u001b[0mnp\u001b[0m\u001b[0;34m.\u001b[0m\u001b[0masarray\u001b[0m\u001b[0;34m(\u001b[0m\u001b[0mx\u001b[0m\u001b[0;34m,\u001b[0m \u001b[0mfloat\u001b[0m\u001b[0;34m)\u001b[0m\u001b[0;34m\u001b[0m\u001b[0;34m\u001b[0m\u001b[0m\n\u001b[0m\u001b[1;32m   1334\u001b[0m \u001b[0;34m\u001b[0m\u001b[0m\n\u001b[1;32m   1335\u001b[0m \u001b[0;34m\u001b[0m\u001b[0m\n",
      "\u001b[0;32m~/miniconda3/lib/python3.9/site-packages/numpy/core/_asarray.py\u001b[0m in \u001b[0;36masarray\u001b[0;34m(a, dtype, order, like)\u001b[0m\n\u001b[1;32m    100\u001b[0m         \u001b[0;32mreturn\u001b[0m \u001b[0m_asarray_with_like\u001b[0m\u001b[0;34m(\u001b[0m\u001b[0ma\u001b[0m\u001b[0;34m,\u001b[0m \u001b[0mdtype\u001b[0m\u001b[0;34m=\u001b[0m\u001b[0mdtype\u001b[0m\u001b[0;34m,\u001b[0m \u001b[0morder\u001b[0m\u001b[0;34m=\u001b[0m\u001b[0morder\u001b[0m\u001b[0;34m,\u001b[0m \u001b[0mlike\u001b[0m\u001b[0;34m=\u001b[0m\u001b[0mlike\u001b[0m\u001b[0;34m)\u001b[0m\u001b[0;34m\u001b[0m\u001b[0;34m\u001b[0m\u001b[0m\n\u001b[1;32m    101\u001b[0m \u001b[0;34m\u001b[0m\u001b[0m\n\u001b[0;32m--> 102\u001b[0;31m     \u001b[0;32mreturn\u001b[0m \u001b[0marray\u001b[0m\u001b[0;34m(\u001b[0m\u001b[0ma\u001b[0m\u001b[0;34m,\u001b[0m \u001b[0mdtype\u001b[0m\u001b[0;34m,\u001b[0m \u001b[0mcopy\u001b[0m\u001b[0;34m=\u001b[0m\u001b[0;32mFalse\u001b[0m\u001b[0;34m,\u001b[0m \u001b[0morder\u001b[0m\u001b[0;34m=\u001b[0m\u001b[0morder\u001b[0m\u001b[0;34m)\u001b[0m\u001b[0;34m\u001b[0m\u001b[0;34m\u001b[0m\u001b[0m\n\u001b[0m\u001b[1;32m    103\u001b[0m \u001b[0;34m\u001b[0m\u001b[0m\n\u001b[1;32m    104\u001b[0m \u001b[0;34m\u001b[0m\u001b[0m\n",
      "\u001b[0;31mComplexWarning\u001b[0m: Casting complex values to real discards the imaginary part"
     ]
    },
    {
     "data": {
      "image/png": "[encoded data removed]",
      "text/plain": [
       "<Figure size 432x288 with 1 Axes>"
      ]
     },
     "metadata": {
      "needs_background": "light"
     },
     "output_type": "display_data"
    },
    {
     "data": {
      "image/png": "[encoded data removed]",
      "text/plain": [
       "<Figure size 432x288 with 1 Axes>"
      ]
     },
     "metadata": {
      "needs_background": "light"
     },
     "output_type": "display_data"
    },
    {
     "data": {
      "image/png": "[encoded data removed]",
      "text/plain": [
       "<Figure size 432x288 with 1 Axes>"
      ]
     },
     "metadata": {
      "needs_background": "light"
     },
     "output_type": "display_data"
    }
   ],
   "source": [
    "def odeintz(func, z0, t, **kwargs):\n",
    "    \"\"\"An odeint-like function for complex valued differential equations.\"\"\"\n",
    "\n",
    "    # Disallow Jacobian-related arguments.\n",
    "    _unsupported_odeint_args = ['Dfun', 'col_deriv', 'ml', 'mu']\n",
    "    bad_args = [arg for arg in kwargs if arg in _unsupported_odeint_args]\n",
    "    if len(bad_args) > 0:\n",
    "        raise ValueError(\"The odeint argument %r is not supported by \"\n",
    "                         \"odeintz.\" % (bad_args[0],))\n",
    "\n",
    "    # Make sure z0 is a numpy array of type np.complex128.\n",
    "    z0 = np.array(z0, dtype=np.complex128, ndmin=1)\n",
    "\n",
    "    def realfunc(x, t, *args):\n",
    "        z = x.view(np.complex128)\n",
    "        dzdt = func(z, t, *args)\n",
    "        # func might return a python list, so convert its return\n",
    "        # value to an array with type np.complex128, and then return\n",
    "        # a np.float64 view of that array.\n",
    "        return np.asarray(dzdt, dtype=np.complex128).view(np.float64)\n",
    "\n",
    "    result = odeint(realfunc, z0.view(np.float64), t, **kwargs)\n",
    "\n",
    "    if kwargs.get('full_output', False):\n",
    "        z = result[0].view(np.complex128)\n",
    "        infodict = result[1]\n",
    "        return z, infodict\n",
    "    else:\n",
    "        z = result.view(np.complex128)\n",
    "        return z\n",
    "\n",
    "def pend(y, t, F, w0, N, gamma, g):\n",
    "\n",
    "    dydt = [-1j*(g*y[1]+F)-gamma/2*y[0], -1j*g*y[0], 1j*(g*(y[4]-y[3])-F*np.conjugate(y[1]))-gamma/2*y[2],2*g*np.imag(y[2]), -2*np.imag(g*y[2]+F*y[0])-gamma*y[4]+gamma*N,-2*1j*(g*y[6]+F*y[0])-gamma*y[5],-1j*(g*(y[5]+y[7])+F*y[1])-gamma/2*y[6],-2*1j*g*y[6]]\n",
    "\n",
    "    return dydt\n",
    "\n",
    "y0 = [0.0, 0.0,0.0,0.0,0.0,0.0,0.0,0.0]\n",
    "\n",
    "t = np.linspace(0, 31, 10000)\n",
    "\n",
    "g = np.linspace(0.2,0.2,1)\n",
    "fig, ax=plt.subplots()\n",
    "fig2, ay = plt.subplots()\n",
    "fig3, az = plt.subplots()\n",
    "N=1\n",
    "for i in range(len(g)):\n",
    "  Energy2=np.zeros(len(t))\n",
    "  Ergotropy2=np.zeros(len(t))\n",
    "  D=np.zeros(len(t))\n",
    "  sol = odeintz(pend, y0, t, args=(F, w0, N, gamma, g[i]))\n",
    "  D=(1+2*sol[:,3]-2*np.absolute(sol[:,1])**2)**2-4*np.absolute(sol[:,7]-sol[:,1]**2)**2\n",
    "  Energy2=w0*sol[:,3]\n",
    "  Ergotropy2=w0*(sol[:,3]-1/2*(np.sqrt(D)-1))\n",
    "\n",
    "  ax.plot(t,Energy2,label= \"g = \" + str(g[i]))\n",
    "  ax.set_xlabel(\"Time\")\n",
    "  ax.set_ylabel(\"Energy/omega\")\n",
    "  ax.set_title(\"Farina\")\n",
    "  ay.plot(t,Ergotropy2,label= \"g = \" + str(g[i]))\n",
    "  ay.set_xlabel(\"Time\")\n",
    "  ay.set_ylabel(\"Ergotropy/omega\")\n",
    "  ay.set_title(\"Farina\")\n",
    "  az.plot(t,Ergotropy2/Energy2,label= \"g = \" + str(g[i]))\n",
    "  az.set_xlabel(\"Time\")\n",
    "  az.set_ylabel(\"Ergotropy/Energy\")\n",
    "  az.set_title(\"Ratio\")\n",
    "  \n",
    "  chartBox = ax.get_position()\n",
    "  ax.set_position([chartBox.x0, chartBox.y0, chartBox.width*0.6, chartBox.height])\n",
    "  ax.legend(loc='upper right', bbox_to_anchor=(1.6, 0.8), shadow=True, ncol=1)\n",
    "  ay.set_position([chartBox.x0, chartBox.y0, chartBox.width*0.6, chartBox.height])\n",
    "  ay.legend(loc='upper right', bbox_to_anchor=(2, 1.05), shadow=True, ncol=1)\n",
    "  az.set_position([chartBox.x0, chartBox.y0, chartBox.width*0.6, chartBox.height])\n",
    "  az.legend(loc='upper right', bbox_to_anchor=(2, 1.05), shadow=True, ncol=1)\n",
    "  plt.legend()\n",
    "  #fig.tight_layout()\n",
    "\n",
    "'''plt.show()\n",
    "Energy=np.zeros(len(t))\n",
    "Ergotropy=np.zeros(len(t))\n",
    "D=np.zeros(len(t))\n",
    "N=1\n",
    "sol1 = odeintz(pend, y0, t,args=(F, w0, N, gamma, 0.04))\n",
    "D=(1+2*sol1[:,3]-2*np.absolute(sol1[:,1])**2)**2-4*np.absolute(sol1[:,7]-sol1[:,1]**2)**2\n",
    "Ergotropy=w0*(sol1[:,3]-0.5*(np.sqrt(D)-1))\n",
    "Energy=w0*(sol1[:,3])\n",
    "plt.plot(t,Ergotropy,label='Ergotropy')\n",
    "#N=0\n",
    "#sol2 = odeintz(pend, y0, t,args=(F, w0, N, gamma, 0.04))\n",
    "#Energy=w0*sol2[:,3]\n",
    "plt.plot(t,Energy,label='Energy')\n",
    "plt.title(\"Giovannetti, g=0.04*omega\")\n",
    "plt.xlabel(\"Time\")\n",
    "plt.ylabel(\"Energy(N=0), Ergotropy(N=1)\")\n",
    "plt.legend()\n",
    "plt.show()'''"
   ]
  },
  {
   "cell_type": "code",
   "execution_count": 37,
   "metadata": {},
   "outputs": [
    {
     "data": {
      "text/plain": [
       "(0.0, 15.71)"
      ]
     },
     "execution_count": 37,
     "metadata": {},
     "output_type": "execute_result"
    },
    {
     "data": {
      "image/png": "[encoded data removed]",
      "text/plain": [
       "<Figure size 432x288 with 1 Axes>"
      ]
     },
     "metadata": {
      "needs_background": "light"
     },
     "output_type": "display_data"
    }
   ],
   "source": [
    "plt.plot(tlist,np.real(Energy),color='darkcyan')\n",
    "plt.plot(tlist,np.real(Ergotropy),ls='dashdot',color='darkcyan')\n",
    "plt.plot(t,np.real(Energy2),color='black')\n",
    "plt.plot(t,np.real(Ergotropy2),ls='dashdot',color='black')\n",
    "plt.xlabel(r'g$\\tau$',fontsize=14)\n",
    "plt.ylabel(r'$\\frac{E_{B}}{w}$,$\\frac{\\mathcal{E}_{B}}{w}$',fontsize=20)\n",
    "plt.xlim(0,15.71)"
   ]
  },
  {
   "cell_type": "code",
   "execution_count": 28,
   "metadata": {},
   "outputs": [
    {
     "data": {
      "text/plain": [
       "15.70927092709271"
      ]
     },
     "execution_count": 28,
     "metadata": {},
     "output_type": "execute_result"
    }
   ],
   "source": [
    "t[np.argmax(Ergotropy2)]"
   ]
  },
  {
   "cell_type": "code",
   "execution_count": 45,
   "metadata": {},
   "outputs": [
    {
     "data": {
      "text/plain": [
       "0.918517515660989"
      ]
     },
     "execution_count": 45,
     "metadata": {},
     "output_type": "execute_result"
    }
   ],
   "source": [
    "np.real(Ergotropy2[-1])/np.real(Energy2[-1])"
   ]
  },
  {
   "cell_type": "code",
   "execution_count": 12,
   "metadata": {},
   "outputs": [
    {
     "name": "stdout",
     "output_type": "stream",
     "text": [
      "[1.82707943]\n",
      "[0.01]\n"
     ]
    },
    {
     "data": {
      "image/png": "[encoded data removed]",
      "text/plain": [
       "<Figure size 432x288 with 1 Axes>"
      ]
     },
     "metadata": {
      "needs_background": "light"
     },
     "output_type": "display_data"
    }
   ],
   "source": [
    "plt.plot(Temp,power)\n",
    "print(power*T)\n",
    "print(Temp)"
   ]
  },
  {
   "cell_type": "code",
   "execution_count": 129,
   "metadata": {},
   "outputs": [
    {
     "data": {
      "text/plain": [
       "([(0.0149977579423263+0j),\n",
       "  (0.0073534063944769475+0j),\n",
       "  (1.3873387810612732+0j),\n",
       "  (1.4658875517544407+0j)],\n",
       " array([[ 5.75529076e-01+0.j,  2.28609449e-15+0.j,  2.89698820e-14+0.j,\n",
       "         -1.39258180e-09+0.j],\n",
       "        [ 2.28609449e-15+0.j,  5.75529076e-01+0.j,  1.39253225e-09+0.j,\n",
       "         -2.68274986e-14+0.j],\n",
       "        [ 2.89698820e-14+0.j,  1.39253225e-09+0.j,  5.75540423e-01+0.j,\n",
       "          5.00488540e-13+0.j],\n",
       "        [-1.39258180e-09+0.j, -2.68274986e-14+0.j,  5.00488540e-13+0.j,\n",
       "          5.75540423e-01+0.j]]))"
      ]
     },
     "execution_count": 129,
     "metadata": {},
     "output_type": "execute_result"
    }
   ],
   "source": [
    "conversion(opt_result.states[0][nt-1])"
   ]
  },
  {
   "cell_type": "code",
   "execution_count": 5,
   "metadata": {},
   "outputs": [],
   "source": [
    "def field_discrete(lista,t,dt):\n",
    "    return -0.5*lista[int(t/dt)]\n",
    "e=opt_result.optimized_controls[0]\n",
    "\n",
    "    \n"
   ]
  },
  {
   "cell_type": "code",
   "execution_count": 13,
   "metadata": {},
   "outputs": [
    {
     "data": {
      "image/png": "[encoded data removed]",
      "text/plain": [
       "<Figure size 432x288 with 1 Axes>"
      ]
     },
     "metadata": {
      "needs_background": "light"
     },
     "output_type": "display_data"
    },
    {
     "name": "stdout",
     "output_type": "stream",
     "text": [
      "[0. 0. 0. 0. 0. 0. 0. 0. 0. 0. 0. 0. 0. 0. 0. 0. 0. 0. 0. 0. 0. 0. 0. 0.\n",
      " 0. 0. 0. 0. 0. 0. 0. 0. 0. 0. 0. 0. 0. 0. 0. 0. 0. 0. 0. 0. 0. 0. 0. 0.\n",
      " 0. 0. 0. 0. 0. 0. 0. 0. 0. 0. 0. 0. 0. 0. 0. 0. 0. 0. 0. 0. 0. 0. 0. 0.\n",
      " 0. 0. 0. 0. 0. 0. 0. 0. 0. 0. 0. 0. 0. 0. 0. 0. 0. 0. 0. 0. 0. 0. 0. 0.\n",
      " 0. 0. 0. 0.]\n"
     ]
    }
   ],
   "source": [
    "from scipy.integrate import odeint\n",
    "\n",
    "def odeintz(func, z0, t, **kwargs):\n",
    "    \"\"\"An odeint-like function for complex valued differential equations.\"\"\"\n",
    "\n",
    "    # Disallow Jacobian-related arguments.\n",
    "    _unsupported_odeint_args = ['Dfun', 'col_deriv', 'ml', 'mu']\n",
    "    bad_args = [arg for arg in kwargs if arg in _unsupported_odeint_args]\n",
    "    if len(bad_args) > 0:\n",
    "        raise ValueError(\"The odeint argument %r is not supported by \"\n",
    "                         \"odeintz.\" % (bad_args[0],))\n",
    "\n",
    "    # Make sure z0 is a numpy array of type np.complex128.\n",
    "    z0 = np.array(z0, dtype=np.complex128, ndmin=1)\n",
    "\n",
    "    def realfunc(x, t, *args):\n",
    "        z = x.view(np.complex128)\n",
    "        dzdt = func(z, t, *args)\n",
    "        # func might return a python list, so convert its return\n",
    "        # value to an array with type np.complex128, and then return\n",
    "        # a np.float64 view of that array.\n",
    "        return np.asarray(dzdt, dtype=np.complex128).view(np.float64)\n",
    "\n",
    "    result = odeint(realfunc, z0.view(np.float64), t, **kwargs)\n",
    "\n",
    "    if kwargs.get('full_output', False):\n",
    "        z = result[0].view(np.complex128)\n",
    "        infodict = result[1]\n",
    "        return z, infodict\n",
    "    else:\n",
    "        z = result.view(np.complex128)\n",
    "        return z\n",
    "\n",
    "\n",
    "def pend(y, t, w0, N, gamma, g):\n",
    "\n",
    "    dydt = [-1j*(w0*y[0]+g*y[1]+field_discrete(e,t,dt))-gamma/2*y[0], -1j*(w0*y[1]+g*y[0]), 1j*(g*(y[4]-y[3])-field_discrete(e,t,dt)*np.conjugate(y[1]))-gamma/2*y[2],2*g*np.imag(y[2]), -2*np.imag(g*y[2]+field_discrete(e,t,dt)*y[0])-gamma*y[4]+gamma*N,-2*1j*w0*y[5]-2*1j*(g*y[6]+field_discrete(e,t,dt)*y[0])-gamma*y[5],-2j*w0*y[6]-1j*(g*(y[5]+y[7])+field_discrete(e,t,dt)*y[1])-gamma/2*y[6],-2*1j*w0*y[7]-2*1j*g*y[6]]\n",
    "\n",
    "    return dydt\n",
    "\n",
    "\n",
    "y0 = [0.0, 0.0,0.0,0.0,0.0,0.0,0.0,0.0]\n",
    "g=0.2*omega\n",
    "t = tlist\n",
    "dt=tlist[1]-tlist[0]\n",
    "N=Nb\n",
    "w0=omega\n",
    "Energy=np.zeros(len(t))\n",
    "Ergotropy=np.zeros(len(t))\n",
    "D=np.zeros(len(t))\n",
    "sol = odeintz(pend, y0, t, args=( w0, N, gamma, g))\n",
    "\n",
    "D=(1+2*sol[:,3]-2*np.absolute(sol[:,1])**2)**2-4*np.absolute(sol[:,7]-sol[:,1]**2)**2\n",
    "Energy=w0*sol[:,3]\n",
    "Ergotropy=w0*(sol[:,3]-1/2*(np.sqrt(D)-1))\n",
    "\n",
    "plt.plot(t,np.real(Energy),label= \"Energy\")\n",
    "plt.plot(t,np.real(Ergotropy),label= \"Ergotropy\")\n",
    "\n",
    "plt.legend()\n",
    "plt.show()\n",
    "\n",
    "print(Ergotropy/Energy[nt-1])\n"
   ]
  },
  {
   "cell_type": "code",
   "execution_count": 46,
   "metadata": {},
   "outputs": [
    {
     "data": {
      "text/plain": [
       "(0.5403023058681398-0.8414709848078965j)"
      ]
     },
     "execution_count": 46,
     "metadata": {},
     "output_type": "execute_result"
    }
   ],
   "source": [
    "np.exp(-1j*w0)"
   ]
  },
  {
   "cell_type": "code",
   "execution_count": 62,
   "metadata": {},
   "outputs": [
    {
     "data": {
      "image/png": "[encoded data removed]",
      "text/plain": [
       "<Figure size 432x288 with 1 Axes>"
      ]
     },
     "metadata": {
      "needs_background": "light"
     },
     "output_type": "display_data"
    },
    {
     "name": "stdout",
     "output_type": "stream",
     "text": [
      "[0.00000000e+00 7.20273618e-04 1.44048765e-03 2.16182299e-03\n",
      " 2.89018585e-03 3.63496379e-03 4.39706873e-03 5.16641309e-03\n",
      " 5.93267965e-03 6.69196780e-03 7.44745269e-03 8.20686682e-03\n",
      " 8.97897645e-03 9.77027552e-03 1.05824848e-02 1.14110965e-02\n",
      " 1.22450707e-02 1.30678063e-02 1.38595882e-02 1.46017641e-02\n",
      " 1.52827649e-02 1.59056190e-02 1.64956462e-02 1.71057010e-02\n",
      " 1.78153598e-02 1.87212817e-02 1.99196133e-02 2.14862377e-02\n",
      " 2.34627616e-02 2.58531055e-02 2.86301716e-02 3.17487336e-02\n",
      " 3.51605810e-02 3.88293862e-02 4.27440811e-02 4.69302030e-02\n",
      " 5.14587873e-02 5.64521847e-02 6.20858458e-02 6.85848463e-02\n",
      " 7.62139666e-02 8.52607500e-02 9.60123086e-02 1.08728517e-01\n",
      " 1.23615946e-01 1.40807468e-01 1.60351367e-01 1.82211311e-01\n",
      " 2.06276029e-01 2.32375891e-01 2.60303298e-01 2.89834304e-01\n",
      " 3.20749540e-01 3.52853056e-01 3.85987958e-01 4.20047919e-01\n",
      " 4.54983749e-01 4.90804432e-01 5.27572226e-01 5.65391764e-01\n",
      " 6.04393554e-01 6.44712914e-01 6.86466122e-01 7.29726362e-01\n",
      " 7.74502559e-01 8.20724245e-01 8.68234993e-01 9.16795730e-01\n",
      " 9.66097727e-01 1.01578357e+00 1.06547345e+00 1.11479357e+00\n",
      " 1.16340361e+00 1.21102073e+00 1.25743790e+00 1.30253529e+00\n",
      " 1.34628394e+00 1.38874112e+00 1.43003789e+00 1.47035922e+00\n",
      " 1.50991808e+00 1.54892546e+00 1.58755896e+00 1.62593320e+00\n",
      " 1.66407567e+00 1.70191108e+00 1.73925678e+00 1.77582997e+00\n",
      " 1.81126619e+00 1.84514664e+00 1.87703128e+00 1.90649367e+00\n",
      " 1.93315425e+00 1.95670866e+00 1.97694884e+00 1.99377536e+00\n",
      " 2.00718786e+00 2.01722301e+00 2.02386486e+00 2.02700074e+00]\n"
     ]
    }
   ],
   "source": [
    "psi=opt_result.states[0]\n",
    "Energy=np.zeros(nt)\n",
    "Ergotropy=np.zeros(nt)\n",
    "for i in range (0,nt):\n",
    "    Energy[i]=1/2*(np.real(psi[i][5])+np.real(psi[i][14])+(np.real(psi[i][2]))**2+(np.real(psi[i][4]))**2)-1/2\n",
    "    D=np.real((1+2*np.real(Energy[i])-np.abs(np.real(psi[i][2])+1j*np.real(psi[i][4]))**2)**2-4*np.abs(1/2*(np.real(psi[i][9])+np.real(psi[i][2])**2-(np.real(psi[i][14])+np.real(psi[i][4])**2)+1j*2*(np.real(psi[i][11])+np.real(psi[i][2])*np.real(psi[i][4])))-1/2*(np.real(psi[i][2])+1j*np.real(psi[i][4]))**2)**2)\n",
    "    Ergotropy[i]=np.real(Energy[i]-(np.sqrt(D)-1)/2)\n",
    "plt.plot(opt_result.tlist,Energy,label=\"Energy\")\n",
    "plt.plot(opt_result.tlist,Ergotropy,label=\"Ergotropy\")\n",
    "plt.legend()\n",
    "\n",
    "plt.show()\n",
    "\n",
    "print(Energy)"
   ]
  },
  {
   "cell_type": "code",
   "execution_count": 34,
   "metadata": {
    "scrolled": true
   },
   "outputs": [
    {
     "name": "stdout",
     "output_type": "stream",
     "text": [
      "(1+0j)\n",
      "(0.9998236878688582+0j)\n",
      "(0.9996474645346438+0j)\n",
      "(0.9994713297735056+0j)\n",
      "(0.9992952832567578+0j)\n",
      "(0.9991193245520735+0j)\n",
      "(0.998943453125058+0j)\n",
      "(0.9987676683411918+0j)\n",
      "(0.9985919694681453+0j)\n",
      "(0.9984163556784448+0j)\n",
      "(0.9982408260524883+0j)\n",
      "(0.9980653795818987+0j)\n",
      "(0.9978900151731931+0j)\n",
      "(0.9977147316517699+0j)\n",
      "(0.9975395277661854+0j)\n",
      "(0.9973644021927085+0j)\n",
      "(0.9971893535401383+0j)\n",
      "(0.9970143803548661+0j)\n",
      "(0.9968394811261602+0j)\n",
      "(0.9966646542916567+0j)\n",
      "(0.9964898982430359+0j)\n",
      "(0.996315211331862+0j)\n",
      "(0.996140591875564+0j)\n",
      "(0.99596603816354+0j)\n",
      "(0.9957915484633562+0j)\n",
      "(0.9956171210270213+0j)\n",
      "(0.995442754097315+0j)\n",
      "(0.995268445914143+0j)\n",
      "(0.9950941947208967+0j)\n",
      "(0.9949199987707978+0j)\n",
      "(0.9947458563331988+0j)\n",
      "(0.9945717656998191+0j)\n",
      "(0.9943977251908962+0j)\n",
      "(0.9942237331612241+0j)\n",
      "(0.9940497880060627+0j)\n",
      "(0.993875888166891+0j)\n",
      "(0.9937020321369878+0j)\n",
      "(0.9935282184668178+0j)\n",
      "(0.9933544457692012+0j)\n",
      "(0.9931807127242525+0j)\n",
      "(0.9930070180840662+0j)\n",
      "(0.9928333606771368+0j)\n",
      "(0.9926597394124923+0j)\n",
      "(0.99248615328353+0j)\n",
      "(0.9923126013715386+0j)\n",
      "(0.992139082848896+0j)\n",
      "(0.9919655969819282+0j)\n",
      "(0.9917921431334241+0j)\n",
      "(0.9916187207647896+0j)\n",
      "(0.9914453294378431+0j)\n",
      "(0.9912719688162364+0j)\n",
      "(0.9910986386665037+0j)\n",
      "(0.99092533885873+0j)\n",
      "(0.9907520693668417+0j)\n",
      "(0.9905788302685119+0j)\n",
      "(0.9904056217446882+0j)\n",
      "(0.9902324440787421+0j)\n",
      "(0.9900592976552385+0j)\n",
      "(0.9898861829583421+0j)\n",
      "(0.9897131005698533+0j)\n",
      "(0.9895400511668911+0j)\n",
      "(0.9893670355192268+0j)\n",
      "(0.9891940544862787+0j)\n",
      "(0.9890211090137854+0j)\n",
      "(0.9888482001301564+0j)\n",
      "(0.9886753289425327+0j)\n",
      "(0.9885024966325531+0j)\n",
      "(0.9883297044518563+0j)\n",
      "(0.988156953717327+0j)\n",
      "(0.9879842458061083+0j)\n",
      "(0.9878115821503968+0j)\n",
      "(0.9876389642320387+0j)\n",
      "(0.987466393576951+0j)\n",
      "(0.9872938717493847+0j)\n",
      "(0.9871214003460501+0j)\n",
      "(0.9869489809901327+0j)\n",
      "(0.9867766153252113+0j)\n",
      "(0.9866043050091128+0j)\n",
      "(0.9864320517077151+0j)\n",
      "(0.9862598570887272+0j)\n",
      "(0.9860877228154709+0j)\n",
      "(0.985915650540678+0j)\n",
      "(0.9857436419003385+0j)\n",
      "(0.9855716985076104+0j)\n",
      "(0.9853998219468211+0j)\n",
      "(0.9852280137675797+0j)\n",
      "(0.9850562754790204+0j)\n",
      "(0.9848846085442012+0j)\n",
      "(0.9847130143746753+0j)\n",
      "(0.9845414943252572+0j)\n",
      "(0.9843700496890001+0j)\n",
      "(0.9841986816924057+0j)\n",
      "(0.9840273914908821+0j)\n",
      "(0.9838561801644663+0j)\n",
      "(0.9836850487138263+0j)\n",
      "(0.9835139980565595+0j)\n",
      "(0.9833430290237974+0j)\n",
      "(0.9831721423571322+0j)\n",
      "(0.9830013387058731+0j)\n",
      "(0.9828306186246455+0j)\n"
     ]
    }
   ],
   "source": [
    "for i in range(0,nt):\n",
    "    a=opt_result.states[0][i]\n",
    "    A=np.array([[a[5,0],a[6,0],a[7,0],a[8,0]],[a[6,0],a[9,0],a[10,0],a[11,0]],[a[7,0],a[10,0],a[12,0],a[13,0]],[a[8,0],a[11,0],a[13,0],a[14,0]]])\n",
    "    print(1/(np.sqrt(np.linalg.det(2*A))))"
   ]
  },
  {
   "cell_type": "code",
   "execution_count": 26,
   "metadata": {},
   "outputs": [],
   "source": [
    "omega=1\n",
    "ampl0=0.00001\n",
    "#T=8\n",
    "mu=0.05\n",
    "g=0.2*omega\n",
    "#ampl0=1\n",
    "T=60\n",
    "nt=100000\n",
    "tlist = np.linspace(0,T, nt)\n",
    "gamma=1/500\n",
    "Temp=10\n",
    "Nb=1/(np.exp(omega/Temp)-1)\n",
    "H = hamiltonian(omega,ampl0,mu,g,gamma,Nb)"
   ]
  },
  {
   "cell_type": "code",
   "execution_count": 16,
   "metadata": {},
   "outputs": [
    {
     "name": "stdout",
     "output_type": "stream",
     "text": [
      "[[0.25+0.j]]\n",
      "[[0.25005626+0.j]]\n",
      "[[0.25044607+0.j]]\n",
      "[[0.25148438+0.j]]\n",
      "[[0.25345197+0.j]]\n",
      "[[0.25658303+0.j]]\n",
      "[[0.26105546+0.j]]\n",
      "[[0.26698322+0.j]]\n",
      "[[0.27441031+0.j]]\n",
      "[[0.28330645+0.j]]\n",
      "[[0.2935645+0.j]]\n",
      "[[0.30500081+0.j]]\n",
      "[[0.3173594+0.j]]\n",
      "[[0.33032107+0.j]]\n",
      "[[0.34351806+0.j]]\n",
      "[[0.35655433+0.j]]\n",
      "[[0.36903038+0.j]]\n",
      "[[0.38057086+0.j]]\n",
      "[[0.39085259+0.j]]\n",
      "[[0.39962996+0.j]]\n",
      "[[0.40675501+0.j]]\n",
      "[[0.41219009+0.j]]\n",
      "[[0.41601149+0.j]]\n",
      "[[0.418404+0.j]]\n",
      "[[0.41964711+0.j]]\n",
      "[[0.42009471+0.j]]\n",
      "[[0.4201504+0.j]]\n",
      "[[0.4202412+0.j]]\n",
      "[[0.42079165+0.j]]\n",
      "[[0.42220025+0.j]]\n",
      "[[0.42481904+0.j]]\n",
      "[[0.42893703+0.j]]\n",
      "[[0.43476703+0.j]]\n",
      "[[0.44243586+0.j]]\n",
      "[[0.45197737+0.j]]\n",
      "[[0.46332854+0.j]]\n",
      "[[0.47632888+0.j]]\n",
      "[[0.49072399+0.j]]\n",
      "[[0.50617409+0.j]]\n",
      "[[0.52226838+0.j]]\n",
      "[[0.53854535+0.j]]\n",
      "[[0.55451883+0.j]]\n",
      "[[0.56970822+0.j]]\n",
      "[[0.58367095+0.j]]\n",
      "[[0.59603422+0.j]]\n",
      "[[0.60652312+0.j]]\n",
      "[[0.61498211+0.j]]\n",
      "[[0.62138777+0.j]]\n",
      "[[0.62585132+0.j]]\n",
      "[[0.62861098+0.j]]\n",
      "[[0.63001498+0.j]]\n",
      "[[0.63049728+0.j]]\n",
      "[[0.6305484+0.j]]\n",
      "[[0.63068426+0.j]]\n",
      "[[0.63141523+0.j]]\n",
      "[[0.63321765+0.j]]\n",
      "[[0.63650901+0.j]]\n",
      "[[0.64162733+0.j]]\n",
      "[[0.64881511+0.j]]\n",
      "[[0.65820749+0.j]]\n",
      "[[0.66982468+0.j]]\n",
      "[[0.68356874+0.j]]\n",
      "[[0.69922502+0.j]]\n",
      "[[0.716469+0.j]]\n",
      "[[0.73487918+0.j]]\n",
      "[[0.75395648+0.j]]\n",
      "[[0.77315008+0.j]]\n",
      "[[0.79188889+0.j]]\n",
      "[[0.80961693+0.j]]\n",
      "[[0.82583024+0.j]]\n",
      "[[0.84011204+0.j]]\n",
      "[[0.85216321+0.j]]\n",
      "[[0.86182489+0.j]]\n",
      "[[0.86909105+0.j]]\n",
      "[[0.87410981+0.j]]\n",
      "[[0.87717339+0.j]]\n",
      "[[0.878698+0.j]]\n",
      "[[0.87919562+0.j]]\n",
      "[[0.87924046+0.j]]\n",
      "[[0.87943301+0.j]]\n",
      "[[0.88036446+0.j]]\n",
      "[[0.88258355+0.j]]\n",
      "[[0.8865675+0.j]]\n",
      "[[0.89269787+0.j]]\n",
      "[[0.90124178+0.j]]\n",
      "[[0.91233848+0.j]]\n",
      "[[0.92599135+0.j]]\n",
      "[[0.94206555+0.j]]\n",
      "[[0.96029166+0.j]]\n",
      "[[0.98027584+0.j]]\n",
      "[[1.00151701+0.j]]\n",
      "[[1.0234312+0.j]]\n",
      "[[1.04538261+0.j]]\n",
      "[[1.06672037+0.j]]\n",
      "[[1.08681869+0.j]]\n",
      "[[1.10511782+0.j]]\n",
      "[[1.1211624+0.j]]\n",
      "[[1.13463393+0.j]]\n",
      "[[1.14537418+0.j]]\n",
      "[[1.15339748+0.j]]\n"
     ]
    }
   ],
   "source": [
    "for i in range(0,nt):\n",
    "    print(opt_result.states[0][i][9]*opt_result.states[0][i][14])"
   ]
  },
  {
   "cell_type": "code",
   "execution_count": 6,
   "metadata": {},
   "outputs": [
    {
     "name": "stdout",
     "output_type": "stream",
     "text": [
      "(0.9126174682612764+0j)\n",
      "[ 1.        +0.j  0.29398224+0.j  2.00069454+0.j  0.56559684+0.j\n",
      "  0.33394542+0.j  0.43570454+0.j -0.73910825+0.j -0.10254632+0.j\n",
      " -0.27778806+0.j  1.94794871+0.j -0.27650899+0.j  0.46844397+0.j\n",
      "  2.09457873+0.j  0.73910825+0.j  0.56133335+0.j]\n",
      "[ 1.00000000e+00+0.j -4.16333634e-17+0.j  1.41421356e+00+0.j\n",
      "  4.85722573e-17+0.j  1.41421356e+00+0.j  1.25458924e+00+0.j\n",
      " -6.93889390e-18+0.j -8.13632030e-01+0.j -8.13632030e-01+0.j\n",
      "  1.25458924e+00+0.j -8.13632030e-01+0.j  8.13632030e-01+0.j\n",
      "  1.25458924e+00+0.j  1.52655666e-16+0.j  1.25458924e+00+0.j]\n",
      "(1.2913781313423702+0j)\n",
      "(1.531002684419479+0j)\n"
     ]
    }
   ],
   "source": [
    "HH=H[0]+H[1][0]*2\n",
    "initial=qutip.Qobj(target)\n",
    "t=np.linspace(0,T,nt)\n",
    "dt=t[1]-t[0]\n",
    "psi=(-1*HH*dt).expm()*target\n",
    "phi=(1*HH*dt).expm()*psi\n",
    "print(psi[12]*psi[5])\n",
    "print(psi)\n",
    "print(phi)\n",
    "a=psi-phi\n",
    "phi=(1*HH.dag()*dt).expm()*psi\n",
    "b=psi-phi\n",
    "print(phi[9]*phi[14])\n",
    "print(phi[12]*phi[5])\n"
   ]
  },
  {
   "cell_type": "code",
   "execution_count": 28,
   "metadata": {},
   "outputs": [
    {
     "name": "stdout",
     "output_type": "stream",
     "text": [
      "[ 0.00000000e+00+0.j  1.69630874e-04+0.j  8.48276911e-04+0.j\n",
      " -8.49554365e-05+0.j -8.48801314e-04+0.j -1.16113553e-03+0.j\n",
      " -9.76367292e-04+0.j  1.79652406e-06+0.j  1.09681300e-06+0.j\n",
      "  7.81094526e-04+0.j  1.09807356e-06+0.j -3.51496130e-07+0.j\n",
      "  1.18214470e-03+0.j  9.76367292e-04+0.j -7.81094526e-04+0.j]\n",
      "[ 3.01213805e-05+0.j -1.69452697e-04+0.j -8.47752168e-04+0.j\n",
      "  1.70012718e-04+0.j  8.49330474e-04+0.j  5.84315076e-04+0.j\n",
      "  9.76366833e-04+0.j -2.89008763e-06+0.j -1.38375865e-06+0.j\n",
      " -3.90546709e-04+0.j -1.38916224e-06+0.j  1.99181084e-06+0.j\n",
      " -5.87326147e-04+0.j -9.76366833e-04+0.j  3.90546709e-04+0.j]\n"
     ]
    }
   ],
   "source": [
    "print(a)\n",
    "print(b)"
   ]
  },
  {
   "cell_type": "code",
   "execution_count": 4,
   "metadata": {},
   "outputs": [
    {
     "data": {
      "text/plain": [
       "array([[0.17241739+0.j]])"
      ]
     },
     "execution_count": 4,
     "metadata": {},
     "output_type": "execute_result"
    }
   ],
   "source": [
    "opt_result.states[0][nt-1][12]*opt_result.states[0][nt-1][5]"
   ]
  },
  {
   "cell_type": "code",
   "execution_count": 9,
   "metadata": {},
   "outputs": [],
   "source": [
    "z=qutip.Qobj([[  1.        ],\n",
    " [ -3.09624997],\n",
    " [  0.19202116],\n",
    " [ -1.15436765],\n",
    " [ -0.49805424],\n",
    " [-11.12673451],\n",
    " [  0.        ],\n",
    " [  0.        ],\n",
    " [ -8.5370321 ],\n",
    " [ -8.50412931],\n",
    " [  8.5370321 ],\n",
    " [  0.        ],\n",
    " [-11.12673451],\n",
    " [  0.        ]])"
   ]
  },
  {
   "cell_type": "code",
   "execution_count": 4,
   "metadata": {},
   "outputs": [
    {
     "data": {
      "text/plain": [
       "Krotov Optimization Result\n",
       "--------------------------\n",
       "- Started at 2022-03-24 12:07:08\n",
       "- Number of objectives: 1\n",
       "- Number of iterations: 2\n",
       "- Reason for termination: Reached convergence: Loss of monotonic convergence; error decrease < 0\n",
       "- Ended at 2022-03-24 12:07:09 (0:00:01)"
      ]
     },
     "execution_count": 4,
     "metadata": {},
     "output_type": "execute_result"
    }
   ],
   "source": [
    "opt_result"
   ]
  },
  {
   "cell_type": "code",
   "execution_count": 24,
   "metadata": {},
   "outputs": [
    {
     "data": {
      "text/plain": [
       "(-14.27418456212974+0j)"
      ]
     },
     "execution_count": 24,
     "metadata": {},
     "output_type": "execute_result"
    }
   ],
   "source": [
    "np.sqrt(z[5,0]-z[1,0]**2)*np.sqrt(z[9,0]-z[3,0]**2)"
   ]
  },
  {
   "cell_type": "code",
   "execution_count": 26,
   "metadata": {},
   "outputs": [],
   "source": [
    "z=qutip.Qobj([[  1.        ],\n",
    " [ -3.09624997],\n",
    " [  0.19202116],\n",
    " [ -1.15436765],\n",
    " [ -0.49805424],\n",
    " [-11.12673451],\n",
    " [  0.        ],\n",
    " [  0.        ],\n",
    " [ -8.5370321 ],\n",
    " [ -8.50412931],\n",
    " [  8.5370321 ],\n",
    " [  0.        ],\n",
    " [-11.12673451],\n",
    " [  0.        ],\n",
    " [ -8.50412931]])"
   ]
  },
  {
   "cell_type": "code",
   "execution_count": 27,
   "metadata": {},
   "outputs": [
    {
     "data": {
      "text/plain": [
       "(-14.27418456212974+0j)"
      ]
     },
     "execution_count": 27,
     "metadata": {},
     "output_type": "execute_result"
    }
   ],
   "source": [
    "np.sqrt(z[5,0]-z[1,0]**2)*np.sqrt(z[9,0]-z[3,0]**2)"
   ]
  },
  {
   "cell_type": "code",
   "execution_count": null,
   "metadata": {},
   "outputs": [],
   "source": []
  },
  {
   "cell_type": "code",
   "execution_count": null,
   "metadata": {},
   "outputs": [],
   "source": []
  },
  {
   "cell_type": "code",
   "execution_count": 16,
   "metadata": {},
   "outputs": [
    {
     "name": "stderr",
     "output_type": "stream",
     "text": [
      "C:\\Users\\ricar\\anaconda3\\lib\\site-packages\\numpy\\ma\\core.py:2825: VisibleDeprecationWarning: Creating an ndarray from ragged nested sequences (which is a list-or-tuple of lists-or-tuples-or ndarrays with different lengths or shapes) is deprecated. If you meant to do this, you must specify 'dtype=object' when creating the ndarray.\n",
      "  _data = np.array(data, dtype=dtype, copy=copy,\n"
     ]
    },
    {
     "name": "stdout",
     "output_type": "stream",
     "text": [
      "[array([[0.01092862]]), 0.0] [array([[-0.0039153]]), 0.0]\n"
     ]
    },
    {
     "data": {
      "image/png": "[encoded data removed]",
      "text/plain": [
       "<Figure size 720x720 with 2 Axes>"
      ]
     },
     "metadata": {
      "needs_background": "light"
     },
     "output_type": "display_data"
    }
   ],
   "source": [
    "psi=opt_result.states[0]\n",
    "circle1=plt.Circle((1/np.sqrt(2)*np.real(psi[nt-1][2]), 1/np.sqrt(2)*np.real(psi[nt-1][4])), 0.25, color='r')\n",
    "circle2=plt.Circle((1/np.sqrt(2)*target[2], 1/np.sqrt(2)*target[4]), 0.25, color='b')\n",
    "\n",
    "fig, ax = plt.subplots(2,figsize=(10,10)) \n",
    "\n",
    "x=[1/np.sqrt(2)*np.real(psi[nt-1][2]),1/np.sqrt(2)*target[2]]\n",
    "y=[1/np.sqrt(2)*np.real(psi[nt-1][4]),1/np.sqrt(2)*target[4]]\n",
    "\n",
    "\n",
    "\n",
    "ax[0].scatter(x,y)\n",
    "ax[0].add_patch(circle1)\n",
    "ax[0].add_patch(circle2)\n",
    "#ax[0].set_ylim([-1, 2.5])\n",
    "#ax[0].set_xlim([-1, 2.5])\n",
    "\n",
    "\n",
    "\n",
    "x=[1/np.sqrt(2)*np.real(psi[nt-1][1]),1/np.sqrt(2)*target[1]]\n",
    "y=[1/np.sqrt(2)*np.real(psi[nt-1][3]),1/np.sqrt(2)*target[3]]\n",
    "\n",
    "print(x,y)\n",
    "\n",
    "\n",
    "circle3=plt.Circle((1/np.sqrt(2)*np.real(psi[nt-1][1]), 1/np.sqrt(2)*np.real(psi[nt-1][3])), 0.25, color='r')\n",
    "circle4=plt.Circle((1/np.sqrt(2)*target[1], 1/np.sqrt(2)*target[3]), 0.25, color='b')\n",
    "\n",
    "ax[1].scatter(x,y)\n",
    "ax[1].add_patch(circle3)\n",
    "ax[1].add_patch(circle4)\n",
    "ax[1].set_ylim([-1, 1])\n",
    "ax[1].set_xlim([-1, 1])\n",
    "plt.show()"
   ]
  },
  {
   "cell_type": "markdown",
   "metadata": {},
   "source": [
    "Function to get the states at each t for optimized field"
   ]
  },
  {
   "cell_type": "code",
   "execution_count": 4,
   "metadata": {},
   "outputs": [],
   "source": [
    "from scipy.integrate import simpson\n",
    "\n",
    "\n",
    "def field_discrete(lista,t,dt):\n",
    "    return lista[int(t/dt)]\n",
    "\n",
    "def states(psi0,g,mu):\n",
    "    HA = qutip.Qobj(H0(g))\n",
    "    H1 =qutip.Qobj(Hde(mu,g))\n",
    "    H2=qutip.Qobj(He(mu))\n",
    "    states=np.zeros((len(opt_result.tlist),15),dtype=complex)\n",
    "    integral=np.zeros(nt)\n",
    "\n",
    "    for time_index in range(len(opt_result.tlist) - 1):\n",
    "        if time_index==0:\n",
    "            integral[time_index]=0\n",
    "        else:    \n",
    "            integral[time_index]=simpson(np.array(opt_result.optimized_controls[0])[:time_index], np.array(opt_result.tlist)[:time_index])\n",
    "    \n",
    "    dt=opt_result.tlist[1]-opt_result.tlist[0]\n",
    "    for i in range (0,len(opt_result.tlist)):\n",
    "        #A=HA+H1*field_discrete(opt_result.optimized_controls[0],opt_result.tlist[i],dt)+H2*field_discrete(integral,opt_result.tlist[i],dt)\n",
    "        #A=HA+H1*opt_result.optimized_controls[0][i]+H2*integral[i]\n",
    "        if i==len(opt_result.tlist)-1:\n",
    "            A=HA+H2*opt_result.optimized_controls[0][i]+H1*(opt_result.optimized_controls[0][i]-opt_result.optimized_controls[0][i-1])/dt\n",
    "        else:\n",
    "            \n",
    "            A=HA+H2*opt_result.optimized_controls[0][i]+H1*(opt_result.optimized_controls[0][i+1]-opt_result.optimized_controls[0][i])/dt\n",
    "        if i==1:\n",
    "            states[i,:]=(((-A * dt).expm())(psi0)).trans()\n",
    "        elif i==0:\n",
    "            states[i,:]=psi0.trans()\n",
    "        else:\n",
    "            states[i][:]=((-A * dt).expm())(qutip.Qobj(states[i-1][:])).trans()\n",
    "\n",
    "    return states"
   ]
  },
  {
   "cell_type": "code",
   "execution_count": 27,
   "metadata": {},
   "outputs": [
    {
     "data": {
      "text/plain": [
       "array([ 1.        +0.j,  1.06678182+0.j, -0.18755144+0.j, -0.09908427+0.j,\n",
       "       -0.03322678+0.j,  0.5       +0.j,  0.        +0.j,  0.        +0.j,\n",
       "        0.        +0.j,  0.5       +0.j,  0.        +0.j,  0.        +0.j,\n",
       "        0.5       +0.j,  0.        +0.j,  0.5       +0.j])"
      ]
     },
     "execution_count": 27,
     "metadata": {},
     "output_type": "execute_result"
    }
   ],
   "source": [
    "psi0=qutip.Qobj(np.array([1,0,0,0,0,1/2,0,0,0,1/2,0,0,1/2,0,1/2]))\n",
    "a=states(psi0,g,mu)\n",
    "a[nt-1]\n"
   ]
  },
  {
   "cell_type": "markdown",
   "metadata": {},
   "source": [
    "Function to get the real field"
   ]
  },
  {
   "cell_type": "code",
   "execution_count": 12,
   "metadata": {},
   "outputs": [],
   "source": [
    "def field():\n",
    "    integral=np.zeros(nt)\n",
    "    for time_index in range(len(opt_result.tlist) - 1):\n",
    "        if time_index==0:\n",
    "            integral[time_index]=0\n",
    "        else:    \n",
    "            integral[time_index]=simpson(np.array(opt_result.optimized_controls[0])[:time_index], np.array(opt_result.tlist)[:time_index])\n",
    "        \n",
    "    return integral"
   ]
  },
  {
   "cell_type": "markdown",
   "metadata": {},
   "source": [
    "Energy vs time"
   ]
  },
  {
   "cell_type": "code",
   "execution_count": 9,
   "metadata": {
    "scrolled": true
   },
   "outputs": [
    {
     "data": {
      "text/plain": [
       "(array([1. +0.j, 0. +0.j, 0. +0.j, 0. +0.j, 0. +0.j, 0.5+0.j, 0. +0.j,\n",
       "        0. +0.j, 0. +0.j, 0.5+0.j, 0. +0.j, 0. +0.j, 0.5+0.j, 0. +0.j,\n",
       "        0.5+0.j]),)"
      ]
     },
     "execution_count": 9,
     "metadata": {},
     "output_type": "execute_result"
    },
    {
     "data": {
      "image/png": "[encoded data removed]",
      "text/plain": [
       "<Figure size 432x288 with 1 Axes>"
      ]
     },
     "metadata": {
      "needs_background": "light"
     },
     "output_type": "display_data"
    }
   ],
   "source": [
    "psi0=qutip.Qobj(np.array([1,0,0,0,0,1/2,0,0,0,1/2,0,0,1/2,0,1/2]))\n",
    "psi=states(psi0,g,mu)\n",
    "Energy=np.zeros(nt)\n",
    "for i in range (0,np.shape(psi)[0]):\n",
    "    Energy[i]=1/2*(np.real(psi[i][9])+(np.real(psi[i][2]))**2+np.real(psi[i][14])+(np.real(psi[i][4]))**2)-1/2\n",
    "plt.plot(opt_result.tlist,Energy)\n",
    "\n",
    "psi[0],"
   ]
  },
  {
   "cell_type": "code",
   "execution_count": 6,
   "metadata": {},
   "outputs": [
    {
     "name": "stdout",
     "output_type": "stream",
     "text": [
      "(0.25+0j)\n",
      "(0.25+0j)\n",
      "(0.20146742857119704+0j)\n",
      "(0.3801538652666529+0j)\n",
      "(0.38903770122180825+0j)\n",
      "(0.18708025026969077+0j)\n",
      "(0.22611051998567272+0j)\n",
      "(0.276436244067842+0j)\n",
      "(0.22053085508855214+0j)\n",
      "(0.36422264310737584+0j)\n",
      "(0.3900696924888927+0j)\n",
      "(0.17778181707253385+0j)\n",
      "(0.2059456973411258+0j)\n",
      "(0.3038655184096872+0j)\n",
      "(0.2435593822906608+0j)\n",
      "(0.3426465335563116+0j)\n",
      "(0.38315538539100363+0j)\n",
      "(0.1737753853175901+0j)\n",
      "(0.1903061446322379+0j)\n",
      "(0.33043594744314403+0j)\n"
     ]
    }
   ],
   "source": [
    "for i in range (0,nt):\n",
    "    print(psi[i][9]*psi[i][14])\n",
    "    print(psi[i][5]*psi[i][12])"
   ]
  },
  {
   "cell_type": "markdown",
   "metadata": {},
   "source": [
    "Electric field"
   ]
  },
  {
   "cell_type": "code",
   "execution_count": 20,
   "metadata": {},
   "outputs": [
    {
     "name": "stdout",
     "output_type": "stream",
     "text": [
      "0.0\n"
     ]
    },
    {
     "data": {
      "image/png": "[encoded data removed]",
      "text/plain": [
       "<Figure size 432x288 with 1 Axes>"
      ]
     },
     "metadata": {
      "needs_background": "light"
     },
     "output_type": "display_data"
    }
   ],
   "source": [
    "Efield=field()\n",
    "plt.plot(opt_result.tlist,Efield,label=\"Real\")\n",
    "plt.plot(opt_result.tlist,opt_result.optimized_controls[0],label=\"Diff\")\n",
    "plt.legend()\n",
    "print(Efield[nt-1])"
   ]
  },
  {
   "cell_type": "code",
   "execution_count": 103,
   "metadata": {},
   "outputs": [
    {
     "name": "stdout",
     "output_type": "stream",
     "text": [
      "[[0.+0.j]]\n",
      "[[0.00083666+0.j]]\n",
      "[[-4.08678172e-05+0.j]]\n",
      "[[0.00403471+0.j]]\n",
      "[[-9.94567412e-05+0.j]]\n",
      "[[-0.00178392+0.j]]\n",
      "[[-0.00019355+0.j]]\n",
      "[[-7.07437386e-05+0.j]]\n",
      "[[5.56201896e-06+0.j]]\n",
      "[[0.00010633+0.j]]\n",
      "[[1.93456583e-05+0.j]]\n",
      "[[7.15869375e-06+0.j]]\n",
      "[[1.11022302e-16+0.j]]\n",
      "[[1.2490009e-16+0.j]]\n",
      "[[-1.11022302e-16+0.j]]\n"
     ]
    }
   ],
   "source": [
    "for i in range(0,15):\n",
    "    print(opt_result.states[0][i]-states[nt-1][i])"
   ]
  },
  {
   "cell_type": "code",
   "execution_count": 13,
   "metadata": {
    "scrolled": true
   },
   "outputs": [
    {
     "data": {
      "text/plain": [
       "[Quantum object: dims = [[15], [1]], shape = (15, 1), type = ket\n",
       " Qobj data =\n",
       " [[ 1.00000000e+00]\n",
       "  [ 1.94665081e-02]\n",
       "  [-3.52661910e-03]\n",
       "  [ 3.48024050e-04]\n",
       "  [ 5.32822762e-04]\n",
       "  [ 6.08397471e-01]\n",
       "  [-8.83382326e-02]\n",
       "  [-2.95718841e-04]\n",
       "  [ 8.60616666e-05]\n",
       "  [ 3.80992321e-01]\n",
       "  [ 1.85545391e-04]\n",
       "  [-2.27791272e-04]\n",
       "  [ 6.22557676e-01]\n",
       "  [-1.02540227e-01]\n",
       "  [ 4.18458414e-01]]]"
      ]
     },
     "execution_count": 13,
     "metadata": {},
     "output_type": "execute_result"
    }
   ],
   "source": [
    "opt_result.states"
   ]
  },
  {
   "cell_type": "code",
   "execution_count": 46,
   "metadata": {},
   "outputs": [
    {
     "ename": "AttributeError",
     "evalue": "'Objective' object has no attribute 'essolve'",
     "output_type": "error",
     "traceback": [
      "\u001b[1;31m---------------------------------------------------------------------------\u001b[0m",
      "\u001b[1;31mAttributeError\u001b[0m                            Traceback (most recent call last)",
      "\u001b[1;32m<ipython-input-46-7dd31dff6a98>\u001b[0m in \u001b[0;36m<module>\u001b[1;34m\u001b[0m\n\u001b[1;32m----> 1\u001b[1;33m optimized_dynamics = opt_result.optimized_objectives[0].essolve(\n\u001b[0m\u001b[0;32m      2\u001b[0m       \u001b[0mtlist\u001b[0m\u001b[1;33m,\u001b[0m \u001b[0me_ops\u001b[0m\u001b[1;33m=\u001b[0m\u001b[1;33m[\u001b[0m\u001b[1;33m]\u001b[0m\u001b[1;33m\u001b[0m\u001b[1;33m\u001b[0m\u001b[0m\n\u001b[0;32m      3\u001b[0m   )\n\u001b[0;32m      4\u001b[0m \u001b[0moptimized_dynamics\u001b[0m\u001b[1;33m.\u001b[0m\u001b[0mstates\u001b[0m\u001b[1;33m[\u001b[0m\u001b[1;36m0\u001b[0m\u001b[1;33m]\u001b[0m\u001b[1;33m\u001b[0m\u001b[1;33m\u001b[0m\u001b[0m\n",
      "\u001b[1;31mAttributeError\u001b[0m: 'Objective' object has no attribute 'essolve'"
     ]
    }
   ],
   "source": [
    "optimized_dynamics = opt_result.optimized_objectives[0].essolve(\n",
    "      tlist, e_ops=[]\n",
    "  )\n",
    "optimized_dynamics.states[0]"
   ]
  },
  {
   "cell_type": "code",
   "execution_count": 22,
   "metadata": {},
   "outputs": [
    {
     "data": {
      "text/plain": [
       "[array([-1.38777878e-25, -4.05338078e-02, -8.06291106e-02, -7.98867479e-02,\n",
       "        -7.94169483e-02, -7.91997330e-02, -7.91718587e-02, -7.92517354e-02,\n",
       "        -7.93706327e-02, -7.94998530e-02, -7.96629298e-02, -7.99254245e-02,\n",
       "        -8.03640445e-02, -8.10276400e-02, -8.19082271e-02, -8.29360929e-02,\n",
       "        -8.40003544e-02, -8.49819578e-02, -4.27188862e-02, -1.38777878e-25])]"
      ]
     },
     "execution_count": 22,
     "metadata": {},
     "output_type": "execute_result"
    }
   ],
   "source": [
    "opt_result.optimized_controls"
   ]
  },
  {
   "cell_type": "code",
   "execution_count": 29,
   "metadata": {},
   "outputs": [],
   "source": [
    "from scipy.integrate import simpson\n",
    "integral=np.zeros(nt)\n",
    "\n",
    "for time_index in range(len(opt_result.tlist) - 1):\n",
    "    if time_index==0:\n",
    "        integral[time_index]=0\n",
    "    else:    \n",
    "        integral[time_index]=simpson(np.array(opt_result.optimized_controls[0])[:time_index], np.array(opt_result.tlist)[:time_index])"
   ]
  },
  {
   "cell_type": "code",
   "execution_count": 55,
   "metadata": {},
   "outputs": [],
   "source": [
    "def field_discrete2(t,args):\n",
    "    return integral[int(t/dt)]\n",
    "\n",
    "def field_discrete(t,args):\n",
    "    return opt_result.optimized_controls[0][int(t/dt)]\n",
    "T=4\n",
    "nt=20\n",
    "dt=opt_result.tlist[1]-opt_result.tlist[0]\n",
    "HA =-1j* qutip.Qobj(H0(0.2))\n",
    "H1 =-1j*qutip.Qobj(Hde(0.05,0.2))\n",
    "H2= -1j*qutip.Qobj(He(0.05,0.2))\n",
    "H=[HA,[H1,field_discrete],[H2,field_discrete2]]\n",
    "psi0=qutip.Qobj(np.array([1,0,0,0,0,1/2,0,0,0,1/2,0,0,1/2,0,1/2]))\n"
   ]
  },
  {
   "cell_type": "code",
   "execution_count": 58,
   "metadata": {},
   "outputs": [],
   "source": [
    "output = qutip.mesolve(H, psi0, opt_result.tlist)"
   ]
  },
  {
   "cell_type": "code",
   "execution_count": 81,
   "metadata": {},
   "outputs": [
    {
     "name": "stdout",
     "output_type": "stream",
     "text": [
      "Quantum object: dims = [[1], [15]], shape = (1, 15), type = bra\n",
      "Qobj data =\n",
      "[[ 1.          0.          0.          0.          0.          0.54266889\n",
      "  -0.00873926  0.          0.          0.46082681  0.          0.\n",
      "   0.54266889 -0.00873926  0.46082681]]\n"
     ]
    }
   ],
   "source": [
    "print((((-1j*H * dt).expm())(psi0)).trans())"
   ]
  },
  {
   "cell_type": "code",
   "execution_count": 52,
   "metadata": {},
   "outputs": [
    {
     "data": {
      "text/latex": [
       "Quantum object: dims = [[15], [1]], shape = (15, 1), type = ket\\begin{equation*}\\left(\\begin{array}{*{11}c}0.707\\\\0.0\\\\0.0\\\\0.0\\\\0.0\\\\\\vdots\\\\0.0\\\\0.0\\\\0.354\\\\0.0\\\\0.354\\\\\\end{array}\\right)\\end{equation*}"
      ],
      "text/plain": [
       "Quantum object: dims = [[15], [1]], shape = (15, 1), type = ket\n",
       "Qobj data =\n",
       "[[0.70710678]\n",
       " [0.        ]\n",
       " [0.        ]\n",
       " [0.        ]\n",
       " [0.        ]\n",
       " [0.35355339]\n",
       " [0.        ]\n",
       " [0.        ]\n",
       " [0.        ]\n",
       " [0.35355339]\n",
       " [0.        ]\n",
       " [0.        ]\n",
       " [0.35355339]\n",
       " [0.        ]\n",
       " [0.35355339]]"
      ]
     },
     "execution_count": 52,
     "metadata": {},
     "output_type": "execute_result"
    }
   ],
   "source": [
    "output.states[0]"
   ]
  },
  {
   "cell_type": "code",
   "execution_count": 53,
   "metadata": {},
   "outputs": [
    {
     "data": {
      "text/latex": [
       "Quantum object: dims = [[15], [1]], shape = (15, 1), type = ket\\begin{equation*}\\left(\\begin{array}{*{11}c}1.0\\\\0.0\\\\0.0\\\\0.0\\\\0.0\\\\\\vdots\\\\0.0\\\\0.0\\\\0.500\\\\0.0\\\\0.500\\\\\\end{array}\\right)\\end{equation*}"
      ],
      "text/plain": [
       "Quantum object: dims = [[15], [1]], shape = (15, 1), type = ket\n",
       "Qobj data =\n",
       "[[1. ]\n",
       " [0. ]\n",
       " [0. ]\n",
       " [0. ]\n",
       " [0. ]\n",
       " [0.5]\n",
       " [0. ]\n",
       " [0. ]\n",
       " [0. ]\n",
       " [0.5]\n",
       " [0. ]\n",
       " [0. ]\n",
       " [0.5]\n",
       " [0. ]\n",
       " [0.5]]"
      ]
     },
     "execution_count": 53,
     "metadata": {},
     "output_type": "execute_result"
    }
   ],
   "source": [
    "psi0"
   ]
  },
  {
   "cell_type": "code",
   "execution_count": 4,
   "metadata": {},
   "outputs": [],
   "source": [
    "from src.krotov.second_order import _overlap"
   ]
  },
  {
   "cell_type": "code",
   "execution_count": null,
   "metadata": {
    "id": "o7DorqGSiKJc"
   },
   "outputs": [],
   "source": [
    "def plot_pulse(pulse, tlist):\n",
    "    fig, ax = plt.subplots()\n",
    "    if callable(pulse):\n",
    "        pulse = np.array([pulse(t, args=None) for t in tlist])\n",
    "    ax.plot(tlist, pulse)\n",
    "    ax.set_xlabel('Time')\n",
    "    ax.set_ylabel('Pulse Amplitude')\n",
    "    plt.show(fig)"
   ]
  },
  {
   "cell_type": "code",
   "execution_count": null,
   "metadata": {
    "colab": {
     "base_uri": "https://localhost:8080/",
     "height": 279
    },
    "id": "OCXCQCQpZtkB",
    "outputId": "67b210d4-cc9f-401e-9cab-06874ad40d4d"
   },
   "outputs": [
    {
     "data": {
      "image/png": "[encoded data removed]",
      "text/plain": [
       "<Figure size 432x288 with 1 Axes>"
      ]
     },
     "metadata": {
      "needs_background": "light"
     },
     "output_type": "display_data"
    }
   ],
   "source": [
    "plot_pulse(opt_result.optimized_controls[0], tlist)"
   ]
  },
  {
   "cell_type": "code",
   "execution_count": null,
   "metadata": {
    "colab": {
     "base_uri": "https://localhost:8080/",
     "height": 279
    },
    "id": "PA9s9rbQRDpE",
    "outputId": "031f7745-d0cc-4381-af35-94678c953fb3"
   },
   "outputs": [
    {
     "data": {
      "image/png": "[encoded data removed]",
      "text/plain": [
       "<Figure size 432x288 with 1 Axes>"
      ]
     },
     "metadata": {
      "needs_background": "light"
     },
     "output_type": "display_data"
    }
   ],
   "source": [
    "plot_pulse(opt_result.optimized_controls[0], tlist)"
   ]
  },
  {
   "cell_type": "code",
   "execution_count": null,
   "metadata": {
    "colab": {
     "base_uri": "https://localhost:8080/",
     "height": 283
    },
    "id": "ZsMwquwf4Lpk",
    "outputId": "50ec167d-cff1-48b6-b87b-300671bbeb66"
   },
   "outputs": [
    {
     "data": {
      "image/png": "[encoded data removed]",
      "text/plain": [
       "<Figure size 432x288 with 1 Axes>"
      ]
     },
     "metadata": {
      "needs_background": "light"
     },
     "output_type": "display_data"
    }
   ],
   "source": [
    "Energy=np.zeros(nt)\n",
    "optimized_dynamics = opt_result.optimized_objectives[0].mesolve(\n",
    "      tlist, e_ops=[]\n",
    "  )\n",
    "for i in range(0,nt):\n",
    "  H = hamiltonian(omega,ampl0,g)[0]+hamiltonian(omega,ampl0,g)[1][0]*opt_result.optimized_controls[0][i]\n",
    "  rho=optimized_dynamics.states[i]*optimized_dynamics.states[i].dag()\n",
    "  Energy[i]=np.real(np.matrix.trace(np.array(rho*H)))\n",
    "\n",
    "plt.plot(tlist,Energy)\n",
    "plt.xlabel(\"time\")\n",
    "plt.ylabel(\"Energy\")\n",
    "plt.show()"
   ]
  },
  {
   "cell_type": "code",
   "execution_count": null,
   "metadata": {
    "colab": {
     "base_uri": "https://localhost:8080/",
     "height": 312
    },
    "id": "1O2canlRD1fS",
    "outputId": "25282a25-2caa-4891-c519-41ff6eebd24c"
   },
   "outputs": [
    {
     "data": {
      "image/png": "[encoded data removed]",
      "text/plain": [
       "<Figure size 432x288 with 1 Axes>"
      ]
     },
     "metadata": {
      "needs_background": "light"
     },
     "output_type": "display_data"
    },
    {
     "name": "stdout",
     "output_type": "stream",
     "text": [
      "Negativity at final time T:  0.0644747582456493\n"
     ]
    }
   ],
   "source": [
    "optimized_dynamics = opt_result.optimized_objectives[0].mesolve(\n",
    "      tlist, e_ops=[]\n",
    "  )\n",
    "\n",
    "figen, ent = plt.subplots()\n",
    "Negativity=np.zeros(nt)\n",
    "\n",
    "for i in range(0,nt):\n",
    "  PartialTranspose=qutip.partial_transpose(optimized_dynamics.states[i]*optimized_dynamics.states[i].dag(),[1,0])\n",
    "  P=np.real(np.trace(np.sqrt(np.array(PartialTranspose.dag()*PartialTranspose))))\n",
    "  Negativity[i]=(P-1)/2\n",
    "\n",
    "ent.plot(tlist,Negativity)\n",
    "ent.set_xlabel(\"Time\")\n",
    "ent.set_ylabel(\"Negativity\")\n",
    "ent.set_title(\"Entanglement between charger and battery\")\n",
    "plt.show(figen)\n",
    "print(\"Negativity at final time T: \", Negativity[nt-1])\n"
   ]
  },
  {
   "cell_type": "code",
   "execution_count": null,
   "metadata": {
    "id": "UYAhIXOEtcKP"
   },
   "outputs": [],
   "source": [
    "def trace_A(rho):\n",
    "    \"\"\"Partial trace over the A degrees of freedom\"\"\"\n",
    "    rho_q = np.zeros(shape=(2, 2), dtype=np.complex_)\n",
    "    rho_q[0, 0] = rho[0, 0] + rho[2, 2]\n",
    "    rho_q[0, 1] = rho[0, 1] + rho[2, 3]\n",
    "    rho_q[1, 0] = rho[1, 0] + rho[3, 2]\n",
    "    rho_q[1, 1] = rho[1, 1] + rho[3, 3]\n",
    "    return qutip.Qobj(rho_q)"
   ]
  },
  {
   "cell_type": "code",
   "execution_count": null,
   "metadata": {
    "colab": {
     "base_uri": "https://localhost:8080/",
     "height": 901
    },
    "id": "AdsnHFfGrf4P",
    "outputId": "fc0da6c8-c2f2-4cf3-bac2-c9f884b663b4"
   },
   "outputs": [
    {
     "data": {
      "image/png": "[encoded data removed]",
      "text/plain": [
       "<Figure size 432x288 with 1 Axes>"
      ]
     },
     "metadata": {
      "needs_background": "light"
     },
     "output_type": "display_data"
    },
    {
     "data": {
      "image/png": "[encoded data removed]",
      "text/plain": [
       "<Figure size 432x288 with 1 Axes>"
      ]
     },
     "metadata": {
      "needs_background": "light"
     },
     "output_type": "display_data"
    },
    {
     "data": {
      "image/png": "[encoded data removed]",
      "text/plain": [
       "<Figure size 360x360 with 1 Axes>"
      ]
     },
     "metadata": {},
     "output_type": "display_data"
    }
   ],
   "source": [
    "from numpy import linalg as npla\n",
    "\n",
    "def eigenvalues(A):\n",
    "    eigenValues, eigenVectors = npla.eig(A)\n",
    "    idx = np.argsort(eigenValues)\n",
    "    eigenValues = eigenValues[idx]\n",
    "    eigenVectors = eigenVectors[:,idx]\n",
    "    return (eigenValues)\n",
    "\n",
    "optimized_dynamics = opt_result.optimized_objectives[0].mesolve(\n",
    "      tlist, e_ops=[]\n",
    "  )\n",
    "Ergotropy=np.zeros(nt)\n",
    "Energy=np.zeros(nt)\n",
    "matrix=np.zeros(nt)\n",
    "\n",
    "b = qutip.Bloch()\n",
    "\n",
    "for i in range(0,nt):\n",
    "  FinalRho=trace_A(np.array(optimized_dynamics.states[i]*optimized_dynamics.states[i].dag()))\n",
    "  matrix[i]=np.real(FinalRho[0,0])\n",
    "  point1=[2*np.real(FinalRho[0,1]), -2*np.imag(FinalRho[0,1]), FinalRho[0,0] -FinalRho[1,1]]\n",
    "  b.add_points(point1)\n",
    "  Rho_f=eigenvalues(FinalRho)[1]*np.array([[1, 0], [0, 0]])+eigenvalues(FinalRho)[0]*np.array([[0, 0], [0, 1]])\n",
    "  Energy[i]=np.real(np.matrix.trace(omega*np.dot(np.array([[0, 0], [0, 1]]),FinalRho)))\n",
    "  Ergotropy[i]=-np.real(np.matrix.trace(omega*np.dot(np.array([[0, 0], [0, 1]]),(Rho_f-FinalRho))))\n",
    " \n",
    "\n",
    "\n",
    "plt.plot(tlist,Energy,label='Energy')\n",
    "plt.plot(tlist,Ergotropy,label='Ergotropy')\n",
    "plt.xlabel(\"time\")\n",
    "plt.ylabel(\"Energy, Ergotropy\")\n",
    "plt.legend() \n",
    "plt.figure()\n",
    "plt.plot(tlist,matrix,label=\"0\")\n",
    "plt.plot(tlist,Energy,label=\"1\")\n",
    "plt.legend() \n",
    "plt.show()\n",
    "b.render()"
   ]
  },
  {
   "cell_type": "code",
   "execution_count": null,
   "metadata": {
    "colab": {
     "base_uri": "https://localhost:8080/"
    },
    "id": "wbaTK2NcC3Wm",
    "outputId": "2c0e1eeb-176d-4153-c125-5a47429c1fba"
   },
   "outputs": [
    {
     "name": "stdout",
     "output_type": "stream",
     "text": [
      "[[-1. +0.j  0. +0.j  0. +0.j  0. +0.j]\n",
      " [ 0. +0.j  0. +0.j  0.2+0.j  0. +0.j]\n",
      " [ 0. +0.j  0.2+0.j  0. +0.j  0. +0.j]\n",
      " [ 0. +0.j  0. +0.j  0. +0.j  1. +0.j]]\n",
      "[[0.+0.j]]\n",
      "[[nan+nanj]]\n",
      "[[nan+nanj]]\n"
     ]
    },
    {
     "name": "stderr",
     "output_type": "stream",
     "text": [
      "/usr/local/lib/python3.7/dist-packages/ipykernel_launcher.py:15: RuntimeWarning: divide by zero encountered in true_divide\n",
      "  from ipykernel import kernelapp as app\n",
      "/usr/local/lib/python3.7/dist-packages/ipykernel_launcher.py:15: RuntimeWarning: invalid value encountered in true_divide\n",
      "  from ipykernel import kernelapp as app\n",
      "/usr/local/lib/python3.7/dist-packages/ipykernel_launcher.py:15: RuntimeWarning: invalid value encountered in multiply\n",
      "  from ipykernel import kernelapp as app\n"
     ]
    }
   ],
   "source": [
    "optimized_dynamics = opt_result.optimized_objectives[0].mesolve(\n",
    "      tlist, e_ops=[]\n",
    "  )\n",
    "\n",
    "\n",
    "HA =  omega * qutip.tensor(0.5*(-qutip.operators.sigmaz()),qutip.qeye(2))\n",
    "HB =  omega* qutip.tensor(qutip.qeye(2),0.5*(-qutip.operators.sigmaz()))\n",
    "HAB = g*(qutip.tensor(qutip.destroy(2),qutip.create(2))+qutip.tensor(qutip.create(2),qutip.destroy(2)))\n",
    "H0 = HA+HB+HAB\n",
    "H=np.array(H0)\n",
    "print(H)\n",
    "Uncert=np.dot(np.dot(np.array(optimized_dynamics.states[0].dag()),H**2),np.array(optimized_dynamics.states[0]))-(np.dot(np.dot(np.array(optimized_dynamics.states[0].dag()),H),np.array(optimized_dynamics.states[0])))**2\n",
    "F=np.dot(np.array(optimized_dynamics.states[0].dag()),np.array(optimized_dynamics.states[nt-1]))\n",
    "print(Uncert)\n",
    "TQSL=1/Uncert*np.arccos(np.abs(F))\n",
    "print(TQSL)\n",
    "\n",
    "print(T-TQSL)"
   ]
  },
  {
   "cell_type": "code",
   "execution_count": null,
   "metadata": {
    "colab": {
     "base_uri": "https://localhost:8080/"
    },
    "id": "sPu0FyhPOhyM",
    "outputId": "af2113fd-9653-4b78-f958-62b99848fa88"
   },
   "outputs": [
    {
     "name": "stdout",
     "output_type": "stream",
     "text": [
      "15.707963267948966\n",
      "(4.751358632938551-9.3259923157834e-13j)\n",
      "(10.956604635010414+9.3259923157834e-13j)\n"
     ]
    }
   ],
   "source": [
    "optimized_dynamics = opt_result.optimized_objectives[0].mesolve(\n",
    "      tlist, e_ops=[]\n",
    "  )\n",
    "\n",
    "Q=0\n",
    "Q2=0\n",
    "HA =  omega * qutip.tensor(0.5*(-qutip.operators.sigmaz()+qutip.qeye(2)),qutip.qeye(2))\n",
    "HB =  omega* qutip.tensor(qutip.qeye(2),0.5*(-qutip.operators.sigmaz()+qutip.qeye(2)))\n",
    "HAB = g*(qutip.tensor(qutip.destroy(2),qutip.create(2))+qutip.tensor(qutip.create(2),qutip.destroy(2)))\n",
    "H0 = HA+HB+HAB\n",
    "\n",
    "for i in range (0,nt):\n",
    "  H1 = -qutip.tensor(0.5*qutip.operators.sigmax(),qutip.qeye(2))*opt_result.optimized_controls[0][i]\n",
    "  H=H0+H1\n",
    "  L=qutip.liouvillian(H)\n",
    "  rho=optimized_dynamics.states[i]*optimized_dynamics.states[i].dag()\n",
    "  ket=optimized_dynamics.states[i]\n",
    "  Q += 1/(nt-1)*np.sqrt((2*np.trace(np.array(rho**2*H**2-(rho*H)**2)))/((np.trace(np.array(rho*rho-(qutip.tensor(qutip.qeye(2),qutip.qeye(2)))/16)))))\n",
    "  Q2 += 1/(nt-1)*np.sqrt(np.trace(np.array(L(rho).dag()*L(rho))))\n",
    "\n",
    "rho0=optimized_dynamics.states[0]*optimized_dynamics.states[0].dag()\n",
    "rhoi=np.array(rho0)\n",
    "vrho0=[2*np.real(rhoi[0][1]),-2*np.imag(rhoi[0][1]),np.real(rhoi[0][0]-rhoi[1][1])]\n",
    "rhof=optimized_dynamics.states[nt-1]*optimized_dynamics.states[nt-1].dag()\n",
    "rhof=np.array(rhof)\n",
    "vrhof=[2*np.real(rhof[0][1]),-2*np.imag(rhof[0][1]),np.real(rhof[0][0]-rhof[1][1])]\n",
    "#Phi=np.arccos(np.sqrt((np.array(np.trace(rho0*rhof)))/(np.trace(np.array(rho0*rho0)))))\n",
    "Phi=np.arccos(np.dot(vrho0,vrhof))\n",
    "#Fid=np.sqrt(np.trace(np.array((rho0-rhof)**2)))\n",
    "Tf=Phi/Q \n",
    "#Tf2=Fid/Q2\n",
    "print(T)\n",
    "print(Tf)\n",
    "print(T-Tf)\n"
   ]
  },
  {
   "cell_type": "code",
   "execution_count": null,
   "metadata": {
    "colab": {
     "base_uri": "https://localhost:8080/"
    },
    "id": "aH4JPVn1I2LR",
    "outputId": "44b5cf76-2482-4d2e-d268-7e59bda9c84c"
   },
   "outputs": [
    {
     "name": "stdout",
     "output_type": "stream",
     "text": [
      "Quantum object: dims = [[2, 2], [2, 2]], shape = (4, 4), type = oper, isherm = True\n",
      "Qobj data =\n",
      "[[ 1.18640953e-04+0.00000000e+00j -1.04913022e-02+2.83641088e-03j\n",
      "  -4.67573874e-04-4.93949242e-04j -2.21235216e-04-5.16912043e-05j]\n",
      " [-1.04913022e-02-2.83641088e-03j  9.95547036e-01+0.00000000e+00j\n",
      "   2.95379945e-02+5.48579749e-02j  1.83278031e-02+9.86018735e-03j]\n",
      " [-4.67573874e-04+4.93949242e-04j  2.95379945e-02-5.48579749e-02j\n",
      "   3.89925376e-03+0.00000000e+00j  1.08711735e-03-7.17370426e-04j]\n",
      " [-2.21235216e-04+5.16912043e-05j  1.83278031e-02-9.86018735e-03j\n",
      "   1.08711735e-03+7.17370426e-04j  4.35069007e-04+0.00000000e+00j]]\n",
      "Quantum object: dims = [[4], [4]], shape = (4, 4), type = oper, isherm = True\n",
      "Qobj data =\n",
      "[[1. 0. 0. 0.]\n",
      " [0. 1. 0. 0.]\n",
      " [0. 0. 1. 0.]\n",
      " [0. 0. 0. 1.]]\n"
     ]
    }
   ],
   "source": [
    "print(rho)\n",
    "print(qutip.qeye(4))"
   ]
  },
  {
   "cell_type": "code",
   "execution_count": null,
   "metadata": {
    "colab": {
     "base_uri": "https://localhost:8080/"
    },
    "id": "hKMv7WivVni3",
    "outputId": "2c5236c9-5f61-4db8-d333-00ea388a6661"
   },
   "outputs": [
    {
     "name": "stdout",
     "output_type": "stream",
     "text": [
      "T =  15.707963267948966\n",
      "T_QSL =  2.5471565171549493\n",
      "T - T_QSL =  13.160806750794016\n"
     ]
    }
   ],
   "source": [
    "    \"\"\"Two-level-system Hamiltonian\n",
    "\n",
    "      Args:\n",
    "          omega (float): energy separation of the qubit levels\n",
    "          ampl0 (float): constant amplitude of the driving field\n",
    "      \"\"\"\n",
    "optimized_dynamics = opt_result.optimized_objectives[0].mesolve(\n",
    "      tlist, e_ops=[]\n",
    "  )\n",
    "\n",
    "L0 = qutip.liouvillian(H=H0)\n",
    "rhof=optimized_dynamics.states[nt-1]*optimized_dynamics.states[nt-1].dag()\n",
    "rhoi=optimized_dynamics.states[0]*optimized_dynamics.states[0].dag()\n",
    "rhodif= np.array(rhoi-rhof)\n",
    "fid= np.sqrt(np.trace(np.dot(rhodif,rhodif)))\n",
    "integral=0\n",
    "for i in range(0,nt):\n",
    "  H1 = -qutip.tensor(0.5*qutip.operators.sigmax(),qutip.qeye(2))*opt_result.optimized_controls[0][i]\n",
    "  L1 = qutip.liouvillian(H=H1)\n",
    "  L = L0 + L1\n",
    "  rhot= L(optimized_dynamics.states[i]*optimized_dynamics.states[i].dag())\n",
    "  integral += (1/(nt-1))*np.sqrt(np.trace(np.array(rhot.dag()*rhot)))\n",
    "\n",
    "\n",
    "print(\"T = \", T)\n",
    "print(\"T_QSL = \", np.real(fid/integral))\n",
    "print(\"T - T_QSL = \", T-np.real(fid/integral))"
   ]
  },
  {
   "cell_type": "code",
   "execution_count": null,
   "metadata": {
    "colab": {
     "base_uri": "https://localhost:8080/"
    },
    "id": "mO0EgilbR7hG",
    "outputId": "89c5ee82-3de0-47c2-ef58-51a067ca84a2"
   },
   "outputs": [
    {
     "name": "stdout",
     "output_type": "stream",
     "text": [
      "0j\n",
      "(-1.6292537578847838e-10+0j)\n",
      "(-1.8424078411623442e-09-2.2679248793967603e-11j)\n",
      "(-9.62253633974947e-09-1.7393975653516126e-10j)\n",
      "(-3.3289549228878785e-08-7.835558911159285e-10j)\n",
      "(-8.988413083670582e-08-2.596694621213651e-09j)\n",
      "(-2.0547937635431234e-07-7.031868146840092e-09j)\n",
      "(-4.170185570446097e-07-1.6495013478311413e-08j)\n",
      "(-7.739150846866633e-07-3.474711067421242e-08j)\n",
      "(-1.339522297686906e-06-6.73207203794757e-08j)\n",
      "(-2.192442082044762e-06-1.2198062333699557e-07j)\n",
      "(-3.427659720997291e-06-2.092234608582505e-07j)\n",
      "(-5.157494652953913e-06-3.4281093541020153e-07j)\n",
      "(-7.512358943192897e-06-5.403306217817139e-07j)\n",
      "(-1.0641315720671715e-05-8.237784013816868e-07j)\n",
      "(-1.4712431568002008e-05-1.2201562524094946e-06j)\n",
      "(-1.991291869478411e-05-1.7620789723926794e-06j)\n",
      "(-2.6449064266616948e-05-2.488383308088214e-06j)\n",
      "(-3.4545945931334966e-05-3.444732904942514e-06j)\n",
      "(-4.444693427796764e-05-4.684212476530974e-06j)\n",
      "(-5.6412984642639716e-05-6.267904630769199e-06j)\n",
      "(-7.072172228460695e-05-8.265442905919293e-06j)\n",
      "(-8.766632633938597e-05-1.0755534920515256e-05j)\n",
      "(-0.00010755422080495565-1.3826448953844237e-05j)\n",
      "(-0.00013070558069011327-1.7576458340650392e-05j)\n",
      "(-0.0001574516636069776-2.2114238098046682e-05j)\n",
      "(-0.0001881329785317409-2.7559208508209726e-05j)\n",
      "(-0.00022309730472116365-3.404182085076529e-05j)\n",
      "(-0.0002626975752130903-4.1703780949549674e-05j)\n",
      "(-0.0003072896411602472-5.069820662245219e-05j)\n",
      "(-0.00035722993557581553-6.118971538635695e-05j)\n",
      "(-0.0004128730570830147-7.335443896073271e-05j)\n",
      "(-0.00047456929420379196-8.73799617219891e-05j)\n",
      "(-0.00054266210865055-0.00010346518158559288j)\n",
      "(-0.000617485595348672-0.0001218200931472261j)\n",
      "(-0.0006993619392915013-0.00014266549351791356j)\n",
      "(-0.0007885988921729493-0.00016623261147413328j)\n",
      "(-0.0008854872926608144-0.0001927626609851269j)\n",
      "(-0.000990298653586903-0.0002225063209546561j)\n",
      "(-0.0011032828383609186-0.0002557231438818701j)\n",
      "(-0.0012246658479588377-0.000292680896955805j)\n",
      "(-0.0013546477388130113-0.00033365483982103234j)\n",
      "(-0.0014934006907028948-0.0003789269438948872j)\n",
      "(-0.0016410672422755052-0.00042878505868218085j)\n",
      "(-0.001797758710060827-0.000483522031018208j)\n",
      "(-0.001963553805077441-0.0005434347835589086j)\n",
      "(-0.002138497458372553-0.0006088233592963855j)\n",
      "(-0.002322599867583845-0.0006799899384914422j)\n",
      "(-0.002515835765797061-0.0007572378354249396j)\n",
      "(-0.0027181439316840508-0.0008408704795759268j)\n",
      "(-0.002929426983171766-0.0009311903687147327j)\n",
      "(-0.0031495531637770365-0.0010284976156226453j)\n",
      "(-0.0033783647525245687-0.001133089003853527j)\n",
      "(-0.0036156866492843666-0.0012452592478648173j)\n",
      "(-0.0038613296363459444-0.001365297861437562j)\n",
      "(-0.0041150902535565005-0.0014934902811635556j)\n",
      "(-0.00437675112083913-0.0016301171715397149j)\n",
      "(-0.004646081183303785-0.0017754541608271282j)\n",
      "(-0.004922835993415118-0.001929771468966252j)\n",
      "(-0.00520675800322964-0.0020933335772013867j)\n",
      "(-0.005497576871864106-0.002266398897892044j)\n",
      "(-0.005795009786025842-0.0024492194564803196j)\n",
      "(-0.006098761792957152-0.0026420405826176265j)\n",
      "(-0.006408526144818403-0.0028451006115722656j)\n",
      "(-0.006723984653568858-0.0030586305958435027j)\n",
      "(-0.007044808055387702-0.003282854027189024j)\n",
      "(-0.007370656383671124-0.0035179865691445525j)\n",
      "(-0.00770117934964139-0.003764235800100097j)\n",
      "(-0.008036016729608826-0.004021800966953362j)\n",
      "(-0.008374798757936838-0.004290872749325559j)\n",
      "(-0.008717146524775489-0.004571633034289776j)\n",
      "(-0.009062672377648361-0.004864254701528436j)\n",
      "(-0.009410980326001135-0.005168901418804656j)\n",
      "(-0.009761666447849192-0.005485727447603004j)\n",
      "(-0.010114319297692586-0.0058148774587670655j)\n",
      "(-0.01046852031490363-0.006156486357936886j)\n",
      "(-0.01082384423183045-0.006510679120565912j)\n",
      "(-0.011179859480902441-0.006877570636277427j)\n",
      "(-0.011536128600068137-0.007257265562302776j)\n",
      "(-0.011892208635942777-0.007649858185728702j)\n",
      "(-0.01224765154409219-0.008055432294269381j)\n",
      "(-0.01260200458592952-0.008474061055268807j)\n",
      "(-0.012954810721753173-0.008905806902632835j)\n",
      "(-0.013305608999507014-0.009350721431386147j)\n",
      "(-0.013653934938895891-0.009808845299547545j)\n",
      "(-0.01399932091054334-0.010280208137018782j)\n",
      "(-0.01434129650993005-0.010764828461185193j)\n",
      "(-0.014679388925904318-0.011262713598932994j)\n",
      "(-0.015013123303606098-0.011773859614796208j)\n",
      "(-0.015342023101696587-0.012298251244957197j)\n",
      "(-0.015665610443833036-0.012835861836837428j)\n",
      "(-0.015983406464383565-0.013386653294045852j)\n",
      "(-0.016294931648905976-0.013950576027365921j)\n",
      "(-0.016599706168193857-0.014527568909187048j)\n",
      "(-0.016897250206698525-0.015117559232543747j)\n",
      "(-0.017187084285878555-0.01572046267531419j)\n",
      "(-0.017468729582332698-0.01633618326880773j)\n",
      "(-0.017741708240931277-0.01696461337061836j)\n",
      "(-0.01800554368318944-0.017605633641647245j)\n",
      "(-0.018259760911150662-0.01825911302722288j)\n",
      "(-0.018503886807070685-0.01892490874227483j)\n",
      "(-0.01873745042921043-0.019602866260543167j)\n",
      "(-0.018959983304061404-0.020292819307833613j)\n",
      "(-0.019171019715338886-0.020994589859354963j)\n",
      "(-0.01937009699008669-0.021707988141202728j)\n",
      "(-0.01955675578224169-0.022432812636078374j)\n",
      "(-0.01973054035400913-0.023168850093361202j)\n",
      "(-0.019890981250448914-0.0239158663801557j)\n",
      "(-0.02003764871141069-0.02467363334512114j)\n",
      "(-0.020170099529423783-0.02544190264163839j)\n",
      "(-0.020287895215567876-0.026220414277959642j)\n",
      "(-0.020390602274864042-0.027008896651601718j)\n",
      "(-0.020477792481578785-0.027807066589512788j)\n",
      "(-0.02054904315450127-0.028614629393874953j)\n",
      "(-0.020603937432350915-0.029431278893604754j)\n",
      "(-0.02064206454992499-0.030256697502572077j)\n",
      "(-0.020663020115021854-0.031090556284530144j)\n",
      "(-0.020666406386318937-0.031932515025081196j)\n",
      "(-0.020651832552355146-0.03278222231101294j)\n",
      "(-0.02061891501173484-0.03363931561734794j)\n",
      "(-0.020567277654636024-0.03450342140245151j)\n",
      "(-0.020496552145670466-0.03537415521154659j)\n",
      "(-0.020406378208105876-0.03625112178898325j)\n",
      "(-0.020296403909422653-0.03713391519960635j)\n",
      "(-0.020166285948139323-0.0380221189595618j)\n",
      "(-0.020015689941800925-0.038915306176870855j)\n",
      "(-0.019844290715985015-0.03981303970209313j)\n",
      "(-0.019651772594140554-0.04071487228938506j)\n",
      "(-0.019437829688034758-0.04162034676824378j)\n",
      "(-0.019202166188543875-0.042528996226209606j)\n",
      "(-0.01894449665648533-0.04344034420277694j)\n",
      "(-0.01866454631315046-0.0443539048947417j)\n",
      "(-0.018362051330160944-0.045269183373185785j)\n",
      "(-0.018036759118236396-0.04618567581227246j)\n",
      "(-0.017688428614427185-0.04710286972999384j)\n",
      "(-0.017316830567335312-0.04802024424098004j)\n",
      "(-0.01692174781981619-0.04893727032144573j)\n",
      "(-0.01650297558862804-0.049853411086311375j)\n",
      "(-0.01606032174047055-0.050768122078501024j)\n",
      "(-0.015593607063833666-0.05168085157037759j)\n",
      "(-0.015102665536058366-0.05259104087723711j)\n",
      "(-0.014587344584995391-0.05349812468274287j)\n",
      "(-0.014047505344635832-0.05440153137613778j)\n",
      "(-0.013483022904076415-0.05530068340103162j)\n",
      "(-0.01289378654917572-0.056194997615516676j)\n",
      "(-0.012279699996253002-0.057083885663322176j)\n",
      "(-0.011640681617178704-0.057966754355673264j)\n",
      "(-0.010976664655208024-0.05884300606347724j)\n",
      "(-0.010287597430911781-0.05971203911941253j)\n",
      "(-0.009573443537567967-0.06057324822945301j)\n",
      "(-0.008834182025387882-0.06142602489331381j)\n",
      "(-0.008069807573968302-0.06226975783326036j)\n",
      "(-0.007280330652380481-0.06310383343067905j)\n",
      "(-0.006465777666333571-0.0639276361697666j)\n",
      "(-0.005626191091879847-0.06474054908765497j)\n",
      "(-0.004761629595164088-0.0655419542302517j)\n",
      "(-0.003872168137758876-0.0663312331130433j)\n",
      "(-0.0029578980671702143-0.06710776718607611j)\n",
      "(-0.002018927192145456-0.06787093830230534j)\n",
      "(-0.0010553798424638577-0.06862012918847689j)\n",
      "(-6.739691294376654e-05-0.06935472391768899j)\n",
      "(0.0009448641085453569-0.07007410838276383j)\n",
      "(0.001981229129220073-0.07077767076954836j)\n",
      "(0.003041507455765667-0.07146480202925515j)\n",
      "(0.004125491814998078-0.07213489634895168j)\n",
      "(0.00523295839077887-0.072787351619307j)\n",
      "(0.00636366687709377-0.07342156989871101j)\n",
      "(0.0075173605471411595-0.07403695787289163j)\n",
      "(0.008693766338214236-0.074632927309172j)\n",
      "(0.009892594952097787-0.0752088955045298j)\n",
      "(0.011113540970637596-0.07576428572664831j)\n",
      "(0.012356282986080054-0.07629852764717834j)\n",
      "(0.013620483745719753-0.07681105776646921j)\n",
      "(0.014905790310336654-0.0773013198290661j)\n",
      "(0.016211834225849438-0.07776876522931722j)\n",
      "(0.01753823170755758-0.07821285340648192j)\n",
      "(0.01888458383629725-0.07863305222878242j)\n",
      "(0.0202504767657851-0.0790288383658917j)\n",
      "(0.021635481940378877-0.0793996976494036j)\n",
      "(0.023039156322437936-0.07974512542088108j)\n",
      "(0.02446104262842166-0.08006462686713087j)\n",
      "(0.025900669572822915-0.08035771734240375j)\n",
      "(0.027357552118764835-0.08062392267738794j)\n",
      "(0.02883119173377414-0.08086277947510069j)\n",
      "(0.030321076652150936-0.08107383539231909j)\n",
      "(0.031826682140591006-0.08125664940758397j)\n",
      "(0.033347470766530204-0.08141079207557625j)\n",
      "(0.0348828926682888-0.08153584576790289j)\n",
      "(0.03643238582597326-0.08163140490047925j)\n",
      "(0.0379953763321105-0.08169707614778175j)\n",
      "(0.03957127866100793-0.08173247864433483j)\n",
      "(0.04115949593586468-0.0817372441738813j)\n",
      "(0.04275942019269178-0.08171101734676499j)\n",
      "(0.04437043264014212-0.08165345576613198j)\n",
      "(0.045991903914392104-0.081564230183623j)\n",
      "(0.047623194328270106-0.08144302464529465j)\n",
      "(0.049263654113876426-0.08128953662856393j)\n",
      "(0.050912623658001185-0.08110347717102408j)\n",
      "(0.05256943372970577-0.0808845709920266j)\n",
      "(0.054233405699504376-0.08063255660797011j)\n",
      "(0.05590387362472518-0.08034721345378786j)\n",
      "(0.057580119145801516-0.08002828009555776j)\n",
      "(0.059261436638472886-0.07967553707595469j)\n",
      "(0.060947111865281164-0.07928877915489742j)\n",
      "(0.06263642214674348-0.07886781540831499j)\n",
      "(0.06432863652241722-0.07841246932696505j)\n",
      "(0.06602301590188406-0.07792257891640926j)\n",
      "(0.06771881320577927-0.07739799679924952j)\n",
      "(0.06941527349709042-0.07683859032072649j)\n",
      "(0.07111163410305088-0.07624424165876724j)\n",
      "(0.07280712472805555-0.07561484793955321j)\n",
      "(0.07450096755812712-0.07495032135965271j)\n",
      "(0.07619237735756561-0.07425058931573211j)\n",
      "(0.07788056155851342-0.07351559454281995j)\n",
      "(0.07956472034427073-0.07274529526205417j)\n",
      "(0.08124404672729361-0.07193966533878875j)\n",
      "(0.08291772662290403-0.0710986944518789j)\n",
      "(0.08458493891983657-0.07022238827489863j)\n",
      "(0.0862448555488346-0.0693107686699708j)\n",
      "(0.08789664155059979-0.0683638738948151j)\n",
      "(0.08953945514447678-0.06738175882353326j)\n",
      "(0.09117244779933803-0.06636449518156366j)\n",
      "(0.09279476430820377-0.06531217179514137j)\n",
      "(0.09440554286820128-0.06422489485550034j)\n",
      "(0.09600391516752851-0.06310278819795233j)\n",
      "(0.09758900648114224-0.06194599359586511j)\n",
      "(0.09915993577694102-0.0607546710694533j)\n",
      "(0.10071581583425165-0.05952899920917758j)\n",
      "(0.10225575337646571-0.05826917551342864j)\n",
      "(0.10377884921969424-0.056975416740051625j)\n",
      "(0.10528419843933129-0.055647959271141516j)\n",
      "(0.10677089055642217-0.054287059490415304j)\n",
      "(0.10823800974573702-0.05289299417233838j)\n",
      "(0.10968463506744064-0.051466060882055374j)\n",
      "(0.11110984072423208-0.050006578385047726j)\n",
      "(0.11251269634580335-0.048514887065312685j)\n",
      "(0.11389226730243147-0.04699134935073042j)\n",
      "(0.11524761504947206-0.04543635014416392j)\n",
      "(0.11657779750447782-0.043850297258712j)\n",
      "(0.11788186945860307-0.04223362185542425j)\n",
      "(0.11915888302390731-0.040586778881679574j)\n",
      "(0.12040788811814007-0.038910247508359065j)\n",
      "(0.1216279329886589-0.037204531563948665j)\n",
      "(0.12281806477757452-0.03547015996401244j)\n",
      "(0.12397733013238102-0.033707687136124875j)\n",
      "(0.1251047758776921-0.031917693448945204j)\n",
      "(0.12619944979398864-0.030100785666418918j)\n",
      "(0.12726040132078753-0.0282575972698281j)\n",
      "(0.1282866820997539-0.026388788683971633j)\n",
      "(0.12927734685615766-0.02449504768265555j)\n",
      "(0.13023145432551442-0.022577089748551965j)\n",
      "(0.13114806818131208-0.020635658377930972j)\n",
      "(0.1320262579977344-0.018671525350018814j)\n",
      "(0.1328651002550193-0.016685490963009274j)\n",
      "(0.13366367938883364-0.014678384234957514j)\n",
      "(0.13442108888355725-0.0126510630669718j)\n",
      "(0.135136432408817-0.010604414365913459j)\n",
      "(0.13580882499828428-0.008539354123771943j)\n",
      "(0.1364373942694896-0.006456827450886417j)\n",
      "(0.1370212816831672-0.004357808560215316j)\n",
      "(0.13755964384041217-0.0022433006999117294j)\n",
      "(0.13805165381570153-0.00011433603151539407j)\n",
      "(0.13849650252360549+0.002028024548844806j)\n",
      "(0.13889340011678453+0.004182691648759819j)\n",
      "(0.13924157741264165+0.006348547679776051j)\n",
      "(0.13954028734576884+0.008524447221858605j)\n",
      "(0.13978880644310124+0.010709217454242671j)\n",
      "(0.13998643631846602+0.01290165865469231j)\n",
      "(0.1401325051829917+0.015100544769012847j)\n",
      "(0.140226369367627+0.017304624052484237j)\n",
      "(0.14026741485381158+0.019512619784684847j)\n",
      "(0.14025505880813768+0.021723231058963392j)\n",
      "(0.14018875111665868+0.02393513364758408j)\n",
      "(0.14006797591432327+0.026146980943337686j)\n",
      "(0.139892253104854+0.028357404978151375j)\n",
      "(0.13966113986624695+0.030565017518968j)\n",
      "(0.13937423213693853+0.032768411240895204j)\n",
      "(0.13903116607757737+0.034966160977337866j)\n",
      "(0.13863161950324462+0.037156825046541615j)\n",
      "(0.13817531328089544+0.03933894665367696j)\n",
      "(0.13766201268674388+0.041511055367298245j)\n",
      "(0.13709152871829286+0.043671668668709175j)\n",
      "(0.136463719355738+0.04581929357247563j)\n",
      "(0.13577849076755866+0.04795242831606033j)\n",
      "(0.13503579845533267+0.050069564116327556j)\n",
      "(0.13423564833325746+0.052169186990570465j)\n",
      "(0.1333780977387761+0.05424977963986802j)\n",
      "(0.13246325637225947+0.056309823393196526j)\n",
      "(0.1314912871645266+0.05834780021152375j)\n",
      "(0.130462407061345+0.060362194747909145j)\n",
      "(0.12937688767697744+0.06235149644186763j)\n",
      "(0.12823505577148483+0.06431420161279604j)\n",
      "(0.1270372936303844+0.06624881557211088j)\n",
      "(0.1257840394197522+0.06815385479352315j)\n",
      "(0.1244757874666956+0.0700278491275021j)\n",
      "(0.12311308841999657+0.07186934403562674j)\n",
      "(0.12169654928297233+0.07367690283393664j)\n",
      "(0.12022683331987037+0.07544910893938948j)\n",
      "(0.11870465983648607+0.07718456811373335j)\n",
      "(0.1171308038345448+0.07888191069856786j)\n",
      "(0.11550609553892408+0.0805397938349637j)\n",
      "(0.11383141979679796+0.08215690366073775j)\n",
      "(0.11210771534802241+0.08373195747830955j)\n",
      "(0.11033597396644754+0.0852637058859541j)\n",
      "(0.10851723947226966+0.08675093486520352j)\n",
      "(0.1066526066160058+0.08819246781712922j)\n",
      "(0.1047432198351598+0.08958716754025248j)\n",
      "(0.10279027188516494+0.09093393814287962j)\n",
      "(0.10079500234669439+0.09223172688275395j)\n",
      "(0.0987586960119681+0.09347952592703049j)\n",
      "(0.09668268115319711+0.09467637402575281j)\n",
      "(0.09456832767684176+0.09582135809219883j)\n",
      "(0.09241704516787633+0.09691361468370198j)\n",
      "(0.09023028082876752+0.09795233137682197j)\n",
      "(0.08800951731837753+0.09893674803104535j)\n",
      "(0.08575627049649184+0.09986615793553603j)\n",
      "(0.08347208708014667+0.10073990883382733j)\n",
      "(0.08115854221838273+0.10155740382175572j)\n",
      "(0.07881723699248183+0.10231810211437015j)\n",
      "(0.07644979584915405+0.10302151967801643j)\n",
      "(0.07405786397451375+0.10366722972428864j)\n",
      "(0.07164310461703555+0.1042548630630544j)\n",
      "(0.06920719636799023+0.10478410831230264j)\n",
      "(0.06675183040814227+0.10525471196311859j)\n",
      "(0.06427870772972606+0.10566647829866739j)\n",
      "(0.061789536342925555+0.10601926916665833j)\n",
      "(0.05928602847623329+0.10631300360536078j)\n",
      "(0.056769897780187734+0.1065476573238541j)\n",
      "(0.054242856544051955+0.10672326203780563j)\n",
      "(0.051706612935032745+0.10683990466268586j)\n",
      "(0.04916286826961023+0.10689772636694407j)\n",
      "(0.046613314326490275+0.10689692148827128j)\n",
      "(0.04405963071057351+0.10683773631668003j)\n",
      "(0.04150348227718235+0.10672046774871188j)\n",
      "(0.03894651662557423+0.10654546181765462j)\n",
      "(0.036390361670531744+0.10631311210520186j)\n",
      "(0.03383662330051319+0.10602385804051434j)\n",
      "(0.03128688313052167+0.1056781830931446j)\n",
      "(0.028742696357471453+0.10527661286676088j)\n",
      "(0.02620558972540648+0.1048197131010464j)\n",
      "(0.023677059607487+0.10430808758956173j)\n",
      "(0.021158570211157704+0.10374237602172412j)\n",
      "(0.01865155191240908+0.10312325175739925j)\n",
      "(0.016157399724476905+0.10245141954288446j)\n",
      "(0.013677471905770983+0.10172761317732261j)\n",
      "(0.011213088711216138+0.1009525931387878j)\n",
      "(0.008765531290575918+0.10012714417945023j)\n",
      "(0.006336040736707509+0.0992520728993469j)\n",
      "(0.003925817286043+0.09832820530835731j)\n",
      "(0.0015360196729502854+0.09735638438601052j)\n",
      "(-0.0008322353610307268+0.09633746764873552j)\n",
      "(-0.0031778734027416086+0.09527232473409963j)\n",
      "(-0.005499862548056296+0.09416183501147954j)\n",
      "(-0.007797213428600319+0.09300688522845293j)\n",
      "(-0.010068979086455647+0.09180836720173223j)\n",
      "(-0.0123142546985206+0.09056717556198145j)\n",
      "(-0.014532177152980413+0.08928420556147497j)\n",
      "(-0.016721924482483157+0.08796035095188404j)\n",
      "(-0.018882715157475673+0.08659650194059539j)\n",
      "(-0.021013807244239034+0.08519354323314562j)\n",
      "(-0.0231144974326822+0.08375235216895353j)\n",
      "(-0.02518411993944918+0.08227379695710114j)\n",
      "(-0.027222045292346703+0.08075873501846743j)\n",
      "(-0.02922767900253109+0.07920801144004454j)\n",
      "(-0.031200460131283993+0.07762245754677832j)\n",
      "(-0.03313985975856526+0.0760028895957704j)\n",
      "(-0.03504537936085189+0.07435010759716545j)\n",
      "(-0.0369165491060594+0.07266489426552153j)\n",
      "(-0.038752926073592237+0.07094801410493093j)\n",
      "(-0.040554092407781475+0.0692002126306263j)\n",
      "(-0.04231965341314238+0.06742221572927656j)\n",
      "(-0.044049235600031135+0.06561472915963878j)\n",
      "(-0.045742484689379734+0.06377843819471227j)\n",
      "(-0.04739906358525963+0.061914007406020724j)\n",
      "(-0.0490186503240662+0.06002208059013514j)\n",
      "(-0.05060093600911843+0.05810328083705351j)\n",
      "(-0.05214562273944436+0.05615821073956703j)\n",
      "(-0.05365242154146806+0.05418745274227184j)\n",
      "(-0.05512105031223428+0.05219156962842719j)\n",
      "(-0.05655123178269743+0.05017110514242465j)\n",
      "(-0.05794269150947184+0.04812658474521088j)\n",
      "(-0.059295155903286836+0.046058516499603366j)\n",
      "(-0.06060835030221433+0.04396739208205862j)\n",
      "(-0.06188199709754668+0.04185368791708413j)\n",
      "(-0.06311581391999271+0.039717866430143314j)\n",
      "(-0.0643095118936344+0.037560377414577795j)\n",
      "(-0.06546279396485051+0.035381659507764215j)\n",
      "(-0.06657535331316229+0.03318214177143709j)\n",
      "(-0.06764687185069847+0.03096224537083907j)\n",
      "(-0.06867701881670718+0.02872238534710749j)\n",
      "(-0.06966544947326506+0.026462972477075544j)\n",
      "(-0.07061180390805293+0.024184415214442753j)\n",
      "(-0.07151570594977744+0.021887121706070906j)\n",
      "(-0.0723767622015267+0.019571501876968295j)\n",
      "(-0.07319456119705033+0.017237969577352588j)\n",
      "(-0.07396867268465658+0.014886944785014667j)\n",
      "(-0.07469864704311428+0.01251885585606018j)\n",
      "(-0.07538401483364639+0.010134141816953438j)\n",
      "(-0.07602428649179217+0.0077332546906660775j)\n",
      "(-0.07661895216261+0.005316661849595193j)\n",
      "(-0.07716748168237884+0.0028848483878118735j)\n",
      "(-0.07766932470964652+0.00043831950507471594j)\n",
      "(-0.07812391100815452-0.0020223971050509007j)\n",
      "(-0.07853065088385243-0.004496748870736326j)\n",
      "(-0.07888893577788936-0.006984155968960856j)\n",
      "(-0.07919813901714304-0.009484008972062271j)\n",
      "(-0.07945761672351268-0.011995666521819064j)\n",
      "(-0.07966670888286025-0.014518453039198171j)\n",
      "(-0.07982474057384854-0.01705165647793498j)\n",
      "(-0.07993102335702525-0.019594526130247245j)\n",
      "(-0.07998485682508996-0.022146270493268262j)\n",
      "(-0.07998553031217846-0.024706055204413543j)\n",
      "(-0.07993232476174587-0.027273001054267176j)\n",
      "(-0.07982451475169601-0.02984618208556391j)\n",
      "(-0.07966137067495396-0.032424623786896783j)\n",
      "(-0.07944216107323597-0.03500730138982208j)\n",
      "(-0.07916615512131447-0.03759313827806706j)\n",
      "(-0.07883262525859495-0.0401810045175701j)\n",
      "(-0.07844084996432837-0.04276971551608027j)\n",
      "(-0.07799011667226521-0.045358030821038675j)\n",
      "(-0.07747972482002084-0.047944653064435655j)\n",
      "(-0.0769089890278686-0.050528227063276775j)\n",
      "(-0.07627724240109991-0.053107339084223874j)\n",
      "(-0.07558383994949897-0.05568051628086554j)\n",
      "(-0.0748281621168649-0.0582462263119467j)\n",
      "(-0.07400961841288718-0.06080287714871162j)\n",
      "(-0.07312765113903463-0.06334881707931758j)\n",
      "(-0.07218173919945688-0.06588233491804035j)\n",
      "(-0.07117140198722958-0.0684016604267018j)\n",
      "(-0.07009620333559076-0.07090496495543125j)\n",
      "(-0.0689557555231292-0.07339036230950029j)\n",
      "(-0.06774972332119533-0.07585590984854411j)\n",
      "(-0.06647782807111216-0.07829960982401146j)\n",
      "(-0.06513985177807598-0.0807194109601619j)\n",
      "(-0.06373564120795853-0.08311321028333803j)\n",
      "(-0.0622651119725524-0.08547885520360632j)\n",
      "(-0.06072825258815553-0.08781414585215305j)\n",
      "(-0.05912512849175977-0.0901168376770697j)\n",
      "(-0.05745588599851485-0.09238464429933292j)\n",
      "(-0.055720756183573326-0.0946152406299053j)\n",
      "(-0.053920058670900314-0.09680626624794317j)\n",
      "(-0.0520542053111568-0.09895532903908986j)\n",
      "(-0.050123703730344735-0.1010600090917747j)\n",
      "(-0.04812916073054692-0.10311786284831612j)\n",
      "(-0.046071285523789904-0.10512642750646692j)\n",
      "(-0.04395089277985992-0.1070832256658007j)\n",
      "(-0.04176890546875119-0.10898577021208625j)\n",
      "(-0.03952635747838995-0.11083156943147669j)\n",
      "(-0.03722439598832135-0.1126181323450005j)\n",
      "(-0.034864283580203145-0.11434297425245898j)\n",
      "(-0.03244740006620433-0.11600362247344559j)\n",
      "(-0.029975244016784433-0.11759762227177772j)\n",
      "(-0.027449433969820754-0.11912254294821911j)\n",
      "(-0.02487170930366152-0.12057598408495013j)\n",
      "(-0.022243930757432244-0.12195558192383268j)\n",
      "(-0.01956808058279169-0.1232590158591361j)\n",
      "(-0.01684626231233416-0.12448401502403832j)\n",
      "(-0.014080700130983531-0.12562836494890267j)\n",
      "(-0.011273737837984112-0.1266899142680853j)\n",
      "(-0.008427837388510898-0.1276665814508348j)\n",
      "(-0.005545577005442941-0.1285563615307478j)\n",
      "(-0.002629648853521821-0.12935733280721978j)\n",
      "(0.0003171437301120808-0.1300676634914274j)\n",
      "(0.0032918894530921394-0.1306856182685751j)\n",
      "(0.006291572734798849-0.13120956474747678j)\n",
      "(0.009313077823093277-0.13163797976800595j)\n",
      "(0.012353193358574988-0.13196945553657344j)\n",
      "(0.015408617381835417-0.13220270555956393j)\n",
      "(0.018475962776817643-0.1323365703446135j)\n",
      "(0.021551763140992213-0.13237002283973404j)\n",
      "(0.024632479070594668-0.13230217358059707j)\n",
      "(0.027714504846705366-0.13213227551679066j)\n",
      "(0.030794175505458987-0.13185972848855795j)\n",
      "(0.0338677742732085-0.13148408332641626j)\n",
      "(0.036931540345016-0.1310050455471532j)\n",
      "(0.03998167698245095-0.13042247862098716j)\n",
      "(0.04301435990434731-0.1297364067861737j)\n",
      "(0.046025745941927515-0.12894701738902925j)\n",
      "(0.04901198192756875-0.12805466272921806j)\n",
      "(0.051969213784481126-0.12705986139221465j)\n",
      "(0.054893595782697965-0.1259632990530863j)\n",
      "(0.05778129992509128-0.1247658287381391j)\n",
      "(0.060628525425603014-0.12346847053351964j)\n",
      "(0.06343150824056934-0.12207241073255126j)\n",
      "(0.0661865306129247-0.12057900041638116j)\n",
      "(0.0688899305881888-0.11898975346542803j)\n",
      "(0.07153811146052737-0.1173063440020996j)\n",
      "(0.07412755110679728-0.1155306032683042j)\n",
      "(0.07665481116638244-0.11366451594436346j)\n",
      "(0.07911654602478094-0.11171021591904688j)\n",
      "(0.08150951155935214-0.10966998152353633j)\n",
      "(0.08383057360632806-0.10754623024521204j)\n",
      "(0.08607671610919786-0.10534151294015266j)\n",
      "(0.0882450489098277-0.10305850756618551j)\n",
      "(0.0903328151452182-0.10070001246115295j)\n",
      "(0.09233739821458319-0.09826893919377076j)\n",
      "(0.0942563282834959-0.09576830501700626j)\n",
      "(0.09608728829411227-0.09320122495630112j)\n",
      "(0.09782811945300128-0.09057090356715286j)\n",
      "(0.09947682617081918-0.08788062639856034j)\n",
      "(0.10103158043096486-0.08513375120059942j)\n",
      "(0.10249072556741821-0.08233369891591538j)\n",
      "(0.10385277943517739-0.0794839444961765j)\n",
      "(0.10511643696003216-0.07658800758554163j)\n",
      "(0.10628057205784268-0.07364944311390151j)\n",
      "(0.10734423891697221-0.07067183184311453j)\n",
      "(0.10830667264106454-0.0676587709095967j)\n",
      "(0.10916728925289505-0.06461386440650536j)\n",
      "(0.10992568506355688-0.061540714048343756j)\n",
      "(0.1105816354147348-0.05844290996011563j)\n",
      "(0.11113509280523981-0.05532402163219393j)\n",
      "(0.1115861844163085-0.05218758908083194j)\n",
      "(0.1119352090533765-0.04903711425276779j)\n",
      "(0.11218263352510617-0.045876052710634975j)\n",
      "(0.11232908848334928-0.04270780563395054j)\n",
      "(0.11237536375044117-0.03953571216829469j)\n",
      "(0.11232240316273734-0.03636304215293802j)\n",
      "(0.11217129896159413-0.0331929892546807j)\n",
      "(0.11192328576505356-0.030028664532984143j)\n",
      "(0.11157973415530135-0.026873090458712615j)\n",
      "(0.11114214391852303-0.023729195405904048j)\n",
      "(0.11061213697506996-0.020599808633038032j)\n",
      "(0.1099914500388716-0.017487655767257738j)\n",
      "(0.10928192704577841-0.014395354801946678j)\n",
      "(0.10848551139100268-0.011325412615036359j)\n",
      "(0.10760423801603064-0.008280222012362955j)\n",
      "(0.10664022538533874-0.0052620592974407035j)\n",
      "(0.10559566739292402-0.0022730823660407906j)\n",
      "(0.10447282523811977+0.0006846706788268195j)\n",
      "(0.10327401930936086+0.003609282398729742j)\n",
      "(0.10200162111355976+0.00649895638821682j)\n",
      "(0.10065804528751994+0.009352017152119328j)\n",
      "(0.09924574172640042+0.012166909506390967j)\n",
      "(0.09776718786263985+0.01494219751933008j)\n",
      "(0.09622488112699998+0.017676563012025758j)\n",
      "(0.09462133162147923+0.020368803638723447j)\n",
      "(0.09295905503182889+0.023017830569442288j)\n",
      "(0.09124056580527405+0.025622665798644494j)\n",
      "(0.08946837061683537+0.028182439105005536j)\n",
      "(0.08764496214535152+0.030696384688429442j)\n",
      "(0.08577281317799892+0.03316383751128843j)\n",
      "(0.08385437105972968+0.03558422937157553j)\n",
      "(0.08189205250168902+0.03795708473613168j)\n",
      "(0.07988823876031405+0.04028201636241094j)\n",
      "(0.07784527119646392+0.04255872073738065j)\n",
      "(0.07576544722163976+0.044786973362090796j)\n",
      "(0.0736510166360825+0.046966623910251915j)\n",
      "(0.07150417836135528+0.049097591288781196j)\n",
      "(0.06932707756789312+0.05117985862777369j)\n",
      "(0.06712180319596484+0.05321346822671236j)\n",
      "(0.06489038586656079+0.05519851648295941j)\n",
      "(0.0626347961768644+0.057135148827702736j)\n",
      "(0.06035694337325415+0.05902355469353758j)\n",
      "(0.05805867439314007+0.06086396253681817j)\n",
      "(0.055741773265455846+0.06265663493675085j)\n",
      "(0.05340796085823696+0.06440186379200191j)\n",
      "(0.05105889496045198+0.06609996563432965j)\n",
      "(0.04869617068413333+0.06775127707743171j)\n",
      "(0.04632132117181344+0.06935615041787607j)\n",
      "(0.043935818593415395+0.07091494940359544j)\n",
      "(0.04154107541594414+0.07242804518406704j)\n",
      "(0.0391384459286826+0.07389581245490734j)\n",
      "(0.036729228006070806+0.0753186258082235j)\n",
      "(0.03431466508998799+0.07669685629870891j)\n",
      "(0.031895948372869014+0.07803086823409919j)\n",
      "(0.02947421916283574+0.0793210161972946j)\n",
      "(0.027050571411919175+0.08056764230614408j)\n",
      "(0.024626054388407124+0.08177107371562627j)\n",
      "(0.022201675474404395+0.08293162036594208j)\n",
      "(0.019778403069830554+0.08404957297884463j)\n",
      "(0.01735716958427338+0.08512520130340742j)\n",
      "(0.01493887449840671+0.08615875261133493j)\n",
      "(0.012524387477010096+0.08715045044088908j)\n",
      "(0.01011455151601535+0.08810049358752356j)\n",
      "(0.007710186106472264+0.08900905533837832j)\n",
      "(0.005312090398783557+0.08987628294692175j)\n",
      "(0.002921046351128241+0.09070229734319121j)\n",
      "(0.0005378218465335351+0.09148719307432185j)\n",
      "(-0.0018368262363307672+0.0922310384693309j)\n",
      "(-0.004202149012935474+0.09293387602145858j)\n",
      "(-0.006557402656908563+0.09359572298075397j)\n",
      "(-0.008901845551259537+0.09421657214902435j)\n",
      "(-0.011234735539112785+0.09479639286875068j)\n",
      "(-0.013555327285536954+0.09533513219709666j)\n",
      "(-0.015862869761369143+0.09583271625571582j)\n",
      "(-0.018156603859181136+0.09628905174666556j)\n",
      "(-0.02043576015085197+0.09670402762440473j)\n",
      "(-0.022699556795457553+0.09707751691353582j)\n",
      "(-0.02494719760546068+0.09740937866168749j)\n",
      "(-0.027177870278471752+0.09769946001670105j)\n",
      "(-0.029390744801105328+0.09794759841708336j)\n",
      "(-0.03158497203073803+0.09815362388452259j)\n",
      "(-0.033759682460249026+0.09831736140712576j)\n",
      "(-0.03591398517011099+0.09843863340189989j)\n",
      "(-0.03804696697152922+0.0985172622447386j)\n",
      "(-0.040157691743281446+0.09855307285717349j)\n",
      "(-0.042245199964800265+0.09854589533748948j)\n",
      "(-0.044308508446934014+0.09849556762471941j)\n",
      "(-0.04634661026116538+0.09840193818404445j)\n",
      "(-0.04835847486741389+0.09826486870208061j)\n",
      "(-0.05034304843985771+0.09808423678060835j)\n",
      "(-0.05229925438952926+0.09785993861740352j)\n",
      "(-0.05422599408176482+0.09759189166295225j)\n",
      "(-0.056122147745925124+0.0972800372419821j)\n",
      "(-0.05798657557413727+0.09692434312891583j)\n",
      "(-0.05981811900516583+0.0965248060665531j)\n",
      "(-0.061615602188867406+0.09608145421750908j)\n",
      "(-0.06337783362606092+0.09559434953818832j)\n",
      "(-0.06510360797802611+0.09506359006534695j)\n",
      "(-0.06679170803921636+0.09448931210559935j)\n",
      "(-0.06844090686620496+0.09387169231855022j)\n",
      "(-0.07004997005527755+0.09321094968459114j)\n",
      "(-0.07161765816053814+0.09250734734877895j)\n",
      "(-0.07314272924384076+0.09176119433262715j)\n",
      "(-0.07462394154744237+0.09097284710647399j)\n",
      "(-0.07606005627953087+0.09014271101443341j)\n",
      "(-0.07744984050237923+0.08927124154513319j)\n",
      "(-0.07879207011263911+0.08835894544257995j)\n",
      "(-0.08008553290265255+0.08740638165116793j)\n",
      "(-0.08132903169133798+0.08641416208967985j)\n",
      "(-0.08252138751283764+0.0853829522497314j)\n",
      "(-0.08366144285079619+0.08431347161472874j)\n",
      "(-0.08474806490586635+0.08320649389604347j)\n",
      "(-0.08578014888378029+0.08206284708378545j)\n",
      "(-0.08675662129114205+0.08088341331022689j)\n",
      "(-0.08767644322593739+0.07966912852463344j)\n",
      "(-0.08853861364965077+0.07842098197897826j)\n",
      "(-0.08934217262782866+0.07714001552473661j)\n",
      "(-0.09008620452591942+0.07582732272170489j)\n",
      "(-0.09076984114727318+0.07448404776052742j)\n",
      "(-0.09139226480028471+0.07311138420137055j)\n",
      "(-0.09195271128182439+0.0717105735319307j)\n",
      "(-0.09245047276431437+0.07028290354871783j)\n",
      "(-0.09288490057408243+0.06882970656629289j)\n",
      "(-0.09325540784895162+0.06735235745988007j)\n",
      "(-0.09356147206341461+0.06585227154748657j)\n",
      "(-0.09380263741018122+0.06433090231837155j)\n",
      "(-0.0939785170273877+0.06278973901539037j)\n",
      "(-0.09408879506131151+0.061230304079388856j)\n",
      "(-0.09413322855503974+0.05965415046446133j)\n",
      "(-0.0941116491541993+0.058062858833470656j)\n",
      "(-0.09402396462156275+0.056458034643796j)\n",
      "(-0.09387016015309654+0.05484130513378574j)\n",
      "(-0.09365029948881445+0.05321431622087089j)\n",
      "(-0.0933645258126345+0.05157872932271773j)\n",
      "(-0.09301306243630728+0.04993621811317697j)\n",
      "(-0.09259621326338756+0.04828846522510755j)\n",
      "(-0.09211436303014961+0.046637158912422226j)\n",
      "(-0.09156797732129818+0.04498398968390747j)\n",
      "(-0.09095760235929536+0.04333064692151877j)\n",
      "(-0.09028386456710658+0.04167881549594197j)\n",
      "(-0.08954746990515323+0.04003017239222824j)\n",
      "(-0.08874920298425353+0.038386383358278556j)\n",
      "(-0.0878899259573093+0.03674909958883562j)\n",
      "(-0.08697057719347968+0.03511995445748519j)\n",
      "(-0.0859921697395337+0.033500560308925585j)\n",
      "(-0.08495578957401746+0.03189250532347869j)\n",
      "(-0.08386259366077145+0.030297350465441387j)\n",
      "(-0.08271380780922376+0.028716626526481374j)\n",
      "(-0.0815107243497146+0.027151831274789727j)\n",
      "(-0.08025469963290766+0.02560442672017863j)\n",
      "(-0.07894715136309911+0.024075836504738865j)\n",
      "(-0.07758955577592008+0.022567443428026926j)\n",
      "(-0.076183444671587+0.02108058711509639j)\n",
      "(-0.0747304023154206+0.01961656183495623j)\n",
      "(-0.07323206221788439+0.018176614476300357j)\n",
      "(-0.07169010380684358+0.016761942686564817j)\n",
      "(-0.07010624900512531+0.015373693179556098j)\n",
      "(-0.06848225872678719+0.014012960216071645j)\n",
      "(-0.06681992930572737+0.012680784261069647j)\n",
      "(-0.06512108887045809+0.011378150820100222j)\n",
      "(-0.06338759367894214+0.010105989456825348j)\n",
      "(-0.06162132442742305+0.008865172992591742j)\n",
      "(-0.0598241825471297+0.007656516888154461j)\n",
      "(-0.057998086502597634+0.006480778806778246j)\n",
      "(-0.056144968105169134+0.00533865835711053j)\n",
      "(-0.05426676885494586+0.004230797013376523j)\n",
      "(-0.052365436324151075+0.0031577782096564055j)\n",
      "(-0.05044292059443403+0.0021201276042136325j)\n",
      "(-0.04850117076020188+0.001118313509113691j)\n",
      "(-0.04654213150953023+0.0001527474796615357j)\n",
      "(-0.044567739793622475-0.0007762149424746911j)\n",
      "(-0.04257992159517048-0.0016682733391944799j)\n",
      "(-0.0405805888052916-0.0025231813862571905j)\n",
      "(-0.03857163621800828-0.0033407456917516174j)\n",
      "(-0.036554938650498366-0.004120824511011237j)\n",
      "(-0.0345323481965808-0.004863326346640118j)\n",
      "(-0.03250569162011102-0.005568208442655811j)\n",
      "(-0.03047676789416348-0.006235475182037774j)\n",
      "(-0.028447345891072277-0.006865176397195281j)\n",
      "(-0.02641916222757961-0.007457405603042425j)\n",
      "(-0.02439391926853692-0.008012298162481264j)\n",
      "(-0.022373283291795165-0.00853002939415755j)\n",
      "(-0.020358882816115465-0.009010812632365924j)\n",
      "(-0.01835230709315843-0.009454897248938918j)\n",
      "(-0.016355104763832215-0.009862566646870482j)\n",
      "(-0.01436878267852635-0.010234136235296445j)\n",
      "(-0.012394804880006202-0.01056995139529624j)\n",
      "(-0.010434591746964232-0.01087038544580807j)\n",
      "(-0.008489519295359906-0.011135837618791248j)\n",
      "(-0.006560918633658233-0.011366731052645955j)\n",
      "(-0.004650075566834344-0.011563510812808864j)\n",
      "(-0.0027582303426214472-0.011726641948269447j)\n",
      "(-0.000886577532494167-0.011856607592192599j)\n",
      "(0.0009637339597946161-0.011953907113528223j)\n",
      "(0.0027916007671647284-0.012019054324531408j)\n",
      "(0.004595964808056304-0.012052575747522932j)\n",
      "(0.00637581291697964-0.012055008944172267j)\n",
      "(0.008130176360984998-0.012026900911906375j)\n",
      "(0.009858130249678585-0.011968806553245323j)\n",
      "(0.011558792848546287-0.011881287223891443j)\n",
      "(0.013231324805730768-0.011764909364451043j)\n",
      "(0.014874928301869832-0.011620243219440938j)\n",
      "(0.01648884613194569-0.01144786164616102j)\n",
      "(0.018072360727614603-0.011248339015189446j)\n",
      "(0.01962479312821852-0.011022250203611259j)\n",
      "(0.021145501908512335-0.010770169681547223j)\n",
      "(0.022633882071023802-0.010492670692054434j)\n",
      "(0.024089363910842983-0.010190324523998973j)\n",
      "(0.025511411860487006-0.009863699877045374j)\n",
      "(0.02689952332231226-0.009513362317465386j)\n",
      "(0.028253227495735674-0.009139873823039203j)\n",
      "(0.029572084206275762-0.008743792414913952j)\n",
      "(0.03085568274315467-0.008325671873890663j)\n",
      "(0.0321036407118912-0.007886061538244105j)\n",
      "(0.03331560290798829-0.007425506179833511j)\n",
      "(0.03449124021746613-0.006944545954941474j)\n",
      "(0.03563024854961551-0.006443716425986676j)\n",
      "(0.03673234780695955-0.005923548649989j)\n",
      "(0.037797280897003585-0.005384569329429623j)\n",
      "(0.03882481278994325-0.0048273010209378565j)\n",
      "(0.03981472962606875-0.0042522623970594415j)\n",
      "(0.04076683787617764-0.003659968556208023j)\n",
      "(0.04168096355787209-0.003050931375779326j)\n",
      "(0.042556951510177174-0.002425659903315381j)\n",
      "(0.043394664728484196-0.001784660780537403j)\n",
      "(0.04419398376138503-0.0011284386950298144j)\n",
      "(0.04495480617053805-0.0004574968543422182j)\n",
      "(0.04567704605428002+0.0002276625227082647j)\n",
      "(0.04636063363527997+0.0009265377027117469j)\n",
      "(0.04700551491213283+0.0016386269274380112j)\n",
      "(0.04761165137438451+0.002363427901733945j)\n",
      "(0.04817901978010504+0.0031004372844692994j)\n",
      "(0.04870761199475095+0.003849150187321283j)\n",
      "(0.04919743488970756+0.004609059686039973j)\n",
      "(0.04964851029856016+0.005379656348664508j)\n",
      "(0.05006087502882257+0.00616042778497158j)\n",
      "(0.05043458092654932+0.006950858221233225j)\n",
      "(0.05076969499097194+0.007750428104136876j)\n",
      "(0.05106629953603901+0.008558613737487099j)\n",
      "(0.051324492395494525+0.009374886955056075j)\n",
      "(0.05154438716790966+0.010198714832688197j)\n",
      "(0.05172611349788343+0.011029559442492029j)\n",
      "(0.05186981738945307+0.01186687765166913j)\n",
      "(0.05197566154760128+0.012710120968241138j)\n",
      "(0.05204382574361815+0.013558735435634163j)\n",
      "(0.052074507199971906+0.014412161577784348j)\n",
      "(0.05206792099025865+0.015269834396113647j)\n",
      "(0.05202430044974578+0.01613118341942327j)\n",
      "(0.05194389759198878+0.016995632807436517j)\n",
      "(0.05182698352699165+0.017862601508415114j)\n",
      "(0.051673848876394285+0.018731503470966006j)\n",
      "(0.05148480418120654+0.019601747909845726j)\n",
      "(0.051260180297668476+0.02047273962527392j)\n",
      "(0.05100032877689727+0.021343879374968733j)\n",
      "(0.05070562222408437+0.022214564297827245j)\n",
      "(0.05037645463312953+0.02308418838789795j)\n",
      "(0.05001324169274356+0.023952143017017324j)\n",
      "(0.04961642106021344+0.02481781750422409j)\n",
      "(0.04918645259920708+0.025680599729812046j)\n",
      "(0.04872381857818845+0.026539876791656904j)\n",
      "(0.04822902382623633+0.0273950357012137j)\n",
      "(0.047702595843282264+0.028245464116390066j)\n",
      "(0.04714508486203205+0.029090551108296496j)\n",
      "(0.046557063859087235+0.02992968795870712j)\n",
      "(0.0459391285130547+0.03076226898489889j)\n",
      "(0.04529189710770394+0.031587692388402915j)\n",
      "(0.04461601037852279+0.03240536112407225j)\n",
      "(0.04391213130130767+0.03321468378577344j)\n",
      "(0.04318094482172987+0.03401507550491685j)\n",
      "(0.042423157525112554+0.03480595885798214j)\n",
      "(0.04163949724596396+0.03558676477914434j)\n",
      "(0.040830712617112144+0.036356933474082614j)\n",
      "(0.039997572558593035+0.03711591533104577j)\n",
      "(0.03914086570674523+0.037863171825262776j)\n",
      "(0.038261399784262955+0.03859817641281786j)\n",
      "(0.03736000091225171+0.03932041541016273j)\n",
      "(0.03643751286561904+0.040029388855508934j)\n",
      "(0.035494796273413724+0.04072461134842919j)\n",
      "(0.03453272776599008+0.041405612864112006j)\n",
      "(0.03355219907114368+0.04207193953882749j)\n",
      "(0.03255411606160238+0.042723154423313876j)\n",
      "(0.031539397756496876+0.04335883820094586j)\n",
      "(0.03050897527965212+0.043978589867721934j)\n",
      "(0.029463790777740542+0.04458202737129602j)\n",
      "(0.028404796301534186+0.045168788206474984j)\n",
      "(0.027332952653644375+0.045738529964825005j)\n",
      "(0.02624922820629966+0.04629093083624486j)\n",
      "(0.025154597692833524+0.046825690060601104j)\n",
      "(0.024050040976654214+0.047342528327763j)\n",
      "(0.02293654180153675+0.04784118812461566j)\n",
      "(0.021815086526667048+0.04832143402792344j)\n",
      "(0.020686662851930347+0.04878305294196325j)\n",
      "(0.019552258536229765+0.04922585428043564j)\n",
      "(0.018412860112793784+0.04964967009221976j)\n",
      "(0.017269451605700193+0.05005435513077607j)\n",
      "(0.016123013251556+0.050439786867282926j)\n",
      "(0.01497452023022823+0.05080586544783383j)\n",
      "(0.01382494140844721+0.0511525135952602j)\n",
      "(0.01267523810001632+0.05147967645637847j)\n",
      "(0.011526362846263506+0.051787321395683365j)\n",
      "(0.010379258220243312+0.0520754377367293j)\n",
      "(0.009234855658074661+0.0523440364526499j)\n",
      "(0.008094074320645281+0.05259314980746559j)\n",
      "(0.0069578199887547175+0.052822830950019196j)\n",
      "(0.00582698399459195+0.053033153462558685j)\n",
      "(0.004702442192263901+0.053224210866149924j)\n",
      "(0.0035850539698865694+0.053396116085259376j)\n",
      "(0.0024756613055483667+0.05354900087398427j)\n",
      "(0.0013750878692453282+0.05368301520653311j)\n",
      "(0.0002841381726586305+0.05379832663467235j)\n",
      "(-0.0007964032315720363+0.05389511961494817j)\n",
      "(-0.0018657724996681499+0.05397359480857574j)\n",
      "(-0.0029232271944331055+0.05403396835694923j)\n",
      "(-0.003968046929926654+0.05407647113577809j)\n",
      "(-0.004999533962381822+0.05410134799088666j)\n",
      "(-0.006017013726872628+0.05410885695873157j)\n",
      "(-0.007019835319491193+0.05409926847469543j)\n",
      "(-0.008007371925000069+0.05407286457220034j)\n",
      "(-0.00897902119016455+0.054029938075660124j)\n",
      "(-0.009934205543172654+0.05397079179024591j)\n",
      "(-0.010872372459765342+0.05389573769138745j)\n",
      "(-0.011792994676900507+0.05380509611686267j)\n",
      "(-0.01269557035496147+0.053699194964248145j)\n",
      "(-0.013579623189707074+0.05357836889641135j)\n",
      "(-0.014444702475327996+0.05344295855762282j)\n",
      "(-0.015290383120136397+0.05329330980275285j)\n",
      "(-0.016116265616563007+0.0531297729418949j)\n",
      "(-0.016921975967270367+0.05295270200262887j)\n",
      "(-0.01770716556931711+0.05276245401199638j)\n",
      "(-0.01847151105841478+0.052559388300117645j)\n",
      "(-0.01921471411541651+0.052343865827227845j)\n",
      "(-0.019936501237260495+0.052116248535754854j)\n",
      "(-0.020636623474660328+0.05187689872890102j)\n",
      "(-0.02131485613888815+0.05162617847702883j)\n",
      "(-0.021970998480039274+0.051364449052985615j)\n",
      "(-0.022604873339195895+0.051092070397335085j)\n",
      "(-0.023216326776919035+0.050809400614298415j)\n",
      "(-0.023805227680501844+0.05051679549903947j)\n",
      "(-0.024371467352402778+0.05021460809676538j)\n",
      "(-0.024914959082253614+0.04990318829394977j)\n",
      "(-0.025435637704799726+0.04958288244182587j)\n",
      "(-0.02593345914607914+0.04925403301214208j)\n",
      "(-0.0264083999600918+0.04891697828501763j)\n",
      "(-0.026860456858131945+0.04857205206859315j)\n",
      "(-0.027289646232883873+0.04821958345002594j)\n",
      "(-0.02769600367928553+0.047859896577248096j)\n",
      "(-0.028079583514068557+0.047493310470776526j)\n",
      "(-0.028440458295779493+0.047120138864741555j)\n",
      "(-0.028778718346970305+0.04674069007619132j)\n",
      "(-0.0290944712801314+0.04635526690162018j)\n",
      "(-0.029387841528815017+0.04596416653957443j)\n",
      "(-0.029658969885269067+0.045567680538099876j)\n",
      "(-0.02990801304577004+0.0451660947657152j)\n",
      "(-0.03013514316470778+0.04475968940452393j)\n",
      "(-0.030340547418338876+0.044348738964016816j)\n",
      "(-0.030524427578987066+0.043933512314061535j)\n",
      "(-0.030686999600328935+0.04351427273553344j)\n",
      "(-0.030828493214264743+0.043091277987006356j)\n",
      "(-0.03094915153973602+0.04266478038589589j)\n",
      "(-0.0310492307037137+0.04223502690242976j)\n",
      "(-0.031128999474446965+0.04180225926481508j)\n",
      "(-0.031188738906930052+0.04136671407396873j)\n",
      "(-0.03122874200041705+0.04092862292619106j)\n",
      "(-0.03124931336769002+0.04048821254217634j)\n",
      "(-0.03125076891566722+0.04004570490078439j)\n",
      "(-0.03123343553682432+0.03960131737602786j)\n",
      "(-0.0311976508107944+0.0391552628757722j)\n",
      "(-0.03114376271541161+0.03870774998069691j)\n",
      "(-0.031072129346369583+0.03825898308211694j)\n",
      "(-0.030983118644580174+0.03780916251733104j)\n",
      "(-0.030877108130239396+0.03735848470122822j)\n",
      "(-0.03075448464253832+0.036907142252957874j)\n",
      "(-0.030615644083896186+0.03645532411655006j)\n",
      "(-0.030460991167540696+0.03600321567445302j)\n",
      "(-0.03029093916721733+0.03555099885304508j)\n",
      "(-0.03010590966777754+0.035098852219267375j)\n",
      "(-0.029906332315372215+0.03464695106762042j)\n",
      "(-0.029692644565961313+0.0341954674968617j)\n",
      "(-0.029465291430847782+0.03374457047584294j)\n",
      "(-0.029224725217949846+0.03329442589802523j)\n",
      "(-0.028971405267538282+0.03284519662430856j)\n",
      "(-0.028705797681193794+0.03239704251392023j)\n",
      "(-0.02842837504276947+0.03195012044320044j)\n",
      "(-0.0281396161301897+0.03150458431223025j)\n",
      "(-0.02784000561696699+0.031060585039342954j)\n",
      "(-0.02753003376237863+0.030618270543657494j)\n",
      "(-0.027210196089315245+0.030177785715870348j)\n",
      "(-0.02688099304888764+0.029739272377631017j)\n",
      "(-0.02654292967096462+0.029302869229918867j)\n",
      "(-0.026196515199902272+0.02886871179092082j)\n",
      "(-0.02584226271482578+0.028436932323994257j)\n",
      "(-0.025480688733924048+0.028007659756371796j)\n",
      "(-0.025112312802328344+0.027581019589338947j)\n",
      "(-0.024737657063257763+0.027157133800680505j)\n",
      "(-0.02435724581222931+0.026736120740249246j)\n",
      "(-0.02397160503425371+0.0263180950195692j)\n",
      "(-0.023581261924054873+0.025903167396426334j)\n",
      "(-0.023186744389479465+0.025491444655446373j)\n",
      "(-0.02278858053838339+0.025083029485688354j)\n",
      "(-0.022387298149406345+0.024678020356309716j)\n",
      "(-0.02198342412717035+0.024276511391379867j)\n",
      "(-0.021577483942554664+0.02387859224492705j)\n",
      "(-0.021170001059241828+0.023484347977327902j)\n",
      "(-0.02076149634704881+0.023093858934079923j)\n",
      "(-0.020352487481795932+0.022707200628010134j)\n",
      "(-0.0199434883347013+0.0223244436260898j)\n",
      "(-0.019535008351805813+0.021945653441838832j)\n",
      "(-0.019127551924693325+0.021570890434328038j)\n",
      "(-0.018721617753871798+0.021200209714752293j)\n",
      "(-0.01831769820626042+0.0208336610615089j)\n",
      "(-0.017916278668296953+0.020471288844669606j)\n",
      "(-0.017517836896240105+0.02011313196068309j)\n",
      "(-0.01712284236529854+0.019759223778092697j)\n",
      "(-0.01673175561926353+0.01940959209499364j)\n",
      "(-0.016345027622361716+0.019064259108892867j)\n",
      "(-0.015963099115072647+0.018723241399566545j)\n",
      "(-0.015586399975678627+0.01838654992544312j)\n",
      "(-0.01521534858932523+0.018054190033966744j)\n",
      "(-0.014850351226371362+0.017726161486320138j)\n",
      "(-0.014491801431802067+0.017402458496811248j)\n",
      "(-0.014140079427458688+0.017083069787149567j)\n",
      "(-0.013795551528811328+0.01676797865575767j)\n",
      "(-0.013458569577963844+0.01645716306218732j)\n",
      "(-0.013129470394531046+0.016150595726627855j)\n",
      "(-0.012808575245974138+0.015848244244420225j)\n",
      "(-0.012496189338911941+0.015550071215410112j)\n",
      "(-0.01219260133285378+0.01525603438790396j)\n",
      "(-0.011898082877723724+0.014966086816916803j)\n",
      "(-0.011612888176424661+0.014680177036330773j)\n",
      "(-0.011337253573734931+0.014398249244541528j)\n",
      "(-0.011071397172201887+0.014120243503002942j)\n",
      "(-0.010815518477558465+0.013846095947442499j)\n",
      "(-0.010569798068810489+0.01357573900985805j)\n",
      "(-0.010334397314838269+0.013309101655490835j)\n",
      "(-0.01010945806049856+0.013046109615608485j)\n",
      "(-0.009895102568294869+0.012786685685418414j)\n",
      "(-0.00969143267029432+0.012530749821124823j)\n",
      "(-0.009498532022830655+0.012278220055674671j)\n",
      "(-0.009316467913701125+0.012029013473917115j)\n",
      "(-0.009145448794270096+0.011783091219628311j)\n",
      "(-0.008985975062563921+0.01154050423564149j)\n",
      "(-0.008838639773528245+0.011301343526676664j)\n",
      "(-0.00870393514717324+0.011065685907740607j)\n",
      "(-0.008582243824258753+0.010833591462136395j)\n",
      "(-0.008473838343348701+0.010605103283250537j)\n",
      "(-0.008378883146025475+0.010380247798359122j)\n",
      "(-0.008297437118555144+0.010159035065258124j)\n",
      "(-0.008229457113251888+0.009941459196533865j)\n",
      "(-0.00817480226256443+0.00972749886107583j)\n",
      "(-0.008133239048611123+0.009517117866181205j)\n",
      "(-0.008104447045718622+0.009310265808709261j)\n",
      "(-0.0080880252599401+0.009106878787461867j)\n",
      "(-0.008083498984398665+0.008906880167977327j)\n",
      "(-0.008090327089520274+0.008710181391590993j)\n",
      "(-0.008107909669449808+0.008516682821416863j)\n",
      "(-0.008135595970121864+0.008326274619080318j)\n",
      "(-0.008172692517775524+0.00813883764516624j)\n",
      "(-0.008218471321606084+0.007954244368322894j)\n",
      "(-0.008272177985081354+0.007772359761091806j)\n",
      "(-0.008333039683142794+0.007593042184247433j)\n",
      "(-0.00840027308331015+0.007416144284385918j)\n",
      "(-0.008473092150796458+0.007241513902500775j)\n",
      "(-0.008550715681503928+0.007068994972792792j)\n",
      "(-0.00863237445707355+0.006898428402189795j)\n",
      "(-0.008717317967290798+0.0067296529295655j)\n",
      "(-0.008804820652811421+0.006562505965971242j)\n",
      "(-0.008894187619488377+0.006396824416563325j)\n",
      "(-0.008984759776758762+0.006232445484788968j)\n",
      "(-0.009075918355765333+0.006069207459671901j)\n",
      "(-0.009167088767280274+0.0059069504874549724j)\n",
      "(-0.009257743764520052+0.005745517329294535j)\n",
      "(-0.009347405881377656+0.005584754107098942j)\n",
      "(-0.009435649122444828+0.005424511039940916j)\n",
      "(-0.009522099887585948+0.005264643173762682j)\n",
      "(-0.009606437120392402+0.0051050111073006315j)\n",
      "(-0.009688391676388948+0.004945481717488902j)\n",
      "(-0.009767744910250712+0.004785928886032915j)\n",
      "(-0.009844326495830306+0.004626234231575876j)\n",
      "(-0.009918011494106737+0.0044662878492399485j)\n",
      "(-0.009988716693941248+0.004305989059966388j)\n",
      "(-0.010056396256415977+0.004145247170994984j)\n",
      "(-0.010121036706676594+0.003983982250129339j)\n",
      "(-0.010182651321197557+0.003822125914597443j)\n",
      "(-0.01024127396873921+0.0036596221387215308j)\n",
      "(-0.010296957295792246+0.0034964291640453967j)\n",
      "(-0.010349752242866427+0.0033325173661922208j)\n",
      "(-0.010399713324860347+0.003167872853275103j)\n",
      "(-0.010446886538882623+0.0030024977796817725j)\n",
      "(-0.010491302220276923+0.0028364108809705688j)\n"
     ]
    }
   ],
   "source": [
    "for i in range (0,nt):\n",
    "  rho=np.array(optimized_dynamics.states[i]*optimized_dynamics.states[i].dag())\n",
    "  print(rho[0][1])"
   ]
  },
  {
   "cell_type": "code",
   "execution_count": null,
   "metadata": {
    "id": "dcHGI8WNSCkV"
   },
   "outputs": [],
   "source": [
    "from abc import ABC, abstractmethod\n",
    "\n",
    "import numpy as np\n",
    "import qutip\n",
    "import scipy\n",
    "from qutip.cy.spconvert import dense2D_to_fastcsr_fmode\n",
    "from qutip.cy.spmatfuncs import spmvpy_csr\n",
    "from qutip.superoperator import mat2vec, vec2mat\n",
    "\n",
    "\n",
    "__all__ = ['expm', 'Propagator', 'DensityMatrixODEPropagator']\n",
    "\n",
    "\n",
    "def expm(H, state, dt, c_ops=None, backwards=False, initialize=False):\n",
    "    \"\"\"Propagate using matrix exponentiation\n",
    "\n",
    "    This supports `H` being a Hamiltonian (for a Hilbert space `state`) or a\n",
    "    Liouvillian (for `state` being a density matrix) in nested-list format.\n",
    "    Collapse operators `c_ops` are not supported. The propagator is not\n",
    "    stateful, thus `initialize` is ignored.\n",
    "    \"\"\"\n",
    "    if c_ops is None:\n",
    "        c_ops = []\n",
    "    if len(c_ops) > 0:\n",
    "        raise NotImplementedError(\"Liouville exponentiation not implemented\")\n",
    "    assert isinstance(H, list) and len(H) > 0\n",
    "    eqm_factor = -1j  # factor in front of H on rhs of the equation of motion\n",
    "    if isinstance(H[0], list):\n",
    "        if H[0][1].type == 'super':\n",
    "            eqm_factor = 1\n",
    "        if backwards:\n",
    "            eqm_factor = eqm_factor.conjugate()\n",
    "        A = (eqm_factor * H[0][1]) * H[0][0]\n",
    "    else:\n",
    "        if H[0].type == 'super':\n",
    "            eqm_factor = 1\n",
    "        if backwards:\n",
    "            eqm_factor = eqm_factor.conjugate()\n",
    "        A = eqm_factor * H[0]\n",
    "    for part in H[1:]:\n",
    "        if isinstance(part, list):\n",
    "            A += (eqm_factor * part[1]) * part[0]\n",
    "        else:\n",
    "            A += eqm_factor * part\n",
    "    ok_types = (state.type == 'oper' and A.type == 'super') or (\n",
    "        state.type in ['ket', 'bra'] and A.type == 'oper'\n",
    "    )\n",
    "    if ok_types:\n",
    "        return ((A * dt).expm())(state)\n",
    "    else:\n",
    "        raise NotImplementedError(\n",
    "            \"Cannot handle argument types A:%s, state:%s\"\n",
    "            % (A.type, state.type)\n",
    "        )\n",
    "\n",
    "omega=1\n",
    "g=0.2*omega\n",
    "ampl0=0.0000001+0j\n",
    "#T=8\n",
    "#ampl0=1\n",
    "T=np.pi/g\n",
    "nt=1000\n",
    "tlist = np.linspace(0,T, nt)\n",
    "def hamiltonian(omega, ampl0, g):\n",
    "      \"\"\"Two-level-system Hamiltonian\n",
    "\n",
    "      Args:\n",
    "          omega (float): energy separation of the qubit levels\n",
    "          ampl0 (float): constant amplitude of the driving field\n",
    "      \"\"\"\n",
    "      HA =  omega * qutip.tensor(0.5*(-qutip.operators.sigmaz()),qutip.qeye(2))\n",
    "      HB =  omega* qutip.tensor(qutip.qeye(2),0.5*(-qutip.operators.sigmaz()))\n",
    "      HAB = g*(qutip.tensor(qutip.destroy(2),qutip.create(2))+qutip.tensor(qutip.create(2),qutip.destroy(2)))\n",
    "      H0 = HA+HB+HAB\n",
    "      H1 = -qutip.tensor(0.5*qutip.operators.sigmax(),qutip.qeye(2))\n",
    "\n",
    "      def guess_control(t, args):\n",
    "          return ampl0 *krotov.shapes.flattop(\n",
    "              t, t_start=0, t_stop=T, t_rise=0.005, func=\"blackman\"\n",
    "          )\n",
    "\n",
    "      return [H0, [H1, 5]]\n"
   ]
  },
  {
   "cell_type": "code",
   "execution_count": null,
   "metadata": {
    "id": "_tA2511TJPHO"
   },
   "outputs": [],
   "source": [
    "expm(hamiltonian(omega,ampl0,g), qutip.tensor(qutip.ket(\"0\"),qutip.ket(\"0\")), T/(nt-1), c_ops=None, backwards=False, initialize=False)"
   ]
  },
  {
   "cell_type": "code",
   "execution_count": null,
   "metadata": {
    "id": "k1lGd3VhJdjn"
   },
   "outputs": [],
   "source": [
    "hamiltonian(omega,ampl0,g)[0]"
   ]
  },
  {
   "cell_type": "code",
   "execution_count": null,
   "metadata": {
    "id": "pIZl968bKQSt"
   },
   "outputs": [],
   "source": [
    "print(qutip.Qobj(np.eye(4)))"
   ]
  },
  {
   "cell_type": "code",
   "execution_count": 17,
   "metadata": {
    "id": "Itl4eeZzLH0u"
   },
   "outputs": [
    {
     "data": {
      "text/plain": [
       "[Quantum object: dims = [[15], [15]], shape = (15, 15), type = oper, isherm = False\n",
       " Qobj data =\n",
       " [[1.08602416 0.66188681 0.72619927 1.00578677 0.68932275 0.92552788\n",
       "   0.2386143  1.03783133 0.61781952 0.39161298 0.29693057 0.43031324\n",
       "   0.64291148 1.0222388  0.81887365]\n",
       "  [0.68195557 1.04969734 0.63520289 0.51962827 1.21935838 0.5130396\n",
       "   0.79163522 0.63625899 0.92690289 0.85781388 0.48403956 0.33399188\n",
       "   0.98427252 0.84438374 0.85064083]\n",
       "  [0.61157802 0.33475476 0.37388666 0.84081808 1.10856581 0.47831971\n",
       "   1.00682191 0.34717629 0.60543233 0.65481942 1.05724774 0.26455307\n",
       "   0.72735198 0.18117238 1.06072897]\n",
       "  [0.89090758 0.93398004 0.3043761  0.68101732 0.90180298 1.21058536\n",
       "   0.52856323 0.86460814 0.6756025  0.88282619 0.64379104 0.51927658\n",
       "   1.19233829 1.03885842 0.78206972]\n",
       "  [0.68585134 0.94191225 0.99063674 0.80868482 0.82538403 1.08362736\n",
       "   0.40036743 0.60749074 0.60954809 0.86178055 0.63151593 0.8549435\n",
       "   0.68621851 0.71116363 0.85228259]\n",
       "  [0.68983196 0.57587862 1.00924617 0.18949433 0.90970662 0.5368427\n",
       "   0.72050199 0.91954041 1.19881804 0.65148133 1.1669686  0.94160064\n",
       "   1.13817903 0.37143712 0.68323665]\n",
       "  [0.71362861 0.44274982 0.7320099  0.5859646  0.45555559 0.62258127\n",
       "   0.85030738 0.5190023  1.01111475 0.85139505 0.96230695 0.6393966\n",
       "   0.68314426 1.15770618 0.78908185]\n",
       "  [1.05773199 0.35275039 1.06085998 0.49263333 0.97018005 0.60959741\n",
       "   0.34427511 0.64511843 0.61037836 1.10197113 0.30558084 0.61582359\n",
       "   0.79655694 0.59515925 0.88830077]\n",
       "  [1.10823805 0.69627954 0.8012808  0.61269877 0.94388261 0.34849788\n",
       "   0.92648154 0.81238776 1.13704429 0.37869042 0.84521072 0.41207685\n",
       "   0.15959445 0.58136727 1.16073717]\n",
       "  [0.20955727 0.3356894  0.35807229 1.02265826 0.95506105 0.97215124\n",
       "   0.98284174 0.74137871 0.59948163 1.01766691 0.79329039 0.58691664\n",
       "   0.93380228 0.63301549 0.23835145]\n",
       "  [0.47966774 0.70817709 0.66697133 0.79268091 0.73966532 0.75256872\n",
       "   0.20134394 0.45240465 1.03193807 0.59815144 0.69308087 1.01819881\n",
       "   0.54705324 0.63461507 0.3511744 ]\n",
       "  [0.63682279 0.51003233 0.49231589 0.82461984 0.64214182 0.70254753\n",
       "   0.60683559 0.52770484 0.97997636 0.41919146 0.65298392 0.90516271\n",
       "   0.54873304 0.80218016 1.16248468]\n",
       "  [0.52858733 0.87999826 0.92353119 0.84566162 0.82354968 0.6245743\n",
       "   0.77397459 0.65257318 0.62636918 0.46354439 1.24486698 0.97752251\n",
       "   0.69011929 0.82734286 0.78739357]\n",
       "  [0.49623255 0.30859171 0.64110337 0.78339152 0.67662087 0.9661572\n",
       "   1.40286218 1.05155348 0.65778536 0.49064908 0.80359735 0.67667719\n",
       "   1.19109033 0.73492832 0.86980129]\n",
       "  [0.75744495 0.46218521 0.73526398 0.54078511 0.67279312 0.78342612\n",
       "   0.85089375 0.63779573 0.59535903 1.17122387 0.20336749 0.7463226\n",
       "   0.50058621 0.64818195 0.84093732]],\n",
       " [Quantum object: dims = [[15], [15]], shape = (15, 15), type = oper, isherm = False\n",
       "  Qobj data =\n",
       "  [[0.26913105 0.33877145 0.93569322 0.39092911 0.60568405 0.04383251\n",
       "    0.7679055  0.02869488 0.50095476 0.50460286 0.81998986 0.76119581\n",
       "    0.84173547 0.95583766 0.00368577]\n",
       "   [0.14178283 0.77213273 0.25234108 0.56223916 0.27425081 0.8547557\n",
       "    0.48064665 0.60031415 0.57024609 0.6276391  0.54480242 0.29833179\n",
       "    0.87913338 0.25216426 0.04060494]\n",
       "   [0.2757735  0.96030216 0.64859578 0.46724726 0.70221837 0.0636115\n",
       "    0.61963572 0.24130927 0.4131314  0.46240902 0.48248264 0.73543522\n",
       "    0.06215742 0.81716531 0.75236655]\n",
       "   [0.84563086 0.28778781 0.39387144 0.11052935 0.62070803 0.6596216\n",
       "    0.55313574 0.6538036  0.7638922  0.80304539 0.41876465 0.82672327\n",
       "    0.96641836 0.49968486 0.78105904]\n",
       "   [0.78799334 0.60483551 0.11026146 0.24368771 0.2525616  0.57949904\n",
       "    0.39322293 0.60933459 0.20444822 0.6419855  0.52752903 0.41088118\n",
       "    0.24159919 0.2274936  0.11565732]\n",
       "   [0.15699803 0.90160071 0.3815916  0.41005422 0.75698613 0.59148888\n",
       "    0.34278541 0.11881058 0.85333373 0.82387658 0.25058887 0.90494184\n",
       "    0.04462686 0.09557393 0.77021244]\n",
       "   [0.24822268 0.09407538 0.53082607 0.4666916  0.66700886 0.4324084\n",
       "    0.76776311 0.14631347 0.00452586 0.54102696 0.02827668 0.94342742\n",
       "    0.71172829 0.86611389 0.41355298]\n",
       "   [0.21285958 0.03780902 0.19501041 0.06233358 0.2404411  0.70659906\n",
       "    0.81297188 0.59887262 0.52680154 0.83624115 0.81566873 0.49882972\n",
       "    0.04440545 0.35160585 0.62934401]\n",
       "   [0.25423219 0.34308997 0.70577738 0.91687737 0.14268549 0.16752397\n",
       "    0.0161542  0.70314742 0.49740742 0.04756586 0.07346231 0.34792649\n",
       "    0.70182104 0.31483335 0.08105752]\n",
       "   [0.91136606 0.87410277 0.2661995  0.09258324 0.92884207 0.59392726\n",
       "    0.57708753 0.89998784 0.5920309  0.77470415 0.83334544 0.99592132\n",
       "    0.15421346 0.60363342 0.81624264]\n",
       "   [0.34171262 0.91848209 0.34292161 0.27895588 0.50300137 0.17824375\n",
       "    0.87231588 0.73463247 0.04837604 0.97350103 0.99780847 0.93764551\n",
       "    0.22844381 0.52930728 0.81771721]\n",
       "   [0.56100947 0.60657497 0.86210518 0.76536728 0.40818359 0.88348617\n",
       "    0.58569495 0.19497387 0.93660107 0.91043027 0.43512223 0.60425929\n",
       "    0.77687376 0.82044803 0.5278029 ]\n",
       "   [0.93846448 0.12697404 0.8992378  0.43305971 0.20041972 0.40584022\n",
       "    0.38268476 0.21165628 0.88173929 0.87280191 0.07031816 0.64074625\n",
       "    0.0211869  0.09493955 0.14457616]\n",
       "   [0.28184401 0.38671967 0.33717013 0.62620303 0.90638526 0.82051781\n",
       "    0.19969147 0.65670946 0.06802541 0.03977525 0.42404448 0.27053024\n",
       "    0.58401526 0.20592249 0.64825853]\n",
       "   [0.20351143 0.35377667 0.07637326 0.27477986 0.07501881 0.01506826\n",
       "    0.14412421 0.33111124 0.35846343 0.58688585 0.24055755 0.38957112\n",
       "    0.85000194 0.23616239 0.51883708]],\n",
       "  <function __main__.hamiltonian.<locals>.guess_control(t, args)>]]"
      ]
     },
     "execution_count": 17,
     "metadata": {},
     "output_type": "execute_result"
    }
   ],
   "source": [
    "hamiltonian(2,5,2)"
   ]
  },
  {
   "cell_type": "code",
   "execution_count": 45,
   "metadata": {},
   "outputs": [
    {
     "data": {
      "text/latex": [
       "Quantum object: dims = [[3], [1]], shape = (3, 1), type = ket\\begin{equation*}\\left(\\begin{array}{*{11}c}0.0\\\\5.0\\\\5.0\\\\\\end{array}\\right)\\end{equation*}"
      ],
      "text/plain": [
       "Quantum object: dims = [[3], [1]], shape = (3, 1), type = ket\n",
       "Qobj data =\n",
       "[[0.]\n",
       " [5.]\n",
       " [5.]]"
      ]
     },
     "execution_count": 45,
     "metadata": {},
     "output_type": "execute_result"
    }
   ],
   "source": [
    "qutip.Qobj(np.array([0]+[5]*2))"
   ]
  },
  {
   "cell_type": "code",
   "execution_count": 5,
   "metadata": {},
   "outputs": [
    {
     "ename": "TypeError",
     "evalue": "'<' not supported between instances of 'list' and 'int'",
     "output_type": "error",
     "traceback": [
      "\u001b[0;31m---------------------------------------------------------------------------\u001b[0m",
      "\u001b[0;31mTypeError\u001b[0m                                 Traceback (most recent call last)",
      "\u001b[0;32m<ipython-input-5-6736e71f16fc>\u001b[0m in \u001b[0;36m<module>\u001b[0;34m\u001b[0m\n\u001b[0;32m----> 1\u001b[0;31m \u001b[0;34m[\u001b[0m\u001b[0;36m0\u001b[0m\u001b[0;34m]\u001b[0m\u001b[0;34m*\u001b[0m\u001b[0;36m5\u001b[0m \u001b[0;34m<\u001b[0m\u001b[0;36m2\u001b[0m\u001b[0;34m\u001b[0m\u001b[0;34m\u001b[0m\u001b[0m\n\u001b[0m",
      "\u001b[0;31mTypeError\u001b[0m: '<' not supported between instances of 'list' and 'int'"
     ]
    }
   ],
   "source": [
    "[0]*5 <2"
   ]
  },
  {
   "cell_type": "code",
   "execution_count": 31,
   "metadata": {},
   "outputs": [
    {
     "data": {
      "text/plain": [
       "(1+0j)"
      ]
     },
     "execution_count": 31,
     "metadata": {},
     "output_type": "execute_result"
    }
   ],
   "source": [
    "qutip.Qobj(np.array([1]*15))[3,0]"
   ]
  },
  {
   "cell_type": "code",
   "execution_count": 7,
   "metadata": {},
   "outputs": [],
   "source": [
    "F=qutip.Qobj(np.array([ 1.-1.56765159e-06j,-1.41421356+2.21699413e-06, 0.+0.00000000e+00j, 0.+0.00000000e+00j, 0.+0.00000000e+00j,-0.5+7.83825799e-07j,\n",
    " 0.+0.00000000e+00j,0.+0.00000000e+00j,0.+0.00000000e+00j,-0.5+7.83825794e-07j,0.+0.00000000e+00j,0.+0.00000000e+00j,0.5-7.83825766e-07j,0.+0.00000000e+00j,\n",
    " 0.5-7.83825801e-07j]))"
   ]
  },
  {
   "cell_type": "code",
   "execution_count": 8,
   "metadata": {},
   "outputs": [
    {
     "data": {
      "text/latex": [
       "Quantum object: dims = [[15], [1]], shape = (15, 1), type = ket\\begin{equation*}\\left(\\begin{array}{*{11}c}(1.0-1.568\\times10^{-06}j)\\\\-1.414\\\\0.0\\\\0.0\\\\0.0\\\\\\vdots\\\\0.0\\\\0.0\\\\(0.500-7.838\\times10^{-07}j)\\\\0.0\\\\(0.500-7.838\\times10^{-07}j)\\\\\\end{array}\\right)\\end{equation*}"
      ],
      "text/plain": [
       "Quantum object: dims = [[15], [1]], shape = (15, 1), type = ket\n",
       "Qobj data =\n",
       "[[ 1.        -1.56765159e-06j]\n",
       " [-1.41421134+0.00000000e+00j]\n",
       " [ 0.        +0.00000000e+00j]\n",
       " [ 0.        +0.00000000e+00j]\n",
       " [ 0.        +0.00000000e+00j]\n",
       " [-0.5       +7.83825799e-07j]\n",
       " [ 0.        +0.00000000e+00j]\n",
       " [ 0.        +0.00000000e+00j]\n",
       " [ 0.        +0.00000000e+00j]\n",
       " [-0.5       +7.83825794e-07j]\n",
       " [ 0.        +0.00000000e+00j]\n",
       " [ 0.        +0.00000000e+00j]\n",
       " [ 0.5       -7.83825766e-07j]\n",
       " [ 0.        +0.00000000e+00j]\n",
       " [ 0.5       -7.83825801e-07j]]"
      ]
     },
     "execution_count": 8,
     "metadata": {},
     "output_type": "execute_result"
    }
   ],
   "source": [
    "F"
   ]
  },
  {
   "cell_type": "code",
   "execution_count": 9,
   "metadata": {},
   "outputs": [],
   "source": [
    "W=qutip.Qobj(np.array([1,np.sqrt(2),0,0,0,1/2,0,0,0,1/2,0,0,1/2,0,1/2]))"
   ]
  },
  {
   "cell_type": "code",
   "execution_count": 10,
   "metadata": {},
   "outputs": [
    {
     "data": {
      "text/markdown": [
       "Integral in $\\alpha_{4}$  is divergent, integrand does not fulfill $Re(C_{44})<0$"
      ],
      "text/plain": [
       "<IPython.core.display.Markdown object>"
      ]
     },
     "metadata": {},
     "output_type": "display_data"
    },
    {
     "ename": "NameError",
     "evalue": "None",
     "output_type": "error",
     "traceback": [
      "\u001b[0;31m---------------------------------------------------------------------------\u001b[0m",
      "\u001b[0;31mNameError\u001b[0m                                 Traceback (most recent call last)",
      "\u001b[0;32m<ipython-input-10-768f08a95db5>\u001b[0m in \u001b[0;36m<module>\u001b[0;34m\u001b[0m\n\u001b[0;32m----> 1\u001b[0;31m \u001b[0minte\u001b[0m\u001b[0;34m.\u001b[0m\u001b[0moverlap2\u001b[0m\u001b[0;34m(\u001b[0m\u001b[0mF\u001b[0m\u001b[0;34m,\u001b[0m\u001b[0mW\u001b[0m\u001b[0;34m)\u001b[0m\u001b[0;34m\u001b[0m\u001b[0;34m\u001b[0m\u001b[0m\n\u001b[0m",
      "\u001b[0;32m/mnt/c/Users/gerar/Documents/GitHub/krotov/src/krotov/Integrals.py\u001b[0m in \u001b[0;36moverlap2\u001b[0;34m(vector1, vector2)\u001b[0m\n\u001b[1;32m   3024\u001b[0m     \u001b[0mB\u001b[0m\u001b[0;34m=\u001b[0m\u001b[0;34m[\u001b[0m\u001b[0;34m[\u001b[0m\u001b[0mvector2\u001b[0m\u001b[0;34m[\u001b[0m\u001b[0;36m5\u001b[0m\u001b[0;34m,\u001b[0m\u001b[0;36m0\u001b[0m\u001b[0;34m]\u001b[0m\u001b[0;34m,\u001b[0m\u001b[0mvector2\u001b[0m\u001b[0;34m[\u001b[0m\u001b[0;36m6\u001b[0m\u001b[0;34m,\u001b[0m\u001b[0;36m0\u001b[0m\u001b[0;34m]\u001b[0m\u001b[0;34m,\u001b[0m\u001b[0mvector2\u001b[0m\u001b[0;34m[\u001b[0m\u001b[0;36m7\u001b[0m\u001b[0;34m,\u001b[0m\u001b[0;36m0\u001b[0m\u001b[0;34m]\u001b[0m\u001b[0;34m,\u001b[0m\u001b[0mvector2\u001b[0m\u001b[0;34m[\u001b[0m\u001b[0;36m8\u001b[0m\u001b[0;34m,\u001b[0m\u001b[0;36m0\u001b[0m\u001b[0;34m]\u001b[0m\u001b[0;34m]\u001b[0m\u001b[0;34m,\u001b[0m\u001b[0;34m[\u001b[0m\u001b[0mvector2\u001b[0m\u001b[0;34m[\u001b[0m\u001b[0;36m6\u001b[0m\u001b[0;34m,\u001b[0m\u001b[0;36m0\u001b[0m\u001b[0;34m]\u001b[0m\u001b[0;34m,\u001b[0m\u001b[0mvector2\u001b[0m\u001b[0;34m[\u001b[0m\u001b[0;36m9\u001b[0m\u001b[0;34m,\u001b[0m\u001b[0;36m0\u001b[0m\u001b[0;34m]\u001b[0m\u001b[0;34m,\u001b[0m\u001b[0mvector2\u001b[0m\u001b[0;34m[\u001b[0m\u001b[0;36m10\u001b[0m\u001b[0;34m,\u001b[0m\u001b[0;36m0\u001b[0m\u001b[0;34m]\u001b[0m\u001b[0;34m,\u001b[0m\u001b[0mvector2\u001b[0m\u001b[0;34m[\u001b[0m\u001b[0;36m11\u001b[0m\u001b[0;34m,\u001b[0m\u001b[0;36m0\u001b[0m\u001b[0;34m]\u001b[0m\u001b[0;34m]\u001b[0m\u001b[0;34m,\u001b[0m\u001b[0;34m[\u001b[0m\u001b[0mvector2\u001b[0m\u001b[0;34m[\u001b[0m\u001b[0;36m7\u001b[0m\u001b[0;34m,\u001b[0m\u001b[0;36m0\u001b[0m\u001b[0;34m]\u001b[0m\u001b[0;34m,\u001b[0m\u001b[0mvector2\u001b[0m\u001b[0;34m[\u001b[0m\u001b[0;36m10\u001b[0m\u001b[0;34m,\u001b[0m\u001b[0;36m0\u001b[0m\u001b[0;34m]\u001b[0m\u001b[0;34m,\u001b[0m\u001b[0mvector2\u001b[0m\u001b[0;34m[\u001b[0m\u001b[0;36m12\u001b[0m\u001b[0;34m,\u001b[0m\u001b[0;36m0\u001b[0m\u001b[0;34m]\u001b[0m\u001b[0;34m,\u001b[0m\u001b[0mvector2\u001b[0m\u001b[0;34m[\u001b[0m\u001b[0;36m13\u001b[0m\u001b[0;34m,\u001b[0m\u001b[0;36m0\u001b[0m\u001b[0;34m]\u001b[0m\u001b[0;34m]\u001b[0m\u001b[0;34m,\u001b[0m\u001b[0;34m[\u001b[0m\u001b[0mvector2\u001b[0m\u001b[0;34m[\u001b[0m\u001b[0;36m8\u001b[0m\u001b[0;34m,\u001b[0m\u001b[0;36m0\u001b[0m\u001b[0;34m]\u001b[0m\u001b[0;34m,\u001b[0m\u001b[0mvector2\u001b[0m\u001b[0;34m[\u001b[0m\u001b[0;36m11\u001b[0m\u001b[0;34m,\u001b[0m\u001b[0;36m0\u001b[0m\u001b[0;34m]\u001b[0m\u001b[0;34m,\u001b[0m\u001b[0mvector2\u001b[0m\u001b[0;34m[\u001b[0m\u001b[0;36m13\u001b[0m\u001b[0;34m,\u001b[0m\u001b[0;36m0\u001b[0m\u001b[0;34m]\u001b[0m\u001b[0;34m,\u001b[0m\u001b[0mvector2\u001b[0m\u001b[0;34m[\u001b[0m\u001b[0;36m14\u001b[0m\u001b[0;34m,\u001b[0m\u001b[0;36m0\u001b[0m\u001b[0;34m]\u001b[0m\u001b[0;34m]\u001b[0m\u001b[0;34m]\u001b[0m\u001b[0;34m\u001b[0m\u001b[0;34m\u001b[0m\u001b[0m\n\u001b[1;32m   3025\u001b[0m     \u001b[0mS\u001b[0m\u001b[0;34m=\u001b[0m\u001b[0;34m[\u001b[0m\u001b[0mvector2\u001b[0m\u001b[0;34m[\u001b[0m\u001b[0mi\u001b[0m\u001b[0;34m,\u001b[0m\u001b[0;36m0\u001b[0m\u001b[0;34m]\u001b[0m \u001b[0;32mfor\u001b[0m \u001b[0mi\u001b[0m \u001b[0;32min\u001b[0m \u001b[0mrange\u001b[0m\u001b[0;34m(\u001b[0m\u001b[0;36m1\u001b[0m\u001b[0;34m,\u001b[0m\u001b[0;36m5\u001b[0m\u001b[0;34m)\u001b[0m\u001b[0;34m]\u001b[0m\u001b[0;34m\u001b[0m\u001b[0;34m\u001b[0m\u001b[0m\n\u001b[0;32m-> 3026\u001b[0;31m     \u001b[0mcondiciones\u001b[0m\u001b[0;34m(\u001b[0m\u001b[0mV\u001b[0m\u001b[0;34m,\u001b[0m\u001b[0mB\u001b[0m\u001b[0;34m,\u001b[0m\u001b[0mR\u001b[0m\u001b[0;34m,\u001b[0m\u001b[0mS\u001b[0m\u001b[0;34m)\u001b[0m\u001b[0;34m\u001b[0m\u001b[0;34m\u001b[0m\u001b[0m\n\u001b[0m\u001b[1;32m   3027\u001b[0m     \u001b[0ma\u001b[0m\u001b[0;34m=\u001b[0m\u001b[0ma1\u001b[0m\u001b[0;34m(\u001b[0m\u001b[0mV\u001b[0m\u001b[0;34m,\u001b[0m\u001b[0mB\u001b[0m\u001b[0;34m,\u001b[0m\u001b[0mR\u001b[0m\u001b[0;34m,\u001b[0m\u001b[0mS\u001b[0m\u001b[0;34m)\u001b[0m\u001b[0;34m\u001b[0m\u001b[0;34m\u001b[0m\u001b[0m\n\u001b[1;32m   3028\u001b[0m     \u001b[0mb\u001b[0m\u001b[0;34m=\u001b[0m\u001b[0ma2\u001b[0m\u001b[0;34m(\u001b[0m\u001b[0mV\u001b[0m\u001b[0;34m,\u001b[0m\u001b[0mB\u001b[0m\u001b[0;34m,\u001b[0m\u001b[0mR\u001b[0m\u001b[0;34m,\u001b[0m\u001b[0mS\u001b[0m\u001b[0;34m)\u001b[0m\u001b[0;34m\u001b[0m\u001b[0;34m\u001b[0m\u001b[0m\n",
      "\u001b[0;32m/mnt/c/Users/gerar/Documents/GitHub/krotov/src/krotov/Integrals.py\u001b[0m in \u001b[0;36mcondiciones\u001b[0;34m(V, B, R, S)\u001b[0m\n\u001b[1;32m   2983\u001b[0m                     \u001b[0;32mraise\u001b[0m \u001b[0mNameError\u001b[0m\u001b[0;34m(\u001b[0m\u001b[0;34m\"Divergencia en la integral 1\"\u001b[0m\u001b[0;34m)\u001b[0m\u001b[0;34m\u001b[0m\u001b[0;34m\u001b[0m\u001b[0m\n\u001b[1;32m   2984\u001b[0m             \u001b[0;32melse\u001b[0m\u001b[0;34m:\u001b[0m\u001b[0;34m\u001b[0m\u001b[0;34m\u001b[0m\u001b[0m\n\u001b[0;32m-> 2985\u001b[0;31m                \u001b[0;32mraise\u001b[0m \u001b[0mNameError\u001b[0m\u001b[0;34m(\u001b[0m\u001b[0mdisplay\u001b[0m\u001b[0;34m(\u001b[0m\u001b[0mMarkdown\u001b[0m\u001b[0;34m(\u001b[0m\u001b[0;34m'Integral in $\\\\alpha_{4}$  is divergent, integrand does not fulfill $Re(C_{44})<0$'\u001b[0m\u001b[0;34m)\u001b[0m\u001b[0;34m)\u001b[0m\u001b[0;34m)\u001b[0m\u001b[0;34m\u001b[0m\u001b[0;34m\u001b[0m\u001b[0m\n\u001b[0m\u001b[1;32m   2986\u001b[0m         \u001b[0;32melse\u001b[0m\u001b[0;34m:\u001b[0m\u001b[0;34m\u001b[0m\u001b[0;34m\u001b[0m\u001b[0m\n\u001b[1;32m   2987\u001b[0m             \u001b[0;32mraise\u001b[0m \u001b[0mNameError\u001b[0m\u001b[0;34m(\u001b[0m\u001b[0mdisplay\u001b[0m\u001b[0;34m(\u001b[0m\u001b[0mMarkdown\u001b[0m\u001b[0;34m(\u001b[0m\u001b[0;34m'Integral in $\\\\alpha_{4}$  is divergent, integrand does not fulfill $Re(C_{44})<0$'\u001b[0m\u001b[0;34m)\u001b[0m\u001b[0;34m)\u001b[0m\u001b[0;34m)\u001b[0m\u001b[0;34m\u001b[0m\u001b[0;34m\u001b[0m\u001b[0m\n",
      "\u001b[0;31mNameError\u001b[0m: None"
     ]
    }
   ],
   "source": [
    "inte.overlap2(F,W)"
   ]
  },
  {
   "cell_type": "code",
   "execution_count": 26,
   "metadata": {},
   "outputs": [
    {
     "data": {
      "text/plain": [
       "array([0. , 0.5, 1. , 1.5, 2. ])"
      ]
     },
     "execution_count": 26,
     "metadata": {},
     "output_type": "execute_result"
    }
   ],
   "source": [
    "start=0\n",
    "step=0.5\n",
    "num=5\n",
    "\n",
    "result=np.arange(0,num)*step+start\n",
    "\n",
    "result"
   ]
  },
  {
   "cell_type": "code",
   "execution_count": null,
   "metadata": {},
   "outputs": [],
   "source": []
  },
  {
   "cell_type": "code",
   "execution_count": 27,
   "metadata": {},
   "outputs": [
    {
     "name": "stdout",
     "output_type": "stream",
     "text": [
      "0.5 0.0 0\n",
      "1.0 0.0 1\n",
      "1.5 0.5 1\n",
      "2.0 0.0 2\n",
      "2.5 0.5 2\n",
      "3.0 1.0 2\n",
      "3.5 0.0 3\n",
      "4.0 0.5 3\n",
      "4.5 1.0 3\n",
      "5.0 1.5 3\n"
     ]
    },
    {
     "data": {
      "text/plain": [
       "5.0"
      ]
     },
     "execution_count": 27,
     "metadata": {},
     "output_type": "execute_result"
    }
   ],
   "source": [
    "suma=0\n",
    "for time_index in range(len(result) - 1):\n",
    "    for i in result:\n",
    "        if result[time_index]>=i:\n",
    "            suma+=0.5\n",
    "            print(suma,i,time_index)\n",
    "suma"
   ]
  },
  {
   "cell_type": "code",
   "execution_count": 7,
   "metadata": {},
   "outputs": [
    {
     "ename": "NameError",
     "evalue": "name '_nested_list_shallow_copy' is not defined",
     "output_type": "error",
     "traceback": [
      "\u001b[0;31m---------------------------------------------------------------------------\u001b[0m",
      "\u001b[0;31mNameError\u001b[0m                                 Traceback (most recent call last)",
      "\u001b[0;32m<ipython-input-7-6bac4380e475>\u001b[0m in \u001b[0;36m<module>\u001b[0;34m\u001b[0m\n\u001b[0;32m----> 1\u001b[0;31m \u001b[0m_nested_list_shallow_copy\u001b[0m\u001b[0;34m(\u001b[0m\u001b[0;34m[\u001b[0m\u001b[0;34m'Ha'\u001b[0m\u001b[0;34m,\u001b[0m\u001b[0;34m[\u001b[0m\u001b[0;34m'Hb'\u001b[0m\u001b[0;34m]\u001b[0m\u001b[0;34m]\u001b[0m\u001b[0;34m)\u001b[0m\u001b[0;34m\u001b[0m\u001b[0;34m\u001b[0m\u001b[0m\n\u001b[0m",
      "\u001b[0;31mNameError\u001b[0m: name '_nested_list_shallow_copy' is not defined"
     ]
    }
   ],
   "source": [
    "_nested_list_shallow_copy(['Ha',['Hb']])"
   ]
  },
  {
   "cell_type": "code",
   "execution_count": 4,
   "metadata": {},
   "outputs": [],
   "source": [
    "def suma(a,b,c=12):\n",
    "    return a+b+c"
   ]
  },
  {
   "cell_type": "code",
   "execution_count": 6,
   "metadata": {},
   "outputs": [
    {
     "data": {
      "text/plain": [
       "4"
      ]
     },
     "execution_count": 6,
     "metadata": {},
     "output_type": "execute_result"
    }
   ],
   "source": [
    "suma(1,2,1)"
   ]
  },
  {
   "cell_type": "code",
   "execution_count": 6,
   "metadata": {},
   "outputs": [
    {
     "name": "stdout",
     "output_type": "stream",
     "text": [
      "10.0\n"
     ]
    }
   ],
   "source": [
    "def f1(x):\n",
    "   return x**2\n",
    "\n",
    "def f2(x):\n",
    "   return x**3\n",
    "\n",
    "x = np.array([1,3,4])\n",
    "y1 = f1(x)\n",
    "from scipy.integrate import simpson\n",
    "I1 = simpson(y1[:2], x[:2])\n",
    "print(I1)"
   ]
  },
  {
   "cell_type": "code",
   "execution_count": 6,
   "metadata": {},
   "outputs": [
    {
     "data": {
      "text/plain": [
       "array([1, 3, 4])"
      ]
     },
     "execution_count": 6,
     "metadata": {},
     "output_type": "execute_result"
    }
   ],
   "source": [
    "x"
   ]
  },
  {
   "cell_type": "code",
   "execution_count": 8,
   "metadata": {},
   "outputs": [
    {
     "data": {
      "text/plain": [
       "array([ 1,  9, 16])"
      ]
     },
     "execution_count": 8,
     "metadata": {},
     "output_type": "execute_result"
    }
   ],
   "source": [
    "y1"
   ]
  },
  {
   "cell_type": "code",
   "execution_count": 6,
   "metadata": {},
   "outputs": [],
   "source": [
    "z=[np.array([-1.38777878e-25,  1.00000000e-08,  1.00000000e-08,  1.00000000e-08,\n",
    "        1.00000000e-08,  1.00000000e-08,  1.00000000e-08,  1.00000000e-08,\n",
    "        1.00000000e-08,  1.00000000e-08,  1.00000000e-08,  1.00000000e-08,\n",
    "        1.00000000e-08,  1.00000000e-08,  1.00000000e-08,  1.00000000e-08,\n",
    "        1.00000000e-08,  1.00000000e-08,  1.00000000e-08,  1.00000000e-08,\n",
    "        1.00000000e-08,  1.00000000e-08,  1.00000000e-08,  1.00000000e-08,\n",
    "        1.00000000e-08,  1.00000000e-08,  1.00000000e-08,  1.00000000e-08,\n",
    "        1.00000000e-08,  1.00000000e-08,  1.00000000e-08,  1.00000000e-08,\n",
    "        1.00000000e-08,  1.00000000e-08,  1.00000000e-08,  1.00000000e-08,\n",
    "        1.00000000e-08,  1.00000000e-08,  1.00000000e-08,  1.00000000e-08,\n",
    "        1.00000000e-08,  1.00000000e-08,  1.00000000e-08,  1.00000000e-08,\n",
    "        1.00000000e-08,  1.00000000e-08,  1.00000000e-08,  1.00000000e-08,\n",
    "       -1.38777878e-25])]"
   ]
  },
  {
   "cell_type": "code",
   "execution_count": 7,
   "metadata": {},
   "outputs": [
    {
     "data": {
      "text/plain": [
       "array([-1.38777878e-25,  1.00000000e-08,  1.00000000e-08,  1.00000000e-08,\n",
       "        1.00000000e-08,  1.00000000e-08,  1.00000000e-08,  1.00000000e-08,\n",
       "        1.00000000e-08,  1.00000000e-08,  1.00000000e-08,  1.00000000e-08,\n",
       "        1.00000000e-08,  1.00000000e-08,  1.00000000e-08,  1.00000000e-08,\n",
       "        1.00000000e-08,  1.00000000e-08,  1.00000000e-08,  1.00000000e-08,\n",
       "        1.00000000e-08,  1.00000000e-08,  1.00000000e-08,  1.00000000e-08,\n",
       "        1.00000000e-08,  1.00000000e-08,  1.00000000e-08,  1.00000000e-08,\n",
       "        1.00000000e-08,  1.00000000e-08,  1.00000000e-08,  1.00000000e-08,\n",
       "        1.00000000e-08,  1.00000000e-08,  1.00000000e-08,  1.00000000e-08,\n",
       "        1.00000000e-08,  1.00000000e-08,  1.00000000e-08,  1.00000000e-08,\n",
       "        1.00000000e-08,  1.00000000e-08,  1.00000000e-08,  1.00000000e-08,\n",
       "        1.00000000e-08,  1.00000000e-08,  1.00000000e-08,  1.00000000e-08,\n",
       "       -1.38777878e-25])"
      ]
     },
     "execution_count": 7,
     "metadata": {},
     "output_type": "execute_result"
    }
   ],
   "source": [
    "z[0]"
   ]
  },
  {
   "cell_type": "code",
   "execution_count": 7,
   "metadata": {},
   "outputs": [],
   "source": [
    "x=[-1.38777878e-25,  1.00000000e-08 , 1.00000000e-08 , 1.00000000e-08,\n",
    "  1.00000000e-08 , 1.00000000e-08,  1.00000000e-08,  1.00000000e-08,\n",
    "  1.00000000e-08 , 1.00000000e-08,  1.00000000e-08 , 1.00000000e-08,\n",
    "  1.00000000e-08 , 1.00000000e-08 , 1.00000000e-08, 1.00000000e-08,\n",
    "  1.00000000e-08,  1.00000000e-08 , 1.00000000e-08 , 1.00000000e-08,\n",
    "  1.00000000e-08 , 1.00000000e-08 , 1.00000000e-08 , 1.00000000e-08,\n",
    "  1.00000000e-08 , 1.00000000e-08 , 1.00000000e-08 , 1.00000000e-08,\n",
    "  1.00000000e-08 , 1.00000000e-08 , 1.00000000e-08 , 1.00000000e-08,\n",
    "  1.00000000e-08 , 1.00000000e-08  ,1.00000000e-08 , 1.00000000e-08,\n",
    "  1.00000000e-08,  1.00000000e-08 , 1.00000000e-08 , 1.00000000e-08,\n",
    "  1.00000000e-08 , 1.00000000e-08 , 1.00000000e-08 , 1.00000000e-08,\n",
    "  1.00000000e-08 , 1.00000000e-08  ,1.00000000e-08 , 1.00000000e-08,\n",
    " -1.38777878e-25]\n",
    "y=[0.      ,   0.20408163, 0.40816327, 0.6122449 , 0.81632653, 1.02040816,\n",
    " 1.2244898 , 1.42857143, 1.63265306, 1.83673469, 2.04081633, 2.24489796,\n",
    " 2.44897959, 2.65306122, 2.85714286, 3.06122449, 3.26530612, 3.46938776,\n",
    " 3.67346939 ,3.87755102, 4.08163265, 4.28571429, 4.48979592, 4.69387755,\n",
    " 4.89795918 ,5.10204082, 5.30612245, 5.51020408, 5.71428571, 5.91836735,\n",
    " 6.12244898, 6.32653061, 6.53061224, 6.73469388, 6.93877551, 7.14285714,\n",
    " 7.34693878, 7.55102041, 7.75510204, 7.95918367, 8.16326531, 8.36734694,\n",
    " 8.57142857,8.7755102,  8.97959184, 9.18367347 ,9.3877551 , 9.59183673,\n",
    " 9.79591837]"
   ]
  },
  {
   "cell_type": "code",
   "execution_count": 8,
   "metadata": {},
   "outputs": [],
   "source": [
    "x=np.array(x)\n",
    "y=np.array(y)"
   ]
  },
  {
   "cell_type": "code",
   "execution_count": 11,
   "metadata": {},
   "outputs": [
    {
     "data": {
      "text/plain": [
       "0.0"
      ]
     },
     "execution_count": 11,
     "metadata": {},
     "output_type": "execute_result"
    }
   ],
   "source": [
    "simpson(x[:1],y[:1])"
   ]
  },
  {
   "cell_type": "code",
   "execution_count": 10,
   "metadata": {},
   "outputs": [
    {
     "data": {
      "text/plain": [
       "3"
      ]
     },
     "execution_count": 10,
     "metadata": {},
     "output_type": "execute_result"
    }
   ],
   "source": []
  },
  {
   "cell_type": "code",
   "execution_count": 30,
   "metadata": {},
   "outputs": [],
   "source": [
    "HA = qutip.Qobj(H0(g,gamma,Nb))\n",
    "H1= qutip.Qobj(He(mu))"
   ]
  },
  {
   "cell_type": "code",
   "execution_count": 31,
   "metadata": {},
   "outputs": [
    {
     "data": {
      "text/latex": [
       "Quantum object: dims = [[15], [15]], shape = (15, 15), type = oper, isherm = False\\begin{equation*}\\left(\\begin{array}{*{11}c}0.0 & 0.0 & 0.0 & 0.0 & 0.0 & \\cdots & 0.0 & 0.0 & 0.0 & 0.0 & 0.0\\\\0.0 & 0.125 & 0.0 & -1.0 & -0.200 & \\cdots & 0.0 & 0.0 & 0.0 & 0.0 & 0.0\\\\0.0 & 0.0 & 0.0 & -0.200 & -1.0 & \\cdots & 0.0 & 0.0 & 0.0 & 0.0 & 0.0\\\\0.0 & 1.0 & 0.200 & 0.125 & 0.0 & \\cdots & 0.0 & 0.0 & 0.0 & 0.0 & 0.0\\\\0.0 & 0.200 & 1.0 & 0.0 & 0.0 & \\cdots & 0.0 & 0.0 & 0.0 & 0.0 & 0.0\\\\\\vdots & \\vdots & \\vdots & \\vdots & \\vdots & \\ddots & \\vdots & \\vdots & \\vdots & \\vdots & \\vdots\\\\0.0 & 0.0 & 0.0 & 0.0 & 0.0 & \\cdots & 0.125 & 0.0 & -0.200 & -1.0 & 0.0\\\\0.0 & 0.0 & 0.0 & 0.0 & 0.0 & \\cdots & 0.0 & 0.0 & 0.0 & -0.200 & -1.0\\\\-0.625 & 0.0 & 0.0 & 0.0 & 0.0 & \\cdots & 0.400 & 0.0 & 0.250 & 0.0 & 0.0\\\\0.0 & 0.0 & 0.0 & 0.0 & 0.0 & \\cdots & 1.0 & 0.200 & 0.0 & 0.125 & 0.0\\\\0.0 & 0.0 & 0.0 & 0.0 & 0.0 & \\cdots & 0.0 & 2.0 & 0.0 & 0.0 & 0.0\\\\\\end{array}\\right)\\end{equation*}"
      ],
      "text/plain": [
       "Quantum object: dims = [[15], [15]], shape = (15, 15), type = oper, isherm = False\n",
       "Qobj data =\n",
       "[[ 0.     0.     0.     0.     0.     0.     0.     0.     0.     0.\n",
       "   0.     0.     0.     0.     0.   ]\n",
       " [ 0.     0.125  0.    -1.    -0.2    0.     0.     0.     0.     0.\n",
       "   0.     0.     0.     0.     0.   ]\n",
       " [ 0.     0.     0.    -0.2   -1.     0.     0.     0.     0.     0.\n",
       "   0.     0.     0.     0.     0.   ]\n",
       " [ 0.     1.     0.2    0.125  0.     0.     0.     0.     0.     0.\n",
       "   0.     0.     0.     0.     0.   ]\n",
       " [ 0.     0.2    1.     0.     0.     0.     0.     0.     0.     0.\n",
       "   0.     0.     0.     0.     0.   ]\n",
       " [-0.625  0.     0.     0.     0.     0.25   0.    -2.    -0.4    0.\n",
       "   0.     0.     0.     0.     0.   ]\n",
       " [ 0.     0.     0.     0.     0.     0.     0.125 -0.2   -1.     0.\n",
       "  -1.    -0.2    0.     0.     0.   ]\n",
       " [ 0.     0.     0.     0.     0.     1.     0.2    0.25   0.     0.\n",
       "   0.     0.    -1.    -0.2    0.   ]\n",
       " [ 0.     0.     0.     0.     0.     0.2    1.     0.     0.125  0.\n",
       "   0.     0.     0.    -1.    -0.2  ]\n",
       " [ 0.     0.     0.     0.     0.     0.     0.     0.     0.     0.\n",
       "  -0.4   -2.     0.     0.     0.   ]\n",
       " [ 0.     0.     0.     0.     0.     0.     1.     0.     0.     0.2\n",
       "   0.125  0.    -0.2   -1.     0.   ]\n",
       " [ 0.     0.     0.     0.     0.     0.     0.2    0.     0.     1.\n",
       "   0.     0.     0.    -0.2   -1.   ]\n",
       " [-0.625  0.     0.     0.     0.     0.     0.     2.     0.     0.\n",
       "   0.4    0.     0.25   0.     0.   ]\n",
       " [ 0.     0.     0.     0.     0.     0.     0.     0.2    1.     0.\n",
       "   1.     0.2    0.     0.125  0.   ]\n",
       " [ 0.     0.     0.     0.     0.     0.     0.     0.     0.4    0.\n",
       "   0.     2.     0.     0.     0.   ]]"
      ]
     },
     "execution_count": 31,
     "metadata": {},
     "output_type": "execute_result"
    }
   ],
   "source": [
    "HA*t"
   ]
  },
  {
   "cell_type": "code",
   "execution_count": 32,
   "metadata": {},
   "outputs": [
    {
     "data": {
      "text/latex": [
       "Quantum object: dims = [[15], [15]], shape = (15, 15), type = oper, isherm = False\\begin{equation*}\\left(\\begin{array}{*{11}c}0.0 & 0.0 & 0.0 & 0.0 & 0.0 & \\cdots & 0.0 & 0.0 & 0.0 & 0.0 & 0.0\\\\0.0 & 0.0 & 0.0 & 0.0 & 0.0 & \\cdots & 0.0 & 0.0 & 0.0 & 0.0 & 0.0\\\\0.0 & 0.0 & 0.0 & 0.0 & 0.0 & \\cdots & 0.0 & 0.0 & 0.0 & 0.0 & 0.0\\\\-0.707 & 0.0 & 0.0 & 0.0 & 0.0 & \\cdots & 0.0 & 0.0 & 0.0 & 0.0 & 0.0\\\\0.0 & 0.0 & 0.0 & 0.0 & 0.0 & \\cdots & 0.0 & 0.0 & 0.0 & 0.0 & 0.0\\\\\\vdots & \\vdots & \\vdots & \\vdots & \\vdots & \\ddots & \\vdots & \\vdots & \\vdots & \\vdots & \\vdots\\\\0.0 & 0.0 & 0.0 & 0.0 & 0.0 & \\cdots & 0.0 & 0.0 & 0.0 & 0.0 & 0.0\\\\0.0 & 0.0 & 0.0 & 0.0 & 0.0 & \\cdots & 0.0 & 0.0 & 0.0 & 0.0 & 0.0\\\\0.0 & 0.0 & 0.0 & 0.0 & 0.0 & \\cdots & 0.0 & 0.0 & 0.0 & 0.0 & 0.0\\\\0.0 & 0.0 & 0.0 & 0.0 & 0.0 & \\cdots & 0.0 & 0.0 & 0.0 & 0.0 & 0.0\\\\0.0 & 0.0 & 0.0 & 0.0 & 0.0 & \\cdots & 0.0 & 0.0 & 0.0 & 0.0 & 0.0\\\\\\end{array}\\right)\\end{equation*}"
      ],
      "text/plain": [
       "Quantum object: dims = [[15], [15]], shape = (15, 15), type = oper, isherm = False\n",
       "Qobj data =\n",
       "[[ 0.          0.          0.          0.          0.          0.\n",
       "   0.          0.          0.          0.          0.          0.\n",
       "   0.          0.          0.        ]\n",
       " [ 0.          0.          0.          0.          0.          0.\n",
       "   0.          0.          0.          0.          0.          0.\n",
       "   0.          0.          0.        ]\n",
       " [ 0.          0.          0.          0.          0.          0.\n",
       "   0.          0.          0.          0.          0.          0.\n",
       "   0.          0.          0.        ]\n",
       " [-0.70710678  0.          0.          0.          0.          0.\n",
       "   0.          0.          0.          0.          0.          0.\n",
       "   0.          0.          0.        ]\n",
       " [ 0.          0.          0.          0.          0.          0.\n",
       "   0.          0.          0.          0.          0.          0.\n",
       "   0.          0.          0.        ]\n",
       " [ 0.          0.          0.          0.          0.          0.\n",
       "   0.          0.          0.          0.          0.          0.\n",
       "   0.          0.          0.        ]\n",
       " [ 0.          0.          0.          0.          0.          0.\n",
       "   0.          0.          0.          0.          0.          0.\n",
       "   0.          0.          0.        ]\n",
       " [ 0.          0.          0.          0.          0.          0.\n",
       "   0.          0.          0.          0.          0.          0.\n",
       "   0.          0.          0.        ]\n",
       " [ 0.          0.          0.          0.          0.          0.\n",
       "   0.          0.          0.          0.          0.          0.\n",
       "   0.          0.          0.        ]\n",
       " [ 0.          0.          0.          0.          0.          0.\n",
       "   0.          0.          0.          0.          0.          0.\n",
       "   0.          0.          0.        ]\n",
       " [ 0.          0.          0.          0.          0.          0.\n",
       "   0.          0.          0.          0.          0.          0.\n",
       "   0.          0.          0.        ]\n",
       " [ 0.          0.          0.          0.          0.          0.\n",
       "   0.          0.          0.          0.          0.          0.\n",
       "   0.          0.          0.        ]\n",
       " [ 0.          0.          0.          0.          0.          0.\n",
       "   0.          0.          0.          0.          0.          0.\n",
       "   0.          0.          0.        ]\n",
       " [ 0.          0.          0.          0.          0.          0.\n",
       "   0.          0.          0.          0.          0.          0.\n",
       "   0.          0.          0.        ]\n",
       " [ 0.          0.          0.          0.          0.          0.\n",
       "   0.          0.          0.          0.          0.          0.\n",
       "   0.          0.          0.        ]]"
      ]
     },
     "execution_count": 32,
     "metadata": {},
     "output_type": "execute_result"
    }
   ],
   "source": [
    "H1"
   ]
  },
  {
   "cell_type": "code",
   "execution_count": 4,
   "metadata": {},
   "outputs": [],
   "source": [
    "z=qutip.Qobj(np.array([1,1,1]))"
   ]
  },
  {
   "cell_type": "code",
   "execution_count": 3,
   "metadata": {},
   "outputs": [
    {
     "ename": "NameError",
     "evalue": "name 'z' is not defined",
     "output_type": "error",
     "traceback": [
      "\u001b[0;31m---------------------------------------------------------------------------\u001b[0m",
      "\u001b[0;31mNameError\u001b[0m                                 Traceback (most recent call last)",
      "\u001b[0;32m<ipython-input-3-a7513518df35>\u001b[0m in \u001b[0;36m<module>\u001b[0;34m\u001b[0m\n\u001b[0;32m----> 1\u001b[0;31m \u001b[0mz\u001b[0m\u001b[0;34m-=\u001b[0m\u001b[0mqutip\u001b[0m\u001b[0;34m.\u001b[0m\u001b[0mQobj\u001b[0m\u001b[0;34m(\u001b[0m\u001b[0mnp\u001b[0m\u001b[0;34m.\u001b[0m\u001b[0marray\u001b[0m\u001b[0;34m(\u001b[0m\u001b[0;34m[\u001b[0m\u001b[0;36m2\u001b[0m\u001b[0;34m,\u001b[0m\u001b[0;36m2\u001b[0m\u001b[0;34m,\u001b[0m\u001b[0;36m2\u001b[0m\u001b[0;34m]\u001b[0m\u001b[0;34m)\u001b[0m\u001b[0;34m)\u001b[0m\u001b[0;34m\u001b[0m\u001b[0;34m\u001b[0m\u001b[0m\n\u001b[0m",
      "\u001b[0;31mNameError\u001b[0m: name 'z' is not defined"
     ]
    }
   ],
   "source": [
    "z-=qutip.Qobj(np.array([2,2,2]))"
   ]
  },
  {
   "cell_type": "code",
   "execution_count": 64,
   "metadata": {},
   "outputs": [
    {
     "data": {
      "text/plain": [
       "1.7690816562208416"
      ]
     },
     "execution_count": 64,
     "metadata": {},
     "output_type": "execute_result"
    }
   ],
   "source": [
    "vector=opt_result.states\n",
    "def Ratio(vector,w0):\n",
    "    psi=vector[0]\n",
    "    Energy=np.zeros(nt)\n",
    "    Ergotropy=np.zeros(nt)\n",
    "    for i in range (0,nt):\n",
    "        vec,covar=conversion(psi[i])\n",
    "        Energy[i]=1/2*(w0**2*np.real(covar[2,2])+np.real(covar[3,3])+w0**2*(np.real(vec[2]))**2+(np.real(vec[3]))**2)-1/2\n",
    "        D=np.real((1+2/w0*np.real(Energy[i])-w0*np.abs(np.real(vec[2])+1j*np.real(vec[3]))**2)**2-4*np.abs(w0*1/2*(np.real(covar[2,2])+np.real(vec[2])**2-1/(w0**2)*(np.real(covar[3,3])+np.real(vec[3])**2))+1j*(np.real(covar[2,3])+np.real(vec[2])*np.real(vec[3])))-w0/2*(np.real(vec[2])+1j/w0*np.real(vec[3]))**2)**2\n",
    "        Ergotropy[i]=np.real(Energy[i]-(np.sqrt(D)-1)/2)\n",
    "    return Energy[nt-1]#Ergotropy[nt-1]/Energy[nt-1]\n",
    "Ratio(vector,1)"
   ]
  },
  {
   "cell_type": "code",
   "execution_count": 65,
   "metadata": {},
   "outputs": [],
   "source": [
    "p=opt_result.states[0][-1]"
   ]
  },
  {
   "cell_type": "code",
   "execution_count": 66,
   "metadata": {},
   "outputs": [],
   "source": [
    "vec,covar=conversion(p)"
   ]
  },
  {
   "cell_type": "code",
   "execution_count": 67,
   "metadata": {},
   "outputs": [
    {
     "data": {
      "text/plain": [
       "(0.9080971662837207+0j)"
      ]
     },
     "execution_count": 67,
     "metadata": {},
     "output_type": "execute_result"
    }
   ],
   "source": [
    "(vec[1]**2 +vec[3]**2)/2 + (covar[1,1]+covar[3,3])/2 - 1/2"
   ]
  },
  {
   "cell_type": "code",
   "execution_count": 70,
   "metadata": {
    "scrolled": true
   },
   "outputs": [
    {
     "data": {
      "text/plain": [
       "array([[ 5.00000000e-01+0.j,  1.94431331e-16+0.j,  5.18248638e-15+0.j,\n",
       "        -1.62057867e-14+0.j],\n",
       "       [ 1.94431331e-16+0.j,  5.00000000e-01+0.j, -2.55351296e-15+0.j,\n",
       "        -9.10035935e-15+0.j],\n",
       "       [ 5.18248638e-15+0.j, -2.55351296e-15+0.j,  5.00000000e-01+0.j,\n",
       "         1.88071780e-13+0.j],\n",
       "       [-1.62057867e-14+0.j, -9.10035935e-15+0.j,  1.88071780e-13+0.j,\n",
       "         5.00000000e-01+0.j]])"
      ]
     },
     "execution_count": 70,
     "metadata": {},
     "output_type": "execute_result"
    }
   ],
   "source": [
    "covar"
   ]
  },
  {
   "cell_type": "code",
   "execution_count": 69,
   "metadata": {},
   "outputs": [
    {
     "data": {
      "text/plain": [
       "[(-0.0038351459457105566+0j),\n",
       " (0.011309772923643432+0j),\n",
       " (1.312286893494596+0j),\n",
       " (1.3476150865896526+0j)]"
      ]
     },
     "execution_count": 69,
     "metadata": {},
     "output_type": "execute_result"
    }
   ],
   "source": [
    "vec"
   ]
  },
  {
   "cell_type": "code",
   "execution_count": null,
   "metadata": {},
   "outputs": [],
   "source": []
  },
  {
   "cell_type": "code",
   "execution_count": 53,
   "metadata": {},
   "outputs": [],
   "source": [
    "initial_state=np.array(['c','x1','x2','p1','p2','x1**2','x1x2','x1p1','x1p2','x2**2','x2p1','x2p2','p1**2','p1p2','p2**2'])\n"
   ]
  },
  {
   "cell_type": "code",
   "execution_count": null,
   "metadata": {},
   "outputs": [],
   "source": []
  }
 ],
 "metadata": {
  "@webio": {
   "lastCommId": null,
   "lastKernelId": null
  },
  "colab": {
   "collapsed_sections": [],
   "name": "Non-dissipative, Time=pi/g, g=0.2*omega.ipynb",
   "provenance": []
  },
  "kernelspec": {
   "display_name": "Python 3",
   "language": "python",
   "name": "python3"
  },
  "language_info": {
   "codemirror_mode": {
    "name": "ipython",
    "version": 3
   },
   "file_extension": ".py",
   "mimetype": "text/x-python",
   "name": "python",
   "nbconvert_exporter": "python",
   "pygments_lexer": "ipython3",
   "version": "3.9.1"
  }
 },
 "nbformat": 4,
 "nbformat_minor": 1
}
