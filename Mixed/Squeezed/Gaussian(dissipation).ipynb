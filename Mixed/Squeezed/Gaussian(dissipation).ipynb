{
 "cells": [
  {
   "cell_type": "markdown",
   "metadata": {
    "id": "yDOMJ1RpdP8F"
   },
   "source": [
    "# Optimization of a State-to-State Transfer for a Quantum Charger-Battery Driven by Laser Field Using Krotov's Method"
   ]
  },
  {
   "cell_type": "markdown",
   "metadata": {
    "id": "tp3TsOLZlINM"
   },
   "source": []
  },
  {
   "cell_type": "code",
   "execution_count": 20,
   "metadata": {},
   "outputs": [
    {
     "name": "stdout",
     "output_type": "stream",
     "text": [
      "Collecting dill\n",
      "  Using cached dill-0.3.4-py2.py3-none-any.whl (86 kB)\n",
      "Installing collected packages: dill\n"
     ]
    },
    {
     "name": "stderr",
     "output_type": "stream",
     "text": [
      "ERROR: Could not install packages due to an OSError: [Errno 13] Permission denied: 'c:\\\\python39\\\\Scripts\\\\get_objgraph'\n",
      "Consider using the `--user` option or check the permissions.\n",
      "\n",
      "WARNING: You are using pip version 21.1.1; however, version 22.0.4 is available.\n",
      "You should consider upgrading via the 'c:\\python39\\python.exe -m pip install --upgrade pip' command.\n"
     ]
    }
   ],
   "source": [
    "!pip install dill"
   ]
  },
  {
   "cell_type": "code",
   "execution_count": 2,
   "metadata": {
    "id": "YwFSPufgdP8T"
   },
   "outputs": [],
   "source": [
    "# NBVAL_IGNORE_OUTPUT\n",
    "import qutip\n",
    "import numpy as np\n",
    "import scipy\n",
    "import matplotlib\n",
    "import matplotlib.pylab as plt\n",
    "from src import krotov\n",
    "from src.krotov import fidelity_sq as inte\n",
    "\n",
    "\n"
   ]
  },
  {
   "cell_type": "markdown",
   "metadata": {
    "id": "MO1oqm_IdP8V"
   },
   "source": [
    "$\\newcommand{tr}[0]{\\operatorname{tr}}\n",
    "\\newcommand{diag}[0]{\\operatorname{diag}}\n",
    "\\newcommand{abs}[0]{\\operatorname{abs}}\n",
    "\\newcommand{pop}[0]{\\operatorname{pop}}\n",
    "\\newcommand{aux}[0]{\\text{aux}}\n",
    "\\newcommand{opt}[0]{\\text{opt}}\n",
    "\\newcommand{tgt}[0]{\\text{tgt}}\n",
    "\\newcommand{init}[0]{\\text{init}}\n",
    "\\newcommand{lab}[0]{\\text{lab}}\n",
    "\\newcommand{rwa}[0]{\\text{rwa}}\n",
    "\\newcommand{bra}[1]{\\langle#1\\vert}\n",
    "\\newcommand{ket}[1]{\\vert#1\\rangle}\n",
    "\\newcommand{Bra}[1]{\\left\\langle#1\\right\\vert}\n",
    "\\newcommand{Ket}[1]{\\left\\vert#1\\right\\rangle}\n",
    "\\newcommand{Braket}[2]{\\left\\langle #1\\vphantom{#2}\\mid{#2}\\vphantom{#1}\\right\\rangle}\n",
    "\\newcommand{op}[1]{\\hat{#1}}\n",
    "\\newcommand{Op}[1]{\\hat{#1}}\n",
    "\\newcommand{dd}[0]{\\,\\text{d}}\n",
    "\\newcommand{Liouville}[0]{\\mathcal{L}}\n",
    "\\newcommand{DynMap}[0]{\\mathcal{E}}\n",
    "\\newcommand{identity}[0]{\\mathbf{1}}\n",
    "\\newcommand{Norm}[1]{\\lVert#1\\rVert}\n",
    "\\newcommand{Abs}[1]{\\left\\vert#1\\right\\vert}\n",
    "\\newcommand{avg}[1]{\\langle#1\\rangle}\n",
    "\\newcommand{Avg}[1]{\\left\\langle#1\\right\\rangle}\n",
    "\\newcommand{AbsSq}[1]{\\left\\vert#1\\right\\vert^2}\n",
    "\\newcommand{Re}[0]{\\operatorname{Re}}\n",
    "\\newcommand{Im}[0]{\\operatorname{Im}}$\n",
    "\n",
    "This first example illustrates the basic use of the `krotov` package by solving\n",
    "a simple canonical optimization problem: the transfer of population in a two\n",
    "level system."
   ]
  },
  {
   "cell_type": "markdown",
   "metadata": {
    "id": "jUiMagksdP8W"
   },
   "source": [
    "## Hamiltonian"
   ]
  },
  {
   "cell_type": "code",
   "execution_count": 3,
   "metadata": {},
   "outputs": [],
   "source": [
    "import dill \n",
    "dill.settings['recurse'] = True\n",
    "\n",
    "H0=dill.load(open(\"H_0\", \"rb\"))\n",
    "He=dill.load(open(\"H_campo\",\"rb\"))"
   ]
  },
  {
   "cell_type": "markdown",
   "metadata": {},
   "source": [
    "g=0.2, T=100,target= np.sqrt(2), np.sqrt(2),0,5 * np.sqrt(2), nt=100 it is good"
   ]
  },
  {
   "cell_type": "code",
   "execution_count": 5,
   "metadata": {
    "scrolled": false
   },
   "outputs": [
    {
     "name": "stdout",
     "output_type": "stream",
     "text": [
      "iter.      J_T    ∫gₐ(t)dt          J       ΔJ_T         ΔJ  secs\n",
      "0     8.90e-01    0.00e+00   8.90e-01        n/a        n/a     0\n",
      "1     8.87e-01    7.91e-05   8.87e-01  -2.47e-03  -2.39e-03     0\n",
      "2     8.85e-01    8.58e-05   8.85e-01  -2.57e-03  -2.48e-03     0\n",
      "3     8.82e-01    9.32e-05   8.82e-01  -2.67e-03  -2.57e-03     0\n",
      "4     8.79e-01    1.02e-04   8.80e-01  -2.77e-03  -2.67e-03     0\n",
      "5     8.77e-01    1.11e-04   8.77e-01  -2.87e-03  -2.76e-03     0\n",
      "6     8.74e-01    1.22e-04   8.74e-01  -2.97e-03  -2.85e-03     0\n",
      "7     8.71e-01    1.34e-04   8.71e-01  -3.06e-03  -2.93e-03     0\n",
      "8     8.67e-01    1.48e-04   8.67e-01  -3.15e-03  -3.01e-03     0\n",
      "9     8.64e-01    1.63e-04   8.64e-01  -3.24e-03  -3.07e-03     0\n",
      "10    8.61e-01    1.81e-04   8.61e-01  -3.31e-03  -3.13e-03     0\n",
      "11    8.57e-01    2.02e-04   8.58e-01  -3.37e-03  -3.16e-03     0\n",
      "12    8.54e-01    2.25e-04   8.54e-01  -3.41e-03  -3.18e-03     0\n",
      "13    8.51e-01    2.52e-04   8.51e-01  -3.42e-03  -3.17e-03     1\n",
      "14    8.47e-01    2.84e-04   8.47e-01  -3.41e-03  -3.13e-03     1\n",
      "15    8.44e-01    3.19e-04   8.44e-01  -3.37e-03  -3.05e-03     1\n",
      "16    8.41e-01    3.60e-04   8.41e-01  -3.28e-03  -2.92e-03     1\n",
      "17    8.37e-01    4.08e-04   8.38e-01  -3.15e-03  -2.74e-03     1\n",
      "18    8.34e-01    4.61e-04   8.35e-01  -2.96e-03  -2.50e-03     1\n",
      "19    8.32e-01    5.22e-04   8.32e-01  -2.72e-03  -2.19e-03     1\n",
      "20    8.29e-01    5.91e-04   8.30e-01  -2.40e-03  -1.81e-03     1\n",
      "21    8.27e-01    6.67e-04   8.28e-01  -2.01e-03  -1.34e-03     1\n",
      "22    8.26e-01    7.50e-04   8.27e-01  -1.54e-03  -7.93e-04     1\n",
      "23    8.25e-01    8.38e-04   8.26e-01  -1.00e-03  -1.66e-04     1\n",
      "24    8.24e-01    9.29e-04   8.25e-01  -3.99e-04   5.30e-04     1 *\n",
      "25    8.25e-01    1.02e-03   8.26e-01   2.61e-04   1.28e-03     1 **\n"
     ]
    },
    {
     "name": "stderr",
     "output_type": "stream",
     "text": [
      "WARNING:matplotlib.legend:No handles with labels found to put in legend.\n"
     ]
    },
    {
     "data": {
      "image/png": "[encoded data removed]",
      "text/plain": [
       "<Figure size 288x360 with 2 Axes>"
      ]
     },
     "metadata": {
      "needs_background": "light"
     },
     "output_type": "display_data"
    }
   ],
   "source": [
    "omega=1\n",
    "ampl0=0.000001\n",
    "#T=8\n",
    "mu=0.5\n",
    "g=0.2*omega\n",
    "#ampl0=1\n",
    "T=15\n",
    "nt=100\n",
    "tlist = np.linspace(0,T, nt)\n",
    "gamma=1/1000\n",
    "Temp=0\n",
    "\n",
    "#Nb=0\n",
    "def hamiltonian(omega, ampl0, mu,g,gamma,Nb):\n",
    "      \"\"\"Two-level-system Hamiltonian\n",
    "\n",
    "      Args:\n",
    "          omega (float): energy separation of the qubit levels\n",
    "          ampl0 (float): constant amplitude of the driving field\n",
    "      \"\"\"\n",
    "      HA = qutip.Qobj(H0(g,gamma,Nb))\n",
    "      H1= qutip.Qobj(He(mu))\n",
    "      def guess_control(t, args):\n",
    "          return ampl0*krotov.shapes.flattop(\n",
    "              t, t_start=0, t_stop=T, t_rise=0.005, func=\"blackman\"\n",
    "          )\n",
    "      def guess_control2(t, args):\n",
    "          return ampl0*krotov.shapes.flattop(\n",
    "              t, t_start=0, t_stop=T, t_rise=0.005, func=\"blackman\"\n",
    "          )\n",
    "      \n",
    "      return [HA, [H1, guess_control]]\n",
    "def S(t):\n",
    "    \"\"\"Shape function for the field update\"\"\"\n",
    "    return krotov.shapes.flattop(\n",
    "        t, t_start=0, t_stop=T, t_rise=0.05 * T, t_fall=0.05 * T, func='sinsq'\n",
    "    )\n",
    "def plot_iterations(opt_result):\n",
    "    \"\"\"Plot the control fields in population dynamics over all iterations.\n",
    "\n",
    "    This depends on ``store_all_pulses=True`` in the call to\n",
    "    `optimize_pulses`.\n",
    "    \"\"\"\n",
    "\n",
    "    fig, [ax_ctr,ax] = plt.subplots(nrows=2, figsize=(4, 5))\n",
    "    n_iters = len(opt_result.iters)\n",
    "    EEnergy=np.zeros(nt)\n",
    "    for (iteration, pulses) in zip(opt_result.iters, opt_result.all_pulses):\n",
    "        controls = [\n",
    "            krotov.conversions.pulse_onto_tlist(pulse)\n",
    "            for pulse in pulses\n",
    "        ]\n",
    "        objectives = opt_result.objectives_with_controls(controls)\n",
    "        dynamics = objectives[0].mesolve(\n",
    "            opt_result.tlist, e_ops=[]\n",
    "        )\n",
    "        if iteration == 0:\n",
    "            ls = '--'  # dashed\n",
    "            alpha = 1  # full opacity\n",
    "            ctr_label = 'guess'\n",
    "            pop_labels = ['0 (guess)', '1 (guess)']\n",
    "        elif iteration == opt_result.iters[-1]:\n",
    "            ls = '-'  # solid\n",
    "            alpha = 1  # full opacity\n",
    "            ctr_label = 'optimized'\n",
    "            pop_labels = ['0 (optimized)', '1 (optimized)']\n",
    "        else:\n",
    "            ls = '-'  # solid\n",
    "            alpha = 0.5 * float(iteration) / float(n_iters)  # max 50%\n",
    "            ctr_label = None\n",
    "            pop_labels = [None, None]\n",
    "        ax_ctr.plot(\n",
    "            dynamics.times,\n",
    "            controls[0],\n",
    "            label=ctr_label,\n",
    "            color='black',\n",
    "            ls=ls,\n",
    "            alpha=alpha,\n",
    "        )\n",
    "    EField=np.transpose(np.array(opt_result.optimized_controls))\n",
    "    EEnergy[0]=(np.square(EField[0]))*(T/nt)\n",
    "    a=0\n",
    "    for i in range (1,nt):\n",
    "      a+=np.square(EField[i-1])\n",
    "      EEnergy[i]=(np.square(EField[i])+a)*(T/nt)\n",
    "      \n",
    "    \n",
    "    ax.plot(tlist,np.transpose(EEnergy))\n",
    "    plt.legend()\n",
    "    plt.show(fig)\n",
    "    \n",
    " \n",
    "    \n",
    "#Nb=1/(np.exp(omega/Temp)-1)\n",
    "Nb=0\n",
    "H = hamiltonian(omega,ampl0,mu,g,gamma,Nb)\n",
    "pulse_options = {\n",
    "        H[1][1]: dict(lambda_a=0.1, update_shape=S), \n",
    "    }\n",
    "    #target=np.array([1,0, np.sqrt(2),0,np.sqrt(2),1/2,0,0,0,1/2,0,0,1/2,0,1/2])\n",
    "\n",
    "target=np.array([1,0, np.sqrt(2),0,np.sqrt(2),1/2,0,0,0,1/2,0,0,1/2,0,1/2])\n",
    "\n",
    "#r2=np.pi/4\n",
    "#theta=np.pi/2\n",
    "\n",
    "#target=qutip.Qobj(np.array([1,0,0,0,0,1/2*np.cosh(2*r2),0,-1/2*np.sinh(2*r2)*np.cos(theta),-1/2*np.sinh(2*r2)*np.sin(theta),1/2*np.cosh(2*r2),-1/2*np.sinh(2*r2)*np.sin(theta),1/2*np.sinh(2*r2)*np.cos(theta),1/2*np.cosh(2*r2),0,1/2*np.cosh(2*r2)])) \n",
    "\n",
    "r=np.pi/4\n",
    "r2=np.pi/8\n",
    "theta=np.pi/4\n",
    "\n",
    "objectives = [krotov.Objective(\n",
    "    #initial_state=qutip.Qobj(np.array([1,0,0,0,0,1/2,0,0,0,1/2,0,0,1/2,0,1/2])),\n",
    "            initial_state=qutip.Qobj(np.array([1,0,0,0,0,1/2*np.cosh(2*r2),0,-1/2*np.sinh(2*r2)*np.cos(theta),-1/2*np.sinh(2*r2)*np.sin(theta),1/2*np.cosh(2*r2),-1/2*np.sinh(2*r2)*np.sin(theta),1/2*np.sinh(2*r2)*np.cos(theta),1/2*np.cosh(2*r2),0,1/2*np.cosh(2*r2)])),\n",
    "    target=qutip.Qobj(target), H=H\n",
    "          )\n",
    "      ]\n",
    "\n",
    "opt_result = krotov.optimize_pulses(\n",
    "      objectives,\n",
    "      pulse_options=pulse_options,\n",
    "      tlist=tlist,\n",
    "      fieldcoupling=mu,\n",
    "      propagator=krotov.propagators.expm,\n",
    "      chi_constructor=krotov.functionals.chis_ss,\n",
    "      info_hook=krotov.info_hooks.print_table(J_T=krotov.functionals.J_T_ss),\n",
    "      check_convergence=krotov.convergence.Or(\n",
    "          krotov.convergence.value_below('9e-4', name='J_T'),\n",
    "          krotov.convergence.check_monotonic_error,\n",
    "      ),\n",
    "        iter_stop=30,\n",
    "        store_all_pulses=True,\n",
    "        overlap=inte,norm=lambda x: 1\n",
    "    )\n",
    "\n",
    "plot_iterations(opt_result)\n",
    "\n",
    "    \n",
    "\n",
    "    \n",
    "   \n",
    "    "
   ]
  },
  {
   "cell_type": "code",
   "execution_count": 6,
   "metadata": {},
   "outputs": [
    {
     "data": {
      "text/latex": [
       "Quantum object: dims = [[15], [1]], shape = (15, 1), type = ket\\begin{equation*}\\left(\\begin{array}{*{11}c}1.0\\\\-0.027\\\\0.496\\\\-0.250\\\\-0.232\\\\\\vdots\\\\3.403\\times10^{-07}\\\\0.0\\\\0.500\\\\0.0\\\\0.500\\\\\\end{array}\\right)\\end{equation*}"
      ],
      "text/plain": [
       "Quantum object: dims = [[15], [1]], shape = (15, 1), type = ket\n",
       "Qobj data =\n",
       "[[ 1.00000000e+00]\n",
       " [-2.72259372e-02]\n",
       " [ 4.95676396e-01]\n",
       " [-2.49730196e-01]\n",
       " [-2.31814000e-01]\n",
       " [ 4.99951318e-01]\n",
       " [ 0.00000000e+00]\n",
       " [ 0.00000000e+00]\n",
       " [-3.40293074e-07]\n",
       " [ 4.99946544e-01]\n",
       " [ 3.40293072e-07]\n",
       " [ 0.00000000e+00]\n",
       " [ 4.99951318e-01]\n",
       " [ 0.00000000e+00]\n",
       " [ 4.99946544e-01]]"
      ]
     },
     "execution_count": 6,
     "metadata": {},
     "output_type": "execute_result"
    }
   ],
   "source": [
    "opt_result.states[0][0]"
   ]
  },
  {
   "cell_type": "code",
   "execution_count": 34,
   "metadata": {
    "scrolled": true
   },
   "outputs": [
    {
     "name": "stdout",
     "output_type": "stream",
     "text": [
      "(1+0j)\n",
      "(0.9998236878688582+0j)\n",
      "(0.9996474645346438+0j)\n",
      "(0.9994713297735056+0j)\n",
      "(0.9992952832567578+0j)\n",
      "(0.9991193245520735+0j)\n",
      "(0.998943453125058+0j)\n",
      "(0.9987676683411918+0j)\n",
      "(0.9985919694681453+0j)\n",
      "(0.9984163556784448+0j)\n",
      "(0.9982408260524883+0j)\n",
      "(0.9980653795818987+0j)\n",
      "(0.9978900151731931+0j)\n",
      "(0.9977147316517699+0j)\n",
      "(0.9975395277661854+0j)\n",
      "(0.9973644021927085+0j)\n",
      "(0.9971893535401383+0j)\n",
      "(0.9970143803548661+0j)\n",
      "(0.9968394811261602+0j)\n",
      "(0.9966646542916567+0j)\n",
      "(0.9964898982430359+0j)\n",
      "(0.996315211331862+0j)\n",
      "(0.996140591875564+0j)\n",
      "(0.99596603816354+0j)\n",
      "(0.9957915484633562+0j)\n",
      "(0.9956171210270213+0j)\n",
      "(0.995442754097315+0j)\n",
      "(0.995268445914143+0j)\n",
      "(0.9950941947208967+0j)\n",
      "(0.9949199987707978+0j)\n",
      "(0.9947458563331988+0j)\n",
      "(0.9945717656998191+0j)\n",
      "(0.9943977251908962+0j)\n",
      "(0.9942237331612241+0j)\n",
      "(0.9940497880060627+0j)\n",
      "(0.993875888166891+0j)\n",
      "(0.9937020321369878+0j)\n",
      "(0.9935282184668178+0j)\n",
      "(0.9933544457692012+0j)\n",
      "(0.9931807127242525+0j)\n",
      "(0.9930070180840662+0j)\n",
      "(0.9928333606771368+0j)\n",
      "(0.9926597394124923+0j)\n",
      "(0.99248615328353+0j)\n",
      "(0.9923126013715386+0j)\n",
      "(0.992139082848896+0j)\n",
      "(0.9919655969819282+0j)\n",
      "(0.9917921431334241+0j)\n",
      "(0.9916187207647896+0j)\n",
      "(0.9914453294378431+0j)\n",
      "(0.9912719688162364+0j)\n",
      "(0.9910986386665037+0j)\n",
      "(0.99092533885873+0j)\n",
      "(0.9907520693668417+0j)\n",
      "(0.9905788302685119+0j)\n",
      "(0.9904056217446882+0j)\n",
      "(0.9902324440787421+0j)\n",
      "(0.9900592976552385+0j)\n",
      "(0.9898861829583421+0j)\n",
      "(0.9897131005698533+0j)\n",
      "(0.9895400511668911+0j)\n",
      "(0.9893670355192268+0j)\n",
      "(0.9891940544862787+0j)\n",
      "(0.9890211090137854+0j)\n",
      "(0.9888482001301564+0j)\n",
      "(0.9886753289425327+0j)\n",
      "(0.9885024966325531+0j)\n",
      "(0.9883297044518563+0j)\n",
      "(0.988156953717327+0j)\n",
      "(0.9879842458061083+0j)\n",
      "(0.9878115821503968+0j)\n",
      "(0.9876389642320387+0j)\n",
      "(0.987466393576951+0j)\n",
      "(0.9872938717493847+0j)\n",
      "(0.9871214003460501+0j)\n",
      "(0.9869489809901327+0j)\n",
      "(0.9867766153252113+0j)\n",
      "(0.9866043050091128+0j)\n",
      "(0.9864320517077151+0j)\n",
      "(0.9862598570887272+0j)\n",
      "(0.9860877228154709+0j)\n",
      "(0.985915650540678+0j)\n",
      "(0.9857436419003385+0j)\n",
      "(0.9855716985076104+0j)\n",
      "(0.9853998219468211+0j)\n",
      "(0.9852280137675797+0j)\n",
      "(0.9850562754790204+0j)\n",
      "(0.9848846085442012+0j)\n",
      "(0.9847130143746753+0j)\n",
      "(0.9845414943252572+0j)\n",
      "(0.9843700496890001+0j)\n",
      "(0.9841986816924057+0j)\n",
      "(0.9840273914908821+0j)\n",
      "(0.9838561801644663+0j)\n",
      "(0.9836850487138263+0j)\n",
      "(0.9835139980565595+0j)\n",
      "(0.9833430290237974+0j)\n",
      "(0.9831721423571322+0j)\n",
      "(0.9830013387058731+0j)\n",
      "(0.9828306186246455+0j)\n"
     ]
    }
   ],
   "source": [
    "for i in range(0,nt):\n",
    "    a=opt_result.states[0][i]\n",
    "    A=np.array([[a[5,0],a[6,0],a[7,0],a[8,0]],[a[6,0],a[9,0],a[10,0],a[11,0]],[a[7,0],a[10,0],a[12,0],a[13,0]],[a[8,0],a[11,0],a[13,0],a[14,0]]])\n",
    "    print(1/(np.sqrt(np.linalg.det(2*A))))"
   ]
  },
  {
   "cell_type": "code",
   "execution_count": 4,
   "metadata": {},
   "outputs": [
    {
     "data": {
      "image/png": "[encoded data removed]",
      "text/plain": [
       "<Figure size 432x288 with 1 Axes>"
      ]
     },
     "metadata": {
      "needs_background": "light"
     },
     "output_type": "display_data"
    },
    {
     "name": "stdout",
     "output_type": "stream",
     "text": [
      "0.9324641559612569\n"
     ]
    }
   ],
   "source": [
    "psi=opt_result.states[0]\n",
    "Energy=np.zeros(nt)\n",
    "Ergotropy=np.zeros(nt)\n",
    "for i in range (0,nt):\n",
    "    Energy[i]=1/2*(np.real(psi[i][5])+np.real(psi[i][14])+(np.real(psi[i][2]))**2+(np.real(psi[i][4]))**2)-1/2\n",
    "    D=np.real((1+2*np.real(Energy[i])-np.abs(np.real(psi[i][2])+1j*np.real(psi[i][4]))**2)**2-4*np.abs(1/2*(np.real(psi[i][9])+np.real(psi[i][2])**2-(np.real(psi[i][14])+np.real(psi[i][4])**2)+1j*2*(np.real(psi[i][11])+np.real(psi[i][2])*np.real(psi[i][4])))-1/2*(np.real(psi[i][2])+1j*np.real(psi[i][4]))**2)**2)\n",
    "    Ergotropy[i]=np.real(Energy[i]-(np.sqrt(D)-1)/2)\n",
    "plt.plot(opt_result.tlist,Energy,label=\"Energy\")\n",
    "plt.plot(opt_result.tlist,Ergotropy,label=\"Ergotropy\")\n",
    "plt.legend()\n",
    "\n",
    "plt.show()\n",
    "\n",
    "print(Ergotropy[nt-1]/Energy[nt-1])"
   ]
  },
  {
   "cell_type": "code",
   "execution_count": 16,
   "metadata": {},
   "outputs": [
    {
     "name": "stdout",
     "output_type": "stream",
     "text": [
      "[[0.25+0.j]]\n",
      "[[0.25005626+0.j]]\n",
      "[[0.25044607+0.j]]\n",
      "[[0.25148438+0.j]]\n",
      "[[0.25345197+0.j]]\n",
      "[[0.25658303+0.j]]\n",
      "[[0.26105546+0.j]]\n",
      "[[0.26698322+0.j]]\n",
      "[[0.27441031+0.j]]\n",
      "[[0.28330645+0.j]]\n",
      "[[0.2935645+0.j]]\n",
      "[[0.30500081+0.j]]\n",
      "[[0.3173594+0.j]]\n",
      "[[0.33032107+0.j]]\n",
      "[[0.34351806+0.j]]\n",
      "[[0.35655433+0.j]]\n",
      "[[0.36903038+0.j]]\n",
      "[[0.38057086+0.j]]\n",
      "[[0.39085259+0.j]]\n",
      "[[0.39962996+0.j]]\n",
      "[[0.40675501+0.j]]\n",
      "[[0.41219009+0.j]]\n",
      "[[0.41601149+0.j]]\n",
      "[[0.418404+0.j]]\n",
      "[[0.41964711+0.j]]\n",
      "[[0.42009471+0.j]]\n",
      "[[0.4201504+0.j]]\n",
      "[[0.4202412+0.j]]\n",
      "[[0.42079165+0.j]]\n",
      "[[0.42220025+0.j]]\n",
      "[[0.42481904+0.j]]\n",
      "[[0.42893703+0.j]]\n",
      "[[0.43476703+0.j]]\n",
      "[[0.44243586+0.j]]\n",
      "[[0.45197737+0.j]]\n",
      "[[0.46332854+0.j]]\n",
      "[[0.47632888+0.j]]\n",
      "[[0.49072399+0.j]]\n",
      "[[0.50617409+0.j]]\n",
      "[[0.52226838+0.j]]\n",
      "[[0.53854535+0.j]]\n",
      "[[0.55451883+0.j]]\n",
      "[[0.56970822+0.j]]\n",
      "[[0.58367095+0.j]]\n",
      "[[0.59603422+0.j]]\n",
      "[[0.60652312+0.j]]\n",
      "[[0.61498211+0.j]]\n",
      "[[0.62138777+0.j]]\n",
      "[[0.62585132+0.j]]\n",
      "[[0.62861098+0.j]]\n",
      "[[0.63001498+0.j]]\n",
      "[[0.63049728+0.j]]\n",
      "[[0.6305484+0.j]]\n",
      "[[0.63068426+0.j]]\n",
      "[[0.63141523+0.j]]\n",
      "[[0.63321765+0.j]]\n",
      "[[0.63650901+0.j]]\n",
      "[[0.64162733+0.j]]\n",
      "[[0.64881511+0.j]]\n",
      "[[0.65820749+0.j]]\n",
      "[[0.66982468+0.j]]\n",
      "[[0.68356874+0.j]]\n",
      "[[0.69922502+0.j]]\n",
      "[[0.716469+0.j]]\n",
      "[[0.73487918+0.j]]\n",
      "[[0.75395648+0.j]]\n",
      "[[0.77315008+0.j]]\n",
      "[[0.79188889+0.j]]\n",
      "[[0.80961693+0.j]]\n",
      "[[0.82583024+0.j]]\n",
      "[[0.84011204+0.j]]\n",
      "[[0.85216321+0.j]]\n",
      "[[0.86182489+0.j]]\n",
      "[[0.86909105+0.j]]\n",
      "[[0.87410981+0.j]]\n",
      "[[0.87717339+0.j]]\n",
      "[[0.878698+0.j]]\n",
      "[[0.87919562+0.j]]\n",
      "[[0.87924046+0.j]]\n",
      "[[0.87943301+0.j]]\n",
      "[[0.88036446+0.j]]\n",
      "[[0.88258355+0.j]]\n",
      "[[0.8865675+0.j]]\n",
      "[[0.89269787+0.j]]\n",
      "[[0.90124178+0.j]]\n",
      "[[0.91233848+0.j]]\n",
      "[[0.92599135+0.j]]\n",
      "[[0.94206555+0.j]]\n",
      "[[0.96029166+0.j]]\n",
      "[[0.98027584+0.j]]\n",
      "[[1.00151701+0.j]]\n",
      "[[1.0234312+0.j]]\n",
      "[[1.04538261+0.j]]\n",
      "[[1.06672037+0.j]]\n",
      "[[1.08681869+0.j]]\n",
      "[[1.10511782+0.j]]\n",
      "[[1.1211624+0.j]]\n",
      "[[1.13463393+0.j]]\n",
      "[[1.14537418+0.j]]\n",
      "[[1.15339748+0.j]]\n"
     ]
    }
   ],
   "source": [
    "for i in range(0,nt):\n",
    "    print(opt_result.states[0][i][9]*opt_result.states[0][i][14])"
   ]
  },
  {
   "cell_type": "code",
   "execution_count": 26,
   "metadata": {},
   "outputs": [],
   "source": [
    "omega=1\n",
    "ampl0=0.00001\n",
    "#T=8\n",
    "mu=0.05\n",
    "g=0.2*omega\n",
    "#ampl0=1\n",
    "T=60\n",
    "nt=100000\n",
    "tlist = np.linspace(0,T, nt)\n",
    "gamma=1/500\n",
    "Temp=10\n",
    "Nb=1/(np.exp(omega/Temp)-1)\n",
    "H = hamiltonian(omega,ampl0,mu,g,gamma,Nb)"
   ]
  },
  {
   "cell_type": "code",
   "execution_count": 6,
   "metadata": {},
   "outputs": [
    {
     "name": "stdout",
     "output_type": "stream",
     "text": [
      "(0.9126174682612764+0j)\n",
      "[ 1.        +0.j  0.29398224+0.j  2.00069454+0.j  0.56559684+0.j\n",
      "  0.33394542+0.j  0.43570454+0.j -0.73910825+0.j -0.10254632+0.j\n",
      " -0.27778806+0.j  1.94794871+0.j -0.27650899+0.j  0.46844397+0.j\n",
      "  2.09457873+0.j  0.73910825+0.j  0.56133335+0.j]\n",
      "[ 1.00000000e+00+0.j -4.16333634e-17+0.j  1.41421356e+00+0.j\n",
      "  4.85722573e-17+0.j  1.41421356e+00+0.j  1.25458924e+00+0.j\n",
      " -6.93889390e-18+0.j -8.13632030e-01+0.j -8.13632030e-01+0.j\n",
      "  1.25458924e+00+0.j -8.13632030e-01+0.j  8.13632030e-01+0.j\n",
      "  1.25458924e+00+0.j  1.52655666e-16+0.j  1.25458924e+00+0.j]\n",
      "(1.2913781313423702+0j)\n",
      "(1.531002684419479+0j)\n"
     ]
    }
   ],
   "source": [
    "HH=H[0]+H[1][0]*2\n",
    "initial=qutip.Qobj(target)\n",
    "t=np.linspace(0,T,nt)\n",
    "dt=t[1]-t[0]\n",
    "psi=(-1*HH*dt).expm()*target\n",
    "phi=(1*HH*dt).expm()*psi\n",
    "print(psi[12]*psi[5])\n",
    "print(psi)\n",
    "print(phi)\n",
    "a=psi-phi\n",
    "phi=(1*HH.dag()*dt).expm()*psi\n",
    "b=psi-phi\n",
    "print(phi[9]*phi[14])\n",
    "print(phi[12]*phi[5])\n"
   ]
  },
  {
   "cell_type": "code",
   "execution_count": 28,
   "metadata": {},
   "outputs": [
    {
     "name": "stdout",
     "output_type": "stream",
     "text": [
      "[ 0.00000000e+00+0.j  1.69630874e-04+0.j  8.48276911e-04+0.j\n",
      " -8.49554365e-05+0.j -8.48801314e-04+0.j -1.16113553e-03+0.j\n",
      " -9.76367292e-04+0.j  1.79652406e-06+0.j  1.09681300e-06+0.j\n",
      "  7.81094526e-04+0.j  1.09807356e-06+0.j -3.51496130e-07+0.j\n",
      "  1.18214470e-03+0.j  9.76367292e-04+0.j -7.81094526e-04+0.j]\n",
      "[ 3.01213805e-05+0.j -1.69452697e-04+0.j -8.47752168e-04+0.j\n",
      "  1.70012718e-04+0.j  8.49330474e-04+0.j  5.84315076e-04+0.j\n",
      "  9.76366833e-04+0.j -2.89008763e-06+0.j -1.38375865e-06+0.j\n",
      " -3.90546709e-04+0.j -1.38916224e-06+0.j  1.99181084e-06+0.j\n",
      " -5.87326147e-04+0.j -9.76366833e-04+0.j  3.90546709e-04+0.j]\n"
     ]
    }
   ],
   "source": [
    "print(a)\n",
    "print(b)"
   ]
  },
  {
   "cell_type": "code",
   "execution_count": 4,
   "metadata": {},
   "outputs": [
    {
     "data": {
      "text/plain": [
       "array([[0.17241739+0.j]])"
      ]
     },
     "execution_count": 4,
     "metadata": {},
     "output_type": "execute_result"
    }
   ],
   "source": [
    "opt_result.states[0][nt-1][12]*opt_result.states[0][nt-1][5]"
   ]
  },
  {
   "cell_type": "code",
   "execution_count": 9,
   "metadata": {},
   "outputs": [],
   "source": [
    "z=qutip.Qobj([[  1.        ],\n",
    " [ -3.09624997],\n",
    " [  0.19202116],\n",
    " [ -1.15436765],\n",
    " [ -0.49805424],\n",
    " [-11.12673451],\n",
    " [  0.        ],\n",
    " [  0.        ],\n",
    " [ -8.5370321 ],\n",
    " [ -8.50412931],\n",
    " [  8.5370321 ],\n",
    " [  0.        ],\n",
    " [-11.12673451],\n",
    " [  0.        ]])"
   ]
  },
  {
   "cell_type": "code",
   "execution_count": 4,
   "metadata": {},
   "outputs": [
    {
     "data": {
      "text/plain": [
       "Krotov Optimization Result\n",
       "--------------------------\n",
       "- Started at 2022-03-24 12:07:08\n",
       "- Number of objectives: 1\n",
       "- Number of iterations: 2\n",
       "- Reason for termination: Reached convergence: Loss of monotonic convergence; error decrease < 0\n",
       "- Ended at 2022-03-24 12:07:09 (0:00:01)"
      ]
     },
     "execution_count": 4,
     "metadata": {},
     "output_type": "execute_result"
    }
   ],
   "source": [
    "opt_result"
   ]
  },
  {
   "cell_type": "code",
   "execution_count": 24,
   "metadata": {},
   "outputs": [
    {
     "data": {
      "text/plain": [
       "(-14.27418456212974+0j)"
      ]
     },
     "execution_count": 24,
     "metadata": {},
     "output_type": "execute_result"
    }
   ],
   "source": [
    "np.sqrt(z[5,0]-z[1,0]**2)*np.sqrt(z[9,0]-z[3,0]**2)"
   ]
  },
  {
   "cell_type": "code",
   "execution_count": 26,
   "metadata": {},
   "outputs": [],
   "source": [
    "z=qutip.Qobj([[  1.        ],\n",
    " [ -3.09624997],\n",
    " [  0.19202116],\n",
    " [ -1.15436765],\n",
    " [ -0.49805424],\n",
    " [-11.12673451],\n",
    " [  0.        ],\n",
    " [  0.        ],\n",
    " [ -8.5370321 ],\n",
    " [ -8.50412931],\n",
    " [  8.5370321 ],\n",
    " [  0.        ],\n",
    " [-11.12673451],\n",
    " [  0.        ],\n",
    " [ -8.50412931]])"
   ]
  },
  {
   "cell_type": "code",
   "execution_count": 27,
   "metadata": {},
   "outputs": [
    {
     "data": {
      "text/plain": [
       "(-14.27418456212974+0j)"
      ]
     },
     "execution_count": 27,
     "metadata": {},
     "output_type": "execute_result"
    }
   ],
   "source": [
    "np.sqrt(z[5,0]-z[1,0]**2)*np.sqrt(z[9,0]-z[3,0]**2)"
   ]
  },
  {
   "cell_type": "code",
   "execution_count": null,
   "metadata": {},
   "outputs": [],
   "source": []
  },
  {
   "cell_type": "code",
   "execution_count": null,
   "metadata": {},
   "outputs": [],
   "source": []
  },
  {
   "cell_type": "code",
   "execution_count": 16,
   "metadata": {},
   "outputs": [
    {
     "name": "stderr",
     "output_type": "stream",
     "text": [
      "C:\\Users\\ricar\\anaconda3\\lib\\site-packages\\numpy\\ma\\core.py:2825: VisibleDeprecationWarning: Creating an ndarray from ragged nested sequences (which is a list-or-tuple of lists-or-tuples-or ndarrays with different lengths or shapes) is deprecated. If you meant to do this, you must specify 'dtype=object' when creating the ndarray.\n",
      "  _data = np.array(data, dtype=dtype, copy=copy,\n"
     ]
    },
    {
     "name": "stdout",
     "output_type": "stream",
     "text": [
      "[array([[0.01092862]]), 0.0] [array([[-0.0039153]]), 0.0]\n"
     ]
    },
    {
     "data": {
      "image/png": "[encoded data removed]",
      "text/plain": [
       "<Figure size 720x720 with 2 Axes>"
      ]
     },
     "metadata": {
      "needs_background": "light"
     },
     "output_type": "display_data"
    }
   ],
   "source": [
    "psi=opt_result.states[0]\n",
    "circle1=plt.Circle((1/np.sqrt(2)*np.real(psi[nt-1][2]), 1/np.sqrt(2)*np.real(psi[nt-1][4])), 0.25, color='r')\n",
    "circle2=plt.Circle((1/np.sqrt(2)*target[2], 1/np.sqrt(2)*target[4]), 0.25, color='b')\n",
    "\n",
    "fig, ax = plt.subplots(2,figsize=(10,10)) \n",
    "\n",
    "x=[1/np.sqrt(2)*np.real(psi[nt-1][2]),1/np.sqrt(2)*target[2]]\n",
    "y=[1/np.sqrt(2)*np.real(psi[nt-1][4]),1/np.sqrt(2)*target[4]]\n",
    "\n",
    "\n",
    "\n",
    "ax[0].scatter(x,y)\n",
    "ax[0].add_patch(circle1)\n",
    "ax[0].add_patch(circle2)\n",
    "#ax[0].set_ylim([-1, 2.5])\n",
    "#ax[0].set_xlim([-1, 2.5])\n",
    "\n",
    "\n",
    "\n",
    "x=[1/np.sqrt(2)*np.real(psi[nt-1][1]),1/np.sqrt(2)*target[1]]\n",
    "y=[1/np.sqrt(2)*np.real(psi[nt-1][3]),1/np.sqrt(2)*target[3]]\n",
    "\n",
    "print(x,y)\n",
    "\n",
    "\n",
    "circle3=plt.Circle((1/np.sqrt(2)*np.real(psi[nt-1][1]), 1/np.sqrt(2)*np.real(psi[nt-1][3])), 0.25, color='r')\n",
    "circle4=plt.Circle((1/np.sqrt(2)*target[1], 1/np.sqrt(2)*target[3]), 0.25, color='b')\n",
    "\n",
    "ax[1].scatter(x,y)\n",
    "ax[1].add_patch(circle3)\n",
    "ax[1].add_patch(circle4)\n",
    "ax[1].set_ylim([-1, 1])\n",
    "ax[1].set_xlim([-1, 1])\n",
    "plt.show()"
   ]
  },
  {
   "cell_type": "markdown",
   "metadata": {},
   "source": [
    "Function to get the states at each t for optimized field"
   ]
  },
  {
   "cell_type": "code",
   "execution_count": 3,
   "metadata": {},
   "outputs": [
    {
     "name": "stdout",
     "output_type": "stream",
     "text": [
      "0j\n"
     ]
    },
    {
     "data": {
      "text/plain": [
       "(0.028582178201868143+0j)"
      ]
     },
     "execution_count": 3,
     "metadata": {},
     "output_type": "execute_result"
    }
   ],
   "source": [
    "integral(qutip.Qobj(np.array([1,0,0,0,0,1/2,0,0,0,1/2,0,0,1/2,0,1/2])),qutip.Qobj(np.array([1,0,0,0,0,1/2,0,0,0,1/2,0,0,1/2,0,1/2])))"
   ]
  },
  {
   "cell_type": "code",
   "execution_count": null,
   "metadata": {},
   "outputs": [],
   "source": []
  }
 ],
 "metadata": {
  "@webio": {
   "lastCommId": null,
   "lastKernelId": null
  },
  "colab": {
   "collapsed_sections": [],
   "name": "Non-dissipative, Time=pi/g, g=0.2*omega.ipynb",
   "provenance": []
  },
  "kernelspec": {
   "display_name": "Python 3",
   "language": "python",
   "name": "python3"
  },
  "language_info": {
   "codemirror_mode": {
    "name": "ipython",
    "version": 3
   },
   "file_extension": ".py",
   "mimetype": "text/x-python",
   "name": "python",
   "nbconvert_exporter": "python",
   "pygments_lexer": "ipython3",
   "version": "3.9.1"
  }
 },
 "nbformat": 4,
 "nbformat_minor": 1
}
